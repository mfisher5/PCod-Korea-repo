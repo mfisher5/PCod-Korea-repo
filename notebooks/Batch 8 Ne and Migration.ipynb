{
 "cells": [
  {
   "cell_type": "markdown",
   "metadata": {},
   "source": [
    "## Effective population size and migration\n",
    "\n",
    "Stacks batch 8\n",
    "\n",
    "<br>\n",
    "<br>\n",
    "This notebook calculates effective population size. \n",
    "\n",
    "This notebook also scales up observed migration from the samples to census population size based on biomass data. (To be acquired)\n",
    "\n",
    "<br>\n",
    "This includes:\n",
    "\n",
    "1. Use of Ne Estimator v2.01 to calculate effective population size for each sampling site\n",
    "2. \n",
    "\n",
    "\n",
    "<br>\n",
    "<br>\n",
    "### Ne Estimator\n",
    "\n",
    "I downloaded the [Ne estimator v2](http://onlinelibrary.wiley.com/doi/10.1111/1755-0998.12157/pdf) program from [here](http://www.molecularfisherieslaboratory.com.au/download-software/). Version 2 of the program can handle over 10,000 genetic markers, so is more suited to SNP data than v1.\n",
    "\n",
    "A bit about Ne Estimator, from the paper linked above: \n",
    "\n",
    "*[Ne Estimator v2] produces estimates of contemporary effective population size, using several different methods and a single input file...includes three single-sample estimators (updated versions of the linkage disequilibrium and heterozygote-excess methods, and a new method based on molecular coancestry), as well as the two-sample (moment-based temporal) method. New features include the following: (i) an improved method for accounting for missing data; (ii) options for screening out rare alleles; (iii) confidence intervals for all methods; (iv) the ability to analyse data sets with large numbers of genetic markers (10 000 or more); (v) options for batch processing large numbers of different data sets, which will facilitate cross-method comparisons using simulated data; and (vi) correction for temporal estimates when individuals sampled are not removed from the population (Plan I sampling). *\n",
    "<br>\n",
    "<br>\n",
    "** NOTE: I tried running the Java GUI, but it kept giving me an error about my input file** (even though when I used the \"INFO\" button the program appropriately determined # of loci, # of populations). I made sure that my input file matched their example input. So instead of using the GUI, I just used the command line executable (below).\n",
    "\n",
    "<br>\n",
    "<br>\n",
    "#### 1: \n",
    "Ne Estimator takes Genepop files as input. It automatically detects the file format. I used my genepop file `batch_8_filteredMAF_filteredLoci_filteredIndivids_filteredHWE_filteredRepsC.txt`\n",
    "\n",
    "--\n",
    "<br>\n",
    "#### 2:\n",
    "The program then asks: \n",
    "\n",
    "`Which method(s) to run?`\n",
    "<br>\n",
    "  `1 = Linkage Disequlibrium`\n",
    "  <br>\n",
    "  `2 = Heterozygote Excess`\n",
    "  <br>\n",
    " ` 4 = Molecular Coancestry`\n",
    " <br>\n",
    "  `8 = Temporal`\n",
    "  \n",
    "  --\n",
    "  \n",
    "#### 3: \n",
    "I chose `1 = Linkage Disequilibrium`, which runs using a random mating model. \n",
    "\n",
    "--\n",
    "\n",
    "#### 4: \n",
    "The results were output in a text file in the same folder as the executable, entitled `Hderetlif_icoLdereredLoci_filteredHWE_filteredRepsCLD.txt` "
   ]
  },
  {
   "cell_type": "markdown",
   "metadata": {},
   "source": [
    "<br>\n",
    "\n",
    "#### 11/21/2017\n",
    "\n",
    "So my Ne estimates are very low here - between 100 to 1000. One thing that I noticed about the output that may be causing this, are the large number of loci that are monomorphic within a single sampling site. To explore this a bit further, I'm going to use GENEPOP output to plot how many loci are monomorphic within each sampling site. \n",
    "\n",
    "### Number of Sites that are Monomorphic at any given locus"
   ]
  },
  {
   "cell_type": "code",
   "execution_count": 1,
   "metadata": {},
   "outputs": [
    {
     "data": {
      "text/plain": [
       "u'/mnt/hgfs/PCod-Korea-repo/notebooks'"
      ]
     },
     "execution_count": 1,
     "metadata": {},
     "output_type": "execute_result"
    }
   ],
   "source": [
    "pwd"
   ]
  },
  {
   "cell_type": "code",
   "execution_count": 2,
   "metadata": {},
   "outputs": [
    {
     "name": "stdout",
     "output_type": "stream",
     "text": [
      "/mnt/hgfs/PCod-Korea-repo\n"
     ]
    }
   ],
   "source": [
    "cd ../"
   ]
  },
  {
   "cell_type": "code",
   "execution_count": 8,
   "metadata": {
    "collapsed": true
   },
   "outputs": [],
   "source": [
    "infile = open(\"analyses/genepop/batch8/batch_8_filteredMAF_filteredIndivids30_filteredLoci_filteredHWE_filteredRepsC_INF.txt\", \"r\")\n",
    "\n",
    "loci_list = []\n",
    "n_pops_mono_by_locus = []\n",
    "n_pops = 9\n",
    "\n",
    "line = infile.readline()\n",
    "while not line.startswith(\"Tables of allelic frequencies for each locus:\"):\n",
    "    line = infile.readline()\n",
    "\n",
    "line = infile.readline() # blank line after table name\n",
    "while line:\n",
    "    if line.startswith(\" Locus:\"):\n",
    "        locus = line.strip().split()[1]\n",
    "        loci_list.append(locus)\n",
    "        line = infile.readline() # lines\n",
    "        line = infile.readline() # pop-alleles-genes header\n",
    "        line = infile.readline() # more lines\n",
    "        line = infile.readline() # alleles 1 - 2 header\n",
    "        n_mono = 0\n",
    "        for i in range(0,n_pops):\n",
    "            line = infile.readline()\n",
    "            freq1 = float(line.strip().split()[1])\n",
    "            freq2 = float(line.strip().split()[2])\n",
    "            if freq1 == 0.0 or freq2 == 0.0:\n",
    "                n_mono += 1\n",
    "        n_pops_mono_by_locus.append(n_mono)\n",
    "    line = infile.readline()\n",
    "infile.close()"
   ]
  },
  {
   "cell_type": "code",
   "execution_count": 11,
   "metadata": {},
   "outputs": [
    {
     "data": {
      "image/png": "[encoded data removed]",
      "text/plain": [
       "<matplotlib.figure.Figure at 0x7f04404eda10>"
      ]
     },
     "metadata": {},
     "output_type": "display_data"
    }
   ],
   "source": [
    "import numpy as np\n",
    "import matplotlib.pyplot as plt\n",
    "plt.hist(n_pops_mono_by_locus)\n",
    "plt.title(\"Number of Pops Monomorphic at Locus\")\n",
    "plt.xlabel(\"Number of Pops (out of 9)\")\n",
    "plt.ylabel(\"Number of Loci\")\n",
    "plt.show()"
   ]
  },
  {
   "cell_type": "code",
   "execution_count": 12,
   "metadata": {
    "collapsed": true
   },
   "outputs": [],
   "source": [
    "plt.close()"
   ]
  },
  {
   "cell_type": "code",
   "execution_count": 13,
   "metadata": {},
   "outputs": [
    {
     "name": "stdout",
     "output_type": "stream",
     "text": [
      "[0, 0, 0, 0, 0, 0, 7, 0, 0, 0]\n"
     ]
    }
   ],
   "source": [
    "# just to check against genepop file\n",
    "print n_pops_mono_by_locus[0:10]"
   ]
  },
  {
   "cell_type": "markdown",
   "metadata": {},
   "source": [
    "<br>\n",
    "<br>\n",
    "### How many loci are monomorphic in each site?\n",
    "\n"
   ]
  },
  {
   "cell_type": "code",
   "execution_count": 21,
   "metadata": {},
   "outputs": [],
   "source": [
    "infile = open(\"analyses/genepop/batch8/batch_8_filteredMAF_filteredIndivids30_filteredLoci_filteredHWE_filteredRepsC_INF.txt\", \"r\")\n",
    "\n",
    "loci_list = []\n",
    "pops = [\"poh\", \"ge15\", \"nam\", \"ys\", \"juk\", \"jb07\", \"jb08\", \"bor\", \"ge14\"]\n",
    "nloci_mono_by_site = {}\n",
    "\n",
    "line = infile.readline()\n",
    "while not line.startswith(\"Tables of allelic frequencies for each locus:\"):\n",
    "    line = infile.readline()\n",
    "\n",
    "line = infile.readline() # blank line after table name\n",
    "while line:\n",
    "    if line.startswith(\" Locus:\"):\n",
    "        locus = line.strip().split()[1]\n",
    "        loci_list.append(locus)\n",
    "        line = infile.readline() # lines\n",
    "        line = infile.readline() # pop-alleles-genes header\n",
    "        line = infile.readline() # more lines\n",
    "        line = infile.readline() # alleles 1 - 2 header\n",
    "        for i in range(0,len(pops)):\n",
    "            line = infile.readline()\n",
    "            freq1 = float(line.strip().split()[1])\n",
    "            freq2 = float(line.strip().split()[2])\n",
    "            if freq1 == 0.0 or freq2 == 0.0:\n",
    "                if pops[i] not in nloci_mono_by_site.keys():\n",
    "                    nloci_mono_by_site[pops[i]] = 1\n",
    "                else:\n",
    "                    count = nloci_mono_by_site[pops[i]]\n",
    "                    count += 1\n",
    "                    nloci_mono_by_site[pops[i]] = count\n",
    "    line = infile.readline()\n",
    "infile.close()"
   ]
  },
  {
   "cell_type": "code",
   "execution_count": 26,
   "metadata": {},
   "outputs": [
    {
     "name": "stdout",
     "output_type": "stream",
     "text": [
      "[541, 974, 1437, 996, 932, 1346, 1062, 973, 1067]\n"
     ]
    }
   ],
   "source": [
    "print nloci_mono_by_site.values()"
   ]
  },
  {
   "cell_type": "code",
   "execution_count": 29,
   "metadata": {},
   "outputs": [
    {
     "data": {
      "image/png": "[encoded data removed]",
      "text/plain": [
       "<matplotlib.figure.Figure at 0x7f041af99810>"
      ]
     },
     "metadata": {},
     "output_type": "display_data"
    }
   ],
   "source": [
    "import numpy as np\n",
    "import matplotlib.pyplot as plt\n",
    "plt.hist([float(i)/float(5405) for i in nloci_mono_by_site.values()], bins = np.arange(0.05, 0.35, 0.05))\n",
    "plt.title(\"Number of Loci Monomorphic in each Pop\")\n",
    "plt.xlabel(\"Number of Loci (out of 5405)\")\n",
    "plt.ylabel(\"Number of Pops\")\n",
    "plt.show()"
   ]
  },
  {
   "cell_type": "code",
   "execution_count": 30,
   "metadata": {
    "collapsed": true
   },
   "outputs": [],
   "source": [
    "plt.close()"
   ]
  },
  {
   "cell_type": "code",
   "execution_count": null,
   "metadata": {
    "collapsed": true
   },
   "outputs": [],
   "source": []
  }
 ],
 "metadata": {
  "kernelspec": {
   "display_name": "Python 2",
   "language": "python",
   "name": "python2"
  },
  "language_info": {
   "codemirror_mode": {
    "name": "ipython",
    "version": 2
   },
   "file_extension": ".py",
   "mimetype": "text/x-python",
   "name": "python",
   "nbconvert_exporter": "python",
   "pygments_lexer": "ipython2",
   "version": "2.7.13"
  }
 },
 "nbformat": 4,
 "nbformat_minor": 2
}
