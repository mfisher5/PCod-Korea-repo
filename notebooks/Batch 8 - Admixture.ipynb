{
 "cells": [
  {
   "cell_type": "markdown",
   "metadata": {},
   "source": [
    "## ADMIXTURE - batch 8\n",
    "\n",
    "\n",
    "<br>\n",
    "<br>\n",
    "#### 12/4/2017"
   ]
  },
  {
   "cell_type": "markdown",
   "metadata": {},
   "source": [
    "** Just getting organized...**\n",
    "\n",
    "The `.ped` and `.map` files need to be in the same directory"
   ]
  },
  {
   "cell_type": "code",
   "execution_count": 1,
   "metadata": {},
   "outputs": [
    {
     "name": "stdout",
     "output_type": "stream",
     "text": [
      "/mnt/hgfs/PCod-Korea-repo\n"
     ]
    }
   ],
   "source": [
    "cd ../"
   ]
  },
  {
   "cell_type": "code",
   "execution_count": 2,
   "metadata": {},
   "outputs": [
    {
     "name": "stdout",
     "output_type": "stream",
     "text": [
      "/mnt/hgfs/PCod-Korea-repo/analyses\n"
     ]
    }
   ],
   "source": [
    "cd analyses"
   ]
  },
  {
   "cell_type": "code",
   "execution_count": 3,
   "metadata": {
    "collapsed": true
   },
   "outputs": [],
   "source": [
    "!mkdir Admixture"
   ]
  },
  {
   "cell_type": "code",
   "execution_count": 4,
   "metadata": {
    "collapsed": true
   },
   "outputs": [],
   "source": [
    "!mv batch_8_filtered_Admixture_input.ped Admixture/batch_8_filtered_Admixture_input.ped"
   ]
  },
  {
   "cell_type": "code",
   "execution_count": null,
   "metadata": {
    "collapsed": true
   },
   "outputs": [],
   "source": [
    "!mv batch_8_filtered_Admixture_input.ped Admixture/batch_8_filtered_Admixture_input_nofam.ped"
   ]
  },
  {
   "cell_type": "code",
   "execution_count": 5,
   "metadata": {
    "collapsed": true
   },
   "outputs": [],
   "source": [
    "!mv batch_8_filtered_bowtieACod_filteredMQ10.map Admixture/batch_8_filtered_bowtieACod_filteredMQ10.map"
   ]
  },
  {
   "cell_type": "code",
   "execution_count": 6,
   "metadata": {},
   "outputs": [
    {
     "name": "stdout",
     "output_type": "stream",
     "text": [
      "/mnt/hgfs/PCod-Korea-repo/analyses/Admixture\n"
     ]
    }
   ],
   "source": [
    "cd Admixture"
   ]
  },
  {
   "cell_type": "code",
   "execution_count": 9,
   "metadata": {},
   "outputs": [
    {
     "name": "stdout",
     "output_type": "stream",
     "text": [
      "\u001b[0m\u001b[01;32mbatch_8_filtered_Admixture_input_nofam.ped\u001b[0m*\r\n",
      "\u001b[01;32mbatch_8_filtered_Admixture_input.ped\u001b[0m*\r\n",
      "\u001b[01;32mbatch_8_filtered_bowtieACod_filteredMQ10.map\u001b[0m*\r\n"
     ]
    }
   ],
   "source": [
    "ls"
   ]
  },
  {
   "cell_type": "markdown",
   "metadata": {},
   "source": [
    "**NOTE:** admixture is a linux / macos program. So when editing any input files in a windows text editor, make sure that the encoding is set to `ANSI`.\n",
    "\n",
    "\n",
    "\n",
    "<br>\n",
    "<br>\n",
    "### Running Admixture: options\n",
    "\n",
    "** cross-validation:** used to choose the value of K. The default will run K = 1-5, but you can also tell admixture to run K = 1-x by using the flag `--cv=x`. \n",
    "<br>\n",
    "*Note: you can then view the cross-validation results with* `grep -h CV log*.out`. *And plot K v. Cross-validation error*\n",
    "\n",
    "**Thinning the marker set for linkage disequilibrium:** there are two approaches here. you can only include markers that are separated from each other by a certain genetic distance, or you can \"thin\" the markers according to observed sample correlation coefficients. \n",
    "\n",
    "**Bootstrapping:** Admixture estimates parameter standard error using bootstrapping. You can get the bootstrapped standard errors with the `-B` flag. the default is 200 replicates; to ask for more, use the flag `-B2000`\n",
    "\n",
    "**Supervised learning:** According to the manual, \"Estimating P and Q from the SNP matrix G, without any additional information, can be viewed as an unsupervised learning problem. However it is not uncommon that some or all of the individuals in our data sample will have known ancestries, allowing us to set some rows in the matrix Q to known constants. This allows more accurate estimation of the ancestries of the remaining individuals, and of the ancestral allele frequencies. Viewing these reference individuals as training samples, the problem is transformed into a supervised\n",
    "learning problem.\" tbh I have no idea what that means, but it DOES say in this section \"that all reference samples have 100% ancestry from some ancestral population.\" I may play around with this to identify that different individuals come from different populations.  \n",
    "\n",
    "**Multithread mode:** Run Admixture faster on multiple threads using the flag `-jN 3`.\n",
    "\n",
    "**Penalized estimation:** for those with very small data sets or very large K values. I should be ok with just pure max likelihood estimation. \n",
    "\n",
    "<br>\n",
    "#### install admixture [here](https://www.genetics.ucla.edu/software/admixture/download.html)"
   ]
  },
  {
   "cell_type": "code",
   "execution_count": null,
   "metadata": {
    "collapsed": true
   },
   "outputs": [],
   "source": [
    "# installation\n",
    "cd Downloads\n",
    "tar xfvz admixture_linux-1.3.0.tar.gz\n",
    "\n",
    "# moved admixture folder into Pcod-Korea repo"
   ]
  },
  {
   "cell_type": "code",
   "execution_count": 10,
   "metadata": {
    "scrolled": true
   },
   "outputs": [
    {
     "data": {
      "text/plain": [
       "u'/mnt/hgfs/PCod-Korea-repo/analyses/Admixture'"
      ]
     },
     "execution_count": 10,
     "metadata": {},
     "output_type": "execute_result"
    }
   ],
   "source": [
    "pwd"
   ]
  },
  {
   "cell_type": "code",
   "execution_count": 12,
   "metadata": {
    "scrolled": true
   },
   "outputs": [
    {
     "name": "stdout",
     "output_type": "stream",
     "text": [
      "\u001b[0m\u001b[01;32madmixture\u001b[0m*\r\n",
      "\u001b[01;32madmixture32\u001b[0m*\r\n",
      "\u001b[01;32madmixture-manual.pdf\u001b[0m*\r\n",
      "\u001b[01;32mbatch_8_filtered_Admixture_input_nofam.ped\u001b[0m*\r\n",
      "\u001b[01;32mbatch_8_filtered_Admixture_input.ped\u001b[0m*\r\n",
      "\u001b[01;32mbatch_8_filtered_bowtieACod_filteredMQ10.map\u001b[0m*\r\n",
      "\u001b[01;32mREADME.32.txt\u001b[0m*\r\n"
     ]
    }
   ],
   "source": [
    "ls"
   ]
  },
  {
   "cell_type": "code",
   "execution_count": 14,
   "metadata": {},
   "outputs": [
    {
     "name": "stdout",
     "output_type": "stream",
     "text": [
      "****                   ADMIXTURE Version 1.3.0                  ****\r\n",
      "****                    Copyright 2008-2015                     ****\r\n",
      "****           David Alexander, Suyash Shringarpure,            ****\r\n",
      "****                John  Novembre, Ken Lange                   ****\r\n",
      "****                                                            ****\r\n",
      "****                 Please cite our paper!                     ****\r\n",
      "****   Information at www.genetics.ucla.edu/software/admixture  ****\r\n",
      "\r\n",
      "                                                                              \r\n",
      "  ADMIXTURE basic usage:  (see manual for complete reference)                 \r\n",
      "    % admixture [options] inputFile K                                         \r\n",
      "                                                                              \r\n",
      "  where:                                                                      \r\n",
      "    K is the number of populations; and                                       \r\n",
      "    inputFile may be:                                                         \r\n",
      "      - a PLINK .bed file                                                     \r\n",
      "      - a PLINK \"12\" coded .ped file                                        \r\n",
      "                                                                              \r\n",
      "  Output will be in files inputBasename.K.Q, inputBasename.K.P                \r\n",
      "                                                                              \r\n",
      "  General options:                                                            \r\n",
      "    -jX          : do computation on X threads                                \r\n",
      "    --seed=X     : use random seed X for initialization                       \r\n",
      "                                                                              \r\n",
      "  Algorithm options:                                                          \r\n",
      "     -m=                                                                      \r\n",
      "    --method=[em|block]     : set method.  block is default                   \r\n",
      "                                                                              \r\n",
      "     -a=                                                                      \r\n",
      "    --acceleration=none   |                                                   \r\n",
      "                   sqs<X> |                                                   \r\n",
      "                   qn<X>      : set acceleration                              \r\n",
      "                                                                              \r\n",
      "  Convergence criteria:                                                       \r\n",
      "    -C=X : set major convergence criterion (for point estimation)             \r\n",
      "    -c=x : set minor convergence criterion (for bootstrap and CV reestimates) \r\n",
      "                                                                              \r\n",
      "  Bootstrap standard errors:                                                  \r\n",
      "    -B[X]      : do bootstrapping [with X replicates]                         \r\n",
      "                                                                              \r\n",
      "                                                                              \r\n"
     ]
    }
   ],
   "source": [
    "!./admixture --help"
   ]
  },
  {
   "cell_type": "code",
   "execution_count": 16,
   "metadata": {},
   "outputs": [
    {
     "name": "stdout",
     "output_type": "stream",
     "text": [
      "****                   ADMIXTURE Version 1.3.0                  ****\n",
      "****                    Copyright 2008-2015                     ****\n",
      "****           David Alexander, Suyash Shringarpure,            ****\n",
      "****                John  Novembre, Ken Lange                   ****\n",
      "****                                                            ****\n",
      "****                 Please cite our paper!                     ****\n",
      "****   Information at www.genetics.ucla.edu/software/admixture  ****\n",
      "\n",
      "Parallel execution requested.  Will use 5 threads.\n",
      "Random seed: 43\n",
      "Point estimation method: Block relaxation algorithm\n",
      "Convergence acceleration algorithm: QuasiNewton, 3 secant conditions\n",
      "Point estimation will terminate when objective function delta < 0.0001\n",
      "Will perform 200 bootstrap resamplings to estimate standard errors.\n",
      "Reestimation for each bootstrap replicate will terminate at 3 iterations\n",
      "PLINK Input file error\n"
     ]
    }
   ],
   "source": [
    "# ran in terminal\n",
    "!./admixture -B200 -j5 batch_8_filtered_Admixture_input_nofam.ped 3"
   ]
  },
  {
   "cell_type": "code",
   "execution_count": null,
   "metadata": {
    "collapsed": true
   },
   "outputs": [],
   "source": []
  }
 ],
 "metadata": {
  "kernelspec": {
   "display_name": "Python 2",
   "language": "python",
   "name": "python2"
  },
  "language_info": {
   "codemirror_mode": {
    "name": "ipython",
    "version": 2
   },
   "file_extension": ".py",
   "mimetype": "text/x-python",
   "name": "python",
   "nbconvert_exporter": "python",
   "pygments_lexer": "ipython2",
   "version": "2.7.13"
  }
 },
 "nbformat": 4,
 "nbformat_minor": 2
}
