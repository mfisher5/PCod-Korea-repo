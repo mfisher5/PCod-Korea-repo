{
 "cells": [
  {
   "cell_type": "markdown",
   "metadata": {},
   "source": [
    "## Filtering for Hardy-Weinberg Equilibrium\n",
    "\n",
    "\n",
    "This notebook filters out loci that are out of HWE for BATCH 7. \n",
    "\n",
    "#### 9/1/2017\n",
    "\n",
    "\n",
    "<br>\n",
    "### 1. Convert final file to genepop"
   ]
  },
  {
   "cell_type": "code",
   "execution_count": 1,
   "metadata": {
    "collapsed": false
   },
   "outputs": [
    {
     "name": "stdout",
     "output_type": "stream",
     "text": [
      "/mnt/hgfs/Pacific cod/DataAnalysis/PCod-Korea-repo/scripts/PostStacksFilter_rSNP\n"
     ]
    }
   ],
   "source": [
    "cd ../scripts/PostStacksFilter_rSNP/"
   ]
  },
  {
   "cell_type": "code",
   "execution_count": 3,
   "metadata": {
    "collapsed": false
   },
   "outputs": [
    {
     "name": "stdout",
     "output_type": "stream",
     "text": [
      "usage: matrix_conversion_forGENEPOP_2.py [-h] [-f INPUT] [-o OUTPUT]\r\n",
      "                                         [-m POPMAP] [-pm PATH_POPMAP]\r\n",
      "                                         [-ps PATH_STACKS] [-t TITLE]\r\n",
      "\r\n",
      "convert matrix file (loci as column headers) to a genepop file.\r\n",
      "\r\n",
      "optional arguments:\r\n",
      "  -h, --help            show this help message and exit\r\n",
      "  -f INPUT, --input INPUT\r\n",
      "                        2 x 2 matrix file with loci as column headers, one row\r\n",
      "                        per sample.\r\n",
      "  -o OUTPUT, --output OUTPUT\r\n",
      "                        output file in genepop format\r\n",
      "  -m POPMAP, --popmap POPMAP\r\n",
      "                        population map file\r\n",
      "  -pm PATH_POPMAP, --path_popmap PATH_POPMAP\r\n",
      "                        path to population map file\r\n",
      "  -ps PATH_STACKS, --path_stacks PATH_STACKS\r\n",
      "                        path to stacks files, including input file\r\n",
      "  -t TITLE, --title TITLE\r\n",
      "                        title for your genepop file\r\n"
     ]
    }
   ],
   "source": [
    "!python matrix_conversion_forGENEPOP_2.py -h"
   ]
  },
  {
   "cell_type": "code",
   "execution_count": null,
   "metadata": {
    "collapsed": true
   },
   "outputs": [],
   "source": [
    "!python matrix_conversion_forGENEPOP_2.py \\\n",
    "-f batch_7.filteredLoci60_filteredMAF_Loci2_filteredIndivids \\\n",
    "-o batch_7.filteredLoci20_filteredMAF_filteredIndivids_genepop.txt \\\n",
    "-m PopMap_L1-5_mdFilter_b7.txt \\\n",
    "-pm ../ \\\n",
    "-ps ../../stacks_b7_wgenome \\\n",
    "-t \"PCod Korea batch 7, filtered for missing data in loci & individuals, MAF\""
   ]
  },
  {
   "cell_type": "markdown",
   "metadata": {},
   "source": [
    "<br>\n",
    "<br>\n",
    "### 2. Run GENEPOP\n",
    "\n",
    "options `1... Hardy-Weinberg exact tests >> 3...test for each locus in each population, Probability test`"
   ]
  },
  {
   "cell_type": "code",
   "execution_count": 4,
   "metadata": {
    "collapsed": false
   },
   "outputs": [
    {
     "name": "stdout",
     "output_type": "stream",
     "text": [
      "/mnt/hgfs/Pacific cod/DataAnalysis/PCod-Korea-repo/analyses\n"
     ]
    }
   ],
   "source": [
    "cd ../../analyses"
   ]
  },
  {
   "cell_type": "code",
   "execution_count": 5,
   "metadata": {
    "collapsed": true
   },
   "outputs": [],
   "source": [
    "!mkdir genepop"
   ]
  },
  {
   "cell_type": "markdown",
   "metadata": {},
   "source": [
    "*moved all genepop output files (from batch 7 and previous batches) into this folder*"
   ]
  },
  {
   "cell_type": "markdown",
   "metadata": {},
   "source": [
    "<br>\n",
    "### 3. Parse GENEPOP output\n",
    "\n",
    "\n",
    "Genepop put out a file batch_7...txt.P that contains, at the bottom, a list of by-locus p-values and Fis estimates by population.\n",
    "\n",
    "I created the following script to parse out this information into TWO tab-delimited files that are organized as 2x2 charts: locus in the first column, and population in the first row. The first file gives calculated HWE p-values, and the second file contains the W&C Fis estimates."
   ]
  },
  {
   "cell_type": "code",
   "execution_count": 6,
   "metadata": {
    "collapsed": false
   },
   "outputs": [
    {
     "name": "stdout",
     "output_type": "stream",
     "text": [
      "usage: parse_genepop_HWEbylocus.py [-h] [-p P] [-op OUTPUTPVAL]\r\n",
      "                                   [-of OUTPUTFIS]\r\n",
      "\r\n",
      "optional arguments:\r\n",
      "  -h, --help            show this help message and exit\r\n",
      "  -p P, --P P           path & name of .P file output from genepop\r\n",
      "  -op OUTPUTPVAL, --OUTPUTpval OUTPUTPVAL\r\n",
      "                        path & name of the output file for the parsed HWE\r\n",
      "                        pvalues\r\n",
      "  -of OUTPUTFIS, --OUTPUTfis OUTPUTFIS\r\n",
      "                        path & name of the output file for the parsed Fis\r\n",
      "                        values\r\n"
     ]
    }
   ],
   "source": [
    "!python parse_genepop_HWEbylocus.py -h"
   ]
  },
  {
   "cell_type": "code",
   "execution_count": 7,
   "metadata": {
    "collapsed": false
   },
   "outputs": [
    {
     "name": "stdout",
     "output_type": "stream",
     "text": [
      "generating dictionaries of pvalues and fis values...\n",
      "writing output to files...\n",
      "done.\n"
     ]
    }
   ],
   "source": [
    "!python parse_genepop_HWEbylocus.py \\\n",
    "-p ../stacks_b7_wgenome/batch_7_filteredLoci20_filteredMAF_filteredIndivids_genepop.txt.P \\\n",
    "-op genepop/batch7/batch_7_HWEpvals_parsed.txt \\\n",
    "-of genepop/batch7/batch_7_HWEfis_parsed.txt"
   ]
  },
  {
   "cell_type": "markdown",
   "metadata": {},
   "source": [
    "<br>\n",
    "\n",
    "### 4. Graph distribution of Loci out of HWE"
   ]
  },
  {
   "cell_type": "code",
   "execution_count": 8,
   "metadata": {
    "collapsed": false
   },
   "outputs": [
    {
     "name": "stdout",
     "output_type": "stream",
     "text": [
      "/mnt/hgfs/Pacific cod/DataAnalysis/PCod-Korea-repo/analyses/genepop/batch7\n"
     ]
    }
   ],
   "source": [
    "cd genepop/batch7"
   ]
  },
  {
   "cell_type": "code",
   "execution_count": 9,
   "metadata": {
    "collapsed": false
   },
   "outputs": [
    {
     "name": "stdout",
     "output_type": "stream",
     "text": [
      "# parsed GENEPOP output, HWE p-values by locus by population. #\r\n",
      "locus\tPO031715\tGEO012315\tNA021015\tYS\tJUK07\tJB121807\tJB021108\tBOR07\tGEO020414\tPercent.Sig\r\n",
      "18468_137\t1.0000\tNA\t1.0000\t1.0000\t1.0000\tNA\tNA\t0.1070\tNA\t0.0\r\n",
      "10535_53\t0.0778\t1.0000\t0.0811\t1.0000\t0.1296\t0.0391\t0.5669\t1.0000\t0.5736\t0.111111111111\r\n",
      "15205_47\t0.2136\tNA\t0.5384\t0.4268\tNA\t1.0000\t1.0000\t0.2145\t0.2198\t0.0\r\n",
      "8929_47\tNA\t1.0000\t1.0000\t1.0000\t1.0000\t1.0000\t1.0000\tNA\t1.0000\t0.0\r\n",
      "21723_123\t0.5621\t0.3442\t0.4111\t0.4655\t1.0000\t1.0000\t1.0000\t1.0000\t0.2265\t0.0\r\n",
      "17078_96\t1.0000\t1.0000\tNA\t1.0000\t1.0000\t1.0000\t1.0000\tNA\tNA\t0.0\r\n",
      "15588_70\tNA\tNA\tNA\tNA\tNA\tNA\tNA\t1.0000\tNA\t0.0\r\n",
      "13324_59\t0.0037\t1.0000\tNA\tNA\t1.0000\t0.3107\t0.2941\t0.0244\tNA\t0.222222222222\r\n"
     ]
    }
   ],
   "source": [
    "!head batch_7_HWEpvals_parsed.txt"
   ]
  },
  {
   "cell_type": "code",
   "execution_count": 16,
   "metadata": {
    "collapsed": false
   },
   "outputs": [],
   "source": [
    "infile = open(\"batch_7_HWEpvals_parsed.txt\", \"r\")\n",
    "\n",
    "percents = []\n",
    "loci_list = []\n",
    "na_count = 0\n",
    "\n",
    "for line in infile:\n",
    "    if \"locus\" not in line:\n",
    "        if line.strip().split()[10]:\n",
    "            new_percent = float(line.strip().split()[10])\n",
    "            percents.append(new_percent)\n",
    "            loci_list.append(line.strip().split()[0])\n",
    "\n",
    "infile.close()"
   ]
  },
  {
   "cell_type": "code",
   "execution_count": 17,
   "metadata": {
    "collapsed": true
   },
   "outputs": [],
   "source": [
    "import numpy as np\n",
    "import matplotlib.pyplot as plt"
   ]
  },
  {
   "cell_type": "code",
   "execution_count": 18,
   "metadata": {
    "collapsed": false
   },
   "outputs": [
    {
     "data": {
      "image/png": "[encoded data removed]",
      "text/plain": [
       "<matplotlib.figure.Figure at 0x7fe433a5a590>"
      ]
     },
     "metadata": {},
     "output_type": "display_data"
    }
   ],
   "source": [
    "plt.hist(percents, bins = np.arange(-0.1, 1, .0625)+0.05, color = \"darkcyan\")\n",
    "plt.suptitle(\"Distribution of % of populations out of HWE\")\n",
    "plt.xlabel(\"% of populations out of HWE (by locus)\")\n",
    "plt.ylabel(\"# Loci\")\n",
    "plt.show()"
   ]
  },
  {
   "cell_type": "code",
   "execution_count": 22,
   "metadata": {
    "collapsed": true
   },
   "outputs": [],
   "source": [
    "plt.close()"
   ]
  },
  {
   "cell_type": "markdown",
   "metadata": {},
   "source": [
    "<br>\n",
    "<br>\n",
    "### 5. Use multiple testing technique to generate chi-square value for each locus \n",
    "\n",
    "The `Biometrics book` proposes a method to coerce multiple tests into a chi-square distribution that then allows you to test for significance.\n",
    "\n",
    "At each locus: (1) Sum the natural logs of the p-values, (2) Add these together, (3) multiple by -2 to generate a chi-square value, and (4) complete a chi-square test with [n_pops x 2] degrees of freedom."
   ]
  },
  {
   "cell_type": "code",
   "execution_count": 23,
   "metadata": {
    "collapsed": true
   },
   "outputs": [],
   "source": [
    "from scipy.stats import chisqprob"
   ]
  },
  {
   "cell_type": "code",
   "execution_count": 24,
   "metadata": {
    "collapsed": true
   },
   "outputs": [],
   "source": [
    "import numpy as np"
   ]
  },
  {
   "cell_type": "code",
   "execution_count": 25,
   "metadata": {
    "collapsed": false
   },
   "outputs": [
    {
     "data": {
      "text/plain": [
       "u'/mnt/hgfs/Pacific cod/DataAnalysis/PCod-Korea-repo/analyses/genepop/batch7'"
      ]
     },
     "execution_count": 25,
     "metadata": {},
     "output_type": "execute_result"
    }
   ],
   "source": [
    "pwd"
   ]
  },
  {
   "cell_type": "code",
   "execution_count": 27,
   "metadata": {
    "collapsed": false
   },
   "outputs": [
    {
     "name": "stdout",
     "output_type": "stream",
     "text": [
      "You have  588  loci out of HWE.\n"
     ]
    }
   ],
   "source": [
    "## STEP ONE: conduct chisquare and determine loci out of HWE. \n",
    "## write results to a file and save a list of the loci out of HWE. \n",
    "\n",
    "infile = open(\"batch_7_HWEpvals_parsed.txt\", \"r\")\n",
    "outfile = open(\"batch_7_HWEchisquare.txt\", \"w\")\n",
    "\n",
    "outfile.write(\"locus\\tChiSquare\\tdf\\tpvalue\\n\")\n",
    "\n",
    "sig_count = 0\n",
    "loci_to_discard = []\n",
    "\n",
    "for line in infile:\n",
    "    if \"locus\" not in line:\n",
    "        linelist= line.strip().split()\n",
    "        outfile.write(linelist[0]) #write locus name to outfile\n",
    "        sum = 0 #sum of ln(pvals)\n",
    "        n_pops = 0 # number of pops with pvals (some will have NAs)\n",
    "        for i in range(1,8):\n",
    "            if linelist[i] != \"NA\" and float(linelist[i]) == 0.0:\n",
    "                newval = np.log(float(0.00000000001))\n",
    "                sum += newval\n",
    "                n_pops += 1\n",
    "            elif linelist[i] != \"NA\" and float(linelist[i]) != 0.0:\n",
    "                newval = np.log(float(linelist[i]))\n",
    "                sum += newval\n",
    "                n_pops += 1\n",
    "        chisquare = float(-2) * float(sum)\n",
    "        df = n_pops * 2\n",
    "        outfile.write(\"\\t\" + str(chisquare) + \"\\t\" + str(df))\n",
    "        pvalue = chisqprob(chisquare,df)\n",
    "        if pvalue < 0.05:\n",
    "            sig_count += 1\n",
    "            loci_to_discard.append(linelist[0])\n",
    "        outfile.write(\"\\t\" + str(pvalue) + \"\\n\")\n",
    "infile.close()\n",
    "outfile.close()\n",
    "\n",
    "print \"You have \", sig_count, \" loci out of HWE.\""
   ]
  },
  {
   "cell_type": "code",
   "execution_count": 28,
   "metadata": {
    "collapsed": false
   },
   "outputs": [
    {
     "name": "stdout",
     "output_type": "stream",
     "text": [
      "4859  loci written to output file.\n"
     ]
    }
   ],
   "source": [
    "## STEP TWO: rewrite the file of HWEpvals by locus by population, \n",
    "## excluding those loci out of HWE. \n",
    "\n",
    "infile = open(\"batch_7_HWEpvals_parsed.txt\", \"r\")\n",
    "outfile = open(\"batch_7_HWEpvals_filtered.txt\", \"w\")\n",
    "\n",
    "locus_count = 0\n",
    "\n",
    "for line in infile:\n",
    "    if line.startswith(\"#\"):\n",
    "        outfile.write(\"# parsed GENEPOP output, HWE p-values by locus by population FILTERED #\\n\")\n",
    "    elif line.startswith(\"locus\"):\n",
    "        outfile.write(line)\n",
    "    else:\n",
    "        locus = line.strip().split()[0]\n",
    "        if locus not in loci_to_discard:\n",
    "            outfile.write(line)\n",
    "            locus_count += 1\n",
    "infile.close()\n",
    "outfile.close()\n",
    "print locus_count, \" loci written to output file.\""
   ]
  },
  {
   "cell_type": "markdown",
   "metadata": {},
   "source": [
    "<br>\n",
    "<br>\n",
    "### Plot new distribution "
   ]
  },
  {
   "cell_type": "code",
   "execution_count": 30,
   "metadata": {
    "collapsed": false
   },
   "outputs": [],
   "source": [
    "infile = open(\"batch_7_HWEpvals_filtered.txt\", \"r\")\n",
    "\n",
    "percents = []\n",
    "loci_list = []\n",
    "\n",
    "for line in infile:\n",
    "    if \"locus\" not in line and \"#\" not in line:\n",
    "        new_percent = float(line.strip().split()[10])\n",
    "        percents.append(new_percent)\n",
    "        loci_list.append(line.strip().split()[0])\n",
    "\n",
    "infile.close()"
   ]
  },
  {
   "cell_type": "code",
   "execution_count": 31,
   "metadata": {
    "collapsed": true
   },
   "outputs": [],
   "source": [
    "import numpy as np\n",
    "import matplotlib.pyplot as plt"
   ]
  },
  {
   "cell_type": "code",
   "execution_count": 32,
   "metadata": {
    "collapsed": false
   },
   "outputs": [
    {
     "data": {
      "image/png": "[encoded data removed]",
      "text/plain": [
       "<matplotlib.figure.Figure at 0x7fe42a6ea390>"
      ]
     },
     "metadata": {},
     "output_type": "display_data"
    }
   ],
   "source": [
    "plt.hist(percents, bins = np.arange(-0.1, 1.1, .05)+0.05, color = \"darkcyan\")\n",
    "plt.suptitle(\"POST HWE FILTER: Distribution of % of populations out of HWE\")\n",
    "plt.xlabel(\"% of populations out of HWE (by locus)\")\n",
    "plt.ylabel(\"# Loci\")\n",
    "plt.show()"
   ]
  },
  {
   "cell_type": "code",
   "execution_count": 33,
   "metadata": {
    "collapsed": true
   },
   "outputs": [],
   "source": [
    "plt.close()"
   ]
  },
  {
   "cell_type": "markdown",
   "metadata": {},
   "source": [
    "<br>\n",
    "<br>\n",
    "### Remove loci that are out of HWE from final genepop\n",
    "\n",
    "To do this, I'll actually be working with the matrix file that was the base of the `genepop` file created for GENEPOP program. \n",
    "\n",
    "If you are working with a `.csv` file, or with a file that has sample names as columns, see the end of [this notebook](https://github.com/mfisher5/PCod-US-repo/blob/master/notebooks/Stacks%20batch%202%20-%20filter%20for%20HWE.ipynb) for alternative code. "
   ]
  },
  {
   "cell_type": "code",
   "execution_count": 35,
   "metadata": {
    "collapsed": false,
    "scrolled": true
   },
   "outputs": [
    {
     "data": {
      "text/plain": [
       "u'/mnt/hgfs/Pacific cod/DataAnalysis/PCod-Korea-repo/analyses/genepop/batch7'"
      ]
     },
     "execution_count": 35,
     "metadata": {},
     "output_type": "execute_result"
    }
   ],
   "source": [
    "pwd"
   ]
  },
  {
   "cell_type": "code",
   "execution_count": 36,
   "metadata": {
    "collapsed": false
   },
   "outputs": [
    {
     "name": "stdout",
     "output_type": "stream",
     "text": [
      "/mnt/hgfs/Pacific cod/DataAnalysis/PCod-Korea-repo/analyses\n"
     ]
    }
   ],
   "source": [
    "cd ../../"
   ]
  },
  {
   "cell_type": "code",
   "execution_count": 65,
   "metadata": {
    "collapsed": false
   },
   "outputs": [
    {
     "name": "stdout",
     "output_type": "stream",
     "text": [
      "Preparing to copy  4859  loci from old file\n",
      "\n",
      "Wrote  4859  loci to new matrix file.\n",
      "Removed  588  loci.\n",
      "All loci to keep were copied.\n"
     ]
    }
   ],
   "source": [
    "old = open(\"../stacks_b7_wgenome/batch_7.filteredLoci60_filteredMAF_Loci2_filteredIndivids\", \"r\")\n",
    "locifile = open(\"genepop/batch7/batch_7_HWEpvals_filtered.txt\", \"r\")\n",
    "new = open(\"../stacks_b7_wgenome/batch_7.filteredLoci20_filteredMAF_filteredIndivids_filteredHWE.txt\", \"w\")\n",
    "blacklisted = open(\"../stacks_b7_wgenome/batch_7.filteredLoci20_filteredMAF_filteredIndivids_filteredHWE_BAD.txt\", \"w\")\n",
    "\n",
    "## Note that my matrix file here has loci as column header, so I need to transpose it!\n",
    "data_matrix = []\n",
    "for line in old:\n",
    "\ttmp_line = ''\n",
    "\ttmp_line += line.strip()\n",
    "\tdata_matrix.append(tmp_line.split(' '))\n",
    "old.close()\n",
    "\n",
    "transposed = zip(*data_matrix)\n",
    "\n",
    "#write sample names to new file\n",
    "new.write(\"\\t\".join(transposed[0]) + \"\\n\")\n",
    "blacklisted.write(\"\\t\".join(transposed[0]) + \"\\n\")\n",
    "\n",
    "#get list of loci that should be retained\n",
    "loci_to_keep = []\n",
    "\n",
    "for line in locifile: \n",
    "    if \"locus\" not in line:\n",
    "        loci_to_keep.append(line.strip().split()[0]) \n",
    "locifile.close()\n",
    "\n",
    "print \"Preparing to copy \", len(loci_to_keep), \" loci from old file\"\n",
    "print \"\"\n",
    "\n",
    "\n",
    "cp_count = 0\n",
    "rm_count = 0\n",
    "loci_kept = []\n",
    "\n",
    "for line in transposed[1:]: \n",
    "    locusID = line[0]\n",
    "    if locusID in loci_to_keep:\n",
    "        new.write(\"\\t\".join(line) + \"\\n\")\n",
    "        cp_count += 1\n",
    "        loci_kept.append(locusID)\n",
    "    else:\n",
    "        blacklisted.write(\"\\t\".join(line) + \"\\n\")\n",
    "        rm_count += 1\n",
    "new.close()\n",
    "blacklisted.close()\n",
    "\n",
    "print \"Wrote \", cp_count, \" loci to new matrix file.\"\n",
    "print \"Removed \", rm_count, \" loci.\"\n",
    "\n",
    "if len([i for i in loci_to_keep if i in loci_kept]) == len(loci_to_keep):\n",
    "    print \"All loci to keep were copied.\"\n",
    "else:\n",
    "    print \"uhoh! not all loci to keep were copied.\"\n",
    "    print \"the following loci were not copied over:\"\n",
    "    print [i for i in loci_to_keep if i not in loci_kept]"
   ]
  },
  {
   "cell_type": "markdown",
   "metadata": {},
   "source": [
    "<br>\n",
    "<br>\n",
    "### Create genepop file for R, GENEPOP analyses. "
   ]
  },
  {
   "cell_type": "code",
   "execution_count": 66,
   "metadata": {
    "collapsed": false
   },
   "outputs": [
    {
     "data": {
      "text/plain": [
       "u'/mnt/hgfs/Pacific cod/DataAnalysis/PCod-Korea-repo/analyses'"
      ]
     },
     "execution_count": 66,
     "metadata": {},
     "output_type": "execute_result"
    }
   ],
   "source": [
    "pwd"
   ]
  },
  {
   "cell_type": "code",
   "execution_count": 67,
   "metadata": {
    "collapsed": false
   },
   "outputs": [
    {
     "name": "stdout",
     "output_type": "stream",
     "text": [
      "/mnt/hgfs/Pacific cod/DataAnalysis/PCod-Korea-repo/scripts/PostStacksFilter_rSNP\n"
     ]
    }
   ],
   "source": [
    "cd ../scripts/PostStacksFilter_rSNP/"
   ]
  },
  {
   "cell_type": "code",
   "execution_count": 72,
   "metadata": {
    "collapsed": false
   },
   "outputs": [
    {
     "name": "stdout",
     "output_type": "stream",
     "text": [
      "usage: matrix_conversion_forGENEPOP.py [-h] [-f INPUT] [-o OUTPUT] [-m POPMAP]\r\n",
      "                                       [-pm PATH_POPMAP] [-ps PATH_STACKS]\r\n",
      "                                       [-t TITLE] [-split SPLIT_BY]\r\n",
      "\r\n",
      "convert matrix file (samples as column headers) to a genepop file.\r\n",
      "\r\n",
      "optional arguments:\r\n",
      "  -h, --help            show this help message and exit\r\n",
      "  -f INPUT, --input INPUT\r\n",
      "                        2 x 2 matrix file with samples as column headers, one\r\n",
      "                        row per locus.\r\n",
      "  -o OUTPUT, --output OUTPUT\r\n",
      "                        output file in genepop format\r\n",
      "  -m POPMAP, --popmap POPMAP\r\n",
      "                        population map file\r\n",
      "  -pm PATH_POPMAP, --path_popmap PATH_POPMAP\r\n",
      "                        path to population map file\r\n",
      "  -ps PATH_STACKS, --path_stacks PATH_STACKS\r\n",
      "                        path to stacks files, including input file\r\n",
      "  -t TITLE, --title TITLE\r\n",
      "                        title for your genepop file\r\n",
      "  -split SPLIT_BY, --split_by SPLIT_BY\r\n",
      "                        split contents of each line by... ['tab' / 'space']\r\n"
     ]
    }
   ],
   "source": [
    "!python matrix_conversion_forGENEPOP.py -h"
   ]
  },
  {
   "cell_type": "code",
   "execution_count": 75,
   "metadata": {
    "collapsed": false
   },
   "outputs": [
    {
     "name": "stdout",
     "output_type": "stream",
     "text": [
      "You have 9 populations.\n",
      "These are your populations, with the number of samples in each:\n",
      "OrderedDict([('Pohang15', 34), ('Geoje15', 37), ('Namhae15', 19), ('YellowSea16', 29), ('Jukbyeon07', 35), ('JinhaeBay07', 44), ('JinhaeBay08', 44), ('Boryeong07', 23), ('Geoje14', 34)])\n",
      "creating script for part 2...\n",
      "calling script for part 2...\n",
      "transposing genotypes matrix...\n",
      "writing loci into genepop file...\n",
      "writing genotypes into genepop file by population...\n",
      "done.\n"
     ]
    }
   ],
   "source": [
    "!python matrix_conversion_forGENEPOP.py \\\n",
    "-f batch_7.filteredLoci20_filteredMAF_filteredIndivids_filteredHWE.txt \\\n",
    "-o batch_7_filteredLoci20_filteredMAF_filteredIndivids_filteredHWE_genepop.txt \\\n",
    "-m PopMap_L1-5_mdFilter_b7.txt \\\n",
    "-pm .. \\\n",
    "-ps ../../stacks_b7_wgenome \\\n",
    "-t \"PCod Korea Genepop, Lanes 1 -5 (all samples) Final Filtered\" \\\n",
    "-split \"tab\""
   ]
  },
  {
   "cell_type": "markdown",
   "metadata": {},
   "source": [
    "### FINAL GENEPOP FILE: batch_7_filteredLoci20_filteredMAF_filteredIndivids_filteredHWE_genepop.txt"
   ]
  },
  {
   "cell_type": "code",
   "execution_count": null,
   "metadata": {
    "collapsed": true
   },
   "outputs": [],
   "source": []
  }
 ],
 "metadata": {
  "anaconda-cloud": {},
  "kernelspec": {
   "display_name": "Python [default]",
   "language": "python",
   "name": "python2"
  },
  "language_info": {
   "codemirror_mode": {
    "name": "ipython",
    "version": 2
   },
   "file_extension": ".py",
   "mimetype": "text/x-python",
   "name": "python",
   "nbconvert_exporter": "python",
   "pygments_lexer": "ipython2",
   "version": "2.7.12"
  }
 },
 "nbformat": 4,
 "nbformat_minor": 1
}
