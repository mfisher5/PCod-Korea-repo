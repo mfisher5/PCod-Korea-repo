{
 "cells": [
  {
   "cell_type": "markdown",
   "metadata": {},
   "source": [
    "## Identifying Outlier Loci\n",
    "\n",
    "### stacks batch 8\n",
    "<br>\n",
    "This notebook contains the follow outlier identifications:\n",
    "\n",
    "1. all samples\n",
    "2. southern samples\n",
    "3. east v. west samples\n",
    "4. south v. west samples \n",
    "\n",
    "Using the programs `OutFLANK` and `Bayescan`.\n",
    "<br>\n",
    "#### 10/5/2017\n",
    "\n",
    "### OutFLANK\n",
    "\n",
    "[Github](https://github.com/whitlock/OutFLANK/blob/master/R/OutFLANK.R) \n",
    "\n",
    "[PDF Manual](https://github.com/whitlock/OutFLANK/blob/master/OutFLANK%20readme.pdf)\n",
    "\n",
    "**(1) Convert Genepop file to OutFLANK file format.** Luckily, OutFLANK has a nice R function for this. However, you still need to manipulate your Genepop file to a certain file format to put it into that R function. the following python script will take a genepop file and a population map, and output three of the inputs for the OutFLANK function `MakeDiploidFSTMat()`. This is: \n",
    "1. a file containing a matrix of individuals (rows) x loci (columns) without headings. Alleles are coded in a `0`,`1`, `2`, `9` format. \n",
    "2. a file where each locus name is on a new line, as a string. This can be read directly into R as a list\n",
    "3. a file where each sample's population name is on a new line (same order as matrix rows). This can also be read directly into R as a list. "
   ]
  },
  {
   "cell_type": "code",
   "execution_count": 1,
   "metadata": {},
   "outputs": [
    {
     "data": {
      "text/plain": [
       "u'/mnt/hgfs/Pacific cod/DataAnalysis/PCod-Korea-repo/notebooks'"
      ]
     },
     "execution_count": 1,
     "metadata": {},
     "output_type": "execute_result"
    }
   ],
   "source": [
    "pwd"
   ]
  },
  {
   "cell_type": "code",
   "execution_count": 2,
   "metadata": {},
   "outputs": [
    {
     "name": "stdout",
     "output_type": "stream",
     "text": [
      "/mnt/hgfs/Pacific cod/DataAnalysis/PCod-Korea-repo/analyses\n"
     ]
    }
   ],
   "source": [
    "cd ../analyses/"
   ]
  },
  {
   "cell_type": "code",
   "execution_count": 3,
   "metadata": {},
   "outputs": [
    {
     "name": "stdout",
     "output_type": "stream",
     "text": [
      "/mnt/hgfs/Pacific cod/DataAnalysis/PCod-Korea-repo/analyses/Outliers\n"
     ]
    }
   ],
   "source": [
    "cd Outliers/"
   ]
  },
  {
   "cell_type": "code",
   "execution_count": 19,
   "metadata": {},
   "outputs": [
    {
     "name": "stdout",
     "output_type": "stream",
     "text": [
      "usage: convert_genepop_to_SNPmat.py [-h] [-i INPUT] [-p POPMAP] [-o OUTPUT]\r\n",
      "                                    [-ol OUTLOCUSNAMES] [-op OUTPOPNAMES]\r\n",
      "\r\n",
      "produce SNPmat file, and files containing loci / population lists for OutFLANK\r\n",
      "outlier analysis.\r\n",
      "\r\n",
      "optional arguments:\r\n",
      "  -h, --help            show this help message and exit\r\n",
      "  -i INPUT, --input INPUT\r\n",
      "                        genepop file that you want to run through OutFLANK\r\n",
      "  -p POPMAP, --popmap POPMAP\r\n",
      "                        population map from stacks (each line has sample - tab\r\n",
      "                        - population\r\n",
      "  -o OUTPUT, --output OUTPUT\r\n",
      "                        bash shell script file name. must have file extension\r\n",
      "                        .sh\r\n",
      "  -ol OUTLOCUSNAMES, --outLocusNames OUTLOCUSNAMES\r\n",
      "                        text file with the name of each locus on each line, to\r\n",
      "                        be read into R\r\n",
      "  -op OUTPOPNAMES, --outPopNames OUTPOPNAMES\r\n",
      "                        text file with the name of each sample's population on\r\n",
      "                        each line, to be read into R\r\n"
     ]
    }
   ],
   "source": [
    "!python convert_genepop_to_SNPmat.py -h"
   ]
  },
  {
   "cell_type": "code",
   "execution_count": 21,
   "metadata": {},
   "outputs": [
    {
     "name": "stdout",
     "output_type": "stream",
     "text": [
      "#Korean Pacific cod filtered final genepop, stacks batch 8 MF 9/29/2017\n",
      "\n",
      "Done creating SNPmat file.\n"
     ]
    }
   ],
   "source": [
    "!python convert_genepop_to_SNPmat.py \\\n",
    "-i ../../stacks_b8_wgenome/batch_8_filteredMAF_filteredIndivids30_filteredLoci_filteredHWE_filteredRepsC.txt \\\n",
    "-p ../../scripts/PopMap_L1-5_mdFilter_b8.txt \\\n",
    "-o batch_8_final_filtered_SNPmat.txt \\\n",
    "-ol batch_8_SNPmat_locusnames.txt \\\n",
    "-op batch_8_SNPmat_popnames.txt"
   ]
  },
  {
   "cell_type": "markdown",
   "metadata": {},
   "source": [
    "<br>\n",
    "**(2) Run OutFLANK and produce summary file containing outliers.** I used [this R script](https://github.com/mfisher5/PCod-Korea-repo/blob/master/analyses/R/OutFLANK_KorPCod_MF.R), which is well annotated. \n",
    "<br>"
   ]
  },
  {
   "cell_type": "code",
   "execution_count": 22,
   "metadata": {},
   "outputs": [
    {
     "name": "stdout",
     "output_type": "stream",
     "text": [
      "\"\",\"locus\",\"he\",\"fst\",\"meanAlleleFreq\",\"qvals\",\"pv\",\"outlier\"\r",
      "\r\n",
      "\"1\",10203,0.487697039600154,0.189042848877063,0.42156862745098,0.030128800416755,0.000123890863733767,1\r",
      "\r\n",
      "\"2\",14316,0.296343115870183,0.174222198637115,0.819105691056911,0.0456677171474144,0.000230433435147503,1\r",
      "\r\n",
      "\"3\",14546,0.32,0.253787600846611,0.2,0.00172719493422828,2.37687376269946e-06,1\r",
      "\r\n",
      "\"4\",17767,0.155517192894749,0.278491545019793,0.0849802371541502,0.000575627469601159,5.28098595964366e-07,1\r",
      "\r\n",
      "\"5\",18723,0.214303428606857,0.210298045038451,0.122047244094488,0.0124149811611041,3.27316734798355e-05,1\r",
      "\r\n",
      "\"6\",1904,0.402990362811791,0.207514627679969,0.720238095238095,0.0130300360460473,4.18395652854731e-05,1\r",
      "\r\n",
      "\"7\",19221,0.449152148304297,0.287136860951192,0.659448818897638,0.000575627469601159,3.06253878701312e-07,1\r",
      "\r\n",
      "\"8\",2606,0.134571318723568,0.18765271981843,0.927450980392157,0.030128800416755,0.000124384955848988,1\r",
      "\r\n",
      "\"9\",2694,0.374009904857129,0.2320888140807,0.24901185770751,0.00500862822092274,9.19014352462888e-06,1\r",
      "\r\n"
     ]
    }
   ],
   "source": [
    "!head allKOR_b8_outflank_outliers.txt"
   ]
  },
  {
   "cell_type": "markdown",
   "metadata": {},
   "source": [
    "\n",
    "I only got **11 outlier loci**. I'll have to run the other programs and see if that number remains consistently low. "
   ]
  },
  {
   "cell_type": "markdown",
   "metadata": {},
   "source": [
    "** Southern Populations Only**"
   ]
  },
  {
   "cell_type": "code",
   "execution_count": 1,
   "metadata": {},
   "outputs": [
    {
     "data": {
      "text/plain": [
       "u'/mnt/hgfs/Pacific cod/DataAnalysis/PCod-Korea-repo/notebooks'"
      ]
     },
     "execution_count": 1,
     "metadata": {},
     "output_type": "execute_result"
    }
   ],
   "source": [
    "pwd"
   ]
  },
  {
   "cell_type": "code",
   "execution_count": 2,
   "metadata": {},
   "outputs": [
    {
     "name": "stdout",
     "output_type": "stream",
     "text": [
      "/mnt/hgfs/Pacific cod/DataAnalysis/PCod-Korea-repo/analyses/Outliers\n"
     ]
    }
   ],
   "source": [
    "cd ../analyses/Outliers/"
   ]
  },
  {
   "cell_type": "code",
   "execution_count": 6,
   "metadata": {},
   "outputs": [
    {
     "name": "stdout",
     "output_type": "stream",
     "text": [
      "##Korean Pacific cod filtered final genepop, stacks batch 8 MF 9/29/2017\n",
      "\n",
      "Done creating SNPmat file.\n"
     ]
    }
   ],
   "source": [
    "!python convert_genepop_to_SNPmat.py \\\n",
    "-i ../batch_8_filteredMAF_filteredIndivids30_filteredLoci_filteredHWE_filteredRepsC_south.gen \\\n",
    "-p ../../scripts/PopMap_L1-5_mdFilter_b8.txt \\\n",
    "-o batch_8_final_filtered_south_SNPmat.txt \\\n",
    "-ol batch_8_SNPmat_south_locusnames.txt \\\n",
    "-op batch_8_SNPmat_south_popnames.txt"
   ]
  },
  {
   "cell_type": "markdown",
   "metadata": {},
   "source": [
    "I got **50 outlier loci**\n",
    "\n",
    "<br>\n"
   ]
  },
  {
   "cell_type": "markdown",
   "metadata": {},
   "source": [
    "** East v. West **"
   ]
  },
  {
   "cell_type": "code",
   "execution_count": 27,
   "metadata": {},
   "outputs": [
    {
     "name": "stdout",
     "output_type": "stream",
     "text": [
      "##Korean Pacific cod filtered final genepop, stacks batch 8 MF 9/29/2017\n",
      "\n",
      "Done creating SNPmat file.\n"
     ]
    }
   ],
   "source": [
    "!python convert_genepop_to_SNPmat.py \\\n",
    "-i ../batch_8_filteredMAF_filteredIndivids30_filteredLoci_filteredHWE_filteredRepsC_eastwest.txt \\\n",
    "-p ../../scripts/PopMap_L1-5_mdFilter_b8.txt \\\n",
    "-o batch_8_final_filtered_EW_SNPmat.txt \\\n",
    "-ol batch_8_SNPmat_EW_locusnames.txt \\\n",
    "-op batch_8_SNPmat_EW_popnames.txt"
   ]
  },
  {
   "cell_type": "markdown",
   "metadata": {},
   "source": [
    "There are **no outliers??** between eastern and western populations. \n",
    "\n",
    "This is likely because the neutral FST is so large between the two; OutFLANK only uses FST to detect outliers, so it's much harder to find outliers if FST is elevated (theoretically)\n",
    "<br>\n",
    "<br>\n"
   ]
  },
  {
   "cell_type": "markdown",
   "metadata": {},
   "source": [
    "** South v. West **"
   ]
  },
  {
   "cell_type": "code",
   "execution_count": 28,
   "metadata": {},
   "outputs": [
    {
     "name": "stdout",
     "output_type": "stream",
     "text": [
      "##Korean Pacific cod filtered final genepop, stacks batch 8 MF 9/29/2017\n",
      "\n",
      "Done creating SNPmat file.\n"
     ]
    }
   ],
   "source": [
    "!python convert_genepop_to_SNPmat.py \\\n",
    "-i ../batch_8_filteredMAF_filteredIndivids30_filteredLoci_filteredHWE_filteredRepsC_southwest.txt \\\n",
    "-p ../../scripts/PopMap_L1-5_mdFilter_b8.txt \\\n",
    "-o batch_8_final_filtered_SW_SNPmat.txt \\\n",
    "-ol batch_8_SNPmat_SW_locusnames.txt \\\n",
    "-op batch_8_SNPmat_SW_popnames.txt"
   ]
  },
  {
   "cell_type": "markdown",
   "metadata": {},
   "source": [
    "Also **no outliers.** Looks like I may not use this program for my data. "
   ]
  },
  {
   "cell_type": "markdown",
   "metadata": {},
   "source": [
    "<br>\n",
    "<br>\n",
    "### Bayescan\n",
    "<br>\n",
    "\n",
    "[Download](http://cmpg.unibe.ch/software/BayeScan/download.html) includes executable scripts and PDF manual. \n",
    "\n",
    "\n",
    "**(1) [Download](http://www.cmpg.unibe.ch/software/PGDSpider/) PGDSpyder.** Bayescan uses its own type of input file. They suggest using PGD spyder to convert genepop files into this file format\n",
    "\n",
    "**(2) Convert genepop to Bayescan format.** For SNP data, this can either be a \"codominant\" file format or a \"SNP genotype matrix\" (per Bayescan's user manual). They suggest that if you are not directly interested in Fis, you use SNPs as regular codominant data. In PGDspyder, this is just a matter of choosing the file format and file names for the input and ouput files, and then answering two short questions for the SPID file. \n",
    "\n",
    "**(3) Run Bayescan using the Windows GUI.** I suck and let my computer get to having almost zero space left, so I had to run Bayescan on my Windows desktop. This might actually be easier than Linux though. It looks like this:\n",
    " ![img-bayescan](https://github.com/mfisher5/PCod-Korea-repo/blob/master/nb_pictures/bayescan_windows_gui.png?raw=true)\n",
    " \n",
    " According to the GUI, my first run should take about 10 hours.\n",
    " \n",
    " I used the default options: \n",
    " ![img-bayescan-options](https://github.com/mfisher5/PCod-Korea-repo/blob/master/nb_pictures/bayescan_windows_gui_options.png?raw=true)\n",
    " \n",
    " <br>\n",
    " #### 10/6/2017\n",
    " \n",
    " So it took 14 hrs: \n",
    " ![img-bayescan-done](https://github.com/mfisher5/PCod-Korea-repo/blob/master/nb_pictures/bayescan_windows_gui_done.png?raw=true)\n",
    " \n",
    "<br>\n",
    "\n",
    "**(4) Interpreting Bayescan Output.** This can be done in R. It requires sourcing a [Bayescan R script](https://github.com/mfisher5/PCod-Korea-repo/blob/master/analyses/R/BAYESCAN_plot_R.r). I also wrote an [R script](https://github.com/mfisher5/PCod-Korea-repo/blob/master/analyses/R/Bayescan_KorPCod_MF.R) that can be run to (a) write out outlier loci, (b) call the bayescan plot function and (c) produce plots of the posterior distribution for a variety of parameters. I just copied and pasted the results from (a) into a text file.\n",
    "\n",
    "Since PGDspyder renamed all of my loci, I also need to take the output from Bayescan and correlate it to my stacks locus IDs. I have 5,405 loci, and PGDspyder number the loci from 1 through 5,405. So I'm assuming that this was done in the order that my loci were listed in the genepop file. The code below will do that for the following text file format:"
   ]
  },
  {
   "cell_type": "code",
   "execution_count": 9,
   "metadata": {},
   "outputs": [
    {
     "data": {
      "text/plain": [
       "u'/mnt/hgfs/Pacific cod/DataAnalysis/PCod-Korea-repo/analyses/Outliers'"
      ]
     },
     "execution_count": 9,
     "metadata": {},
     "output_type": "execute_result"
    }
   ],
   "source": [
    "pwd"
   ]
  },
  {
   "cell_type": "code",
   "execution_count": 10,
   "metadata": {
    "scrolled": true
   },
   "outputs": [
    {
     "name": "stdout",
     "output_type": "stream",
     "text": [
      "### BAYESCAN outliers -- note that locus IDs were assigned by PGD spyder, and don't correspond to actual Locus IDS in genepop file ###\r",
      "\r\n",
      "$outliers\r",
      "\r\n",
      " [1]   31   55   88  193  336  350  393  406  469  550  620  673  697 1007 1044 1061\r",
      "\r\n",
      "[17] 1120 1142 1296 1305 1343 1356 1382 1437 1452 1572 1582 1682 1799 1840 1855 2005\r",
      "\r\n",
      "[33] 2079 2113 2147 2188 2195 2251 2282 2340 2375 2498 2509 2516 2536 2607 2610 2757\r",
      "\r\n",
      "[49] 2817 2823 3004 3073 3084 3114 3235 3251 3309 3387 3478 3496 3502 3509 3516 3542\r",
      "\r\n",
      "[65] 3610 3614 3618 3653 3712 3743 3886 3969 4196 4306 4324 4326 4662 4668 4709 4734\r",
      "\r\n",
      "[81] 4974 5093 5110 5141 5165 5203 5240 5258 5268 5328 5343 5382\r",
      "\r\n",
      "\r",
      "\r\n",
      "$nb_outliers\r",
      "\r\n"
     ]
    }
   ],
   "source": [
    "!head batch_8_BAYESCAN_outliers.txt"
   ]
  },
  {
   "cell_type": "markdown",
   "metadata": {},
   "source": [
    "Python code available [here](https://github.com/mfisher5/PCod-Korea-repo/blob/master/analyses/Outliers/bayescan_to_stacks_locus_IDs.py)"
   ]
  },
  {
   "cell_type": "code",
   "execution_count": 2,
   "metadata": {},
   "outputs": [
    {
     "name": "stdout",
     "output_type": "stream",
     "text": [
      "usage: bayescan_to_stacks_locus_IDs.py [-h] [-i INPUT] [-gen GENEPOP]\r\n",
      "                                       [-sep SEPARATOR] [-o OUTPUT]\r\n",
      "                                       [-head HEADER]\r\n",
      "\r\n",
      "Match bayescan outlier loci IDs to the actual stacks IDs (if PGD spider was\r\n",
      "used for file conversion).\r\n",
      "\r\n",
      "optional arguments:\r\n",
      "  -h, --help            show this help message and exit\r\n",
      "  -i INPUT, --input INPUT\r\n",
      "                        text file containing plot_bayescan() R consol output\r\n",
      "  -gen GENEPOP, --genepop GENEPOP\r\n",
      "                        the genepop file used in PGD spyder to create BAYESCAN\r\n",
      "                        input file\r\n",
      "  -sep SEPARATOR, --separator SEPARATOR\r\n",
      "                        are the loci in your genepop file separated by a\r\n",
      "                        'comma' or a 'newline'?\r\n",
      "  -o OUTPUT, --output OUTPUT\r\n",
      "                        output text file\r\n",
      "  -head HEADER, --header HEADER\r\n",
      "                        header for output text file. should start with #\r\n"
     ]
    }
   ],
   "source": [
    "!python bayescan_to_stacks_locus_IDs.py -h"
   ]
  },
  {
   "cell_type": "code",
   "execution_count": 23,
   "metadata": {},
   "outputs": [
    {
     "name": "stdout",
     "output_type": "stream",
     "text": [
      "reading BAYESCAN outliers..\r\n",
      "['31', '55', '88', '193', '336', '350', '393', '406', '469', '550', '620', '673', '697', '1007', '1044', '1061', '1120', '1142', '1296', '1305', '1343', '1356', '1382', '1437', '1452', '1572', '1582', '1682', '1799', '1840', '1855', '2005', '2079', '2113', '2147', '2188', '2195', '2251', '2282', '2340', '2375', '2498', '2509', '2516', '2536', '2607', '2610', '2757', '2817', '2823', '3004', '3073', '3084', '3114', '3235', '3251', '3309', '3387', '3478', '3496', '3502', '3509', '3516', '3542', '3610', '3614', '3618', '3653', '3712', '3743', '3886', '3969', '4196', '4306', '4324', '4326', '4662', '4668', '4709', '4734', '4974', '5093', '5110', '5141', '5165', '5203', '5240', '5258', '5268', '5328', '5343', '5382', '92']\r\n",
      "indexing stacks loci...\r\n",
      "writing to output...\r\n",
      "Done.\r\n"
     ]
    }
   ],
   "source": [
    "!python bayescan_to_stacks_locus_IDs.py \\\n",
    "-i batch_8_BAYESCAN_outliers.txt \\\n",
    "-gen ../../stacks_b8_wgenome/batch_8_filteredMAF_filteredIndivids30_filteredLoci_filteredHWE_filteredRepsC.txt \\\n",
    "-sep \"newline\" \\\n",
    "-o batch_8_BAYESCAN_outliers_stacksIDs.txt \\\n",
    "-head \"Batch 8 BAYESCAN outliers; all samples\""
   ]
  },
  {
   "cell_type": "markdown",
   "metadata": {},
   "source": [
    "<br>\n",
    "<br>\n",
    "** SOUTHERN POPULATIONS ONLY**\n",
    "\n",
    "Started running on 10/6/2017; estimated run time 6 hours. \n",
    "\n",
    "<br>\n",
    "<br>\n",
    "** SOUTHERN & EASTERN POPULATIONS ** -  11/1/2017\n",
    "\n",
    "GENEPOP file with only southern and eastern sampling sites (each sampling site its own population)"
   ]
  },
  {
   "cell_type": "code",
   "execution_count": 1,
   "metadata": {
    "scrolled": true
   },
   "outputs": [
    {
     "name": "stdout",
     "output_type": "stream",
     "text": [
      "/mnt/hgfs/PCod-Korea-repo/analyses/Outliers\n"
     ]
    }
   ],
   "source": [
    "cd ../analyses/Outliers/"
   ]
  },
  {
   "cell_type": "code",
   "execution_count": 3,
   "metadata": {},
   "outputs": [
    {
     "name": "stdout",
     "output_type": "stream",
     "text": [
      "reading BAYESCAN outliers..\r\n",
      "You have  15  outlier loci.\r\n",
      "indexing stacks loci...\r\n",
      "writing to output...\r\n",
      "Done.\r\n"
     ]
    }
   ],
   "source": [
    "!python bayescan_to_stacks_locus_IDs.py \\\n",
    "-i batch_8_southeast_BAYESCAN_outliers.txt \\\n",
    "-gen ../../stacks_b8_wgenome/batch_8_filteredMAF_filteredIndivids30_filteredLoci_filteredHWE_filteredRepsC.txt \\\n",
    "-sep \"newline\" \\\n",
    "-o batch_8_southeast_BAYESCAN_outliers_stacksIDs.txt \\\n",
    "-head \"Batch 8 BAYESCAN outliers; southern and eastern site samples\""
   ]
  },
  {
   "cell_type": "markdown",
   "metadata": {},
   "source": [
    "*Were all of these outliers found using all samples?*"
   ]
  },
  {
   "cell_type": "code",
   "execution_count": 9,
   "metadata": {},
   "outputs": [
    {
     "name": "stdout",
     "output_type": "stream",
     "text": [
      "Num. Outlier Loci using all samples:  93\n",
      "Num. Outlier Loci using southern & eastern samples:  15\n",
      "12  outlier loci identified between southern & eastern sites also showed up in analysis using all samples.\n",
      "Novel outlier loci in southern / eastern analysis: \n",
      "[['4202'], ['4359'], ['7277']]\n"
     ]
    }
   ],
   "source": [
    "infile = open(\"batch_8_southeast_BAYESCAN_outliers_stacksIDs.txt\", \"r\")\n",
    "southeast = []\n",
    "for line in infile:\n",
    "    if \"Batch\" not in line:\n",
    "        southeast.append(line.strip().split())\n",
    "infile.close()\n",
    "\n",
    "infile2 = open(\"batch_8_BAYESCAN_outliers_stacksIDs.txt\", \"r\")\n",
    "all_pops = []\n",
    "for line in infile2:\n",
    "    if \"Batch\" not in line:\n",
    "        all_pops.append(line.strip().split())\n",
    "infile2.close()\n",
    "\n",
    "print \"Num. Outlier Loci using all samples: \", len(all_pops)\n",
    "print \"Num. Outlier Loci using southern & eastern samples: \", len(southeast)\n",
    "print len([i for i in southeast if i in all_pops]), \" outlier loci identified between southern & eastern sites also showed up in analysis using all samples.\"\n",
    "print \"Novel outlier loci in southern / eastern analysis: \"\n",
    "print [i for i in southeast if i not in all_pops]"
   ]
  },
  {
   "cell_type": "code",
   "execution_count": null,
   "metadata": {
    "collapsed": true
   },
   "outputs": [],
   "source": []
  },
  {
   "cell_type": "markdown",
   "metadata": {},
   "source": [
    "<br>\n",
    "<br>\n",
    "<br>\n",
    "\n",
    "### OutFLANK v. Bayescan\n",
    "\n",
    "** ALL POPULATIONS**"
   ]
  },
  {
   "cell_type": "code",
   "execution_count": 30,
   "metadata": {},
   "outputs": [
    {
     "name": "stdout",
     "output_type": "stream",
     "text": [
      "['10203', '14316', '14546', '17767', '18723', '1904', '19221', '2606', '2694', '2705', '3699']\n"
     ]
    }
   ],
   "source": [
    "## parse out outflank outlier locus IDs\n",
    "outflank = open(\"allKOR_b8_outflank_outliers.txt\", \"r\")\n",
    "outflank.readline()\n",
    "\n",
    "outflank_loci = []\n",
    "\n",
    "for line in outflank:\n",
    "    outflank_loci.append(line.strip().split(\",\")[1])\n",
    "outflank.close()\n",
    "\n",
    "## parse out bayescan outlier locus IDs\n",
    "bay = open(\"batch_8_BAYESCAN_outliers_stacksIDs.txt\", \"r\")\n",
    "bay.readline()\n",
    "\n",
    "bayescan_loci = []\n",
    "for line in bay:\n",
    "    bayescan_loci.append(line.strip())\n",
    "bay.close()\n",
    "\n",
    "## Identify matching loci\n",
    "print [i for i in outflank_loci if i in bayescan_loci]"
   ]
  },
  {
   "cell_type": "markdown",
   "metadata": {},
   "source": [
    "*note that all outlier loci identified in outflank were found in Bayescan.*"
   ]
  },
  {
   "cell_type": "code",
   "execution_count": null,
   "metadata": {
    "collapsed": true
   },
   "outputs": [],
   "source": []
  }
 ],
 "metadata": {
  "anaconda-cloud": {},
  "kernelspec": {
   "display_name": "Python 2",
   "language": "python",
   "name": "python2"
  },
  "language_info": {
   "codemirror_mode": {
    "name": "ipython",
    "version": 2
   },
   "file_extension": ".py",
   "mimetype": "text/x-python",
   "name": "python",
   "nbconvert_exporter": "python",
   "pygments_lexer": "ipython2",
   "version": "2.7.13"
  }
 },
 "nbformat": 4,
 "nbformat_minor": 1
}
