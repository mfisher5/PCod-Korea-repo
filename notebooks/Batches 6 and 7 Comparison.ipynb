{
 "cells": [
  {
   "cell_type": "markdown",
   "metadata": {},
   "source": [
    "## Comparison of batches 6 & 7: exploring heterozygosity\n",
    "\n",
    "<br>\n",
    "In batch 6 (haplotypes), I plotted heteryzogosity against read depth and ended up with several individuals with extremely high heterozygosity. \n",
    "\n",
    "For the same plot in batch 7 (random snps), I do not have any individuals with observed heterozygosities above 0.20. \n",
    "\n",
    "I think that this has something to do with using the haplotypes v. random snps method after `populations`, so I am going to... \n",
    "1. BLAST the batches 6 and 7 catalogs against each other to correlate loci names\n",
    "2. Create a dictionary with batch 7 loci names as the key, and batch 6 loci names as the value. \n",
    "3. Choose a subset of individuals\n",
    "4. Create a  list of loci that are missing genotypes in each individual\n",
    "5. Find those loci in the batch 6 and see if they are also missing, called as heterozygotes, or called as homozygotes. \n",
    "\n",
    "#### 9/18/2017\n",
    "\n",
    "### BLAST catalogs from batch 6 and batch 7\n",
    "\n",
    "<br>\n",
    "#### Create FASTA files from each catalog"
   ]
  },
  {
   "cell_type": "code",
   "execution_count": 1,
   "metadata": {
    "collapsed": false
   },
   "outputs": [
    {
     "name": "stdout",
     "output_type": "stream",
     "text": [
      "/mnt/hgfs/Pacific cod/DataAnalysis/PCod-Korea-repo/analyses\n"
     ]
    }
   ],
   "source": [
    "cd ../analyses"
   ]
  },
  {
   "cell_type": "code",
   "execution_count": 2,
   "metadata": {
    "collapsed": false
   },
   "outputs": [
    {
     "name": "stdout",
     "output_type": "stream",
     "text": [
      "/mnt/hgfs/Pacific cod/DataAnalysis/PCod-Korea-repo/analyses/batch6_v_batch7\n"
     ]
    }
   ],
   "source": [
    "cd batch6_v_batch7/"
   ]
  },
  {
   "cell_type": "code",
   "execution_count": 4,
   "metadata": {
    "collapsed": false
   },
   "outputs": [],
   "source": [
    "## Create FASTA from catalog.tags.tsv file: ##\n",
    "\n",
    "infile = open(\"batch_6.catalog.tags.tsv\", \"r\")\n",
    "outfile = open(\"batch_6_catalog.fa\", \"w\")\n",
    "\n",
    "for line in infile:\n",
    "    if not line.startswith(\"#\"):\n",
    "        linelist = line.strip().split()\n",
    "        locus = linelist[3]\n",
    "        seq = linelist[9]\n",
    "        outfile.write(\">\" + locus + \"\\n\" + seq + \"\\n\")\n",
    "infile.close()\n",
    "outfile.close()"
   ]
  },
  {
   "cell_type": "code",
   "execution_count": 5,
   "metadata": {
    "collapsed": true
   },
   "outputs": [],
   "source": [
    "## Create FASTA from catalog.tags.tsv file: ##\n",
    "\n",
    "infile = open(\"batch_7.catalog.tags.tsv\", \"r\")\n",
    "outfile = open(\"batch_7_catalog.fa\", \"w\")\n",
    "\n",
    "for line in infile:\n",
    "    if not line.startswith(\"#\"):\n",
    "        linelist = line.strip().split()\n",
    "        locus = linelist[3]\n",
    "        seq = linelist[9]\n",
    "        outfile.write(\">\" + locus + \"\\n\" + seq + \"\\n\")\n",
    "infile.close()\n",
    "outfile.close()"
   ]
  },
  {
   "cell_type": "markdown",
   "metadata": {},
   "source": [
    "#### Create BLAST database out of batch 7 catalog fasta file"
   ]
  },
  {
   "cell_type": "code",
   "execution_count": 6,
   "metadata": {
    "collapsed": false
   },
   "outputs": [
    {
     "name": "stdout",
     "output_type": "stream",
     "text": [
      "\n",
      "\n",
      "Building a new DB, current time: 09/18/2017 18:51:39\n",
      "New DB name:   /mnt/hgfs/Pacific cod/DataAnalysis/PCod-Korea-repo/analyses/batch6_v_batch7/batch_7_catalogDB\n",
      "New DB title:  batch_7_catalog.fa\n",
      "Sequence type: Nucleotide\n",
      "Keep Linkouts: T\n",
      "Keep MBits: T\n",
      "Maximum file size: 1000000000B\n",
      "Adding sequences from FASTA; added 25224 sequences in 1.20668 seconds.\n"
     ]
    }
   ],
   "source": [
    "!makeblastdb -in batch_7_catalog.fa \\\n",
    "-parse_seqids \\\n",
    "-dbtype nucl \\\n",
    "-out batch_7_catalogDB"
   ]
  },
  {
   "cell_type": "code",
   "execution_count": 9,
   "metadata": {
    "collapsed": true
   },
   "outputs": [],
   "source": [
    "!blastn -query batch_6_catalog.fa \\\n",
    "-db batch_7_catalogDB \\\n",
    "-out batch_6_BLASTto_batch_7_cat \\\n",
    "-outfmt 6"
   ]
  },
  {
   "cell_type": "markdown",
   "metadata": {},
   "source": [
    "### Create dictionary for loci that match between batches 6 & 7"
   ]
  },
  {
   "cell_type": "code",
   "execution_count": 10,
   "metadata": {
    "collapsed": false
   },
   "outputs": [
    {
     "name": "stdout",
     "output_type": "stream",
     "text": [
      "24912  reference loci aligned to only one batch 6 locus\n",
      "there were  28014  duplicates\n"
     ]
    }
   ],
   "source": [
    "## create a list of reference loci that have only one alignment in batch 6 data ##\n",
    "infile = open(\"batch_6_BLASTto_batch_7_cat\", \"r\")\n",
    "unique_loci = []\n",
    "duplicates = 0\n",
    "batch7to6_dict = {}\n",
    "\n",
    "for line in infile:\n",
    "    ref_locus = line.strip().split()[1]\n",
    "    if ref_locus not in unique_loci:\n",
    "        unique_loci.append(ref_locus)\n",
    "        batch7to6_dict[ref_locus] = line.strip().split()[0]\n",
    "    elif ref_locus in unique_loci:\n",
    "        duplicates += 1\n",
    "infile.close()\n",
    "print len(unique_loci), \" reference loci aligned to only one batch 6 locus\"\n",
    "print \"there were \", duplicates, \" duplicates\""
   ]
  },
  {
   "cell_type": "code",
   "execution_count": 12,
   "metadata": {
    "collapsed": true
   },
   "outputs": [],
   "source": [
    "outfile = open(\"batch7_unique_refloci.txt\", \"w\")\n",
    "for locus in batch7to6_dict.keys():\n",
    "    outfile.write(locus + \"\\t\" + batch7to6_dict[locus] + \"\\n\")\n",
    "outfile.close()"
   ]
  },
  {
   "cell_type": "markdown",
   "metadata": {},
   "source": [
    "#### 9/19/2017"
   ]
  },
  {
   "cell_type": "code",
   "execution_count": 1,
   "metadata": {
    "collapsed": false
   },
   "outputs": [
    {
     "name": "stdout",
     "output_type": "stream",
     "text": [
      "/mnt/hgfs/Pacific cod/DataAnalysis/PCod-Korea-repo/analyses/batch6_v_batch7\n"
     ]
    }
   ],
   "source": [
    "cd ../analyses/batch6_v_batch7/"
   ]
  },
  {
   "cell_type": "code",
   "execution_count": 3,
   "metadata": {
    "collapsed": false
   },
   "outputs": [],
   "source": [
    "# read back in loci for dictionary #\n",
    "infile = open(\"batch7_unique_refloci.txt\", \"r\")\n",
    "batch7to6_dict = {}\n",
    "for line in infile:\n",
    "    locus7 = line.strip().split()[0]\n",
    "    locus6 = line.strip().split()[1]\n",
    "    batch7to6_dict[locus7] = locus6\n",
    "infile.close()"
   ]
  },
  {
   "cell_type": "markdown",
   "metadata": {},
   "source": [
    "### Select a subset of individuals"
   ]
  },
  {
   "cell_type": "code",
   "execution_count": 4,
   "metadata": {
    "collapsed": true
   },
   "outputs": [],
   "source": [
    "import random\n",
    "individs_index = random.sample(xrange(299), 25)\n",
    "subset = []\n",
    "popmap = open(\"../../scripts/PopMap_L1-5_mdFilter_b7.txt\", \"r\")\n",
    "index = 0\n",
    "for line in popmap:\n",
    "    if index in individs_index:\n",
    "        subset.append(line.strip().split()[0])\n",
    "        index += 1\n",
    "    elif index not in individs_index:\n",
    "        index += 1\n",
    "popmap.close()"
   ]
  },
  {
   "cell_type": "code",
   "execution_count": 5,
   "metadata": {
    "collapsed": false
   },
   "outputs": [
    {
     "name": "stdout",
     "output_type": "stream",
     "text": [
      "['PO010715_08.1', 'PO020515_05.1', 'PO020515_08.1', 'GE011215_01.1', 'GE011215_07.1', 'GE011215_18', 'GE011215_28', 'GE012315_17.1', 'GEO012315_18', 'NA021015_21.1', 'YS121315_12', 'JUK07_03', 'JUK07_14', 'JUK07_21', 'JUK07_34', 'JB121807_05_2', 'JB021108_05_rep', 'JB021108_09.1', 'JB021108_25.1', 'JB021108_23', 'BOR07_07.1', 'BOR07_15', 'BOR07_22', 'GEO020414_15', 'GEO020414_9']\n"
     ]
    }
   ],
   "source": [
    "print subset"
   ]
  },
  {
   "cell_type": "markdown",
   "metadata": {},
   "source": [
    "### Find loci in those individuals that are NOT genotyped in batch 7"
   ]
  },
  {
   "cell_type": "code",
   "execution_count": 10,
   "metadata": {
    "collapsed": false
   },
   "outputs": [],
   "source": [
    "## create a dictionary that lists loci missing genotypes in batch 7. key is individual name ##\n",
    "genos_missing_dict = {}\n",
    "\n",
    "for sample in subset:\n",
    "    genepop = open(\"../../stacks_b7_wgenome/batch_7.filteredLoci20_filteredMAF_filteredIndivids_filteredHWE.txt\", \"r\")\n",
    "    header = genepop.readline().split(\"\\t\")\n",
    "    index = 0\n",
    "    for i in header:\n",
    "        if i == sample:\n",
    "            break\n",
    "        else:\n",
    "            index += 1\n",
    "    genos_missing_list = []\n",
    "    for line in genepop:\n",
    "        linelist = line.strip().split()\n",
    "        locus = linelist[0].split(\"_\")[0]\n",
    "        genotype = linelist[index]\n",
    "        if genotype == \"0000\":\n",
    "            genos_missing_list.append(locus)\n",
    "    genos_missing_dict[sample] = genos_missing_list\n",
    "    genepop.close()\n"
   ]
  },
  {
   "cell_type": "code",
   "execution_count": 11,
   "metadata": {
    "collapsed": false,
    "scrolled": true
   },
   "outputs": [
    {
     "name": "stdout",
     "output_type": "stream",
     "text": [
      "['1610', '3902', '4319', '4325', '5755', '6422', '8177', '10357', '10550', '11860', '12119', '12243', '12753', '15183', '15977', '17293', '17991', '18011', '18621', '18800', '19855', '20095', '21169', '21603', '21960', '21974', '22009', '22515', '23086', '23365', '24213', '24801']\n"
     ]
    }
   ],
   "source": [
    "print genos_missing_dict['PO010715_08.1']"
   ]
  },
  {
   "cell_type": "markdown",
   "metadata": {},
   "source": [
    "### Determine genotypes in those loci for batch 6\n",
    "\n",
    "#### Find the corresponding batch 6 loci for loci NOT genotyped in batch 7 \n",
    "(note that not all loci missing genotypes in batch 7 were present in batch 6)"
   ]
  },
  {
   "cell_type": "code",
   "execution_count": 16,
   "metadata": {
    "collapsed": false
   },
   "outputs": [],
   "source": [
    "## create a dictionary that lists corresponding batch 6 locus for loci missing genos in batch 7 ##\n",
    "### key is still individual name ###\n",
    "genos_missing_b6loci_dict = {} #for loci that have a match in batch 6, save batch 6 loci name\n",
    "genos_missing_nob6loci_dict = {} #for loci that do NOT have a match in batch 6, save batch 7 loci name\n",
    "for sample in subset:\n",
    "    batch7_loci = genos_missing_dict[sample]\n",
    "    batch6_loci = []\n",
    "    batch7_nob6_loci = []\n",
    "    for locus in batch7_loci:\n",
    "        if locus in batch7to6_dict.keys():\n",
    "            locusb6 = batch7to6_dict[locus]\n",
    "            batch6_loci.append(locusb6)\n",
    "        elif locus not in batch7to6_dict.keys():\n",
    "            batch7_nob6_loci.append(locus)\n",
    "    genos_missing_b6loci_dict[sample] = batch6_loci\n",
    "    genos_missing_nob6loci_dict[sample] = batch7_nob6_loci"
   ]
  },
  {
   "cell_type": "code",
   "execution_count": 17,
   "metadata": {
    "collapsed": false
   },
   "outputs": [
    {
     "name": "stdout",
     "output_type": "stream",
     "text": [
      "['4319', '6422', '8177', '10357', '10550', '11860', '12119', '11128', '12753', '15183', '17293', '17991', '18011', '18800', '19855', '21169', '21974', '22009', '23365', '24213', '24801']\n",
      "['1610', '3902', '4325', '5755', '15977', '18621', '20095', '21603', '21960', '22515', '23086']\n"
     ]
    }
   ],
   "source": [
    "print genos_missing_b6loci_dict['PO010715_08.1']\n",
    "print genos_missing_nob6loci_dict['PO010715_08.1']"
   ]
  },
  {
   "cell_type": "code",
   "execution_count": 24,
   "metadata": {
    "collapsed": false
   },
   "outputs": [
    {
     "name": "stdout",
     "output_type": "stream",
     "text": [
      "sample size:  20\n"
     ]
    }
   ],
   "source": [
    "## create a dictionary that lists genotypes for loci in genos_missing_b6loci_dict ##\n",
    "### key is still individual name ###\n",
    "subset_2 = []\n",
    "genepop = open(\"../../stacks_b6_wgenome/batch_6.filteredMAF_filteredLoci_20filteredIndivids_filteredHWE.txt\", \"r\")\n",
    "header = genepop.readline().split(\"\\t\")\n",
    "genepop.close()\n",
    "count = 0 \n",
    "for sample in subset:\n",
    "    if sample in header:\n",
    "        subset_2.append(sample)\n",
    "        count += 1\n",
    "print \"sample size: \", count\n",
    "    \n",
    "genotypes_b6_b7missing_dict = {}\n",
    "for sample in subset_2:\n",
    "    genepop = open(\"../../stacks_b6_wgenome/batch_6.filteredMAF_filteredLoci_20filteredIndivids_filteredHWE.txt\", \"r\")\n",
    "    header = genepop.readline().split(\"\\t\")\n",
    "    index = 0\n",
    "    for i in header:\n",
    "        if i == sample:\n",
    "            break\n",
    "        else:\n",
    "            index += 1\n",
    "    genos_list = []\n",
    "    for line in genepop:\n",
    "        linelist = line.strip().split()\n",
    "        locus = linelist[0].split(\"_\")[0]\n",
    "        if locus in genos_missing_b6loci_dict[sample]:\n",
    "            genos_list.append(linelist[index])\n",
    "    genotypes_b6_b7missing_dict[sample] = genos_list\n",
    "    genepop.close()"
   ]
  },
  {
   "cell_type": "code",
   "execution_count": 25,
   "metadata": {
    "collapsed": false
   },
   "outputs": [
    {
     "name": "stdout",
     "output_type": "stream",
     "text": [
      "['0202', '0202', '0202']\n"
     ]
    }
   ],
   "source": [
    "print genotypes_b6_b7missing_dict['PO010715_08.1']"
   ]
  },
  {
   "cell_type": "markdown",
   "metadata": {},
   "source": [
    "**At first, I was confused about why I have more loci matched between b6 and b7 (previous step) than genotypes, but I'm assuming that it is because certain catalog loci were filtered out by the final genepop.**"
   ]
  },
  {
   "cell_type": "code",
   "execution_count": 29,
   "metadata": {
    "collapsed": false
   },
   "outputs": [],
   "source": [
    "## Create list of just genotypes from batch 6 ###\n",
    "b6_genos_all = []\n",
    "for sample in subset_2:\n",
    "    if len(genotypes_b6_b7missing_dict[sample]) > 0:\n",
    "        for i in genotypes_b6_b7missing_dict[sample]:\n",
    "            b6_genos_all.append(i)"
   ]
  },
  {
   "cell_type": "markdown",
   "metadata": {},
   "source": [
    "### Compare heterozygotes, homozygotes, missing"
   ]
  },
  {
   "cell_type": "code",
   "execution_count": 30,
   "metadata": {
    "collapsed": true
   },
   "outputs": [],
   "source": [
    "import numpy as np\n",
    "import matplotlib.pyplot as plt"
   ]
  },
  {
   "cell_type": "code",
   "execution_count": 38,
   "metadata": {
    "collapsed": false
   },
   "outputs": [],
   "source": [
    "het = []\n",
    "hom = []\n",
    "missing = []\n",
    "for geno in b6_genos_all:\n",
    "    if geno == \"0101\" or geno == \"0202\":\n",
    "        hom.append(geno)\n",
    "    elif geno == \"0102\":\n",
    "        het.append(geno)\n",
    "    elif geno == \"0000\":\n",
    "        missing.append(geno)"
   ]
  },
  {
   "cell_type": "code",
   "execution_count": 39,
   "metadata": {
    "collapsed": false
   },
   "outputs": [
    {
     "name": "stdout",
     "output_type": "stream",
     "text": [
      "43  Heterozygotes in batch 6\n",
      "195  Homozygotes in batch 6\n",
      "16  Genotypes Missing in batch 6\n"
     ]
    }
   ],
   "source": [
    "print len(het), \" Heterozygotes in batch 6\"\n",
    "print len(hom), \" Homozygotes in batch 6\"\n",
    "print len(missing), \" Genotypes Missing in batch 6\""
   ]
  },
  {
   "cell_type": "markdown",
   "metadata": {},
   "source": [
    "<br>\n",
    "<br>\n",
    "\n",
    "### Potential explanations:\n",
    "\n",
    "1. In batch 7, I have filtered out the loci that were heterozygous in batch 6 \"contaminated\" individuals\n",
    "2. The loci in batch 6 that were considered heterozygous in \"contaminated\" individuals were undersplit - so they matched to 1+ locus in the BLAST comparison, and the corresponding multiple batch 7 loci are homozygous??\n",
    "\n",
    "\n",
    "<br>\n",
    "<br>\n",
    "\n",
    "## Comparison of batches 6 & 7: exploring heterozygosity P2\n",
    "\n",
    "What proportion of the matching loci between batches 6 & 7 are heterozygous in batch 6, but not in batch 7? FOR BATCH 6 CONTAMINATED INDIVIDUALS\n",
    "\n",
    "1. Find genotypes of matching loci for contaminated individuals, batch 6. Find proportion heterozygous\n",
    "2. Find genotypes of corresponding loci for contaminated individuals, batch 7. Find proportion heterozygous"
   ]
  },
  {
   "cell_type": "code",
   "execution_count": 60,
   "metadata": {
    "collapsed": false
   },
   "outputs": [],
   "source": [
    "## I already have my dictionary to match loci ##\n",
    "\n",
    "## The following code identifies genotypes of matched batch 6 loci for \"contaminated\" individuals ##\n",
    "\n",
    "# keep the matching loci that show up in the final genotyped files ONLY #\n",
    "b6_filtered = []\n",
    "infile = open(\"../../stacks_b6_wgenome/batch_6.filteredMAF_filteredLoci_20filteredIndivids_filteredHWE.txt\", \"r\")\n",
    "infile.readline()\n",
    "for line in infile:\n",
    "    if not line.startswith(\"sample\"):\n",
    "        b6_filtered.append(line.strip().split()[0])\n",
    "infile.close\n",
    "\n",
    "b7_filtered = []\n",
    "infile = open(\"../../stacks_b7_wgenome/batch_7.filteredLoci20_filteredMAF_filteredIndivids_filteredHWE.txt\", \"r\")\n",
    "infile.readline()\n",
    "for line in infile:\n",
    "    if not line.startswith(\"sample\"):\n",
    "        b7_filtered.append(line.strip().split()[0].split(\"_\")[0])\n",
    "infile.close\n",
    "\n",
    "\n",
    "retained_matching_loci = {}\n",
    "retained_matching_locib6 = []\n",
    "matching_loci_b6_only = []\n",
    "for locus in batch7to6_dict.keys():\n",
    "    if locus in b7_filtered and batch7to6_dict[locus] in b6_filtered:\n",
    "        retained_matching_loci[locus] = batch7to6_dict[locus]\n",
    "        retained_matching_locib6.append(batch7to6_dict[locus])\n",
    "    elif batch7to6_dict[locus] in b6_filtered and locus not in b7_filtered:\n",
    "        matching_loci_b6_only.append(batch7to6_dict[locus])"
   ]
  },
  {
   "cell_type": "code",
   "execution_count": 59,
   "metadata": {
    "collapsed": false
   },
   "outputs": [
    {
     "name": "stdout",
     "output_type": "stream",
     "text": [
      "754\n"
     ]
    }
   ],
   "source": [
    "print len(retained_matching_locib6)"
   ]
  },
  {
   "cell_type": "code",
   "execution_count": 61,
   "metadata": {
    "collapsed": false
   },
   "outputs": [
    {
     "name": "stdout",
     "output_type": "stream",
     "text": [
      "3357\n"
     ]
    }
   ],
   "source": [
    "print len(matching_loci_b6_only)"
   ]
  },
  {
   "cell_type": "code",
   "execution_count": 70,
   "metadata": {
    "collapsed": false,
    "scrolled": true
   },
   "outputs": [
    {
     "name": "stdout",
     "output_type": "stream",
     "text": [
      "GE011215_08.1\n",
      "34\n",
      "GE012315_11.1\n",
      "57\n",
      "GE012315_09.1\n",
      "55\n",
      "NA021015_09.1\n",
      "69\n",
      "NA021015_10.1\n",
      "70\n",
      "NA021015_06.1\n",
      "67\n",
      "PO010715_26\n",
      "11\n",
      "YS_121316_20.1\n",
      "87\n",
      "YS121315_14.1\n",
      "101\n",
      "BOR07_10.1\n",
      "193\n",
      "YS_121316_05\n",
      "83\n",
      "JUK07_06.1\n",
      "109\n"
     ]
    }
   ],
   "source": [
    "contam = ['GE011215_08.1', 'GE012315_11.1', 'GE012315_09.1', 'NA021015_09.1', 'NA021015_10.1', 'NA021015_06.1', 'PO010715_26', 'YS_121316_20.1', 'YS121315_14.1', 'BOR07_10.1', 'YS_121316_05', 'JUK07_06.1']\n",
    "\n",
    "p_het6_only = []\n",
    "p_het6_matched = []\n",
    "\n",
    "for sample in contam:\n",
    "    #batch 6\n",
    "    het6_only = 0\n",
    "    genotyped6_only = 0\n",
    "    het6_matched = 0\n",
    "    genotyped6_matched = 0\n",
    "    genepop6 = open(\"../../stacks_b6_wgenome/batch_6.filteredMAF_filteredLoci_20filteredIndivids_filteredHWE.txt\", \"r\")\n",
    "    header = genepop6.readline().split(\"\\t\")\n",
    "    index = 0\n",
    "    for i in header:\n",
    "        if i == sample:\n",
    "            break\n",
    "        else:\n",
    "            index += 1\n",
    "    print sample\n",
    "    print index\n",
    "    genotypes_b6_matched = []\n",
    "    genotypes_b6_only = []\n",
    "    for line in genepop6:\n",
    "        linelist = line.strip().split()\n",
    "        locus = linelist[0].split(\"_\")[0]\n",
    "        if locus in retained_matching_locib6:\n",
    "            genotypes_b6_matched.append(linelist[index])\n",
    "        elif locus in matching_loci_b6_only:\n",
    "            genotypes_b6_only.append(linelist[index])\n",
    "    #calculate heterozygosities\n",
    "    n_gen6_only = len([i for i in genotypes_b6_only if i != \"0000\"])\n",
    "    n_het6_only = len([i for i in genotypes_b6_only if i == \"0102\"])\n",
    "    n_gen6_matched = len([i for i in genotypes_b6_matched if i != \"0000\"])\n",
    "    n_het6_matched = len([i for i in genotypes_b6_matched if i == \"0102\"])\n",
    "    \n",
    "    p_het6_only.append(float(n_het6_only)/float(n_gen6_only))\n",
    "    p_het6_matched.append(float(n_het6_matched)/float(n_gen6_matched))"
   ]
  },
  {
   "cell_type": "code",
   "execution_count": 76,
   "metadata": {
    "collapsed": false
   },
   "outputs": [
    {
     "name": "stdout",
     "output_type": "stream",
     "text": [
      "batch6 only\tmatched loci\n",
      "0.24112961622 \t0.26\n",
      "0.31067961165 \t0.339335180055\n",
      "0.349895760945 \t0.378303198887\n",
      "0.287552155772 \t0.287899860918\n",
      "0.273393854749 \t0.283727399166\n",
      "0.274468826193 \t0.291492329149\n",
      "0.274496177901 \t0.285318559557\n",
      "0.277642134636 \t0.260869565217\n",
      "0.290616246499 \t0.309423347398\n",
      "0.319468717232 \t0.329113924051\n",
      "0.228715728716 \t0.263532763533\n",
      "0.236951983299 \t0.23928077455\n"
     ]
    }
   ],
   "source": [
    "print \"batch6 only\\tmatched loci\"\n",
    "for i in range(0, len(p_het6_only)):\n",
    "    print p_het6_only[i], \"\\t\", p_het6_matched[i]"
   ]
  },
  {
   "cell_type": "markdown",
   "metadata": {},
   "source": [
    "### Conclusions...\n",
    "\n",
    "It doesn't look like the loci that were retained in batch 6 and filtered out in batch 7 have a very different heterozygosity than those retained in both batches. So it (likely) doesn't have much to do with the loci that are being retained, but rather the way that they are being genotyped.\n",
    "\n",
    "<br>\n",
    "<br>\n",
    "<br>\n",
    "<br>\n",
    "\n",
    "## Comparison of batches 6 & 7: exploring heterozygosity P3\n",
    "\n",
    "Comparing read depth at loci that are shared v. batch 6 only (read depth calculated from batch 6 files). \n",
    "\n",
    "In order to run this, I will need to make sure that the following objects are saved:\n",
    "1. retained_matching_locib6\n",
    "2. matching_loci_b6_only\n",
    "3. batch7to6_dict\n",
    "\n",
    "\n",
    "### Read depth at Loci that are batch 6 only"
   ]
  },
  {
   "cell_type": "code",
   "execution_count": 2,
   "metadata": {
    "collapsed": false
   },
   "outputs": [
    {
     "data": {
      "text/plain": [
       "u'/mnt/hgfs/Pacific cod/DataAnalysis/PCod-Korea-repo/notebooks'"
      ]
     },
     "execution_count": 2,
     "metadata": {},
     "output_type": "execute_result"
    }
   ],
   "source": [
    "pwd"
   ]
  },
  {
   "cell_type": "code",
   "execution_count": 3,
   "metadata": {
    "collapsed": false
   },
   "outputs": [
    {
     "name": "stdout",
     "output_type": "stream",
     "text": [
      "/mnt/hgfs/Pacific cod/DataAnalysis/PCod-Korea-repo/analyses/batch6_v_batch7\n"
     ]
    }
   ],
   "source": [
    "cd ../analyses/batch6_v_batch7/"
   ]
  },
  {
   "cell_type": "code",
   "execution_count": 4,
   "metadata": {
    "collapsed": false
   },
   "outputs": [],
   "source": [
    "# read back in loci for dictionary #\n",
    "infile = open(\"batch7_unique_refloci.txt\", \"r\")\n",
    "batch7to6_dict = {}\n",
    "for line in infile:\n",
    "    locus7 = line.strip().split()[0]\n",
    "    locus6 = line.strip().split()[1]\n",
    "    batch7to6_dict[locus7] = locus6\n",
    "infile.close()"
   ]
  },
  {
   "cell_type": "code",
   "execution_count": 5,
   "metadata": {
    "collapsed": true
   },
   "outputs": [],
   "source": [
    "## The following code identifies genotypes of matched batch 6 loci for \"contaminated\" individuals ##\n",
    "\n",
    "# keep the matching loci that show up in the final genotyped files ONLY #\n",
    "b6_filtered = []\n",
    "infile = open(\"../../stacks_b6_wgenome/batch_6.filteredMAF_filteredLoci_20filteredIndivids_filteredHWE.txt\", \"r\")\n",
    "infile.readline()\n",
    "for line in infile:\n",
    "    if not line.startswith(\"sample\"):\n",
    "        b6_filtered.append(line.strip().split()[0])\n",
    "infile.close\n",
    "\n",
    "b7_filtered = []\n",
    "infile = open(\"../../stacks_b7_wgenome/batch_7.filteredLoci20_filteredMAF_filteredIndivids_filteredHWE.txt\", \"r\")\n",
    "infile.readline()\n",
    "for line in infile:\n",
    "    if not line.startswith(\"sample\"):\n",
    "        b7_filtered.append(line.strip().split()[0].split(\"_\")[0])\n",
    "infile.close\n",
    "\n",
    "\n",
    "retained_matching_loci = {}\n",
    "retained_matching_locib6 = []\n",
    "matching_loci_b6_only = []\n",
    "for locus in batch7to6_dict.keys():\n",
    "    if locus in b7_filtered and batch7to6_dict[locus] in b6_filtered:\n",
    "        retained_matching_loci[locus] = batch7to6_dict[locus]\n",
    "        retained_matching_locib6.append(batch7to6_dict[locus])\n",
    "    elif batch7to6_dict[locus] in b6_filtered and locus not in b7_filtered:\n",
    "        matching_loci_b6_only.append(batch7to6_dict[locus])"
   ]
  },
  {
   "cell_type": "code",
   "execution_count": 7,
   "metadata": {
    "collapsed": true
   },
   "outputs": [],
   "source": [
    "contam = ['GE011215_08.1', 'GE012315_11.1', 'GE012315_09.1', 'NA021015_09.1', 'NA021015_10.1', 'NA021015_06.1', 'PO010715_26', 'YS_121316_20.1', 'YS121315_14.1', 'BOR07_10.1', 'YS_121316_05', 'JUK07_06.1']\n"
   ]
  },
  {
   "cell_type": "code",
   "execution_count": 11,
   "metadata": {
    "collapsed": false
   },
   "outputs": [],
   "source": [
    "b6_only_depth = []\n",
    "b6_matched_depth = []\n",
    "outfile = open(\"stack_depths_b6.txt\", \"w\")\n",
    "outfile.write(\"individual\\tdepths_matched_loci\\tdepths_b6_only_loci\\n\")\n",
    "\n",
    "for sample in contam:\n",
    "    ## find that locus in the matches file and save the total depth to dict.\n",
    "    mfile = open(\"../../stacks_b7_wgenome/\" + sample + \".matches.tsv\", \"r\")\n",
    "    loci_depths_matched_dict = {}\n",
    "    loci_depths_b6only_dict = {}\n",
    "    for line in mfile:\n",
    "        if not line.startswith(\"#\"):\n",
    "            cat_locus = line.strip().split()[2]\n",
    "            ## If locus is only in b6 ##\n",
    "            if cat_locus in retained_matching_locib6 and cat_locus not in loci_depths_matched_dict.keys():\n",
    "                loci_depths_matched_dict[cat_locus] = int(line.strip().split()[6])\n",
    "            elif cat_locus in retained_matching_locib6 and cat_locus in loci_depths_matched_dict.keys():\n",
    "                depth = loci_depths_matched_dict[cat_locus]\n",
    "                depth += int(line.strip().split()[6])\n",
    "                loci_depths_matched_dict[cat_locus] = depth\n",
    "            ## if locus is matched b6 and b7 ##\n",
    "            elif cat_locus in matching_loci_b6_only and cat_locus not in loci_depths_b6only_dict.keys():\n",
    "                loci_depths_b6only_dict[cat_locus] = int(line.strip().split()[6])\n",
    "            elif cat_locus in matching_loci_b6_only and cat_locus in loci_depths_b6only_dict.keys():\n",
    "                depth = loci_depths_b6only_dict[cat_locus]\n",
    "                depth += int(line.strip().split()[6])\n",
    "                loci_depths_b6only_dict[cat_locus] = depth\n",
    "    mfile.close()\n",
    "    ## append stack depths of loci in this individual to list.\n",
    "    outfile.write(sample + \"\\t\")\n",
    "    for locus in loci_depths_matched_dict.keys():\n",
    "        b6_matched_depth.append(loci_depths_matched_dict[locus])\n",
    "        outfile.write(str(loci_depths_matched_dict[locus]) + \",\")\n",
    "    outfile.write(\"\\t\")\n",
    "    for locus in loci_depths_b6only_dict.keys():\n",
    "        b6_only_depth.append((loci_depths_b6only_dict[locus]))\n",
    "        outfile.write(str(loci_depths_b6only_dict[locus]) + \",\")\n",
    "    outfile.write(\"\\n\")\n",
    "outfile.close()"
   ]
  },
  {
   "cell_type": "code",
   "execution_count": 12,
   "metadata": {
    "collapsed": false
   },
   "outputs": [
    {
     "name": "stdout",
     "output_type": "stream",
     "text": [
      "[23, 122, 12, 10, 69, 17, 27, 49, 24, 32]\n"
     ]
    }
   ],
   "source": [
    "print b6_only_depth[0:10]"
   ]
  },
  {
   "cell_type": "code",
   "execution_count": 13,
   "metadata": {
    "collapsed": true
   },
   "outputs": [],
   "source": [
    "import numpy as np\n",
    "import matplotlib.pyplot as plt"
   ]
  },
  {
   "cell_type": "code",
   "execution_count": 22,
   "metadata": {
    "collapsed": true
   },
   "outputs": [],
   "source": [
    "data_for_plot = [b6_only_depth, b6_matched_depth]"
   ]
  },
  {
   "cell_type": "code",
   "execution_count": 23,
   "metadata": {
    "collapsed": false
   },
   "outputs": [
    {
     "data": {
      "image/png": "[encoded data removed]",
      "text/plain": [
       "<matplotlib.figure.Figure at 0x7f27b9226e90>"
      ]
     },
     "metadata": {},
     "output_type": "display_data"
    }
   ],
   "source": [
    "plt.figure()\n",
    "plt.boxplot(data_for_plot)\n",
    "plt.show()"
   ]
  },
  {
   "cell_type": "code",
   "execution_count": 24,
   "metadata": {
    "collapsed": true
   },
   "outputs": [],
   "source": [
    "plt.close()"
   ]
  },
  {
   "cell_type": "code",
   "execution_count": 25,
   "metadata": {
    "collapsed": true
   },
   "outputs": [],
   "source": [
    "b6_only_depth_lt1000 = [i for i in b6_only_depth if i < 1000]\n",
    "b6_matched_depth_lt1000 = [i for i in b6_matched_depth if i < 1000]"
   ]
  },
  {
   "cell_type": "code",
   "execution_count": 26,
   "metadata": {
    "collapsed": true
   },
   "outputs": [],
   "source": [
    "data_for_plot2 = [b6_only_depth_lt1000, b6_matched_depth_lt1000]"
   ]
  },
  {
   "cell_type": "code",
   "execution_count": 28,
   "metadata": {
    "collapsed": false
   },
   "outputs": [
    {
     "data": {
      "image/png": "[encoded data removed]",
      "text/plain": [
       "<matplotlib.figure.Figure at 0x7f27b90c5310>"
      ]
     },
     "metadata": {},
     "output_type": "display_data"
    }
   ],
   "source": [
    "plt.figure()\n",
    "plt.boxplot(data_for_plot2)\n",
    "plt.xticks([1,2], ['b6 only', 'b6&b7'])\n",
    "plt.show()"
   ]
  },
  {
   "cell_type": "code",
   "execution_count": 29,
   "metadata": {
    "collapsed": true
   },
   "outputs": [],
   "source": [
    "plt.close()"
   ]
  },
  {
   "cell_type": "code",
   "execution_count": null,
   "metadata": {
    "collapsed": true
   },
   "outputs": [],
   "source": []
  }
 ],
 "metadata": {
  "anaconda-cloud": {},
  "kernelspec": {
   "display_name": "Python [default]",
   "language": "python",
   "name": "python2"
  },
  "language_info": {
   "codemirror_mode": {
    "name": "ipython",
    "version": 2
   },
   "file_extension": ".py",
   "mimetype": "text/x-python",
   "name": "python",
   "nbconvert_exporter": "python",
   "pygments_lexer": "ipython2",
   "version": "2.7.12"
  }
 },
 "nbformat": 4,
 "nbformat_minor": 1
}
