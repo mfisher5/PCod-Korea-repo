{
 "cells": [
  {
   "cell_type": "markdown",
   "metadata": {},
   "source": [
    "## Replicates - Comparisons\n",
    "\n",
    "#### Batch 8 \n",
    "\n",
    "I have a lot of replicate samples in my populations - true replicates, 300 v 500ng replicates, and reruns to see if I can replace low quality / low read depth / potentially contaminated samples. \n",
    "\n",
    "I need to (1) look at error rate between these replicates, and (2) decide which of the two samples I'll be using for my popgen analyses. \n",
    "\n",
    "For most of this I worked in excel; some graphs produced through R. \n",
    "\n",
    "<br>\n",
    "#### 9/29/2017\n",
    "\n",
    "### Replicates:"
   ]
  },
  {
   "cell_type": "code",
   "execution_count": 1,
   "metadata": {
    "collapsed": false
   },
   "outputs": [
    {
     "name": "stdout",
     "output_type": "stream",
     "text": [
      "PO010715_02\tPO010715_02_rep\r",
      "\r\n",
      "PO010715_26\tPO010715_26_2\r",
      "\r\n",
      "PO010715_07\tPO010715_07_rep\r",
      "\r\n",
      "PO010715_07\tPO010715_07_rep\r",
      "\r\n",
      "GE012315_11.1\tGE012315_11_2\r",
      "\r\n",
      "GE012315_09.1\tGE012315_09_2\r",
      "\r\n",
      "GE011215_11\tGE011215_11_rep\r",
      "\r\n",
      "NA021015_06.1\tNA021015_06_2\r",
      "\r\n",
      "NA021015_09.1\tNA021015_09_2\r",
      "\r\n",
      "NA021015_10.1\tNA021015_10_2\r",
      "\r\n",
      "YS_121316_20.1\tYS_121316_20_2\r",
      "\r\n",
      "YS_121316_21\tYS_121316_21_2\r",
      "\r\n",
      "YS121315_12\tYS121315_12_300\r",
      "\r\n",
      "YS121315_14.1\tYS121315_14_2\r",
      "\r\n",
      "JUK07_02.1\tJUK07_02_rep.1\r",
      "\r\n",
      "JUK07_06.1\tJUK07_06_2\r",
      "\r\n",
      "JUK07_09.1\tJUK07_09_rep.1\r",
      "\r\n",
      "JUK07_16.1\tJUK07_16_rep.1\r",
      "\r\n",
      "JB121807_08\tJB121807_08_rep\r",
      "\r\n",
      "JB121807_03.1\tJB121807_03_rep\r",
      "\r\n",
      "JB121807_05\tJB121807_05_2\r",
      "\r\n",
      "JB121807_16.1\tJB121807_16_2\r",
      "\r\n",
      "JB121807_27\tJB121807_27_2\r",
      "\r\n",
      "JB121807_30\tJB121807_30_2\r",
      "\r\n",
      "JB021108_05\tJB021108_05_rep\r",
      "\r\n",
      "JB021108_35\tJB021108_35_rep\r",
      "\r\n",
      "JB021108_36.1\tJB021108_36_rep.1\r",
      "\r\n",
      "JB021108_37.1\tJB021108_37_rep.1\r",
      "\r\n",
      "JB021108_46.1\tJB021108_46_rep.1\r",
      "\r\n",
      "JB021108_11_2\tJB021108_11_rep\r",
      "\r\n",
      "JB021108_25.1\tJB021108_25_2\r",
      "\r\n",
      "BOR07_01\tBOR07_01_2\r",
      "\r\n",
      "BOR07_21.1\tBOR07_21_2\r",
      "\r\n",
      "GEO020414_10\tGEO020414_10_2\r",
      "\r\n",
      "GEO020414_13_300\tGEO020414_13_2\r",
      "\r\n",
      "GEO020414_30\tGEO020414_30_2\r",
      "\r\n",
      "GEO020414_8\tGEO020414_8_300\r",
      "\r\n",
      "GEO020414_9\tGEO020414_9_300\r",
      "\r\n",
      "GEO020414_11\tGEO020414_11_300\r",
      "\r\n",
      "GEO020414_14\tGEO020414_14_300\r",
      "\r\n",
      "GEO020414_15\tGEO020414_15_300\r",
      "\r\n",
      "GEO020414_16\tGEO020414_16_300\r",
      "\r\n",
      "GEO020414_17\tGEO020414_17_300\r",
      "\r\n",
      "GEO020414_23\tGEO020414_23_300\r",
      "\r\n",
      "GEO020414_24\tGEO020414_24_300\r",
      "\r\n",
      "GEO020414_25\tGEO020414_25_300"
     ]
    }
   ],
   "source": [
    "!cat ../analyses/batch_8_replicates.txt"
   ]
  },
  {
   "cell_type": "markdown",
   "metadata": {},
   "source": [
    "<br>\n",
    "### Create Matrix file with only replicate samples\n",
    "\n",
    "Loci are column headers, samples are in rows."
   ]
  },
  {
   "cell_type": "code",
   "execution_count": 2,
   "metadata": {
    "collapsed": true
   },
   "outputs": [],
   "source": [
    "infile = open(\"../analyses/batch_8_replicates.txt\", \"r\")\n",
    "replicates_list = []\n",
    "for line in infile:\n",
    "    linelist = line.strip().split()\n",
    "    for item in linelist:\n",
    "        replicates_list.append(item)\n",
    "infile.close()"
   ]
  },
  {
   "cell_type": "code",
   "execution_count": 9,
   "metadata": {
    "collapsed": false
   },
   "outputs": [
    {
     "name": "stdout",
     "output_type": "stream",
     "text": [
      "All samples successfully copied into new genepop.\n"
     ]
    }
   ],
   "source": [
    "# open original genepop, create new genepops\n",
    "infile = open(\"../stacks_b8_wgenome/batch_8_filteredMAF_filteredIndivids30_filteredLoci_filteredHWE.gen\", \"r\")\n",
    "repsfile = open(\"../stacks_b8_wgenome/batch_8_filteredMAF_filteredIndivids30_filteredLoci_filteredHWE_replicates.gen\", \"w\")\n",
    "\n",
    "\n",
    "pop_count = 0\n",
    "\n",
    "title = infile.readline()\n",
    "repsfile.write(title)\n",
    "\n",
    "#save the title line of the genepop, all of the loci, and the first incidence of \"Pop\" to an object.\n",
    "#then write that as the heading for all new genepop files.\n",
    "heading = \"\"\n",
    "for line in infile:\n",
    "    if not line.startswith(\"Pop\"):\n",
    "        heading += line\n",
    "    else:\n",
    "        heading += line\n",
    "        break\n",
    "\n",
    "loci_list = heading.split()\n",
    "repsfile.write(\"\\t\".join(loci_list) + \"\\n\")\n",
    "\n",
    "#separate individuals into the appropriate genepop file using the sample site abbrevs. in sample name\n",
    "samples_added = []\n",
    "for line in infile:\n",
    "    sample = line.strip().split(\"\\t\")[0].strip(\",\")\n",
    "    if sample in replicates_list:\n",
    "        repsfile.write(line)\n",
    "        samples_added.append(sample)\n",
    "        \n",
    "infile.close()\n",
    "repsfile.close()\n",
    "\n",
    "missing = len([i for i in replicates_list if i not in samples_added])\n",
    "if missing > 0:\n",
    "    print \"Crap! \", missing, \" samples not copied over\"\n",
    "else:\n",
    "    print \"All samples successfully copied into new genepop.\""
   ]
  },
  {
   "cell_type": "markdown",
   "metadata": {},
   "source": [
    "<br>\n",
    "<br>\n",
    "### Compare Heterozygosity and Missing Genotypes between replicates\n",
    "\n",
    "I did this in excel. See [this spreadsheet](). \n",
    "\n",
    "#### CHOOSING WHICH REPLICATES TO RETAIN: DECISION PROCESS\n",
    "\n",
    "Used for all replicates EXCEPT 500v300ng replicates, where I used only the 300ng. \n",
    "\n",
    "<br>\n",
    "*I don't know why this is sideways!*\n",
    "\n",
    "![img-retain-samples-decision-tree](https://github.com/mfisher5/PCod-Korea-repo/blob/master/nb_pictures/reps_flowchart.jpg?raw=true)\n",
    "\n",
    "<br>\n",
    "<br>\n",
    "**Missing Data & Heterozygosity**\n",
    "\n",
    "Per the plot found in the ML Relate analyses for this batch, lower read depth usually led to lower heterozygosity. I noticed this in the replicates, when I re-ran samples in my fifth lane of sequencing because they had very low read depth in prior lanes. In all but one case, when the replicate had a higher read depth than the original, the replicate also had higher heterozygosity. see chart below:\n",
    "\n",
    "![img-ho-missing-replicates](https://github.com/mfisher5/PCod-Korea-repo/blob/master/nb_pictures/b8_replicates_missingdata_v_deltaHo.png?raw=true)\n"
   ]
  },
  {
   "cell_type": "markdown",
   "metadata": {},
   "source": [
    "<br>\n",
    "<br>\n",
    "\n",
    "### Comparing genotypes between replicates"
   ]
  },
  {
   "cell_type": "code",
   "execution_count": 12,
   "metadata": {
    "collapsed": false,
    "scrolled": true
   },
   "outputs": [
    {
     "data": {
      "text/plain": [
       "u'/mnt/hgfs/Pacific cod/DataAnalysis/PCod-Korea-repo/notebooks'"
      ]
     },
     "execution_count": 12,
     "metadata": {},
     "output_type": "execute_result"
    }
   ],
   "source": [
    "pwd"
   ]
  },
  {
   "cell_type": "code",
   "execution_count": 13,
   "metadata": {
    "collapsed": false
   },
   "outputs": [
    {
     "name": "stdout",
     "output_type": "stream",
     "text": [
      "/mnt/hgfs/Pacific cod/DataAnalysis/PCod-Korea-repo/analyses\n"
     ]
    }
   ],
   "source": [
    "cd ../analyses"
   ]
  },
  {
   "cell_type": "code",
   "execution_count": 15,
   "metadata": {
    "collapsed": false
   },
   "outputs": [],
   "source": [
    "# sort replicates by what TYPE of replicate they are\n",
    "infile = open(\"batch_8_replicates.txt\", \"r\")\n",
    "\n",
    "true_rep = [] #true replicate\n",
    "redo = [] #redo because of low read depth OR high heterozygosity\n",
    "ng300 = [] #rerun a 500ng sample as a 300ng sample\n",
    "\n",
    "for line in infile:\n",
    "    sample = line.strip().split()[0]\n",
    "    replicate = line.strip().split()[1]\n",
    "    if \"_2\" in replicate:\n",
    "        redo.append(sample)\n",
    "    elif \"_300\" in replicate:\n",
    "        ng300.append(sample)\n",
    "    elif \"_rep\" in replicate:\n",
    "        true_rep.append(sample)\n",
    "    else:\n",
    "        print \"What kind of replicate is sample \", sample, \"??\"\n",
    "infile.close()"
   ]
  },
  {
   "cell_type": "code",
   "execution_count": 31,
   "metadata": {
    "collapsed": false
   },
   "outputs": [],
   "source": [
    "## NOTE THAT THIS CODE ONLY WORKS IF YOU HAVE THE REPLICATES PAIRED IN YOUR GENEPOP INPUT FILE ##\n",
    "infile = open(\"../stacks_b8_wgenome/batch_8_filteredMAF_filteredIndivids30_filteredLoci_filteredHWE_replicates_forR.gen\", \"r\")\n",
    "loci_list = infile.readline()\n",
    "\n",
    "true_rep_dict = {} # sample as key, values are: p_genotyped 1, p_genotyped 2, p_different w/ missing, p_different w/o missing\n",
    "redo_dict = {} # sample as key, values are: p_genotyped 1, p_genotyped 2, p_different w/ missing, p_different w/o missing\n",
    "ng300_dict = {} # sample as key, values are: p_genotyped 1, p_genotyped 2, p_different w/ missing, p_different w/o missing\n",
    "\n",
    "line = infile.readline()\n",
    "while line:\n",
    "    linelist_r1 = line.strip().split()\n",
    "    line = infile.readline()\n",
    "    linelist_r2 = line.strip().split()\n",
    "    sample1 = linelist_r1[0].strip(\",\")\n",
    "    sample2 = linelist_r2[0].strip(\",\")\n",
    "    genotypes1 = linelist_r1[1:]\n",
    "    genotypes2 = linelist_r2[1:]\n",
    "    n_geno_both = 0.0000000000000001\n",
    "    for i in range(0,len(genotypes1)):\n",
    "        if genotypes1[i] != \"0000\" and genotypes2[i] != \"0000\":\n",
    "            n_geno_both += 1\n",
    "    p_genotyped1 = float(len([i for i in genotypes1 if i != \"0000\"])) / float(len(genotypes1))\n",
    "    p_genotyped2 = float(len([i for i in genotypes2 if i != \"0000\"])) / float(len(genotypes2))\n",
    "    p_both_genotyped = float(n_geno_both) / float(len(genotypes1))\n",
    "    n_diff = 0\n",
    "    n_diff_wmissing = 0\n",
    "    for i in range(1,len(linelist_r1)):\n",
    "        if linelist_r1[i] != linelist_r2[i]:\n",
    "            n_diff_wmissing += 1\n",
    "            if linelist_r1[i] != \"0000\" and linelist_r2[i] != \"0000\":\n",
    "                n_diff += 1\n",
    "    p_diff = float(n_diff) / float(n_geno_both)\n",
    "    p_diff_wmissing = float(n_diff_wmissing) / float(len(linelist_r1[1:]))\n",
    "    if sample1 in true_rep or sample2 in true_rep:\n",
    "        true_rep_dict[sample1] = [p_genotyped1, p_genotyped2, p_both_genotyped, p_diff_wmissing, p_diff]\n",
    "    elif sample1 in redo or sample2 in redo:\n",
    "        redo_dict[sample1] = [p_genotyped1, p_genotyped2, p_both_genotyped, p_diff_wmissing, p_diff]\n",
    "    elif sample1 in ng300 or sample2 in ng300:\n",
    "        ng300_dict[sample1] = [p_genotyped1, p_genotyped2, p_both_genotyped, p_diff_wmissing, p_diff]\n",
    "    else: \n",
    "        print \"Cannot locate sample \" + sample1\n",
    "    line = infile.readline()\n",
    "infile.close()"
   ]
  },
  {
   "cell_type": "code",
   "execution_count": 32,
   "metadata": {
    "collapsed": false
   },
   "outputs": [
    {
     "name": "stdout",
     "output_type": "stream",
     "text": [
      "['JUK07_16.1', 'JB021108_05', 'JB121807_08', 'GE011215_11', 'JB021108_35', 'PO010715_07', 'JUK07_02.1', 'PO010715_02', 'JB121807_03.1', 'JB021108_37.1', 'JUK07_09.1', 'JB021108_36.1', 'JB021108_11_rep', 'JB021108_46.1']\n"
     ]
    }
   ],
   "source": [
    "print true_rep_dict.keys()"
   ]
  },
  {
   "cell_type": "code",
   "execution_count": 33,
   "metadata": {
    "collapsed": false
   },
   "outputs": [
    {
     "name": "stdout",
     "output_type": "stream",
     "text": [
      "[0.9839037927844588, 0.983163737280296, 0.983163737280296, 0.04384828862164662, 0.04384644335716974]\n"
     ]
    }
   ],
   "source": [
    "print true_rep_dict['JUK07_16.1']"
   ]
  },
  {
   "cell_type": "markdown",
   "metadata": {},
   "source": [
    "*this checks out in excel!*"
   ]
  },
  {
   "cell_type": "markdown",
   "metadata": {},
   "source": [
    "** Graph the proportion of genotypes different between replicates, color-coded based on the type of replicate**"
   ]
  },
  {
   "cell_type": "code",
   "execution_count": 55,
   "metadata": {
    "collapsed": true
   },
   "outputs": [],
   "source": [
    "all_p_diff = []\n",
    "true_reps_p_diff = []\n",
    "all_p_genotyped = []\n",
    "colors = []\n",
    "\n",
    "for i in true_rep_dict.keys():\n",
    "    all_p_diff.append(true_rep_dict[i][4])\n",
    "    true_reps_p_diff.append(true_rep_dict[i][4])\n",
    "    all_p_genotyped.append(true_rep_dict[i][2])\n",
    "    colors.append(\"darkcyan\")\n",
    "for i in redo_dict.keys():\n",
    "    all_p_diff.append(redo_dict[i][4])\n",
    "    all_p_genotyped.append(redo_dict[i][2])\n",
    "    colors.append(\"magenta\")\n",
    "for i in ng300_dict.keys():\n",
    "    all_p_diff.append(ng300_dict[i][4])\n",
    "    all_p_genotyped.append(ng300_dict[i][2])\n",
    "    colors.append(\"gray\")"
   ]
  },
  {
   "cell_type": "code",
   "execution_count": 56,
   "metadata": {
    "collapsed": false
   },
   "outputs": [
    {
     "data": {
      "image/png": "[encoded data removed]",
      "text/plain": [
       "<matplotlib.figure.Figure at 0x7f274de1f5d0>"
      ]
     },
     "metadata": {},
     "output_type": "display_data"
    }
   ],
   "source": [
    "import numpy as np\n",
    "import matplotlib.pyplot as plt\n",
    "plt.scatter(all_p_genotyped, all_p_diff, color = colors, s = 30, alpha = 0.5)\n",
    "plt.suptitle(\"Proportion of Loci Genotyped in both Replicates\\nWhere Genotypes Differ\")\n",
    "plt.xlabel(\"Prop. Loci Genotyped in both Replicates\")\n",
    "plt.ylabel(\"Prop. of Genotypes Different b/w Replicates\")\n",
    "plt.show()"
   ]
  },
  {
   "cell_type": "code",
   "execution_count": 57,
   "metadata": {
    "collapsed": true
   },
   "outputs": [],
   "source": [
    "plt.close()"
   ]
  },
  {
   "cell_type": "code",
   "execution_count": 58,
   "metadata": {
    "collapsed": false
   },
   "outputs": [
    {
     "data": {
      "image/png": "[encoded data removed]",
      "text/plain": [
       "<matplotlib.figure.Figure at 0x7f274e1f21d0>"
      ]
     },
     "metadata": {},
     "output_type": "display_data"
    }
   ],
   "source": [
    "plt.boxplot(true_reps_p_diff)\n",
    "plt.suptitle(\"Proportion Genotypes Different b/w True Replicates\")\n",
    "plt.show()"
   ]
  },
  {
   "cell_type": "code",
   "execution_count": 59,
   "metadata": {
    "collapsed": true
   },
   "outputs": [],
   "source": [
    "plt.close()"
   ]
  },
  {
   "cell_type": "code",
   "execution_count": null,
   "metadata": {
    "collapsed": true
   },
   "outputs": [],
   "source": []
  }
 ],
 "metadata": {
  "anaconda-cloud": {},
  "kernelspec": {
   "display_name": "Python [default]",
   "language": "python",
   "name": "python2"
  },
  "language_info": {
   "codemirror_mode": {
    "name": "ipython",
    "version": 2
   },
   "file_extension": ".py",
   "mimetype": "text/x-python",
   "name": "python",
   "nbconvert_exporter": "python",
   "pygments_lexer": "ipython2",
   "version": "2.7.12"
  }
 },
 "nbformat": 4,
 "nbformat_minor": 1
}
