{
 "cells": [
  {
   "cell_type": "markdown",
   "metadata": {},
   "source": [
    "## Replicates - Comparisons\n",
    "\n",
    "#### Batch 8 \n",
    "\n",
    "I have a lot of replicate samples in my populations - true replicates, 300 v 500ng replicates, and reruns to see if I can replace low quality / low read depth / potentially contaminated samples. \n",
    "\n",
    "I need to (1) look at error rate between these replicates, and (2) decide which of the two samples I'll be using for my popgen analyses. \n",
    "\n",
    "For most of this I worked in excel; some graphs produced through R. \n",
    "\n",
    "<br>\n",
    "#### 9/29/2017\n",
    "\n",
    "<br>\n",
    "<br>\n",
    "<br>\n",
    "### Replicates:"
   ]
  },
  {
   "cell_type": "code",
   "execution_count": 1,
   "metadata": {
    "collapsed": false
   },
   "outputs": [
    {
     "name": "stdout",
     "output_type": "stream",
     "text": [
      "PO010715_02\tPO010715_02_rep\r",
      "\r\n",
      "PO010715_26\tPO010715_26_2\r",
      "\r\n",
      "PO010715_07\tPO010715_07_rep\r",
      "\r\n",
      "PO010715_07\tPO010715_07_rep\r",
      "\r\n",
      "GE012315_11.1\tGE012315_11_2\r",
      "\r\n",
      "GE012315_09.1\tGE012315_09_2\r",
      "\r\n",
      "GE011215_11\tGE011215_11_rep\r",
      "\r\n",
      "NA021015_06.1\tNA021015_06_2\r",
      "\r\n",
      "NA021015_09.1\tNA021015_09_2\r",
      "\r\n",
      "NA021015_10.1\tNA021015_10_2\r",
      "\r\n",
      "YS_121316_20.1\tYS_121316_20_2\r",
      "\r\n",
      "YS_121316_21\tYS_121316_21_2\r",
      "\r\n",
      "YS121315_12\tYS121315_12_300\r",
      "\r\n",
      "YS121315_14.1\tYS121315_14_2\r",
      "\r\n",
      "JUK07_02.1\tJUK07_02_rep.1\r",
      "\r\n",
      "JUK07_06.1\tJUK07_06_2\r",
      "\r\n",
      "JUK07_09.1\tJUK07_09_rep.1\r",
      "\r\n",
      "JUK07_16.1\tJUK07_16_rep.1\r",
      "\r\n",
      "JB121807_08\tJB121807_08_rep\r",
      "\r\n",
      "JB121807_03.1\tJB121807_03_rep\r",
      "\r\n",
      "JB121807_05\tJB121807_05_2\r",
      "\r\n",
      "JB121807_16.1\tJB121807_16_2\r",
      "\r\n",
      "JB121807_27\tJB121807_27_2\r",
      "\r\n",
      "JB121807_30\tJB121807_30_2\r",
      "\r\n",
      "JB021108_05\tJB021108_05_rep\r",
      "\r\n",
      "JB021108_35\tJB021108_35_rep\r",
      "\r\n",
      "JB021108_36.1\tJB021108_36_rep.1\r",
      "\r\n",
      "JB021108_37.1\tJB021108_37_rep.1\r",
      "\r\n",
      "JB021108_46.1\tJB021108_46_rep.1\r",
      "\r\n",
      "JB021108_11_2\tJB021108_11_rep\r",
      "\r\n",
      "JB021108_25.1\tJB021108_25_2\r",
      "\r\n",
      "BOR07_01\tBOR07_01_2\r",
      "\r\n",
      "BOR07_21.1\tBOR07_21_2\r",
      "\r\n",
      "GEO020414_10\tGEO020414_10_2\r",
      "\r\n",
      "GEO020414_13_300\tGEO020414_13_2\r",
      "\r\n",
      "GEO020414_30\tGEO020414_30_2\r",
      "\r\n",
      "GEO020414_8\tGEO020414_8_300\r",
      "\r\n",
      "GEO020414_9\tGEO020414_9_300\r",
      "\r\n",
      "GEO020414_11\tGEO020414_11_300\r",
      "\r\n",
      "GEO020414_14\tGEO020414_14_300\r",
      "\r\n",
      "GEO020414_15\tGEO020414_15_300\r",
      "\r\n",
      "GEO020414_16\tGEO020414_16_300\r",
      "\r\n",
      "GEO020414_17\tGEO020414_17_300\r",
      "\r\n",
      "GEO020414_23\tGEO020414_23_300\r",
      "\r\n",
      "GEO020414_24\tGEO020414_24_300\r",
      "\r\n",
      "GEO020414_25\tGEO020414_25_300"
     ]
    }
   ],
   "source": [
    "!cat ../analyses/batch_8_replicates.txt"
   ]
  },
  {
   "cell_type": "markdown",
   "metadata": {},
   "source": [
    "<br>\n",
    "### Create Matrix file with only replicate samples\n",
    "\n",
    "Loci are column headers, samples are in rows."
   ]
  },
  {
   "cell_type": "code",
   "execution_count": 2,
   "metadata": {
    "collapsed": true
   },
   "outputs": [],
   "source": [
    "infile = open(\"../analyses/batch_8_replicates.txt\", \"r\")\n",
    "replicates_list = []\n",
    "for line in infile:\n",
    "    linelist = line.strip().split()\n",
    "    for item in linelist:\n",
    "        replicates_list.append(item)\n",
    "infile.close()"
   ]
  },
  {
   "cell_type": "code",
   "execution_count": 9,
   "metadata": {
    "collapsed": false
   },
   "outputs": [
    {
     "name": "stdout",
     "output_type": "stream",
     "text": [
      "All samples successfully copied into new genepop.\n"
     ]
    }
   ],
   "source": [
    "# open original genepop, create new genepops\n",
    "infile = open(\"../stacks_b8_wgenome/batch_8_filteredMAF_filteredIndivids30_filteredLoci_filteredHWE.gen\", \"r\")\n",
    "repsfile = open(\"../stacks_b8_wgenome/batch_8_filteredMAF_filteredIndivids30_filteredLoci_filteredHWE_replicates.gen\", \"w\")\n",
    "\n",
    "\n",
    "pop_count = 0\n",
    "\n",
    "title = infile.readline()\n",
    "repsfile.write(title)\n",
    "\n",
    "#save the title line of the genepop, all of the loci, and the first incidence of \"Pop\" to an object.\n",
    "#then write that as the heading for all new genepop files.\n",
    "heading = \"\"\n",
    "for line in infile:\n",
    "    if not line.startswith(\"Pop\"):\n",
    "        heading += line\n",
    "    else:\n",
    "        heading += line\n",
    "        break\n",
    "\n",
    "loci_list = heading.split()\n",
    "repsfile.write(\"\\t\".join(loci_list) + \"\\n\")\n",
    "\n",
    "#separate individuals into the appropriate genepop file using the sample site abbrevs. in sample name\n",
    "samples_added = []\n",
    "for line in infile:\n",
    "    sample = line.strip().split(\"\\t\")[0].strip(\",\")\n",
    "    if sample in replicates_list:\n",
    "        repsfile.write(line)\n",
    "        samples_added.append(sample)\n",
    "        \n",
    "infile.close()\n",
    "repsfile.close()\n",
    "\n",
    "missing = len([i for i in replicates_list if i not in samples_added])\n",
    "if missing > 0:\n",
    "    print \"Crap! \", missing, \" samples not copied over\"\n",
    "else:\n",
    "    print \"All samples successfully copied into new genepop.\""
   ]
  },
  {
   "cell_type": "markdown",
   "metadata": {},
   "source": [
    "<br>\n",
    "<br>\n",
    "### Compare Heterozygosity and Missing Genotypes between replicates\n",
    "\n",
    "I did this in excel. See [this spreadsheet](). \n",
    "\n",
    "#### CHOOSING WHICH REPLICATES TO RETAIN: DECISION PROCESS\n",
    "\n",
    "![img-retain-samples-decision-tree]()\n",
    "\n",
    "<br>\n",
    "<br>\n",
    "**Missing Data & Heterozygosity**\n",
    "\n",
    "Per the plot found in the ML Relate analyses for this batch, lower read depth usually led to lower heterozygosity. I noticed this in the replicates, when I re-ran samples in my fifth lane of sequencing because they had very low read depth in prior lanes. In all but one case, when the replicate had a higher read depth than the original, the replicate also had higher heterozygosity. see chart below:\n",
    "\n",
    "![img-ho-missing-replicates]()\n"
   ]
  },
  {
   "cell_type": "code",
   "execution_count": null,
   "metadata": {
    "collapsed": true
   },
   "outputs": [],
   "source": []
  }
 ],
 "metadata": {
  "kernelspec": {
   "display_name": "Python [default]",
   "language": "python",
   "name": "python2"
  },
  "language_info": {
   "codemirror_mode": {
    "name": "ipython",
    "version": 2
   },
   "file_extension": ".py",
   "mimetype": "text/x-python",
   "name": "python",
   "nbconvert_exporter": "python",
   "pygments_lexer": "ipython2",
   "version": "2.7.12"
  }
 },
 "nbformat": 4,
 "nbformat_minor": 1
}
