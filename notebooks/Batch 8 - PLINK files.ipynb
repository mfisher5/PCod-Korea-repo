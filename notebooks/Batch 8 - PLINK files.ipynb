{
 "cells": [
  {
   "cell_type": "markdown",
   "metadata": {},
   "source": [
    "## PLINK file creation - batch 8\n",
    "\n",
    "In order to run SNeP (for long-term Ne estimates) and an alternative to STRUCTURE, I need to have the PLINK files `.ped` and `.map`. This notebook contains all the steps required for PLINK file generation using a final, filtered genepop file. Referenced [GWASpi webpage](http://www.gwaspi.org/?page_id=145) and [this file format reference](https://www.cog-genomics.org/plink2/formats#map) for PLINK file formats.\n",
    "\n",
    "<br>\n",
    "<br>\n",
    "Steps for PLINK file creation: \n",
    "1. Align final loci to a genome using Bowtie 2. --- completed in [this notebook](https://github.com/mfisher5/PCod-Korea-repo/blob/master/notebooks/Batch%208%20-%20Alignment%20to%20Atlantic%20cod%20Genome.ipynb)\n",
    "2. Use Bowtie 2 alignment output to create a `.map` file\n",
    "3. Use PGD Spider to create a `.ped` file from genepop\n",
    "\n",
    "<br>\n",
    "\n",
    "### Creation of .map file\n",
    "\n",
    "A standard `.map` file consists of 4 columns: \n",
    "- chromosome \n",
    "- marker ID \n",
    "- genetic distance (i.e. position in morgans or centimorgans)\n",
    "- physical position (i.e. base pair coordinate)\n",
    "\n",
    "The `.sam` file that is output from bowtie (after the header lines) consists of 11 mandatory columns:\n",
    "- query template name\n",
    "- flag\n",
    "- ref sequence name\n",
    "- leftmost mapping position\n",
    "- mapping quality\n",
    "- CIGAR string\n",
    "- reference name of mate\n",
    "- position of mate\n",
    "- template length\n",
    "- segment sequence\n",
    "- ASCII of phred-scaled base value quality (Phred +33)\n",
    "\n",
    "\n",
    "So in order to create a `.map` file, I need to extract and reorder the following columns from the `.sam` file:\n",
    "1. Column [2] = \"chromosome\" (in case of Atlantic cod genome, a linkage group)\n",
    "2. Column [0] = \"marker ID\"\n",
    "3. *not included* = \"genetic distance\"; will use \"dummy\" value of 0\n",
    "4. Column [3] = \"physical position\""
   ]
  },
  {
   "cell_type": "code",
   "execution_count": 1,
   "metadata": {},
   "outputs": [
    {
     "name": "stdout",
     "output_type": "stream",
     "text": [
      "/mnt/hgfs/PCod-Korea-repo/analyses\n"
     ]
    }
   ],
   "source": [
    "cd ../analyses"
   ]
  },
  {
   "cell_type": "code",
   "execution_count": 8,
   "metadata": {},
   "outputs": [
    {
     "name": "stdout",
     "output_type": "stream",
     "text": [
      "Wrote  4031  loci into new .map file.\n"
     ]
    }
   ],
   "source": [
    "## open files\n",
    "infile = open(\"batch_8_filtered_bowtieACod_filtered10MQ.sam\", \"r\")\n",
    "outfile = open(\"batch_8_filtered_bowtieACod_filtered10MQ.map\", \"w\")\n",
    "\n",
    "## skip over the header lines in the infile\n",
    "line = infile.readline()\n",
    "while line.startswith(\"@\"):\n",
    "    line = infile.readline()\n",
    "\n",
    "## write content of .sam file to .map output file, starting with first line that isn't a header\n",
    "## --- note that I added \"Locus\" in front of my loci names for the bowtie alignment, and now need to strip that out\n",
    "n_loci = 0\n",
    "\n",
    "linelist = line.strip().split()\n",
    "outfile.write(linelist[2] + \"\\t\" + linelist[0].split(\"_\")[1] + \"\\t0\\t\" + linelist[3] + \"\\n\")\n",
    "n_loci += 1\n",
    "\n",
    "for line in infile:\n",
    "    linelist = line.strip().split()\n",
    "    outfile.write(linelist[2] + \"\\t\" + linelist[0].split(\"_\")[1] + \"\\t0\\t\" + linelist[3] + \"\\n\")\n",
    "    n_loci += 1\n",
    "\n",
    "infile.close()\n",
    "outfile.close()\n",
    "\n",
    "print \"Wrote \", n_loci, \" loci into new .map file.\""
   ]
  },
  {
   "cell_type": "markdown",
   "metadata": {},
   "source": [
    "<br>\n",
    "<br>\n",
    "\n",
    "### Creation of .ped file\n",
    "\n",
    "The columns of a `.ped` file are:\n",
    "- family ID\n",
    "- sample ID\n",
    "- paternal ID\n",
    "- maternal ID\n",
    "- sex\n",
    "- phenotype value of individual\n",
    "- genotypes (space or tab delimited; each allele gets its own column)\n",
    "\n",
    "I don't actually have any family ID information, nor will I be adding in the sex of each individual (I have this, but in metadata format from original sampling spreadsheets. \n",
    "\n",
    "I made the .ped file using PGD Spider. My `.spid` file for that conversion is: \n",
    "\n",
    "____________________________\n",
    "\n",
    "`# spid-file generated: Tue Nov 28 14:45:11 PST 2017`\n",
    "\n",
    "`# GENEPOP Parser questions`\n",
    "`PARSER_FORMAT=GENEPOP`\n",
    "\n",
    "`# Enter the size of the repeated motif (same for all loci: one number; different: comma separated list (e.g.: 2,2,3,2):`\n",
    "<br>\n",
    "GENEPOP_PARSER_REPEAT_SIZE_QUESTION=\n",
    "\n",
    "`# Select the type of the data:`\n",
    "<br>\n",
    "GENEPOP_PARSER_DATA_TYPE_QUESTION=SNP\n",
    "\n",
    "`# How are Microsat alleles coded?`\n",
    "<br>\n",
    "GENEPOP_PARSER_MICROSAT_CODING_QUESTION=REPEATS\n",
    "\n",
    "`# PED Writer questions`\n",
    "<br>\n",
    "WRITER_FORMAT=PED\n",
    "\n",
    "`# Save MAP file`\n",
    "<br>\n",
    "PED_WRITER_MAP_FILE_QUESTION=\n",
    "\n",
    "`# Replacement character for allele encoded as 0 (0 encodes for missing data in PED):`\n",
    "<br>\n",
    "PED_WRITER_ZERO_CHAR_QUESTION=\n",
    "\n",
    "`# Specify the locus/locus combination you want to write to the PED file:`\n",
    "<br>\n",
    "PED_WRITER_LOCUS_COMBINATION_QUESTION=\n",
    "\n",
    "`# Do you want to save an additional MAP file with loci information?`\n",
    "<br>\n",
    "PED_WRITER_MAP_QUESTION=false\n",
    "_______________________________\n",
    "\n",
    "\n",
    "**NOTE:** when PGD spider makes the `.ped` file out of a genepop file, it puts the population ID into the `family ID` column. I removed this manually."
   ]
  },
  {
   "cell_type": "code",
   "execution_count": 1,
   "metadata": {},
   "outputs": [
    {
     "data": {
      "text/plain": [
       "u'/mnt/hgfs/PCod-Korea-repo/notebooks'"
      ]
     },
     "execution_count": 1,
     "metadata": {},
     "output_type": "execute_result"
    }
   ],
   "source": [
    "pwd"
   ]
  },
  {
   "cell_type": "code",
   "execution_count": 2,
   "metadata": {},
   "outputs": [
    {
     "name": "stdout",
     "output_type": "stream",
     "text": [
      "/mnt/hgfs/PCod-Korea-repo/analyses\n"
     ]
    }
   ],
   "source": [
    "cd ../analyses"
   ]
  },
  {
   "cell_type": "code",
   "execution_count": 5,
   "metadata": {},
   "outputs": [],
   "source": [
    "infile = open(\"batch_8_filtered_Admixture_input.ped\", \"r\")\n",
    "outfile = open(\"batch_8_filtered_Admixture_input_nofam.ped\", \"w\")\n",
    "\n",
    "for line in infile:\n",
    "    linelist = line.strip().split()\n",
    "    newline = \" \".join(linelist[1:])\n",
    "    outfile.write(\"0 \" + newline + \"\\n\")\n",
    "infile.close()\n",
    "outfile.close()"
   ]
  },
  {
   "cell_type": "markdown",
   "metadata": {},
   "source": [
    "<br>\n",
    "<br>\n",
    "\n",
    "### Binary PLINK files"
   ]
  },
  {
   "cell_type": "code",
   "execution_count": null,
   "metadata": {
    "collapsed": true
   },
   "outputs": [],
   "source": []
  }
 ],
 "metadata": {
  "kernelspec": {
   "display_name": "Python 2",
   "language": "python",
   "name": "python2"
  },
  "language_info": {
   "codemirror_mode": {
    "name": "ipython",
    "version": 2
   },
   "file_extension": ".py",
   "mimetype": "text/x-python",
   "name": "python",
   "nbconvert_exporter": "python",
   "pygments_lexer": "ipython2",
   "version": "2.7.13"
  }
 },
 "nbformat": 4,
 "nbformat_minor": 2
}
