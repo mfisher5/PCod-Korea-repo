{
 "cells": [
  {
   "cell_type": "markdown",
   "metadata": {},
   "source": [
    "## Identifying Outlier Loci\n",
    "\n",
    "### stacks batch 8\n",
    "<br>\n",
    "<br>\n",
    "#### 10/5/2017\n",
    "\n",
    "### OutFLANK\n",
    "\n",
    "Github: https://github.com/whitlock/OutFLANK/blob/master/R/OutFLANK.R\n",
    "\n",
    "PDF Manual:  https://github.com/whitlock/OutFLANK/blob/master/OutFLANK%20readme.pdf\n",
    "\n",
    "**(1) Convert Genepop file to OutFLANK file format.** Luckily, OutFLANK has a nice R function for this. However, you still need to manipulate your Genepop file to a certain file format to put it into that R function. the following python script will take a genepop file and a population map, and output three of the inputs for the OutFLANK function `MakeDiploidFSTMat()`. This is: \n",
    "1. a file containing a matrix of individuals (rows) x loci (columns) without headings. Alleles are coded in a `0`,`1`, `2`, `9` format. \n",
    "2. a file where each locus name is on a new line, as a string. This can be read directly into R as a list\n",
    "3. a file where each sample's population name is on a new line (same order as matrix rows). This can also be read directly into R as a list. "
   ]
  },
  {
   "cell_type": "code",
   "execution_count": 1,
   "metadata": {
    "collapsed": false
   },
   "outputs": [
    {
     "data": {
      "text/plain": [
       "u'/mnt/hgfs/Pacific cod/DataAnalysis/PCod-Korea-repo/notebooks'"
      ]
     },
     "execution_count": 1,
     "metadata": {},
     "output_type": "execute_result"
    }
   ],
   "source": [
    "pwd"
   ]
  },
  {
   "cell_type": "code",
   "execution_count": 2,
   "metadata": {
    "collapsed": false
   },
   "outputs": [
    {
     "name": "stdout",
     "output_type": "stream",
     "text": [
      "/mnt/hgfs/Pacific cod/DataAnalysis/PCod-Korea-repo/analyses\n"
     ]
    }
   ],
   "source": [
    "cd ../analyses/"
   ]
  },
  {
   "cell_type": "code",
   "execution_count": 3,
   "metadata": {
    "collapsed": false
   },
   "outputs": [
    {
     "name": "stdout",
     "output_type": "stream",
     "text": [
      "/mnt/hgfs/Pacific cod/DataAnalysis/PCod-Korea-repo/analyses/Outliers\n"
     ]
    }
   ],
   "source": [
    "cd Outliers/"
   ]
  },
  {
   "cell_type": "code",
   "execution_count": 19,
   "metadata": {
    "collapsed": false
   },
   "outputs": [
    {
     "name": "stdout",
     "output_type": "stream",
     "text": [
      "usage: convert_genepop_to_SNPmat.py [-h] [-i INPUT] [-p POPMAP] [-o OUTPUT]\r\n",
      "                                    [-ol OUTLOCUSNAMES] [-op OUTPOPNAMES]\r\n",
      "\r\n",
      "produce SNPmat file, and files containing loci / population lists for OutFLANK\r\n",
      "outlier analysis.\r\n",
      "\r\n",
      "optional arguments:\r\n",
      "  -h, --help            show this help message and exit\r\n",
      "  -i INPUT, --input INPUT\r\n",
      "                        genepop file that you want to run through OutFLANK\r\n",
      "  -p POPMAP, --popmap POPMAP\r\n",
      "                        population map from stacks (each line has sample - tab\r\n",
      "                        - population\r\n",
      "  -o OUTPUT, --output OUTPUT\r\n",
      "                        bash shell script file name. must have file extension\r\n",
      "                        .sh\r\n",
      "  -ol OUTLOCUSNAMES, --outLocusNames OUTLOCUSNAMES\r\n",
      "                        text file with the name of each locus on each line, to\r\n",
      "                        be read into R\r\n",
      "  -op OUTPOPNAMES, --outPopNames OUTPOPNAMES\r\n",
      "                        text file with the name of each sample's population on\r\n",
      "                        each line, to be read into R\r\n"
     ]
    }
   ],
   "source": [
    "!python convert_genepop_to_SNPmat.py -h"
   ]
  },
  {
   "cell_type": "code",
   "execution_count": 21,
   "metadata": {
    "collapsed": false
   },
   "outputs": [
    {
     "name": "stdout",
     "output_type": "stream",
     "text": [
      "#Korean Pacific cod filtered final genepop, stacks batch 8 MF 9/29/2017\n",
      "\n",
      "Done creating SNPmat file.\n"
     ]
    }
   ],
   "source": [
    "!python convert_genepop_to_SNPmat.py \\\n",
    "-i ../../stacks_b8_wgenome/batch_8_filteredMAF_filteredIndivids30_filteredLoci_filteredHWE_filteredRepsC.txt \\\n",
    "-p ../../scripts/PopMap_L1-5_mdFilter_b8.txt \\\n",
    "-o batch_8_final_filtered_SNPmat.txt \\\n",
    "-ol batch_8_SNPmat_locusnames.txt \\\n",
    "-op batch_8_SNPmat_popnames.txt"
   ]
  },
  {
   "cell_type": "markdown",
   "metadata": {},
   "source": [
    "<br>\n",
    "**(2) Run OutFLANK and produce summary file containing outliers.** I used [this R script](https://github.com/mfisher5/PCod-Korea-repo/blob/master/analyses/R/OutFLANK_KorPCod_MF.R), which is well annotated. \n",
    "<br>"
   ]
  },
  {
   "cell_type": "code",
   "execution_count": 22,
   "metadata": {
    "collapsed": false
   },
   "outputs": [
    {
     "name": "stdout",
     "output_type": "stream",
     "text": [
      "\"\",\"locus\",\"he\",\"fst\",\"meanAlleleFreq\",\"qvals\",\"pv\",\"outlier\"\r",
      "\r\n",
      "\"1\",10203,0.487697039600154,0.189042848877063,0.42156862745098,0.030128800416755,0.000123890863733767,1\r",
      "\r\n",
      "\"2\",14316,0.296343115870183,0.174222198637115,0.819105691056911,0.0456677171474144,0.000230433435147503,1\r",
      "\r\n",
      "\"3\",14546,0.32,0.253787600846611,0.2,0.00172719493422828,2.37687376269946e-06,1\r",
      "\r\n",
      "\"4\",17767,0.155517192894749,0.278491545019793,0.0849802371541502,0.000575627469601159,5.28098595964366e-07,1\r",
      "\r\n",
      "\"5\",18723,0.214303428606857,0.210298045038451,0.122047244094488,0.0124149811611041,3.27316734798355e-05,1\r",
      "\r\n",
      "\"6\",1904,0.402990362811791,0.207514627679969,0.720238095238095,0.0130300360460473,4.18395652854731e-05,1\r",
      "\r\n",
      "\"7\",19221,0.449152148304297,0.287136860951192,0.659448818897638,0.000575627469601159,3.06253878701312e-07,1\r",
      "\r\n",
      "\"8\",2606,0.134571318723568,0.18765271981843,0.927450980392157,0.030128800416755,0.000124384955848988,1\r",
      "\r\n",
      "\"9\",2694,0.374009904857129,0.2320888140807,0.24901185770751,0.00500862822092274,9.19014352462888e-06,1\r",
      "\r\n"
     ]
    }
   ],
   "source": [
    "!head allKOR_b8_outflank_outliers.txt"
   ]
  },
  {
   "cell_type": "markdown",
   "metadata": {},
   "source": [
    "\n",
    "I only got **11 outlier loci**. I'll have to run the other programs and see if that number remains consistently low. "
   ]
  },
  {
   "cell_type": "markdown",
   "metadata": {},
   "source": [
    "<br>\n",
    "<br>\n",
    "### Bayescan\n",
    "<br>\n",
    "\n",
    "Download includes executable scripts and PDF manual. \n",
    "\n",
    "\n",
    "**(1) Download PGDSpyder.** Bayescan uses its own type of input file. They suggest using PGD spyder to convert genepop files into this file format\n",
    "\n",
    "**(2) Convert genepop to Bayescan format.** For SNP data, this can either be a \"codominant\" file format or a \"SNP genotype matrix\" (per Bayescan's user manual). They suggest that if you are not directly interested in Fis, you use SNPs as regular codominant data. In PGDspyder, this is just a matter of choosing the file format and file names for the input and ouput files, and then answering two short questions for the SPID file. \n",
    "\n",
    "**(3) Run Bayescan using the Windows GUI.** I suck and let my computer get to having almost zero space left, so I had to run Bayescan on my Windows desktop. This might actually be easier than Linux though. It looks like this:\n",
    " ![img-bayescan]()\n",
    " \n",
    " According to the GUI, my first run should take about 10 hours. "
   ]
  },
  {
   "cell_type": "code",
   "execution_count": null,
   "metadata": {
    "collapsed": true
   },
   "outputs": [],
   "source": []
  }
 ],
 "metadata": {
  "anaconda-cloud": {},
  "kernelspec": {
   "display_name": "Python [default]",
   "language": "python",
   "name": "python2"
  },
  "language_info": {
   "codemirror_mode": {
    "name": "ipython",
    "version": 2
   },
   "file_extension": ".py",
   "mimetype": "text/x-python",
   "name": "python",
   "nbconvert_exporter": "python",
   "pygments_lexer": "ipython2",
   "version": "2.7.12"
  }
 },
 "nbformat": 4,
 "nbformat_minor": 1
}
