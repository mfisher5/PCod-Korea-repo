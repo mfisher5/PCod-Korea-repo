{
 "cells": [
  {
   "cell_type": "markdown",
   "metadata": {},
   "source": [
    "## STRUCTURE on batch 8 verif\n",
    "\n",
    "I ran the program STRUCTURE on my batch 8 final filtered genepop file. \n",
    "\n",
    "In order to do this, I first had to convert my genepop file to a `structure` file type, which I can do in PGD Spider. \n",
    "I then ran STRUCTURE for K = 1 through 9, 3 replicates each K value. \n",
    "I used default parameters, with a 50,000 burnin and 10,000 MCMC iterations. \n",
    "\n",
    "Each replicate run of K = (1,9) took about a half day to complete. \n",
    "\n",
    "PROGRAMS REQUIRED:\n",
    "1. PGD Spider - file conversion\n",
    "2. Structure v. 2.3.4 (July 2013) - analysis\n",
    "<br>\n",
    "\n",
    "<br>\n",
    "#### 3/8/2018\n",
    "\n",
    "### Convert genepop to structure file with PGD Spider\n",
    "\n",
    "<br>\n",
    "The STRUCTURE file format is described as: \n",
    "\n",
    "<br>\n",
    "My PGD spider conversion file: \n"
   ]
  },
  {
   "cell_type": "code",
   "execution_count": 1,
   "metadata": {},
   "outputs": [
    {
     "name": "stdout",
     "output_type": "stream",
     "text": [
      "/mnt/hgfs/PCod-Korea-repo/analyses/Structure\n"
     ]
    }
   ],
   "source": [
    "cd ../analyses/Structure"
   ]
  },
  {
   "cell_type": "code",
   "execution_count": 3,
   "metadata": {},
   "outputs": [
    {
     "name": "stdout",
     "output_type": "stream",
     "text": [
      "# spid-file generated: Mon Oct 16 11:41:20 PDT 2017\r\n",
      "\r\n",
      "# GENEPOP Parser questions\r\n",
      "PARSER_FORMAT=GENEPOP\r\n",
      "\r\n",
      "# Enter the size of the repeated motif (same for all loci: one number; different: comma separated list (e.g.: 2,2,3,2):\r\n",
      "GENEPOP_PARSER_REPEAT_SIZE_QUESTION=\r\n",
      "# Select the type of the data:\r\n",
      "GENEPOP_PARSER_DATA_TYPE_QUESTION=SNP\r\n",
      "# How are Microsat alleles coded?\r\n",
      "GENEPOP_PARSER_MICROSAT_CODING_QUESTION=REPEATS\r\n",
      "\r\n",
      "# STRUCTURE Writer questions\r\n",
      "WRITER_FORMAT=STRUCTURE\r\n",
      "\r\n",
      "# Specify the locus/locus combination you want to write to the STRUCTURE file:\r\n",
      "STRUCTURE_WRITER_LOCUS_COMBINATION_QUESTION=\r\n",
      "# Do you want to include inter-marker distances?\r\n",
      "STRUCTURE_WRITER_LOCI_DISTANCE_QUESTION=false\r\n",
      "# Specify which data type should be included in the STRUCTURE file  (STRUCTURE can only analyze one data type per file):\r\n",
      "STRUCTURE_WRITER_DATA_TYPE_QUESTION=SNP\r\n",
      "# Save more specific fastSTRUCTURE format?\r\n",
      "STRUCTURE_WRITER_FAST_FORMAT_QUESTION=true\r\n"
     ]
    }
   ],
   "source": [
    "!head -n 30 genepop_to_structure.spid"
   ]
  },
  {
   "cell_type": "markdown",
   "metadata": {},
   "source": [
    "<br>\n",
    "<br>\n",
    "### Running STRUCTURE\n",
    "<br>\n",
    "I ran structure out of the following directory:"
   ]
  },
  {
   "cell_type": "code",
   "execution_count": 2,
   "metadata": {},
   "outputs": [
    {
     "name": "stdout",
     "output_type": "stream",
     "text": [
      "/mnt/hgfs/PCod-Korea-repo/analyses/Structure/verif\n"
     ]
    }
   ],
   "source": [
    "cd verif"
   ]
  },
  {
   "cell_type": "code",
   "execution_count": 3,
   "metadata": {
    "scrolled": true
   },
   "outputs": [
    {
     "name": "stdout",
     "output_type": "stream",
     "text": [
      "\u001b[0m\u001b[01;32mbatch_8_verif_all_STRUCTURE_input.xml\u001b[0m*  \u001b[34;42mPCod-Korea-verif\u001b[0m/\r\n"
     ]
    }
   ],
   "source": [
    "ls"
   ]
  },
  {
   "cell_type": "markdown",
   "metadata": {},
   "source": [
    "input file dimensions: \n",
    "- 488 sample rows (244 individuals), 1 row of loci\n",
    "- 5,804 columns + Extra column for sample name + Extra column for putative population \n",
    "\n",
    "<br>\n",
    "\n",
    "Run parameters:"
   ]
  },
  {
   "cell_type": "code",
   "execution_count": 5,
   "metadata": {},
   "outputs": [
    {
     "name": "stdout",
     "output_type": "stream",
     "text": [
      " ====================  Parameter Set: PCod-Korea-verif  ====================     \r",
      "\r\n",
      "\r",
      "\r\n",
      "\r",
      "\r\n",
      "                                    Running Length          \r",
      "\r\n",
      "\r",
      "\r\n",
      "                     Length of Burnin Period: 50000\r",
      "\r\n",
      "                     Number of MCMC Reps after Burnin: 100000\r",
      "\r\n",
      "\r",
      "\r\n",
      "\r",
      "\r\n",
      "                                    Ancestry Model Info          \r",
      "\r\n",
      "\r",
      "\r\n",
      "                    Use Admixture Model       \r",
      "\r\n",
      "                      * Infer Alpha\r",
      "\r\n",
      "                      * Initial Value of ALPHA (Dirichlet Parameter for Degree of Admixture):  1.0\r",
      "\r\n",
      "                      * Use Same Alpha for all Populations\r",
      "\r\n",
      "                      * Use a Uniform Prior for Alpha\r",
      "\r\n",
      "                         ** Maximum Value for Alpha: 10.0\r",
      "\r\n",
      "                         ** SD of Proposal for Updating Alpha: 0.025\r",
      "\r\n",
      "\r",
      "\r\n",
      "\r",
      "\r\n",
      "                                    Frequency Model Info   \r",
      "\r\n",
      "\r",
      "\r\n",
      "                     Allele Frequencies are Correlated among Pops\r",
      "\r\n",
      "                       * Assume Different Values of Fst for Different Subpopulations\r",
      "\r\n",
      "                       * Prior Mean of Fst for Pops: 0.01\r",
      "\r\n",
      "                       * Prior SD   of Fst for Pops: 0.05\r",
      "\r\n",
      "                       * Use Constant Lambda (Allele Frequencies Parameter) \r",
      "\r\n",
      "                       * Value of Lambda: 1.0\r",
      "\r\n",
      "\r",
      "\r\n",
      "\r",
      "\r\n",
      "                                    Advanced Options   \r",
      "\r\n",
      "\r",
      "\r\n",
      "                      Estimate the Probability of the Data Under the Model \r",
      "\r\n",
      "                      Frequency of Metropolis update for Q: 10\r",
      "\r\n",
      "\r",
      "\r\n",
      "\r",
      "\r\n"
     ]
    }
   ],
   "source": [
    "!head -n 40 PCod-Korea-verif/parameters.txt"
   ]
  },
  {
   "cell_type": "markdown",
   "metadata": {},
   "source": [
    "<br>\n",
    "<br>\n",
    "**RUN 1: **3/8/2018\n",
    "- k = 1 through 9\n",
    "- iterations = 3\n",
    "\n",
    "**RUN 2: **\n",
    "\n",
    "**RUN 3: **"
   ]
  },
  {
   "cell_type": "markdown",
   "metadata": {},
   "source": [
    "<br>\n",
    "<br>\n",
    "### Visualizing Results\n",
    "\n",
    "I am using custom R code to plot structure results. \n",
    "\n",
    "R script [here](https://github.com/mfisher5/PCod-Korea-repo/blob/master/analyses/R/plot_structure_output.R). \n",
    "\n",
    "The R script is annotated at each step."
   ]
  },
  {
   "cell_type": "code",
   "execution_count": null,
   "metadata": {
    "collapsed": true
   },
   "outputs": [],
   "source": []
  }
 ],
 "metadata": {
  "kernelspec": {
   "display_name": "Python 2",
   "language": "python",
   "name": "python2"
  },
  "language_info": {
   "codemirror_mode": {
    "name": "ipython",
    "version": 2
   },
   "file_extension": ".py",
   "mimetype": "text/x-python",
   "name": "python",
   "nbconvert_exporter": "python",
   "pygments_lexer": "ipython2",
   "version": "2.7.13"
  }
 },
 "nbformat": 4,
 "nbformat_minor": 2
}
