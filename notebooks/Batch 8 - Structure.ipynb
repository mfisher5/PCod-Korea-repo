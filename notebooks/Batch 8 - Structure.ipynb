{
 "cells": [
  {
   "cell_type": "markdown",
   "metadata": {},
   "source": [
    "## STRUCTURE on batch 8\n",
    "\n",
    "I ran the program STRUCTURE on my batch 8 final filtered genepop file. \n",
    "\n",
    "In order to do this, I first had to convert my genepop file to a `structure` file type, which I can do in PGD Spider. \n",
    "I then ran STRUCTURE for K = 1 through 9, 3 replicates each K value. \n",
    "I used default parameters, with a burnin and MCMC 10,000. \n",
    "\n",
    "Each replicate run of K = (1,9) took about a half day to complete. \n",
    "\n",
    "PROGRAMS REQUIRED:\n",
    "1. PGD Spider - file conversion\n",
    "2. Structure v. 2.3.4 (July 2013) - analysis\n",
    "3. Distruct v. 1.1 - visualization\n",
    "<br>\n",
    "\n",
    "<br>\n",
    "#### 10 / 16 / 2016\n",
    "\n",
    "### Convert genepop to structure file with PGD Spider\n",
    "\n",
    "<br>\n",
    "The STRUCTURE file format is described as: \n",
    "\n",
    "<br>\n",
    "My PGD spider conversion file: \n"
   ]
  },
  {
   "cell_type": "code",
   "execution_count": 1,
   "metadata": {},
   "outputs": [
    {
     "name": "stdout",
     "output_type": "stream",
     "text": [
      "/mnt/hgfs/PCod-Korea-repo/analyses/Structure\n"
     ]
    }
   ],
   "source": [
    "cd ../analyses/Structure"
   ]
  },
  {
   "cell_type": "code",
   "execution_count": 3,
   "metadata": {},
   "outputs": [
    {
     "name": "stdout",
     "output_type": "stream",
     "text": [
      "# spid-file generated: Mon Oct 16 11:41:20 PDT 2017\r\n",
      "\r\n",
      "# GENEPOP Parser questions\r\n",
      "PARSER_FORMAT=GENEPOP\r\n",
      "\r\n",
      "# Enter the size of the repeated motif (same for all loci: one number; different: comma separated list (e.g.: 2,2,3,2):\r\n",
      "GENEPOP_PARSER_REPEAT_SIZE_QUESTION=\r\n",
      "# Select the type of the data:\r\n",
      "GENEPOP_PARSER_DATA_TYPE_QUESTION=SNP\r\n",
      "# How are Microsat alleles coded?\r\n",
      "GENEPOP_PARSER_MICROSAT_CODING_QUESTION=REPEATS\r\n",
      "\r\n",
      "# STRUCTURE Writer questions\r\n",
      "WRITER_FORMAT=STRUCTURE\r\n",
      "\r\n",
      "# Specify the locus/locus combination you want to write to the STRUCTURE file:\r\n",
      "STRUCTURE_WRITER_LOCUS_COMBINATION_QUESTION=\r\n",
      "# Do you want to include inter-marker distances?\r\n",
      "STRUCTURE_WRITER_LOCI_DISTANCE_QUESTION=false\r\n",
      "# Specify which data type should be included in the STRUCTURE file  (STRUCTURE can only analyze one data type per file):\r\n",
      "STRUCTURE_WRITER_DATA_TYPE_QUESTION=SNP\r\n",
      "# Save more specific fastSTRUCTURE format?\r\n",
      "STRUCTURE_WRITER_FAST_FORMAT_QUESTION=true\r\n"
     ]
    }
   ],
   "source": [
    "!head -n 30 genepop_structure_pgdspyder.spid"
   ]
  },
  {
   "cell_type": "markdown",
   "metadata": {},
   "source": [
    "<br>\n",
    "<br>\n",
    "### Running STRUCTURE\n",
    "<br>\n",
    "I ran structure for K = 1 through K = 9 using the following parameters: "
   ]
  },
  {
   "cell_type": "code",
   "execution_count": 5,
   "metadata": {},
   "outputs": [
    {
     "name": "stdout",
     "output_type": "stream",
     "text": [
      "   Running Length          \r",
      "\r\n",
      "\r",
      "\r\n",
      "                     Length of Burnin Period: 10000\r",
      "\r\n",
      "                     Number of MCMC Reps after Burnin: 10000\r",
      "\r\n",
      "\r",
      "\r\n",
      "\r",
      "\r\n",
      "                                    Ancestry Model Info          \r",
      "\r\n",
      "\r",
      "\r\n",
      "                    Use Admixture Model       \r",
      "\r\n",
      "                      * Infer Alpha\r",
      "\r\n",
      "                      * Initial Value of ALPHA (Dirichlet Parameter for Degree of Admixture):  1.0\r",
      "\r\n",
      "                      * Use Same Alpha for all Populations\r",
      "\r\n",
      "                      * Use a Uniform Prior for Alpha\r",
      "\r\n",
      "                         ** Maximum Value for Alpha: 10.0\r",
      "\r\n",
      "                         ** SD of Proposal for Updating Alpha: 0.025\r",
      "\r\n",
      "\r",
      "\r\n",
      "\r",
      "\r\n",
      "                                    Frequency Model Info   \r",
      "\r\n",
      "\r",
      "\r\n",
      "                     Allele Frequencies are Correlated among Pops\r",
      "\r\n",
      "                       * Assume Different Values of Fst for Different Subpopulations\r",
      "\r\n",
      "                       * Prior Mean of Fst for Pops: 0.01\r",
      "\r\n",
      "                       * Prior SD   of Fst for Pops: 0.05\r",
      "\r\n",
      "                       * Use Constant Lambda (Allele Frequencies Parameter) \r",
      "\r\n",
      "                       * Value of Lambda: 1.0\r",
      "\r\n",
      "\r",
      "\r\n",
      "\r",
      "\r\n",
      "                                    Advanced Options   \r",
      "\r\n",
      "\r",
      "\r\n",
      "                      Estimate the Probability of the Data Under the Model \r",
      "\r\n",
      "                      Frequency of Metropolis update for Q: 10\r",
      "\r\n"
     ]
    }
   ],
   "source": [
    "!head -n 40 Korea-PCod/parameters.txt"
   ]
  },
  {
   "cell_type": "markdown",
   "metadata": {},
   "source": [
    "<br>\n",
    "<br>\n",
    "**RUN 1: **10/16/2017\n",
    "\n",
    "**RUN 2: **10/20/2017\n",
    "\n",
    "**RUN 3: **10/23/2017"
   ]
  },
  {
   "cell_type": "markdown",
   "metadata": {},
   "source": [
    "<br>\n",
    "<br>\n",
    "### Visualizing Results\n",
    "\n",
    "Per Eleni's suggestion I'm using distruct v1.1 to visualize structure results. \n",
    "\n",
    "Downloaded [here](https://rosenberglab.stanford.edu/distructDownload.html). \n",
    "\n",
    "This program requires several different file types for each run. To run the program I \n",
    "\n",
    "1. Created necessary files and moved them into the Distruct folder with the executable \n",
    "2. Added the file names into a parameters text file (the input for the program)\n",
    "3. Double clicked the Windows batch file (*not* the application) `distructWindows1.1`\n",
    "\n",
    "<br>\n",
    "\n",
    "#### File types\n",
    "\n",
    "**(1)** Population Q-matrix: a text file that contains the proportion of membership of each pre-defined populations. This can basically be copied over from the structure output in the GUI\n",
    "\n",
    "![img-popQmat]()\n",
    "\n",
    "**(2)** Individual Q-matrix: *optional*. a text file that contains the inferred ancestry of individuals across clusters. The structure output in the GUI must be manipulated slightly so that they have the following columns: \n",
    "\n",
    "Columns 1, 3 - arbitrary. these are ignored\n",
    "<br>\n",
    "Column 2 - code number for the individual\n",
    "<br>\n",
    "Column 4 - code number for the population where that individual belongs\n",
    "<br>\n",
    "Column 5 - colon\n",
    "<br>\n",
    "Columns 6 & up - membership coefficient for each cluster.\n",
    "<br>\n",
    "I had the columns separated by white space, rather than tabs, to more closely follow the example file. \n",
    "<br>\n",
    "\n",
    "**(3)** Labels below the figure - A white space delimited text file with labels for below the figure. Each line is: `pop code #` (space) `label`\n"
   ]
  },
  {
   "cell_type": "code",
   "execution_count": 6,
   "metadata": {},
   "outputs": [
    {
     "name": "stdout",
     "output_type": "stream",
     "text": [
      "1\tPohang\r",
      "\r\n",
      "2\tGeoje 2015\r",
      "\r\n",
      "3\tNamhae\r",
      "\r\n",
      "4\tYellow Sea Block\r",
      "\r\n",
      "5\tJukbyeon\r",
      "\r\n",
      "6\tJin Bay Early\r",
      "\r\n",
      "7\tJin Bay Late\r",
      "\r\n",
      "8\tBoryeong\r",
      "\r\n",
      "9\tGeoje 2014\r",
      "\r\n"
     ]
    }
   ],
   "source": [
    "!head korea.names"
   ]
  },
  {
   "cell_type": "markdown",
   "metadata": {},
   "source": [
    "<br>\n",
    "\n",
    "**(4)** Labels above the figure - A white space delimited text file with labels for on top of the figure. I used these to identify regions. Each line is: `pop code #` (space) `label`\n",
    "<br>\n"
   ]
  },
  {
   "cell_type": "code",
   "execution_count": 7,
   "metadata": {},
   "outputs": [
    {
     "name": "stdout",
     "output_type": "stream",
     "text": [
      "1\tSoutheast\r",
      "\r\n",
      "2\tSouth\r",
      "\r\n",
      "3\tSouth\r",
      "\r\n",
      "4\tWest\r",
      "\r\n",
      "5\tEast\r",
      "\r\n",
      "6\tSouth\r",
      "\r\n",
      "7\tSouth\r",
      "\r\n",
      "8\tWest\r",
      "\r\n",
      "9\tSouth\r",
      "\r\n"
     ]
    }
   ],
   "source": [
    "!head korea.regions"
   ]
  },
  {
   "cell_type": "markdown",
   "metadata": {},
   "source": [
    "<br>\n",
    "\n",
    "**(5)** Cluster colors - A white space delimited text file with colors for each *cluster* (note: not for each population). You can mess around with the order of the clusters, but unless you have each cluster correlating to a specific population order, it's not really necessary. The distruct manual has color codes. Each line is: `value of K` (space) `color`"
   ]
  },
  {
   "cell_type": "code",
   "execution_count": 8,
   "metadata": {},
   "outputs": [
    {
     "name": "stdout",
     "output_type": "stream",
     "text": [
      "1 color43\r",
      "\r\n",
      "2 color41\r",
      "\r\n",
      "3 color129\r",
      "\r\n",
      "4 color105\r",
      "\r\n",
      "5 color50\r",
      "\r\n",
      "6 color52\r",
      "\r\n",
      "7 blue\r",
      "\r\n",
      "8 color103\r",
      "\r\n",
      "9 color48"
     ]
    }
   ],
   "source": [
    "# for when K = 9\n",
    "!head korea.perm"
   ]
  },
  {
   "cell_type": "markdown",
   "metadata": {},
   "source": [
    "<br>\n",
    "<br>\n",
    "\n",
    "### Results\n",
    "\n",
    "Distruct visuals can be found in the Results folder. "
   ]
  },
  {
   "cell_type": "code",
   "execution_count": null,
   "metadata": {
    "collapsed": true
   },
   "outputs": [],
   "source": []
  }
 ],
 "metadata": {
  "kernelspec": {
   "display_name": "Python 2",
   "language": "python",
   "name": "python2"
  },
  "language_info": {
   "codemirror_mode": {
    "name": "ipython",
    "version": 2
   },
   "file_extension": ".py",
   "mimetype": "text/x-python",
   "name": "python",
   "nbconvert_exporter": "python",
   "pygments_lexer": "ipython2",
   "version": "2.7.13"
  }
 },
 "nbformat": 4,
 "nbformat_minor": 2
}
