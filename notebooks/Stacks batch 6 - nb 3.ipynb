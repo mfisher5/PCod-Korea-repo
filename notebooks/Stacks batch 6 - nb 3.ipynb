{
 "cells": [
  {
   "cell_type": "markdown",
   "metadata": {},
   "source": [
    "## Stacks pipeline batch 6 - notebook 3\n",
    "\n",
    "This notebook contains post-stacks filtering steps for batch 6, *including HWE filtering*\n",
    "\n",
    "<br>\n",
    "\n",
    "### Filtering shell script"
   ]
  },
  {
   "cell_type": "code",
   "execution_count": 1,
   "metadata": {
    "collapsed": false
   },
   "outputs": [
    {
     "name": "stdout",
     "output_type": "stream",
     "text": [
      "/mnt/hgfs/Pacific cod/DataAnalysis/PCod-Korea-repo/scripts/PostStacksFiltering\n"
     ]
    }
   ],
   "source": [
    "cd ../scripts/PostStacksFiltering/"
   ]
  },
  {
   "cell_type": "markdown",
   "metadata": {},
   "source": [
    "\n",
    "<br>\n",
    "**While working on batch 5**, I modified my original bash shell script so that i can filter out individuals with too much missing data BEFORE the minor allele frequency filtering and the loci missing data filtering. This should help retain more loci. The modifications include: \n",
    "\n",
    "1. A stop point before MAF filtering that allows you to pause the script and generate a new .genepop file without the missing individuals. You then type in the name of the new filtered file. \n",
    "\n",
    "2. Edits to the add_sample_to_genepop.py script to take the filtered file name. \n",
    "\n",
    "3. Edits to the INPUT FILE and to the remaining scripts to work off of a new population map that includes only retained individuals. "
   ]
  },
  {
   "cell_type": "code",
   "execution_count": 2,
   "metadata": {
    "collapsed": false,
    "scrolled": true
   },
   "outputs": [
    {
     "name": "stdout",
     "output_type": "stream",
     "text": [
      "### THIS SCRIPT GENERATES THE BASH SHELL THAT WILL RUN ALL OF THE EXTRA FILTERING STEPS AFTER POPULATIONS ###\r\n",
      "\r\n",
      "## arguments: input file, pre-formatted\r\n",
      "##MF 2/12/2017\r\n",
      "\r\n",
      "## This was edited to allow you to filter individuals before you get to MAF and loci missing data filtering. \r\n",
      "## MF 6/26/2017\r\n",
      "\r\n",
      "###################################################################################################\r\n",
      "\r\n"
     ]
    }
   ],
   "source": [
    "!head genBASH_finalfilters_filterIndivids.py"
   ]
  },
  {
   "cell_type": "code",
   "execution_count": 3,
   "metadata": {
    "collapsed": false
   },
   "outputs": [],
   "source": [
    "!python genBASH_finalfilters_filterIndivids.py Input_extrafilters_b6_7-8.txt"
   ]
  },
  {
   "cell_type": "code",
   "execution_count": 4,
   "metadata": {
    "collapsed": false,
    "scrolled": true
   },
   "outputs": [
    {
     "name": "stdout",
     "output_type": "stream",
     "text": [
      "#!/bin/bash\r\n",
      "### This shell script will run all of the lab's extra filtering scripts after populations ###\r\n",
      "## M.Fisher 2/12/2017\r\n",
      "\r\n",
      "\r\n",
      "echo 'Before running running this script, please be sure that you have the following:'\r\n",
      "echo ''\r\n",
      "echo '1. A single folder containing (1) stacks populations output, and (2) batch catalog files'\r\n",
      "echo ''\r\n",
      "echo '2. All additional python scripts listed in the input text file.'\r\n",
      "echo ''\r\n",
      "echo '3. The INPUT text file, UPDATED FOR YOUR DATA'\r\n",
      "echo ''\r\n",
      "echo 'Are you ready for the script to run? (yes/no)'\r\n",
      "read ANSWER\r\n",
      "if [ $ANSWER == 'no' ]; then\r\n",
      "\texit 1\r\n",
      "fi\r\n",
      "\r\n",
      "\r\n"
     ]
    }
   ],
   "source": [
    "!head -n 20 PostStacksFiltering_b6_wgenome.sh"
   ]
  },
  {
   "cell_type": "markdown",
   "metadata": {},
   "source": [
    "#### 7/11/2017"
   ]
  },
  {
   "cell_type": "code",
   "execution_count": 5,
   "metadata": {
    "collapsed": true
   },
   "outputs": [],
   "source": [
    "!chmod +x PostStacksFiltering_b6_wgenome.sh"
   ]
  },
  {
   "cell_type": "markdown",
   "metadata": {},
   "source": [
    "*This is an interactive script, so I ran it in the terminal...*"
   ]
  },
  {
   "cell_type": "markdown",
   "metadata": {},
   "source": [
    "*Troubleshooting:* I kept getting a key error for locus 25210 when running `preparing_file_for_correcting_genotypes.py`. Although this locus appears to be missing in at least half of the individuals in the `.haplotypes` file, it is biallelic and is present in about 4 populations. I manually counted the number of individuals which have each genotype, and found that 32 individuals have A, 40 individuals have G, and 54 individuals have A/G. I'm just going to add this locus to the end of the biallelic catalog manually. (`25210 \\t A \\t G \\t 140`).\n",
    "\n",
    "*Additional steps:* I filtered out individuals with > 0.40 missing data before moving on to MAF filtering.\n",
    "\n",
    "<br>\n",
    "<br>\n",
    "\n",
    "\n",
    "#### 7/12/2017\n",
    "\n",
    "<br>\n",
    "At the end of each step, I had the following number of loci:\n",
    "\n",
    "**Biallelic, unfiltered:** 9,745 Loci\n",
    "\n",
    "**After MAF Filtering:** 7,746 Loci\n",
    "\n",
    "**After Missing Data (>0.20 missing genotypes at locus) Filtering:** 7,313 Loci\n",
    "<br>\n",
    "\n",
    "Filtered genepop output from shell script: **`batch_6.filteredMAF_filteredLoci`**\n",
    "\n",
    "<br>\n",
    "\n",
    "\n",
    "### Filtering individuals for missing data\n",
    "\n",
    "I ended up doing two forms of the missing data filtering for individuals. When I set the cut-off at 0.20, I filtered out 14 individuals. When I set the cut-off at 0.30, I only lost one individual. So I'm going to make `genepops` out of both, pending Lorenz's feedback.  \n",
    "\n",
    "**After Missing Data (>0.20 missing genotypes in individual) Filtering:** 7,313 Loci and 234 Individuals\n",
    "\n",
    "**After Missing Data (>0.20 missing genotypes in individual) Filtering:** 7,313 Loci and 247 Individuals\n",
    "\n",
    "<br>\n",
    "\n",
    "**FINAL FILTERED GENEPOP: `batch_6.filteredMAF_filteredLoci_20filteredIndivids.txt`OR `batch_6.filteredMAF_filteredLoci_30filteredIndivids.txt`**\n",
    "\n",
    "<br>\n",
    "<br>\n"
   ]
  },
  {
   "cell_type": "markdown",
   "metadata": {},
   "source": [
    "### Conversion of final filtered genepop to R genepop format"
   ]
  },
  {
   "cell_type": "code",
   "execution_count": 2,
   "metadata": {
    "collapsed": false
   },
   "outputs": [
    {
     "data": {
      "text/plain": [
       "u'/mnt/hgfs/Pacific cod/DataAnalysis/PCod-Korea-repo/notebooks'"
      ]
     },
     "execution_count": 2,
     "metadata": {},
     "output_type": "execute_result"
    }
   ],
   "source": [
    "pwd"
   ]
  },
  {
   "cell_type": "code",
   "execution_count": 3,
   "metadata": {
    "collapsed": false
   },
   "outputs": [
    {
     "name": "stdout",
     "output_type": "stream",
     "text": [
      "/mnt/hgfs/Pacific cod/DataAnalysis/PCod-Korea-repo/scripts\n"
     ]
    }
   ],
   "source": [
    "cd ../scripts"
   ]
  },
  {
   "cell_type": "code",
   "execution_count": 4,
   "metadata": {
    "collapsed": false,
    "scrolled": true
   },
   "outputs": [
    {
     "name": "stdout",
     "output_type": "stream",
     "text": [
      "/mnt/hgfs/Pacific cod/DataAnalysis/PCod-Korea-repo/scripts/PostStacksFiltering\n"
     ]
    }
   ],
   "source": [
    "cd PostStacksFiltering/"
   ]
  },
  {
   "cell_type": "code",
   "execution_count": 5,
   "metadata": {
    "collapsed": false
   },
   "outputs": [
    {
     "name": "stdout",
     "output_type": "stream",
     "text": [
      "/mnt/hgfs/Pacific cod/DataAnalysis/PCod-Korea-repo/scripts\n"
     ]
    }
   ],
   "source": [
    "cd ../"
   ]
  },
  {
   "cell_type": "markdown",
   "metadata": {},
   "source": [
    "#### Run genepop"
   ]
  },
  {
   "cell_type": "code",
   "execution_count": 7,
   "metadata": {
    "collapsed": false
   },
   "outputs": [],
   "source": [
    "!python genepop_conversion_forR_fromTAB_b4.py \\\n",
    "../stacks_b6_wgenome/batch_6.filteredMAF_filteredLoci_20filteredIndivids \\\n",
    "../stacks_b6_wgenome/batch_6.filteredMAF_filteredLoci_20filteredIndivids.gen"
   ]
  },
  {
   "cell_type": "markdown",
   "metadata": {},
   "source": [
    "#### 7/13/2017"
   ]
  },
  {
   "cell_type": "code",
   "execution_count": 33,
   "metadata": {
    "collapsed": false
   },
   "outputs": [
    {
     "name": "stdout",
     "output_type": "stream",
     "text": [
      "/mnt/hgfs/Pacific cod/DataAnalysis/PCod-Korea-repo/scripts\n"
     ]
    }
   ],
   "source": [
    "cd ../scripts"
   ]
  },
  {
   "cell_type": "code",
   "execution_count": 34,
   "metadata": {
    "collapsed": false
   },
   "outputs": [],
   "source": [
    "!python genepop_conversion_forR_fromTAB_b6.py \\\n",
    "../stacks_b6_wgenome/batch_6.filteredMAF_filteredLoci_30filteredIndivids \\\n",
    "../stacks_b6_wgenome/batch_6.filteredMAF_filteredLoci_30filteredIndivids.gen"
   ]
  },
  {
   "cell_type": "code",
   "execution_count": 35,
   "metadata": {
    "collapsed": false
   },
   "outputs": [],
   "source": [
    "!python genepop_conversion_forR_fromTAB_b6_20.py \\\n",
    "../stacks_b6_wgenome/batch_6.filteredMAF_filteredLoci_20filteredIndivids \\\n",
    "../stacks_b6_wgenome/batch_6.filteredMAF_filteredLoci_20filteredIndivids.gen"
   ]
  },
  {
   "cell_type": "markdown",
   "metadata": {},
   "source": [
    "### HWE Filtering: 0.30 Individual Filter\n",
    "\n",
    "\n",
    "#### 7/14/2017"
   ]
  },
  {
   "cell_type": "markdown",
   "metadata": {},
   "source": [
    "On the genepop file `batch_6_wgenome/batch_6.filteredMAF_filteredLoci_30filteredIndivids.txt`\n",
    "\n",
    "\n",
    "Use the options: 1... Hardy-Weinberg exact tests >> 3...test for each locus in each population, Probability test\n"
   ]
  },
  {
   "cell_type": "code",
   "execution_count": 36,
   "metadata": {
    "collapsed": false,
    "scrolled": true
   },
   "outputs": [
    {
     "name": "stdout",
     "output_type": "stream",
     "text": [
      "/mnt/hgfs/Pacific cod/DataAnalysis/PCod-Korea-repo/analyses\n"
     ]
    }
   ],
   "source": [
    "cd ../analyses"
   ]
  },
  {
   "cell_type": "markdown",
   "metadata": {},
   "source": [
    "#### Parse genepop output"
   ]
  },
  {
   "cell_type": "code",
   "execution_count": 37,
   "metadata": {
    "collapsed": false
   },
   "outputs": [
    {
     "name": "stdout",
     "output_type": "stream",
     "text": [
      "generating dictionaries of pvalues and fis values...\n",
      "writing output to files...\n",
      "done.\n"
     ]
    }
   ],
   "source": [
    "!python parse_genepop_HWEbylocus.py \\\n",
    "-p ../stacks_b6_wgenome/batch_6_filteredMAF_filteredLoci_30filteredIndivids.txt.P \\\n",
    "-op batch_6_30_HWEpvals.txt \\\n",
    "-of batch_6_30_Fis.txt"
   ]
  },
  {
   "cell_type": "code",
   "execution_count": 38,
   "metadata": {
    "collapsed": true
   },
   "outputs": [],
   "source": [
    "from scipy.stats import chisqprob"
   ]
  },
  {
   "cell_type": "code",
   "execution_count": 39,
   "metadata": {
    "collapsed": true
   },
   "outputs": [],
   "source": [
    "import numpy as np"
   ]
  },
  {
   "cell_type": "markdown",
   "metadata": {},
   "source": [
    "#### Filter loci out of HWE"
   ]
  },
  {
   "cell_type": "code",
   "execution_count": 40,
   "metadata": {
    "collapsed": false
   },
   "outputs": [
    {
     "name": "stdout",
     "output_type": "stream",
     "text": [
      "/mnt/hgfs/Pacific cod/DataAnalysis/PCod-Korea-repo/analyses\n"
     ]
    }
   ],
   "source": [
    "cd ../analyses"
   ]
  },
  {
   "cell_type": "code",
   "execution_count": 41,
   "metadata": {
    "collapsed": false
   },
   "outputs": [
    {
     "name": "stdout",
     "output_type": "stream",
     "text": [
      "You have  689  loci out of HWE\n"
     ]
    }
   ],
   "source": [
    "## STEP ONE: conduct chisquare and determine loci out of HWE. \n",
    "## write results to a file and save a list of the loci out of HWE. \n",
    "\n",
    "infile = open(\"batch_6_30_HWEpvals.txt\", \"r\")\n",
    "outfile = open(\"batch_6_30_HWEchisquare.txt\", \"w\")\n",
    "\n",
    "outfile.write(\"locus\\tChiSquare\\tdf\\tpvalue\\n\")\n",
    "\n",
    "sig_count = 0\n",
    "loci_to_discard = []\n",
    "\n",
    "for line in infile:\n",
    "    if \"locus\" not in line:\n",
    "        linelist= line.strip().split()\n",
    "        outfile.write(linelist[0]) #write locus name to outfile\n",
    "        sum = 0 #sum of ln(pvals)\n",
    "        n_pops = 0 # number of pops with pvals (some will have NAs)\n",
    "        for i in range(1,8):\n",
    "            if linelist[i] != \"NA\" and float(linelist[i]) == 0.0:\n",
    "                newval = np.log(float(0.00000000001))\n",
    "                sum += newval\n",
    "                n_pops += 1\n",
    "            elif linelist[i] != \"NA\" and float(linelist[i]) != 0.0:\n",
    "                newval = np.log(float(linelist[i]))\n",
    "                sum += newval\n",
    "                n_pops += 1\n",
    "        chisquare = float(-2) * float(sum)\n",
    "        df = n_pops * 2\n",
    "        outfile.write(\"\\t\" + str(chisquare) + \"\\t\" + str(df))\n",
    "        pvalue = chisqprob(chisquare,df)\n",
    "        if pvalue < 0.05:\n",
    "            sig_count += 1\n",
    "            loci_to_discard.append(linelist[0])\n",
    "        outfile.write(\"\\t\" + str(pvalue) + \"\\n\")\n",
    "infile.close()\n",
    "outfile.close()\n",
    "\n",
    "print \"You have \", sig_count, \" loci out of HWE\""
   ]
  },
  {
   "cell_type": "code",
   "execution_count": 42,
   "metadata": {
    "collapsed": false
   },
   "outputs": [
    {
     "name": "stdout",
     "output_type": "stream",
     "text": [
      "6624  loci written to output file.\n"
     ]
    }
   ],
   "source": [
    "## STEP TWO: rewrite the file of HWEpvals by locus by population, \n",
    "## excluding those loci out of HWE. \n",
    "\n",
    "infile = open(\"batch_6_30_HWEpvals.txt\", \"r\")\n",
    "outfile = open(\"batch_6_30_HWEpvals_filtered.txt\", \"w\")\n",
    "\n",
    "locus_count = 0\n",
    "\n",
    "for line in infile:\n",
    "    if line.startswith(\"#\"):\n",
    "        outfile.write(\"parsed GENEPOP output, HWE p-values by locus by population FILTERED #\\n\")\n",
    "    elif line.startswith(\"locus\"):\n",
    "        outfile.write(line)\n",
    "    else:\n",
    "        locus = line.strip().split()[0]\n",
    "        if locus not in loci_to_discard:\n",
    "            outfile.write(line)\n",
    "            locus_count += 1\n",
    "infile.close()\n",
    "outfile.close()\n",
    "print locus_count, \" loci written to output file.\""
   ]
  },
  {
   "cell_type": "markdown",
   "metadata": {},
   "source": [
    "#### Create new genepop with filtered loci"
   ]
  },
  {
   "cell_type": "code",
   "execution_count": 43,
   "metadata": {
    "collapsed": false
   },
   "outputs": [],
   "source": [
    "## STEP ONE: create a list of the loci to keep \n",
    "infile = open(\"batch_6_30_HWEpvals_filtered.txt\", \"r\")\n",
    "\n",
    "filtered_loci = []\n",
    "\n",
    "for line in infile:\n",
    "    if \"locus\" not in line:\n",
    "        filtered_loci.append(line.strip().split()[0])\n",
    "\n",
    "infile.close()\n",
    "\n",
    "## STEP TWO: write out the genotypes for the loci to keep to a new genepop\n",
    "## STEP THREE: write out the genotypes for loci out of HWE to different file\n",
    "old_genepop = open(\"../stacks_b6_wgenome/batch_6.filteredMAF_filteredLoci_30filteredIndivids\", \"r\")\n",
    "new_genepop = open(\"../stacks_b6_wgenome/batch_6.filteredMAF_filteredLoci_30filteredIndivids_filteredHWE.txt\", \"w\")\n",
    "bad_genepop = open(\"../stacks_b6_wgenome/batch_6.filteredMAF_filteredLoci_30filteredIndivids_BADhwe.txt\", \"w\")\n",
    "\n",
    "for line in old_genepop:\n",
    "    if line.startswith(\"sample\"):\n",
    "        new_genepop.write(line)\n",
    "        bad_genepop.write(line)\n",
    "    else: \n",
    "        locus_id = line.strip().split(\"\\t\")[0]\n",
    "        if locus_id in filtered_loci:\n",
    "            new_genepop.write(line)\n",
    "        else:\n",
    "            bad_genepop.write(line)\n",
    "old_genepop.close()\n",
    "new_genepop.close()\n",
    "bad_genepop.close()"
   ]
  },
  {
   "cell_type": "code",
   "execution_count": 44,
   "metadata": {
    "collapsed": false
   },
   "outputs": [
    {
     "name": "stdout",
     "output_type": "stream",
     "text": [
      "There are  6624  loci in filtered list\n",
      "There are  6624  loci in your filtered genepop file\n",
      "0  loci have not been filtered appropriately\n"
     ]
    }
   ],
   "source": [
    "## STEP FOUR: check to make sure only loci in HWE are now in genepop\n",
    "\n",
    "print \"There are \", len(filtered_loci), \" loci in filtered list\"\n",
    "\n",
    "count = 0\n",
    "good_filter = []\n",
    "bad_filter = []\n",
    "genepop = open(\"../stacks_b6_wgenome/batch_6.filteredMAF_filteredLoci_30filteredIndivids_filteredHWE.txt\", \"r\")\n",
    "for line in genepop:\n",
    "    if \"sample\" not in line:\n",
    "        locus_id = line.strip().split()[0]\n",
    "        count += 1\n",
    "        if locus_id in filtered_loci:\n",
    "            good_filter.append(locus_id)\n",
    "        elif locus_id not in filtered_loci:\n",
    "            bad_filter.append(locus_id)\n",
    "genepop.close()\n",
    "\n",
    "print \"There are \", count, \" loci in your filtered genepop file\"\n",
    "print len(bad_filter), \" loci have not been filtered appropriately\"\n",
    "            "
   ]
  },
  {
   "cell_type": "markdown",
   "metadata": {},
   "source": [
    "#### Create Final Genepop File"
   ]
  },
  {
   "cell_type": "code",
   "execution_count": 45,
   "metadata": {
    "collapsed": false
   },
   "outputs": [
    {
     "name": "stdout",
     "output_type": "stream",
     "text": [
      "/mnt/hgfs/Pacific cod/DataAnalysis/PCod-Korea-repo/scripts\n"
     ]
    }
   ],
   "source": [
    "cd ../scripts"
   ]
  },
  {
   "cell_type": "code",
   "execution_count": 46,
   "metadata": {
    "collapsed": false
   },
   "outputs": [],
   "source": [
    "!python genepop_conversion_forR_fromTAB_b6.py \\\n",
    "../stacks_b6_wgenome/batch_6.filteredMAF_filteredLoci_30filteredIndivids_filteredHWE.txt \\\n",
    "../stacks_b6_wgenome/batch_6.filteredMAF_filteredLoci_30filteredIndivids_filteredHWE.gen"
   ]
  },
  {
   "cell_type": "markdown",
   "metadata": {},
   "source": [
    "\n",
    "<br>\n",
    "<br>\n",
    "\n",
    "### HWE Filtering: 0.20 Individual Filter\n",
    "\n",
    "#### 7/14/2017\n",
    "\n",
    "\n",
    "On the genepop file batch_6_wgenome/batch_6.filteredMAF_filteredLoci_20filteredIndivids.txt\n",
    "Use the options: 1... Hardy-Weinberg exact tests >> 3...test for each locus in each population, Probability test"
   ]
  },
  {
   "cell_type": "code",
   "execution_count": 47,
   "metadata": {
    "collapsed": false
   },
   "outputs": [
    {
     "name": "stdout",
     "output_type": "stream",
     "text": [
      "/mnt/hgfs/Pacific cod/DataAnalysis/PCod-Korea-repo/analyses\n"
     ]
    }
   ],
   "source": [
    "cd ../analyses"
   ]
  },
  {
   "cell_type": "markdown",
   "metadata": {},
   "source": [
    "** Parse Genepop output**"
   ]
  },
  {
   "cell_type": "code",
   "execution_count": 48,
   "metadata": {
    "collapsed": false
   },
   "outputs": [
    {
     "name": "stdout",
     "output_type": "stream",
     "text": [
      "generating dictionaries of pvalues and fis values...\n",
      "writing output to files...\n",
      "done.\n"
     ]
    }
   ],
   "source": [
    "!python parse_genepop_HWEbylocus.py \\\n",
    "-p ../stacks_b6_wgenome/batch_6_filteredMAF_filteredLoci_20filteredIndivids.txt.P \\\n",
    "-op batch_6_20_HWEpvals.txt \\\n",
    "-of batch_6_20_Fis.txt"
   ]
  },
  {
   "cell_type": "code",
   "execution_count": 49,
   "metadata": {
    "collapsed": true
   },
   "outputs": [],
   "source": [
    "from scipy.stats import chisqprob\n",
    "import numpy as np"
   ]
  },
  {
   "cell_type": "markdown",
   "metadata": {},
   "source": [
    "**Filter Loci out of HWE**"
   ]
  },
  {
   "cell_type": "code",
   "execution_count": 50,
   "metadata": {
    "collapsed": false
   },
   "outputs": [
    {
     "name": "stdout",
     "output_type": "stream",
     "text": [
      "/mnt/hgfs/Pacific cod/DataAnalysis/PCod-Korea-repo/analyses\n"
     ]
    }
   ],
   "source": [
    "cd ../analyses"
   ]
  },
  {
   "cell_type": "code",
   "execution_count": 51,
   "metadata": {
    "collapsed": false
   },
   "outputs": [
    {
     "name": "stdout",
     "output_type": "stream",
     "text": [
      "You have  676  loci out of HWE\n"
     ]
    }
   ],
   "source": [
    "## STEP ONE: conduct chisquare and determine loci out of HWE. \n",
    "## write results to a file and save a list of the loci out of HWE. \n",
    "\n",
    "infile = open(\"batch_6_20_HWEpvals.txt\", \"r\")\n",
    "outfile = open(\"batch_6_20_HWEchisquare.txt\", \"w\")\n",
    "\n",
    "outfile.write(\"locus\\tChiSquare\\tdf\\tpvalue\\n\")\n",
    "\n",
    "sig_count = 0\n",
    "loci_to_discard = []\n",
    "\n",
    "for line in infile:\n",
    "    if \"locus\" not in line:\n",
    "        linelist= line.strip().split()\n",
    "        outfile.write(linelist[0]) #write locus name to outfile\n",
    "        sum = 0 #sum of ln(pvals)\n",
    "        n_pops = 0 # number of pops with pvals (some will have NAs)\n",
    "        for i in range(1,8):\n",
    "            if linelist[i] != \"NA\" and float(linelist[i]) == 0.0:\n",
    "                newval = np.log(float(0.00000000001))\n",
    "                sum += newval\n",
    "                n_pops += 1\n",
    "            elif linelist[i] != \"NA\" and float(linelist[i]) != 0.0:\n",
    "                newval = np.log(float(linelist[i]))\n",
    "                sum += newval\n",
    "                n_pops += 1\n",
    "        chisquare = float(-2) * float(sum)\n",
    "        df = n_pops * 2\n",
    "        outfile.write(\"\\t\" + str(chisquare) + \"\\t\" + str(df))\n",
    "        pvalue = chisqprob(chisquare,df)\n",
    "        if pvalue < 0.05:\n",
    "            sig_count += 1\n",
    "            loci_to_discard.append(linelist[0])\n",
    "        outfile.write(\"\\t\" + str(pvalue) + \"\\n\")\n",
    "infile.close()\n",
    "outfile.close()\n",
    "\n",
    "print \"You have \", sig_count, \" loci out of HWE\""
   ]
  },
  {
   "cell_type": "code",
   "execution_count": 52,
   "metadata": {
    "collapsed": false
   },
   "outputs": [
    {
     "name": "stdout",
     "output_type": "stream",
     "text": [
      "6637  loci written to output file.\n"
     ]
    }
   ],
   "source": [
    "## STEP TWO: rewrite the file of HWEpvals by locus by population, \n",
    "## excluding those loci out of HWE. \n",
    "\n",
    "infile = open(\"batch_6_20_HWEpvals.txt\", \"r\")\n",
    "outfile = open(\"batch_6_20_HWEpvals_filtered.txt\", \"w\")\n",
    "\n",
    "locus_count = 0\n",
    "\n",
    "for line in infile:\n",
    "    if line.startswith(\"#\"):\n",
    "        outfile.write(\"parsed GENEPOP output, HWE p-values by locus by population FILTERED #\\n\")\n",
    "    elif line.startswith(\"locus\"):\n",
    "        outfile.write(line)\n",
    "    else:\n",
    "        locus = line.strip().split()[0]\n",
    "        if locus not in loci_to_discard:\n",
    "            outfile.write(line)\n",
    "            locus_count += 1\n",
    "infile.close()\n",
    "outfile.close()\n",
    "print locus_count, \" loci written to output file.\""
   ]
  },
  {
   "cell_type": "markdown",
   "metadata": {},
   "source": [
    "**Create new genepop with filtered loci**"
   ]
  },
  {
   "cell_type": "code",
   "execution_count": 53,
   "metadata": {
    "collapsed": true
   },
   "outputs": [],
   "source": [
    "## STEP ONE: create a list of the loci to keep \n",
    "infile = open(\"batch_6_20_HWEpvals_filtered.txt\", \"r\")\n",
    "\n",
    "filtered_loci = []\n",
    "\n",
    "for line in infile:\n",
    "    if \"locus\" not in line:\n",
    "        filtered_loci.append(line.strip().split()[0])\n",
    "\n",
    "infile.close()\n",
    "\n",
    "## STEP TWO: write out the genotypes for the loci to keep to a new genepop\n",
    "## STEP THREE: write out the genotypes for loci out of HWE to different file\n",
    "old_genepop = open(\"../stacks_b6_wgenome/batch_6.filteredMAF_filteredLoci_20filteredIndivids\", \"r\")\n",
    "new_genepop = open(\"../stacks_b6_wgenome/batch_6.filteredMAF_filteredLoci_20filteredIndivids_filteredHWE.txt\", \"w\")\n",
    "bad_genepop = open(\"../stacks_b6_wgenome/batch_6.filteredMAF_filteredLoci_20filteredIndivids_BADhwe.txt\", \"w\")\n",
    "\n",
    "for line in old_genepop:\n",
    "    if line.startswith(\"sample\"):\n",
    "        new_genepop.write(line)\n",
    "        bad_genepop.write(line)\n",
    "    else: \n",
    "        locus_id = line.strip().split(\"\\t\")[0]\n",
    "        if locus_id in filtered_loci:\n",
    "            new_genepop.write(line)\n",
    "        else:\n",
    "            bad_genepop.write(line)\n",
    "old_genepop.close()\n",
    "new_genepop.close()\n",
    "bad_genepop.close()"
   ]
  },
  {
   "cell_type": "code",
   "execution_count": 54,
   "metadata": {
    "collapsed": false
   },
   "outputs": [
    {
     "name": "stdout",
     "output_type": "stream",
     "text": [
      "There are  6637  loci in filtered list\n",
      "There are  6637  loci in your filtered genepop file\n",
      "0  loci have not been filtered appropriately\n"
     ]
    }
   ],
   "source": [
    "## STEP FOUR: check to make sure only loci in HWE are now in genepop\n",
    "\n",
    "print \"There are \", len(filtered_loci), \" loci in filtered list\"\n",
    "\n",
    "count = 0\n",
    "good_filter = []\n",
    "bad_filter = []\n",
    "genepop = open(\"../stacks_b6_wgenome/batch_6.filteredMAF_filteredLoci_20filteredIndivids_filteredHWE.txt\", \"r\")\n",
    "for line in genepop:\n",
    "    if \"sample\" not in line:\n",
    "        locus_id = line.strip().split()[0]\n",
    "        count += 1\n",
    "        if locus_id in filtered_loci:\n",
    "            good_filter.append(locus_id)\n",
    "        elif locus_id not in filtered_loci:\n",
    "            bad_filter.append(locus_id)\n",
    "genepop.close()\n",
    "\n",
    "print \"There are \", count, \" loci in your filtered genepop file\"\n",
    "print len(bad_filter), \" loci have not been filtered appropriately\"\n",
    "            "
   ]
  },
  {
   "cell_type": "markdown",
   "metadata": {},
   "source": [
    "**Create genepop file**"
   ]
  },
  {
   "cell_type": "code",
   "execution_count": 55,
   "metadata": {
    "collapsed": false
   },
   "outputs": [
    {
     "name": "stdout",
     "output_type": "stream",
     "text": [
      "/mnt/hgfs/Pacific cod/DataAnalysis/PCod-Korea-repo/scripts\n"
     ]
    }
   ],
   "source": [
    "cd ../scripts"
   ]
  },
  {
   "cell_type": "code",
   "execution_count": 56,
   "metadata": {
    "collapsed": true
   },
   "outputs": [],
   "source": [
    "!python genepop_conversion_forR_fromTAB_b6_20.py \\\n",
    "../stacks_b6_wgenome/batch_6.filteredMAF_filteredLoci_20filteredIndivids_filteredHWE.txt \\\n",
    "../stacks_b6_wgenome/batch_6.filteredMAF_filteredLoci_20filteredIndivids_filteredHWE.gen"
   ]
  },
  {
   "cell_type": "code",
   "execution_count": null,
   "metadata": {
    "collapsed": true
   },
   "outputs": [],
   "source": []
  }
 ],
 "metadata": {
  "anaconda-cloud": {},
  "kernelspec": {
   "display_name": "Python [default]",
   "language": "python",
   "name": "python2"
  },
  "language_info": {
   "codemirror_mode": {
    "name": "ipython",
    "version": 2
   },
   "file_extension": ".py",
   "mimetype": "text/x-python",
   "name": "python",
   "nbconvert_exporter": "python",
   "pygments_lexer": "ipython2",
   "version": "2.7.12"
  }
 },
 "nbformat": 4,
 "nbformat_minor": 1
}
