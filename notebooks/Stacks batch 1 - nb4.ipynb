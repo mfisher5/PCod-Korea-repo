{
 "cells": [
  {
   "cell_type": "markdown",
   "metadata": {},
   "source": [
    "## Post-stacks Filtering: new process\n",
    "\n",
    "This will be the first post-stacks filtering done when using the `write_random_snp` model. The workflow is as follows: \n",
    "\n",
    "\n",
    "<br>\n",
    "<br>\n",
    "(1) Convert `populations` genepop output into a 2x2 chart, with loci as headers. \n",
    "\n",
    "(2) Filter out loci with too much missing data\n",
    "\n",
    "(3) Filter for minor allele frequency\n",
    "\n",
    "(4) Filter individuals for missing data\n",
    "\n",
    "(5) Filter for loci out of HWE"
   ]
  },
  {
   "cell_type": "code",
   "execution_count": 1,
   "metadata": {
    "collapsed": false
   },
   "outputs": [
    {
     "data": {
      "text/plain": [
       "u'/mnt/hgfs/Pacific cod/DataAnalysis/PCod-Korea-repo/notebooks'"
      ]
     },
     "execution_count": 1,
     "metadata": {},
     "output_type": "execute_result"
    }
   ],
   "source": [
    "pwd"
   ]
  },
  {
   "cell_type": "code",
   "execution_count": 2,
   "metadata": {
    "collapsed": false
   },
   "outputs": [
    {
     "name": "stdout",
     "output_type": "stream",
     "text": [
      "/mnt/hgfs/Pacific cod/DataAnalysis/PCod-Korea-repo/scripts\n"
     ]
    }
   ],
   "source": [
    "cd ../scripts\n"
   ]
  },
  {
   "cell_type": "code",
   "execution_count": 3,
   "metadata": {
    "collapsed": true
   },
   "outputs": [],
   "source": [
    "!mkdir PostStacksFilter_rSNP"
   ]
  },
  {
   "cell_type": "code",
   "execution_count": 4,
   "metadata": {
    "collapsed": false
   },
   "outputs": [
    {
     "name": "stdout",
     "output_type": "stream",
     "text": [
      "/mnt/hgfs/Pacific cod/DataAnalysis/PCod-Korea-repo/scripts/PostStacksFilter_rSNP\n"
     ]
    }
   ],
   "source": [
    "cd PostStacksFilter_rSNP/"
   ]
  },
  {
   "cell_type": "markdown",
   "metadata": {},
   "source": [
    "### convert genepop to matrix text file"
   ]
  },
  {
   "cell_type": "code",
   "execution_count": 7,
   "metadata": {
    "collapsed": false
   },
   "outputs": [
    {
     "name": "stdout",
     "output_type": "stream",
     "text": [
      "### Make 2 x 2 matrix out of 'populations' genepop file ###\r\n",
      "\r\n",
      "## MF 8/25/2017\r\n",
      "## Step 1 for Post-Stacks filtering with random SNP\r\n",
      "\r\n",
      "\r\n",
      "#################################################################################\r\n",
      "\r\n",
      "import argparse \r\n",
      "\r\n",
      "parser = argparse.ArgumentParser(description=\"convert populations genepop file into matrix for further filtering\")\r\n",
      "\r\n",
      "parser.add_argument(\"-g\", \"--genepop\", help=\"genepop file from populations\")\r\n",
      "parser.add_argument(\"-o\", \"--output\", help=\"output file\")\r\n",
      "parser.add_argument(\"-s\", \"--stacks_path\", help=\"path to the directory containing your stacks files\")\r\n",
      "\r\n",
      "args = parser.parse_args()\r\n",
      "\r\n",
      "#open files\r\n",
      "infile = open(args.stackspath + \"/\" + args.genepop, \"r\")\r\n"
     ]
    }
   ],
   "source": [
    "!head -n 20 convert_genepop_to_matrix.py"
   ]
  },
  {
   "cell_type": "code",
   "execution_count": 10,
   "metadata": {
    "collapsed": false
   },
   "outputs": [
    {
     "name": "stdout",
     "output_type": "stream",
     "text": [
      "working with genepop file:  batch_7.genepop\n",
      "Stacks version 1.44; Genepop version 4.1.3; August 25, 2017\n",
      "\n",
      "writing loci to output file...\n",
      "writing genotypes to output file...\n",
      "done.\n"
     ]
    }
   ],
   "source": [
    "!python convert_genepop_to_matrix.py \\\n",
    "-g batch_7.genepop \\\n",
    "-o batch_7_genotypes.txt \\\n",
    "-s ../../stacks_b7_wgenome"
   ]
  },
  {
   "cell_type": "markdown",
   "metadata": {},
   "source": [
    "### filter loci for missing data\n",
    "\n",
    "Filtered out loci missing more than 20% of genotypes. "
   ]
  },
  {
   "cell_type": "code",
   "execution_count": 12,
   "metadata": {
    "collapsed": false
   },
   "outputs": [
    {
     "name": "stdout",
     "output_type": "stream",
     "text": [
      "### Filter loci for missing data ###\r\n",
      "\r\n",
      "## MF 8/25/2017\r\n",
      "## Step 2 for Post-Stacks filtering with random SNP\r\n",
      "\r\n",
      "\r\n",
      "#################################################################################\r\n",
      "\r\n",
      "import argparse \r\n",
      "\r\n",
      "parser = argparse.ArgumentParser(description=\"convert populations genepop file into matrix for further filtering\")\r\n",
      "\r\n",
      "parser.add_argument(\"-f\", \"--input\", help=\"genotype file in 2 x 2 matrix\")\r\n",
      "parser.add_argument(\"-og\", \"--output_good\", help=\"output file containing 'good' loci\")\r\n",
      "parser.add_argument(\"-ob\", \"--output_bad\", help=\"output file containing 'bad' loci\")\r\n",
      "parser.add_argument(\"-s\", \"--stacks_path\", help=\"path to the directory containing your stacks files\")\r\n",
      "parser.add_argument(\"-p\", \"--percent\", help=\"threshold to remove missing data: ___ percent or more missing genotypes\")\r\n",
      "\r\n",
      "args = parser.parse_args()\r\n",
      "\r\n"
     ]
    }
   ],
   "source": [
    "!head -n 20 filter_loci_missing_data.py"
   ]
  },
  {
   "cell_type": "code",
   "execution_count": 38,
   "metadata": {
    "collapsed": false
   },
   "outputs": [
    {
     "name": "stdout",
     "output_type": "stream",
     "text": [
      "Transposing matrix...\n",
      "calculating 'good' and 'bad' loci...\n",
      "Deleting temporary file...\n",
      "writing 'good' and 'bad' loci to files...\n",
      "done.\n",
      "Total loci:  21526\n",
      "Loci retained:  11941\n",
      "Loci removed:  9585\n"
     ]
    }
   ],
   "source": [
    "!python filter_loci_missing_data.py \\\n",
    "-f batch_7_genotypes.txt \\\n",
    "-og batch_7.filterLoci.txt \\\n",
    "-ob batch_7.filterLociBAD.txt \\\n",
    "-s ../../stacks_b7_wgenome \\\n",
    "-p 0.20"
   ]
  },
  {
   "cell_type": "markdown",
   "metadata": {},
   "source": [
    "**I tried to double check these results using the follow R code, but it didn't work**"
   ]
  },
  {
   "cell_type": "code",
   "execution_count": null,
   "metadata": {
    "collapsed": true
   },
   "outputs": [],
   "source": [
    "\n",
    "library(readr)\n",
    "batch_7_genotypes <- read_delim(\"D:/Pacific cod/DataAnalysis/PCod-Korea-repo/stacks_b7_wgenome/batch_7_genotypes.txt\",\n",
    "\" \", escape_double = FALSE)\n",
    "View(batch_7_genotypes)\n",
    "\n",
    "b7_genotypes <- data.frame(batch_7_genotypes)\n",
    "\n",
    "good_count = 0\n",
    "bad_count = 0\n",
    "for (i in seq(2,length(names(batch_7_genotypes)))){\n",
    "  genotypes_str <- b7_genotypes[2:325,i]\n",
    "  genotypes <- strsplit(genotypes_str, 4)\n",
    "  n_missing = 0\n",
    "  total = 0\n",
    "  for(geno in genotypes){\n",
    "    total <- total + 1\n",
    "    if(length(geno) > 1){\n",
    "      print(geno)\n",
    "    }\n",
    "    if(geno == \"0000\"){\n",
    "      n_missing <- n_missing + 1\n",
    "    }\n",
    "  }\n",
    "  p_missing = n_missing/total\n",
    "  if(p_missing < 0.20){\n",
    "    good_count <- good_count + 1\n",
    "  } else{\n",
    "    bad_count <- bad_count + 1\n",
    "  }\n",
    "}\n"
   ]
  },
  {
   "cell_type": "markdown",
   "metadata": {},
   "source": [
    "### filter loci for MAF\n",
    "\n",
    "there are two ways that I could do this: \n",
    "\n",
    "1. Since I already have Eleni's scripts for this, if I can coerce my data into looking like the data we input for this step, and then I can use Eleni's script as a framework to filter. \n",
    "\n",
    "2. Kristen put her file into genepop, and then used the parsed genepop output to filter. \n",
    "<br>\n",
    "<br>\n",
    "First, I want to see **# of alleles per locus before MAF filtering**"
   ]
  },
  {
   "cell_type": "code",
   "execution_count": 75,
   "metadata": {
    "collapsed": false
   },
   "outputs": [],
   "source": [
    "\n",
    "infile = open(\"../../stacks_b7_wgenome/batch_7.filterLoci.txt\", \"r\")\n",
    "\n",
    "infile.readline()\n",
    "transition = 0\n",
    "transversion = 0\n",
    "\n",
    "for mystring in infile:\n",
    "    stripped_string = mystring.strip('\\n')\n",
    "    all_genotypes = stripped_string.split(' ')[1:] #subset genotypes only from line\n",
    "    alleles = []\n",
    "    all_n_alleles = []\n",
    "    for genotype in all_genotypes:\n",
    "        a1 = int(genotype[0:2]) #separate genotype into two alleles\n",
    "        a2 = int(genotype[2:])\n",
    "        if a1 not in alleles and a1 != 0: #append allele to list IF it is unique and not 0\n",
    "            alleles.append(a1)\n",
    "        if a2 not in alleles and a2 != 0:\n",
    "            alleles.append(a2)\n",
    "    if (1 in alleles and 3 in alleles) or (2 in alleles and 4 in alleles):\n",
    "        transition += 1\n",
    "    elif (1 in alleles and 2 in alleles) or (3 in alleles and 4 in alleles):\n",
    "        transversion += 1\n",
    "    n_alleles = len(alleles) #find total number of alleles at locus \n",
    "    all_n_alleles.append(n_alleles) #append that number to list\n",
    "infile.close()"
   ]
  },
  {
   "cell_type": "code",
   "execution_count": 76,
   "metadata": {
    "collapsed": true
   },
   "outputs": [],
   "source": [
    "import numpy as np\n",
    "import matplotlib.pyplot as plt"
   ]
  },
  {
   "cell_type": "code",
   "execution_count": 77,
   "metadata": {
    "collapsed": false
   },
   "outputs": [
    {
     "data": {
      "image/png": "[encoded data removed]",
      "text/plain": [
       "<matplotlib.figure.Figure at 0x7f52f049df90>"
      ]
     },
     "metadata": {},
     "output_type": "display_data"
    }
   ],
   "source": [
    "plt.hist(all_n_alleles, color = \"darkcyan\", alpha = 0.75)\n",
    "plt.show()"
   ]
  },
  {
   "cell_type": "code",
   "execution_count": 78,
   "metadata": {
    "collapsed": true
   },
   "outputs": [],
   "source": [
    "plt.close()"
   ]
  },
  {
   "cell_type": "code",
   "execution_count": 79,
   "metadata": {
    "collapsed": false,
    "scrolled": true
   },
   "outputs": [
    {
     "name": "stdout",
     "output_type": "stream",
     "text": [
      "[]\n"
     ]
    }
   ],
   "source": [
    "print([i for i in all_n_alleles if i != 2])"
   ]
  },
  {
   "cell_type": "code",
   "execution_count": 80,
   "metadata": {
    "collapsed": false
   },
   "outputs": [
    {
     "name": "stdout",
     "output_type": "stream",
     "text": [
      "4994\n"
     ]
    }
   ],
   "source": [
    "print transition"
   ]
  },
  {
   "cell_type": "code",
   "execution_count": 81,
   "metadata": {
    "collapsed": false
   },
   "outputs": [
    {
     "name": "stdout",
     "output_type": "stream",
     "text": [
      "5411\n"
     ]
    }
   ],
   "source": [
    "print transversion"
   ]
  },
  {
   "cell_type": "markdown",
   "metadata": {},
   "source": [
    "Well that's super weird... what is the likelihood of getting exactly two alleles at each snp without filtering for biallelic snps???\n",
    "\n",
    "\n",
    "<br>\n",
    "<br>\n",
    "What about my raw populations output, before filtering for missing data at each locus?"
   ]
  },
  {
   "cell_type": "code",
   "execution_count": 82,
   "metadata": {
    "collapsed": false
   },
   "outputs": [],
   "source": [
    "infile = open(\"../../stacks_b7_wgenome/batch_7_genotypes.txt\", \"r\")\n",
    "tempfile = open(\"temp_transposed_genotypes.txt\", \"w\")\n",
    "\n",
    "header = True\n",
    "matrix_of_data = []\n",
    "\n",
    "for line in infile:\n",
    "    tmp_line = ''\n",
    "\n",
    "    if header:\n",
    "        tmp_line = ''\n",
    "        header = False\n",
    "\n",
    "    tmp_line += line\n",
    "\n",
    "    matrix_of_data.append(tmp_line.split())\n",
    "\n",
    "infile.close()\n",
    "        \n",
    "transposed = zip(*matrix_of_data)\n",
    "\n",
    "for line in transposed:\n",
    "\ttmp_output = str(line).replace('[', '').replace('(', '').replace(\"'\", '').replace(')', '').replace(',', '').replace(']', '') + '\\n'\n",
    "\ttempfile.write(tmp_output)\n",
    "\n",
    "tempfile.close()"
   ]
  },
  {
   "cell_type": "code",
   "execution_count": 83,
   "metadata": {
    "collapsed": false
   },
   "outputs": [],
   "source": [
    "\n",
    "infile = open(\"temp_transposed_genotypes.txt\", \"r\")\n",
    "\n",
    "infile.readline()\n",
    "transition = 0\n",
    "transversion = 0\n",
    "# 1 - A, 2 - C, 3 - G, 4 - T\n",
    "\n",
    "for mystring in infile:\n",
    "    stripped_string = mystring.strip('\\n')\n",
    "    all_genotypes = stripped_string.split(' ')[1:] #subset genotypes only from line\n",
    "    alleles = []\n",
    "    all_n_alleles = []\n",
    "    for genotype in all_genotypes:\n",
    "        a1 = int(genotype[0:2]) #separate genotype into two alleles\n",
    "        a2 = int(genotype[2:])\n",
    "        if a1 not in alleles and a1 != 0: #append allele to list IF it is unique and not 0\n",
    "            alleles.append(a1)\n",
    "        if a2 not in alleles and a2 != 0:\n",
    "            alleles.append(a2)\n",
    "    if (1 in alleles and 3 in alleles) or (2 in alleles and 4 in alleles):\n",
    "        transition += 1\n",
    "    elif (1 in alleles and 2 in alleles) or (3 in alleles and 4 in alleles):\n",
    "        transversion += 1\n",
    "    n_alleles = len(alleles) #find total number of alleles at locus \n",
    "    all_n_alleles.append(n_alleles) #append that number to list\n",
    "infile.close()"
   ]
  },
  {
   "cell_type": "code",
   "execution_count": 84,
   "metadata": {
    "collapsed": false
   },
   "outputs": [
    {
     "data": {
      "image/png": "[encoded data removed]",
      "text/plain": [
       "<matplotlib.figure.Figure at 0x7f53050fe9d0>"
      ]
     },
     "metadata": {},
     "output_type": "display_data"
    }
   ],
   "source": [
    "plt.hist(all_n_alleles, color = \"darkcyan\", alpha = 0.75)\n",
    "plt.show()"
   ]
  },
  {
   "cell_type": "code",
   "execution_count": 85,
   "metadata": {
    "collapsed": true
   },
   "outputs": [],
   "source": [
    "plt.close()"
   ]
  },
  {
   "cell_type": "code",
   "execution_count": 86,
   "metadata": {
    "collapsed": false
   },
   "outputs": [
    {
     "name": "stdout",
     "output_type": "stream",
     "text": [
      "8751\n"
     ]
    }
   ],
   "source": [
    "print transition"
   ]
  },
  {
   "cell_type": "code",
   "execution_count": 87,
   "metadata": {
    "collapsed": false
   },
   "outputs": [
    {
     "name": "stdout",
     "output_type": "stream",
     "text": [
      "10035\n"
     ]
    }
   ],
   "source": [
    "print transversion"
   ]
  },
  {
   "cell_type": "code",
   "execution_count": null,
   "metadata": {
    "collapsed": true
   },
   "outputs": [],
   "source": []
  }
 ],
 "metadata": {
  "kernelspec": {
   "display_name": "Python [default]",
   "language": "python",
   "name": "python2"
  },
  "language_info": {
   "codemirror_mode": {
    "name": "ipython",
    "version": 2
   },
   "file_extension": ".py",
   "mimetype": "text/x-python",
   "name": "python",
   "nbconvert_exporter": "python",
   "pygments_lexer": "ipython2",
   "version": "2.7.12"
  }
 },
 "nbformat": 4,
 "nbformat_minor": 1
}
