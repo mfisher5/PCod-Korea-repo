{
 "cells": [
  {
   "cell_type": "markdown",
   "metadata": {},
   "source": [
    "## Filtering for Loci in Hardy-Weinberg Equilibrium\n",
    "\n",
    "#### 5/8/2017 - 5/9/2017\n",
    "\n",
    "<br>\n",
    "### 1. created GENEPOP file "
   ]
  },
  {
   "cell_type": "code",
   "execution_count": 1,
   "metadata": {
    "collapsed": false
   },
   "outputs": [
    {
     "name": "stdout",
     "output_type": "stream",
     "text": [
      "/mnt/hgfs/Pacific cod/DataAnalysis/PCod-Korea-repo/scripts\n"
     ]
    }
   ],
   "source": [
    "cd ../scripts/"
   ]
  },
  {
   "cell_type": "code",
   "execution_count": 6,
   "metadata": {
    "collapsed": false
   },
   "outputs": [
    {
     "name": "stdout",
     "output_type": "stream",
     "text": [
      "#### This script converts the FINAL filtered .csv document (corrected genotypes, MAF filtered, low coverage loci filtered, low coverage individuals filtered) into a genepop file format ####\r",
      "\r\n",
      "\r",
      "\r\n",
      "## MF 12/13/2016\r",
      "\r\n",
      "\r",
      "\r\n",
      "## ARG1 : .csv file\r",
      "\r\n",
      "## ARG2 : name of genepop file (must be .gen)\r",
      "\r\n",
      "### Note -- LEAVE the \"sample\" header in the .csv file. Edit the correct title line AND the population indices in the script below. \r",
      "\r\n",
      "#############################################################################################\r",
      "\r\n",
      "\r",
      "\r\n",
      "import sys\r",
      "\r\n"
     ]
    }
   ],
   "source": [
    "!head genepop_conversion_forR.py"
   ]
  },
  {
   "cell_type": "markdown",
   "metadata": {},
   "source": [
    "*I need to convert my tab-delimited file to genepop. I did this manually in text editor. *\n",
    "\n",
    "I also edited the script text to include all of my populations with the appropriate column indices"
   ]
  },
  {
   "cell_type": "code",
   "execution_count": 9,
   "metadata": {
    "collapsed": false
   },
   "outputs": [],
   "source": [
    "!python genepop_conversion_forR_b4.py \\\n",
    "../batch_4_wgenome/batch_4.filteredMAF_filteredLoci_filteredIndivids.csv \\\n",
    "../batch_4_wgenome/batch_4.filteredMAF_filteredLoci_filteredIndivids.gen"
   ]
  },
  {
   "cell_type": "markdown",
   "metadata": {},
   "source": [
    "*Saved as a .txt file*"
   ]
  },
  {
   "cell_type": "markdown",
   "metadata": {},
   "source": [
    "### 2. ran GENEPOP\n",
    "\n",
    "**5/8/2017**\n",
    "\n",
    "On the genepop file `batch_4_wgenome/batch_4.filteredMAF_filteredLoci_filteredIndivids.txt`\n",
    "\n",
    "Use the options:  1... Hardy-Weinberg exact tests >> 3...test for each locus in each population, Probability test\n",
    "\n",
    "<br>\n",
    "\n",
    "**5/9/2017** \n",
    "\n",
    "Noticed that the genepop output looked really weird. When I checked the input file, I saw that my python script had put \"Pop\" before every Jukbyeon sample, so it was treating them all as different populations. Re-ran GENEPOP this morning and continued with the new output below. \n",
    "\n",
    "\n",
    "### 3. Parse GENEPOP output"
   ]
  },
  {
   "cell_type": "code",
   "execution_count": 10,
   "metadata": {
    "collapsed": false
   },
   "outputs": [
    {
     "name": "stdout",
     "output_type": "stream",
     "text": [
      "/mnt/hgfs/Pacific cod/DataAnalysis/PCod-Korea-repo\n"
     ]
    }
   ],
   "source": [
    "cd ../"
   ]
  },
  {
   "cell_type": "code",
   "execution_count": 11,
   "metadata": {
    "collapsed": true
   },
   "outputs": [],
   "source": [
    "!mkdir analyses"
   ]
  },
  {
   "cell_type": "code",
   "execution_count": 12,
   "metadata": {
    "collapsed": false
   },
   "outputs": [
    {
     "name": "stdout",
     "output_type": "stream",
     "text": [
      "/mnt/hgfs/Pacific cod/DataAnalysis/PCod-Korea-repo/analyses\n"
     ]
    }
   ],
   "source": [
    "cd analyses"
   ]
  },
  {
   "cell_type": "code",
   "execution_count": 24,
   "metadata": {
    "collapsed": false
   },
   "outputs": [
    {
     "name": "stdout",
     "output_type": "stream",
     "text": [
      "generating dictionaries of pvalues and fis values...\n",
      "writing output to files...\n",
      "done.\n"
     ]
    }
   ],
   "source": [
    "!python parse_genepop_HWEbylocus.py \\\n",
    "-p ../batch_4_wgenome/batch_4_filteredMAF_filteredLoci_filteredIndivids_gen.txt.P \\\n",
    "-op batch_4_HWEpvals.txt \\\n",
    "-of batch_4_Fis.txt"
   ]
  },
  {
   "cell_type": "markdown",
   "metadata": {},
   "source": [
    "\n",
    "<br>\n",
    "\n",
    "### 4. Use multiple testing technique to generate chi-square value for each locus\n",
    "\n",
    "At each locus: (1) Sum the natural logs of the p-values, (2) Add these together, (3) multiple by -2 to generate a chi-square value, and (4) complete a chi-square test with [n_pops x 2] degrees of freedom."
   ]
  },
  {
   "cell_type": "code",
   "execution_count": 25,
   "metadata": {
    "collapsed": true
   },
   "outputs": [],
   "source": [
    "from scipy.stats import chisqprob"
   ]
  },
  {
   "cell_type": "code",
   "execution_count": 26,
   "metadata": {
    "collapsed": true
   },
   "outputs": [],
   "source": [
    "import numpy as np"
   ]
  },
  {
   "cell_type": "code",
   "execution_count": 27,
   "metadata": {
    "collapsed": false
   },
   "outputs": [
    {
     "name": "stdout",
     "output_type": "stream",
     "text": [
      "You have  704  loci out of HWE.\n"
     ]
    }
   ],
   "source": [
    "## STEP ONE: conduct chisquare and determine loci out of HWE. \n",
    "## write results to a file and save a list of the loci out of HWE. \n",
    "\n",
    "infile = open(\"batch_4_HWEpvals.txt\", \"r\")\n",
    "outfile = open(\"batch_4_HWEchisquare.txt\", \"w\")\n",
    "\n",
    "outfile.write(\"locus\\tChiSquare\\tdf\\tpvalue\\n\")\n",
    "\n",
    "sig_count = 0\n",
    "loci_to_discard = []\n",
    "\n",
    "for line in infile:\n",
    "    if \"locus\" not in line:\n",
    "        linelist= line.strip().split()\n",
    "        outfile.write(linelist[0]) #write locus name to outfile\n",
    "        sum = 0 #sum of ln(pvals)\n",
    "        n_pops = 0 # number of pops with pvals (some will have NAs)\n",
    "        for i in range(1,8):\n",
    "            if linelist[i] != \"NA\" and float(linelist[i]) == 0.0:\n",
    "                newval = np.log(float(0.00000000001))\n",
    "                sum += newval\n",
    "                n_pops += 1\n",
    "            elif linelist[i] != \"NA\" and float(linelist[i]) != 0.0:\n",
    "                newval = np.log(float(linelist[i]))\n",
    "                sum += newval\n",
    "                n_pops += 1\n",
    "        chisquare = float(-2) * float(sum)\n",
    "        df = n_pops * 2\n",
    "        outfile.write(\"\\t\" + str(chisquare) + \"\\t\" + str(df))\n",
    "        pvalue = chisqprob(chisquare,df)\n",
    "        if pvalue < 0.05:\n",
    "            sig_count += 1\n",
    "            loci_to_discard.append(linelist[0])\n",
    "        outfile.write(\"\\t\" + str(pvalue) + \"\\n\")\n",
    "infile.close()\n",
    "outfile.close()\n",
    "\n",
    "print \"You have \", sig_count, \" loci out of HWE.\""
   ]
  },
  {
   "cell_type": "code",
   "execution_count": 28,
   "metadata": {
    "collapsed": false
   },
   "outputs": [
    {
     "name": "stdout",
     "output_type": "stream",
     "text": [
      "6959  loci written to output file.\n"
     ]
    }
   ],
   "source": [
    "## STEP TWO: rewrite the file of HWEpvals by locus by population, \n",
    "## excluding those loci out of HWE. \n",
    "\n",
    "infile = open(\"batch_4_HWEpvals.txt\", \"r\")\n",
    "outfile = open(\"batch_4_HWEpvals_filtered.txt\", \"w\")\n",
    "\n",
    "locus_count = 0\n",
    "\n",
    "for line in infile:\n",
    "    if line.startswith(\"#\"):\n",
    "        outfile.write(\"parsed GENEPOP output, HWE p-values by locus by population FILTERED #\\n\")\n",
    "    elif line.startswith(\"locus\"):\n",
    "        outfile.write(line)\n",
    "    else:\n",
    "        locus = line.strip().split()[0]\n",
    "        if locus not in loci_to_discard:\n",
    "            outfile.write(line)\n",
    "            locus_count += 1\n",
    "infile.close()\n",
    "outfile.close()\n",
    "print locus_count, \" loci written to output file.\""
   ]
  },
  {
   "cell_type": "markdown",
   "metadata": {},
   "source": [
    "\n",
    "<br>\n",
    "\n",
    "### 5. Plot distributions to compare"
   ]
  },
  {
   "cell_type": "code",
   "execution_count": 29,
   "metadata": {
    "collapsed": true
   },
   "outputs": [],
   "source": [
    "import numpy as np\n",
    "import matplotlib.pyplot as plt"
   ]
  },
  {
   "cell_type": "code",
   "execution_count": 33,
   "metadata": {
    "collapsed": false
   },
   "outputs": [],
   "source": [
    "infile = open(\"batch_4_HWEpvals.txt\", \"r\")\n",
    "\n",
    "percents = []\n",
    "loci_list = []\n",
    "na_count = 0\n",
    "\n",
    "for line in infile:\n",
    "    if \"locus\" not in line:\n",
    "        if line.strip().split()[10] != \"NA\":\n",
    "            new_percent = float(line.strip().split()[10])\n",
    "            percents.append(new_percent)\n",
    "            loci_list.append(line.strip().split()[0])\n",
    "        elif line.strip().split()[10] == \"NA\":\n",
    "            na_count += 1\n",
    "\n",
    "infile.close()"
   ]
  },
  {
   "cell_type": "code",
   "execution_count": 36,
   "metadata": {
    "collapsed": false,
    "scrolled": true
   },
   "outputs": [
    {
     "data": {
      "image/png": "[encoded data removed]",
      "text/plain": [
       "<matplotlib.figure.Figure at 0x7f7c82177390>"
      ]
     },
     "metadata": {},
     "output_type": "display_data"
    }
   ],
   "source": [
    "plt.hist(percents, bins = np.arange(-0.1, 1.1, .05)+0.05, color = \"darkcyan\")\n",
    "plt.suptitle(\"PRE HWE FILTER: Distribution of % of populations out of HWE\")\n",
    "plt.xlabel(\"% of populations out of HWE (by locus)\")\n",
    "plt.ylabel(\"# Loci\")\n",
    "plt.show()"
   ]
  },
  {
   "cell_type": "code",
   "execution_count": 37,
   "metadata": {
    "collapsed": true
   },
   "outputs": [],
   "source": [
    "plt.close()"
   ]
  },
  {
   "cell_type": "code",
   "execution_count": 38,
   "metadata": {
    "collapsed": true
   },
   "outputs": [],
   "source": [
    "infile = open(\"batch_4_HWEpvals_filtered.txt\", \"r\")\n",
    "\n",
    "percents = []\n",
    "loci_list = []\n",
    "na_count = 0\n",
    "\n",
    "for line in infile:\n",
    "    if \"locus\" not in line:\n",
    "        if line.strip().split()[10] != \"NA\":\n",
    "            new_percent = float(line.strip().split()[10])\n",
    "            percents.append(new_percent)\n",
    "            loci_list.append(line.strip().split()[0])\n",
    "        elif line.strip().split()[10] == \"NA\":\n",
    "            na_count += 1\n",
    "\n",
    "infile.close()"
   ]
  },
  {
   "cell_type": "code",
   "execution_count": 39,
   "metadata": {
    "collapsed": false
   },
   "outputs": [
    {
     "data": {
      "image/png": "[encoded data removed]",
      "text/plain": [
       "<matplotlib.figure.Figure at 0x7f7c87572e50>"
      ]
     },
     "metadata": {},
     "output_type": "display_data"
    }
   ],
   "source": [
    "plt.hist(percents, bins = np.arange(-0.1, 1.1, .05)+0.05, color = \"darkcyan\")\n",
    "plt.suptitle(\"POST HWE FILTER: Distribution of % of populations out of HWE\")\n",
    "plt.xlabel(\"% of populations out of HWE (by locus)\")\n",
    "plt.ylabel(\"# Loci\")\n",
    "plt.show()"
   ]
  },
  {
   "cell_type": "code",
   "execution_count": 40,
   "metadata": {
    "collapsed": true
   },
   "outputs": [],
   "source": [
    "plt.close()"
   ]
  },
  {
   "cell_type": "markdown",
   "metadata": {
    "collapsed": true
   },
   "source": [
    "\n",
    "<br>\n",
    "\n",
    "\n",
    "### 6. Create new GENEPOP file with filtered loci. "
   ]
  },
  {
   "cell_type": "code",
   "execution_count": 1,
   "metadata": {
    "collapsed": false
   },
   "outputs": [
    {
     "data": {
      "text/plain": [
       "u'/mnt/hgfs/Pacific cod/DataAnalysis/PCod-Korea-repo/notebooks'"
      ]
     },
     "execution_count": 1,
     "metadata": {},
     "output_type": "execute_result"
    }
   ],
   "source": [
    "pwd"
   ]
  },
  {
   "cell_type": "code",
   "execution_count": 2,
   "metadata": {
    "collapsed": false
   },
   "outputs": [
    {
     "name": "stdout",
     "output_type": "stream",
     "text": [
      "/mnt/hgfs/Pacific cod/DataAnalysis/PCod-Korea-repo/analyses\n"
     ]
    }
   ],
   "source": [
    "cd ../analyses"
   ]
  },
  {
   "cell_type": "code",
   "execution_count": 4,
   "metadata": {
    "collapsed": true
   },
   "outputs": [],
   "source": [
    "## STEP ONE: create a list of the loci to keep \n",
    "infile = open(\"batch_4_HWEpvals_filtered.txt\", \"r\")\n",
    "\n",
    "filtered_loci = []\n",
    "\n",
    "for line in infile:\n",
    "    if \"locus\" not in line:\n",
    "        filtered_loci.append(line.strip().split()[0])\n",
    "\n",
    "infile.close()\n",
    "\n",
    "## STEP TWO: write out the genotypes for the loci to keep to a new genepop\n",
    "## STEP THREE: write out the genotypes for loci out of HWE to different file\n",
    "old_genepop = open(\"../batch_4_wgenome/batch_4.filteredMAF_filteredLoci_filteredIndivids.txt\", \"r\")\n",
    "new_genepop = open(\"../batch_4_wgenome/batch_4.filteredMAF_filteredLoci_filteredIndivids_filteredHWE.txt\", \"w\")\n",
    "bad_genepop = open(\"../batch_4_wgenome/batch_4.filteredMAF_filteredLoci_filteredIndivids_BADhwe.txt\", \"w\")\n",
    "\n",
    "for line in old_genepop:\n",
    "    if line.startswith(\"sample\"):\n",
    "        new_genepop.write(line)\n",
    "        bad_genepop.write(line)\n",
    "    else: \n",
    "        locus_id = line.strip().split()[0]\n",
    "        if locus_id in filtered_loci:\n",
    "            new_genepop.write(line)\n",
    "        else:\n",
    "            bad_genepop.write(line)\n",
    "old_genepop.close()\n",
    "new_genepop.close()\n",
    "bad_genepop.close()"
   ]
  },
  {
   "cell_type": "code",
   "execution_count": 7,
   "metadata": {
    "collapsed": false
   },
   "outputs": [
    {
     "name": "stdout",
     "output_type": "stream",
     "text": [
      "There are  6959  loci in filtered list\n",
      "There are  6959  loci in your filtered genepop file\n",
      "0  loci have not been filtered appropriately\n"
     ]
    }
   ],
   "source": [
    "## STEP FOUR: check to make sure only loci in HWE are now in genepop\n",
    "\n",
    "print \"There are \", len(filtered_loci), \" loci in filtered list\"\n",
    "\n",
    "count = 0\n",
    "good_filter = []\n",
    "bad_filter = []\n",
    "genepop = open(\"../batch_4_wgenome/batch_4.filteredMAF_filteredLoci_filteredIndivids_filteredHWE.txt\", \"r\")\n",
    "for line in genepop:\n",
    "    if \"sample\" not in line:\n",
    "        locus_id = line.strip().split()[0]\n",
    "        count += 1\n",
    "        if locus_id in filtered_loci:\n",
    "            good_filter.append(locus_id)\n",
    "        elif locus_id not in filtered_loci:\n",
    "            bad_filter.append(locus_id)\n",
    "genepop.close()\n",
    "\n",
    "print \"There are \", count, \" loci in your filtered genepop file\"\n",
    "print len(bad_filter), \" loci have not been filtered appropriately\"\n",
    "            "
   ]
  },
  {
   "cell_type": "markdown",
   "metadata": {},
   "source": [
    "\n",
    "\n",
    "<br>\n",
    "\n",
    "For all data visualization and popgen analyses, I will be using the fully filtered file `batch_4.filteredMAF_filteredLoci_filteredIndivids_filteredHWE.txt`\n",
    "\n",
    "\n",
    "<br>\n",
    "### 7. Put fully filtered file in genepop format"
   ]
  },
  {
   "cell_type": "code",
   "execution_count": 8,
   "metadata": {
    "collapsed": false
   },
   "outputs": [
    {
     "name": "stdout",
     "output_type": "stream",
     "text": [
      "/mnt/hgfs/Pacific cod/DataAnalysis/PCod-Korea-repo/scripts\n"
     ]
    }
   ],
   "source": [
    "cd ../scripts"
   ]
  },
  {
   "cell_type": "code",
   "execution_count": 9,
   "metadata": {
    "collapsed": true
   },
   "outputs": [],
   "source": [
    "!python genepop_conversion_forR_fromTAB_b4.py \\\n",
    "../batch_4_wgenome/batch_4.filteredMAF_filteredLoci_filteredIndivids_filteredHWE.txt \\\n",
    "../batch_4_wgenome/batch_4.filteredMAF_filteredLoci_filteredIndivids_filteredHWE.gen"
   ]
  },
  {
   "cell_type": "markdown",
   "metadata": {},
   "source": [
    "<br>\n",
    "Fully filtered genepop file is: `../batch_4_wgenome/batch_4.filteredMAF_filteredLoci_filteredIndivids_filteredHWE.gen`"
   ]
  },
  {
   "cell_type": "code",
   "execution_count": null,
   "metadata": {
    "collapsed": true
   },
   "outputs": [],
   "source": []
  }
 ],
 "metadata": {
  "anaconda-cloud": {},
  "kernelspec": {
   "display_name": "Python [default]",
   "language": "python",
   "name": "python2"
  },
  "language_info": {
   "codemirror_mode": {
    "name": "ipython",
    "version": 2
   },
   "file_extension": ".py",
   "mimetype": "text/x-python",
   "name": "python",
   "nbconvert_exporter": "python",
   "pygments_lexer": "ipython2",
   "version": "2.7.12"
  }
 },
 "nbformat": 4,
 "nbformat_minor": 1
}
