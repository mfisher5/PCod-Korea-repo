{
 "cells": [
  {
   "cell_type": "markdown",
   "metadata": {},
   "source": [
    "## Stacks batch 4 - nb 1\n",
    "\n",
    "\n",
    "This notebook contains process_radtags for lanes 3 and 4 of samples, as well as the first runthrough of the stacks pipeline, from ustacks --> populations, for ALL SAMPLES LANES 1 - 4\n",
    "\n",
    "\n",
    "<br>\n",
    "<br>\n",
    "### Process Radtags\n"
   ]
  },
  {
   "cell_type": "code",
   "execution_count": 4,
   "metadata": {
    "collapsed": false
   },
   "outputs": [
    {
     "name": "stdout",
     "output_type": "stream",
     "text": [
      "/mnt/hgfs/Pacific cod/DataAnalysis/PCod-Korea-repo\n"
     ]
    }
   ],
   "source": [
    "cd ../"
   ]
  },
  {
   "cell_type": "code",
   "execution_count": 5,
   "metadata": {
    "collapsed": true
   },
   "outputs": [],
   "source": [
    "!mkdir samplesT142"
   ]
  },
  {
   "cell_type": "markdown",
   "metadata": {},
   "source": [
    "<br>\n",
    "I made a .gitignore file to prevent fastq files generated during process_radtags from being pushed to github. "
   ]
  },
  {
   "cell_type": "code",
   "execution_count": null,
   "metadata": {
    "collapsed": true
   },
   "outputs": [],
   "source": [
    "!process_radtags -p /media/mfisher5/New\\ Volume/Mary/Raw\\ Data/Lane4 \\\n",
    "-P\n",
    "-i gzfastq \\\n",
    "-y gzfastq \\\n",
    "-o samplesT142 \\\n",
    "-b scripts/barcodes_L4.txt \\\n",
    "-e sbfI \\\n",
    "-E phred33 \\\n",
    "-r -c -q -t 142 2>> samplesT142/process_radtags_outputL4.txt"
   ]
  },
  {
   "cell_type": "markdown",
   "metadata": {},
   "source": []
  },
  {
   "cell_type": "code",
   "execution_count": null,
   "metadata": {
    "collapsed": true
   },
   "outputs": [],
   "source": [
    "## Lane 3 data\n",
    "!process_radtags -f /media/mfisher5/New\\ Volume/Mary/Raw\\ Data/994_S1_L001_R1_001.fastq.gz \\\n",
    "-i gzfastq \\\n",
    "-y gzfastq \\\n",
    "-o samplesT142 \\\n",
    "-b scripts/barcodes_L3.txt \\\n",
    "-e sbfI \\\n",
    "-E phred33 \\\n",
    "-r -c -q -t 142 2>> samplesT142/process_radtags_outputL3.txt"
   ]
  },
  {
   "cell_type": "markdown",
   "metadata": {},
   "source": [
    "Processing single-end data.\n",
    "\n",
    "Using Phred+33 encoding for quality scores.\n",
    "\n",
    "Reads will be truncated to 142bp\n",
    "\n",
    "Found 1 input file(s).\n",
    "\n",
    "Searching for single-end, inlined barcodes.\n",
    "\n",
    "Loaded 72 barcodes (6bp).\n",
    "\n",
    "Will attempt to recover barcodes with at most 1 mismatches.\n",
    "\n",
    "<br>\n",
    "Processing file 1 of 1 [994_S1_L001_R1_001.fastq.gz]\n",
    "\n",
    "  Processing RAD-Tags...1M...2M...3M...4M...5M...6M...7M...8M...9M...10M...11M...12M...13M...14M...15M...16M...17M...18M...19M...20M...21M...22M...23M...24M...25M...26M...27M...28M...29M...30M...31M...32M...33M...34M...35M...36M...37M...38M...39M...40M...41M...42M...43M...44M...45M...46M...47M...48M...49M...50M...51M...52M...53M...54M...55M...56M...57M...58M...59M...60M...61M...62M...63M...64M...65M...66M...67M...68M...69M...70M...71M...72M...73M...74M...75M...76M...77M...78M...79M...80M...81M...82M...83M...84M...85M...86M...87M...88M...89M...90M...91M...92M...93M...94M...95M...96M...97M...98M...99M...100M...101M...102M...103M...104M...105M...106M...107M...108M...109M...110M...111M...112M...113M...114M...115M...116M...117M...118M...119M...120M...121M...122M...123M...124M...125M...126M...127M...128M...129M...130M...131M...132M...133M...134M...135M...136M...137M...138M...139M...140M...141M...142M...143M...144M...145M...146M...147M...148M...149M...150M...151M...152M...153M...154M...155M...156M...157M...158M...159M...160M...161M...162M...163M...164M...165M...166M...167M...168M...169M...170M...171M...172M...173M...174M...175M...176M...177M...178M...179M...180M...181M...182M...183M...184M...185M...186M...187M...188M...189M...190M...191M...192M...193M...194M...195M...196M...197M...198M...199M...200M...201M...202M...203M...204M...205M...206M...207M...208M...209M...210M...211M...212M...213M...214M...215M...216M...217M...218M...219M...220M...221M...222M...223M...224M...225M...226M...227M...228M...229M...230M...231M...232M...233M...234M...235M...236M...237M...238M...239M...240M...241M...242M...243M...244M...245M...246M...247M...248M...249M...250M...251M...252M...253M...254M...255M...256M...257M...258M...259M...260M...261M...262M...263M...264M...265M...266M...267M...268M...269M...270M...271M...272M...273M...274M...275M...276M...277M...278M...279M...280M...281M...282M...283M...284M...285M...286M...287M...288M...289M...290M...291M...292M...293M...294M...295M...296M...297M...298M...299M...300M...301M...302M...303M...304M...305M...306M...307M...308M...309M...310M...311M...312M...313M...314M...315M...316M...317M...318M...319M...320M...321M...322M...323M...324M...325M...326M...327M...328M...329M...330M...331M...332M...333M...334M...335M...336M...337M...338M...339M...340M...341M...342M...343M...344M...345M...346M...347M...348M...349M...350M...351M...352M...353M...354M...355M...356M...357M...358M...359M...360M...361M...362M...363M...364M...365M...366M...367M...368M...369M...370M...371M...372M...373M...374M...375M...376M...\n",
    "  \n",
    "  \n",
    "  <br>\n",
    "376419078 total reads; -21409080 ambiguous barcodes; -56708636 ambiguous RAD-Tags; +36386283 recovered; -481439 low quality reads; 297819923 retained reads.\n",
    "Closing files, flushing buffers...\n",
    "Outputing details to log: 'samplesT142/process_radtags.log\n",
    "\n",
    "\n",
    "`376419078 total sequences`\n",
    "\n",
    "` 21409080 ambiguous barcode drops (5.7%)`\n",
    " \n",
    " `  481439 low quality read drops (0.1%)`\n",
    "   \n",
    " `56708636 ambiguous RAD-Tag drops (15.1%)`\n",
    " \n",
    "`297819923 retained reads (79.1%)`"
   ]
  },
  {
   "cell_type": "markdown",
   "metadata": {
    "collapsed": true
   },
   "source": [
    "<br>\n",
    "\n",
    "**FastQC of demultiplexed samples**\n",
    "\n",
    "\n",
    "I then looked at the FastQC for two individuals from each population, including the 2 individuals with the lowest file sizes. If the file had padding zeros (see [Raw Data nb]()) then I just chose another file.\n",
    "\n",
    "FastQC files can be found in [this Evernote nb](http://www.evernote.com/l/AorJMb4SAupBn4ug0KVTdG5B5IKgg5IM1zw/).\n",
    "\n",
    "<br>\n",
    "\n"
   ]
  },
  {
   "cell_type": "markdown",
   "metadata": {},
   "source": [
    "<br>\n",
    "<br>\n",
    "## Process-radtags Round 2\n",
    "\n",
    "### 4/8/2017\n",
    "<br>\n",
    "I was having trouble unzipping / rezipping the necessary files, particularly the ones with trailing zeros. So I decided to rerun process_radtags on all samples in Lanes 2, 3 and 4 using the following script:"
   ]
  },
  {
   "cell_type": "code",
   "execution_count": 2,
   "metadata": {
    "collapsed": false
   },
   "outputs": [
    {
     "name": "stdout",
     "output_type": "stream",
     "text": [
      "/mnt/hgfs/Pacific cod/DataAnalysis/PCod-Korea-repo\n"
     ]
    }
   ],
   "source": [
    "cd ../"
   ]
  },
  {
   "cell_type": "code",
   "execution_count": 6,
   "metadata": {
    "collapsed": false
   },
   "outputs": [
    {
     "name": "stdout",
     "output_type": "stream",
     "text": [
      "#!/bin/bash\r\n",
      "\r\n",
      "process_radtags -f /media/mfisher5/New\\ Volume/Mary/Raw\\ Data/768_768_S99_L002_R1_001.fastq.gz -i gzfastq -y fastq -o samplesT142 -b scripts/barcodesL2.txt -e sbfI -E phred33 -r -c -q -t 142 2>> process_radtags_output_L2.txt\r\n",
      "\r\n",
      "process_radtags -f /media/mfisher5/New\\ Volume/Mary/Raw\\ Data/994_S1_L001_R1_001.fastq.gz -i gzfastq -y fastq -o samplesT142 -b scripts/barcodes_L3.txt -e sbfI -E phred33 -r -c -q -t 142 2>> process_radtags_output_L3.txt\r\n",
      "\r\n",
      "\r\n",
      "process_radtags -p /media/mfisher5/New\\ Volume/Mary/Raw\\ Data/Lane4 -P -i gzfastq -y fastq -o samplesT142 -b scripts/barcodes_L4.txt -e sbfI -E phred33 -r -c -q -t 142 2>> process_radtags_output_L4.txt\r\n"
     ]
    }
   ],
   "source": [
    "!head radtags_shell4-9.sh"
   ]
  },
  {
   "cell_type": "markdown",
   "metadata": {},
   "source": [
    "** Lane 2 **\n",
    "<br>\n",
    "377851294 total sequences\n",
    "\n",
    " 50386443 ambiguous barcode drops (13.3%)\n",
    " \n",
    "  2840924 low quality read drops (0.8%)\n",
    "  \n",
    " 65025476 ambiguous RAD-Tag drops (17.2%)\n",
    " \n",
    "259598451 retained reads (68.7%)\n",
    "\n",
    "\n",
    "\n",
    "<br> \n",
    "** Lane 3 **\n",
    "<br>\n",
    "376419078 total sequences\n",
    "\n",
    " 21409080 ambiguous barcode drops (5.7%)\n",
    " \n",
    "   481439 low quality read drops (0.1%)\n",
    "   \n",
    " 56708636 ambiguous RAD-Tag drops (15.1%)\n",
    " \n",
    "297819923 retained reads (79.1%)\n",
    "\n",
    "\n",
    "\n",
    "\n",
    "<br>\n",
    "\n",
    "** Lane 4 **\n",
    "<br>\n",
    "735531564 total sequences\n",
    "\n",
    " 43985894 ambiguous barcode drops (6.0%)\n",
    " \n",
    "  7672504 low quality read drops (1.0%)\n",
    "  \n",
    " 47877033 ambiguous RAD-Tag drops (6.5%)\n",
    " \n",
    "635996133 retained reads (86.5%)\n"
   ]
  },
  {
   "cell_type": "markdown",
   "metadata": {},
   "source": [
    "<br>\n",
    "\n",
    "All of the standard error output was redirected into output files. \n",
    "\n",
    "<br>"
   ]
  },
  {
   "cell_type": "code",
   "execution_count": 7,
   "metadata": {
    "collapsed": true
   },
   "outputs": [],
   "source": [
    "!mv process_radtags_output_L2.txt samplesT142/process_radtags_output_L2.txt\n",
    "!mv process_radtags_output_L3.txt samplesT142/process_radtags_output_L3.txt\n",
    "!mv process_radtags_output_L4.txt samplesT142/process_radtags_output_L4.txt"
   ]
  },
  {
   "cell_type": "code",
   "execution_count": 12,
   "metadata": {
    "collapsed": false
   },
   "outputs": [
    {
     "data": {
      "text/plain": [
       "u'/mnt/hgfs/Pacific cod/DataAnalysis/PCod-Korea-repo'"
      ]
     },
     "execution_count": 12,
     "metadata": {},
     "output_type": "execute_result"
    }
   ],
   "source": [
    "pwd"
   ]
  },
  {
   "cell_type": "code",
   "execution_count": 16,
   "metadata": {
    "collapsed": false,
    "scrolled": true
   },
   "outputs": [
    {
     "name": "stdout",
     "output_type": "stream",
     "text": [
      "Searching through Lane 4 excess barcodes from process_radtags...\n",
      "\n",
      "\n",
      "Searched through  4892  barcodes thrown out by process_radtags.\n",
      "A total of  0  barcodes from lane 3 were found in lane 4.\n"
     ]
    }
   ],
   "source": [
    "barcodes = open(\"scripts/barcodes_L3.txt\", \"r\")\n",
    "l3_barcodes = []\n",
    "for line in barcodes: \n",
    "    bar=line.strip().split()[0]\n",
    "    l3_barcodes.append(bar)\n",
    "    \n",
    "barcodes.close()\n",
    "\n",
    "outfile = open(\"contamination_BarcodeMatches_L3L4.txt\", \"w\")\n",
    "outfile.write(\"Barcode\\tN_Seqs_L4\")\n",
    "\n",
    "barcodes2 = open(\"samplesT142/process_radtags_seqsNotRecorded_lane4.txt\", \"r\")\n",
    "matches = 0\n",
    "count = 0\n",
    "\n",
    "for line in barcodes2: \n",
    "    if line.startswith(\"Barcode\"): \n",
    "        print \"Searching through Lane 4 excess barcodes from process_radtags...\"\n",
    "    else: \n",
    "        bar = line.strip().split()[0]\n",
    "        n_seqs = line.strip().split()[1]\n",
    "        if bar in l3_barcodes:\n",
    "            print \"Match Found: \"\n",
    "            newstring = bar + \"\\t\" + n_seqs\n",
    "            print newstring\n",
    "            outfile.write(newstring + \"\\n\")\n",
    "            matches += 1\n",
    "            count += 1\n",
    "        else: \n",
    "            count += 1\n",
    "barcodes2.close()\n",
    "outfile.close()\n",
    "print \"\"\n",
    "print \"\"\n",
    "print \"Searched through \", count, \" barcodes thrown out by process_radtags.\"\n",
    "print \"A total of \", matches, \" barcodes from lane 3 were found in lane 4.\""
   ]
  },
  {
   "cell_type": "code",
   "execution_count": 15,
   "metadata": {
    "collapsed": false
   },
   "outputs": [
    {
     "name": "stdout",
     "output_type": "stream",
     "text": [
      "Searching through Lane 3 excess barcodes from process_radtags...\n",
      "\n",
      "\n",
      "Searched through  5309  barcodes thrown out by process_radtags.\n",
      "A total of  0  barcodes from lane 4 were found in lane 3.\n"
     ]
    }
   ],
   "source": [
    "barcodes = open(\"scripts/barcodes_L4.txt\", \"r\")\n",
    "l3_barcodes = []\n",
    "for line in barcodes: \n",
    "    bar=line.strip().split()[0]\n",
    "    l3_barcodes.append(bar)\n",
    "    \n",
    "barcodes.close()\n",
    "\n",
    "outfile = open(\"contamination_BarcodeMatches_L4L3.txt\", \"w\")\n",
    "outfile.write(\"Barcode\\tN_Seqs_L3\")\n",
    "\n",
    "barcodes2 = open(\"samplesT142/process_radtags_seqsNotRecorded_lane3.txt\", \"r\")\n",
    "matches = 0\n",
    "count = 0\n",
    "\n",
    "for line in barcodes2: \n",
    "    if line.startswith(\"Barcode\"): \n",
    "        print \"Searching through Lane 3 excess barcodes from process_radtags...\"\n",
    "    else: \n",
    "        bar = line.strip().split()[0]\n",
    "        n_seqs = line.strip().split()[1]\n",
    "        if bar in l3_barcodes:\n",
    "            print \"Match Found: \"\n",
    "            newstring = bar + \"\\t\" + n_seqs\n",
    "            print newstring\n",
    "            outfile.write(newstring + \"\\n\")\n",
    "            matches += 1\n",
    "            count += 1\n",
    "        else: \n",
    "            count += 1\n",
    "barcodes2.close()\n",
    "outfile.close()\n",
    "print \"\"\n",
    "print \"\"\n",
    "print \"Searched through \", count, \" barcodes thrown out by process_radtags.\"\n",
    "print \"A total of \", matches, \" barcodes from lane 4 were found in lane 3.\""
   ]
  },
  {
   "cell_type": "markdown",
   "metadata": {},
   "source": [
    "\n",
    "<br>\n",
    "The Lane 1 samples are paired end and I didn't redo them, so all of those files are in a Lane1 folder within the samplesT142/ folder. I only unzipped the forward fastq files to save space. I moved the unzipped, forward read fastq files into the `samplesT142` folder.\n",
    "\n",
    "<br>\n",
    "\n",
    "To save space in my virtual machine, I'm also zipping up all of the `.rem` files from the Lane 4 paired end samples."
   ]
  },
  {
   "cell_type": "code",
   "execution_count": 20,
   "metadata": {
    "collapsed": false
   },
   "outputs": [
    {
     "name": "stdout",
     "output_type": "stream",
     "text": [
      "/mnt/hgfs/Pacific cod/DataAnalysis/PCod-Korea-repo/samplesT142\n"
     ]
    }
   ],
   "source": [
    "cd samplesT142"
   ]
  },
  {
   "cell_type": "code",
   "execution_count": 21,
   "metadata": {
    "collapsed": true
   },
   "outputs": [],
   "source": [
    "!gzip *.rem.1.fq"
   ]
  },
  {
   "cell_type": "markdown",
   "metadata": {},
   "source": [
    "\n",
    "\n",
    "<br>\n",
    "### 4/12/2017\n",
    "\n",
    "So I am an idiot and forgot that I had replicates in lanes 3 and 4. I need to rerun `process_radtags` on these two lanes. I was able to easily ID the replicates in lane 4 using excel [function `=countif(A1:A72,B1)>1)`], and added a `_rep` to the end of the replicates. \n",
    "\n",
    "However, in lane 3 there was some confusion in sublibrary 18. I am 98% confident that I used sample JB08_33, because it is in a majority of my printouts from the excel worksheet and because I dried a replicate for that sample. PO010715_02 is written in on ONE of the worksheets for sublibrary 18, but I did not dry a replicate for that sample. so I'll keep an eye on the JB08_33 output. The other replicates I added a `_rep` to the end. \n",
    "\n",
    "Both barcode files were updated. "
   ]
  },
  {
   "cell_type": "code",
   "execution_count": 2,
   "metadata": {
    "collapsed": false
   },
   "outputs": [
    {
     "name": "stdout",
     "output_type": "stream",
     "text": [
      "/mnt/hgfs/Pacific cod/DataAnalysis/PCod-Korea-repo\n"
     ]
    }
   ],
   "source": [
    "cd ../"
   ]
  },
  {
   "cell_type": "code",
   "execution_count": 3,
   "metadata": {
    "collapsed": false,
    "scrolled": true
   },
   "outputs": [
    {
     "name": "stdout",
     "output_type": "stream",
     "text": [
      "#!/bin/bash\r",
      "\r\n",
      "\r",
      "\r\n",
      "process_radtags -f /media/mfisher5/New\\ Volume/Mary/Raw\\ Data/994_S1_L001_R1_001.fastq.gz -i gzfastq -y fastq -o samplesT142 -b scripts/barcodes_L3.txt -e sbfI -E phred33 -r -c -q -t 142 2>> process_radtags_output_L3.txt\r",
      "\r\n",
      "\r",
      "\r\n",
      "process_radtags -p /media/mfisher5/New\\ Volume/Mary/Raw\\ Data/Lane4 -P -i gzfastq -y fastq -o samplesT142 -b scripts/barcodes_L4.txt -e sbfI -E phred33 -r -c -q -t 142 2>> process_radtags_output_L4.txt\r",
      "\r\n"
     ]
    }
   ],
   "source": [
    "!head radtags_shell4-12.sh"
   ]
  },
  {
   "cell_type": "markdown",
   "metadata": {},
   "source": [
    "\n",
    "<br>\n",
    "**Lane 3**\n",
    "\n",
    "\n",
    "`376419078 total sequences\n",
    " 21409080 ambiguous barcode drops (5.7%)\n",
    "   481439 low quality read drops (0.1%)\n",
    " 56708636 ambiguous RAD-Tag drops (15.1%)\n",
    "297819923 retained reads (79.1%)\n",
    "`\n",
    "<br>\n",
    "\n",
    "**Lane 4**\n",
    "\n",
    "`735531564 total sequences\n",
    " 43985894 ambiguous barcode drops (6.0%)\n",
    "  7672504 low quality read drops (1.0%)\n",
    " 47877033 ambiguous RAD-Tag drops (6.5%)\n",
    "635996133 retained reads (86.5%)\n",
    "`"
   ]
  },
  {
   "cell_type": "markdown",
   "metadata": {},
   "source": [
    "\n",
    "<br>\n",
    "\n",
    "## ustacks\n",
    "### 4/17/2017\n",
    "<br>\n",
    "I want to test out if the samples with the largest read depths do actually end up with the greatest number of tags. So I'm running ustacks separately, then I will run `cstacks --> populations` with a single shell script. \n",
    "\n",
    "<br>"
   ]
  },
  {
   "cell_type": "code",
   "execution_count": 23,
   "metadata": {
    "collapsed": false
   },
   "outputs": [
    {
     "name": "stdout",
     "output_type": "stream",
     "text": [
      "/mnt/hgfs/Pacific cod/DataAnalysis/PCod-Korea-repo\n"
     ]
    }
   ],
   "source": [
    "cd /mnt/hgfs/Pacific cod/DataAnalysis/PCod-Korea-repo"
   ]
  },
  {
   "cell_type": "code",
   "execution_count": 24,
   "metadata": {
    "collapsed": false
   },
   "outputs": [
    {
     "name": "stdout",
     "output_type": "stream",
     "text": [
      "/mnt/hgfs/Pacific cod/DataAnalysis/PCod-Korea-repo/scripts\n"
     ]
    }
   ],
   "source": [
    "cd scripts"
   ]
  },
  {
   "cell_type": "code",
   "execution_count": 26,
   "metadata": {
    "collapsed": false
   },
   "outputs": [
    {
     "name": "stdout",
     "output_type": "stream",
     "text": [
      "###### Produce Shell script to run ustacks to populations, for Lanes 1 and 2 combined data ######\r",
      "\r\n",
      "## MF 11/15/2016\r",
      "\r\n",
      "## Edited MF 1/17/2017\r",
      "\r\n",
      "## Edited MF 4/7/2017 FOR ALL POPULATIONS\r",
      "\r\n",
      "\r",
      "\r\n",
      "###############\r",
      "\r\n",
      "## At the command line: python radtags_ustacks_genShellSR.py ARG1\r",
      "\r\n",
      "#ARG 1: input file, lane 1 barcodes. line format: <barcode> \\t <sampleID>\r",
      "\r\n",
      "#ARG 2: input file, lane 2 barcodes\r",
      "\r\n",
      "#ARG 3: input file, lane 3 barcodes\r",
      "\r\n",
      "#ARG 4: input file, lane 4 barcodes. \r",
      "\r\n",
      "\r",
      "\r\n",
      "#should be run from within the \"scripts\" folder\r",
      "\r\n",
      "\r",
      "\r\n",
      "###############\r",
      "\r\n"
     ]
    }
   ],
   "source": [
    "!head -n 15 ustacks_counts_genshell4-11.py"
   ]
  },
  {
   "cell_type": "code",
   "execution_count": 28,
   "metadata": {
    "collapsed": false
   },
   "outputs": [],
   "source": [
    "!python ustacks_counts_genshell4-11.py \\\n",
    "barcodesL1.txt \\\n",
    "barcodesL2.txt \\\n",
    "barcodes_L3.txt \\\n",
    "barcodes_L4.txt"
   ]
  },
  {
   "cell_type": "code",
   "execution_count": 29,
   "metadata": {
    "collapsed": false
   },
   "outputs": [
    {
     "name": "stdout",
     "output_type": "stream",
     "text": [
      "#!/bin/bash\r\n",
      "cd /mnt/hgfs/Shared\\ Drive\\ D/Pacific\\ cod/DataAnalysis/PCod-Korea-repo/\r\n",
      "mkdir stacks_b4\r\n",
      "\r\n",
      "#ustacks\r\n",
      "ustacks -t fastq -f samplesT142/PO010715_06.1.fq -r -d -o stacks_b4 -i 001 -m 5 -M 3 -p 6 --model_type bounded\r\n",
      "ustacks -t fastq -f samplesT142/PO010715_27.1.fq -r -d -o stacks_b4 -i 002 -m 5 -M 3 -p 6 --model_type bounded\r\n",
      "ustacks -t fastq -f samplesT142/PO010715_28.1.fq -r -d -o stacks_b4 -i 003 -m 5 -M 3 -p 6 --model_type bounded\r\n",
      "ustacks -t fastq -f samplesT142/PO010715_29.1.fq -r -d -o stacks_b4 -i 004 -m 5 -M 3 -p 6 --model_type bounded\r\n",
      "ustacks -t fastq -f samplesT142/GE011215_08.1.fq -r -d -o stacks_b4 -i 005 -m 5 -M 3 -p 6 --model_type bounded\r\n"
     ]
    }
   ],
   "source": [
    "!head ustacks_counts_batch4.sh"
   ]
  },
  {
   "cell_type": "code",
   "execution_count": 30,
   "metadata": {
    "collapsed": true
   },
   "outputs": [],
   "source": [
    "!mv ustacks_counts_batch4.sh ../ustacks_counts_batch4.sh"
   ]
  },
  {
   "cell_type": "code",
   "execution_count": 31,
   "metadata": {
    "collapsed": false
   },
   "outputs": [
    {
     "name": "stdout",
     "output_type": "stream",
     "text": [
      "/mnt/hgfs/Pacific cod/DataAnalysis/PCod-Korea-repo\n"
     ]
    }
   ],
   "source": [
    "cd ../"
   ]
  },
  {
   "cell_type": "code",
   "execution_count": 32,
   "metadata": {
    "collapsed": true
   },
   "outputs": [],
   "source": [
    "!chmod +x ustacks_counts_batch4.sh"
   ]
  },
  {
   "cell_type": "code",
   "execution_count": null,
   "metadata": {
    "collapsed": true
   },
   "outputs": [],
   "source": [
    "# run in command line:\n",
    "ustacks_counts_batch4.sh"
   ]
  },
  {
   "cell_type": "markdown",
   "metadata": {},
   "source": [
    "\n",
    "When I realized that I had replicate samples in Lanes3 and 4 I recreated my process-radtags script but failed to generate a new ustacks script. I also flipped which lane was paired end, sothat Lane 3 (single read) had a `.1` suffix, whereas Lane 4 (paired end) did not. The script above ran Lanes 1 and 2 fine, but Lanes 3 and 4 need to be redone. \n",
    "\n",
    "I used the spreadsheet `samples` in the `scripts/` folder to match the ID numbers for each sample with the new sample name. \n",
    "\n",
    "I then fixed the text file `L1-4_sampleList.txt` so that it has the correct sample names. \n",
    "\n",
    "I generated a new ustacks script and ran it in the terminal:"
   ]
  },
  {
   "cell_type": "code",
   "execution_count": 1,
   "metadata": {
    "collapsed": false
   },
   "outputs": [
    {
     "name": "stdout",
     "output_type": "stream",
     "text": [
      "/mnt/hgfs/Pacific cod/DataAnalysis/PCod-Korea-repo\n"
     ]
    }
   ],
   "source": [
    "cd ../"
   ]
  },
  {
   "cell_type": "code",
   "execution_count": null,
   "metadata": {
    "collapsed": true
   },
   "outputs": [],
   "source": [
    "#run at command line:\n",
    "!chmod ustacks_batch4_L4L3.sh\n",
    "./ustacks_batch4_L4L3"
   ]
  },
  {
   "cell_type": "markdown",
   "metadata": {},
   "source": [
    "\n",
    "<br>\n",
    "### 4/25/2017\n",
    "\n",
    "### Number of Reads / Tags\n",
    "\n",
    "I need to determine which samples I will use for cstacks. Our lab does this two ways: (1) by the number of reads per individual, in the fastq files, and (2) by the number of tags per individual, in thhe  ustacks output, .tags.tsv\n",
    "\n",
    "I'm going to compare the two ways to make sure that they both produce similar results.\n",
    "\n",
    "\n",
    "**Number of tags**\n",
    "\n",
    "I created a python script to count the number of tags per file. The script takes an input file with a list of sample names (one per line, sample name must be the first element in the line) and counts the number of times \"consensus\" appears in the `.tags.tsv` file."
   ]
  },
  {
   "cell_type": "code",
   "execution_count": 2,
   "metadata": {
    "collapsed": false
   },
   "outputs": [
    {
     "name": "stdout",
     "output_type": "stream",
     "text": [
      "/mnt/hgfs/Pacific cod/DataAnalysis/PCod-Korea-repo/scripts\n"
     ]
    }
   ],
   "source": [
    "cd scripts"
   ]
  },
  {
   "cell_type": "code",
   "execution_count": null,
   "metadata": {
    "collapsed": true
   },
   "outputs": [],
   "source": [
    "#run at command line\n",
    "python countloci_tagsfiles.py -s PopMap.txt -d ../stacks_b4 -o ../tagsfiles_locicounts.txt"
   ]
  },
  {
   "cell_type": "markdown",
   "metadata": {},
   "source": [
    "And because I am severely struggling with this run of stacks for some reason, I actually hit ctrl-p and told the program to re-run the script agove in the middle of the script runtime. So I made a new list of samples (just the ones that were missed above) and ran the code again"
   ]
  },
  {
   "cell_type": "code",
   "execution_count": null,
   "metadata": {
    "collapsed": true
   },
   "outputs": [],
   "source": [
    "#run at command line\n",
    "python countloci_tagsfiles.py -s PopMap_half.txt -d ../stacks_b4 -o ../tagsfiles_locicounts.txt"
   ]
  },
  {
   "cell_type": "markdown",
   "metadata": {},
   "source": [
    "\n",
    "**Number of reads**\n",
    "\n",
    "I created a python script that takes a list of samples and generates a bash shell to count the number of lines in the fastq file, then divide that count by 4. The bash shell is called from within the python shell. It makes a temporary file of counts. That temporary file is then rewritten to include the sample name that corresponds to each read count."
   ]
  },
  {
   "cell_type": "code",
   "execution_count": null,
   "metadata": {
    "collapsed": true
   },
   "outputs": [],
   "source": [
    "#run at command line\n"
   ]
  },
  {
   "cell_type": "markdown",
   "metadata": {},
   "source": [
    "Note that with a lot of samples, this code takes a LONG TIME to run. Also, it is not equipped to count gzipped fastq files."
   ]
  },
  {
   "cell_type": "markdown",
   "metadata": {},
   "source": [
    "If you check out the [counts excel spreadsheet]() you can see that the top 10 samples from reads v. tags don't add up. Below, I've plotted the # of tags against the # of reads for 117 samples to explore the mismatch:\n"
   ]
  },
  {
   "cell_type": "markdown",
   "metadata": {},
   "source": [
    "\n",
    "** reads v. tags **"
   ]
  },
  {
   "cell_type": "code",
   "execution_count": 1,
   "metadata": {
    "collapsed": false
   },
   "outputs": [
    {
     "name": "stdout",
     "output_type": "stream",
     "text": [
      "/mnt/hgfs/Pacific cod/DataAnalysis/PCod-Korea-repo/pipeline_analyses\n"
     ]
    }
   ],
   "source": [
    "cd ../pipeline_analyses/"
   ]
  },
  {
   "cell_type": "code",
   "execution_count": 2,
   "metadata": {
    "collapsed": false
   },
   "outputs": [
    {
     "name": "stdout",
     "output_type": "stream",
     "text": [
      "264 264 264\n"
     ]
    }
   ],
   "source": [
    "countsfile = open(\"readsVtags.txt\")\n",
    "\n",
    "samples = []\n",
    "n_reads = []\n",
    "n_tags = []\n",
    "\n",
    "for line in countsfile: \n",
    "    if \"sample\" not in line:\n",
    "        sample = line.strip().split()[0]\n",
    "        tags = line.strip().split()[1]\n",
    "        reads = line.strip().split()[2]\n",
    "        samples.append(sample)\n",
    "        n_reads.append(reads)\n",
    "        n_tags.append(tags)\n",
    "print len(samples), len(n_reads), len(n_tags)"
   ]
  },
  {
   "cell_type": "code",
   "execution_count": 3,
   "metadata": {
    "collapsed": true
   },
   "outputs": [],
   "source": [
    "import numpy as np\n",
    "import matplotlib.pyplot as plt"
   ]
  },
  {
   "cell_type": "code",
   "execution_count": 4,
   "metadata": {
    "collapsed": false
   },
   "outputs": [
    {
     "data": {
      "image/png": "[encoded data removed]",
      "text/plain": [
       "<matplotlib.figure.Figure at 0x7fd9cf708590>"
      ]
     },
     "metadata": {},
     "output_type": "display_data"
    }
   ],
   "source": [
    "plt.scatter(n_reads, n_tags)\n",
    "plt.suptitle(\"Read Depth v. Number of Loci\")\n",
    "plt.xlabel(\"Total Number Reads (FastQ)\")\n",
    "plt.ylabel(\"Total Number of Loci (ustacks)\")\n",
    "plt.show()"
   ]
  },
  {
   "cell_type": "code",
   "execution_count": 5,
   "metadata": {
    "collapsed": true
   },
   "outputs": [],
   "source": [
    "plt.close()"
   ]
  },
  {
   "cell_type": "code",
   "execution_count": 9,
   "metadata": {
    "collapsed": false
   },
   "outputs": [
    {
     "name": "stdout",
     "output_type": "stream",
     "text": [
      "16\n",
      "sample ID ,   n. reads\n",
      "YS_121316_05 ,  6635649\n",
      "YS_121316_18 ,  5165500\n",
      "YS_121316_27 ,  4262963\n",
      "YS_121316_28 ,  3981699\n",
      "YS_121316_29 ,  2857842\n",
      "YS121315_12 ,  5791989\n",
      "YS121315_12_300 ,  4038365\n",
      "YS121316_30 ,  4335330\n",
      "BOR07_01 ,  1717981\n",
      "BOR07_05.1 ,  8659570\n",
      "BOR07_06.1 ,  4078253\n",
      "BOR07_14 ,  10735145\n",
      "BOR07_15 ,  7761056\n",
      "BOR07_18 ,  7110518\n",
      "BOR07_19.1 ,  5149426\n",
      "BOR07_21.1 ,  3280358\n"
     ]
    }
   ],
   "source": [
    "## Find samples that are outliers from # of tags ##\n",
    "\n",
    "outlier_indices = []\n",
    "\n",
    "for i in n_tags:\n",
    "    if float(i) > 60000:\n",
    "        outlier_indices.append(n_tags.index(i))\n",
    "print len(outlier_indices)\n",
    "\n",
    "print \"sample ID ,   n. reads\"\n",
    "for index in outlier_indices:\n",
    "    print samples[index], \", \", n_reads[index]"
   ]
  },
  {
   "cell_type": "markdown",
   "metadata": {},
   "source": [
    "**Choosing cstacks samples:** \n",
    "\n",
    "The samples with the highest number of tags are not necessarily those with the greatest number of reads. I will prioritize the number of tags per individual, but will also check the number of reads in those individual to make sure that it isn't too low (cutoff set at 3 million reads). If an individual is in the top ten lists for tags but has less than 3 million reads, I will replace that individual with the sample that has the 11th most tags, 12th most tags, etc. \n",
    "\n",
    "<br>\n",
    "\n",
    "**Following up with the Boryeong / Yellow Sea individuals that have an absurdly high number of tags:**\n",
    "\n",
    "These samples will be excluded from the catalog if they have >75K loci, OR if they have > 60K loci and < 10 mill reads. \n",
    "\n",
    "I looked back in my lab notebook to look for possible contamination. These samples were all dried, but they were done in a large batch at NOAA. I skimmed some of the other samples dried in that batch at NOAA and they have a normal number of tags (40-50K). Also, some samples that were not dried have a large number of tags (76-78K).\n",
    "\n",
    "*Yellow Sea*: These samples are a mixture of three different sublibraries, from 2 different RAD plates, run in 2 different lanes. *however,* half of Yellow Sea individuals (4/8) are from a single sublibrary (#15)\n",
    "\n",
    "I'm first going to check for contamination between east and west samples by using BOWTIE to align Fasta files from normal Yellow Sea to normal Jukbyeon. I'll then align the normal Yellow sea to the high tag Yellow Sea, and then normal Jukbyeon to the high tag Jukbyeon. \n",
    "\n",
    "I may also try to resequence these samples.\n",
    "\n",
    "<br>\n",
    "\n",
    "**Samples that may have to be re-sequenced:**\n",
    "\n",
    "As of now, there are 5 samples that may need to be re-sequenced because of low read counts (PO020515_16.1 with 196K reads; YS121315_10.1 with 131K reads) and low tag counts (JB121807_07.1 with 323 reads; JB021108_11 with 9657 reads; GEO020414_13 with 63 reads). \n",
    "\n",
    "I drew these conclusions using [graphs of read counts & tags counts by population](https://github.com/mfisher5/Pcod-Korea-repo/blob/master/notebooks/Stacks%20batch%204%20-%20pipeline%20meristics.ipynb), using a visual cutoff point. "
   ]
  },
  {
   "cell_type": "markdown",
   "metadata": {
    "collapsed": true
   },
   "source": [
    "\n",
    "<br>\n",
    "\n",
    "### 4/29/2017\n",
    "\n",
    "### ctacks --> populations\n",
    "\n",
    "I have a python script that will generate and then call a bash subscript to run cstacks --> populations. "
   ]
  },
  {
   "cell_type": "code",
   "execution_count": 10,
   "metadata": {
    "collapsed": false
   },
   "outputs": [
    {
     "name": "stdout",
     "output_type": "stream",
     "text": [
      "/mnt/hgfs/Pacific cod/DataAnalysis/PCod-Korea-repo/scripts\n"
     ]
    }
   ],
   "source": [
    "cd ../scripts"
   ]
  },
  {
   "cell_type": "code",
   "execution_count": 11,
   "metadata": {
    "collapsed": false
   },
   "outputs": [
    {
     "name": "stdout",
     "output_type": "stream",
     "text": [
      "###### Generate Shell Script to Run cstacks --> populations ######\r\n",
      "\r\n",
      "## MF 3/8/2017 modified 4/29/2017\r\n",
      "## For US Cod Data modified for Korean Cod Data\r\n",
      "\r\n",
      "\r\n",
      "\r\n",
      "## At Command Line: python cstacks_populations_genShell_3-8 ARG1 ARG2\r\n",
      "##---- ARG1 = samples for cstacks file \r\n",
      "##---- ARG2 = complete sample list file; in this script should be the population map\r\n"
     ]
    }
   ],
   "source": [
    "!head cstacks_populations_genShell_4-29.py"
   ]
  },
  {
   "cell_type": "code",
   "execution_count": 14,
   "metadata": {
    "collapsed": false
   },
   "outputs": [],
   "source": [
    "!python cstacks_populations_genShell_4-29.py samples_for_cstacks.txt PopMap_L1-4.txt"
   ]
  },
  {
   "cell_type": "code",
   "execution_count": 15,
   "metadata": {
    "collapsed": true
   },
   "outputs": [],
   "source": [
    "!chmod +x cstacks_populations_4-29.sh"
   ]
  },
  {
   "cell_type": "code",
   "execution_count": 16,
   "metadata": {
    "collapsed": true
   },
   "outputs": [],
   "source": [
    "!mv cstacks_populations_4-29.sh ../cstacks_populations_4-29.sh"
   ]
  },
  {
   "cell_type": "code",
   "execution_count": 17,
   "metadata": {
    "collapsed": false
   },
   "outputs": [
    {
     "name": "stdout",
     "output_type": "stream",
     "text": [
      "/mnt/hgfs/Pacific cod/DataAnalysis/PCod-Korea-repo\n"
     ]
    }
   ],
   "source": [
    "cd ../"
   ]
  },
  {
   "cell_type": "code",
   "execution_count": null,
   "metadata": {
    "collapsed": true
   },
   "outputs": [],
   "source": [
    "#run at command line\n",
    "./cstacks_populations_4-29.sh"
   ]
  },
  {
   "cell_type": "markdown",
   "metadata": {},
   "source": [
    "\n",
    "I had the wrong information for `sstacks` to call the catalog, so I made the new shell below and ran sstacks to populations"
   ]
  },
  {
   "cell_type": "code",
   "execution_count": null,
   "metadata": {
    "collapsed": true
   },
   "outputs": [],
   "source": [
    "#run at comman line\n",
    "./sstacks_populations_batch4.sh"
   ]
  },
  {
   "cell_type": "markdown",
   "metadata": {},
   "source": [
    "\n",
    "\n",
    "### 4/30/2017\n",
    "\n",
    "### Individuals that may need to be re-sequenced\n",
    "\n",
    "In order to determine which individuals will likely need to be resequenced, I'm going to take the `populations` output file and run it through the genotype correction / biallelic filtering steps. Then I'll identify individuals with more than 50% missing genotypes, and assume that these individuals will definitely need to be re-sequenced. "
   ]
  },
  {
   "cell_type": "code",
   "execution_count": 1,
   "metadata": {
    "collapsed": false
   },
   "outputs": [
    {
     "name": "stdout",
     "output_type": "stream",
     "text": [
      "/mnt/hgfs/Pacific cod/DataAnalysis/PCod-Korea-repo/scripts/PostStacksFiltering\n"
     ]
    }
   ],
   "source": [
    "cd ../scripts/PostStacksFiltering/"
   ]
  },
  {
   "cell_type": "code",
   "execution_count": 3,
   "metadata": {
    "collapsed": false
   },
   "outputs": [],
   "source": [
    "!python genBASH_finalfilters.py Input_extraFilters_4-30.txt"
   ]
  },
  {
   "cell_type": "markdown",
   "metadata": {},
   "source": [
    "\n",
    "I then ran the following at the command line, up until where the script pauses at line 83 to make sure that the correct output was produced. "
   ]
  },
  {
   "cell_type": "code",
   "execution_count": 4,
   "metadata": {
    "collapsed": true
   },
   "outputs": [],
   "source": [
    "!chmod +x PostStacksFiltering_nogenome.sh"
   ]
  },
  {
   "cell_type": "code",
   "execution_count": null,
   "metadata": {
    "collapsed": true
   },
   "outputs": [],
   "source": [
    "./PostStacksFiltering_nogenome.sh"
   ]
  },
  {
   "cell_type": "markdown",
   "metadata": {},
   "source": [
    "note that I did have to do some troubleshooting because I have spaces in my path names. I went into the bash filtering shell and added in \"\\\" where needed. \n",
    "\n",
    "<br>\n",
    "\n",
    "Yikes. based on the genepop file output from `populations`, I'll have to resequence several of the Jinhae Bay samples from both the early and late breeding season.  \n",
    "\n",
    "\n",
    "<br>\n",
    "The samples I'll have to remove:"
   ]
  },
  {
   "cell_type": "code",
   "execution_count": 1,
   "metadata": {
    "collapsed": false
   },
   "outputs": [
    {
     "name": "stdout",
     "output_type": "stream",
     "text": [
      "/mnt/hgfs/Pacific cod/DataAnalysis/PCod-Korea-repo/pipeline_analyses\n"
     ]
    }
   ],
   "source": [
    "cd ../pipeline_analyses/"
   ]
  },
  {
   "cell_type": "code",
   "execution_count": 9,
   "metadata": {
    "collapsed": false
   },
   "outputs": [
    {
     "name": "stdout",
     "output_type": "stream",
     "text": [
      "['YS_121316_29', 'JUK07_25', 'JB121807_04.1', 'JB121807_05', 'JB121807_07.1', 'JB121807_09.1', 'JB121807_12.1', 'JB121807_16.1', 'JB121807_23', 'JB121807_25', 'JB121807_27', 'JB121807_30', 'JB121807_30.1', 'JB121807_35', 'JB121807_41.1', 'JB121807_42', 'JB121807_45.1', 'JB121807_47', 'JB121807_48.1', 'JB021108_10.1', 'JB021108_11', 'JB021108_14', 'JB021108_25.1', 'JB021108_28', 'JB021108_31.1', 'JB021108_33', 'JB021108_38.1', 'JB021108_40', 'BOR07_01', 'BOR07_21.1', 'GEO020414_10', 'GEO020414_13', 'GEO020414_15_300', 'GEO020414_30']\n",
      "---\n",
      "May have to remove  34  samples\n"
     ]
    }
   ],
   "source": [
    "myfile = open(\"missing_data_b4r1.txt\", \"r\")\n",
    "\n",
    "sample_list = []\n",
    "reads_list = []\n",
    "tags_list = []\n",
    "missing_list = []\n",
    "remove_list = []\n",
    "\n",
    "for line in myfile:\n",
    "    if \"sample\" not in line:\n",
    "        sample_list.append(line.strip().split()[0])\n",
    "        tags_list.append(line.strip().split()[1])\n",
    "        reads_list.append(line.strip().split()[2])\n",
    "        missing_list.append(float(line.strip().split()[3]))\n",
    "        if int(line.strip().split()[4]) == 1: \n",
    "            remove_list.append(line.strip().split()[0])\n",
    "print remove_list\n",
    "print \"---\"\n",
    "print \"May have to remove \", len(remove_list), \" samples\"\n",
    "myfile.close()"
   ]
  },
  {
   "cell_type": "code",
   "execution_count": 14,
   "metadata": {
    "collapsed": true
   },
   "outputs": [],
   "source": [
    "import numpy as np\n",
    "import matplotlib.pyplot as plt\n",
    "import matplotlib.patches as mpatches"
   ]
  },
  {
   "cell_type": "code",
   "execution_count": 21,
   "metadata": {
    "collapsed": false
   },
   "outputs": [
    {
     "data": {
      "image/png": "[encoded data removed]",
      "text/plain": [
       "<matplotlib.figure.Figure at 0x7fa38f9f0650>"
      ]
     },
     "metadata": {},
     "output_type": "display_data"
    }
   ],
   "source": [
    "myfile = open(\"missing_data_b4r1.txt\", \"r\")\n",
    "color_list = []\n",
    "for line in myfile:\n",
    "    if \"sample\" not in line:\n",
    "        if int(line.strip().split()[4]) == 1:\n",
    "            color_list.append(\"c\")\n",
    "        elif int(line.strip().split()[4]) == 0:\n",
    "            color_list.append(\"b\")\n",
    "myfile.close()\n",
    "plt.scatter(reads_list, tags_list, c = color_list)\n",
    "plt.suptitle(\"Read Depth v. Number of Loci\")\n",
    "plt.xlabel(\"Total Number Reads (FastQ)\")\n",
    "plt.ylabel(\"Total Number of Loci (ustacks)\")\n",
    "remove_patch = mpatches.Patch(color = 'cyan', label = \">20 missing genotypes\")\n",
    "plt.legend(handles = [remove_patch])\n",
    "plt.show()"
   ]
  },
  {
   "cell_type": "markdown",
   "metadata": {},
   "source": [
    "This make sense based on the code. I'll continue with the pipeline in notebook 2, retaining these samples for now."
   ]
  },
  {
   "cell_type": "code",
   "execution_count": null,
   "metadata": {
    "collapsed": true
   },
   "outputs": [],
   "source": []
  }
 ],
 "metadata": {
  "anaconda-cloud": {},
  "kernelspec": {
   "display_name": "Python [default]",
   "language": "python",
   "name": "python2"
  },
  "language_info": {
   "codemirror_mode": {
    "name": "ipython",
    "version": 2
   },
   "file_extension": ".py",
   "mimetype": "text/x-python",
   "name": "python",
   "nbconvert_exporter": "python",
   "pygments_lexer": "ipython2",
   "version": "2.7.12"
  }
 },
 "nbformat": 4,
 "nbformat_minor": 1
}
