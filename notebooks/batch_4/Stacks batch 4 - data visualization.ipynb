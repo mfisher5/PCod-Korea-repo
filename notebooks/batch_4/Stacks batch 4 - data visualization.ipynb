{
 "cells": [
  {
   "cell_type": "markdown",
   "metadata": {},
   "source": [
    "## Stacks pipeline batch 4 - data exploration and visualization\n",
    "\n",
    "\n",
    "This notebook includes:\n",
    "\n",
    "1. heterozygosity v. read depth\n",
    "2. Haplotype Fis distribution\n",
    "3. read depth by tag number, distribution of read depth per tag\n",
    "4. Histogram of SNP position in read\n",
    "5. Fst v. SNP position (for haplotypes with only 1 SNP)\n",
    "6. Het v. SNP position \n",
    "\n",
    "\n",
    "To Do:\n",
    "1. Fis v. heterozygosity\n",
    "\n",
    "\n",
    "<br>\n",
    "\n",
    "\n",
    "### (1) heterozygosity v. read depth\n",
    "\n",
    "This uses a script from Dan Drinan to compare heterozygosity v. read depth in an individual. I ran the script on all individuals that were retained after the filtering step, or that had less than 20% genotypes missing."
   ]
  },
  {
   "cell_type": "code",
   "execution_count": 1,
   "metadata": {
    "collapsed": false
   },
   "outputs": [
    {
     "name": "stdout",
     "output_type": "stream",
     "text": [
      "/mnt/hgfs/Pacific cod/DataAnalysis/PCod-Korea-repo/analyses\n"
     ]
    }
   ],
   "source": [
    "cd ../analyses"
   ]
  },
  {
   "cell_type": "code",
   "execution_count": 8,
   "metadata": {
    "collapsed": false
   },
   "outputs": [],
   "source": [
    "!python calc_het.py \\\n",
    "-l final_individuals.txt \\\n",
    "-f ../batch_4_wgenome/batch_4.filteredMAF_filteredLoci_filteredIndivids_filteredHWE.gen \\\n",
    "-o batch4_HetvReadDepth_filtered \\\n",
    "-d 4"
   ]
  },
  {
   "cell_type": "markdown",
   "metadata": {},
   "source": [
    "Since it takes a long time to count the FASTQ read depth, I copied over read depth counts from a previous script. "
   ]
  },
  {
   "cell_type": "code",
   "execution_count": 9,
   "metadata": {
    "collapsed": false
   },
   "outputs": [
    {
     "name": "stdout",
     "output_type": "stream",
     "text": [
      "sample\tnum_reads\tprop_het\r\n",
      "PO010715_02\t6817653\t0.223748915\r\n",
      "PO010715_02_rep\t7823165\t0.236034732\r\n",
      "PO010715_04\t3432097\t0.153433009\r\n",
      "PO010715_06.1\t2473192\t0.178491745\r\n",
      "PO010715_08.1\t3106846\t0.16475707\r\n",
      "PO010715_10.1\t3309272\t0.172519754\r\n",
      "PO010715_11.1\t3495400\t0.245759026\r\n",
      "PO010715_12\t3295834\t0.162452775\r\n",
      "PO010715_17.1\t4332781\t0.201044386\r\n"
     ]
    }
   ],
   "source": [
    "!head batch4_HetvReadDepth_filtered"
   ]
  },
  {
   "cell_type": "code",
   "execution_count": 8,
   "metadata": {
    "collapsed": false
   },
   "outputs": [
    {
     "name": "stdout",
     "output_type": "stream",
     "text": [
      "Processed  235  samples.\n"
     ]
    }
   ],
   "source": [
    "myfile = open(\"batch4_HetvReadDepth_filtered\", \"r\")\n",
    "\n",
    "count = 0\n",
    "read_depth = []\n",
    "prop_het = []\n",
    "samples = []\n",
    "\n",
    "for line in myfile: \n",
    "    if count > 1: \n",
    "        sample = line.strip().split()[0]\n",
    "        new_depth = line.strip().split()[1]\n",
    "        new_het = line.strip().split()[2]\n",
    "        read_depth.append(new_depth)\n",
    "        prop_het.append(new_het)\n",
    "        samples.append(sample)\n",
    "        count += 1\n",
    "    else: \n",
    "        count += 1\n",
    "\n",
    "myfile.close()\n",
    "\n",
    "print \"Processed \", count, \" samples.\""
   ]
  },
  {
   "cell_type": "code",
   "execution_count": 9,
   "metadata": {
    "collapsed": true
   },
   "outputs": [],
   "source": [
    "length = len(read_depth)\n",
    "for i in range(0,length):\n",
    "    read_depth[i] = float(read_depth[i])\n",
    "\n",
    "length = len(prop_het)\n",
    "for i in range(0,length):\n",
    "    prop_het[i] = float(prop_het[i])"
   ]
  },
  {
   "cell_type": "code",
   "execution_count": 10,
   "metadata": {
    "collapsed": true
   },
   "outputs": [],
   "source": [
    "import numpy as np\n",
    "import matplotlib.pyplot as plt"
   ]
  },
  {
   "cell_type": "code",
   "execution_count": 11,
   "metadata": {
    "collapsed": false
   },
   "outputs": [
    {
     "data": {
      "image/png": "[encoded data removed]",
      "text/plain": [
       "<matplotlib.figure.Figure at 0x7ff9967bd4d0>"
      ]
     },
     "metadata": {},
     "output_type": "display_data"
    }
   ],
   "source": [
    "plt.scatter(read_depth, prop_het)\n",
    "plt.suptitle(\"Heterozygosity by Read Depth\")\n",
    "plt.xlabel(\"Read depth\")\n",
    "plt.ylabel(\"Heterozygosity\")\n",
    "plt.show()"
   ]
  },
  {
   "cell_type": "code",
   "execution_count": 12,
   "metadata": {
    "collapsed": true
   },
   "outputs": [],
   "source": [
    "plt.close()"
   ]
  },
  {
   "cell_type": "code",
   "execution_count": 16,
   "metadata": {
    "collapsed": false
   },
   "outputs": [
    {
     "data": {
      "text/plain": [
       "array([[ 1.       ,  0.1587655],\n",
       "       [ 0.1587655,  1.       ]])"
      ]
     },
     "execution_count": 16,
     "metadata": {},
     "output_type": "execute_result"
    }
   ],
   "source": [
    "np.corrcoef(read_depth, prop_het)"
   ]
  },
  {
   "cell_type": "markdown",
   "metadata": {},
   "source": [
    "Yay! the correlation coefficient is only 0.1588"
   ]
  },
  {
   "cell_type": "code",
   "execution_count": 13,
   "metadata": {
    "collapsed": false
   },
   "outputs": [
    {
     "name": "stdout",
     "output_type": "stream",
     "text": [
      "PO010715_26\n",
      "PO020515_17.1\n",
      "GE011215_30.1\n",
      "GE012315_09.1\n",
      "GE012315_10.1\n",
      "GE012315_11.1\n",
      "NA021015_03.1\n",
      "NA021015_06.1\n",
      "NA021015_09.1\n",
      "NA021015_13.1\n",
      "YS_121316_20.1\n",
      "YS121315_14.1\n",
      "BOR07_10.1\n"
     ]
    }
   ],
   "source": [
    "for i in range(0, len(prop_het)):\n",
    "    if float(prop_het[i])>0.25:\n",
    "        print samples[i]"
   ]
  },
  {
   "cell_type": "code",
   "execution_count": null,
   "metadata": {
    "collapsed": true
   },
   "outputs": [],
   "source": []
  }
 ],
 "metadata": {
  "anaconda-cloud": {},
  "kernelspec": {
   "display_name": "Python [default]",
   "language": "python",
   "name": "python2"
  },
  "language_info": {
   "codemirror_mode": {
    "name": "ipython",
    "version": 2
   },
   "file_extension": ".py",
   "mimetype": "text/x-python",
   "name": "python",
   "nbconvert_exporter": "python",
   "pygments_lexer": "ipython2",
   "version": "2.7.12"
  }
 },
 "nbformat": 4,
 "nbformat_minor": 1
}
