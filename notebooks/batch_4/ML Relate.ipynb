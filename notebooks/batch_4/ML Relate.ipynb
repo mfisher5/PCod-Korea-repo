{
 "cells": [
  {
   "cell_type": "markdown",
   "metadata": {},
   "source": [
    "## ML Relate File generation\n",
    "\n",
    "\n",
    "I want to check to see if there are any potentially contaminated samples in the last four lanes of sequencing. In the interest of retaining as many samples as possible to keep high sample sizes, I'll try to rerun those samples which I decide are probably contaminated. \n",
    "\n",
    "To do this, I will first find sibling relationships in ML relate, then look at plate location and heterozygosity of those samples.\n",
    "\n",
    "<Br>\n",
    "<br>\n",
    "\n",
    "for some reason, ML relate has decided that it will only take genepops with two or fewer populations. This notebook breaks up a single genepop into a suite of two-population genepops."
   ]
  },
  {
   "cell_type": "code",
   "execution_count": 4,
   "metadata": {
    "collapsed": false
   },
   "outputs": [
    {
     "data": {
      "text/plain": [
       "u'/mnt/hgfs/Pacific cod/DataAnalysis/PCod-US-repo/notebooks'"
      ]
     },
     "execution_count": 4,
     "metadata": {},
     "output_type": "execute_result"
    }
   ],
   "source": [
    "pwd"
   ]
  },
  {
   "cell_type": "code",
   "execution_count": 6,
   "metadata": {
    "collapsed": false,
    "scrolled": true
   },
   "outputs": [
    {
     "name": "stdout",
     "output_type": "stream",
     "text": [
      "/mnt/hgfs/Pacific cod/DataAnalysis/PCod-Korea-repo/analyses/ml_relate\n"
     ]
    }
   ],
   "source": [
    "cd ../../PCod-Korea-repo/analyses/ml_relate"
   ]
  },
  {
   "cell_type": "markdown",
   "metadata": {},
   "source": [
    "#### PRODUCE GENEPOPS FOR ML RELATE, POHANG"
   ]
  },
  {
   "cell_type": "code",
   "execution_count": 8,
   "metadata": {
    "collapsed": false
   },
   "outputs": [],
   "source": [
    "infile = open(\"../batch_4.filteredMAF_filteredLoci_filteredIndivids_filteredHWE_noreps.gen\", \"r\")\n",
    "outfile = open(\"batch4_genepop_heading_temp.txt\", \"w\")\n",
    "\n",
    "for line in infile:\n",
    "    if not line.startswith(\"Pop\"):\n",
    "        outfile.write(line)\n",
    "    else:\n",
    "        outfile.write(line)\n",
    "        break\n",
    "\n",
    "        \n",
    "outfile.close()\n",
    "\n",
    "poplist = [\"PO\", \"GE\", \"JB\", \"YS\", \"JUK\",\"NA\", \"BOR\"]\n",
    "\n",
    "newgen = open(\"batch_4_final_filtered_po-ge14.gen\",\"w\")\n",
    "heading = open(\"batch4_genepop_heading_temp.txt\", \"r\")\n",
    "\n",
    "for line in heading:\n",
    "    newgen.write(line)\n",
    "heading.close()\n",
    "\n",
    "\n",
    "for line in infile:\n",
    "    if line.startswith(\"Pop\") or line.startswith(\"PO\") or line.startswith(\"GE\"):\n",
    "        newgen.write(line)\n",
    "infile.close()\n",
    "newgen.close()\n"
   ]
  },
  {
   "cell_type": "code",
   "execution_count": 9,
   "metadata": {
    "collapsed": true
   },
   "outputs": [],
   "source": [
    "infile = open(\"../batch_4.filteredMAF_filteredLoci_filteredIndivids_filteredHWE_noreps.gen\", \"r\")\n",
    "outfile = open(\"batch4_genepop_heading_temp.txt\", \"w\")\n",
    "\n",
    "for line in infile:\n",
    "    if not line.startswith(\"Pop\"):\n",
    "        outfile.write(line)\n",
    "    else:\n",
    "        outfile.write(line)\n",
    "        break\n",
    "\n",
    "        \n",
    "outfile.close()\n",
    "\n",
    "poplist = [\"PO\", \"GE\", \"JB\", \"YS\", \"JUK\",\"NA\", \"BOR\"]\n",
    "\n",
    "newgen = open(\"batch_4_final_filtered_po-jb07.gen\",\"w\")\n",
    "heading = open(\"batch4_genepop_heading_temp.txt\", \"r\")\n",
    "\n",
    "for line in heading:\n",
    "    newgen.write(line)\n",
    "heading.close()\n",
    "\n",
    "\n",
    "for line in infile:\n",
    "    if line.startswith(\"Pop\") or line.startswith(\"PO\") or line.startswith(\"JB121807\"):\n",
    "        newgen.write(line)\n",
    "infile.close()\n",
    "newgen.close()"
   ]
  },
  {
   "cell_type": "code",
   "execution_count": 10,
   "metadata": {
    "collapsed": true
   },
   "outputs": [],
   "source": [
    "infile = open(\"../batch_4.filteredMAF_filteredLoci_filteredIndivids_filteredHWE_noreps.gen\", \"r\")\n",
    "outfile = open(\"batch4_genepop_heading_temp.txt\", \"w\")\n",
    "\n",
    "for line in infile:\n",
    "    if not line.startswith(\"Pop\"):\n",
    "        outfile.write(line)\n",
    "    else:\n",
    "        outfile.write(line)\n",
    "        break\n",
    "\n",
    "        \n",
    "outfile.close()\n",
    "\n",
    "poplist = [\"PO\", \"GE\", \"JB\", \"YS\", \"JUK\",\"NA\", \"BOR\"]\n",
    "\n",
    "newgen = open(\"batch_4_final_filtered_po-jb08.gen\",\"w\")\n",
    "heading = open(\"batch4_genepop_heading_temp.txt\", \"r\")\n",
    "\n",
    "for line in heading:\n",
    "    newgen.write(line)\n",
    "heading.close()\n",
    "\n",
    "\n",
    "for line in infile:\n",
    "    if line.startswith(\"Pop\") or line.startswith(\"PO\") or line.startswith(\"JB021108\"):\n",
    "        newgen.write(line)\n",
    "infile.close()\n",
    "newgen.close()"
   ]
  },
  {
   "cell_type": "code",
   "execution_count": 11,
   "metadata": {
    "collapsed": true
   },
   "outputs": [],
   "source": [
    "infile = open(\"../batch_4.filteredMAF_filteredLoci_filteredIndivids_filteredHWE_noreps.gen\", \"r\")\n",
    "outfile = open(\"batch4_genepop_heading_temp.txt\", \"w\")\n",
    "\n",
    "for line in infile:\n",
    "    if not line.startswith(\"Pop\"):\n",
    "        outfile.write(line)\n",
    "    else:\n",
    "        outfile.write(line)\n",
    "        break\n",
    "\n",
    "        \n",
    "outfile.close()\n",
    "\n",
    "poplist = [\"PO\", \"GE\", \"JB\", \"YS\", \"JUK\",\"NA\", \"BOR\"]\n",
    "\n",
    "newgen = open(\"batch_4_final_filtered_po-ys.gen\",\"w\")\n",
    "heading = open(\"batch4_genepop_heading_temp.txt\", \"r\")\n",
    "\n",
    "for line in heading:\n",
    "    newgen.write(line)\n",
    "heading.close()\n",
    "\n",
    "\n",
    "for line in infile:\n",
    "    if line.startswith(\"Pop\") or line.startswith(\"PO\") or line.startswith(\"YS\"):\n",
    "        newgen.write(line)\n",
    "infile.close()\n",
    "newgen.close()"
   ]
  },
  {
   "cell_type": "code",
   "execution_count": 12,
   "metadata": {
    "collapsed": true
   },
   "outputs": [],
   "source": [
    "infile = open(\"../batch_4.filteredMAF_filteredLoci_filteredIndivids_filteredHWE_noreps.gen\", \"r\")\n",
    "outfile = open(\"batch4_genepop_heading_temp.txt\", \"w\")\n",
    "\n",
    "for line in infile:\n",
    "    if not line.startswith(\"Pop\"):\n",
    "        outfile.write(line)\n",
    "    else:\n",
    "        outfile.write(line)\n",
    "        break\n",
    "\n",
    "        \n",
    "outfile.close()\n",
    "\n",
    "poplist = [\"PO\", \"GE\", \"JB\", \"YS\", \"JUK\",\"NA\", \"BOR\"]\n",
    "\n",
    "newgen = open(\"batch_4_final_filtered_po-juk.gen\",\"w\")\n",
    "heading = open(\"batch4_genepop_heading_temp.txt\", \"r\")\n",
    "\n",
    "for line in heading:\n",
    "    newgen.write(line)\n",
    "heading.close()\n",
    "\n",
    "\n",
    "for line in infile:\n",
    "    if line.startswith(\"Pop\") or line.startswith(\"PO\") or line.startswith(\"JUK\"):\n",
    "        newgen.write(line)\n",
    "infile.close()\n",
    "newgen.close()"
   ]
  },
  {
   "cell_type": "code",
   "execution_count": 13,
   "metadata": {
    "collapsed": true
   },
   "outputs": [],
   "source": [
    "infile = open(\"../batch_4.filteredMAF_filteredLoci_filteredIndivids_filteredHWE_noreps.gen\", \"r\")\n",
    "outfile = open(\"batch4_genepop_heading_temp.txt\", \"w\")\n",
    "\n",
    "for line in infile:\n",
    "    if not line.startswith(\"Pop\"):\n",
    "        outfile.write(line)\n",
    "    else:\n",
    "        outfile.write(line)\n",
    "        break\n",
    "\n",
    "        \n",
    "outfile.close()\n",
    "\n",
    "poplist = [\"PO\", \"GE\", \"JB\", \"YS\", \"JUK\",\"NA\", \"BOR\"]\n",
    "\n",
    "newgen = open(\"batch_4_final_filtered_po-na.gen\",\"w\")\n",
    "heading = open(\"batch4_genepop_heading_temp.txt\", \"r\")\n",
    "\n",
    "for line in heading:\n",
    "    newgen.write(line)\n",
    "heading.close()\n",
    "\n",
    "\n",
    "for line in infile:\n",
    "    if line.startswith(\"Pop\") or line.startswith(\"PO\") or line.startswith(\"NA\"):\n",
    "        newgen.write(line)\n",
    "infile.close()\n",
    "newgen.close()"
   ]
  },
  {
   "cell_type": "code",
   "execution_count": 14,
   "metadata": {
    "collapsed": true
   },
   "outputs": [],
   "source": [
    "infile = open(\"../batch_4.filteredMAF_filteredLoci_filteredIndivids_filteredHWE_noreps.gen\", \"r\")\n",
    "outfile = open(\"batch4_genepop_heading_temp.txt\", \"w\")\n",
    "\n",
    "for line in infile:\n",
    "    if not line.startswith(\"Pop\"):\n",
    "        outfile.write(line)\n",
    "    else:\n",
    "        outfile.write(line)\n",
    "        break\n",
    "\n",
    "        \n",
    "outfile.close()\n",
    "\n",
    "poplist = [\"PO\", \"GE\", \"JB\", \"YS\", \"JUK\",\"NA\", \"BOR\"]\n",
    "\n",
    "newgen = open(\"batch_4_final_filtered_po-bor.gen\",\"w\")\n",
    "heading = open(\"batch4_genepop_heading_temp.txt\", \"r\")\n",
    "\n",
    "for line in heading:\n",
    "    newgen.write(line)\n",
    "heading.close()\n",
    "\n",
    "\n",
    "for line in infile:\n",
    "    if line.startswith(\"Pop\") or line.startswith(\"PO\") or line.startswith(\"BOR\"):\n",
    "        newgen.write(line)\n",
    "infile.close()\n",
    "newgen.close()"
   ]
  },
  {
   "cell_type": "markdown",
   "metadata": {},
   "source": [
    "#### READ THROUGH ML RELATE OUTPUT FOR SIBS, POHANG COMPARISONS"
   ]
  },
  {
   "cell_type": "code",
   "execution_count": 23,
   "metadata": {
    "collapsed": false,
    "scrolled": true
   },
   "outputs": [
    {
     "name": "stdout",
     "output_type": "stream",
     "text": [
      "8  detected related individuals\n",
      "520  unrelated individuals\n"
     ]
    }
   ],
   "source": [
    "infile = open(\"batch_4_MLrelate_poh-ge.txt\", \"r\")\n",
    "outfile = open(\"batch_4_MLrelate_relatedIndivids.txt\", \"w\")\n",
    "\n",
    "outfile.write(\"relatedness\\tsample1\\tsample2\\n\")\n",
    "\n",
    "for line in infile:\n",
    "    if line.startswith(\"Ind1\"):\n",
    "        break\n",
    "\n",
    "r_count = 0\n",
    "u_count = 0\n",
    "\n",
    "\n",
    "for line in infile:\n",
    "    linelist = line.strip().split()\n",
    "    if len(linelist) > 2:\n",
    "        relate = linelist[2]\n",
    "        if relate == \"HS\" or relate == \"FS\":\n",
    "            outfile.write(relate + \"\\t\" + linelist[0] + \"\\t\" + linelist[1] + \"\\n\")\n",
    "            r_count += 1\n",
    "        else:\n",
    "            u_count += 1\n",
    "infile.close()\n",
    "outfile.close()\n",
    "\n",
    "print r_count, \" detected related individuals\"\n",
    "print u_count, \" unrelated individuals\""
   ]
  },
  {
   "cell_type": "code",
   "execution_count": 27,
   "metadata": {
    "collapsed": false
   },
   "outputs": [
    {
     "data": {
      "text/plain": [
       "u'/mnt/hgfs/Pacific cod/DataAnalysis/PCod-Korea-repo/analyses/ml_relate'"
      ]
     },
     "execution_count": 27,
     "metadata": {},
     "output_type": "execute_result"
    }
   ],
   "source": [
    "pwd"
   ]
  },
  {
   "cell_type": "code",
   "execution_count": 28,
   "metadata": {
    "collapsed": false
   },
   "outputs": [
    {
     "name": "stdout",
     "output_type": "stream",
     "text": [
      "\u001b[0m\u001b[01;32mbatch_4_final_filtered_po-bor.gen\u001b[0m*    \u001b[01;32mbatch_4_final_filtered_po-na.gen\u001b[0m*\r\n",
      "\u001b[01;32mbatch_4_final_filtered_po-ge14.gen\u001b[0m*   \u001b[01;32mbatch_4_final_filtered_po-ys.gen\u001b[0m*\r\n",
      "\u001b[01;32mbatch_4_final_filtered_poh_ge15.gen\u001b[0m*  \u001b[01;32mbatch4_genepop_heading_temp.txt\u001b[0m*\r\n",
      "\u001b[01;32mbatch_4_final_filtered_po-jb07.gen\u001b[0m*   \u001b[01;32mbatch_4_MLrelate_poh-ge.txt\u001b[0m*\r\n",
      "\u001b[01;32mbatch_4_final_filtered_po-jb08.gen\u001b[0m*   \u001b[01;32mbatch_4_MLrelate_relatedIndivids.txt\u001b[0m*\r\n",
      "\u001b[01;32mbatch_4_final_filtered_po-juk.gen\u001b[0m*\r\n"
     ]
    }
   ],
   "source": [
    "ls"
   ]
  },
  {
   "cell_type": "code",
   "execution_count": 30,
   "metadata": {
    "collapsed": false
   },
   "outputs": [
    {
     "name": "stdout",
     "output_type": "stream",
     "text": [
      "31  detected related individuals\n",
      "159  unrelated individuals\n"
     ]
    }
   ],
   "source": [
    "infile = open(\"batch_4_MLrelate_poh-bor.txt\", \"r\")\n",
    "outfile = open(\"batch_4_MLrelate_relatedIndivids.txt\", \"a\")\n",
    "\n",
    "for line in infile:\n",
    "    if line.startswith(\"Ind1\"):\n",
    "        break\n",
    "\n",
    "r_count = 0\n",
    "u_count = 0\n",
    "\n",
    "\n",
    "for line in infile:\n",
    "    linelist = line.strip().split()\n",
    "    if len(linelist) > 2:\n",
    "        relate = linelist[2]\n",
    "        if relate == \"HS\" or relate == \"FS\":\n",
    "            outfile.write(relate + \"\\t\" + linelist[0] + \"\\t\" + linelist[1] + \"\\n\")\n",
    "            r_count += 1\n",
    "        else:\n",
    "            u_count += 1\n",
    "infile.close()\n",
    "outfile.close()\n",
    "\n",
    "print r_count, \" detected related individuals\"\n",
    "print u_count, \" unrelated individuals\""
   ]
  },
  {
   "cell_type": "code",
   "execution_count": 31,
   "metadata": {
    "collapsed": false
   },
   "outputs": [
    {
     "name": "stdout",
     "output_type": "stream",
     "text": [
      "1  detected related individuals\n",
      "189  unrelated individuals\n"
     ]
    }
   ],
   "source": [
    "infile = open(\"batch_4_MLrelate_poh-ge14.txt\", \"r\")\n",
    "outfile = open(\"batch_4_MLrelate_relatedIndivids.txt\", \"a\")\n",
    "\n",
    "for line in infile:\n",
    "    if line.startswith(\"Ind1\"):\n",
    "        break\n",
    "\n",
    "r_count = 0\n",
    "u_count = 0\n",
    "\n",
    "\n",
    "for line in infile:\n",
    "    linelist = line.strip().split()\n",
    "    if len(linelist) > 2:\n",
    "        relate = linelist[2]\n",
    "        if relate == \"HS\" or relate == \"FS\":\n",
    "            outfile.write(relate + \"\\t\" + linelist[0] + \"\\t\" + linelist[1] + \"\\n\")\n",
    "            r_count += 1\n",
    "        else:\n",
    "            u_count += 1\n",
    "infile.close()\n",
    "outfile.close()\n",
    "\n",
    "print r_count, \" detected related individuals\"\n",
    "print u_count, \" unrelated individuals\""
   ]
  },
  {
   "cell_type": "code",
   "execution_count": 32,
   "metadata": {
    "collapsed": false
   },
   "outputs": [
    {
     "name": "stdout",
     "output_type": "stream",
     "text": [
      "1  detected related individuals\n",
      "189  unrelated individuals\n"
     ]
    }
   ],
   "source": [
    "infile = open(\"batch_4_MLrelate_poh-jb07.txt\", \"r\")\n",
    "outfile = open(\"batch_4_MLrelate_relatedIndivids.txt\", \"a\")\n",
    "\n",
    "for line in infile:\n",
    "    if line.startswith(\"Ind1\"):\n",
    "        break\n",
    "\n",
    "r_count = 0\n",
    "u_count = 0\n",
    "\n",
    "\n",
    "for line in infile:\n",
    "    linelist = line.strip().split()\n",
    "    if len(linelist) > 2:\n",
    "        relate = linelist[2]\n",
    "        if relate == \"HS\" or relate == \"FS\":\n",
    "            outfile.write(relate + \"\\t\" + linelist[0] + \"\\t\" + linelist[1] + \"\\n\")\n",
    "            r_count += 1\n",
    "        else:\n",
    "            u_count += 1\n",
    "infile.close()\n",
    "outfile.close()\n",
    "\n",
    "print r_count, \" detected related individuals\"\n",
    "print u_count, \" unrelated individuals\""
   ]
  },
  {
   "cell_type": "code",
   "execution_count": 33,
   "metadata": {
    "collapsed": false
   },
   "outputs": [
    {
     "name": "stdout",
     "output_type": "stream",
     "text": [
      "2  detected related individuals\n",
      "404  unrelated individuals\n"
     ]
    }
   ],
   "source": [
    "infile = open(\"batch_4_MLrelate_poh-jb08.txt\", \"r\")\n",
    "outfile = open(\"batch_4_MLrelate_relatedIndivids.txt\", \"a\")\n",
    "\n",
    "for line in infile:\n",
    "    if line.startswith(\"Ind1\"):\n",
    "        break\n",
    "\n",
    "r_count = 0\n",
    "u_count = 0\n",
    "\n",
    "\n",
    "for line in infile:\n",
    "    linelist = line.strip().split()\n",
    "    if len(linelist) > 2:\n",
    "        relate = linelist[2]\n",
    "        if relate == \"HS\" or relate == \"FS\":\n",
    "            outfile.write(relate + \"\\t\" + linelist[0] + \"\\t\" + linelist[1] + \"\\n\")\n",
    "            r_count += 1\n",
    "        else:\n",
    "            u_count += 1\n",
    "infile.close()\n",
    "outfile.close()\n",
    "\n",
    "print r_count, \" detected related individuals\"\n",
    "print u_count, \" unrelated individuals\""
   ]
  },
  {
   "cell_type": "code",
   "execution_count": 34,
   "metadata": {
    "collapsed": false
   },
   "outputs": [
    {
     "name": "stdout",
     "output_type": "stream",
     "text": [
      "69  detected related individuals\n",
      "162  unrelated individuals\n"
     ]
    }
   ],
   "source": [
    "infile = open(\"batch_4_MLrelate_poh-juk.txt\", \"r\")\n",
    "outfile = open(\"batch_4_MLrelate_relatedIndivids.txt\", \"a\")\n",
    "\n",
    "for line in infile:\n",
    "    if line.startswith(\"Ind1\"):\n",
    "        break\n",
    "\n",
    "r_count = 0\n",
    "u_count = 0\n",
    "\n",
    "\n",
    "for line in infile:\n",
    "    linelist = line.strip().split()\n",
    "    if len(linelist) > 2:\n",
    "        relate = linelist[2]\n",
    "        if relate == \"HS\" or relate == \"FS\":\n",
    "            outfile.write(relate + \"\\t\" + linelist[0] + \"\\t\" + linelist[1] + \"\\n\")\n",
    "            r_count += 1\n",
    "        else:\n",
    "            u_count += 1\n",
    "infile.close()\n",
    "outfile.close()\n",
    "\n",
    "print r_count, \" detected related individuals\"\n",
    "print u_count, \" unrelated individuals\""
   ]
  },
  {
   "cell_type": "code",
   "execution_count": 35,
   "metadata": {
    "collapsed": false
   },
   "outputs": [
    {
     "name": "stdout",
     "output_type": "stream",
     "text": [
      "3  detected related individuals\n",
      "117  unrelated individuals\n"
     ]
    }
   ],
   "source": [
    "infile = open(\"batch_4_MLrelate_poh-na.txt\", \"r\")\n",
    "outfile = open(\"batch_4_MLrelate_relatedIndivids.txt\", \"a\")\n",
    "\n",
    "for line in infile:\n",
    "    if line.startswith(\"Ind1\"):\n",
    "        break\n",
    "\n",
    "r_count = 0\n",
    "u_count = 0\n",
    "\n",
    "\n",
    "for line in infile:\n",
    "    linelist = line.strip().split()\n",
    "    if len(linelist) > 2:\n",
    "        relate = linelist[2]\n",
    "        if relate == \"HS\" or relate == \"FS\":\n",
    "            outfile.write(relate + \"\\t\" + linelist[0] + \"\\t\" + linelist[1] + \"\\n\")\n",
    "            r_count += 1\n",
    "        else:\n",
    "            u_count += 1\n",
    "infile.close()\n",
    "outfile.close()\n",
    "\n",
    "print r_count, \" detected related individuals\"\n",
    "print u_count, \" unrelated individuals\""
   ]
  },
  {
   "cell_type": "code",
   "execution_count": 36,
   "metadata": {
    "collapsed": false
   },
   "outputs": [
    {
     "name": "stdout",
     "output_type": "stream",
     "text": [
      "38  detected related individuals\n",
      "215  unrelated individuals\n"
     ]
    }
   ],
   "source": [
    "infile = open(\"batch_4_MLrelate_poh-ys.txt\", \"r\")\n",
    "outfile = open(\"batch_4_MLrelate_relatedIndivids.txt\", \"a\")\n",
    "\n",
    "for line in infile:\n",
    "    if line.startswith(\"Ind1\"):\n",
    "        break\n",
    "\n",
    "r_count = 0\n",
    "u_count = 0\n",
    "\n",
    "\n",
    "for line in infile:\n",
    "    linelist = line.strip().split()\n",
    "    if len(linelist) > 2:\n",
    "        relate = linelist[2]\n",
    "        if relate == \"HS\" or relate == \"FS\":\n",
    "            outfile.write(relate + \"\\t\" + linelist[0] + \"\\t\" + linelist[1] + \"\\n\")\n",
    "            r_count += 1\n",
    "        else:\n",
    "            u_count += 1\n",
    "infile.close()\n",
    "outfile.close()\n",
    "\n",
    "print r_count, \" detected related individuals\"\n",
    "print u_count, \" unrelated individuals\""
   ]
  },
  {
   "cell_type": "markdown",
   "metadata": {
    "collapsed": true
   },
   "source": [
    "\n",
    "\n",
    "\n",
    "<br>\n",
    "\n",
    "### ML Relate on all individuals - \n",
    "\n",
    "\n",
    "I removed the \"Pop\" separations in the genepop file so that all of the individuals were considered the same population. I then put the output into a text file. \n",
    "\n",
    "Below is the code to take the text file and produce a list of full and half siblings. \n",
    "\n",
    "#### 6/20/2017"
   ]
  },
  {
   "cell_type": "code",
   "execution_count": 1,
   "metadata": {
    "collapsed": false
   },
   "outputs": [
    {
     "data": {
      "text/plain": [
       "u'/mnt/hgfs/Pacific cod/DataAnalysis/PCod-Korea-repo/notebooks'"
      ]
     },
     "execution_count": 1,
     "metadata": {},
     "output_type": "execute_result"
    }
   ],
   "source": [
    "pwd"
   ]
  },
  {
   "cell_type": "code",
   "execution_count": 2,
   "metadata": {
    "collapsed": false
   },
   "outputs": [
    {
     "name": "stdout",
     "output_type": "stream",
     "text": [
      "/mnt/hgfs/Pacific cod/DataAnalysis/PCod-Korea-repo/analyses/ml_relate\n"
     ]
    }
   ],
   "source": [
    "cd ../analyses/ml_relate/"
   ]
  },
  {
   "cell_type": "code",
   "execution_count": 3,
   "metadata": {
    "collapsed": false
   },
   "outputs": [
    {
     "name": "stdout",
     "output_type": "stream",
     "text": [
      "33  detected related individuals\n",
      "27228  unrelated individuals\n"
     ]
    }
   ],
   "source": [
    "infile = open(\"batch_4_final_filtered_all.txt\", \"r\")\n",
    "outfile = open(\"batch_4_MLrelate_relatedIndivids_HS.txt\", \"w\")\n",
    "\n",
    "for line in infile:\n",
    "    if line.startswith(\"Ind1\"):\n",
    "        break\n",
    "\n",
    "r_count = 0\n",
    "u_count = 0\n",
    "\n",
    "\n",
    "for line in infile:\n",
    "    linelist = line.strip().split()\n",
    "    if len(linelist) > 2:\n",
    "        relate = linelist[2]\n",
    "        if relate == \"HS\":\n",
    "            outfile.write(relate + \"\\t\" + linelist[0] + \"\\t\" + linelist[1] + \"\\n\")\n",
    "            r_count += 1\n",
    "        else:\n",
    "            u_count += 1\n",
    "infile.close()\n",
    "outfile.close()\n",
    "\n",
    "print r_count, \" detected related individuals\"\n",
    "print u_count, \" unrelated individuals\""
   ]
  },
  {
   "cell_type": "code",
   "execution_count": 4,
   "metadata": {
    "collapsed": false
   },
   "outputs": [
    {
     "name": "stdout",
     "output_type": "stream",
     "text": [
      "24  detected related individuals\n",
      "27237  unrelated individuals\n"
     ]
    }
   ],
   "source": [
    "infile = open(\"batch_4_final_filtered_all.txt\", \"r\")\n",
    "outfile = open(\"batch_4_MLrelate_relatedIndivids_FS.txt\", \"w\")\n",
    "\n",
    "for line in infile:\n",
    "    if line.startswith(\"Ind1\"):\n",
    "        break\n",
    "\n",
    "r_count = 0\n",
    "u_count = 0\n",
    "\n",
    "\n",
    "for line in infile:\n",
    "    linelist = line.strip().split()\n",
    "    if len(linelist) > 2:\n",
    "        relate = linelist[2]\n",
    "        if relate == \"FS\":\n",
    "            outfile.write(relate + \"\\t\" + linelist[0] + \"\\t\" + linelist[1] + \"\\n\")\n",
    "            r_count += 1\n",
    "        else:\n",
    "            u_count += 1\n",
    "infile.close()\n",
    "outfile.close()\n",
    "\n",
    "print r_count, \" detected related individuals\"\n",
    "print u_count, \" unrelated individuals\""
   ]
  },
  {
   "cell_type": "markdown",
   "metadata": {},
   "source": [
    "\n",
    "\n",
    "<br>\n",
    "\n",
    "So that genepop had replicates in it; almost all of the Full Sib pairs are replicates. Without replicates is below..."
   ]
  },
  {
   "cell_type": "code",
   "execution_count": 6,
   "metadata": {
    "collapsed": false
   },
   "outputs": [
    {
     "name": "stdout",
     "output_type": "stream",
     "text": [
      "26  detected related individuals\n",
      "22552  unrelated individuals\n"
     ]
    }
   ],
   "source": [
    "infile = open(\"batch_4_final_filtered_all_noreps.txt\", \"r\")\n",
    "outfile = open(\"batch_4_MLrelate_relatedIndivids_noreps_HS.txt\", \"w\")\n",
    "\n",
    "for line in infile:\n",
    "    if line.startswith(\"Ind1\"):\n",
    "        break\n",
    "\n",
    "r_count = 0\n",
    "u_count = 0\n",
    "\n",
    "\n",
    "for line in infile:\n",
    "    linelist = line.strip().split()\n",
    "    if len(linelist) > 2:\n",
    "        relate = linelist[2]\n",
    "        if relate == \"HS\":\n",
    "            outfile.write(relate + \"\\t\" + linelist[0] + \"\\t\" + linelist[1] + \"\\n\")\n",
    "            r_count += 1\n",
    "        else:\n",
    "            u_count += 1\n",
    "infile.close()\n",
    "outfile.close()\n",
    "\n",
    "print r_count, \" detected related individuals\"\n",
    "print u_count, \" unrelated individuals\""
   ]
  },
  {
   "cell_type": "code",
   "execution_count": 8,
   "metadata": {
    "collapsed": false
   },
   "outputs": [
    {
     "name": "stdout",
     "output_type": "stream",
     "text": [
      "3  detected related individuals\n",
      "22575  unrelated individuals\n"
     ]
    }
   ],
   "source": [
    "infile = open(\"batch_4_final_filtered_all_noreps.txt\", \"r\")\n",
    "outfile = open(\"batch_4_MLrelate_relatedIndivids_noreps_FS.txt\", \"w\")\n",
    "\n",
    "for line in infile:\n",
    "    if line.startswith(\"Ind1\"):\n",
    "        break\n",
    "\n",
    "r_count = 0\n",
    "u_count = 0\n",
    "\n",
    "\n",
    "for line in infile:\n",
    "    linelist = line.strip().split()\n",
    "    if len(linelist) > 2:\n",
    "        relate = linelist[2]\n",
    "        if relate == \"FS\":\n",
    "            outfile.write(relate + \"\\t\" + linelist[0] + \"\\t\" + linelist[1] + \"\\n\")\n",
    "            r_count += 1\n",
    "        else:\n",
    "            u_count += 1\n",
    "infile.close()\n",
    "outfile.close()\n",
    "\n",
    "print r_count, \" detected related individuals\"\n",
    "print u_count, \" unrelated individuals\""
   ]
  },
  {
   "cell_type": "markdown",
   "metadata": {
    "collapsed": true
   },
   "source": [
    "\n",
    "<br>\n",
    "\n",
    "Now I want to create a tab- deliminated file that has each individual full / half - sibling pair along with their heterozygosity. "
   ]
  },
  {
   "cell_type": "code",
   "execution_count": 9,
   "metadata": {
    "collapsed": false
   },
   "outputs": [
    {
     "data": {
      "text/plain": [
       "u'/mnt/hgfs/Pacific cod/DataAnalysis/PCod-Korea-repo/analyses/ml_relate'"
      ]
     },
     "execution_count": 9,
     "metadata": {},
     "output_type": "execute_result"
    }
   ],
   "source": [
    "pwd"
   ]
  },
  {
   "cell_type": "code",
   "execution_count": 11,
   "metadata": {
    "collapsed": false
   },
   "outputs": [
    {
     "name": "stdout",
     "output_type": "stream",
     "text": [
      "Found  29  related individuals and  22549  unrelated individuals.\n"
     ]
    }
   ],
   "source": [
    "## write out all related (half and full sibs) to a new file ##\n",
    "\n",
    "rfile = open(\"batch_4_final_filtered_all_noreps.txt\", \"r\")\n",
    "tempfile = open(\"batch_4_related_temp.txt\", \"w\")\n",
    "\n",
    "\n",
    "tempfile.write(\"sample1\\tho_sample1\\tsample2\\tho_sample2\\trelated\\tLLofR\\n\")\n",
    "\n",
    "for line in rfile:\n",
    "    if line.startswith(\"Ind1\"):\n",
    "        break\n",
    "\n",
    "r_count = 0\n",
    "u_count = 0\n",
    "\n",
    "\n",
    "for line in rfile:\n",
    "    linelist = line.strip().split()\n",
    "    if len(linelist) > 2:\n",
    "        relate = linelist[2]\n",
    "        if relate == \"FS\" or relate == \"HS\":\n",
    "            tempfile.write(linelist[0] + \"\\t\" + linelist[1] + \"\\t\" + relate + \"\\t\" + linelist[3]+ \"\\n\")\n",
    "            r_count += 1\n",
    "        else:\n",
    "            u_count += 1\n",
    "rfile.close()\n",
    "tempfile.close()\n",
    "\n",
    "print \"Found \", r_count, \" related individuals and \", u_count, \" unrelated individuals.\"\n",
    "\n",
    "\n",
    "## save all heterozygosities to a dictionary ##\n",
    "\n",
    "hfile = open(\"../batch4_HetvReadDepth_filtered\", \"r\")\n",
    "het_dict = {}\n",
    "for line in hfile:\n",
    "    linelist = line.strip().split()\n",
    "    het_dict[linelist[0]] = linelist[2]\n",
    "hfile.close()\n",
    "\n",
    "\n",
    "## write out both relatedness and heterozygosity of those individuals to a new file ## \n",
    "\n",
    "tempfile = open(\"batch_4_related_temp.txt\", \"r\")\n",
    "outfile = open(\"batch_4_related_heterozygosities.txt\", \"w\")\n",
    "\n",
    "\n",
    "header = tempfile.readline()\n",
    "outfile.write(header)\n",
    "\n",
    "for line in tempfile: \n",
    "    linelist = line.strip().split()\n",
    "    sample1 = linelist[0]\n",
    "    sample2 = linelist[1] \n",
    "    r = linelist[2]\n",
    "    loglik = linelist[3]\n",
    "    outfile.write(sample1 + \"\\t\" + het_dict[sample1] + \"\\t\" + sample2 + \"\\t\" + het_dict[sample2] + \"\\t\" + r + \"\\t\" + loglik + \"\\n\")\n",
    "tempfile.close()\n",
    "outfile.close()"
   ]
  },
  {
   "cell_type": "code",
   "execution_count": 12,
   "metadata": {
    "collapsed": false
   },
   "outputs": [
    {
     "name": "stdout",
     "output_type": "stream",
     "text": [
      "sample1\tho_sample1\tsample2\tho_sample2\trelated\tLLofR\r\n",
      "GE011215_10.1\t0.205217898\tGE011215_08.1\t0.238660258\tHS\t-6116.25\r\n",
      "GE011215_14.1\t0.179453647\tGE011215_10.1\t0.205217898\tHS\t-6116.44\r\n",
      "GE012315_06.1\t0.20958784\tGE012315_05.1\t0.185489793\tFS\t-5122.99\r\n",
      "GE012315_09.1\t0.347800926\tGE012315_08.1\t0.216593886\tHS\t-6968.56\r\n",
      "GE012315_11.1\t0.314793412\tGE012315_09.1\t0.347800926\tHS\t-7322.99\r\n",
      "NA021015_06.1\t0.26244213\tPO020515_17.1\t0.269102023\tHS\t-7138.49\r\n",
      "NA021015_09.1\t0.290551295\tPO020515_17.1\t0.269102023\tHS\t-7067.84\r\n",
      "NA021015_09.1\t0.290551295\tNA021015_06.1\t0.26244213\tHS\t-7140.00\r\n",
      "YS_121316_05\t0.23843736\tYS_121316_03\t0.180882353\tHS\t-6775.11\r\n"
     ]
    }
   ],
   "source": [
    "!head batch_4_related_heterozygosities.txt"
   ]
  },
  {
   "cell_type": "markdown",
   "metadata": {},
   "source": [
    "\n",
    "\n",
    "<br>\n",
    "<br>\n",
    "\n",
    "**Now to plot those individuals' heterozygosities against the rest of the individuals...**"
   ]
  },
  {
   "cell_type": "code",
   "execution_count": 37,
   "metadata": {
    "collapsed": false
   },
   "outputs": [
    {
     "name": "stdout",
     "output_type": "stream",
     "text": [
      "Processed  235  samples.\n"
     ]
    }
   ],
   "source": [
    "sibfile = open(\"batch_4_related_heterozygosities.txt\", \"r\")\n",
    "\n",
    "siblist = []\n",
    "sibfile.readline()\n",
    "for line in sibfile:\n",
    "    sib1 = line.strip().split()[0]\n",
    "    sib2 = line.strip().split()[2]\n",
    "    siblist.append(sib1)\n",
    "    siblist.append(sib2)\n",
    "sibfile.close()\n",
    "\n",
    "\n",
    "myfile = open(\"../batch4_HetvReadDepth_filtered\", \"r\")\n",
    "\n",
    "count = 0\n",
    "read_depth = []\n",
    "prop_het = []\n",
    "samples = []\n",
    "colors = []\n",
    "\n",
    "for line in myfile: \n",
    "    if count > 1: \n",
    "        sample = line.strip().split()[0]\n",
    "        new_depth = line.strip().split()[1]\n",
    "        new_het = line.strip().split()[2]\n",
    "        read_depth.append(new_depth)\n",
    "        prop_het.append(new_het)\n",
    "        samples.append(sample)\n",
    "        count += 1\n",
    "        if sample in siblist:\n",
    "            colors.append(\"mediumaquamarine\")\n",
    "        else:\n",
    "            colors.append(\"navy\")\n",
    "    else: \n",
    "        count += 1\n",
    "\n",
    "myfile.close()\n",
    "\n",
    "print \"Processed \", count, \" samples.\""
   ]
  },
  {
   "cell_type": "code",
   "execution_count": 38,
   "metadata": {
    "collapsed": true
   },
   "outputs": [],
   "source": [
    "length = len(read_depth)\n",
    "for i in range(0,length):\n",
    "    read_depth[i] = float(read_depth[i])\n",
    "\n",
    "length = len(prop_het)\n",
    "for i in range(0,length):\n",
    "    prop_het[i] = float(prop_het[i])"
   ]
  },
  {
   "cell_type": "code",
   "execution_count": 39,
   "metadata": {
    "collapsed": true
   },
   "outputs": [],
   "source": [
    "import numpy as np\n",
    "import matplotlib.pyplot as plt"
   ]
  },
  {
   "cell_type": "code",
   "execution_count": 40,
   "metadata": {
    "collapsed": false
   },
   "outputs": [
    {
     "data": {
      "image/png": "[encoded data removed]",
      "text/plain": [
       "<matplotlib.figure.Figure at 0x7ffaae861490>"
      ]
     },
     "metadata": {},
     "output_type": "display_data"
    }
   ],
   "source": [
    "plt.scatter(read_depth, prop_het, color = colors)\n",
    "plt.suptitle(\"Heterozygosity by Read Depth for Related Individuals\\n (Half and Full Sibs)\")\n",
    "plt.xlabel(\"Read depth\")\n",
    "plt.ylabel(\"Heterozygosity\")\n",
    "plt.show()"
   ]
  },
  {
   "cell_type": "code",
   "execution_count": 41,
   "metadata": {
    "collapsed": true
   },
   "outputs": [],
   "source": [
    "plt.close()"
   ]
  },
  {
   "cell_type": "markdown",
   "metadata": {},
   "source": [
    "I want to know which related individuals have heterozygosities above 0.23 -- I think I'll try to rerun these in the next batch starting from the extraction step (with bleach). "
   ]
  },
  {
   "cell_type": "code",
   "execution_count": 42,
   "metadata": {
    "collapsed": false
   },
   "outputs": [
    {
     "name": "stdout",
     "output_type": "stream",
     "text": [
      "GE011215_08.1\n",
      "GE012315_11.1\n",
      "NA021015_09.1\n",
      "PO010715_26\n",
      "YS121315_14.1\n",
      "GE012315_09.1\n",
      "YS_121316_20.1\n",
      "NA021015_06.1\n",
      "BOR07_10.1\n",
      "PO020515_17.1\n",
      "JUK07_06.1\n",
      "YS_121316_05\n"
     ]
    }
   ],
   "source": [
    "sibfile = open(\"batch_4_related_heterozygosities.txt\", \"r\")\n",
    "\n",
    "sibdict = {}\n",
    "sibfile.readline()\n",
    "for line in sibfile:\n",
    "    sibdict[line.strip().split()[0]] = line.strip().split()[1]\n",
    "    sibdict[line.strip().split()[2]] = line.strip().split()[3]\n",
    "sibfile.close()\n",
    "\n",
    "for sib in sibdict.keys():\n",
    "    if float(sibdict[sib]) > 0.23:\n",
    "        print sib"
   ]
  },
  {
   "cell_type": "markdown",
   "metadata": {},
   "source": [
    "\n",
    "\n",
    "<Br>\n",
    "** Full Sibs ONly ****************"
   ]
  },
  {
   "cell_type": "code",
   "execution_count": 30,
   "metadata": {
    "collapsed": false
   },
   "outputs": [
    {
     "name": "stdout",
     "output_type": "stream",
     "text": [
      "Processed  235  samples.\n"
     ]
    }
   ],
   "source": [
    "sibfile = open(\"batch_4_related_heterozygosities.txt\", \"r\")\n",
    "\n",
    "siblist = []\n",
    "sibfile.readline()\n",
    "for line in sibfile:\n",
    "    if line.strip().split()[4] == \"FS\":\n",
    "        sib1 = line.strip().split()[0]\n",
    "        sib2 = line.strip().split()[2]\n",
    "        siblist.append(sib1)\n",
    "        siblist.append(sib2)\n",
    "sibfile.close()\n",
    "\n",
    "\n",
    "myfile = open(\"../batch4_HetvReadDepth_filtered\", \"r\")\n",
    "\n",
    "count = 0\n",
    "read_depth = []\n",
    "prop_het = []\n",
    "samples = []\n",
    "colors = []\n",
    "\n",
    "for line in myfile: \n",
    "    if count > 1: \n",
    "        sample = line.strip().split()[0]\n",
    "        new_depth = line.strip().split()[1]\n",
    "        new_het = line.strip().split()[2]\n",
    "        read_depth.append(new_depth)\n",
    "        prop_het.append(new_het)\n",
    "        samples.append(sample)\n",
    "        count += 1\n",
    "        if sample in siblist:\n",
    "            colors.append(\"mediumaquamarine\")\n",
    "        else:\n",
    "            colors.append(\"navy\")\n",
    "    else: \n",
    "        count += 1\n",
    "\n",
    "myfile.close()\n",
    "\n",
    "print \"Processed \", count, \" samples.\""
   ]
  },
  {
   "cell_type": "code",
   "execution_count": 31,
   "metadata": {
    "collapsed": true
   },
   "outputs": [],
   "source": [
    "length = len(read_depth)\n",
    "for i in range(0,length):\n",
    "    read_depth[i] = float(read_depth[i])\n",
    "\n",
    "length = len(prop_het)\n",
    "for i in range(0,length):\n",
    "    prop_het[i] = float(prop_het[i])"
   ]
  },
  {
   "cell_type": "code",
   "execution_count": 32,
   "metadata": {
    "collapsed": true
   },
   "outputs": [],
   "source": [
    "import numpy as np\n",
    "import matplotlib.pyplot as plt"
   ]
  },
  {
   "cell_type": "code",
   "execution_count": 35,
   "metadata": {
    "collapsed": false
   },
   "outputs": [
    {
     "data": {
      "image/png": "[encoded data removed]",
      "text/plain": [
       "<matplotlib.figure.Figure at 0x7ffaae7b22d0>"
      ]
     },
     "metadata": {},
     "output_type": "display_data"
    }
   ],
   "source": [
    "plt.scatter(read_depth, prop_het, color = colors)\n",
    "plt.suptitle(\"Heterozygosity by Read Depth for Full Sibs\")\n",
    "plt.xlabel(\"Read depth\")\n",
    "plt.ylabel(\"Heterozygosity\")\n",
    "plt.show()"
   ]
  },
  {
   "cell_type": "code",
   "execution_count": 36,
   "metadata": {
    "collapsed": true
   },
   "outputs": [],
   "source": [
    "plt.close()"
   ]
  },
  {
   "cell_type": "markdown",
   "metadata": {},
   "source": [
    "\n",
    "\n",
    "<br>\n",
    "<br>\n",
    "#### 6/21/2017\n",
    "\n",
    "I made an excel spreadsheet to compare heterozygosities and plate locations (both extraction and RAD plates) of the half   and full sibs found above. "
   ]
  },
  {
   "cell_type": "markdown",
   "metadata": {
    "collapsed": true
   },
   "source": [
    "\n",
    "\n",
    "\n",
    "<br>\n",
    "\n",
    "<br>\n",
    "### Comparison to Atlantic cod data\n",
    "\n",
    "Lorenz has spreadsheets with the `genalex` output that he used to identify relatedness. I'm going to compare ML relate output from the Alaskan data (all one population) with the individuals he identified as contaminated. \n",
    "\n",
    "\n"
   ]
  },
  {
   "cell_type": "code",
   "execution_count": 1,
   "metadata": {
    "collapsed": false
   },
   "outputs": [
    {
     "data": {
      "text/plain": [
       "u'/mnt/hgfs/Pacific cod/DataAnalysis/PCod-Korea-repo/notebooks'"
      ]
     },
     "execution_count": 1,
     "metadata": {},
     "output_type": "execute_result"
    }
   ],
   "source": [
    "pwd"
   ]
  },
  {
   "cell_type": "code",
   "execution_count": 2,
   "metadata": {
    "collapsed": false
   },
   "outputs": [
    {
     "name": "stdout",
     "output_type": "stream",
     "text": [
      "/mnt/hgfs/Pacific cod/DataAnalysis/PCod-Korea-repo/analyses/ml_relate\n"
     ]
    }
   ],
   "source": [
    "cd ../analyses/ml_relate/"
   ]
  },
  {
   "cell_type": "code",
   "execution_count": 3,
   "metadata": {
    "collapsed": false
   },
   "outputs": [
    {
     "name": "stdout",
     "output_type": "stream",
     "text": [
      "49  detected related individuals\n",
      "40706  unrelated individuals\n"
     ]
    }
   ],
   "source": [
    "infile = open(\"AK_batch2_MLrelate_output_1pop.txt\", \"r\")\n",
    "outfile = open(\"AK_batch2_MLrelate_relatedIndivids.txt\", \"w\")\n",
    "\n",
    "for line in infile:\n",
    "    if line.startswith(\"Ind1\"):\n",
    "        break\n",
    "\n",
    "r_count = 0\n",
    "u_count = 0\n",
    "\n",
    "\n",
    "for line in infile:\n",
    "    linelist = line.strip().split()\n",
    "    if len(linelist) > 2:\n",
    "        relate = linelist[2]\n",
    "        if relate == \"FS\":\n",
    "            outfile.write(relate + \"\\t\" + linelist[0] + \"\\t\" + linelist[1] + \"\\n\")\n",
    "            r_count += 1\n",
    "        else:\n",
    "            u_count += 1\n",
    "infile.close()\n",
    "outfile.close()\n",
    "\n",
    "print r_count, \" detected related individuals\"\n",
    "print u_count, \" unrelated individuals\""
   ]
  },
  {
   "cell_type": "code",
   "execution_count": 6,
   "metadata": {
    "collapsed": false
   },
   "outputs": [
    {
     "name": "stdout",
     "output_type": "stream",
     "text": [
      "FS\tKOD03_057\tKOD03_055\r\n",
      "FS\tKOD03_061\tKOD03_035\r\n",
      "FS\tKOD03_064\tKOD03_055\r\n",
      "FS\tKOD03_064\tKOD03_063\r\n",
      "FS\tAD06_017\tAD06_001\r\n",
      "FS\tAD06_017\tAD06_011\r\n",
      "FS\tAD06_019\tAD06_011\r\n",
      "FS\tWC05_002\tWC05_001\r\n",
      "FS\tWC05_012\tWC05_001\r\n",
      "FS\tWC05_015\tWC05_014\r\n",
      "FS\tWC05_018\tWC05_010\r\n",
      "FS\tWC05_018\tWC05_017\r\n",
      "FS\tHS04_006\tHS04_005\r\n",
      "FS\tHS04_008\tHS04_006\r\n",
      "FS\tHS04_012\tHS04_001\r\n",
      "FS\tHS04_015\tHS04_006\r\n",
      "FS\tHS04_015\tHS04_008\r\n",
      "FS\tHS04_015\tHS04_014\r\n",
      "FS\tPS12_006\tPS12_008\r\n",
      "FS\tPS12_015\tPS12_008\r\n",
      "FS\tPS12_015\tPS12_006\r\n",
      "FS\tPS12_014\tPS12_006\r\n",
      "FS\tPS12_014\tPS12_015\r\n",
      "FS\tPS12_001\tPS12_002\r\n",
      "FS\tPS12_041\tPS12_042\r\n"
     ]
    }
   ],
   "source": [
    "!head -n 25 AK_batch2_MLrelate_relatedIndivids.txt"
   ]
  },
  {
   "cell_type": "markdown",
   "metadata": {},
   "source": [
    "**From Lorenz's spreadsheet:**\n",
    "\n",
    "WC05_010\tB2\tWC05_017\tA3\n",
    "\n",
    "AD06_011\tC2\tAD06_019\tC3\n",
    "\n",
    "AD06_011\tC2\tAD06_017\tA3\n",
    "\n",
    "AD06_034\tB5\tAD06_044\tD6\n",
    "\n",
    "HS04_006\tG9\tHS04_015\tH10\n",
    "\n",
    "HS04_014\tG10\tHS04_015\tH10\n",
    "\n",
    "KOD03_055\tG3\tKOD03_064\tH4\n",
    "\n",
    "KOD03_059\tC4\tKOD03_066\tB5\n",
    "\n",
    "KOD03_063\tG4\tKOD03_064\tH4\n",
    "\n",
    "SS12_006\tG7\tSS12_015\tG8\n",
    "\n",
    "SS12_014\tF8\tSS12_015\tG8\n",
    "\n",
    "SS13_001\tA7\tPWS12_075\tF11\n",
    "\n",
    "UP03_001\tA7\tUP03_009\tA8\n",
    "\n",
    "UP03_006\tF7\tUP03_014\tF8\n",
    "\n",
    "UP03_034\tB11\tUP03_044\tD12\n",
    "\n",
    "WC05_001\tE1\tWC05_012\tD2\n",
    "\n",
    "WC05_014\tF2\tWC05_015\tG2\n",
    "\n",
    "<br>\n",
    "\n",
    "<br>\n",
    "Comparing numbers: \n",
    "\n",
    "| Pop | Genalex | ML Relate | \n",
    "|-----|---------|-----------|\n",
    "|KOD | 6 | 7|\n",
    "|AD | 6 | 4 | \n",
    "| WC | 6 | 8 | \n",
    "| HS | 4 | 4 | \n",
    "| UP | 6 | 14 | \n",
    "\n",
    "\n",
    "\n",
    "\n",
    "Just looking at the Kodiak samples: \n",
    "\n",
    "*ML relate*: KOD03_035, KOD03_055, KOD03_057, KOD03_061, KOD03_063,\tKOD03_064\n",
    "\n",
    "*Genalex*:   KOD03_055, KOD03_059, KOD03_063, KOD03_064, KOD03_066\n",
    "\n",
    "\n",
    "<br>\n",
    "<br>\n",
    "\n",
    "** NEXT MOVE: ** Put genepop through genalex and create a distribution of `relatedness` values. \n"
   ]
  },
  {
   "cell_type": "code",
   "execution_count": null,
   "metadata": {
    "collapsed": true
   },
   "outputs": [],
   "source": []
  }
 ],
 "metadata": {
  "anaconda-cloud": {},
  "kernelspec": {
   "display_name": "Python [default]",
   "language": "python",
   "name": "python2"
  },
  "language_info": {
   "codemirror_mode": {
    "name": "ipython",
    "version": 2
   },
   "file_extension": ".py",
   "mimetype": "text/x-python",
   "name": "python",
   "nbconvert_exporter": "python",
   "pygments_lexer": "ipython2",
   "version": "2.7.12"
  }
 },
 "nbformat": 4,
 "nbformat_minor": 1
}
