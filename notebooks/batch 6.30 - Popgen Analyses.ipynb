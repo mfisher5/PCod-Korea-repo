{
 "cells": [
  {
   "cell_type": "markdown",
   "metadata": {},
   "source": [
    "# Popgen analyses for batch 6.30\n",
    "\n",
    "These analyses were run on the batch 6 final filtered genepop where individuals missing **>30%** of their data were removed from analysis.\n",
    "\n",
    "The number of samples retained for each sampling site are as follows: \n",
    "\n",
    "|sampling site|# samples| # replicates |\n",
    "|:-------------|:---------:|:----:|\n",
    "|Pohang 2015|30|1|\n",
    "|Geoje 2015|33|-|\n",
    "|Namhae 2015|16|-|\n",
    "|Yellow Sea Block 2016|23|1|\n",
    "|Jukbyeon 2007|22|3|\n",
    "|Jinhae Bay 2007|32|1|\n",
    "|Jinhae Bay 2008|26|5|\n",
    "|Boryeong 2007|22|-|\n",
    "|Goeje 2014|22|10|\n",
    "\n",
    "\n",
    "All analyses were completed with replicates removed. \n",
    "\n",
    "<br>\n",
    "<br>\n",
    "This notebook includes the following analyses: \n",
    "\n",
    "1. DAPC for entire sample set\n",
    "2. DAPC for southern samples only\n",
    "3. DAPC for 2015/2016 samples only\n",
    "4. DAPC for 2007/2008 samples only\n",
    "\n",
    "\n",
    "<br>\n",
    "<br>\n",
    "###  (Prep: Generate Genepop file without replicates)\n",
    "\n",
    "My filtered genepop file contains replicates, so I need to remove those before starting the analyses. When the replicates were the 500ng v. 300ng protocols, I retained the 300ng individuals."
   ]
  },
  {
   "cell_type": "code",
   "execution_count": 1,
   "metadata": {
    "collapsed": false
   },
   "outputs": [
    {
     "name": "stdout",
     "output_type": "stream",
     "text": [
      "/mnt/hgfs/Pacific cod/DataAnalysis/PCod-Korea-repo/analyses\n"
     ]
    }
   ],
   "source": [
    "cd ../analyses"
   ]
  },
  {
   "cell_type": "code",
   "execution_count": 2,
   "metadata": {
    "collapsed": true
   },
   "outputs": [],
   "source": [
    "remove_individuals = [\"PO010715_02_rep,\", \"YS121315_12,\",\"JUK07_02_rep.1,\",\"JUK07_09_rep.1,\",\"JUK07_16_rep.1,\",\"JB121807_08_rep,\",\"JB021108_05_rep,\", \"JB021108_35_rep,\", \"JB021108_36_rep.1,\",\"JB021108_37_rep.1,\",\"JB021108_46_rep.1,\", \"GEO020414_11,\",\"GEO020414_14,\",\"GEO020414_15,\",\"GEO020414_16,\",\"GEO020414_17,\",\"GEO020414_23,\",\"GEO020414_24,\",\"GEO020414_25,\",\"GEO020414_8,\",\"GEO020414_9,\"]\n",
    "\n",
    "orig_genepop = open(\"../stacks_b6_wgenome/batch_6.filteredMAF_filteredLoci_30filteredIndivids_filteredHWE.gen\", \"r\")\n",
    "new_genepop = open(\"batch_6.filteredMAF_filteredLoci_30filteredIndivids_filteredHWE_noreps.gen\", \"w\")\n",
    "\n",
    "for line in orig_genepop: \n",
    "    if line.startswith(\"sample\"):\n",
    "        new_genepop.write(line)\n",
    "    else:\n",
    "        sample_id = line.strip().split()[0]\n",
    "        if sample_id not in remove_individuals:\n",
    "            new_genepop.write(line)\n",
    "orig_genepop.close()\n",
    "new_genepop.close()"
   ]
  },
  {
   "cell_type": "markdown",
   "metadata": {},
   "source": [
    "### DAPC for entire sample set"
   ]
  },
  {
   "cell_type": "markdown",
   "metadata": {
    "collapsed": true
   },
   "source": [
    "In R, I ran the script `DAPC_script_PCod_7-14.r`. \n",
    "\n",
    "Below is an excerpt of the script text, run for ALL individuals in the population: "
   ]
  },
  {
   "cell_type": "code",
   "execution_count": null,
   "metadata": {
    "collapsed": true
   },
   "outputs": [],
   "source": [
    "\n",
    "# First set working directory\n",
    "setwd(\"D:/Pacific cod/DataAnalysis/PCod-Korea-repo/analyses\")\n",
    "\n",
    "# Load all necessary R packages\n",
    "install.packages(\"ape\")\n",
    "install.packages(\"ade4\")\n",
    "install.packages(\"adegenet\")\n",
    "library(ape)\n",
    "library(ade4)\n",
    "library(adegenet)\n",
    "library(diveRsity)\n",
    "library(doParallel)\n",
    "library(foreach)\n",
    "library(genetics)\n",
    "library(hierfstat)\n",
    "library(httpuv)\n",
    "library(iterators)\n",
    "library(sendplot)\n",
    "library(xlsx)\n",
    "library(pegas)\n",
    "library(plotrix)\n",
    "\n",
    "###################################################################################\n",
    "# Let's first run a DAPC with all individuals and all loci, without replicates\n",
    "\n",
    "## read in genepop\n",
    "b6i30<-read.genepop(\"batch_6.filteredMAF_filteredLoci_30filteredIndivids_filteredHWE_noreps.gen\")\n",
    "summary(b6i30)\n",
    "\n",
    "## note that there are 226 individuals in the file: POH = 30, GE15 = 33, NAM = 16, YS = 23, JUK = 22, JBE = 32, JBL = 26, BOR = 22, GE14 = 22\n",
    "\n",
    "pop_groups <- as.factor(c(rep(\"POH15\",30),rep(\"GE15\",33),rep(\"NAM15\",16),rep(\"YS16\",23),rep(\"JUK\",22),rep(\"JBE\",32), rep(\"JBL\",26), rep(\"BOR07\", 22), rep(\"GE14\", 22)))\n",
    "pop_labels <- c(\"Pohang '15\", \"Geoje '15\", \"Namhae '15\", \"YellowSea '16\", \"Jukbyeon '07\", \"Jin. Bay '07 Early\", \"Jin. Bay '07 Late\", \"Boryeong '07\", \"Geoje '14\")\n",
    "pop_cols <- c(\"seagreen1\",\"mediumorchid1\",\"darkgoldenrod\",\"firebrick4\",\"chartreuse\",\"deepskyblue\", \"deepskyblue4\", \"coral1\", \"mediumorchid4\")\n",
    "\n",
    "## run dapc\n",
    "dapc_all <- dapc(b6i30,b6i30$pop,n.pca=75,n.da=9) ##Retain all PCA (223/3), then identify optimal number by optim.a.score\n",
    "## find optimal number of principal components\n",
    "test_a_score <- optim.a.score(dapc_all)\n"
   ]
  },
  {
   "cell_type": "markdown",
   "metadata": {},
   "source": [
    "![a_score_img](https://github.com/mfisher5/PCod-Korea-repo/blob/master/analyses/dapc_b6_ascore.png?raw=true)"
   ]
  },
  {
   "cell_type": "code",
   "execution_count": null,
   "metadata": {
    "collapsed": true
   },
   "outputs": [],
   "source": [
    "## run dapc only on optimal number of principal components\n",
    "dapc_all <- dapc(b6i30,b6i30$pop,n.pca=12,n.da=9) ##28 PC's is the optimal number\n",
    "\n",
    "#2D plot WITH ALL POPULATIONS\n",
    "scatter(dapc_all,scree.da=TRUE,scree.pos = \"topright\", cellipse=0,leg=FALSE,label=c(\"POH15\",\"GE15\",\"NAM15\",\"YS16\",\"JUK07\",\"JBE\", \"JBL\",\"BOR07\", \"GE14\"), posi.da=\"bottomleft\",csub=2,col=pop_cols,cex=1.5,clabel=1,pch=c(19),solid=1)\n",
    "legend(x = -10, y = 7, bty='n', legend = pop_labels,pch=c(19),col=pop_cols,cex=1)"
   ]
  },
  {
   "cell_type": "code",
   "execution_count": null,
   "metadata": {
    "collapsed": true
   },
   "outputs": [],
   "source": [
    "dapc_all$var  ### Proportion of variance conserved by the principal components\n",
    "#0.1281183\n",
    "dapc_all$eig[1]/sum(dapc_all$eig)  ### Variance explained by first discriminant function\n",
    "# 0.6403211\n",
    "dapc_all$eig[2]/sum(dapc_all$eig)  ### Variance explained by second discriminant function\n",
    "#0.2893712"
   ]
  },
  {
   "cell_type": "markdown",
   "metadata": {},
   "source": [
    "![DAPC_plot](https://github.com/mfisher5/PCod-Korea-repo/blob/master/analyses/b6_dapc_all.png?raw=true)"
   ]
  },
  {
   "cell_type": "markdown",
   "metadata": {},
   "source": [
    "### DAPC with southern samples only"
   ]
  },
  {
   "cell_type": "code",
   "execution_count": 1,
   "metadata": {
    "collapsed": false
   },
   "outputs": [
    {
     "name": "stdout",
     "output_type": "stream",
     "text": [
      "/mnt/hgfs/Pacific cod/DataAnalysis/PCod-Korea-repo/analyses\n"
     ]
    }
   ],
   "source": [
    "cd ../analyses"
   ]
  },
  {
   "cell_type": "code",
   "execution_count": 2,
   "metadata": {
    "collapsed": true
   },
   "outputs": [],
   "source": [
    "remove_individuals = []\n",
    "popmap = open(\"../scripts/PopMap_L1-4.txt\", \"r\")\n",
    "for line in popmap:\n",
    "    if line.strip().split()[1] == \"Boryeong07\":\n",
    "        remove_individuals.append(line.strip().split()[0] +  \",\")\n",
    "    elif line.strip().split()[1] == \"YellowSea16\":\n",
    "        remove_individuals.append(line.strip().split()[0] + \",\")\n",
    "    elif line.strip().split()[1] == \"Jukbyeon07\":\n",
    "        remove_individuals.append(line.strip().split()[0] + \",\")\n",
    "\n",
    "orig_genepop = open(\"batch_6.filteredMAF_filteredLoci_30filteredIndivids_filteredHWE_noreps.gen\", \"r\")\n",
    "new_genepop = open(\"batch_6.filteredMAF_filteredLoci_30filteredIndivids_filteredHWE_noreps_south.gen\", \"w\")\n",
    "\n",
    "for line in orig_genepop: \n",
    "    if line.startswith(\"sample\"):\n",
    "        new_genepop.write(line)\n",
    "    else:\n",
    "        sample_id = line.strip().split()[0]\n",
    "        if sample_id not in remove_individuals:\n",
    "            new_genepop.write(line)\n",
    "orig_genepop.close()\n",
    "new_genepop.close()"
   ]
  },
  {
   "cell_type": "markdown",
   "metadata": {},
   "source": [
    "Proportion of variance conserved by the principal components : 0.2721199\n",
    "\n",
    "Variance explained by first discriminant function : 0.4473815\n",
    "\n",
    "Variance explained by second discriminant function : 0.2783839"
   ]
  },
  {
   "cell_type": "markdown",
   "metadata": {},
   "source": [
    "![dapc_south](https://github.com/mfisher5/PCod-Korea-repo/blob/master/analyses/b6_dapc_south.png?raw=true)"
   ]
  },
  {
   "cell_type": "code",
   "execution_count": null,
   "metadata": {
    "collapsed": true
   },
   "outputs": [],
   "source": []
  }
 ],
 "metadata": {
  "anaconda-cloud": {},
  "kernelspec": {
   "display_name": "Python [default]",
   "language": "python",
   "name": "python2"
  },
  "language_info": {
   "codemirror_mode": {
    "name": "ipython",
    "version": 2
   },
   "file_extension": ".py",
   "mimetype": "text/x-python",
   "name": "python",
   "nbconvert_exporter": "python",
   "pygments_lexer": "ipython2",
   "version": "2.7.12"
  }
 },
 "nbformat": 4,
 "nbformat_minor": 1
}
