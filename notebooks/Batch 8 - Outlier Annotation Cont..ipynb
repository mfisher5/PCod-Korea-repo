{
 "cells": [
  {
   "cell_type": "markdown",
   "metadata": {},
   "source": [
    "## Outlier annotation (continued)\n",
    "\n",
    "#### Batch 8 verif\n",
    "\n",
    "\n",
    "<br>\n",
    "When I did my original alignment of outlier loci, I didn't realize that there were two annotation files for the `gadMor2` genome. Linkage groups 1, 3, 4, 5, 7, 10, 12, 13, 16, 18, 19, 20, 21, 22 are in a separate annotation file. \n",
    "\n",
    "\n",
    "So I need to go back to my outlier loci that aligned but were not associated with an annotation, and make sure that I am not missing information. \n",
    "\n",
    "<br>\n",
    "I have already downloaded and sorted the annotations for the linkage groups listed above (see [Aligned Sequence Annotation notebook](https://github.com/mfisher5/PCod-Compare-repo/blob/master/notebooks/Aligned%20Sequence%20Annotation.ipynb)) so I just need to run the `closestBed` function. "
   ]
  },
  {
   "cell_type": "code",
   "execution_count": 1,
   "metadata": {},
   "outputs": [
    {
     "name": "stdout",
     "output_type": "stream",
     "text": [
      "/mnt/hgfs/PCod-Korea-repo\n"
     ]
    }
   ],
   "source": [
    "cd ../"
   ]
  },
  {
   "cell_type": "code",
   "execution_count": 4,
   "metadata": {},
   "outputs": [
    {
     "name": "stdout",
     "output_type": "stream",
     "text": [
      "/mnt/hgfs/PCod-Korea-repo/analyses/Outliers/bedtools2/bin\n"
     ]
    }
   ],
   "source": [
    "cd analyses/Outliers/bedtools2/bin"
   ]
  },
  {
   "cell_type": "markdown",
   "metadata": {},
   "source": [
    "** Linkage Group 01**"
   ]
  },
  {
   "cell_type": "code",
   "execution_count": 7,
   "metadata": {
    "collapsed": true
   },
   "outputs": [],
   "source": [
    "!./closestBed -a ../../batch8_verif/batch_8_outliers_bowtie2_Acod_filteredMQ_sorted2.bed \\\n",
    "-b /mnt/hgfs/PCod-Compare-repo/ACod_reference/gadMor2_annotation_LG01.gff \\\n",
    "-D a \\\n",
    "-k 2 \\\n",
    "-header \\\n",
    "> ../../batch8_verif/batch_8_outliers_bowtie2_Acod_MQfiltered_Annotations_LG01.bed"
   ]
  },
  {
   "cell_type": "markdown",
   "metadata": {},
   "source": [
    "** All remaining Linkage Groups **"
   ]
  },
  {
   "cell_type": "code",
   "execution_count": 8,
   "metadata": {},
   "outputs": [],
   "source": [
    "!./closestBed -a ../../batch8_verif/batch_8_outliers_bowtie2_Acod_filteredMQ_sorted2.bed \\\n",
    "-b /mnt/hgfs/PCod-Compare-repo/ACod_reference/gadMor2_annotation_remainingLG_gene.gff \\\n",
    "-D a \\\n",
    "-k 2 \\\n",
    "-header \\\n",
    "> ../../batch8_verif/batch_8_outliers_bowtie2_Acod_MQfiltered_Annotations_remainingLG.bed"
   ]
  },
  {
   "cell_type": "code",
   "execution_count": null,
   "metadata": {
    "collapsed": true
   },
   "outputs": [],
   "source": []
  }
 ],
 "metadata": {
  "kernelspec": {
   "display_name": "Python 2",
   "language": "python",
   "name": "python2"
  },
  "language_info": {
   "codemirror_mode": {
    "name": "ipython",
    "version": 2
   },
   "file_extension": ".py",
   "mimetype": "text/x-python",
   "name": "python",
   "nbconvert_exporter": "python",
   "pygments_lexer": "ipython2",
   "version": "2.7.13"
  }
 },
 "nbformat": 4,
 "nbformat_minor": 2
}
