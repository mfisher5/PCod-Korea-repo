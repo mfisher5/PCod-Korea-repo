{
 "cells": [
  {
   "cell_type": "markdown",
   "metadata": {},
   "source": [
    "## Alignment of batch 8 outliers to ACod, eastern PCod\n",
    "\n",
    "<br>\n",
    "\n",
    "I want to align outlier loci (detected using Bayescan) to the Atlantic cod genome, and to the outliers that Dan / Kristen found in the eastern PCod populations. \n",
    "\n",
    "<br>\n",
    "Programs used: \n",
    "\n",
    "1. BOWTIE 2 \n",
    "2. `samtools`\n",
    "3. `bedtools`\n",
    "\n",
    "\n",
    "\n",
    "<br>\n",
    "#### Installing bowtie 2:\n",
    "This makes bowtie2 commands callable from anywhere. "
   ]
  },
  {
   "cell_type": "code",
   "execution_count": null,
   "metadata": {
    "collapsed": true
   },
   "outputs": [],
   "source": [
    "# from root directory\n",
    "sudo apt-get install bowtie2"
   ]
  },
  {
   "cell_type": "markdown",
   "metadata": {},
   "source": [
    "#### Installing samtools"
   ]
  },
  {
   "cell_type": "code",
   "execution_count": null,
   "metadata": {
    "collapsed": true
   },
   "outputs": [],
   "source": [
    "#first had to install a bunch of other shit from root directory\n",
    "sudo apt-get install libncurses5-dev libncursesw5-dev\n",
    "sudo apt-get install libcurl4-openssl-dev\n",
    "sudo apt-get install libssl-dev"
   ]
  },
  {
   "cell_type": "code",
   "execution_count": null,
   "metadata": {
    "collapsed": true
   },
   "outputs": [],
   "source": [
    "cd Downloads\n",
    "tar xvjf samtools-1.6.tar.bz2\n",
    "cd samtools-1.6\n",
    "./configure\n",
    "make\n",
    "sudo make install"
   ]
  },
  {
   "cell_type": "markdown",
   "metadata": {},
   "source": [
    "**Installing bedtools**"
   ]
  },
  {
   "cell_type": "code",
   "execution_count": null,
   "metadata": {
    "collapsed": true
   },
   "outputs": [],
   "source": [
    "$ wget https://github.com/arq5x/bedtools2/releases/download/v2.26.0/bedtools-2.26.0.tar.gz\n",
    "$ tar -zxvf bedtools-2.26.0.tar.gz\n",
    "$ cd bedtools2\n",
    "$ make\n",
    "$ sudo make install #this didn't really work for me; I have to work in the bedtools folder to call the scripts"
   ]
  },
  {
   "cell_type": "code",
   "execution_count": null,
   "metadata": {
    "collapsed": true
   },
   "outputs": [],
   "source": []
  },
  {
   "cell_type": "markdown",
   "metadata": {},
   "source": [
    "<br>\n",
    "### Create reference database of (new) Atlantic cod genome\n",
    "\n",
    "The database I made previously is based on an older version of the genome. \n",
    "The [new genome](https://osf.io/4qsdw/) \"gadMor2.fasta\" was published by [Torresen et al. 2017 in BMC Genomics](https://bmcgenomics.biomedcentral.com/articles/10.1186/s12864-016-3448-x) (open access)."
   ]
  },
  {
   "cell_type": "code",
   "execution_count": 1,
   "metadata": {},
   "outputs": [
    {
     "data": {
      "text/plain": [
       "u'/mnt/hgfs/PCod-Korea-repo/notebooks'"
      ]
     },
     "execution_count": 1,
     "metadata": {},
     "output_type": "execute_result"
    }
   ],
   "source": [
    "pwd"
   ]
  },
  {
   "cell_type": "code",
   "execution_count": 2,
   "metadata": {},
   "outputs": [
    {
     "name": "stdout",
     "output_type": "stream",
     "text": [
      "/mnt/hgfs/PCod-Compare-repo/ACod_reference\n"
     ]
    }
   ],
   "source": [
    "cd ../../PCod-Compare-repo/ACod_reference"
   ]
  },
  {
   "cell_type": "code",
   "execution_count": 5,
   "metadata": {},
   "outputs": [
    {
     "name": "stdout",
     "output_type": "stream",
     "text": [
      "Settings:\n",
      "  Output files: \"Gadus_morhua2.*.bt2\"\n",
      "  Line rate: 6 (line is 64 bytes)\n",
      "  Lines per side: 1 (side is 64 bytes)\n",
      "  Offset rate: 4 (one in 16)\n",
      "  FTable chars: 10\n",
      "  Strings: unpacked\n",
      "  Max bucket size: default\n",
      "  Max bucket size, sqrt multiplier: default\n",
      "  Max bucket size, len divisor: 4\n",
      "  Difference-cover sample period: 1024\n",
      "  Endianness: little\n",
      "  Actual local endianness: little\n",
      "  Sanity checking: disabled\n",
      "  Assertions: disabled\n",
      "  Random seed: 0\n",
      "  Sizeofs: void*:8, int:4, long:8, size_t:8\n",
      "Input files DNA, FASTA:\n",
      "  gadMor2.fasta\n",
      "Building a SMALL index\n",
      "Reading reference sizes\n",
      "  Time reading reference sizes: 00:00:17\n",
      "Calculating joined length\n",
      "Writing header\n",
      "Reserving space for joined string\n",
      "Joining reference sequences\n",
      "  Time to join reference sequences: 00:00:03\n",
      "bmax according to bmaxDivN setting: 158187076\n",
      "Using parameters --bmax 118640307 --dcv 1024\n",
      "  Doing ahead-of-time memory usage test\n",
      "  Passed!  Constructing with these parameters: --bmax 118640307 --dcv 1024\n",
      "Constructing suffix-array element generator\n",
      "Building DifferenceCoverSample\n",
      "  Building sPrime\n",
      "  Building sPrimeOrder\n",
      "  V-Sorting samples\n",
      "  V-Sorting samples time: 00:00:23\n",
      "  Allocating rank array\n",
      "  Ranking v-sort output\n",
      "  Ranking v-sort output time: 00:00:07\n",
      "  Invoking Larsson-Sadakane on ranks\n",
      "  Invoking Larsson-Sadakane on ranks time: 00:00:10\n",
      "  Sanity-checking and returning\n",
      "Building samples\n",
      "Reserving space for 12 sample suffixes\n",
      "Generating random suffixes\n",
      "QSorting 12 sample offsets, eliminating duplicates\n",
      "QSorting sample offsets, eliminating duplicates time: 00:00:00\n",
      "Multikey QSorting 12 samples\n",
      "  (Using difference cover)\n",
      "  Multikey QSorting samples time: 00:00:00\n",
      "Calculating bucket sizes\n",
      "  Binary sorting into buckets\n",
      "  10%\n",
      "  20%\n",
      "  30%\n",
      "  40%\n",
      "  50%\n",
      "  60%\n",
      "  70%\n",
      "  80%\n",
      "  90%\n",
      "  100%\n",
      "  Binary sorting into buckets time: 00:00:18\n",
      "Splitting and merging\n",
      "  Splitting and merging time: 00:00:00\n",
      "Split 2, merged 7; iterating...\n",
      "  Binary sorting into buckets\n",
      "  10%\n",
      "  20%\n",
      "  30%\n",
      "  40%\n",
      "  50%\n",
      "  60%\n",
      "  70%\n",
      "  80%\n",
      "  90%\n",
      "  100%\n",
      "  Binary sorting into buckets time: 00:00:16\n",
      "Splitting and merging\n",
      "  Splitting and merging time: 00:00:00\n",
      "Split 1, merged 0; iterating...\n",
      "  Binary sorting into buckets\n",
      "  10%\n",
      "  20%\n",
      "  30%\n",
      "  40%\n",
      "  50%\n",
      "  60%\n",
      "  70%\n",
      "  80%\n",
      "  90%\n",
      "  100%\n",
      "  Binary sorting into buckets time: 00:00:16\n",
      "Splitting and merging\n",
      "  Splitting and merging time: 00:00:00\n",
      "Avg bucket size: 7.90935e+07 (target: 118640306)\n",
      "Converting suffix-array elements to index image\n",
      "Allocating ftab, absorbFtab\n",
      "Entering Ebwt loop\n",
      "Getting block 1 of 8\n",
      "  Reserving size (118640307) for bucket\n",
      "  Calculating Z arrays\n",
      "  Calculating Z arrays time: 00:00:00\n",
      "  Entering block accumulator loop:\n",
      "  10%\n",
      "  20%\n",
      "  30%\n",
      "  40%\n",
      "  50%\n",
      "  60%\n",
      "  70%\n",
      "  80%\n",
      "  90%\n",
      "  100%\n",
      "  Block accumulator loop time: 00:00:04\n",
      "  Sorting block of length 56807458\n",
      "  (Using difference cover)\n",
      "  Sorting block time: 00:00:39\n",
      "Returning block of 56807459\n",
      "Getting block 2 of 8\n",
      "  Reserving size (118640307) for bucket\n",
      "  Calculating Z arrays\n",
      "  Calculating Z arrays time: 00:00:00\n",
      "  Entering block accumulator loop:\n",
      "  10%\n",
      "  20%\n",
      "  30%\n",
      "  40%\n",
      "  50%\n",
      "  60%\n",
      "  70%\n",
      "  80%\n",
      "  90%\n",
      "  100%\n",
      "  Block accumulator loop time: 00:00:05\n",
      "  Sorting block of length 114319161\n",
      "  (Using difference cover)\n",
      "  Sorting block time: 00:01:16\n",
      "Returning block of 114319162\n",
      "Getting block 3 of 8\n",
      "  Reserving size (118640307) for bucket\n",
      "  Calculating Z arrays\n",
      "  Calculating Z arrays time: 00:00:00\n",
      "  Entering block accumulator loop:\n",
      "  10%\n",
      "  20%\n",
      "  30%\n",
      "  40%\n",
      "  50%\n",
      "  60%\n",
      "  70%\n",
      "  80%\n",
      "  90%\n",
      "  100%\n",
      "  Block accumulator loop time: 00:00:05\n",
      "  Sorting block of length 46008350\n",
      "  (Using difference cover)\n",
      "  Sorting block time: 00:00:29\n",
      "Returning block of 46008351\n",
      "Getting block 4 of 8\n",
      "  Reserving size (118640307) for bucket\n",
      "  Calculating Z arrays\n",
      "  Calculating Z arrays time: 00:00:00\n",
      "  Entering block accumulator loop:\n",
      "  10%\n",
      "  20%\n",
      "  30%\n",
      "  40%\n",
      "  50%\n",
      "  60%\n",
      "  70%\n",
      "  80%\n",
      "  90%\n",
      "  100%\n",
      "  Block accumulator loop time: 00:00:06\n",
      "  Sorting block of length 77874498\n",
      "  (Using difference cover)\n",
      "  Sorting block time: 00:00:50\n",
      "Returning block of 77874499\n",
      "Getting block 5 of 8\n",
      "  Reserving size (118640307) for bucket\n",
      "  Calculating Z arrays\n",
      "  Calculating Z arrays time: 00:00:00\n",
      "  Entering block accumulator loop:\n",
      "  10%\n",
      "  20%\n",
      "  30%\n",
      "  40%\n",
      "  50%\n",
      "  60%\n",
      "  70%\n",
      "  80%\n",
      "  90%\n",
      "  100%\n",
      "  Block accumulator loop time: 00:00:07\n",
      "  Sorting block of length 90428147\n",
      "  (Using difference cover)\n",
      "  Sorting block time: 00:00:57\n",
      "Returning block of 90428148\n",
      "Getting block 6 of 8\n",
      "  Reserving size (118640307) for bucket\n",
      "  Calculating Z arrays\n",
      "  Calculating Z arrays time: 00:00:00\n",
      "  Entering block accumulator loop:\n",
      "  10%\n",
      "  20%\n",
      "  30%\n",
      "  40%\n",
      "  50%\n",
      "  60%\n",
      "  70%\n",
      "  80%\n",
      "  90%\n",
      "  100%\n",
      "  Block accumulator loop time: 00:00:07\n",
      "  Sorting block of length 118208006\n",
      "  (Using difference cover)\n",
      "  Sorting block time: 00:01:22\n",
      "Returning block of 118208007\n",
      "Getting block 7 of 8\n",
      "  Reserving size (118640307) for bucket\n",
      "  Calculating Z arrays\n",
      "  Calculating Z arrays time: 00:00:00\n",
      "  Entering block accumulator loop:\n",
      "  10%\n",
      "  20%\n",
      "  30%\n",
      "  40%\n",
      "  50%\n",
      "  60%\n",
      "  70%\n",
      "  80%\n",
      "  90%\n",
      "  100%\n",
      "  Block accumulator loop time: 00:00:07\n",
      "  Sorting block of length 97196915\n",
      "  (Using difference cover)\n",
      "  Sorting block time: 00:01:08\n",
      "Returning block of 97196916\n",
      "Getting block 8 of 8\n",
      "  Reserving size (118640307) for bucket\n",
      "  Calculating Z arrays\n",
      "  Calculating Z arrays time: 00:00:00\n",
      "  Entering block accumulator loop:\n",
      "  10%\n",
      "  20%\n",
      "  30%\n",
      "  40%\n",
      "  50%\n",
      "  60%\n",
      "  70%\n",
      "  80%\n",
      "  90%\n",
      "  100%\n",
      "  Block accumulator loop time: 00:00:04\n",
      "  Sorting block of length 31905765\n",
      "  (Using difference cover)\n",
      "  Sorting block time: 00:00:24\n",
      "Returning block of 31905766\n",
      "Exited Ebwt loop\n",
      "fchr[A]: 0\n",
      "fchr[C]: 171126621\n",
      "fchr[G]: 316391482\n",
      "fchr[T]: 461653838\n",
      "fchr[$]: 632748307\n",
      "Exiting Ebwt::buildToDisk()\n",
      "Returning from initFromVector\n",
      "Wrote 215657754 bytes to primary EBWT file: Gadus_morhua2.1.bt2\n",
      "Wrote 158187084 bytes to secondary EBWT file: Gadus_morhua2.2.bt2\n",
      "Re-opening _in1 and _in2 as input streams\n",
      "Returning from Ebwt constructor\n",
      "Headers:\n",
      "    len: 632748307\n",
      "    bwtLen: 632748308\n",
      "    sz: 158187077\n",
      "    bwtSz: 158187077\n",
      "    lineRate: 6\n",
      "    offRate: 4\n",
      "    offMask: 0xfffffff0\n",
      "    ftabChars: 10\n",
      "    eftabLen: 20\n",
      "    eftabSz: 80\n",
      "    ftabLen: 1048577\n",
      "    ftabSz: 4194308\n",
      "    offsLen: 39546770\n",
      "    offsSz: 158187080\n",
      "    lineSz: 64\n",
      "    sideSz: 64\n",
      "    sideBwtSz: 48\n",
      "    sideBwtLen: 192\n",
      "    numSides: 3295565\n",
      "    numLines: 3295565\n",
      "    ebwtTotLen: 210916160\n",
      "    ebwtTotSz: 210916160\n",
      "    color: 0\n",
      "    reverse: 0\n",
      "Total time for call to driver() for forward index: 00:12:04\n",
      "Reading reference sizes\n",
      "  Time reading reference sizes: 00:00:15\n",
      "Calculating joined length\n",
      "Writing header\n",
      "Reserving space for joined string\n",
      "Joining reference sequences\n",
      "  Time to join reference sequences: 00:00:03\n",
      "  Time to reverse reference sequence: 00:00:00\n",
      "bmax according to bmaxDivN setting: 158187076\n",
      "Using parameters --bmax 118640307 --dcv 1024\n",
      "  Doing ahead-of-time memory usage test\n",
      "  Passed!  Constructing with these parameters: --bmax 118640307 --dcv 1024\n",
      "Constructing suffix-array element generator\n",
      "Building DifferenceCoverSample\n",
      "  Building sPrime\n",
      "  Building sPrimeOrder\n",
      "  V-Sorting samples\n",
      "  V-Sorting samples time: 00:00:26\n",
      "  Allocating rank array\n",
      "  Ranking v-sort output\n",
      "  Ranking v-sort output time: 00:00:07\n",
      "  Invoking Larsson-Sadakane on ranks\n",
      "  Invoking Larsson-Sadakane on ranks time: 00:00:11\n",
      "  Sanity-checking and returning\n",
      "Building samples\n",
      "Reserving space for 12 sample suffixes\n",
      "Generating random suffixes\n",
      "QSorting 12 sample offsets, eliminating duplicates\n",
      "QSorting sample offsets, eliminating duplicates time: 00:00:00\n",
      "Multikey QSorting 12 samples\n",
      "  (Using difference cover)\n",
      "  Multikey QSorting samples time: 00:00:00\n",
      "Calculating bucket sizes\n",
      "  Binary sorting into buckets\n",
      "  10%\n",
      "  20%\n",
      "  30%\n",
      "  40%\n",
      "  50%\n",
      "  60%\n",
      "  70%\n",
      "  80%\n",
      "  90%\n",
      "  100%\n",
      "  Binary sorting into buckets time: 00:00:19\n",
      "Splitting and merging\n",
      "  Splitting and merging time: 00:00:00\n",
      "Split 1, merged 6; iterating...\n",
      "  Binary sorting into buckets\n",
      "  10%\n",
      "  20%\n",
      "  30%\n",
      "  40%\n",
      "  50%\n",
      "  60%\n",
      "  70%\n",
      "  80%\n",
      "  90%\n",
      "  100%\n",
      "  Binary sorting into buckets time: 00:00:16\n",
      "Splitting and merging\n",
      "  Splitting and merging time: 00:00:00\n",
      "Avg bucket size: 9.03926e+07 (target: 118640306)\n",
      "Converting suffix-array elements to index image\n",
      "Allocating ftab, absorbFtab\n",
      "Entering Ebwt loop\n",
      "Getting block 1 of 7\n",
      "  Reserving size (118640307) for bucket\n",
      "  Calculating Z arrays\n",
      "  Calculating Z arrays time: 00:00:00\n",
      "  Entering block accumulator loop:\n"
     ]
    },
    {
     "name": "stdout",
     "output_type": "stream",
     "text": [
      "  10%\n",
      "  20%\n",
      "  30%\n",
      "  40%\n",
      "  50%\n",
      "  60%\n",
      "  70%\n",
      "  80%\n",
      "  90%\n",
      "  100%\n",
      "  Block accumulator loop time: 00:00:05\n",
      "  Sorting block of length 83214070\n",
      "  (Using difference cover)\n",
      "  Sorting block time: 00:00:58\n",
      "Returning block of 83214071\n",
      "Getting block 2 of 7\n",
      "  Reserving size (118640307) for bucket\n",
      "  Calculating Z arrays\n",
      "  Calculating Z arrays time: 00:00:00\n",
      "  Entering block accumulator loop:\n",
      "  10%\n",
      "  20%\n",
      "  30%\n",
      "  40%\n",
      "  50%\n",
      "  60%\n",
      "  70%\n",
      "  80%\n",
      "  90%\n",
      "  100%\n",
      "  Block accumulator loop time: 00:00:06\n",
      "  Sorting block of length 113693523\n",
      "  (Using difference cover)\n",
      "  Sorting block time: 00:01:28\n",
      "Returning block of 113693524\n",
      "Getting block 3 of 7\n",
      "  Reserving size (118640307) for bucket\n",
      "  Calculating Z arrays\n",
      "  Calculating Z arrays time: 00:00:00\n",
      "  Entering block accumulator loop:\n",
      "  10%\n",
      "  20%\n",
      "  30%\n",
      "  40%\n",
      "  50%\n",
      "  60%\n",
      "  70%\n",
      "  80%\n",
      "  90%\n",
      "  100%\n",
      "  Block accumulator loop time: 00:00:06\n",
      "  Sorting block of length 116821463\n",
      "  (Using difference cover)\n",
      "  Sorting block time: 00:01:29\n",
      "Returning block of 116821464\n",
      "Getting block 4 of 7\n",
      "  Reserving size (118640307) for bucket\n",
      "  Calculating Z arrays\n",
      "  Calculating Z arrays time: 00:00:00\n",
      "  Entering block accumulator loop:\n",
      "  10%\n",
      "  20%\n",
      "  30%\n",
      "  40%\n",
      "  50%\n",
      "  60%\n",
      "  70%\n",
      "  80%\n",
      "  90%\n",
      "  100%\n",
      "  Block accumulator loop time: 00:00:08\n",
      "  Sorting block of length 98073608\n",
      "  (Using difference cover)\n",
      "  Sorting block time: 00:01:10\n",
      "Returning block of 98073609\n",
      "Getting block 5 of 7\n",
      "  Reserving size (118640307) for bucket\n",
      "  Calculating Z arrays\n",
      "  Calculating Z arrays time: 00:00:00\n",
      "  Entering block accumulator loop:\n",
      "  10%\n",
      "  20%\n",
      "  30%\n",
      "  40%\n",
      "  50%\n",
      "  60%\n",
      "  70%\n",
      "  80%\n",
      "  90%\n",
      "  100%\n",
      "  Block accumulator loop time: 00:00:07\n",
      "  Sorting block of length 51442898\n",
      "  (Using difference cover)\n",
      "  Sorting block time: 00:00:39\n",
      "Returning block of 51442899\n",
      "Getting block 6 of 7\n",
      "  Reserving size (118640307) for bucket\n",
      "  Calculating Z arrays\n",
      "  Calculating Z arrays time: 00:00:00\n",
      "  Entering block accumulator loop:\n",
      "  10%\n",
      "  20%\n",
      "  30%\n",
      "  40%\n",
      "  50%\n",
      "  60%\n",
      "  70%\n",
      "  80%\n",
      "  90%\n",
      "  100%\n",
      "  Block accumulator loop time: 00:00:07\n",
      "  Sorting block of length 109932601\n",
      "  (Using difference cover)\n",
      "  Sorting block time: 00:01:20\n",
      "Returning block of 109932602\n",
      "Getting block 7 of 7\n",
      "  Reserving size (118640307) for bucket\n",
      "  Calculating Z arrays\n",
      "  Calculating Z arrays time: 00:00:00\n",
      "  Entering block accumulator loop:\n",
      "  10%\n",
      "  20%\n",
      "  30%\n",
      "  40%\n",
      "  50%\n",
      "  60%\n",
      "  70%\n",
      "  80%\n",
      "  90%\n",
      "  100%\n",
      "  Block accumulator loop time: 00:00:04\n",
      "  Sorting block of length 59570138\n",
      "  (Using difference cover)\n",
      "  Sorting block time: 00:00:44\n",
      "Returning block of 59570139\n",
      "Exited Ebwt loop\n",
      "fchr[A]: 0\n",
      "fchr[C]: 171126621\n",
      "fchr[G]: 316391482\n",
      "fchr[T]: 461653838\n",
      "fchr[$]: 632748307\n",
      "Exiting Ebwt::buildToDisk()\n",
      "Returning from initFromVector\n",
      "Wrote 215657754 bytes to primary EBWT file: Gadus_morhua2.rev.1.bt2\n",
      "Wrote 158187084 bytes to secondary EBWT file: Gadus_morhua2.rev.2.bt2\n",
      "Re-opening _in1 and _in2 as input streams\n",
      "Returning from Ebwt constructor\n",
      "Headers:\n",
      "    len: 632748307\n",
      "    bwtLen: 632748308\n",
      "    sz: 158187077\n",
      "    bwtSz: 158187077\n",
      "    lineRate: 6\n",
      "    offRate: 4\n",
      "    offMask: 0xfffffff0\n",
      "    ftabChars: 10\n",
      "    eftabLen: 20\n",
      "    eftabSz: 80\n",
      "    ftabLen: 1048577\n",
      "    ftabSz: 4194308\n",
      "    offsLen: 39546770\n",
      "    offsSz: 158187080\n",
      "    lineSz: 64\n",
      "    sideSz: 64\n",
      "    sideBwtSz: 48\n",
      "    sideBwtLen: 192\n",
      "    numSides: 3295565\n",
      "    numLines: 3295565\n",
      "    ebwtTotLen: 210916160\n",
      "    ebwtTotSz: 210916160\n",
      "    color: 0\n",
      "    reverse: 1\n",
      "Total time for backward call to driver() for mirror index: 00:12:46\n"
     ]
    }
   ],
   "source": [
    "!bowtie2-build gadMor2.fasta Gadus_morhua2"
   ]
  },
  {
   "cell_type": "markdown",
   "metadata": {},
   "source": [
    "<br>\n",
    "\n",
    "### Create fasta file of outlier loci consensus sequences\n",
    "\n",
    "I can do this by going into the `batch_8.catalog.tags.tsv` file and extracting the consensus sequence associated with each outlier locus ID. "
   ]
  },
  {
   "cell_type": "code",
   "execution_count": 6,
   "metadata": {},
   "outputs": [
    {
     "name": "stdout",
     "output_type": "stream",
     "text": [
      "/mnt/hgfs/PCod-Korea-repo\n"
     ]
    }
   ],
   "source": [
    "cd ../../PCod-Korea-repo/"
   ]
  },
  {
   "cell_type": "code",
   "execution_count": 7,
   "metadata": {
    "collapsed": true
   },
   "outputs": [],
   "source": [
    "# read in outlier loci IDs\n",
    "infile = open(\"analyses/Outliers/batch_8_BAYESCAN_outliers_stacksIDs.txt\", \"r\")\n",
    "\n",
    "outlier_list = []\n",
    "for line in infile:\n",
    "    outlier_list.append(line.strip())\n",
    "infile.close()"
   ]
  },
  {
   "cell_type": "code",
   "execution_count": 9,
   "metadata": {},
   "outputs": [
    {
     "name": "stdout",
     "output_type": "stream",
     "text": [
      "Succesfully added sequences for  93  outlier loci.\n"
     ]
    }
   ],
   "source": [
    "# write out the locus IDs and the consensus sequences to a new fasta file\n",
    "outfile = open(\"analyses/Outliers/batch_8_BAYESCAN_outliers_sequences.fa\", \"w\")\n",
    "seqfile = open(\"stacks_b8_wgenome/batch_7.catalog.tags.tsv\", \"r\")\n",
    "seqs_added = 0\n",
    "seqfile.readline()\n",
    "for line in seqfile:\n",
    "    linelist = line.strip().split(\"\\t\")\n",
    "    if linelist[2] in outlier_list:\n",
    "        outfile.write(\">\" + linelist[2] + \"\\n\" + linelist[9] + \"\\n\")\n",
    "        seqs_added += 1\n",
    "seqfile.close()\n",
    "outfile.close()\n",
    "print \"Succesfully added sequences for \", seqs_added, \" outlier loci.\""
   ]
  },
  {
   "cell_type": "code",
   "execution_count": 10,
   "metadata": {},
   "outputs": [
    {
     "name": "stdout",
     "output_type": "stream",
     "text": [
      ">59\r\n",
      "TGCAGGACCGGTGAGGTGTGGAATACAGCCCAACACAACACCAGGAGCCAAACACCAAGCAGAGGCATGGACCTGCTACTCTGAGAGCAGAGTAAAGACCCACATCATGGCTCAGTGCTATGGGTGCTCTTTGTTTTTTTGT\r\n",
      ">74\r\n",
      "TGCAGGAGCAGGAGAGGATCATCACCATGTCGTATGCACTGGCTTCCGAGGCGTCGCTTAAGAGCAAACAGGTCACAGGTACGTCCGCTCGTCTGTTCAACCATCTGCTCCAGCTCACTTCTCAAAGACTCCTTCTCTTTAG\r\n",
      ">453\r\n",
      "TGCAGGTGCACCTCCGACCCCTTCTCATAGGCCTCCCAGGCGAACACTGGAACACAGCGCACGGCCGGGCCGTTAACCAGGGGCACCACGCACACACTGCAGGGCTGGGGTTAACTAGCTACTACTGGTTAGAGACTTAGGT\r\n",
      ">971\r\n",
      "TGCAGGTCAGAGACTTCAAACTGAGGCAGAAGAGCTTCAAAGCCGTCACCCTGCTGGTAGAAGGCGGACACCTCAGAGTCAACTTCATTGCTCGGTGAATAGGCTCGTCTGGTCCAGTCAGAGAGTTCTTGAGAGGTCCCTG\r\n",
      ">1185\r\n",
      "TGCAGGACCTCAAAAACAGGTTTGCCTGAAAAAGCAAACGAAGTGAAACTGCAATGTGTCTTTCCATATGCCAGCGGATGTCCTTCTGTGTCACAGAAAAGGATCTCAGTATTACCCCGAACTATACACAATAAATCGTTCA\r\n"
     ]
    }
   ],
   "source": [
    "!head analyses/Outliers/batch_8_BAYESCAN_outliers_sequences.fa"
   ]
  },
  {
   "cell_type": "markdown",
   "metadata": {},
   "source": [
    "<br>\n",
    "<br>\n",
    "### Align fasta to Atlantic cod genome reference"
   ]
  },
  {
   "cell_type": "code",
   "execution_count": 11,
   "metadata": {},
   "outputs": [
    {
     "data": {
      "text/plain": [
       "u'/mnt/hgfs/PCod-Korea-repo'"
      ]
     },
     "execution_count": 11,
     "metadata": {},
     "output_type": "execute_result"
    }
   ],
   "source": [
    "pwd"
   ]
  },
  {
   "cell_type": "code",
   "execution_count": 12,
   "metadata": {},
   "outputs": [
    {
     "name": "stdout",
     "output_type": "stream",
     "text": [
      "93 reads; of these:\n",
      "  93 (100.00%) were unpaired; of these:\n",
      "    9 (9.68%) aligned 0 times\n",
      "    68 (73.12%) aligned exactly 1 time\n",
      "    16 (17.20%) aligned >1 times\n",
      "90.32% overall alignment rate\n"
     ]
    }
   ],
   "source": [
    "!bowtie2 -f \\\n",
    "-x ../PCod-Compare-repo/ACod_reference/Gadus_morhua2 \\\n",
    "-U analyses/Outliers/batch_8_BAYESCAN_outliers_sequences.fa \\\n",
    "-S analyses/Outliers/batch_8_BAYESCAN_outliers_bowtie2_Acod.sam"
   ]
  },
  {
   "cell_type": "markdown",
   "metadata": {},
   "source": [
    "\n",
    "<br>\n",
    "### Annotation\n",
    "\n",
    "<br>\n",
    "These notes were taken from Charlie Waters. \n",
    "\n",
    "**STEP ONE: convert SAM to BAM to sortedBAM to BED**"
   ]
  },
  {
   "cell_type": "code",
   "execution_count": 13,
   "metadata": {},
   "outputs": [
    {
     "name": "stdout",
     "output_type": "stream",
     "text": [
      "/mnt/hgfs/PCod-Korea-repo/analyses/Outliers\n"
     ]
    }
   ],
   "source": [
    "cd analyses/Outliers"
   ]
  },
  {
   "cell_type": "code",
   "execution_count": 14,
   "metadata": {
    "collapsed": true
   },
   "outputs": [],
   "source": [
    "!samtools view -bS batch_8_BAYESCAN_outliers_bowtie2_Acod.sam > batch_8_BAYESCAN_outliers_bowtie2_Acod.bam"
   ]
  },
  {
   "cell_type": "code",
   "execution_count": 28,
   "metadata": {
    "collapsed": true
   },
   "outputs": [],
   "source": [
    "!samtools sort batch_8_BAYESCAN_outliers_bowtie2_Acod.bam -o batch_8_BAYESCAN_outliers_bowtie2_Acod_sorted.bam"
   ]
  },
  {
   "cell_type": "code",
   "execution_count": 29,
   "metadata": {},
   "outputs": [
    {
     "name": "stdout",
     "output_type": "stream",
     "text": [
      "error: unrecognized command: bamToBed\r\n",
      "\r\n"
     ]
    }
   ],
   "source": [
    "!bedtools bamToBed -i batch_8_BAYESCAN_outliers_bowtie2_Acod_sorted.bam >> batch_8_BAYESCAN_outliers_bowtie2_Acod.bed"
   ]
  },
  {
   "cell_type": "code",
   "execution_count": 30,
   "metadata": {},
   "outputs": [
    {
     "name": "stdout",
     "output_type": "stream",
     "text": [
      "/usr/local/bin/bedtools\r\n"
     ]
    }
   ],
   "source": [
    "!which bedtools"
   ]
  },
  {
   "cell_type": "code",
   "execution_count": 31,
   "metadata": {},
   "outputs": [
    {
     "name": "stdout",
     "output_type": "stream",
     "text": [
      "/home/mfisher5\n"
     ]
    }
   ],
   "source": [
    "cd ~"
   ]
  },
  {
   "cell_type": "code",
   "execution_count": 32,
   "metadata": {},
   "outputs": [
    {
     "name": "stdout",
     "output_type": "stream",
     "text": [
      "/home/mfisher5/Downloads/bedtools2/bin\n"
     ]
    }
   ],
   "source": [
    "cd Downloads/bedtools2/bin/"
   ]
  },
  {
   "cell_type": "code",
   "execution_count": 33,
   "metadata": {
    "collapsed": true
   },
   "outputs": [],
   "source": [
    "!bamToBed -i /mnt/hgfs/PCod-Korea-repo/analyses/Outliers/batch_8_BAYESCAN_outliers_bowtie2_Acod_sorted.bam \\\n",
    ">> /mnt/hgfs/PCod-Korea-repo/analyses/Outliers/batch_8_BAYESCAN_outliers_bowtie2_Acod.bed"
   ]
  },
  {
   "cell_type": "code",
   "execution_count": 34,
   "metadata": {},
   "outputs": [
    {
     "name": "stdout",
     "output_type": "stream",
     "text": [
      "LG13\t23171790\t23171932\t59\t24\t+\r\n",
      "LG14\t16964597\t16964739\t74\t42\t-\r\n",
      "LG10\t23241107\t23241249\t453\t40\t+\r\n",
      "LG18\t10188214\t10188356\t971\t6\t-\r\n",
      "LG09\t2184192\t2184321\t1185\t0\t+\r\n",
      "LG12\t16093295\t16093437\t1904\t7\t+\r\n",
      "LG01\t23068418\t23068560\t2049\t42\t-\r\n",
      "LG01\t7446400\t7446543\t2098\t24\t+\r\n",
      "LG20\t14555093\t14555235\t2360\t40\t+\r\n",
      "LG16\t1699960\t1700102\t2606\t0\t+\r\n"
     ]
    }
   ],
   "source": [
    "!head /mnt/hgfs/PCod-Korea-repo/analyses/Outliers/batch_8_BAYESCAN_outliers_bowtie2_Acod.bed"
   ]
  },
  {
   "cell_type": "code",
   "execution_count": 35,
   "metadata": {},
   "outputs": [
    {
     "name": "stdout",
     "output_type": "stream",
     "text": [
      "/mnt/hgfs/PCod-Korea-repo/analyses/Outliers\n"
     ]
    }
   ],
   "source": [
    "cd /mnt/hgfs/PCod-Korea-repo/analyses/Outliers"
   ]
  },
  {
   "cell_type": "markdown",
   "metadata": {},
   "source": [
    "<br>\n",
    "**STEP TWO: Get two remaining input files: `.gff` annotation file, text file with lengths of scaffolds**\n",
    "\n",
    "First, I downloaded the file [gadMor2_annotation_complete.gff](https://osf.io/g9w7s/).\n",
    "\n",
    "I think that I can get lengths of scaffolds based on [this thread](https://www.biostars.org/p/173963/):"
   ]
  },
  {
   "cell_type": "code",
   "execution_count": 37,
   "metadata": {},
   "outputs": [
    {
     "name": "stdout",
     "output_type": "stream",
     "text": [
      "Collecting pyfaidx\n",
      "  Downloading pyfaidx-0.5.0.1.tar.gz\n",
      "Requirement already satisfied: six in /home/mfisher5/anaconda2/lib/python2.7/site-packages (from pyfaidx)\n",
      "Requirement already satisfied: setuptools>=0.7 in /home/mfisher5/anaconda2/lib/python2.7/site-packages (from pyfaidx)\n",
      "Building wheels for collected packages: pyfaidx\n",
      "  Running setup.py bdist_wheel for pyfaidx ... \u001b[?25ldone\n",
      "\u001b[?25h  Stored in directory: /home/mfisher5/.cache/pip/wheels/47/ce/b5/841260d96da0a930ccbdeac0009f1b25a808411d9ed6d26479\n",
      "Successfully built pyfaidx\n",
      "Installing collected packages: pyfaidx\n",
      "Successfully installed pyfaidx-0.5.0.1\n"
     ]
    }
   ],
   "source": [
    "!pip install pyfaidx"
   ]
  },
  {
   "cell_type": "code",
   "execution_count": 38,
   "metadata": {},
   "outputs": [
    {
     "data": {
      "text/plain": [
       "u'/mnt/hgfs/PCod-Korea-repo/analyses/Outliers'"
      ]
     },
     "execution_count": 38,
     "metadata": {},
     "output_type": "execute_result"
    }
   ],
   "source": [
    "pwd"
   ]
  },
  {
   "cell_type": "code",
   "execution_count": 39,
   "metadata": {},
   "outputs": [
    {
     "name": "stdout",
     "output_type": "stream",
     "text": [
      "/mnt/hgfs/PCod-Korea-repo\n"
     ]
    }
   ],
   "source": [
    "cd ../../"
   ]
  },
  {
   "cell_type": "code",
   "execution_count": 41,
   "metadata": {
    "collapsed": true
   },
   "outputs": [],
   "source": [
    "!faidx ../PCod-Compare-repo/ACod_reference/gadMor2.fasta -i chromsizes > analyses/Outliers/Gadus_morhua2_chromsizes.genome"
   ]
  },
  {
   "cell_type": "markdown",
   "metadata": {},
   "source": [
    "Or I can do this through samtools"
   ]
  },
  {
   "cell_type": "code",
   "execution_count": 42,
   "metadata": {
    "collapsed": true
   },
   "outputs": [],
   "source": [
    "!samtools faidx ../PCod-Compare-repo/ACod_reference/gadMor2.fasta "
   ]
  },
  {
   "cell_type": "code",
   "execution_count": 43,
   "metadata": {
    "collapsed": true
   },
   "outputs": [],
   "source": [
    "!cut -f1,2 ../PCod-Compare-repo/ACod_reference/gadMor2.fasta.fai > sizes.genome"
   ]
  },
  {
   "cell_type": "markdown",
   "metadata": {},
   "source": [
    "\n",
    "<br>\n",
    "<br>\n",
    "**STEP THREE: run bedtools' `closest` command**\n",
    "\n",
    "I had to do this from within the bedtools folder.\n",
    "\n",
    "`closest -a file.bed -b .gff -g table.tab -D b > outfile.bed`"
   ]
  },
  {
   "cell_type": "code",
   "execution_count": 44,
   "metadata": {},
   "outputs": [
    {
     "data": {
      "text/plain": [
       "u'/mnt/hgfs/PCod-Korea-repo'"
      ]
     },
     "execution_count": 44,
     "metadata": {},
     "output_type": "execute_result"
    }
   ],
   "source": [
    "pwd"
   ]
  },
  {
   "cell_type": "code",
   "execution_count": 46,
   "metadata": {},
   "outputs": [
    {
     "name": "stdout",
     "output_type": "stream",
     "text": [
      "/home/mfisher5/Downloads/bedtools2/bin\n"
     ]
    }
   ],
   "source": [
    "cd /home/mfisher5/Downloads/bedtools2/bin/"
   ]
  },
  {
   "cell_type": "code",
   "execution_count": 52,
   "metadata": {},
   "outputs": [
    {
     "name": "stdout",
     "output_type": "stream",
     "text": [
      "Segmentation fault (core dumped)\r\n"
     ]
    }
   ],
   "source": [
    "!./closestBed -a /mnt/hgfs/PCod-Korea-repo/analyses/Outliers/batch_8_BAYESCAN_outliers_bowtie2_Acod.bed \\\n",
    "-b /mnt/hgfs/PCod-Compare-repo/ACod_reference/gadMor2_annotation_complete.gff \\\n",
    "-g /mnt/hgfs/PCod-Korea-repo/analyses/Outliers/Gadus_morhua2_chromsizes.txt \\\n",
    "-D \"b\" > batch_8_BAYESCAN_outliers_bowtie2_Acod_Annotations.bed"
   ]
  },
  {
   "cell_type": "markdown",
   "metadata": {},
   "source": [
    "*So the version that I WAS working with (2.25) had only `closestBed`, not `closest`. *\n",
    "\n",
    "*I had to reinstall bedtools version 2.26 and then go from there. I put this new version of bedtools into my file folder since I have to work out of there anyway.*"
   ]
  },
  {
   "cell_type": "code",
   "execution_count": 1,
   "metadata": {},
   "outputs": [
    {
     "data": {
      "text/plain": [
       "u'/mnt/hgfs/PCod-Korea-repo/notebooks'"
      ]
     },
     "execution_count": 1,
     "metadata": {},
     "output_type": "execute_result"
    }
   ],
   "source": [
    "pwd"
   ]
  },
  {
   "cell_type": "code",
   "execution_count": 2,
   "metadata": {},
   "outputs": [
    {
     "name": "stdout",
     "output_type": "stream",
     "text": [
      "/mnt/hgfs/PCod-Korea-repo/analyses/Outliers\n"
     ]
    }
   ],
   "source": [
    "cd ../analyses/Outliers/"
   ]
  },
  {
   "cell_type": "code",
   "execution_count": 3,
   "metadata": {},
   "outputs": [
    {
     "name": "stdout",
     "output_type": "stream",
     "text": [
      "/mnt/hgfs/PCod-Korea-repo/analyses/Outliers/bedtools2\n"
     ]
    }
   ],
   "source": [
    "cd bedtools2/"
   ]
  },
  {
   "cell_type": "code",
   "execution_count": 4,
   "metadata": {},
   "outputs": [
    {
     "name": "stdout",
     "output_type": "stream",
     "text": [
      "/mnt/hgfs/PCod-Korea-repo/analyses/Outliers/bedtools2/bin\n"
     ]
    }
   ],
   "source": [
    "cd bin"
   ]
  },
  {
   "cell_type": "code",
   "execution_count": 10,
   "metadata": {},
   "outputs": [
    {
     "name": "stdout",
     "output_type": "stream",
     "text": [
      "Error: Sorted input specified, but the file /mnt/hgfs/PCod-Compare-repo/ACod_reference/gadMor2_annotation_complete.gff has the following out of order record\r\n",
      "GmG20150304_scaffold_9277\tmaker\tCDS\t1843\t1883\t.\t+\t0\tID=GAMO_00081734-RA:cds;Parent=GAMO_00081734-RA;\r\n"
     ]
    }
   ],
   "source": [
    "!closestBed -a ../../batch_8_BAYESCAN_outliers_bowtie2_Acod.bed \\\n",
    "-b /mnt/hgfs/PCod-Compare-repo/ACod_reference/gadMor2_annotation_complete.gff \\\n",
    "-d \\\n",
    "> ../batch_8_BAYESCAN_outliers_bowtie2_Acod_Annotations.bed"
   ]
  },
  {
   "cell_type": "markdown",
   "metadata": {
    "collapsed": true
   },
   "source": [
    "I guess I have to sort my `.gff` file. I can do this with BedTools\n",
    "\n",
    "BedTools `sort` command sorts a file by chromosome and then by start position, in ascending order (default). This is the sort order needed for `closestBed`."
   ]
  },
  {
   "cell_type": "code",
   "execution_count": 12,
   "metadata": {},
   "outputs": [
    {
     "data": {
      "text/plain": [
       "u'/mnt/hgfs/PCod-Korea-repo/analyses/Outliers/bedtools2/bin'"
      ]
     },
     "execution_count": 12,
     "metadata": {},
     "output_type": "execute_result"
    }
   ],
   "source": [
    "pwd"
   ]
  },
  {
   "cell_type": "code",
   "execution_count": 13,
   "metadata": {
    "collapsed": true
   },
   "outputs": [],
   "source": [
    "!sort -i /mnt/hgfs/PCod-Compare-repo/ACod_reference/gadMor2_annotation_complete.gff > /mnt/hgfs/PCod-Compare-repo/ACod_reference/gadMor2_annotation_complete_sorted.gff"
   ]
  },
  {
   "cell_type": "code",
   "execution_count": 14,
   "metadata": {},
   "outputs": [
    {
     "name": "stdout",
     "output_type": "stream",
     "text": [
      "Error: Sorted input specified, but the file /mnt/hgfs/PCod-Compare-repo/ACod_reference/gadMor2_annotation_complete_sorted.gff has the following out of order record\r\n",
      "GmG20150304_scaffold_1416\taugustus_masked\tmatch\t174\t1031\t0.75\t+\t.\tID=GmG20150304_scaffold_1416:hit:7786:4.5.0.0;Name=augustus_masked-GmG20150304_scaffold_1416-abinit-gene-0.0-mRNA-1;_AED=1.00;_eAED=1.00;_QI=0|0|0|0|1|1|2|0|87\r\n"
     ]
    }
   ],
   "source": [
    "!closestBed -a ../../batch_8_BAYESCAN_outliers_bowtie2_Acod.bed \\\n",
    "-b /mnt/hgfs/PCod-Compare-repo/ACod_reference/gadMor2_annotation_complete_sorted.gff \\\n",
    "-d \\\n",
    "> ../batch_8_BAYESCAN_outliers_bowtie2_Acod_Annotations.bed"
   ]
  },
  {
   "cell_type": "code",
   "execution_count": 17,
   "metadata": {},
   "outputs": [
    {
     "name": "stdout",
     "output_type": "stream",
     "text": [
      "###\r\n",
      "###\r\n",
      "###\r\n",
      "###\r\n",
      "###\r\n",
      "###\r\n",
      "###\r\n",
      "###\r\n",
      "###\r\n",
      "###\r\n"
     ]
    }
   ],
   "source": [
    "!head /mnt/hgfs/PCod-Compare-repo/ACod_reference/gadMor2_annotation_complete_sorted.gff"
   ]
  },
  {
   "cell_type": "markdown",
   "metadata": {
    "collapsed": true
   },
   "source": [
    "#### 10/26/2017\n",
    "\n",
    "#### TROUBLESHOOTING\n",
    "\n",
    "**EDIT THE GFF FILE** to only include the lines that have \"gene\" in them. this may decrease the file size enough for me to sort it manually in excel."
   ]
  },
  {
   "cell_type": "code",
   "execution_count": 16,
   "metadata": {},
   "outputs": [
    {
     "data": {
      "text/plain": [
       "u'/mnt/hgfs/PCod-Korea-repo/analyses/Outliers/bedtools2/bin'"
      ]
     },
     "execution_count": 16,
     "metadata": {},
     "output_type": "execute_result"
    }
   ],
   "source": [
    "pwd"
   ]
  },
  {
   "cell_type": "code",
   "execution_count": 17,
   "metadata": {},
   "outputs": [
    {
     "name": "stdout",
     "output_type": "stream",
     "text": [
      "/mnt/hgfs/PCod-Compare-repo/ACod_reference\n"
     ]
    }
   ],
   "source": [
    "cd /mnt/hgfs/PCod-Compare-repo/ACod_reference"
   ]
  },
  {
   "cell_type": "code",
   "execution_count": 35,
   "metadata": {
    "collapsed": true
   },
   "outputs": [],
   "source": [
    "!grep 'gene' gadMor2_annotation_complete.gff > gadMor2_annotation_complete_genes.gff"
   ]
  },
  {
   "cell_type": "code",
   "execution_count": 36,
   "metadata": {},
   "outputs": [
    {
     "name": "stdout",
     "output_type": "stream",
     "text": [
      "GmG20150304_scaffold_9277\tmaker\tgene\t1843\t2599\t.\t+\t.\tID=GAMO_00081734;Name=GAMO_00081734;Alias=augustus_masked-GmG20150304_scaffold_9277-processed-gene-0.0;Note=Protein of unknown function;\r\n",
      "GmG20150304_scaffold_9277\tmaker\tmRNA\t1843\t2599\t.\t+\t.\tID=GAMO_00081734-RA;Parent=GAMO_00081734;Name=GAMO_00081734-RA;Alias=augustus_masked-GmG20150304_scaffold_9277-processed-gene-0.0-mRNA-1;_AED=1.00;_QI=0|0|0|0|1|1|3|0|107;_eAED=1.00;Note=Protein of unknown function;\r\n",
      "GmG20150304_scaffold_9277\tmaker\tgene\t1821\t2580\t.\t-\t.\tID=GAMO_00081733;Name=GAMO_00081733;Alias=snap_masked-GmG20150304_scaffold_9277-processed-gene-0.2;Note=Similar to CASP13: Caspase-13 (Bos taurus);Dbxref=Gene3D:G3DSA:3.40.50.1460,InterPro:IPR002138,InterPro:IPR011600,InterPro:IPR029030,PANTHER:PTHR10454,PANTHER:PTHR10454:SF13,Pfam:PF00656,ProSiteProfiles:PS50207,SUPERFAMILY:SSF52129;Ontology_term=GO:0004197,GO:0006508;\r\n",
      "GmG20150304_scaffold_9277\tmaker\tmRNA\t1821\t2580\t.\t-\t.\tID=GAMO_00081733-RA;Parent=GAMO_00081733;Name=GAMO_00081733-RA;Alias=snap_masked-GmG20150304_scaffold_9277-processed-gene-0.2-mRNA-1;_AED=1.00;_QI=0|0|0|0|1|1|3|0|157;_eAED=1.00;Note=Similar to CASP13: Caspase-13 (Bos taurus);Dbxref=Gene3D:G3DSA:3.40.50.1460,InterPro:IPR002138,InterPro:IPR011600,InterPro:IPR029030,PANTHER:PTHR10454,PANTHER:PTHR10454:SF13,Pfam:PF00656,ProSiteProfiles:PS50207,SUPERFAMILY:SSF52129;Ontology_term=GO:0004197,GO:0006508;\r\n",
      "GmG20150304_scaffold_9277\taugustus_masked\tmatch\t1843\t2599\t0.43\t+\t.\tID=GmG20150304_scaffold_9277:hit:127286:4.5.0.0;Name=augustus_masked-GmG20150304_scaffold_9277-abinit-gene-0.0-mRNA-1;_AED=1.00;_eAED=1.00;_QI=0|0|0|0|1|1|3|0|107\r\n",
      "GmG20150304_scaffold_9277\taugustus_masked\tmatch_part\t1843\t1883\t0.43\t+\t.\tID=GmG20150304_scaffold_9277:hsp:402548:4.5.0.0;Parent=GmG20150304_scaffold_9277:hit:127286:4.5.0.0;Target=augustus_masked-GmG20150304_scaffold_9277-abinit-gene-0.0-mRNA-1 1 41 +;Gap=M41\r\n",
      "GmG20150304_scaffold_9277\taugustus_masked\tmatch_part\t2149\t2292\t0.43\t+\t.\tID=GmG20150304_scaffold_9277:hsp:402549:4.5.0.0;Parent=GmG20150304_scaffold_9277:hit:127286:4.5.0.0;Target=augustus_masked-GmG20150304_scaffold_9277-abinit-gene-0.0-mRNA-1 42 185 +;Gap=M144\r\n",
      "GmG20150304_scaffold_9277\taugustus_masked\tmatch_part\t2461\t2599\t0.43\t+\t.\tID=GmG20150304_scaffold_9277:hsp:402550:4.5.0.0;Parent=GmG20150304_scaffold_9277:hit:127286:4.5.0.0;Target=augustus_masked-GmG20150304_scaffold_9277-abinit-gene-0.0-mRNA-1 186 324 +;Gap=M139\r\n",
      "GmG20150304_scaffold_9277\tgenemark\tmatch\t1525\t2670\t.\t-\t.\tID=GmG20150304_scaffold_9277:hit:127287:4.5.0.0;Name=genemark-GmG20150304_scaffold_9277-abinit-gene-0.1-mRNA-1;_AED=1.00;_eAED=1.00;_QI=0|0|0|0|1|1|4|0|59\r\n",
      "GmG20150304_scaffold_9277\tgenemark\tmatch_part\t2632\t2670\t.\t-\t.\tID=GmG20150304_scaffold_9277:hsp:402551:4.5.0.0;Parent=GmG20150304_scaffold_9277:hit:127287:4.5.0.0;Target=genemark-GmG20150304_scaffold_9277-abinit-gene-0.1-mRNA-1 142 180 +;Gap=M39\r\n"
     ]
    }
   ],
   "source": [
    "!head gadMor2_annotation_complete_genes.gff"
   ]
  },
  {
   "cell_type": "code",
   "execution_count": 37,
   "metadata": {},
   "outputs": [
    {
     "name": "stdout",
     "output_type": "stream",
     "text": [
      "/mnt/hgfs/PCod-Korea-repo/analyses/Outliers/bedtools2/bin\n"
     ]
    }
   ],
   "source": [
    "cd /mnt/hgfs/PCod-Korea-repo/analyses/Outliers/bedtools2/bin"
   ]
  },
  {
   "cell_type": "code",
   "execution_count": 38,
   "metadata": {
    "collapsed": true
   },
   "outputs": [],
   "source": [
    "!sortBed -i /mnt/hgfs/PCod-Compare-repo/ACod_reference/gadMor2_annotation_complete_genes.gff > /mnt/hgfs/PCod-Compare-repo/ACod_reference/gadMor2_annotation_complete_genes_sorted.gff"
   ]
  },
  {
   "cell_type": "code",
   "execution_count": 14,
   "metadata": {
    "collapsed": true
   },
   "outputs": [],
   "source": [
    "!sortBed -i ../../batch_8_BAYESCAN_outliers_bowtie2_Acod.bed > ../../batch_8_BAYESCAN_outliers_bowtie2_Acod_sorted.bed"
   ]
  },
  {
   "cell_type": "code",
   "execution_count": 39,
   "metadata": {},
   "outputs": [
    {
     "name": "stdout",
     "output_type": "stream",
     "text": [
      "Segmentation fault (core dumped)\r\n"
     ]
    }
   ],
   "source": [
    "!closestBed -a ../../batch_8_BAYESCAN_outliers_bowtie2_Acod.bed \\\n",
    "-b /mnt/hgfs/PCod-Compare-repo/ACod_reference/gadMor2_annotation_complete_genes_manualsort.gff \\\n",
    "> ../batch_8_BAYESCAN_outliers_bowtie2_Acod_Annotations.bed"
   ]
  },
  {
   "cell_type": "code",
   "execution_count": 41,
   "metadata": {},
   "outputs": [
    {
     "name": "stdout",
     "output_type": "stream",
     "text": [
      "Segmentation fault (core dumped)\r\n"
     ]
    }
   ],
   "source": [
    "!closestBed -a ../../batch_8_BAYESCAN_outliers_bowtie2_Acod.bed \\\n",
    "-b /mnt/hgfs/PCod-Compare-repo/ACod_reference/gadMor2_annotation_complete_genes_manualsort.gff \\\n",
    "-D a \\\n",
    "-k 5 \\\n",
    "> ../batch_8_BAYESCAN_outliers_bowtie2_Acod_Annotations.bed"
   ]
  },
  {
   "cell_type": "code",
   "execution_count": 42,
   "metadata": {},
   "outputs": [
    {
     "name": "stdout",
     "output_type": "stream",
     "text": [
      "bedtools v2.25.0\r\n"
     ]
    }
   ],
   "source": [
    "!bedtools --version"
   ]
  },
  {
   "cell_type": "code",
   "execution_count": null,
   "metadata": {
    "collapsed": true
   },
   "outputs": [],
   "source": []
  }
 ],
 "metadata": {
  "kernelspec": {
   "display_name": "Python 2",
   "language": "python",
   "name": "python2"
  },
  "language_info": {
   "codemirror_mode": {
    "name": "ipython",
    "version": 2
   },
   "file_extension": ".py",
   "mimetype": "text/x-python",
   "name": "python",
   "nbconvert_exporter": "python",
   "pygments_lexer": "ipython2",
   "version": "2.7.13"
  }
 },
 "nbformat": 4,
 "nbformat_minor": 2
}
