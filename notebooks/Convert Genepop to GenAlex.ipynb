{
 "cells": [
  {
   "cell_type": "markdown",
   "metadata": {},
   "source": [
    "## Genepop to GenAlex\n",
    "\n",
    "GenAlex is a program that calculates relatedness between individuals. It conveniently takes a pretty fucked up file format. So here I convert my genepop file to a GenAlex file. \n",
    "\n",
    "#### 6/14/2017"
   ]
  },
  {
   "cell_type": "code",
   "execution_count": 1,
   "metadata": {
    "collapsed": false
   },
   "outputs": [
    {
     "data": {
      "text/plain": [
       "u'/mnt/hgfs/Pacific cod/DataAnalysis/PCod-Korea-repo/notebooks'"
      ]
     },
     "execution_count": 1,
     "metadata": {},
     "output_type": "execute_result"
    }
   ],
   "source": [
    "pwd"
   ]
  },
  {
   "cell_type": "code",
   "execution_count": 2,
   "metadata": {
    "collapsed": false
   },
   "outputs": [
    {
     "name": "stdout",
     "output_type": "stream",
     "text": [
      "/mnt/hgfs/Pacific cod/DataAnalysis/PCod-Korea-repo/analyses\n"
     ]
    }
   ],
   "source": [
    "cd ../analyses"
   ]
  },
  {
   "cell_type": "code",
   "execution_count": 3,
   "metadata": {
    "collapsed": true
   },
   "outputs": [],
   "source": [
    "!mkdir genalex"
   ]
  },
  {
   "cell_type": "code",
   "execution_count": 4,
   "metadata": {
    "collapsed": false
   },
   "outputs": [
    {
     "name": "stdout",
     "output_type": "stream",
     "text": [
      "/mnt/hgfs/Pacific cod/DataAnalysis/PCod-Korea-repo/analyses/genalex\n"
     ]
    }
   ],
   "source": [
    "cd genalex"
   ]
  },
  {
   "cell_type": "code",
   "execution_count": 20,
   "metadata": {
    "collapsed": false
   },
   "outputs": [
    {
     "data": {
      "text/plain": [
       "u'/mnt/hgfs/Pacific cod/DataAnalysis/PCod-Korea-repo/analyses/genalex'"
      ]
     },
     "execution_count": 20,
     "metadata": {},
     "output_type": "execute_result"
    }
   ],
   "source": [
    "pwd"
   ]
  },
  {
   "cell_type": "code",
   "execution_count": 32,
   "metadata": {
    "collapsed": false
   },
   "outputs": [
    {
     "name": "stdout",
     "output_type": "stream",
     "text": [
      "PCod Korea Lanes 1-4 final filtered genepop\r\n",
      "\n"
     ]
    }
   ],
   "source": [
    "\n",
    "genalex = open(\"batch_4_genalex.csv\", \"w\")\n",
    "\n",
    "#you need to enter these variables for the genalex file:\n",
    "title = \"Korea PCod Batch 4\"\n",
    "n_loci = 6959\n",
    "n_individs = 233\n",
    "n_pops = 9\n",
    "\n",
    "#make sure name and size position in each list are the same\n",
    "pop_names = [\"POH\", \"GE15\", \"NAM\", \"YS\", \"JUK\", \"JB07\", \"JB08\", \"BOR\", \"GE14\"]\n",
    "pop_sizes = [30,33,16,23,22,20,29,20,19]\n",
    "pop_sizes_str = ['30','33','16','23','22','20','29','20','19']\n",
    "\n",
    "\n",
    "genalex.write(str(n_loci) + \",\" + str(n_individs) + \",\" + str(n_pops) + \",\" + ','.join(pop_sizes_str) + \"\\n\")\n",
    "genalex.write(title + \", , ,\" + \",\".join(pop_names) + \"\\n\")\n",
    "\n",
    "\n",
    "#create a list of the pop numbers for second column in genalex\n",
    "col2_popnums = []\n",
    "for i in range(0, len(pop_sizes)):\n",
    "    col2_popnums.append([i + 1]*pop_sizes[i])\n",
    "    \n",
    "    \n",
    "#now you can read in the information from the genepop file. \n",
    "genepop = open(\"../batch_4.filteredMAF_filteredLoci_filteredIndivids_filteredHWE_noreps.gen\", \"r\")\n",
    "\n",
    "\n",
    "#--- create row three of file, which has two columns per locus\n",
    "row3 = \"Sample,Pop,\"\n",
    "\n",
    "print genepop.readline()\n",
    "loci_list = []\n",
    "\n",
    "for line in genepop:\n",
    "    if \"Pop\" not in line:\n",
    "        loci_list.append(line.strip())\n",
    "    elif \"Pop\" in line:\n",
    "        break\n",
    "        \n",
    "for i in range(len(loci_list)-2):\n",
    "    row3 += loci_list[i] + \",\\t,\"\n",
    "row3 += loci_list[len(loci_list)-1]\n",
    "    \n",
    "genalex.write(row3+ \"\\n\")\n",
    "\n",
    "\n",
    "#--- write over first population\n",
    "count = 0\n",
    "for line in genepop:\n",
    "    if \"Pop\" not in line:\n",
    "        count += 1\n",
    "        linelist = line.strip().split()\n",
    "        sampID = linelist[0]\n",
    "        geno_list = linelist[1:]\n",
    "        new_geno_str = \"\"\n",
    "        for geno in geno_list:\n",
    "            if geno == \"0000\":\n",
    "                new_geno_str += \"0,0,\"\n",
    "            elif geno == \"0101\":\n",
    "                new_geno_str += \"1,1,\"\n",
    "            elif geno == \"0102\":\n",
    "                new_geno_str += \"1,2,\"\n",
    "            elif geno == \"0201\":\n",
    "                new_geno_str += \"2,1,\"\n",
    "            elif geno == \"0202\":\n",
    "                new_geno_str += \"2,2,\"\n",
    "        next_row = sampID + \" ,\" + new_geno_str + \"\\n\"\n",
    "        genalex.write(next_row)\n",
    "genalex.close()\n",
    "\n",
    "#--- do the same for each of the other populations"
   ]
  },
  {
   "cell_type": "markdown",
   "metadata": {},
   "source": [
    "I am having a problem getting the population number to go in the second column after the sample name, so I'll have to insert this manually. "
   ]
  },
  {
   "cell_type": "code",
   "execution_count": null,
   "metadata": {
    "collapsed": true
   },
   "outputs": [],
   "source": []
  }
 ],
 "metadata": {
  "anaconda-cloud": {},
  "kernelspec": {
   "display_name": "Python [default]",
   "language": "python",
   "name": "python2"
  },
  "language_info": {
   "codemirror_mode": {
    "name": "ipython",
    "version": 2
   },
   "file_extension": ".py",
   "mimetype": "text/x-python",
   "name": "python",
   "nbconvert_exporter": "python",
   "pygments_lexer": "ipython2",
   "version": "2.7.12"
  }
 },
 "nbformat": 4,
 "nbformat_minor": 1
}
