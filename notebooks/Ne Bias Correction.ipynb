{
 "cells": [
  {
   "cell_type": "markdown",
   "metadata": {},
   "source": [
    "## Corrected for Ne bias from linkage\n",
    "\n",
    "\n",
    "When using the linkage disequilibrium method for calculating effective population size from RAD sequencing data, the large number of markers can downwardly bias the estimate AND create artificially small confidence intervals (Waples et al. 2016).\n",
    "\n",
    "I'm going to implement a bias correction method from Charlie Waters (original code written by Wes Larson), which will remove all pairwise comparisons of loci on the same chromosome when calculating linkage disequilibrium. \n",
    "\n",
    "<br>\n",
    "### Steps:\n",
    "1. Align all loci to the Atlantic cod genome, and filter out any that don't align\n",
    "2. Run Ne Estimator to obtain the Burrows file output\n",
    "3. Parse the Burrows file (python script above)\n",
    "4. Re-calculate Ne (R script above)\n",
    "\n",
    "\n",
    "\n",
    "<br>\n",
    "**Programs:**\n",
    "- Ne Estimator v2\n",
    "- python v2.7\n",
    "- R v3.4.0\n",
    "\n",
    "\n",
    "**Scripts (unedited):**\n",
    "- [get_clean_burrows.py]()\n",
    "- [calc_ne_for_charlie_CW]()\n",
    "\n",
    "_________________________________________\n",
    "\n",
    "<br>\n",
    "#### 4/30/2018\n",
    "\n",
    "### Align loci in genepop file to genome"
   ]
  },
  {
   "cell_type": "code",
   "execution_count": 9,
   "metadata": {
    "scrolled": false
   },
   "outputs": [
    {
     "name": "stdout",
     "output_type": "stream",
     "text": [
      "/mnt/hgfs/PCod-Korea-repo/analyses/Ne/NeEstimator/Correction\n"
     ]
    }
   ],
   "source": [
    "cd ../analyses/Ne/NeEstimator/Correction"
   ]
  },
  {
   "cell_type": "markdown",
   "metadata": {},
   "source": [
    "#### First, read in a list of loci from the genepop file"
   ]
  },
  {
   "cell_type": "code",
   "execution_count": 10,
   "metadata": {
    "collapsed": true
   },
   "outputs": [],
   "source": [
    "###################### objects ###############################\n",
    "myfile = \"batch_8_filteredMAF_filteredIndivids30_filteredLoci_filteredHWE_filteredCR_nomigrants_south_byyear.txt\" # list of outlier loci\n",
    "###############################################################\n",
    "\n",
    "\n",
    "# read in outlier loci IDs\n",
    "infile = open(myfile, \"r\")\n",
    "infile.readline() # header\n",
    "\n",
    "loci_list = []\n",
    "\n",
    "line = infile.readline()\n",
    "\n",
    "while \"pop\" not in line:\n",
    "    loci_list.append(line.strip().strip(\"Locus\"))\n",
    "    line = infile.readline()\n",
    "infile.close()"
   ]
  },
  {
   "cell_type": "code",
   "execution_count": 13,
   "metadata": {},
   "outputs": [
    {
     "data": {
      "text/plain": [
       "['10000', '10004', '10009', '1001', '10014']"
      ]
     },
     "execution_count": 13,
     "metadata": {},
     "output_type": "execute_result"
    }
   ],
   "source": [
    "loci_list[0:5]"
   ]
  },
  {
   "cell_type": "markdown",
   "metadata": {},
   "source": [
    "#### Then match those loci to sequences in the stacks catalog.tags.tsv file"
   ]
  },
  {
   "cell_type": "code",
   "execution_count": 19,
   "metadata": {},
   "outputs": [
    {
     "name": "stdout",
     "output_type": "stream",
     "text": [
      "Succesfully added sequences for  5804  loci.\n"
     ]
    }
   ],
   "source": [
    "###################### objects ###############################\n",
    "catalog = \"../../../../stacks_b8_verif/batch_7.catalog.tags.tsv\"\n",
    "newfile = \"batch_8_verif_loci.fa\" # parsed output from this script\n",
    "###############################################################\n",
    "\n",
    "\n",
    "# write out the locus IDs and the consensus sequences to a new fasta file\n",
    "seqfile = open(catalog, \"r\")\n",
    "outfile = open(newfile, \"w\")\n",
    "seqs_added = 0\n",
    "seqfile.readline()\n",
    "for line in seqfile:\n",
    "    linelist = line.strip().split(\"\\t\")\n",
    "    if linelist[2] in loci_list:\n",
    "        outfile.write(\">\" + linelist[2] + \"\\n\" + linelist[9] + \"\\n\")\n",
    "        seqs_added += 1\n",
    "seqfile.close()\n",
    "outfile.close()\n",
    "print \"Succesfully added sequences for \", seqs_added, \" loci.\""
   ]
  },
  {
   "cell_type": "markdown",
   "metadata": {},
   "source": [
    "#### Align to Atlantic cod reference"
   ]
  },
  {
   "cell_type": "code",
   "execution_count": 15,
   "metadata": {},
   "outputs": [
    {
     "name": "stdout",
     "output_type": "stream",
     "text": [
      "5804 reads; of these:\r\n",
      "  5804 (100.00%) were unpaired; of these:\r\n",
      "    500 (8.61%) aligned 0 times\r\n",
      "    4830 (83.22%) aligned exactly 1 time\r\n",
      "    474 (8.17%) aligned >1 times\r\n",
      "91.39% overall alignment rate\r\n"
     ]
    }
   ],
   "source": [
    "!bowtie2 -f \\\n",
    "-x ../../../../../PCod-Compare-repo/ACod_reference/Gadus_morhua2 \\\n",
    "-U batch_8_verif_loci.fa \\\n",
    "-S batch_8_loci_bowtie2_Acod.sam"
   ]
  },
  {
   "cell_type": "markdown",
   "metadata": {},
   "source": [
    "#### Filter for good alignments"
   ]
  },
  {
   "cell_type": "code",
   "execution_count": 17,
   "metadata": {
    "collapsed": true
   },
   "outputs": [],
   "source": [
    "!samtools view -Sq 10 batch_8_loci_bowtie2_Acod.sam > batch_8_loci_bowtie2_Acod_filteredMQ.sam"
   ]
  },
  {
   "cell_type": "markdown",
   "metadata": {},
   "source": [
    "#### Get list of aligned loci: output dataframe of locus \\t chromosome"
   ]
  },
  {
   "cell_type": "code",
   "execution_count": 23,
   "metadata": {},
   "outputs": [
    {
     "name": "stdout",
     "output_type": "stream",
     "text": [
      "Succesfully added sequences for  4319  loci.\n"
     ]
    }
   ],
   "source": [
    "###################### objects ###############################\n",
    "infile = \"batch_8_loci_bowtie2_Acod_filteredMQ.sam\"\n",
    "outfile = \"batch_8_verif_bowtie2_Acod_filteredMQ_loci_chr_list.txt\" # parsed output from this script\n",
    "###############################################################\n",
    "\n",
    "\n",
    "# write out the locus IDs and the consensus sequences to a new fasta file\n",
    "infile = open(infile, \"r\")\n",
    "outfile = open(outfile, \"w\")\n",
    "seqs_added = 0\n",
    "aligned_loci_list = []\n",
    "\n",
    "for line in infile:\n",
    "    linelist = line.strip().split()\n",
    "    if linelist[0] not in aligned_loci_list:\n",
    "        outfile.write(linelist[0] + \"\\t\" + linelist[2] + \"\\n\")\n",
    "        aligned_loci_list.append(linelist[0])\n",
    "        seqs_added += 1\n",
    "    elif linelist[0] in aligned_loci_list:\n",
    "        print \"oh no! locus \", linelist[0], \" aligned twice!\"\n",
    "infile.close()\n",
    "outfile.close()\n",
    "print \"Succesfully added sequences for \", seqs_added, \" loci.\""
   ]
  },
  {
   "cell_type": "markdown",
   "metadata": {},
   "source": [
    "#### With list of aligned loci: filter genepop file"
   ]
  },
  {
   "cell_type": "code",
   "execution_count": 31,
   "metadata": {},
   "outputs": [
    {
     "name": "stdout",
     "output_type": "stream",
     "text": [
      "/mnt/hgfs/PCod-Korea-repo\n"
     ]
    }
   ],
   "source": [
    "cd ../../../../"
   ]
  },
  {
   "cell_type": "code",
   "execution_count": 25,
   "metadata": {},
   "outputs": [
    {
     "name": "stdout",
     "output_type": "stream",
     "text": [
      "Do you want to (A) select a random subset of loci or (B-untested) select a specific set of loci? ^C\n",
      "Traceback (most recent call last):\n",
      "  File \"scripts/subsetGenepop.py\", line 30, in <module>\n",
      "    choice1 = raw_input(\"Do you want to (A) select a random subset of loci or (B-untested) select a specific set of loci? \")\n",
      "KeyboardInterrupt\n"
     ]
    }
   ],
   "source": [
    "!python scripts/subsetGenepop.py -h"
   ]
  },
  {
   "cell_type": "markdown",
   "metadata": {},
   "source": [
    "\n",
    "\n",
    "### Run Ne Estimator\n",
    "\n",
    "<br>\n",
    "Although I usually run the NeEstimator executable from the command line, you need to use the GUI to get the Burrows output file. \n",
    "For this test run, I used [this input file](). See settings below:\n",
    "\n",
    "![img-ne-gui](https://github.com/mfisher5/PCod-Korea-repo/blob/master/nb_pictures/NeEstimator_GUI.png?raw=true)\n",
    "\n",
    "\n",
    "**Note the Burrows file appears to only put out the Ne estimate for one population**\n",
    "\n",
    "<br>\n",
    "### Parse the Burrows file"
   ]
  },
  {
   "cell_type": "code",
   "execution_count": 32,
   "metadata": {},
   "outputs": [
    {
     "name": "stdout",
     "output_type": "stream",
     "text": [
      "/mnt/hgfs/PCod-Korea-repo/analyses/Ne/NeEstimator/Correction\n"
     ]
    }
   ],
   "source": [
    "cd analyses/Ne/NeEstimator/Correction"
   ]
  },
  {
   "cell_type": "code",
   "execution_count": 34,
   "metadata": {},
   "outputs": [
    {
     "name": "stdout",
     "output_type": "stream",
     "text": [
      "##function to convert default burrows output to cleaner smaller version for input to R\r",
      "\r\n",
      "##Wes Larson\r",
      "\r\n",
      "## 4/30/14\r",
      "\r\n",
      "##wlarson1@uw.edu\r",
      "\r\n",
      "#\r",
      "\r\n",
      "## Edited 4/30/2018 by Mary Fisher to take command line arguments\r",
      "\r\n",
      "######################################################################################\r",
      "\r\n",
      "\r",
      "\r\n",
      "import sys\r",
      "\r\n",
      "\r",
      "\r\n"
     ]
    }
   ],
   "source": [
    "!head get_clean_burrows.py"
   ]
  },
  {
   "cell_type": "code",
   "execution_count": 38,
   "metadata": {
    "collapsed": true
   },
   "outputs": [],
   "source": [
    "!python get_clean_burrows.py batch_8_final_filtered_aligned_nomigrants_south_byyear3Bur.txt"
   ]
  },
  {
   "cell_type": "code",
   "execution_count": 39,
   "metadata": {},
   "outputs": [
    {
     "name": "stdout",
     "output_type": "stream",
     "text": [
      "Output from NeEstimator v.2\r",
      "\r\n",
      "Input File: batch_8_final_filtered_aligned_nomigrants_south_byyear.txt\r",
      "\r\n",
      "\r",
      "\r\n",
      "Locus names are listed after their designated numberings\r",
      "\r\n",
      "(Up to 10 rightmost characters are printed and only up to 100 names are listed)\r",
      "\r\n",
      "    1:10000           2:10004           3:10009           4:1001            5:10020       \r",
      "\r\n",
      "    6:10023           7:1003            8:10030           9:10037          10:10040       \r",
      "\r\n",
      "   11:10049          12:10055          13:10056          14:10058          15:10061       \r",
      "\r\n",
      "   16:10068          17:10070          18:10088          19:10089          20:101         \r",
      "\r\n",
      "   21:10101          22:10112          23:10115          24:10123          25:10127       \r",
      "\r\n"
     ]
    }
   ],
   "source": [
    "!head batch_8_final_filtered_aligned_nomigrants_south_byyearBur.txt"
   ]
  },
  {
   "cell_type": "markdown",
   "metadata": {},
   "source": [
    "<br>\n",
    "### Run the R Script `calc_ne.R`"
   ]
  },
  {
   "cell_type": "code",
   "execution_count": null,
   "metadata": {
    "collapsed": true
   },
   "outputs": [],
   "source": []
  }
 ],
 "metadata": {
  "kernelspec": {
   "display_name": "Python 2",
   "language": "python",
   "name": "python2"
  },
  "language_info": {
   "codemirror_mode": {
    "name": "ipython",
    "version": 2
   },
   "file_extension": ".py",
   "mimetype": "text/x-python",
   "name": "python",
   "nbconvert_exporter": "python",
   "pygments_lexer": "ipython2",
   "version": "2.7.13"
  }
 },
 "nbformat": 4,
 "nbformat_minor": 2
}
