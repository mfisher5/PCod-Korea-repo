{
 "cells": [
  {
   "cell_type": "markdown",
   "metadata": {},
   "source": [
    "## Stacks batch 3 - notebook 2\n",
    "\n",
    "\n",
    "In this notebook, I use bowtie to align all individuals to the Korean reference genome, and then run the stacks pipeline from pstacks to populations. \n",
    "\n",
    "\n",
    "\n",
    "\n",
    "<br>\n",
    "<br>\n",
    "** Some organizational tasks first:**\n",
    "\n",
    "I already have the demultiplexed samples from `process_radtags`, I just had to insert a `.gitignore` file containing: \n",
    "\n",
    "`[^.]*`\n",
    "\n",
    "and then move the folder `samplesT142` into the Korea Pcod repo. \n",
    "\n",
    "<br>\n",
    "\n",
    "I also already have the reference genome (created in [this notebook](https://github.com/mfisher5/PCod-Korea-repo/blob/master/notebooks/Reference%20Genome.ipynb)), I just had to unzip it and insert the same `.gitignore` file as above. "
   ]
  },
  {
   "cell_type": "code",
   "execution_count": 1,
   "metadata": {
    "collapsed": false
   },
   "outputs": [
    {
     "data": {
      "text/plain": [
       "u'/mnt/hgfs/Pacific cod/DataAnalysis/PCod-Korea-repo/notebooks'"
      ]
     },
     "execution_count": 1,
     "metadata": {},
     "output_type": "execute_result"
    }
   ],
   "source": [
    "pwd"
   ]
  },
  {
   "cell_type": "code",
   "execution_count": 2,
   "metadata": {
    "collapsed": false
   },
   "outputs": [
    {
     "name": "stdout",
     "output_type": "stream",
     "text": [
      "/mnt/hgfs/Pacific cod/DataAnalysis/PCod-Korea-repo\n"
     ]
    }
   ],
   "source": [
    "cd ../"
   ]
  },
  {
   "cell_type": "code",
   "execution_count": 3,
   "metadata": {
    "collapsed": false
   },
   "outputs": [
    {
     "name": "stdout",
     "output_type": "stream",
     "text": [
      "\u001b[0m\u001b[01;32mflowchart_1.png\u001b[0m*  \u001b[34;42mL1L2samplesT142\u001b[0m/  \u001b[01;32mREADME.md\u001b[0m*                \u001b[34;42mscripts\u001b[0m/\r\n",
      "\u001b[01;32mflowchart_2.png\u001b[0m*  \u001b[34;42mnotebooks\u001b[0m/        \u001b[01;32mreference_genome.tar.gz\u001b[0m*\r\n"
     ]
    }
   ],
   "source": [
    "ls"
   ]
  },
  {
   "cell_type": "code",
   "execution_count": 4,
   "metadata": {
    "collapsed": true
   },
   "outputs": [],
   "source": [
    "!gzip -d reference_genome.tar.gz"
   ]
  },
  {
   "cell_type": "code",
   "execution_count": 5,
   "metadata": {
    "collapsed": false
   },
   "outputs": [
    {
     "name": "stdout",
     "output_type": "stream",
     "text": [
      "\u001b[0m\u001b[01;32mflowchart_1.png\u001b[0m*  \u001b[34;42mL1L2samplesT142\u001b[0m/  \u001b[01;32mREADME.md\u001b[0m*             \u001b[34;42mscripts\u001b[0m/\r\n",
      "\u001b[01;32mflowchart_2.png\u001b[0m*  \u001b[34;42mnotebooks\u001b[0m/        \u001b[01;32mreference_genome.tar\u001b[0m*\r\n"
     ]
    }
   ],
   "source": [
    "ls"
   ]
  },
  {
   "cell_type": "code",
   "execution_count": 6,
   "metadata": {
    "collapsed": false
   },
   "outputs": [
    {
     "name": "stdout",
     "output_type": "stream",
     "text": [
      "reference_genome/batch_3_ref_genome.4.ebwt\n",
      "reference_genome/\n",
      "reference_genome/batch_3_ref_genome.1.ebwt\n",
      "reference_genome/batch_3_ref_genome.3.ebwt\n",
      "reference_genome/batch_3_ref_genome.2.ebwt\n"
     ]
    }
   ],
   "source": [
    "!tar -xvf reference_genome.tar"
   ]
  },
  {
   "cell_type": "code",
   "execution_count": 8,
   "metadata": {
    "collapsed": false
   },
   "outputs": [
    {
     "name": "stdout",
     "output_type": "stream",
     "text": [
      "\u001b[0m\u001b[01;32mflowchart_1.png\u001b[0m*  \u001b[34;42mL1L2samplesT142\u001b[0m/  \u001b[01;32mREADME.md\u001b[0m*         \u001b[01;32mreference_genome.tar\u001b[0m*\r\n",
      "\u001b[01;32mflowchart_2.png\u001b[0m*  \u001b[34;42mnotebooks\u001b[0m/        \u001b[34;42mreference_genome\u001b[0m/  \u001b[34;42mscripts\u001b[0m/\r\n"
     ]
    }
   ],
   "source": [
    "ls"
   ]
  },
  {
   "cell_type": "code",
   "execution_count": 10,
   "metadata": {
    "collapsed": false
   },
   "outputs": [
    {
     "name": "stdout",
     "output_type": "stream",
     "text": [
      "/mnt/hgfs/Pacific cod/DataAnalysis/PCod-Korea-repo/reference_genome\n"
     ]
    }
   ],
   "source": [
    "cd reference_genome"
   ]
  },
  {
   "cell_type": "code",
   "execution_count": 11,
   "metadata": {
    "collapsed": false
   },
   "outputs": [
    {
     "name": "stdout",
     "output_type": "stream",
     "text": [
      "\u001b[0m\u001b[01;32mbatch_3_ref_genome.1.ebwt\u001b[0m*  \u001b[01;32mbatch_3_ref_genome.3.ebwt\u001b[0m*\r\n",
      "\u001b[01;32mbatch_3_ref_genome.2.ebwt\u001b[0m*  \u001b[01;32mbatch_3_ref_genome.4.ebwt\u001b[0m*\r\n"
     ]
    }
   ],
   "source": [
    "ls"
   ]
  },
  {
   "cell_type": "code",
   "execution_count": 12,
   "metadata": {
    "collapsed": true
   },
   "outputs": [],
   "source": [
    "!gzip ../reference_genome.tar"
   ]
  },
  {
   "cell_type": "markdown",
   "metadata": {},
   "source": [
    "\n",
    "<br>\n",
    "I also need to create the stacks folder, and copy in bowtie"
   ]
  },
  {
   "cell_type": "code",
   "execution_count": 13,
   "metadata": {
    "collapsed": false
   },
   "outputs": [
    {
     "data": {
      "text/plain": [
       "u'/mnt/hgfs/Pacific cod/DataAnalysis/PCod-Korea-repo/reference_genome'"
      ]
     },
     "execution_count": 13,
     "metadata": {},
     "output_type": "execute_result"
    }
   ],
   "source": [
    "pwd"
   ]
  },
  {
   "cell_type": "code",
   "execution_count": 15,
   "metadata": {
    "collapsed": false
   },
   "outputs": [
    {
     "name": "stdout",
     "output_type": "stream",
     "text": [
      "/mnt/hgfs/Pacific cod/DataAnalysis/PCod-Korea-repo\n"
     ]
    }
   ],
   "source": [
    "cd ../"
   ]
  },
  {
   "cell_type": "code",
   "execution_count": 16,
   "metadata": {
    "collapsed": true
   },
   "outputs": [],
   "source": [
    "!mkdir stacks_wgenome"
   ]
  },
  {
   "cell_type": "markdown",
   "metadata": {},
   "source": [
    "*This directory contains bowtie executable*"
   ]
  },
  {
   "cell_type": "markdown",
   "metadata": {},
   "source": [
    "\n",
    "\n",
    "<br>\n",
    "\n",
    "### use bowtie to align all individuals to reference genome"
   ]
  },
  {
   "cell_type": "code",
   "execution_count": 17,
   "metadata": {
    "collapsed": false
   },
   "outputs": [
    {
     "name": "stdout",
     "output_type": "stream",
     "text": [
      "/mnt/hgfs/Pacific cod/DataAnalysis/PCod-Korea-repo/scripts\n"
     ]
    }
   ],
   "source": [
    "cd scripts"
   ]
  },
  {
   "cell_type": "code",
   "execution_count": 21,
   "metadata": {
    "collapsed": false
   },
   "outputs": [
    {
     "name": "stdout",
     "output_type": "stream",
     "text": [
      "###### Generate Shell Script to Align all FastQ Data Files to BOWTIE ref genome ######\r\n",
      "\r\n",
      "## MF 3/9/2017\r\n",
      "## Edited 3/29/2017 for Korean Cod Data\r\n",
      "\r\n",
      "\r\n",
      "\r\n",
      "## At Command Line: python cstacks_populations_genShell_3-8 ARG1 ARG2\r\n",
      "##---- ARG1 = complete sample list file\r\n",
      "##---- ARG2 = relative path to bowtie ref database, including file name without filetype suffix\r\n",
      "##---- ARG3 = relative path to stacks fastq files, output from process_radtags\r\n",
      "##---- ARG4 = batch #\r\n",
      "\r\n"
     ]
    }
   ],
   "source": [
    "!head -n 13 RefGenome_BOWTIEalign_genshell3-29.py"
   ]
  },
  {
   "cell_type": "code",
   "execution_count": 30,
   "metadata": {
    "collapsed": false
   },
   "outputs": [],
   "source": [
    "!python RefGenome_BOWTIEalign_genshell3-29.py \\\n",
    "PopMap_L1L2stacks.txt \\\n",
    "../reference_genome/batch_3_ref_genome \\\n",
    "../L1L2samplesT142 \\\n",
    "3"
   ]
  },
  {
   "cell_type": "code",
   "execution_count": null,
   "metadata": {
    "collapsed": true
   },
   "outputs": [],
   "source": [
    "#ran in command line\n",
    "./RefGenome_BOWTIEalign_batch3.sh"
   ]
  }
 ],
 "metadata": {
  "anaconda-cloud": {},
  "kernelspec": {
   "display_name": "Python [default]",
   "language": "python",
   "name": "python2"
  },
  "language_info": {
   "codemirror_mode": {
    "name": "ipython",
    "version": 2
   },
   "file_extension": ".py",
   "mimetype": "text/x-python",
   "name": "python",
   "nbconvert_exporter": "python",
   "pygments_lexer": "ipython2",
   "version": "2.7.12"
  }
 },
 "nbformat": 4,
 "nbformat_minor": 1
}
