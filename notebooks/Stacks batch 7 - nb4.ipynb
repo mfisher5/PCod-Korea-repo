{
 "cells": [
  {
   "cell_type": "markdown",
   "metadata": {},
   "source": [
    "## Post-stacks Filtering: new process\n",
    "\n",
    "This will be the first post-stacks filtering done when using the `write_random_snp` model. The workflow is as follows: \n",
    "\n",
    "\n",
    "<br>\n",
    "<br>\n",
    "(1) Convert `populations` genepop output into a 2x2 chart, with loci as headers. \n",
    "\n",
    "(2) Filter out loci with too much missing data\n",
    "\n",
    "(3) Filter for minor allele frequency\n",
    "\n",
    "(4) Filter individuals for missing data\n",
    "\n",
    "(5) Filter for loci out of HWE"
   ]
  },
  {
   "cell_type": "code",
   "execution_count": 1,
   "metadata": {},
   "outputs": [
    {
     "data": {
      "text/plain": [
       "u'/mnt/hgfs/Pacific cod/DataAnalysis/PCod-Korea-repo/notebooks'"
      ]
     },
     "execution_count": 1,
     "metadata": {},
     "output_type": "execute_result"
    }
   ],
   "source": [
    "pwd"
   ]
  },
  {
   "cell_type": "code",
   "execution_count": 2,
   "metadata": {},
   "outputs": [
    {
     "name": "stdout",
     "output_type": "stream",
     "text": [
      "/mnt/hgfs/Pacific cod/DataAnalysis/PCod-Korea-repo/scripts\n"
     ]
    }
   ],
   "source": [
    "cd ../scripts\n"
   ]
  },
  {
   "cell_type": "code",
   "execution_count": 3,
   "metadata": {
    "collapsed": true
   },
   "outputs": [],
   "source": [
    "!mkdir PostStacksFilter_rSNP"
   ]
  },
  {
   "cell_type": "code",
   "execution_count": 4,
   "metadata": {},
   "outputs": [
    {
     "name": "stdout",
     "output_type": "stream",
     "text": [
      "/mnt/hgfs/Pacific cod/DataAnalysis/PCod-Korea-repo/scripts/PostStacksFilter_rSNP\n"
     ]
    }
   ],
   "source": [
    "cd PostStacksFilter_rSNP/"
   ]
  },
  {
   "cell_type": "markdown",
   "metadata": {},
   "source": [
    "### convert genepop to matrix text file"
   ]
  },
  {
   "cell_type": "code",
   "execution_count": 7,
   "metadata": {},
   "outputs": [
    {
     "name": "stdout",
     "output_type": "stream",
     "text": [
      "### Make 2 x 2 matrix out of 'populations' genepop file ###\r\n",
      "\r\n",
      "## MF 8/25/2017\r\n",
      "## Step 1 for Post-Stacks filtering with random SNP\r\n",
      "\r\n",
      "\r\n",
      "#################################################################################\r\n",
      "\r\n",
      "import argparse \r\n",
      "\r\n",
      "parser = argparse.ArgumentParser(description=\"convert populations genepop file into matrix for further filtering\")\r\n",
      "\r\n",
      "parser.add_argument(\"-g\", \"--genepop\", help=\"genepop file from populations\")\r\n",
      "parser.add_argument(\"-o\", \"--output\", help=\"output file\")\r\n",
      "parser.add_argument(\"-s\", \"--stacks_path\", help=\"path to the directory containing your stacks files\")\r\n",
      "\r\n",
      "args = parser.parse_args()\r\n",
      "\r\n",
      "#open files\r\n",
      "infile = open(args.stackspath + \"/\" + args.genepop, \"r\")\r\n"
     ]
    }
   ],
   "source": [
    "!head -n 20 convert_genepop_to_matrix.py"
   ]
  },
  {
   "cell_type": "code",
   "execution_count": 10,
   "metadata": {},
   "outputs": [
    {
     "name": "stdout",
     "output_type": "stream",
     "text": [
      "working with genepop file:  batch_7.genepop\n",
      "Stacks version 1.44; Genepop version 4.1.3; August 25, 2017\n",
      "\n",
      "writing loci to output file...\n",
      "writing genotypes to output file...\n",
      "done.\n"
     ]
    }
   ],
   "source": [
    "!python convert_genepop_to_matrix.py \\\n",
    "-g batch_7.genepop \\\n",
    "-o batch_7_genotypes.txt \\\n",
    "-s ../../stacks_b7_wgenome"
   ]
  },
  {
   "cell_type": "markdown",
   "metadata": {},
   "source": [
    "### Filter for missing data"
   ]
  },
  {
   "cell_type": "code",
   "execution_count": 9,
   "metadata": {},
   "outputs": [
    {
     "name": "stdout",
     "output_type": "stream",
     "text": [
      "usage: filter_loci_missing_data.py [-h] [-f INPUT] [-og OUTPUT_GOOD]\r\n",
      "                                   [-ob OUTPUT_BAD] [-op OUTPUT_PROPORTIONS]\r\n",
      "                                   [-s STACKS_PATH] [-p PERCENT]\r\n",
      "\r\n",
      "filter loci for missing data\r\n",
      "\r\n",
      "optional arguments:\r\n",
      "  -h, --help            show this help message and exit\r\n",
      "  -f INPUT, --input INPUT\r\n",
      "                        genotype file in 2 x 2 matrix\r\n",
      "  -og OUTPUT_GOOD, --output_good OUTPUT_GOOD\r\n",
      "                        output file containing 'good' loci\r\n",
      "  -ob OUTPUT_BAD, --output_bad OUTPUT_BAD\r\n",
      "                        output file containing 'bad' loci\r\n",
      "  -op OUTPUT_PROPORTIONS, --output_proportions OUTPUT_PROPORTIONS\r\n",
      "                        output file containing the missing data per locus\r\n",
      "  -s STACKS_PATH, --stacks_path STACKS_PATH\r\n",
      "                        path to the directory containing your stacks files\r\n",
      "  -p PERCENT, --percent PERCENT\r\n",
      "                        threshold to remove missing data: ___ percent or more\r\n",
      "                        missing genotypes\r\n"
     ]
    }
   ],
   "source": [
    "!python filter_loci_missing_data.py -h"
   ]
  },
  {
   "cell_type": "code",
   "execution_count": 11,
   "metadata": {},
   "outputs": [
    {
     "name": "stdout",
     "output_type": "stream",
     "text": [
      "Transposing matrix...\n",
      "calculating 'good' and 'bad' loci...\n",
      "writing 'good' and 'bad' loci to files...\n",
      "done.\n",
      "Total loci:  21526\n",
      "Loci retained:  20516\n",
      "Loci removed:  1010\n",
      "Missing data info per locus can be found in the 'proportions' output file.\n"
     ]
    }
   ],
   "source": [
    "!python filter_loci_missing_data.py \\\n",
    "-f batch_7_genotypes.txt \\\n",
    "-og batch_7.filteredLoci60 \\\n",
    "-ob batch_7.filteredLoci60_badloci \\\n",
    "-op batch_7.filteredLoci60_props \\\n",
    "-s ../../stacks_b7_wgenome \\\n",
    "-p 0.60"
   ]
  },
  {
   "cell_type": "markdown",
   "metadata": {},
   "source": [
    "### filter loci for MAF\n",
    "\n",
    "I will do this by running my data through genepop, parsing the output, and then filtering for MAF\n",
    "<br>\n",
    "\n",
    "\n",
    "But first, I want to see **# of alleles per locus before MAF filtering**"
   ]
  },
  {
   "cell_type": "code",
   "execution_count": 75,
   "metadata": {},
   "outputs": [],
   "source": [
    "\n",
    "infile = open(\"../../stacks_b7_wgenome/batch_7.filteredLoci60.txt\", \"r\")\n",
    "\n",
    "infile.readline()\n",
    "transition = 0\n",
    "transversion = 0\n",
    "\n",
    "for mystring in infile:\n",
    "    stripped_string = mystring.strip('\\n')\n",
    "    all_genotypes = stripped_string.split(' ')[1:] #subset genotypes only from line\n",
    "    alleles = []\n",
    "    all_n_alleles = []\n",
    "    for genotype in all_genotypes:\n",
    "        a1 = int(genotype[0:2]) #separate genotype into two alleles\n",
    "        a2 = int(genotype[2:])\n",
    "        if a1 not in alleles and a1 != 0: #append allele to list IF it is unique and not 0\n",
    "            alleles.append(a1)\n",
    "        if a2 not in alleles and a2 != 0:\n",
    "            alleles.append(a2)\n",
    "    if (1 in alleles and 3 in alleles) or (2 in alleles and 4 in alleles):\n",
    "        transition += 1\n",
    "    elif (1 in alleles and 2 in alleles) or (3 in alleles and 4 in alleles):\n",
    "        transversion += 1\n",
    "    n_alleles = len(alleles) #find total number of alleles at locus \n",
    "    all_n_alleles.append(n_alleles) #append that number to list\n",
    "infile.close()"
   ]
  },
  {
   "cell_type": "code",
   "execution_count": 76,
   "metadata": {
    "collapsed": true
   },
   "outputs": [],
   "source": [
    "import numpy as np\n",
    "import matplotlib.pyplot as plt"
   ]
  },
  {
   "cell_type": "code",
   "execution_count": 77,
   "metadata": {},
   "outputs": [
    {
     "data": {
      "image/png": "[encoded data removed]",
      "text/plain": [
       "<matplotlib.figure.Figure at 0x7f52f049df90>"
      ]
     },
     "metadata": {},
     "output_type": "display_data"
    }
   ],
   "source": [
    "plt.hist(all_n_alleles, color = \"darkcyan\", alpha = 0.75)\n",
    "plt.show()"
   ]
  },
  {
   "cell_type": "code",
   "execution_count": 78,
   "metadata": {
    "collapsed": true
   },
   "outputs": [],
   "source": [
    "plt.close()"
   ]
  },
  {
   "cell_type": "code",
   "execution_count": 79,
   "metadata": {
    "scrolled": true
   },
   "outputs": [
    {
     "name": "stdout",
     "output_type": "stream",
     "text": [
      "[]\n"
     ]
    }
   ],
   "source": [
    "print([i for i in all_n_alleles if i != 2])"
   ]
  },
  {
   "cell_type": "markdown",
   "metadata": {},
   "source": [
    "Well that's super weird... what is the likelihood of getting exactly two alleles at each snp without filtering for biallelic snps???\n",
    "\n",
    "\n",
    "<br>\n",
    "<br>\n",
    "What about my raw populations output, before filtering for missing data at each locus?"
   ]
  },
  {
   "cell_type": "code",
   "execution_count": 82,
   "metadata": {},
   "outputs": [],
   "source": [
    "infile = open(\"../../stacks_b7_wgenome/batch_7_genotypes.txt\", \"r\")\n",
    "tempfile = open(\"temp_transposed_genotypes.txt\", \"w\")\n",
    "\n",
    "header = True\n",
    "matrix_of_data = []\n",
    "\n",
    "for line in infile:\n",
    "    tmp_line = ''\n",
    "\n",
    "    if header:\n",
    "        tmp_line = ''\n",
    "        header = False\n",
    "\n",
    "    tmp_line += line\n",
    "\n",
    "    matrix_of_data.append(tmp_line.split())\n",
    "\n",
    "infile.close()\n",
    "        \n",
    "transposed = zip(*matrix_of_data)\n",
    "\n",
    "for line in transposed:\n",
    "\ttmp_output = str(line).replace('[', '').replace('(', '').replace(\"'\", '').replace(')', '').replace(',', '').replace(']', '') + '\\n'\n",
    "\ttempfile.write(tmp_output)\n",
    "\n",
    "tempfile.close()"
   ]
  },
  {
   "cell_type": "code",
   "execution_count": 83,
   "metadata": {},
   "outputs": [],
   "source": [
    "\n",
    "infile = open(\"temp_transposed_genotypes.txt\", \"r\")\n",
    "\n",
    "infile.readline()\n",
    "transition = 0\n",
    "transversion = 0\n",
    "# 1 - A, 2 - C, 3 - G, 4 - T\n",
    "\n",
    "for mystring in infile:\n",
    "    stripped_string = mystring.strip('\\n')\n",
    "    all_genotypes = stripped_string.split(' ')[1:] #subset genotypes only from line\n",
    "    alleles = []\n",
    "    all_n_alleles = []\n",
    "    for genotype in all_genotypes:\n",
    "        a1 = int(genotype[0:2]) #separate genotype into two alleles\n",
    "        a2 = int(genotype[2:])\n",
    "        if a1 not in alleles and a1 != 0: #append allele to list IF it is unique and not 0\n",
    "            alleles.append(a1)\n",
    "        if a2 not in alleles and a2 != 0:\n",
    "            alleles.append(a2)\n",
    "    if (1 in alleles and 3 in alleles) or (2 in alleles and 4 in alleles):\n",
    "        transition += 1\n",
    "    elif (1 in alleles and 2 in alleles) or (3 in alleles and 4 in alleles):\n",
    "        transversion += 1\n",
    "    n_alleles = len(alleles) #find total number of alleles at locus \n",
    "    all_n_alleles.append(n_alleles) #append that number to list\n",
    "infile.close()"
   ]
  },
  {
   "cell_type": "code",
   "execution_count": 84,
   "metadata": {},
   "outputs": [
    {
     "data": {
      "image/png": "[encoded data removed]",
      "text/plain": [
       "<matplotlib.figure.Figure at 0x7f53050fe9d0>"
      ]
     },
     "metadata": {},
     "output_type": "display_data"
    }
   ],
   "source": [
    "plt.hist(all_n_alleles, color = \"darkcyan\", alpha = 0.75)\n",
    "plt.show()"
   ]
  },
  {
   "cell_type": "code",
   "execution_count": 85,
   "metadata": {
    "collapsed": true
   },
   "outputs": [],
   "source": [
    "plt.close()"
   ]
  },
  {
   "cell_type": "markdown",
   "metadata": {
    "collapsed": true
   },
   "source": [
    "**Understanding why all SNPs are biallelic: see [this notebook]().**"
   ]
  },
  {
   "cell_type": "markdown",
   "metadata": {},
   "source": [
    "<br>\n",
    "<br>\n",
    "#### 8/29/2017\n",
    "<br>\n",
    "#### STEP ONE: convert matrix to genepop file"
   ]
  },
  {
   "cell_type": "code",
   "execution_count": 1,
   "metadata": {},
   "outputs": [
    {
     "data": {
      "text/plain": [
       "u'/mnt/hgfs/Pacific cod/DataAnalysis/PCod-Korea-repo/notebooks'"
      ]
     },
     "execution_count": 1,
     "metadata": {},
     "output_type": "execute_result"
    }
   ],
   "source": [
    "pwd"
   ]
  },
  {
   "cell_type": "code",
   "execution_count": 2,
   "metadata": {},
   "outputs": [
    {
     "name": "stdout",
     "output_type": "stream",
     "text": [
      "/mnt/hgfs/Pacific cod/DataAnalysis/PCod-Korea-repo/scripts/PostStacksFilter_rSNP\n"
     ]
    }
   ],
   "source": [
    "cd ../scripts/PostStacksFilter_rSNP/"
   ]
  },
  {
   "cell_type": "code",
   "execution_count": 4,
   "metadata": {},
   "outputs": [
    {
     "name": "stdout",
     "output_type": "stream",
     "text": [
      "usage: matrix_conversion_forGENEPOP.py [-h] [-f INPUT] [-o OUTPUT] [-m POPMAP]\r\n",
      "                                       [-pm PATH_POPMAP] [-ps PATH_STACKS]\r\n",
      "                                       [-t TITLE]\r\n",
      "\r\n",
      "convert matrix file (samples as column headers) to a genepop file.\r\n",
      "\r\n",
      "optional arguments:\r\n",
      "  -h, --help            show this help message and exit\r\n",
      "  -f INPUT, --input INPUT\r\n",
      "                        2 x 2 matrix file with samples as column headers, one\r\n",
      "                        row per locus.\r\n",
      "  -o OUTPUT, --output OUTPUT\r\n",
      "                        output file in genepop format\r\n",
      "  -m POPMAP, --popmap POPMAP\r\n",
      "                        population map file\r\n",
      "  -pm PATH_POPMAP, --path_popmap PATH_POPMAP\r\n",
      "                        path to population map file\r\n",
      "  -ps PATH_STACKS, --path_stacks PATH_STACKS\r\n",
      "                        path to stacks files, including input file\r\n",
      "  -t TITLE, --title TITLE\r\n",
      "                        title for your genepop file\r\n"
     ]
    }
   ],
   "source": [
    "!python matrix_conversion_forGENEPOP.py -h"
   ]
  },
  {
   "cell_type": "code",
   "execution_count": 12,
   "metadata": {},
   "outputs": [
    {
     "name": "stdout",
     "output_type": "stream",
     "text": [
      "You have 9 populations.\n",
      "These are your populations, with the number of samples in each:\n",
      "OrderedDict([('Pohang15', 34), ('Geoje15', 37), ('Namhae15', 19), ('YellowSea16', 30), ('Jukbyeon07', 37), ('JinhaeBay07', 52), ('JinhaeBay08', 56), ('Boryeong07', 24), ('Geoje14', 36)])\n",
      "creating script for part 2...\n",
      "calling script for part 2...\n",
      "transposing genotypes matrix...\n",
      "writing loci into genepop file...\n",
      "writing genotypes into genepop file by population...\n",
      "done.\n"
     ]
    }
   ],
   "source": [
    "!python matrix_conversion_forGENEPOP.py \\\n",
    "-f batch_7.filteredLoci60 \\\n",
    "-o batch_7_genepop.txt \\\n",
    "-m PopMap_L1-5_final.txt \\\n",
    "-pm ../ \\\n",
    "-ps ../../stacks_b7_wgenome \\\n",
    "-t \"Korean aggregates of Pacific cod, stacks batch 7\""
   ]
  },
  {
   "cell_type": "markdown",
   "metadata": {},
   "source": [
    "#### STEP TWO: GENEPOP\n",
    "\n",
    "Option 5 >> suboption 1\n",
    "\n",
    "<br>\n",
    "#### STEP THREE: Parse GENEPOP .INF output"
   ]
  },
  {
   "cell_type": "code",
   "execution_count": 13,
   "metadata": {},
   "outputs": [
    {
     "name": "stdout",
     "output_type": "stream",
     "text": [
      "usage: parse_INF_file.py [-h] [-f INPUT] [-p PATH_STACKS] [-pop POPS]\r\n",
      "                         [-b BATCH]\r\n",
      "\r\n",
      "parse .INF file from genepop to get allele frequences by population by locus\r\n",
      "\r\n",
      "optional arguments:\r\n",
      "  -h, --help            show this help message and exit\r\n",
      "  -f INPUT, --input INPUT\r\n",
      "                        .INF file\r\n",
      "  -p PATH_STACKS, --path_stacks PATH_STACKS\r\n",
      "                        path to stacks files, including .INF file\r\n",
      "  -pop POPS, --pops POPS\r\n",
      "                        string of population names, in quotation marks\r\n",
      "                        (separate each name with a space, not a comma). make\r\n",
      "                        sure this is in the same order as the populations\r\n",
      "                        listed in the .INF output file! (aka the order of your\r\n",
      "                        populations in your pop map file)\r\n",
      "  -b BATCH, --batch BATCH\r\n",
      "                        stacks batch number\r\n"
     ]
    }
   ],
   "source": [
    "!python parse_INF_file.py -h "
   ]
  },
  {
   "cell_type": "code",
   "execution_count": 14,
   "metadata": {},
   "outputs": [
    {
     "name": "stdout",
     "output_type": "stream",
     "text": [
      "You have a maximum of  2  alleles at one or more of your loci.\n",
      "9  populations detected.\n",
      "Heading written to output file. Now parsing allele frequencies...\n",
      "Done.\n",
      "Parsed allele frequencies in  20516  loci.\n"
     ]
    }
   ],
   "source": [
    "!python parse_INF_file.py \\\n",
    "-f batch_7_genepop.txt.INF \\\n",
    "-p ../../stacks_b7_wgenome \\\n",
    "-pop \"POH GEO NAM YS JUK JBE JBL BOR GEO14\" \\\n",
    "-b 7"
   ]
  },
  {
   "cell_type": "markdown",
   "metadata": {},
   "source": [
    "#### STEP FOUR: filter for MAF using parsed file and original matrix"
   ]
  },
  {
   "cell_type": "code",
   "execution_count": 15,
   "metadata": {},
   "outputs": [
    {
     "name": "stdout",
     "output_type": "stream",
     "text": [
      "usage: filter_for_MAF_from_parsedINF.py [-h] [-inf INFINPUT]\r\n",
      "                                        [-mat MATRIXINPUT] [-og OUTPUT_GOOD]\r\n",
      "                                        [-ob OUTPUT_BAD]\r\n",
      "                                        [-ofg OUTPUTFREQS_GOOD]\r\n",
      "                                        [-ofb OUTPUTFREQS_BAD]\r\n",
      "                                        [-p PATH_STACKS] [-a ALLELES]\r\n",
      "                                        [-b BATCH]\r\n",
      "\r\n",
      "filter for MAF using parsed .INF genepop file.\r\n",
      "\r\n",
      "optional arguments:\r\n",
      "  -h, --help            show this help message and exit\r\n",
      "  -inf INFINPUT, --INFinput INFINPUT\r\n",
      "                        parsed .INF file\r\n",
      "  -mat MATRIXINPUT, --MATRIXinput MATRIXINPUT\r\n",
      "                        half filtered matrix file that was used to make\r\n",
      "                        genepop file\r\n",
      "  -og OUTPUT_GOOD, --output_good OUTPUT_GOOD\r\n",
      "                        output file, good loci\r\n",
      "  -ob OUTPUT_BAD, --output_bad OUTPUT_BAD\r\n",
      "                        output file, bad loci\r\n",
      "  -ofg OUTPUTFREQS_GOOD, --outputfreqs_good OUTPUTFREQS_GOOD\r\n",
      "                        output file, frequencies of good loci\r\n",
      "  -ofb OUTPUTFREQS_BAD, --outputfreqs_bad OUTPUTFREQS_BAD\r\n",
      "                        output file, frequencies of bad loci\r\n",
      "  -p PATH_STACKS, --path_stacks PATH_STACKS\r\n",
      "                        path to stacks files, including .INF file\r\n",
      "  -a ALLELES, --alleles ALLELES\r\n",
      "                        maximum number of alleles; this should have been\r\n",
      "                        printed out during the parsing script.\r\n",
      "  -b BATCH, --batch BATCH\r\n",
      "                        stacks batch number\r\n"
     ]
    }
   ],
   "source": [
    "!python filter_for_MAF_from_parsedINF.py -h "
   ]
  },
  {
   "cell_type": "code",
   "execution_count": 16,
   "metadata": {},
   "outputs": [
    {
     "name": "stdout",
     "output_type": "stream",
     "text": [
      "9189  loci written to filtered output file.\r\n",
      "Filtered out  11327  loci.\r\n"
     ]
    }
   ],
   "source": [
    "!python filter_for_MAF_from_parsedINF.py \\\n",
    "-inf batch_7_parseINF.txt \\\n",
    "-mat batch_7.filteredLoci60 \\\n",
    "-og batch_7.filteredLoci60_filteredMAF \\\n",
    "-ob batch_7.filteredLoci60_filteredMAF_badloci \\\n",
    "-ofg batch_7.filteredLoci60_filteredMAF_goodfreqs \\\n",
    "-ofb batch_7.filteredLoci60_filteredMAF_badfreqs \\\n",
    "-p ../../stacks_b7_wgenome \\\n",
    "-a 2 \\\n",
    "-b 7 \\"
   ]
  },
  {
   "cell_type": "markdown",
   "metadata": {},
   "source": [
    "<br>\n",
    "<br>\n",
    "\n",
    "### Filter Loci for Missing Data\n",
    "\n",
    "I'd like to filter more stringently for loci missing data, to a threshold of p = 0.20. \n",
    "Since my matrix file has individuals as columns and loci as rows, I'll use a slightly different script than above. "
   ]
  },
  {
   "cell_type": "code",
   "execution_count": 17,
   "metadata": {},
   "outputs": [
    {
     "name": "stdout",
     "output_type": "stream",
     "text": [
      "usage: filter_loci_missing_data_postMAF.py [-h] [-f INPUT] [-og OUTPUT_GOOD]\r\n",
      "                                           [-ob OUTPUT_BAD]\r\n",
      "                                           [-op OUTPUT_PROPORTIONS]\r\n",
      "                                           [-s STACKS_PATH] [-p PERCENT]\r\n",
      "\r\n",
      "filter loci for missing data\r\n",
      "\r\n",
      "optional arguments:\r\n",
      "  -h, --help            show this help message and exit\r\n",
      "  -f INPUT, --input INPUT\r\n",
      "                        genotype file in 2 x 2 matrix\r\n",
      "  -og OUTPUT_GOOD, --output_good OUTPUT_GOOD\r\n",
      "                        output file containing 'good' loci\r\n",
      "  -ob OUTPUT_BAD, --output_bad OUTPUT_BAD\r\n",
      "                        output file containing 'bad' loci\r\n",
      "  -op OUTPUT_PROPORTIONS, --output_proportions OUTPUT_PROPORTIONS\r\n",
      "                        output file containing the missing data per locus\r\n",
      "  -s STACKS_PATH, --stacks_path STACKS_PATH\r\n",
      "                        path to the directory containing your stacks files\r\n",
      "  -p PERCENT, --percent PERCENT\r\n",
      "                        threshold to remove missing data: ___ percent or more\r\n",
      "                        missing genotypes\r\n"
     ]
    }
   ],
   "source": [
    "!python filter_loci_missing_data_postMAF.py -h "
   ]
  },
  {
   "cell_type": "code",
   "execution_count": 19,
   "metadata": {},
   "outputs": [
    {
     "name": "stdout",
     "output_type": "stream",
     "text": [
      "calculating 'good' and 'bad' loci...\n",
      "writing 'good' and 'bad' loci to files...\n",
      "done.\n",
      "Total loci:  9189\n",
      "Loci retained:  5447\n",
      "Loci removed:  3742\n",
      "Missing data info per locus can be found in the 'proportions' output file.\n"
     ]
    }
   ],
   "source": [
    "!python filter_loci_missing_data_postMAF.py \\\n",
    "-f batch_7.filteredLoci60_filteredMAF \\\n",
    "-og batch_7.filteredLoci60_filteredMAF_Loci2 \\\n",
    "-ob batch_7.filteredLoci60_filteredMAF_Loci2_badloci \\\n",
    "-op batch_7.filteredLoci60_filteredMAF_Loci2_props20 \\\n",
    "-s ../../stacks_b7_wgenome \\\n",
    "-p 0.20"
   ]
  },
  {
   "cell_type": "markdown",
   "metadata": {},
   "source": [
    "<br>\n",
    "<br>\n",
    "### Filter individuals for missing data"
   ]
  },
  {
   "cell_type": "code",
   "execution_count": 21,
   "metadata": {},
   "outputs": [
    {
     "name": "stdout",
     "output_type": "stream",
     "text": [
      "usage: filter_individs_missing_data.py [-h] [-f INPUT] [-og OUTPUT_GOOD]\r\n",
      "                                       [-ob OUTPUT_BAD]\r\n",
      "                                       [-op OUTPUT_PROPORTIONS]\r\n",
      "                                       [-s STACKS_PATH] [-p PERCENT]\r\n",
      "\r\n",
      "filter individuals for missing data\r\n",
      "\r\n",
      "optional arguments:\r\n",
      "  -h, --help            show this help message and exit\r\n",
      "  -f INPUT, --input INPUT\r\n",
      "                        genotype file in 2 x 2 matrix\r\n",
      "  -og OUTPUT_GOOD, --output_good OUTPUT_GOOD\r\n",
      "                        output file containing 'good' loci\r\n",
      "  -ob OUTPUT_BAD, --output_bad OUTPUT_BAD\r\n",
      "                        output file containing 'bad' loci\r\n",
      "  -op OUTPUT_PROPORTIONS, --output_proportions OUTPUT_PROPORTIONS\r\n",
      "                        output file containing the missing data per individual\r\n",
      "  -s STACKS_PATH, --stacks_path STACKS_PATH\r\n",
      "                        path to the directory containing your stacks files\r\n",
      "  -p PERCENT, --percent PERCENT\r\n",
      "                        threshold to remove missing data: ___ percent or more\r\n",
      "                        loci missing genotypes\r\n"
     ]
    }
   ],
   "source": [
    "!python filter_individs_missing_data.py -h"
   ]
  },
  {
   "cell_type": "code",
   "execution_count": 23,
   "metadata": {},
   "outputs": [
    {
     "name": "stdout",
     "output_type": "stream",
     "text": [
      "Transposing matrix...\n",
      "calculating which individuals are missing too much data...\n",
      "Deleting temporary file...\n",
      "writing individuals to files...\n",
      "done.\n",
      "Total individuals processed:  325\n",
      "Individuals retained:  299\n",
      "Individuals removed:  26\n",
      "Missing data info per individual can be found in the 'proportions' output file.\n"
     ]
    }
   ],
   "source": [
    "!python filter_individs_missing_data.py \\\n",
    "-f batch_7.filteredLoci60_filteredMAF_Loci2 \\\n",
    "-og batch_7.filteredLoci60_filteredMAF_Loci2_filteredIndivids \\\n",
    "-ob batch_7.filteredLoci60_filteredMAF_Loci2_filteredIndivids_bad \\\n",
    "-op batch_7.filteredLoci60_filteredMAF_Loci2_filteredIndivids_props \\\n",
    "-s ../../stacks_b7_wgenome \\\n",
    "-p 0.20"
   ]
  },
  {
   "cell_type": "markdown",
   "metadata": {},
   "source": [
    "#### With strictest loci / individual missing data filters:\n",
    "\n",
    "#### 5,447 loci retained\n",
    "#### 299 / 325 individuals retained"
   ]
  },
  {
   "cell_type": "code",
   "execution_count": null,
   "metadata": {
    "collapsed": true
   },
   "outputs": [],
   "source": []
  }
 ],
 "metadata": {
  "anaconda-cloud": {},
  "kernelspec": {
   "display_name": "Python 2",
   "language": "python",
   "name": "python2"
  },
  "language_info": {
   "codemirror_mode": {
    "name": "ipython",
    "version": 2
   },
   "file_extension": ".py",
   "mimetype": "text/x-python",
   "name": "python",
   "nbconvert_exporter": "python",
   "pygments_lexer": "ipython2",
   "version": "2.7.13"
  }
 },
 "nbformat": 4,
 "nbformat_minor": 1
}
