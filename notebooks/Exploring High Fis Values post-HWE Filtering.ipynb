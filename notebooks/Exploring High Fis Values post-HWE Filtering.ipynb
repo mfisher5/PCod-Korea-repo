{
 "cells": [
  {
   "cell_type": "markdown",
   "metadata": {},
   "source": [
    "## High Fis Values post HWE Filtering\n",
    "\n",
    "Ater running batch 6 of the stacks pipeline, I have quite a few loci that have Fis values of 1.0 even after HWE filtering. I'm going to try to understand why this is happening, and if I needed to fix my filtering. \n",
    "\n",
    "In this notebook: \n",
    "\n",
    "1. The plot that led to this exploration, which shows Fis values by locus by population\n",
    "2. Examples from the original genepop output, to look at why \"NAs\" are showing up in my parsed file that I am using to filter for Hardy Weinberg equilibrium. \n",
    "3. Identify \"loci of interest\" that have Fis values equal to 1.0. At these \"loci of interest,\" is there only one population with an Fis value equal to 1.0, or several populations?\n",
    "4. Double check manually to make sure that some of the loci identified as out of HWE were not accidentally kept in the filtered file.\n",
    "\n",
    "\n",
    "<br>\n",
    "#### 7/25/2017\n",
    "\n",
    "<br>\n",
    "\n",
    "### ONE: How many haplotypes have Fis == 1.0? The plot that started this exploration"
   ]
  },
  {
   "cell_type": "code",
   "execution_count": 78,
   "metadata": {
    "collapsed": false,
    "scrolled": false
   },
   "outputs": [
    {
     "data": {
      "text/plain": [
       "u'/mnt/hgfs/Pacific cod/DataAnalysis/PCod-Korea-repo/analyses'"
      ]
     },
     "execution_count": 78,
     "metadata": {},
     "output_type": "execute_result"
    }
   ],
   "source": [
    "pwd"
   ]
  },
  {
   "cell_type": "markdown",
   "metadata": {},
   "source": [
    "The parsed genepop output was created in [this notebook](https://github.com/mfisher5/PCod-Korea-repo/blob/master/notebooks/Stacks%20batch%206.30%20-%20data%20visualization.ipynb). The genepop file run through was `batch_6_filteredMAF_filteredLoci_30filteredIndivids_filteredHWE_noreps.txt`"
   ]
  },
  {
   "cell_type": "code",
   "execution_count": 79,
   "metadata": {
    "collapsed": true
   },
   "outputs": [],
   "source": [
    "## Get population codes ##\n",
    "fisfile = open(\"batch_6_30_INFgenepop_parsed_output.txt\", \"r\")\n",
    "\n",
    "fisfile.readline()\n",
    "\n",
    "pop_codes = []\n",
    "\n",
    "for line in fisfile:\n",
    "    if line.strip().split()[0] not in pop_codes:\n",
    "        pop_codes.append(line.strip().split()[0])\n",
    "fisfile.close()"
   ]
  },
  {
   "cell_type": "code",
   "execution_count": 80,
   "metadata": {
    "collapsed": false
   },
   "outputs": [
    {
     "name": "stdout",
     "output_type": "stream",
     "text": [
      "Total SNPs counted: 47284\n"
     ]
    }
   ],
   "source": [
    "# create list of lists containing fis values #\n",
    "\n",
    "fisfile = open(\"batch_6_30_INFgenepop_parsed_output.txt\", \"r\")\n",
    "\n",
    "lines = fisfile.readlines() # save all lines in file to variable\n",
    "fisfile.close()\n",
    "headerline = lines[0] # get header line\n",
    "restlines = lines[1:] # get rest of lines\n",
    "\n",
    "fis_sets = []\n",
    "total_count = 0\n",
    "pop_index = 0\n",
    "\n",
    "snp_all_fis_gen = []\n",
    "for pop in pop_codes:\n",
    "    pop_fis = [] #create empty list\n",
    "    for line in restlines:\n",
    "        linelist = line.strip().split()\n",
    "        if linelist[0] == pop: #if the population for that line matches pop we are interested in\n",
    "            snp_fis = float(linelist[4])\n",
    "            pop_fis.append(snp_fis) #append the snp fis to the pop specific fis list\n",
    "            snp_all_fis_gen.append(snp_fis) #append the snp fis to the overall fis list\n",
    "            total_count += 1\n",
    "    pop_index += 1\n",
    "    fis_sets.append(pop_fis)\n",
    "\n",
    "print \"Total SNPs counted: \" + str(total_count)"
   ]
  },
  {
   "cell_type": "code",
   "execution_count": 81,
   "metadata": {
    "collapsed": true
   },
   "outputs": [],
   "source": [
    "#import plotting packages\n",
    "import matplotlib.pyplot as plt\n",
    "import numpy as np"
   ]
  },
  {
   "cell_type": "code",
   "execution_count": 82,
   "metadata": {
    "collapsed": false,
    "scrolled": true
   },
   "outputs": [
    {
     "data": {
      "image/png": "[encoded data removed]",
      "text/plain": [
       "<matplotlib.figure.Figure at 0x7f0f8603e150>"
      ]
     },
     "metadata": {},
     "output_type": "display_data"
    }
   ],
   "source": [
    "plt.hist(snp_all_fis_gen, bins = np.arange(-1, 1.1, .1)+0.05, color = \"darkcyan\")\n",
    "plt.suptitle(\"Haplotype-level Fis across populations\")\n",
    "plt.xlabel(\"Fis\")\n",
    "plt.ylabel(\"Frequency\")\n",
    "plt.show()"
   ]
  },
  {
   "cell_type": "code",
   "execution_count": 83,
   "metadata": {
    "collapsed": true
   },
   "outputs": [],
   "source": [
    "plt.close()"
   ]
  },
  {
   "cell_type": "code",
   "execution_count": 84,
   "metadata": {
    "collapsed": false
   },
   "outputs": [],
   "source": [
    "#find all of the fis values that are equal to 1.0\n",
    "fis_equal_one = [i for i in snp_all_fis_gen if float(i) == 1.0]"
   ]
  },
  {
   "cell_type": "code",
   "execution_count": 85,
   "metadata": {
    "collapsed": false
   },
   "outputs": [
    {
     "name": "stdout",
     "output_type": "stream",
     "text": [
      "358\n"
     ]
    }
   ],
   "source": [
    "print len(fis_equal_one)"
   ]
  },
  {
   "cell_type": "markdown",
   "metadata": {},
   "source": [
    "So there are **358 haplotypes** (across loci, across populations) that have an Fis value equal to 1.0\n",
    "\n",
    "\n",
    "<br>\n",
    "<br>\n",
    "<br>\n"
   ]
  },
  {
   "cell_type": "markdown",
   "metadata": {},
   "source": [
    "### TWO: Look into the original `.txt.P` GENEPOP output file\n",
    "\n",
    "**Hypothesis: Some of the \"NAs\" that are in the parsed file that I am using for filtering might be arising from pvalues that are listed as \"highly significant\" instead of just 0.0. These loci are therefore not being filtered out, but they should be.**"
   ]
  },
  {
   "cell_type": "code",
   "execution_count": 1,
   "metadata": {
    "collapsed": false
   },
   "outputs": [
    {
     "data": {
      "text/plain": [
       "u'/mnt/hgfs/Pacific cod/DataAnalysis/PCod-Korea-repo/notebooks'"
      ]
     },
     "execution_count": 1,
     "metadata": {},
     "output_type": "execute_result"
    }
   ],
   "source": [
    "pwd"
   ]
  },
  {
   "cell_type": "code",
   "execution_count": 2,
   "metadata": {
    "collapsed": false
   },
   "outputs": [
    {
     "name": "stdout",
     "output_type": "stream",
     "text": [
      "/mnt/hgfs/Pacific cod/DataAnalysis/PCod-Korea-repo/stacks_b6_wgenome\n"
     ]
    }
   ],
   "source": [
    "cd ../stacks_b6_wgenome/"
   ]
  },
  {
   "cell_type": "markdown",
   "metadata": {},
   "source": [
    "Dan's script parses out p-values using the \"by population\" chart at the end of the formatted genepop output file, `batch_6_filteredMAF_filteredLoci_30filteredIndivids.txt.P`. \n",
    "\n",
    "**First Few lines of the original genepop output that is providing the data for the parsed file**"
   ]
  },
  {
   "cell_type": "code",
   "execution_count": null,
   "metadata": {
    "collapsed": true
   },
   "outputs": [],
   "source": [
    "==========================================\n",
    "     Results by population\n",
    "==========================================\n",
    "\n",
    "\n",
    " Pop : PO031715_24\n",
    "-----------------------------------------\n",
    "                             Fis estimates\n",
    "                            ---------------\n",
    "locus       P-val   S.E.    W&C     R&H     Steps \n",
    "----------- ------- ------- ------- ------- ------\n",
    "10000       0.6780    -     -0.1222 -0.1239     10 matrices\n",
    "10006        No information. \n",
    "10009        No information. \n",
    "10017       0.3156    -      0.2105  0.2147      4 matrices\n",
    "10019       1.0000    -     -0.0169 -0.0172      2 matrices\n",
    "10023        No information. \n",
    "10024       0.0679    -     -0.3636 -0.3674     14 matrices\n",
    "10025       0.6987    -     -0.1111 -0.1127     12 matrices\n",
    "10029        No information. \n",
    "10031       1.0000    -     -0.0345 -0.0350      2 matrices\n",
    "10037        No information. \n",
    "1004        0.5532    -     -0.2000 -0.2026      6 matrices"
   ]
  },
  {
   "cell_type": "markdown",
   "metadata": {},
   "source": [
    "**So the \"NAs\" are coming from the \"No Information\" designations. Looking at the chart for locus 10006 to see where the \"No information\" designation comes from:**"
   ]
  },
  {
   "cell_type": "code",
   "execution_count": null,
   "metadata": {
    "collapsed": true
   },
   "outputs": [],
   "source": [
    "Locus \"10006\"\n",
    "-----------------------------------------\n",
    "                             Fis estimates\n",
    "                            ---------------\n",
    "POP         P-val   S.E.    W&C     R&H     Steps \n",
    "----------- ------- ------- ------- ------- ------\n",
    "PO031715_2   - \n",
    "GEO012315_   - \n",
    "NA021015_3   - \n",
    "YS121316_3   - \n",
    "JUK07_37.1  0.1976    -      0.3514  0.3611      3 matrices\n",
    "JB021108_0   - \n",
    "JB021108_4  0.0196    -      1.0000  1.0400      2 matrices\n",
    "BOR07_22     - \n",
    "GEO020414_   - \n",
    "\n",
    "All (Fisher's method):\n",
    " Chi2:    11.1070\n",
    " Df   :    4.0000\n",
    " Prob :    0.0254"
   ]
  },
  {
   "cell_type": "markdown",
   "metadata": {},
   "source": [
    "So that locus is not present in those populations (to be retained, loci only have to be present in >5% of individuals in at least one population). \n",
    "\n",
    "\n",
    "<br>\n",
    "<br>\n",
    "\n",
    "### THREE: Of the loci with Fis values equal to 1.0, how many populations have an Fis = to 1.0?**\n",
    "\n",
    "Basically, do the Fis values of 1.0 come from a few loci with a lot of populations' Fis equal to 1.0, or a large number of loci with only one population's Fis equal to 1.0?\n"
   ]
  },
  {
   "cell_type": "code",
   "execution_count": 88,
   "metadata": {
    "collapsed": false
   },
   "outputs": [],
   "source": [
    "# get a list of loci that have at least one population in which the p value is less than 0.001\n",
    "#---- this assumes (hopefully correctly) that pvals < 0.001 indicate Fis at or close to 1.0\n",
    "#---- had to use the pvals file because it contains only loci retained after HWE\n",
    "fisfile = open(\"batch_6_30_INFgenepop_parsed_output.txt\", \"r\")\n",
    "\n",
    "LociFis_perPop = {}\n",
    "fisfile.readline()\n",
    "\n",
    "for line in fisfile:\n",
    "        linelist = line.strip().split(\" \")\n",
    "        locus = linelist[1]\n",
    "        fis = linelist[4]\n",
    "        if locus not in LociFis_perPop.keys():\n",
    "            LociFis_perPop[locus] = [fis]\n",
    "        elif locus in LociFis_perPop.keys():\n",
    "            fis_list = LociFis_perPop[locus]\n",
    "            fis_list.append(fis)\n",
    "            LociFis_perPop[locus] = fis_list\n",
    "fisfile.close()\n",
    "\n",
    "\n",
    "fis1_dict = {}\n",
    "for locus in LociFis_perPop.keys():\n",
    "    fis_list = LociFis_perPop[locus]\n",
    "    n_fis_one = [i for i in fis_list if i != \"NA\" and float(i) ==1.0]\n",
    "    if len(n_fis_one) > 0:\n",
    "        fis1_dict[locus] = len(n_fis_one)"
   ]
  },
  {
   "cell_type": "code",
   "execution_count": 90,
   "metadata": {
    "collapsed": false
   },
   "outputs": [
    {
     "name": "stdout",
     "output_type": "stream",
     "text": [
      "344\n"
     ]
    }
   ],
   "source": [
    "# how many loci likely have at least one population with an Fis = 1.0?\n",
    "print len(fis1_dict.keys())"
   ]
  },
  {
   "cell_type": "markdown",
   "metadata": {},
   "source": [
    "**So there are 344 loci with at least one population Fis = to 1.0**\n",
    "\n",
    "<br>\n",
    "<br>\n",
    "<br>\n",
    "*Aside - look at the genepop output file for one of the loci identified above*"
   ]
  },
  {
   "cell_type": "code",
   "execution_count": 91,
   "metadata": {
    "collapsed": false
   },
   "outputs": [
    {
     "data": {
      "text/plain": [
       "['19492', '18494', '18491', '19712']"
      ]
     },
     "execution_count": 91,
     "metadata": {},
     "output_type": "execute_result"
    }
   ],
   "source": [
    "# get locus IDs of loci with at least one population with Fis = to 1.0\n",
    "fis1_dict.keys()[0:4]"
   ]
  },
  {
   "cell_type": "code",
   "execution_count": null,
   "metadata": {
    "collapsed": true
   },
   "outputs": [],
   "source": [
    "Locus \"19492\"\n",
    "-----------------------------------------\n",
    "                             Fis estimates\n",
    "                            ---------------\n",
    "POP         P-val   S.E.    W&C     R&H     Steps \n",
    "----------- ------- ------- ------- ------- ------\n",
    "PO031715_2   - \n",
    "GEO012315_   - \n",
    "NA021015_3   - \n",
    "YS121316_3  0.0698    -      0.6557  0.6814      2 matrices\n",
    "JUK07_37.1  1.0000    -     -0.0222 -0.0227      2 matrices\n",
    "JB021108_0  0.0270    -      1.0000  1.0556      2 matrices\n",
    "JB021108_4   - \n",
    "BOR07_22     - \n",
    "GEO020414_   - \n",
    "\n",
    "All (Fisher's method):\n",
    " Chi2:    12.5470\n",
    " Df   :    6.0000\n",
    " Prob :    0.0508"
   ]
  },
  {
   "cell_type": "markdown",
   "metadata": {},
   "source": [
    "\n",
    "<br>\n",
    "<br>\n",
    "<br>\n",
    "** Plot the number of populations per locus of interest with Fis equal to 1.0**"
   ]
  },
  {
   "cell_type": "code",
   "execution_count": 92,
   "metadata": {
    "collapsed": true
   },
   "outputs": [],
   "source": [
    "# create list of counts of # pops with Fis = 1 from dictionary above\n",
    "n_pops_fis1 = []\n",
    "for locus in fis1_dict.keys():\n",
    "    n_pops_fis1.append(fis1_dict[locus])"
   ]
  },
  {
   "cell_type": "code",
   "execution_count": 93,
   "metadata": {
    "collapsed": true
   },
   "outputs": [],
   "source": [
    "import numpy as np\n",
    "import matplotlib.pyplot as plt"
   ]
  },
  {
   "cell_type": "code",
   "execution_count": 102,
   "metadata": {
    "collapsed": false
   },
   "outputs": [
    {
     "data": {
      "image/png": "[encoded data removed]",
      "text/plain": [
       "<matplotlib.figure.Figure at 0x7f0f84d1c3d0>"
      ]
     },
     "metadata": {},
     "output_type": "display_data"
    }
   ],
   "source": [
    "plt.hist(n_pops_fis1, bins = np.arange(0,5,0.5), color = \"darkcyan\")\n",
    "plt.suptitle(\"Number of populations with Fis = 1.0 \\n (only for loci with at least one pop's Fis = 1.0)\")\n",
    "plt.xlabel(\"Number of populations with Fis = 1.0\")\n",
    "plt.ylabel(\"Number of loci\")\n",
    "plt.show()\n"
   ]
  },
  {
   "cell_type": "code",
   "execution_count": 103,
   "metadata": {
    "collapsed": true
   },
   "outputs": [],
   "source": [
    "plt.close()"
   ]
  },
  {
   "cell_type": "markdown",
   "metadata": {},
   "source": [
    "it almost looks like one of those loci has zero populations with Fis = 1.0..."
   ]
  },
  {
   "cell_type": "code",
   "execution_count": 106,
   "metadata": {
    "collapsed": false
   },
   "outputs": [
    {
     "name": "stdout",
     "output_type": "stream",
     "text": [
      "There are  0  loci erroneously included in the dictionary\n"
     ]
    }
   ],
   "source": [
    "x = 0\n",
    "for count in n_pops_fis1:\n",
    "    if count == float(0):\n",
    "        x += 1\n",
    "print \"There are \", x, \" loci erroneously included in the dictionary\""
   ]
  },
  {
   "cell_type": "markdown",
   "metadata": {},
   "source": [
    "\n",
    "\n",
    "<br>\n",
    "<br>\n",
    "\n",
    "### FOUR: Make sure that the \"bad\" loci that are out of HWE were correctly filtered out of the genepop file**\n",
    "\n",
    "Some loci that are in my file: `batch_6.filteredMAF_filteredLoci_30filteredIndivids_BADhwe.txt`: 10006, 10062, 9994, 998\n",
    "\n",
    "None of these are in my base file, `batch_6.filteredMAF_filteredLoci_30filteredIndivids_filteredHWE.gen`, or in the file I put into genepop: `batch_6_filteredMAF_filteredLoci_30filteredIndivids_filteredHWE.txt`, or in the parsed genepop file, `batch_6_30_INFgenepop_parsed_output.txt`"
   ]
  },
  {
   "cell_type": "code",
   "execution_count": null,
   "metadata": {
    "collapsed": true
   },
   "outputs": [],
   "source": []
  }
 ],
 "metadata": {
  "anaconda-cloud": {},
  "kernelspec": {
   "display_name": "Python [default]",
   "language": "python",
   "name": "python2"
  },
  "language_info": {
   "codemirror_mode": {
    "name": "ipython",
    "version": 2
   },
   "file_extension": ".py",
   "mimetype": "text/x-python",
   "name": "python",
   "nbconvert_exporter": "python",
   "pygments_lexer": "ipython2",
   "version": "2.7.12"
  }
 },
 "nbformat": 4,
 "nbformat_minor": 1
}
