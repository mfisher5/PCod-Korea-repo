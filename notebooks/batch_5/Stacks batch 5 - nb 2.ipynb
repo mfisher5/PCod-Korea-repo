{
 "cells": [
  {
   "cell_type": "markdown",
   "metadata": {},
   "source": [
    "## Stacks batch 5 - notebook 2 (pstacks --> populations)\n",
    "\n",
    "\n",
    "This notebook contains batch 5 stacks pipeline round 2, from pstacks (aligning .sam files) to populations. "
   ]
  },
  {
   "cell_type": "code",
   "execution_count": 1,
   "metadata": {
    "collapsed": false
   },
   "outputs": [
    {
     "data": {
      "text/plain": [
       "u'/mnt/hgfs/Pacific cod/DataAnalysis/PCod-Korea-repo/notebooks'"
      ]
     },
     "execution_count": 1,
     "metadata": {},
     "output_type": "execute_result"
    }
   ],
   "source": [
    "pwd"
   ]
  },
  {
   "cell_type": "code",
   "execution_count": 2,
   "metadata": {
    "collapsed": false
   },
   "outputs": [
    {
     "name": "stdout",
     "output_type": "stream",
     "text": [
      "/mnt/hgfs/Pacific cod/DataAnalysis/PCod-Korea-repo/scripts\n"
     ]
    }
   ],
   "source": [
    "cd ../scripts"
   ]
  },
  {
   "cell_type": "code",
   "execution_count": 6,
   "metadata": {
    "collapsed": false
   },
   "outputs": [
    {
     "name": "stdout",
     "output_type": "stream",
     "text": [
      "###### Generate Shell Script to Run pstacks --> populations ######\r\n",
      "\r\n",
      "## MF 3/10/2017\r\n",
      "## For US Cod Data\r\n",
      "\r\n",
      "## Edited by MF 5/3/2017 for Korea PCod Data\r\n",
      "## Edited 6/25/2017 for Korea PCod Data\r\n",
      "\r\n",
      "\r\n",
      "\r\n",
      "## At Command Line: python cstacks_populations_genShell_3-8 ARG1 ARG2\r\n",
      "##---- ARG1 = complete sample list file\r\n",
      "##---- ARG2 = sample list for building cstacks catalog\r\n",
      "\r\n",
      "\r\n",
      "#############################################################################\r\n",
      "\r\n",
      "\r\n",
      "import sys\r\n",
      "\r\n",
      "sampfilename = sys.argv[1]\r\n",
      "catfilename = sys.argv[2]\r\n",
      "\r\n",
      "newfile = open(\"pstacks_populations_6-25.sh\", \"w\")\r\n",
      "\r\n"
     ]
    }
   ],
   "source": [
    "!head -n 25 pstacks_populations_genShell_6-25.py"
   ]
  },
  {
   "cell_type": "code",
   "execution_count": 5,
   "metadata": {
    "collapsed": true
   },
   "outputs": [],
   "source": [
    "!python pstacks_populations_genShell_6-25.py PopMap_L1-4.txt samples_for_cstacks_b5.txt"
   ]
  },
  {
   "cell_type": "code",
   "execution_count": 7,
   "metadata": {
    "collapsed": false
   },
   "outputs": [
    {
     "name": "stdout",
     "output_type": "stream",
     "text": [
      "\r\n",
      "#pstacks\r\n",
      "pstacks -t sam -f ../stacks_b5_wgenome/PO010715_02.sam -o ../stacks_b5_wgenome -i 001 -m 10 -p 6 --model_type bounded 2>> ../stacks_b5_wgenome/pstacks_out_b5_wgenome\r\n",
      "pstacks -t sam -f ../stacks_b5_wgenome/PO010715_02_rep.sam -o ../stacks_b5_wgenome -i 002 -m 10 -p 6 --model_type bounded 2>> ../stacks_b5_wgenome/pstacks_out_b5_wgenome\r\n",
      "pstacks -t sam -f ../stacks_b5_wgenome/PO010715_04.sam -o ../stacks_b5_wgenome -i 003 -m 10 -p 6 --model_type bounded 2>> ../stacks_b5_wgenome/pstacks_out_b5_wgenome\r\n",
      "pstacks -t sam -f ../stacks_b5_wgenome/PO010715_06.1.sam -o ../stacks_b5_wgenome -i 004 -m 10 -p 6 --model_type bounded 2>> ../stacks_b5_wgenome/pstacks_out_b5_wgenome\r\n",
      "pstacks -t sam -f ../stacks_b5_wgenome/PO010715_08.1.sam -o ../stacks_b5_wgenome -i 005 -m 10 -p 6 --model_type bounded 2>> ../stacks_b5_wgenome/pstacks_out_b5_wgenome\r\n",
      "pstacks -t sam -f ../stacks_b5_wgenome/PO010715_10.1.sam -o ../stacks_b5_wgenome -i 006 -m 10 -p 6 --model_type bounded 2>> ../stacks_b5_wgenome/pstacks_out_b5_wgenome\r\n",
      "pstacks -t sam -f ../stacks_b5_wgenome/PO010715_11.1.sam -o ../stacks_b5_wgenome -i 007 -m 10 -p 6 --model_type bounded 2>> ../stacks_b5_wgenome/pstacks_out_b5_wgenome\r\n",
      "pstacks -t sam -f ../stacks_b5_wgenome/PO010715_12.sam -o ../stacks_b5_wgenome -i 008 -m 10 -p 6 --model_type bounded 2>> ../stacks_b5_wgenome/pstacks_out_b5_wgenome\r\n"
     ]
    }
   ],
   "source": [
    "!head pstacks_populations_6-25.sh"
   ]
  },
  {
   "cell_type": "code",
   "execution_count": 8,
   "metadata": {
    "collapsed": true
   },
   "outputs": [],
   "source": [
    "!chmod +x pstacks_populations_6-25.sh"
   ]
  },
  {
   "cell_type": "code",
   "execution_count": null,
   "metadata": {
    "collapsed": true
   },
   "outputs": [],
   "source": []
  }
 ],
 "metadata": {
  "kernelspec": {
   "display_name": "Python [default]",
   "language": "python",
   "name": "python2"
  },
  "language_info": {
   "codemirror_mode": {
    "name": "ipython",
    "version": 2
   },
   "file_extension": ".py",
   "mimetype": "text/x-python",
   "name": "python",
   "nbconvert_exporter": "python",
   "pygments_lexer": "ipython2",
   "version": "2.7.12"
  }
 },
 "nbformat": 4,
 "nbformat_minor": 1
}
