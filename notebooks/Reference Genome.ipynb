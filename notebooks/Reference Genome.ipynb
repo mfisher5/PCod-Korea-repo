{
 "cells": [
  {
   "cell_type": "markdown",
   "metadata": {},
   "source": [
    "## Reference Genome\n",
    "\n",
    "**Purpose:** \n",
    "To build a reference database of loci, fully filtered, from the Korean Pacific cod data (Lanes 1 and 2, unique samples only)\n",
    "\n",
    "**Pipeline:** \n",
    "\n",
    "`process_radtags` --> `ustacks` --> `cstacks` --> `sstacks` --> `populations` --------> \n",
    "\n",
    "make a fasta file with the catalog files from `cstacks` and the list of loci from `populations` ---> \n",
    "\n",
    "BOWTIE filtering --> parseBowtie_DD.py --> BLAST filtering --> checkBlastResults_DD.py --> Build BOWTIE index with filtered data --> align individual fastq files to BOWTIE index in BOWTIE\n",
    "\n",
    "\n",
    "\n",
    "### process_radtags\n",
    "\n",
    "\n",
    "### ustacks\n",
    "I ran ustacks with the following parameters on Jan. 17th [Notebook](https://github.com/mfisher5/mf-fish546-PCod/blob/master/notebooks/Understanding%20Genotype%20Error.ipynb)\n",
    "\n",
    "-t gzfastq\n",
    "<br>\n",
    "-f L1L2samplesT142\n",
    "<br>\n",
    "-r -d\n",
    "<br>\n",
    "-o L1L2stacks_m10_boundSNP\n",
    "<br>\n",
    "-i 001 to 132\n",
    "<br>\n",
    "-m 10\n",
    "<br>\n",
    "-M 3\n",
    "<br>\n",
    "-p 6\n",
    "<br>\n",
    "--model_type bounded\n",
    "<br>\n",
    "\n",
    "\n",
    "<img src = picture.png >\n",
    "\n",
    "\n",
    "### cstacks\n",
    "I ran cstacks with the following parameters on Jan. 17th [Notebook](https://github.com/mfisher5/mf-fish546-PCod/blob/master/notebooks/Understanding%20Genotype%20Error.ipynb)\n",
    "\n",
    "-b 3 \n",
    "<br>\n",
    "-s L1L2stacks_m10_boundSNP/ \n",
    "<br>\n",
    "-o L1L2stacks_m10_boundSNP \n",
    "<br>\n",
    "-n 3 \n",
    "<br>\n",
    "-p 6\n",
    "<br>\n",
    "\n",
    "\n",
    "### sstacks\n",
    "I ran sstacks with the following parameters on Jan. 17th [Notebook](https://github.com/mfisher5/mf-fish546-PCod/blob/master/notebooks/Understanding%20Genotype%20Error.ipynb)\n",
    "\n",
    "-b 3 \n",
    "<br>\n",
    "-c L1L2stacks_m10_boundSNP/batch_3 \n",
    "<br>\n",
    "-s L1L2stacks_m10_boundSNP/\n",
    "<br>\n",
    "-o L1L2stacks_m10_boundSNP \n",
    "<br>\n",
    "-p 6 \n",
    "<br>\n",
    "2>> sstacks_out_b3\n",
    "<br>\n",
    "\n",
    "\n",
    "### populations\n",
    "I ran populations with the following parameters on Jan. 17th [Notebook](https://github.com/mfisher5/mf-fish546-PCod/blob/master/notebooks/Understanding%20Genotype%20Error.ipynb)\n",
    "\n",
    "-b 3 \n",
    "<br>\n",
    "-P L1L2stacks_m10_boundSNP \n",
    "<br>\n",
    "-M scripts/PopMap_L1L2stacks.txt\n",
    "<br>\n",
    "-t 36 -r 0.75 -p 2 -m 10\n",
    "<br>\n",
    "--genepop \n",
    "<br>\n",
    "--fasta \n",
    "<br>\n",
    "2>> populations_out_batch3\n",
    "<br>\n",
    "\n",
    "\n",
    "### Create a FASTA file from stacks output"
   ]
  },
  {
   "cell_type": "code",
   "execution_count": 1,
   "metadata": {
    "collapsed": false
   },
   "outputs": [
    {
     "data": {
      "text/plain": [
       "u'/mnt/hgfs/Pacific cod/DataAnalysis/PCod-Korea-repo/notebooks'"
      ]
     },
     "execution_count": 1,
     "metadata": {},
     "output_type": "execute_result"
    }
   ],
   "source": [
    "pwd"
   ]
  },
  {
   "cell_type": "code",
   "execution_count": 2,
   "metadata": {
    "collapsed": false
   },
   "outputs": [
    {
     "name": "stdout",
     "output_type": "stream",
     "text": [
      "/mnt/hgfs/Pacific cod/DataAnalysis/scripts\n"
     ]
    }
   ],
   "source": [
    "cd ../../scripts"
   ]
  },
  {
   "cell_type": "code",
   "execution_count": 3,
   "metadata": {
    "collapsed": false
   },
   "outputs": [
    {
     "name": "stdout",
     "output_type": "stream",
     "text": [
      "### This script generates a FASTA file for the cstacks reference database, that can then be filtered in BOWTIE to make a cleaned reference database of loci for cstacks ###\r\n",
      "\r\n",
      "## MF \r\n",
      "\r\n",
      "## ARGUMENTS: \r\n",
      "#ARG 1 - a manually created text file of the \"locus_SNP\" heading in the .genepop file put out from populations. \r\n",
      "#ARG 2 - the .catalog file output from cstacks\r\n",
      "\r\n",
      "###################################################################################################################\r\n",
      "\r\n"
     ]
    }
   ],
   "source": [
    "!head genBOWTIEfasta.py"
   ]
  },
  {
   "cell_type": "code",
   "execution_count": 4,
   "metadata": {
    "collapsed": false
   },
   "outputs": [
    {
     "name": "stdout",
     "output_type": "stream",
     "text": [
      "/mnt/hgfs/Pacific cod/DataAnalysis/L1L2stacks_m10_boundSNP\n"
     ]
    }
   ],
   "source": [
    "cd ../L1L2stacks_m10_boundSNP/"
   ]
  },
  {
   "cell_type": "code",
   "execution_count": 5,
   "metadata": {
    "collapsed": true
   },
   "outputs": [],
   "source": [
    "!gzip -d batch_3.catalog.tags.tsv.gz"
   ]
  },
  {
   "cell_type": "code",
   "execution_count": 6,
   "metadata": {
    "collapsed": false
   },
   "outputs": [
    {
     "name": "stdout",
     "output_type": "stream",
     "text": [
      "/mnt/hgfs/Pacific cod/DataAnalysis/scripts\n"
     ]
    }
   ],
   "source": [
    "cd ../scripts"
   ]
  },
  {
   "cell_type": "code",
   "execution_count": 7,
   "metadata": {
    "collapsed": true
   },
   "outputs": [],
   "source": [
    "!python genBOWTIEfasta.py \\\n",
    "../L1L2stacks_m10_boundSNP/batch_3_loci.txt \\\n",
    "../L1L2stacks_m10_boundSNP/batch_3.catalog.tags.tsv"
   ]
  },
  {
   "cell_type": "markdown",
   "metadata": {},
   "source": [
    "### Run BOWTIE filtering"
   ]
  },
  {
   "cell_type": "code",
   "execution_count": 8,
   "metadata": {
    "collapsed": false
   },
   "outputs": [
    {
     "data": {
      "text/plain": [
       "u'/mnt/hgfs/Pacific cod/DataAnalysis/scripts'"
      ]
     },
     "execution_count": 8,
     "metadata": {},
     "output_type": "execute_result"
    }
   ],
   "source": [
    "pwd"
   ]
  },
  {
   "cell_type": "code",
   "execution_count": 10,
   "metadata": {
    "collapsed": false
   },
   "outputs": [],
   "source": [
    "!cd ../L1L2stacks_m10_boundSNP"
   ]
  },
  {
   "cell_type": "code",
   "execution_count": 13,
   "metadata": {
    "collapsed": false
   },
   "outputs": [],
   "source": [
    "!mkdir bowtie_refgenome"
   ]
  },
  {
   "cell_type": "code",
   "execution_count": 14,
   "metadata": {
    "collapsed": true
   },
   "outputs": [],
   "source": [
    "!mv ../Stacks_Param_Testing/bowtie/bowtie-1.1.2 bowtie_refgenome/bowtie-1.1.2"
   ]
  },
  {
   "cell_type": "code",
   "execution_count": 16,
   "metadata": {
    "collapsed": false
   },
   "outputs": [
    {
     "data": {
      "text/plain": [
       "u'/mnt/hgfs/Pacific cod/DataAnalysis/scripts'"
      ]
     },
     "execution_count": 16,
     "metadata": {},
     "output_type": "execute_result"
    }
   ],
   "source": [
    "pwd"
   ]
  },
  {
   "cell_type": "code",
   "execution_count": 18,
   "metadata": {
    "collapsed": false
   },
   "outputs": [
    {
     "name": "stdout",
     "output_type": "stream",
     "text": [
      "/mnt/hgfs/Pacific cod/DataAnalysis/scripts\n"
     ]
    }
   ],
   "source": [
    "cd ../scripts"
   ]
  },
  {
   "cell_type": "code",
   "execution_count": 19,
   "metadata": {
    "collapsed": true
   },
   "outputs": [],
   "source": [
    "!mv seqsforBOWTIE.fa ../L1L2stacks_m10_boundSNP/unfilteredBOWTIE.fa"
   ]
  },
  {
   "cell_type": "code",
   "execution_count": 20,
   "metadata": {
    "collapsed": false
   },
   "outputs": [
    {
     "name": "stdout",
     "output_type": "stream",
     "text": [
      "/mnt/hgfs/Pacific cod/DataAnalysis/L1L2stacks_m10_boundSNP\n"
     ]
    }
   ],
   "source": [
    "cd ../L1L2stacks_m10_boundSNP/"
   ]
  },
  {
   "cell_type": "code",
   "execution_count": 21,
   "metadata": {
    "collapsed": true
   },
   "outputs": [],
   "source": [
    "!mv unfilteredBOWTIE.fa bowtie_refgenome/unfilteredBOWTIE.fa"
   ]
  },
  {
   "cell_type": "code",
   "execution_count": 22,
   "metadata": {
    "collapsed": false
   },
   "outputs": [
    {
     "name": "stdout",
     "output_type": "stream",
     "text": [
      "/mnt/hgfs/Pacific cod/DataAnalysis/L1L2stacks_m10_boundSNP/bowtie_refgenome\n"
     ]
    }
   ],
   "source": [
    "cd bowtie_refgenome/"
   ]
  },
  {
   "cell_type": "code",
   "execution_count": 23,
   "metadata": {
    "collapsed": false
   },
   "outputs": [
    {
     "name": "stdout",
     "output_type": "stream",
     "text": [
      "/bin/sh: 1: ./bowtie-build: not found\r\n"
     ]
    }
   ],
   "source": [
    "!./bowtie-build unfilteredBOWTIE.fa ../batch_3"
   ]
  },
  {
   "cell_type": "markdown",
   "metadata": {
    "collapsed": true
   },
   "source": [
    "**2/10/2017**"
   ]
  },
  {
   "cell_type": "code",
   "execution_count": 1,
   "metadata": {
    "collapsed": false
   },
   "outputs": [
    {
     "data": {
      "text/plain": [
       "u'/mnt/hgfs/Pacific cod/DataAnalysis/PCod-Korea-repo/notebooks'"
      ]
     },
     "execution_count": 1,
     "metadata": {},
     "output_type": "execute_result"
    }
   ],
   "source": [
    "pwd"
   ]
  },
  {
   "cell_type": "code",
   "execution_count": 2,
   "metadata": {
    "collapsed": false
   },
   "outputs": [
    {
     "name": "stdout",
     "output_type": "stream",
     "text": [
      "/mnt/hgfs/Pacific cod/DataAnalysis/L1L2stacks_m10_boundSNP\n"
     ]
    }
   ],
   "source": [
    "cd ../../L1L2stacks_m10_boundSNP/"
   ]
  },
  {
   "cell_type": "code",
   "execution_count": 3,
   "metadata": {
    "collapsed": false
   },
   "outputs": [
    {
     "name": "stdout",
     "output_type": "stream",
     "text": [
      "/mnt/hgfs/Pacific cod/DataAnalysis/L1L2stacks_m10_boundSNP/bowtie_refgenome\n"
     ]
    }
   ],
   "source": [
    "cd bowtie_refgenome/"
   ]
  },
  {
   "cell_type": "code",
   "execution_count": 4,
   "metadata": {
    "collapsed": false
   },
   "outputs": [
    {
     "name": "stdout",
     "output_type": "stream",
     "text": [
      "/bin/sh: 1: ./bowtie-build: not found\r\n"
     ]
    }
   ],
   "source": [
    "!./bowtie-build unfilteredBOWTIE.fa ../batch_3"
   ]
  },
  {
   "cell_type": "code",
   "execution_count": null,
   "metadata": {
    "collapsed": true
   },
   "outputs": [],
   "source": [
    "# don't use the ./!\n",
    "bowtie-build unfilteredBOWTIE.fa ../batch_3"
   ]
  },
  {
   "cell_type": "code",
   "execution_count": null,
   "metadata": {
    "collapsed": true
   },
   "outputs": [],
   "source": [
    "!bowtie -f -v 3 --sam --sam-nohead \\\n",
    "batch_3 \\\n",
    "unfilteredBOWTIE.fa \\\n",
    "batch_3_BOWTIEout.sam"
   ]
  },
  {
   "cell_type": "code",
   "execution_count": null,
   "metadata": {
    "collapsed": true
   },
   "outputs": [],
   "source": [
    "cd ../../scripts"
   ]
  },
  {
   "cell_type": "code",
   "execution_count": null,
   "metadata": {
    "collapsed": true
   },
   "outputs": [],
   "source": [
    "python parseBowtie_DD.py \\\n",
    "> ../L1L2stacks_m10_boundSNP/batch_3_BOWTIEout.sam \\\n",
    "> ../L1L2stacks_m10_boundSNP/batch_3_BOWTIEout_filtered.fa\n",
    "# Number of Bowtie output lines read: 21724\n",
    "# Number of sequences written to output: 21724"
   ]
  },
  {
   "cell_type": "markdown",
   "metadata": {},
   "source": [
    "### BLAST filtering"
   ]
  },
  {
   "cell_type": "code",
   "execution_count": null,
   "metadata": {
    "collapsed": true
   },
   "outputs": [],
   "source": [
    "cd ../L1L2stacks_m10_boundSNP"
   ]
  },
  {
   "cell_type": "code",
   "execution_count": null,
   "metadata": {
    "collapsed": true
   },
   "outputs": [],
   "source": [
    "makeblastdb -in batch_3_BOWTIEout_filtered.fa \\\n",
    "-parse_seqids \\\n",
    "-dbtype nucl \\\n",
    "-out batch_3_BOWTIEfilteredDB\n"
   ]
  },
  {
   "cell_type": "code",
   "execution_count": null,
   "metadata": {
    "collapsed": true
   },
   "outputs": [],
   "source": [
    "blastn -query batch_3_BOWTIEout_filtered.fa \\\n",
    "-db batch_3_BOWTIEfilteredDB \\\n",
    "-out batch_3_BOWTIEout_BLASTout\n"
   ]
  },
  {
   "cell_type": "code",
   "execution_count": null,
   "metadata": {
    "collapsed": true
   },
   "outputs": [],
   "source": [
    "python ../scripts/checkBlastResults_DD.py \\\n",
    "batch_3_BOWTIEout_BLASTout \\\n",
    "batch_3_BOWTIEout_filtered.fa \\\n",
    "batch_3_BOWTIEout_BLASTout_filtered.fa \\\n",
    "batch_3_BOWTIEout_BLASTout_bad.fa"
   ]
  },
  {
   "cell_type": "code",
   "execution_count": null,
   "metadata": {
    "collapsed": true
   },
   "outputs": [],
   "source": [
    "grep -c \"^>\" batch_3_BOWTIEout_BLASTout_filtered.fa\n",
    "# 21397"
   ]
  },
  {
   "cell_type": "markdown",
   "metadata": {},
   "source": [
    "### Create final SAM file : the reference database of loci"
   ]
  },
  {
   "cell_type": "code",
   "execution_count": null,
   "metadata": {
    "collapsed": true
   },
   "outputs": [],
   "source": [
    "bowtie-build batch_3_BOWTIEout_BLASTout_filtered.fa \\\n",
    "batch_3_ref_genome"
   ]
  },
  {
   "cell_type": "markdown",
   "metadata": {},
   "source": [
    "### Align process_radtags output to new reference \"genome\"\n",
    "\n",
    "*this was done overnight*"
   ]
  },
  {
   "cell_type": "code",
   "execution_count": null,
   "metadata": {
    "collapsed": true
   },
   "outputs": [],
   "source": []
  }
 ],
 "metadata": {
  "anaconda-cloud": {},
  "kernelspec": {
   "display_name": "Python [default]",
   "language": "python",
   "name": "python2"
  },
  "language_info": {
   "codemirror_mode": {
    "name": "ipython",
    "version": 2
   },
   "file_extension": ".py",
   "mimetype": "text/x-python",
   "name": "python",
   "nbconvert_exporter": "python",
   "pygments_lexer": "ipython2",
   "version": "2.7.12"
  }
 },
 "nbformat": 4,
 "nbformat_minor": 1
}
