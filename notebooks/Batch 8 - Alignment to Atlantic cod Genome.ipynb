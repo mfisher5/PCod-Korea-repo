{
 "cells": [
  {
   "cell_type": "markdown",
   "metadata": {},
   "source": [
    "## Alignment to Atlantic cod Genome\n",
    "\n",
    "I am going to align all of my filtered loci to the Atlantic cod genome. I need these alignments for PLINK input files, which I will then use to run ADMIXTURE (assign individuals to populations) and SNeP (estimate Ne). \n",
    "\n",
    "Programs used: \n",
    "1. BOWTIE 2\n",
    "2. samtools\n",
    "3. bedtools\n",
    "\n",
    "*See [this notebook](https://github.com/mfisher5/PCod-Korea-repo/blob/master/notebooks/Batch%208%20-%20Outlier%20Alignment.ipynb) for installation instructions for each program\n",
    "\n",
    "\n",
    "<br>\n",
    "#### 12/1/2017\n",
    "\n",
    "<br>\n",
    "### 1) Create fasta file of outlier loci consensus sequences\n",
    "\n",
    "I created a python script that will make a fasta file out of a final genepop file and the tags catalog file for the same batch.\n",
    "\n",
    "Note that this script will add the word \"locus\" to the front of each of your loci names; this made it easier to interpret the .bam / .bed files down the line. "
   ]
  },
  {
   "cell_type": "code",
   "execution_count": 1,
   "metadata": {},
   "outputs": [
    {
     "name": "stdout",
     "output_type": "stream",
     "text": [
      "/mnt/hgfs/PCod-Korea-repo\n"
     ]
    }
   ],
   "source": [
    "cd ../"
   ]
  },
  {
   "cell_type": "code",
   "execution_count": 8,
   "metadata": {},
   "outputs": [
    {
     "name": "stdout",
     "output_type": "stream",
     "text": [
      "usage: gen_fasta_from_genepop.py [-h] [-g GENEPOP] [-t TAGS] [-split SPLIT_BY]\r\n",
      "                                 [-o OUTPUT]\r\n",
      "\r\n",
      "create fasta file for all loci in a genepop file.\r\n",
      "\r\n",
      "optional arguments:\r\n",
      "  -h, --help            show this help message and exit\r\n",
      "  -g GENEPOP, --genepop GENEPOP\r\n",
      "                        genepop file input.\r\n",
      "  -t TAGS, --tags TAGS  stacks catalog 'tags' file.\r\n",
      "  -split SPLIT_BY, --split_by SPLIT_BY\r\n",
      "                        type of delimiter used for loci in genepop file\r\n",
      "                        ['comma' / 'newline'].\r\n",
      "  -o OUTPUT, --output OUTPUT\r\n",
      "                        fasta output file\r\n"
     ]
    }
   ],
   "source": [
    "!python scripts/gen_fasta_from_genepop.py -h"
   ]
  },
  {
   "cell_type": "code",
   "execution_count": 9,
   "metadata": {},
   "outputs": [
    {
     "name": "stdout",
     "output_type": "stream",
     "text": [
      "You have  5405  loci.\n",
      "5405  written to fasta file.\n"
     ]
    }
   ],
   "source": [
    "!python scripts/gen_fasta_from_genepop.py \\\n",
    "-g stacks_b8_wgenome/batch_8_filteredMAF_filteredIndivids30_filteredLoci_filteredHWE_filteredRepsC.txt \\\n",
    "-t stacks_b8_wgenome/batch_7.catalog.tags.tsv \\\n",
    "-split \"newline\" \\\n",
    "-o analyses/batch_8_filteredMAF_filteredIndivids30_filteredLoci_filteredHWE_filteredRepsC.fa"
   ]
  },
  {
   "cell_type": "code",
   "execution_count": 10,
   "metadata": {},
   "outputs": [
    {
     "name": "stdout",
     "output_type": "stream",
     "text": [
      ">Locus_3\r\n",
      "TGCAGGACCCCCAGACATCCAGTGTTGTACTGGAGTATTTCAGGAGATCAGATGCTCGCACTCTAAGCCAACTAATGTCGACCCCTATGGCCACATAGTCACCCATGCTGTTATTTTTTTCATTTGTCCAGCGGCATTATGT\r\n",
      ">Locus_6\r\n",
      "TGCAGGACTAAAAATCCACCAGGCCTGTGGAGTTCAGACGATAGAAAAAGACTTTCCACTGTGGCCACCGTCCTGCTTCACTGTTGGCTTGGGCCCGGAATAAAGTCCAGTTAGTAACCACATGAACCACAGCTAAGTAGCA\r\n",
      ">Locus_11\r\n",
      "TGCAGGAGGGAGGGTCTGTGCACACGTGGGGAAACATGTGACGCGTGTTTATGAGCATGCAGAGCTGATGGATGGATGGATCTGGGCTCAGCGGCGCTGCCTATGTCGGCGGTGGCTGACTCTGCGACATCTGGGATTGTTT\r\n",
      ">Locus_13\r\n",
      "TGCAGGCCTCGGCCAATCAAGAGGAAGCGGAGCCGGACGAACCAGGAAGTAACAACCTTAAACCAACCAACGGGCTGCTGCCGCACTACGTTGTGGAAGAGGAGGAGTCCTTTTTGAGCGTCAAACCTTTGACGCCGGCCAG\r\n",
      ">Locus_16\r\n",
      "TGCAGGACAGAGCCCCATCTAAGCATATTCCTCGTTTTAAATAGTCTCCTCACCCTGTCATGCACTCCCCCCTTTGCTCTCAGGGGATTATTCAATGTAAAACCTGACTGTTTAACAAGCATTGGGAACATTTCATCAGCCG\r\n"
     ]
    }
   ],
   "source": [
    "!head analyses/batch_8_filteredMAF_filteredIndivids30_filteredLoci_filteredHWE_filteredRepsC.fa"
   ]
  },
  {
   "cell_type": "markdown",
   "metadata": {},
   "source": [
    "<br>\n",
    "<br>\n",
    "\n",
    "### 2) Create reference database of Atlantic cod genome\n",
    "\n",
    "Already completed. See [this notebook](https://github.com/mfisher5/PCod-Korea-repo/blob/master/notebooks/Batch%208%20-%20Outlier%20Alignment.ipynb) for reference database code. \n",
    "\n",
    "<br>\n",
    "\n",
    "### 3) Align PCod fasta file to Atlantic cod genome reference\n",
    "\n",
    "This also involves filtering the alignment file to keep only uniquely aligned reads (which I qualify as having a mapping quality above 20)\n"
   ]
  },
  {
   "cell_type": "code",
   "execution_count": 11,
   "metadata": {},
   "outputs": [
    {
     "data": {
      "text/plain": [
       "u'/mnt/hgfs/PCod-Korea-repo'"
      ]
     },
     "execution_count": 11,
     "metadata": {},
     "output_type": "execute_result"
    }
   ],
   "source": [
    "pwd"
   ]
  },
  {
   "cell_type": "code",
   "execution_count": 14,
   "metadata": {
    "scrolled": true
   },
   "outputs": [
    {
     "name": "stdout",
     "output_type": "stream",
     "text": [
      "5405 reads; of these:\r\n",
      "  5405 (100.00%) were unpaired; of these:\r\n",
      "    465 (8.60%) aligned 0 times\r\n",
      "    4502 (83.29%) aligned exactly 1 time\r\n",
      "    438 (8.10%) aligned >1 times\r\n",
      "91.40% overall alignment rate\r\n"
     ]
    }
   ],
   "source": [
    "!bowtie2 -f \\\n",
    "-x ../PCod-Compare-repo/ACod_reference/Gadus_morhua2 \\\n",
    "-U analyses/batch_8_filteredMAF_filteredIndivids30_filteredLoci_filteredHWE_filteredRepsC.fa \\\n",
    "-S analyses/batch_8_filteredMAF_filteredIndivids30_filteredLoci_filteredHWE_filteredRepsC_bowtieACod.sam"
   ]
  },
  {
   "cell_type": "markdown",
   "metadata": {},
   "source": [
    "<br>\n",
    "So normally, I could just use `samtools` to get a filtered .bam file that only includes loci alignments with high mapping scores. But I think that I'll need to manually manipulate this data to get a .map file later, so I'm also going to manually filtered to a new .sam file."
   ]
  },
  {
   "cell_type": "code",
   "execution_count": 29,
   "metadata": {
    "collapsed": true
   },
   "outputs": [],
   "source": [
    "!samtools view -b -q 10 analyses/batch_8_filteredMAF_filteredIndivids30_filteredLoci_filteredHWE_filteredRepsC_bowtieACod.sam > analyses/batch_8_filtered_bowtieACod.bam"
   ]
  },
  {
   "cell_type": "code",
   "execution_count": 30,
   "metadata": {
    "collapsed": true
   },
   "outputs": [],
   "source": [
    "infile = open(\"analyses/batch_8_filteredMAF_filteredIndivids30_filteredLoci_filteredHWE_filteredRepsC_bowtieACod.sam\", \"r\")\n",
    "outfile = open(\"analyses/batch_8_filtered_bowtieACod_filtered10MQ.sam\", \"w\")\n",
    "line = infile.readline()\n",
    "while line.startswith(\"@SQ\") or line.startswith(\"@HD\"):\n",
    "    outfile.write(line)\n",
    "    line = infile.readline()\n",
    "outfile.write(line)\n",
    "\n",
    "mapquals = []\n",
    "loci_aligned = []\n",
    "for line in infile:\n",
    "    linelist=line.strip().split()\n",
    "    mapq = linelist[4]\n",
    "    mapquals.append(float(mapq))\n",
    "    if float(mapq) > 10: #this would be a probability of correct mapping = 0.99\n",
    "        outfile.write(line)\n",
    "infile.close()\n",
    "outfile.close()"
   ]
  },
  {
   "cell_type": "markdown",
   "metadata": {},
   "source": [
    "**Mapping quality scores:**"
   ]
  },
  {
   "cell_type": "code",
   "execution_count": 24,
   "metadata": {
    "collapsed": true
   },
   "outputs": [],
   "source": [
    "infile = open(\"analyses/batch_8_filteredMAF_filteredIndivids30_filteredLoci_filteredHWE_filteredRepsC_bowtieACod.sam\", \"r\")\n",
    "line = infile.readline()\n",
    "while line.startswith(\"@SQ\") or line.startswith(\"@HD\"):\n",
    "    line = infile.readline()\n",
    "\n",
    "mapquals = []\n",
    "loci_aligned = []\n",
    "for line in infile:\n",
    "    linelist=line.strip().split()\n",
    "    mapq = linelist[4]\n",
    "    mapquals.append(float(mapq))\n",
    "infile.close()"
   ]
  },
  {
   "cell_type": "markdown",
   "metadata": {},
   "source": [
    "How many loci in total did I end up retaining?"
   ]
  },
  {
   "cell_type": "code",
   "execution_count": 28,
   "metadata": {
    "scrolled": true
   },
   "outputs": [
    {
     "name": "stdout",
     "output_type": "stream",
     "text": [
      "4031\n"
     ]
    }
   ],
   "source": [
    "print len([i for i in mapquals if i > 10])"
   ]
  },
  {
   "cell_type": "markdown",
   "metadata": {},
   "source": [
    "That's going to include most of the 4502 loci that aligned exactly 1 time, with some filtered out for poor mapping quality."
   ]
  },
  {
   "cell_type": "code",
   "execution_count": 25,
   "metadata": {},
   "outputs": [
    {
     "data": {
      "image/png": "[encoded data removed]",
      "text/plain": [
       "<matplotlib.figure.Figure at 0x7f99181b23d0>"
      ]
     },
     "metadata": {},
     "output_type": "display_data"
    }
   ],
   "source": [
    "import numpy as np\n",
    "import matplotlib.pyplot as plt\n",
    "plt.hist(mapquals)\n",
    "plt.title(\"Mapping Quality Scores\")\n",
    "plt.xlabel(\"Quality Score\")\n",
    "plt.ylabel(\"# mapped reads\")\n",
    "plt.show()"
   ]
  },
  {
   "cell_type": "code",
   "execution_count": 26,
   "metadata": {
    "collapsed": true
   },
   "outputs": [],
   "source": [
    "plt.close()"
   ]
  },
  {
   "cell_type": "code",
   "execution_count": null,
   "metadata": {
    "collapsed": true
   },
   "outputs": [],
   "source": []
  }
 ],
 "metadata": {
  "kernelspec": {
   "display_name": "Python 2",
   "language": "python",
   "name": "python2"
  },
  "language_info": {
   "codemirror_mode": {
    "name": "ipython",
    "version": 2
   },
   "file_extension": ".py",
   "mimetype": "text/x-python",
   "name": "python",
   "nbconvert_exporter": "python",
   "pygments_lexer": "ipython2",
   "version": "2.7.13"
  }
 },
 "nbformat": 4,
 "nbformat_minor": 2
}
