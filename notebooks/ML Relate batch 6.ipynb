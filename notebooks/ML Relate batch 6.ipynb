{
 "cells": [
  {
   "cell_type": "markdown",
   "metadata": {},
   "source": [
    "## ML Relate for batch 6\n",
    "\n",
    "I'm going to run ML Relate on the data from batch 6, and play around with it a little to see if I can get a better idea of relatedness than last time. \n",
    "\n",
    "\n",
    "<br>\n",
    "<br>\n",
    "### I ran ML relate on: \n",
    "\n",
    "1. A genepop file where I put all individuals in the same population. \n",
    "2. Genepop files for each region. \n",
    "3. Genepop files for each sampling site.\n",
    "\n",
    "<br>\n",
    "<br>\n",
    "#### 7/31/2017 \n",
    "\n",
    "<br>\n",
    "### All individuals in the same population\n",
    "\n",
    "first, I need to create a genepop file where all individuals are listed under the same pop.\n"
   ]
  },
  {
   "cell_type": "code",
   "execution_count": 1,
   "metadata": {
    "collapsed": false
   },
   "outputs": [
    {
     "data": {
      "text/plain": [
       "u'/mnt/hgfs/Pacific cod/DataAnalysis/PCod-Korea-repo/notebooks'"
      ]
     },
     "execution_count": 1,
     "metadata": {},
     "output_type": "execute_result"
    }
   ],
   "source": [
    "pwd"
   ]
  },
  {
   "cell_type": "code",
   "execution_count": 2,
   "metadata": {
    "collapsed": false
   },
   "outputs": [
    {
     "name": "stdout",
     "output_type": "stream",
     "text": [
      "/mnt/hgfs/Pacific cod/DataAnalysis/PCod-Korea-repo/analyses\n"
     ]
    }
   ],
   "source": [
    "cd ../analyses"
   ]
  },
  {
   "cell_type": "code",
   "execution_count": 3,
   "metadata": {
    "collapsed": true
   },
   "outputs": [],
   "source": [
    "!mkdir ml_relate_batch6"
   ]
  },
  {
   "cell_type": "code",
   "execution_count": 5,
   "metadata": {
    "collapsed": true
   },
   "outputs": [],
   "source": [
    "myfile = open(\"../stacks_b6_wgenome/batch_6.filteredMAF_filteredLoci_30filteredIndivids_filteredHWE.gen\", \"r\")\n",
    "newfile = open(\"ml_relate_batch6/batch_6.filteredMAF_filteredLoci_30filteredIndivids_filteredHWE_onepop.gen\", \"w\")\n",
    "\n",
    "pop_count = 0\n",
    "\n",
    "for line in myfile:\n",
    "    if not line.startswith(\"Pop\"):\n",
    "        newfile.write(line)\n",
    "    elif line.startswith(\"Pop\"):\n",
    "        if pop_count == 0: \n",
    "            newfile.write(line)\n",
    "            pop_count += 1\n",
    "        elif pop_count != 0:\n",
    "            pop_count += 1\n",
    "myfile.close()\n",
    "newfile.close()\n",
    "\n"
   ]
  },
  {
   "cell_type": "markdown",
   "metadata": {},
   "source": [
    "I then loaded the data into ML Relate. I'm going to try out the Confidence Intervals, so I used the option: \n",
    "\n",
    "`Relationship >> Confidence Sets`\n",
    "\n",
    "And then put in: `0.95` for 95% confidence interval, and `1000` iterations. The program froze, but will hopefully start working...\n"
   ]
  },
  {
   "cell_type": "code",
   "execution_count": null,
   "metadata": {
    "collapsed": true
   },
   "outputs": [],
   "source": []
  }
 ],
 "metadata": {
  "kernelspec": {
   "display_name": "Python [default]",
   "language": "python",
   "name": "python2"
  },
  "language_info": {
   "codemirror_mode": {
    "name": "ipython",
    "version": 2
   },
   "file_extension": ".py",
   "mimetype": "text/x-python",
   "name": "python",
   "nbconvert_exporter": "python",
   "pygments_lexer": "ipython2",
   "version": "2.7.12"
  }
 },
 "nbformat": 4,
 "nbformat_minor": 1
}
