{
 "cells": [
  {
   "cell_type": "markdown",
   "metadata": {},
   "source": [
    "## ML Relate for batch 6\n",
    "\n",
    "I'm going to run ML Relate on the data from batch 6, and play around with it a little to see if I can get a better idea of relatedness than last time. \n",
    "\n",
    "\n",
    "<br>\n",
    "<br>\n",
    "### I ran ML relate on: \n",
    "\n",
    "1. A genepop file where I put all individuals in the same population. <- ML relate confidence intervals fails\n",
    "2. Genepop files for each region. \n",
    "3. Genepop files for each sampling site.\n",
    "<br>\n",
    "<br>\n",
    "\n",
    "<br>\n",
    "\n",
    "**A little more on ML Relate:** \"ML-Relate calculates maximum likelihood estimates of relatedness (r) (See Blouin 2003 for a review). This method was chosen because maximum likelihood estimates of relatedness usually are more accurate than other estimators (Milligan 2003). Likelihood calculations are described in detail by Wagner et al. (2006). ML-Relate uses the downhill simplex routine to find the maximum likelihood estimate of r.\"\n",
    "\n",
    "*List output:* \"This function lists the log-likelihood of four relationships (U, HS, FS, PO) for all pairs of individuals. \"\n",
    "\n",
    "*Confidence sets:* \"This function produces a confidence set for the relationship between pairs of individuals. Simulation is used to perform these statistical tests (Kalinowski et al. 2006), and the user must specify how many random genotypes must be simulated for each test. All relationships that fall within the specified confidence interval are written in the output. \"\n",
    "<br>\n",
    "<br>\n",
    "<br>\n",
    "<br>\n",
    "\n",
    "**Summary as of 8/1/2017:** ML relate is still putting out a decent number of half and full sibs for the western and southern regions when I ask for the list output (see ML related details below). When I run tests for 95% confidence intervals (also below), it doesn't catch *any* relatedness, even between sample replicates (which should- and do, in the list output - show up as full sibs). Since I'm only running 100 iterations per comparison (ML relate crashed a few different times on 1000), this could be a result of incorrect testing. I then tried to run 95% confidence intervals with 1000 iterations for just Jukbyeon, but still ended up without any HS or FS relationships detected, even for replicates. \n",
    "<br>\n",
    "**Additions 8/2/2017:** Working with the list output. I parsed out the Delta LN(L) values for the \"unrelated\" label in individuals designated as half- or full-sibs (data used: southern sampling sites). In full sib pairs, the Delta Ln(L) values for \"U\" were quite high - all above 1500. In half-sib pairs, Delta Ln(L) values for \"U\" are below 200. I was hoping to find an obvious cutoff point in the histogram, but it doesn't look like there is one. The majority are below Delta Ln(L) = 50 [8/12 pairs].\n",
    "<br>\n",
    "**Additions 8/3/2017:** Thinking that the failure to identify siblings in the CI output might be a confidence level issue, I tried lowering the confidence interval significance level from 95% confidence to 70% confidence on the Geoje samples (500 replicates). In the list output, this population had 16 sib pairs (many from replicates). However, none of these pairs were identified in the 95% or the 70% confidence intervals. Looking at the CI output, I started to notice that some pairings were not assigned a relatedness  (U/HS/FS/PO) at all. Maybe these are the pairs that are being identified as siblings in the list output, and that is why the siblings are not being identified in the CI output? Nope. None of the sample pairs that were identified as HS or FS in the list output were left blank in the CI output - they were all assigned \"U\" for unrelated. \n",
    "<br>\n",
    "**At the very end of the analysis:** I wanted to verify a pattern I saw last time - that the `genepop` file where all sample sites were considered a single population identified fewer sibling pairs than `genepop` files where one sample site was entered as a single population. So I took the list output for all-one-population and compared the number of sibling pairs found to the southern-sites-one-population and the geoje-one-population list output. There were (1) more southern site sibling pairs found in the all-one-population than the southern-sites-one-population, and (2) more geoje sibling pairs found in the all-one-population than the geoje-one-population, which *is the only part about this analysis that makes sense.* All of the geoje sibling pairs found in the southern-sites-one-population were found in the geoje-one-population analysis. \n",
    "\n",
    "\n",
    "\n",
    "<br>\n",
    "<br>\n",
    "<br>\n",
    "#### 7/31/2017 \n",
    "\n",
    "<br>\n",
    "### All individuals in the same population (CI)\n",
    "\n",
    "first, I need to create a genepop file where all individuals are listed under the same pop.\n"
   ]
  },
  {
   "cell_type": "code",
   "execution_count": 1,
   "metadata": {
    "collapsed": false
   },
   "outputs": [
    {
     "data": {
      "text/plain": [
       "u'/mnt/hgfs/Pacific cod/DataAnalysis/PCod-Korea-repo/notebooks'"
      ]
     },
     "execution_count": 1,
     "metadata": {},
     "output_type": "execute_result"
    }
   ],
   "source": [
    "pwd"
   ]
  },
  {
   "cell_type": "code",
   "execution_count": 2,
   "metadata": {
    "collapsed": false
   },
   "outputs": [
    {
     "name": "stdout",
     "output_type": "stream",
     "text": [
      "/mnt/hgfs/Pacific cod/DataAnalysis/PCod-Korea-repo/analyses\n"
     ]
    }
   ],
   "source": [
    "cd ../analyses"
   ]
  },
  {
   "cell_type": "code",
   "execution_count": 3,
   "metadata": {
    "collapsed": true
   },
   "outputs": [],
   "source": [
    "!mkdir ml_relate_batch6"
   ]
  },
  {
   "cell_type": "code",
   "execution_count": 5,
   "metadata": {
    "collapsed": true
   },
   "outputs": [],
   "source": [
    "myfile = open(\"../stacks_b6_wgenome/batch_6.filteredMAF_filteredLoci_30filteredIndivids_filteredHWE.gen\", \"r\")\n",
    "newfile = open(\"ml_relate_batch6/batch_6.filteredMAF_filteredLoci_30filteredIndivids_filteredHWE_onepop.gen\", \"w\")\n",
    "\n",
    "pop_count = 0\n",
    "\n",
    "for line in myfile:\n",
    "    if not line.startswith(\"Pop\"):\n",
    "        newfile.write(line)\n",
    "    elif line.startswith(\"Pop\"):\n",
    "        if pop_count == 0: \n",
    "            newfile.write(line)\n",
    "            pop_count += 1\n",
    "        elif pop_count != 0:\n",
    "            pop_count += 1\n",
    "myfile.close()\n",
    "newfile.close()\n",
    "\n"
   ]
  },
  {
   "cell_type": "markdown",
   "metadata": {},
   "source": [
    "I then loaded the data into ML Relate. I'm going to try out the Confidence Intervals, so I used the option: \n",
    "\n",
    "`Relationship >> Confidence Sets`\n",
    "\n",
    "And then put in: `0.95` for 95% confidence interval, and `1000` iterations. The program froze... so I started with the regional genepops and used only `100` iterations. "
   ]
  },
  {
   "cell_type": "markdown",
   "metadata": {},
   "source": [
    "<br>\n",
    "<br>\n",
    "<br>\n",
    "\n",
    "\n",
    "\n",
    "### Separate Genepops for each Region (CI v. List Output)\n",
    "\n",
    "\n",
    "<br>\n",
    "**Generate new genepop files**"
   ]
  },
  {
   "cell_type": "code",
   "execution_count": 6,
   "metadata": {
    "collapsed": true
   },
   "outputs": [],
   "source": [
    "# open original genepop, create new genepops\n",
    "infile = open(\"../stacks_b6_wgenome/batch_6.filteredMAF_filteredLoci_30filteredIndivids_filteredHWE.gen\", \"r\")\n",
    "southfile = open(\"ml_relate_batch6/batch_6.filteredMAF_filteredLoci_30filteredIndivids_filteredHWE_south.gen\", \"w\")\n",
    "eastfile = open(\"ml_relate_batch6/batch_6.filteredMAF_filteredLoci_30filteredIndivids_filteredHWE_east.gen\", \"w\")\n",
    "westfile = open(\"ml_relate_batch6/batch_6.filteredMAF_filteredLoci_30filteredIndivids_filteredHWE_west.gen\", \"w\")\n",
    "\n",
    "\n",
    "pop_count = 0\n",
    "\n",
    "heading = \"#\"\n",
    "\n",
    "#save the title line of the genepop, all of the loci, and the first incidence of \"Pop\" to an object.\n",
    "#then write that as the heading for all new genepop files.\n",
    "for line in infile:\n",
    "    if not line.startswith(\"Pop\"):\n",
    "        heading += line\n",
    "    else:\n",
    "        heading += line\n",
    "        break\n",
    "\n",
    "southfile.write(heading)\n",
    "eastfile.write(heading)\n",
    "westfile.write(heading)\n",
    "        \n",
    "#separate individuals into the appropriate genepop file using the sample site abbrevs. in sample name\n",
    "for line in infile:\n",
    "    if line.startswith(\"PO\") or line.startswith(\"JB\") or line.startswith(\"NA\") or line.startswith(\"GE\"):\n",
    "        southfile.write(line)\n",
    "    elif line.startswith(\"YS\") or line.startswith(\"BOR\"):\n",
    "        westfile.write(line)\n",
    "    elif line.startswith(\"JUK\"):\n",
    "        eastfile.write(line)\n",
    "        \n",
    "        \n",
    "infile.close()\n",
    "southfile.close()\n",
    "westfile.close()\n",
    "eastfile.close()"
   ]
  },
  {
   "cell_type": "markdown",
   "metadata": {},
   "source": [
    "*I then removed the extra \"Pop\" lines from each genepop file*\n",
    "\n",
    "<br>\n",
    "** Run ML Relate**\n",
    "\n",
    "Parameters for ML Relate on each genepop: \n",
    "\n",
    "`0.95` confidence interval\n",
    "\n",
    "`100` iterations per test\n",
    "\n",
    "\n",
    "Weird things that happened: When I ran the western samples as two populations (Yellow Sea Block and Boryeong), nearly all of the individual comparisons had a blank in the relationship column.... I tried running it again using a 0.90 confidence interval, with the same result! But ML Relate should be able to handle up to two populations\n",
    "\n",
    "<br>\n",
    "**Parse output: SIBLING RELATIONSHIPS ARE IDENTIFIED IMMEDIATELY AFTER THE PYTHON CODE**"
   ]
  },
  {
   "cell_type": "code",
   "execution_count": 8,
   "metadata": {
    "collapsed": false
   },
   "outputs": [
    {
     "name": "stdout",
     "output_type": "stream",
     "text": [
      "/mnt/hgfs/Pacific cod/DataAnalysis/PCod-Korea-repo/analyses/ml_relate_batch6\n"
     ]
    }
   ],
   "source": [
    "cd ml_relate_batch6/"
   ]
  },
  {
   "cell_type": "code",
   "execution_count": 10,
   "metadata": {
    "collapsed": false,
    "scrolled": false
   },
   "outputs": [
    {
     "name": "stdout",
     "output_type": "stream",
     "text": [
      "####   this script will parse the output from an ML Relate Confidence Sets run ####\r",
      "\r\n",
      "\r",
      "\r\n",
      "##MF 7/31/2017\r",
      "\r\n",
      "##Written for Pacific cod, Korean data\r",
      "\r\n",
      "\r",
      "\r\n",
      "##ARGUMENTS: arg1 = ml relate output file name, arg2 = parsed output file name\r",
      "\r\n",
      "\r",
      "\r\n",
      "## IMPORTANT: MAKE SURE THAT YOU HASH OUT ALL LINES THAT DO NOT CONTAIN DATA ONLY (START LINE WITH #)\r",
      "\r\n",
      "###############################################################################################################\r",
      "\r\n",
      "\r",
      "\r\n"
     ]
    }
   ],
   "source": [
    "!head parse_MLrelate_ConfidenceSets.py"
   ]
  },
  {
   "cell_type": "markdown",
   "metadata": {},
   "source": [
    "**East Coast**"
   ]
  },
  {
   "cell_type": "code",
   "execution_count": 38,
   "metadata": {
    "collapsed": false,
    "scrolled": true
   },
   "outputs": [
    {
     "name": "stdout",
     "output_type": "stream",
     "text": [
      "Lines written out indicate errors in script where data was not written to parsed output file.\r\n",
      "Parsing file...\r\n",
      "error: no relationship calculated for line: \r\n",
      "\r",
      "\r\n",
      "\r\n",
      "error: no relationship calculated for line: \r\n",
      "\r",
      "\r\n",
      "\r\n",
      "Encountered  2  lines where relationships could not be parsed.\r\n",
      "Writing output to file...\r\n",
      "Done.\r\n",
      "\r\n",
      "\r\n",
      "Definite half-sibs found:  0\r\n",
      "Definite full-sibs found:  0\r\n",
      "Possible half-sibs found:  0\r\n",
      "Possible full-sibs found:  0\r\n",
      "*Note that if a confidence interval spans both HS and FS, that individual is listed in both categories above.\r\n"
     ]
    }
   ],
   "source": [
    "!python parse_MLrelate_ConfidenceSets.py MLrelated_east_CI.txt MLrelated_east_CI_parsed.txt"
   ]
  },
  {
   "cell_type": "markdown",
   "metadata": {},
   "source": [
    "#### 8/1/2017\n",
    "\n",
    "*When run with `1000` iterations instead of `100` iterations:*"
   ]
  },
  {
   "cell_type": "markdown",
   "metadata": {},
   "source": [
    "#### 7/31/2017\n",
    "\n",
    "\n",
    "**West Coast**"
   ]
  },
  {
   "cell_type": "code",
   "execution_count": 39,
   "metadata": {
    "collapsed": false
   },
   "outputs": [
    {
     "name": "stdout",
     "output_type": "stream",
     "text": [
      "Lines written out indicate errors in script where data was not written to parsed output file.\r\n",
      "Parsing file...\r\n",
      "error: no relationship calculated for line: \r\n",
      "\r",
      "\r\n",
      "\r\n",
      "error: no relationship calculated for line: \r\n",
      "\r",
      "\r\n",
      "\r\n",
      "Encountered  2  lines where relationships could not be parsed.\r\n",
      "Writing output to file...\r\n",
      "Done.\r\n",
      "\r\n",
      "\r\n",
      "Definite half-sibs found:  0\r\n",
      "Definite full-sibs found:  0\r\n",
      "Possible half-sibs found:  0\r\n",
      "Possible full-sibs found:  0\r\n",
      "*Note that if a confidence interval spans both HS and FS, that individual is listed in both categories above.\r\n"
     ]
    }
   ],
   "source": [
    "!python parse_MLrelate_ConfidenceSets.py MLrelated_west_CI.txt MLrelated_west_CI_parsed.txt"
   ]
  },
  {
   "cell_type": "markdown",
   "metadata": {},
   "source": [
    "#### 7/21/2017\n",
    "\n",
    "**Southern Coast**"
   ]
  },
  {
   "cell_type": "code",
   "execution_count": 1,
   "metadata": {
    "collapsed": false
   },
   "outputs": [
    {
     "name": "stdout",
     "output_type": "stream",
     "text": [
      "/mnt/hgfs/Pacific cod/DataAnalysis/PCod-Korea-repo/analyses/ml_relate_batch6\n"
     ]
    }
   ],
   "source": [
    "cd ../analyses/ml_relate_batch6/"
   ]
  },
  {
   "cell_type": "code",
   "execution_count": 2,
   "metadata": {
    "collapsed": false
   },
   "outputs": [
    {
     "name": "stdout",
     "output_type": "stream",
     "text": [
      "Lines written out indicate errors in script where data was not written to parsed output file.\r\n",
      "Parsing file...\r\n",
      "Encountered  0  lines where relationships could not be parsed.\r\n",
      "Writing output to file...\r\n",
      "Done.\r\n",
      "\r\n",
      "\r\n",
      "Definite half-sibs found:  0\r\n",
      "Definite full-sibs found:  0\r\n",
      "Possible half-sibs found:  0\r\n",
      "Possible full-sibs found:  0\r\n",
      "*Note that if a confidence interval spans both HS and FS, that individual is listed in both categories above.\r\n"
     ]
    }
   ],
   "source": [
    "!python parse_MLrelate_ConfidenceSets.py MLrelated_south_CI.txt MLrelated_south_CI_parsed.txt"
   ]
  },
  {
   "cell_type": "markdown",
   "metadata": {},
   "source": [
    "<br>\n",
    "\n",
    "#### 7/31/2017\n",
    "\n",
    "#### COMPARING AGAINST THE RELATEDNESS DESIGNATION GIVEN IN DEFAULT OUTPUT MATRIX\n",
    "\n",
    "**West Coast** Sampling Sites as One population"
   ]
  },
  {
   "cell_type": "code",
   "execution_count": 29,
   "metadata": {
    "collapsed": false
   },
   "outputs": [
    {
     "name": "stdout",
     "output_type": "stream",
     "text": [
      "0  detected half-sib individuals\n",
      "0  detected full-sib individuals\n"
     ]
    }
   ],
   "source": [
    "infile = open(\"MLrelated_west_list.txt\", \"r\")\n",
    "for line in infile:\n",
    "    if line.startswith(\"Ind1\"):\n",
    "        break\n",
    "\n",
    "h_count = 0\n",
    "f_count = 0\n",
    "\n",
    "\n",
    "for line in infile:\n",
    "    if not line.startswith(\"#\"):\n",
    "        linelist = line.strip().split()\n",
    "        if len(linelist) > 2:\n",
    "            relate = linelist[2]\n",
    "            if relate == \"HS\":\n",
    "                h_count += 1\n",
    "            elif relate == \"FS\":\n",
    "                f_count += 1\n",
    "                print line\n",
    "infile.close()\n",
    "\n",
    "print h_count, \" detected half-sib individuals\"\n",
    "print f_count, \" detected full-sib individuals\""
   ]
  },
  {
   "cell_type": "markdown",
   "metadata": {},
   "source": [
    "<br>\n",
    "\n",
    "**East Coast** Sampling Sites as One population"
   ]
  },
  {
   "cell_type": "code",
   "execution_count": 37,
   "metadata": {
    "collapsed": false
   },
   "outputs": [
    {
     "name": "stdout",
     "output_type": "stream",
     "text": [
      "JUK07_02_rep.1\tJUK07_02.1\tFS\t-4726.70\t\t1396.47\t685.40\t-\t219.58\r\n",
      "\n",
      "JUK07_09_rep.1\tJUK07_09.1\tFS\t-4981.16\t\t1415.38\t691.87\t-\t233.41\r\n",
      "\n",
      "JUK07_16_rep.1\tJUK07_16.1\tFS\t-4664.63\t\t1359.74\t676.56\t-\t231.03\r\n",
      "\n",
      "0  detected half-sib individuals\n",
      "3  detected full-sib individuals\n"
     ]
    }
   ],
   "source": [
    "infile = open(\"MLrelate_east_list.txt\", \"r\")\n",
    "\n",
    "h_count = 0\n",
    "f_count = 0\n",
    "\n",
    "\n",
    "for line in infile:\n",
    "    if not line.startswith(\"#\"):\n",
    "        linelist = line.strip().split()\n",
    "        relate = linelist[2]\n",
    "        if relate == \"HS\":\n",
    "            h_count += 1\n",
    "        elif relate == \"FS\":\n",
    "            f_count += 1\n",
    "            print line\n",
    "infile.close()\n",
    "\n",
    "print h_count, \" detected half-sib individuals\"\n",
    "print f_count, \" detected full-sib individuals\"\n",
    "infile.close()"
   ]
  },
  {
   "cell_type": "markdown",
   "metadata": {},
   "source": [
    "<br>\n",
    "\n",
    "**Southern Coast** Sampling Sites as One population"
   ]
  },
  {
   "cell_type": "code",
   "execution_count": 45,
   "metadata": {
    "collapsed": false,
    "scrolled": true
   },
   "outputs": [
    {
     "name": "stdout",
     "output_type": "stream",
     "text": [
      "12  detected half-sib individuals\n",
      "GE012315_11.1\tGE012315_09.1\tHS\t-7117.97\t\t35.95\t-\t110.21\t9999\r\n",
      "NA021015_09.1\tNA021015_06.1\tHS\t-7207.62\t\t103.50\t-\t202.80\t9999\r\n",
      "NA021015_10.1\tNA021015_06.1\tHS\t-7371.13\t\t158.67\t-\t185.12\t9999\r\n",
      "NA021015_10.1\tNA021015_09.1\tHS\t-7198.87\t\t89.86\t-\t201.63\t9999\r\n",
      "NA021015_13.1\tNA021015_06.1\tHS\t-7407.15\t\t13.69\t-\t298.05\t9999\r\n",
      "NA021015_13.1\tNA021015_10.1\tHS\t-7387.40\t\t8.91\t-\t298.49\t9999\r\n",
      "JB121807_48.1\tJB121807_20.1\tHS\t-4200.76\t\t14.39\t-\t163.27\t9999\r\n",
      "JB021108_32\tJB021108_20\tHS\t-5005.14\t\t28.27\t-\t184.82\t9999\r\n",
      "GEO020414_17\tGEO020414_15\tHS\t-5362.83\t\t71.25\t-\t143.67\t9999\r\n",
      "GEO020414_17\tGEO020414_15_300\tHS\t-5148.35\t\t39.41\t-\t171.00\t9999\r\n",
      "GEO020414_17_300\tGEO020414_15\tHS\t-5156.67\t\t55.11\t-\t146.13\t9999\r\n",
      "GEO020414_17_300\tGEO020414_15_300\tHS\t-4913.34\t\t46.58\t-\t162.78\t9999\r\n",
      "\n",
      "\n",
      "\n",
      "19  detected full-sib individuals\n",
      "PO010715_02_rep\tPO010715_02\tFS\t-5276.09\t\t999.56\t450.36\t-\t147.51\r\n",
      "GE012315_06.1\tGE012315_05.1\tFS\t-5151.73\t\t1673.47\t723.04\t-\t207.67\r\n",
      "JB121807_08_rep\tJB121807_08\tFS\t-4152.34\t\t1503.20\t760.18\t-\t254.93\r\n",
      "JB121807_46\tJB121807_44\tFS\t-4321.43\t\t1221.64\t576.72\t-\t9999\r\n",
      "JB021108_05_rep\tJB021108_05\tFS\t-4840.92\t\t1387.04\t682.27\t-\t244.85\r\n",
      "JB021108_35_rep\tJB021108_35\tFS\t-3331.67\t\t1209.94\t594.14\t-\t184.87\r\n",
      "JB021108_36_rep.1\tJB021108_36.1\tFS\t-4394.22\t\t1457.83\t726.51\t-\t246.52\r\n",
      "JB021108_37_rep.1\tJB021108_37.1\tFS\t-4510.94\t\t1507.40\t740.72\t-\t246.70\r\n",
      "JB021108_46_rep.1\tJB021108_46.1\tFS\t-4409.36\t\t1432.12\t727.77\t-\t257.99\r\n",
      "GEO020414_11_300\tGEO020414_11\tFS\t-4812.69\t\t1266.20\t605.17\t-\t9999\r\n",
      "GEO020414_14_300\tGEO020414_14\tFS\t-4213.99\t\t1285.45\t635.04\t-\t203.94\r\n",
      "GEO020414_15_300\tGEO020414_15\tFS\t-3990.78\t\t836.20\t359.75\t-\t9999\r\n",
      "GEO020414_16_300\tGEO020414_16\tFS\t-4318.45\t\t1391.26\t688.94\t-\t9999\r\n",
      "GEO020414_17_300\tGEO020414_17\tFS\t-4653.52\t\t1011.64\t453.15\t-\t9999\r\n",
      "GEO020414_23_300\tGEO020414_23\tFS\t-4945.65\t\t1087.46\t499.91\t-\t148.96\r\n",
      "GEO020414_24_300\tGEO020414_24\tFS\t-4894.44\t\t1047.78\t470.34\t-\t9999\r\n",
      "GEO020414_25_300\tGEO020414_25\tFS\t-3909.34\t\t1266.28\t616.14\t-\t9999\r\n",
      "GEO020414_8_300\tGEO020414_8\tFS\t-4376.12\t\t1538.29\t766.21\t-\t263.87\r\n",
      "GEO020414_9_300\tGEO020414_9\tFS\t-4211.46\t\t1362.96\t673.44\t-\t215.33\r\n",
      "\n"
     ]
    }
   ],
   "source": [
    "infile = open(\"MLrelate_south_list.txt\", \"r\")\n",
    "\n",
    "h_count = 0\n",
    "f_count = 0\n",
    "h_lines = \"\"\n",
    "f_lines = \"\"\n",
    "\n",
    "for line in infile:\n",
    "    if not line.startswith(\"#\"):\n",
    "        linelist = line.strip().split()\n",
    "        relate = linelist[2]\n",
    "        if relate == \"HS\":\n",
    "            h_count += 1\n",
    "            h_lines += line\n",
    "        elif relate == \"FS\":\n",
    "            f_count += 1\n",
    "            f_lines += line\n",
    "infile.close()\n",
    "\n",
    "print h_count, \" detected half-sib individuals\"\n",
    "print h_lines\n",
    "print \"\"\n",
    "print \"\"\n",
    "print f_count, \" detected full-sib individuals\"\n",
    "print f_lines\n",
    "infile.close()"
   ]
  },
  {
   "cell_type": "markdown",
   "metadata": {},
   "source": [
    "<br>\n",
    "<br>\n",
    "\n",
    "\n",
    "\n",
    "\n",
    "<br>\n",
    "#### 8/2/2017\n",
    "\n",
    "<br>\n",
    "### Separate genepops per sampling site (tested southern sites only because they had the most sib relationships in the region genepops)"
   ]
  },
  {
   "cell_type": "code",
   "execution_count": 30,
   "metadata": {
    "collapsed": false
   },
   "outputs": [
    {
     "data": {
      "text/plain": [
       "u'/mnt/hgfs/Pacific cod/DataAnalysis/PCod-Korea-repo/analyses/ml_relate_batch6'"
      ]
     },
     "execution_count": 30,
     "metadata": {},
     "output_type": "execute_result"
    }
   ],
   "source": [
    "pwd"
   ]
  },
  {
   "cell_type": "code",
   "execution_count": 31,
   "metadata": {
    "collapsed": false
   },
   "outputs": [
    {
     "name": "stdout",
     "output_type": "stream",
     "text": [
      "/mnt/hgfs/Pacific cod/DataAnalysis/PCod-Korea-repo/analyses\n"
     ]
    }
   ],
   "source": [
    "cd ../"
   ]
  },
  {
   "cell_type": "markdown",
   "metadata": {},
   "source": [
    "** Make genepop files**"
   ]
  },
  {
   "cell_type": "code",
   "execution_count": 32,
   "metadata": {
    "collapsed": false
   },
   "outputs": [],
   "source": [
    "# open original genepop, create new genepops\n",
    "infile = open(\"../stacks_b6_wgenome/batch_6.filteredMAF_filteredLoci_30filteredIndivids_filteredHWE.gen\", \"r\")\n",
    "pohfile = open(\"ml_relate_batch6/batch_6.filteredMAF_filteredLoci_30filteredIndivids_filteredHWE_POH.gen\", \"w\")\n",
    "jbfile = open(\"ml_relate_batch6/batch_6.filteredMAF_filteredLoci_30filteredIndivids_filteredHWE_JB.gen\", \"w\")\n",
    "gefile = open(\"ml_relate_batch6/batch_6.filteredMAF_filteredLoci_30filteredIndivids_filteredHWE_GE.gen\", \"w\")\n",
    "namfile = open(\"ml_relate_batch6/batch_6.filteredMAF_filteredLoci_30filteredIndivids_filteredHWE_NAM.gen\", \"w\")\n",
    "\n",
    "\n",
    "pop_count = 0\n",
    "\n",
    "heading = \"#\"\n",
    "\n",
    "#save the title line of the genepop, all of the loci, and the first incidence of \"Pop\" to an object.\n",
    "#then write that as the heading for all new genepop files.\n",
    "for line in infile:\n",
    "    if not line.startswith(\"Pop\"):\n",
    "        heading += line\n",
    "    else:\n",
    "        heading += line\n",
    "        break\n",
    "\n",
    "pohfile.write(heading)\n",
    "jbfile.write(heading)\n",
    "gefile.write(heading)\n",
    "namfile.write(heading)\n",
    "        \n",
    "#separate individuals into the appropriate genepop file using the sample site abbrevs. in sample name\n",
    "for line in infile:\n",
    "    if line.startswith(\"PO\"):\n",
    "        pohfile.write(line)\n",
    "    elif line.startswith(\"JB\"):\n",
    "        jbfile.write(line)\n",
    "    elif line.startswith(\"NA\"):\n",
    "        namfile.write(line)\n",
    "    elif line.startswith(\"GE\"):\n",
    "        gefile.write(line)\n",
    "        \n",
    "infile.close()        \n",
    "pohfile.close()\n",
    "jbfile.close()\n",
    "gefile.close()\n",
    "namfile.close()"
   ]
  },
  {
   "cell_type": "markdown",
   "metadata": {},
   "source": [
    "**Geoje - 0.95 CI, 500 it**"
   ]
  },
  {
   "cell_type": "code",
   "execution_count": 2,
   "metadata": {
    "collapsed": false,
    "scrolled": true
   },
   "outputs": [
    {
     "data": {
      "text/plain": [
       "u'/mnt/hgfs/Pacific cod/DataAnalysis/PCod-Korea-repo/notebooks'"
      ]
     },
     "execution_count": 2,
     "metadata": {},
     "output_type": "execute_result"
    }
   ],
   "source": [
    "pwd"
   ]
  },
  {
   "cell_type": "code",
   "execution_count": 3,
   "metadata": {
    "collapsed": false
   },
   "outputs": [
    {
     "name": "stdout",
     "output_type": "stream",
     "text": [
      "/mnt/hgfs/Pacific cod/DataAnalysis/PCod-Korea-repo/analyses/ml_relate_batch6\n"
     ]
    }
   ],
   "source": [
    "cd ../analyses/ml_relate_batch6/"
   ]
  },
  {
   "cell_type": "code",
   "execution_count": 10,
   "metadata": {
    "collapsed": false
   },
   "outputs": [
    {
     "name": "stdout",
     "output_type": "stream",
     "text": [
      "Lines written out indicate errors in script where data was not written to parsed output file.\r\n",
      "Parsing file...\r\n",
      "Encountered  200  lines where relationships could not be parsed.\r\n",
      "Writing output to file...\r\n",
      "Done.\r\n",
      "\r\n",
      "\r\n",
      "Definite half-sibs found:  0\r\n",
      "Definite full-sibs found:  0\r\n",
      "Possible half-sibs found:  0\r\n",
      "Possible full-sibs found:  0\r\n",
      "*Note that if a confidence interval spans both HS and FS, that individual is listed in both categories above.\r\n"
     ]
    }
   ],
   "source": [
    "!python parse_MLrelate_ConfidenceSets.py MLrelate_ge_CI_95.txt MLrelated_ge_CI_95_parsed.txt"
   ]
  },
  {
   "cell_type": "markdown",
   "metadata": {},
   "source": [
    "**Geoje - 0.70 CI, 500 it**"
   ]
  },
  {
   "cell_type": "code",
   "execution_count": 11,
   "metadata": {
    "collapsed": false
   },
   "outputs": [
    {
     "name": "stdout",
     "output_type": "stream",
     "text": [
      "Lines written out indicate errors in script where data was not written to parsed output file.\r\n",
      "Parsing file...\r\n",
      "Encountered  346  lines where relationships could not be parsed.\r\n",
      "Writing output to file...\r\n",
      "Done.\r\n",
      "\r\n",
      "\r\n",
      "Definite half-sibs found:  0\r\n",
      "Definite full-sibs found:  0\r\n",
      "Possible half-sibs found:  0\r\n",
      "Possible full-sibs found:  0\r\n",
      "*Note that if a confidence interval spans both HS and FS, that individual is listed in both categories above.\r\n"
     ]
    }
   ],
   "source": [
    "!python parse_MLrelate_ConfidenceSets.py MLrelate_ge_CI_70.txt MLrelated_ge_CI_70_parsed.txt"
   ]
  },
  {
   "cell_type": "markdown",
   "metadata": {},
   "source": [
    "** So something is happening "
   ]
  },
  {
   "cell_type": "markdown",
   "metadata": {},
   "source": [
    "<br>\n",
    "<br>\n",
    "\n",
    "#### COMPARING AGAINST THE RELATEDNESS DESIGNATION GIVEN IN DEFAULT OUTPUT MATRIX\n",
    "\n",
    "**GEOJE**"
   ]
  },
  {
   "cell_type": "code",
   "execution_count": 34,
   "metadata": {
    "collapsed": false
   },
   "outputs": [
    {
     "name": "stdout",
     "output_type": "stream",
     "text": [
      "/mnt/hgfs/Pacific cod/DataAnalysis/PCod-Korea-repo/analyses/ml_relate_batch6\n"
     ]
    }
   ],
   "source": [
    "cd ml_relate_batch6/"
   ]
  },
  {
   "cell_type": "code",
   "execution_count": 12,
   "metadata": {
    "collapsed": false
   },
   "outputs": [
    {
     "name": "stdout",
     "output_type": "stream",
     "text": [
      "5  detected half-sib individuals\n",
      "GE012315_11.1\tGE012315_09.1\tHS\t-7027.63\t\t15.48\t-\t117.43\t9999\r\n",
      "GEO020414_17\tGEO020414_15\tHS\t-5224.77\t\t39.61\t-\t153.23\t9999\r\n",
      "GEO020414_17\tGEO020414_15_300\tHS\t-5019.15\t\t14.20\t-\t178.15\t9999\r\n",
      "GEO020414_17_300\tGEO020414_15\tHS\t-5026.94\t\t28.72\t-\t154.20\t9999\r\n",
      "GEO020414_17_300\tGEO020414_15_300\tHS\t-4795.04\t\t26.67\t-\t168.10\t9999\r\n",
      "\n",
      "\n",
      "\n",
      "11  detected full-sib individuals\n",
      "GE012315_06.1\tGE012315_05.1\tFS\t-5021.90\t\t1570.33\t703.85\t-\t205.92\r\n",
      "GEO020414_11_300\tGEO020414_11\tFS\t-4720.58\t\t1213.75\t591.30\t-\t9999\r\n",
      "GEO020414_14_300\tGEO020414_14\tFS\t-4125.34\t\t1228.21\t617.27\t-\t201.68\r\n",
      "GEO020414_15_300\tGEO020414_15\tFS\t-3901.41\t\t782.86\t346.41\t-\t9999\r\n",
      "GEO020414_16_300\tGEO020414_16\tFS\t-4222.08\t\t1326.84\t670.54\t-\t9999\r\n",
      "GEO020414_17_300\tGEO020414_17\tFS\t-4543.78\t\t947.70\t437.25\t-\t9999\r\n",
      "GEO020414_23_300\tGEO020414_23\tFS\t-4861.22\t\t1030.19\t485.26\t-\t150.40\r\n",
      "GEO020414_24_300\tGEO020414_24\tFS\t-4803.14\t\t997.51\t459.26\t-\t9999\r\n",
      "GEO020414_25_300\tGEO020414_25\tFS\t-3845.23\t\t1217.77\t601.61\t-\t9999\r\n",
      "GEO020414_8_300\tGEO020414_8\tFS\t-4314.89\t\t1491.06\t753.43\t-\t261.16\r\n",
      "GEO020414_9_300\tGEO020414_9\tFS\t-4125.47\t\t1299.32\t657.20\t-\t214.13\r\n",
      "\n"
     ]
    }
   ],
   "source": [
    "infile = open(\"MLrelate_ge_list.txt\", \"r\")\n",
    "\n",
    "h_count = 0\n",
    "f_count = 0\n",
    "h_lines = \"\"\n",
    "f_lines = \"\"\n",
    "\n",
    "for line in infile:\n",
    "    if not line.startswith(\"#\"):\n",
    "        linelist = line.strip().split()\n",
    "        relate = linelist[2]\n",
    "        if relate == \"HS\":\n",
    "            h_count += 1\n",
    "            h_lines += line\n",
    "        elif relate == \"FS\":\n",
    "            f_count += 1\n",
    "            f_lines += line\n",
    "infile.close()\n",
    "\n",
    "print h_count, \" detected half-sib individuals\"\n",
    "print h_lines\n",
    "print \"\"\n",
    "print \"\"\n",
    "print f_count, \" detected full-sib individuals\"\n",
    "print f_lines\n",
    "infile.close()"
   ]
  },
  {
   "cell_type": "markdown",
   "metadata": {},
   "source": [
    "**Are some of the relationships designated as half- or full-sib in the `list` version the ones that come out blank in the `CI` version?** I changed my python script and the script abov to produce lists, with each entry as `sample1,sample2`. Then I can compare these lists."
   ]
  },
  {
   "cell_type": "code",
   "execution_count": 13,
   "metadata": {
    "collapsed": true
   },
   "outputs": [],
   "source": [
    "infile = open(\"MLrelate_ge_list.txt\", \"r\")\n",
    "\n",
    "sib_list = []\n",
    "\n",
    "for line in infile:\n",
    "    if not line.startswith(\"#\"):\n",
    "        linelist = line.strip().split()\n",
    "        relate = linelist[2]\n",
    "        if relate == \"HS\" or relate == \"FS\":\n",
    "            sib_list.append(linelist[0] + \",\" + linelist[1])"
   ]
  },
  {
   "cell_type": "code",
   "execution_count": 16,
   "metadata": {
    "collapsed": false
   },
   "outputs": [],
   "source": [
    "infile = open(\"MLrelate_ge_CI_95.txt\", \"r\")\n",
    "\n",
    "empty_list = []\n",
    "\n",
    "for line in infile:\n",
    "    if not line.startswith(\"#\"):\n",
    "        linelist = line.strip().split()\n",
    "        if len(linelist) <= 2:\n",
    "            empty_list.append(linelist[0] + \",\" + linelist[1])\n",
    "infile.close()"
   ]
  },
  {
   "cell_type": "code",
   "execution_count": 20,
   "metadata": {
    "collapsed": false
   },
   "outputs": [
    {
     "name": "stdout",
     "output_type": "stream",
     "text": [
      "\n",
      "16  total sib pairs identified in list output.\n",
      "0  sib pairs identified in list and left blank in confidence intervals\n",
      "16  sib pairs identified in list but not in confidence intervals\n"
     ]
    }
   ],
   "source": [
    "mismatch = 0\n",
    "match = 0\n",
    "sib_count = 0\n",
    "for entry in sib_list:\n",
    "    sib_count += 1\n",
    "    if entry in empty_list:\n",
    "        print entry\n",
    "        match += 1\n",
    "    else:\n",
    "        mismatch += 1\n",
    "print \"\"\n",
    "print sib_count, \" total sib pairs identified in list output.\"\n",
    "print match, \" sib pairs identified in list and left blank in confidence intervals\"\n",
    "print mismatch, \" sib pairs identified in list but not in confidence intervals\""
   ]
  },
  {
   "cell_type": "markdown",
   "metadata": {
    "collapsed": true
   },
   "source": [
    "<br>\n",
    "#### 8/2/2017\n",
    "\n",
    "<br>\n",
    "<br>\n",
    "### Parsing out Delta Ln(L) values\n",
    "\n",
    "<br>  "
   ]
  },
  {
   "cell_type": "code",
   "execution_count": 1,
   "metadata": {
    "collapsed": false
   },
   "outputs": [
    {
     "name": "stdout",
     "output_type": "stream",
     "text": [
      "/mnt/hgfs/Pacific cod/DataAnalysis/PCod-Korea-repo/analyses/ml_relate_batch6\n"
     ]
    }
   ],
   "source": [
    "cd ../analyses/ml_relate_batch6/"
   ]
  },
  {
   "cell_type": "markdown",
   "metadata": {},
   "source": [
    "**Extract Delta Ln(L) values for \"U\" when relationships designated as half or full sib**"
   ]
  },
  {
   "cell_type": "code",
   "execution_count": 8,
   "metadata": {
    "collapsed": false,
    "scrolled": true
   },
   "outputs": [],
   "source": [
    "infile = open(\"MLrelate_south_list.txt\", \"r\")\n",
    "\n",
    "deltal_HS = []\n",
    "deltal_FS = []\n",
    "\n",
    "for line in infile:\n",
    "    if not line.startswith(\"#\"):\n",
    "        linelist = line.strip().split()\n",
    "        if linelist[2] == \"HS\":\n",
    "            deltal_HS.append(float(linelist[4]))\n",
    "        elif linelist[2] == \"FS\":\n",
    "            deltal_FS.append(float(linelist[4]))\n",
    "infile.close()"
   ]
  },
  {
   "cell_type": "code",
   "execution_count": 9,
   "metadata": {
    "collapsed": false
   },
   "outputs": [
    {
     "name": "stdout",
     "output_type": "stream",
     "text": [
      "[103.5, 158.67, 89.86, 13.69]\n"
     ]
    }
   ],
   "source": [
    "print deltal_HS[1:5]"
   ]
  },
  {
   "cell_type": "markdown",
   "metadata": {},
   "source": [
    "**Plot histogram of values**"
   ]
  },
  {
   "cell_type": "code",
   "execution_count": 10,
   "metadata": {
    "collapsed": true
   },
   "outputs": [],
   "source": [
    "import numpy as np\n",
    "import matplotlib.pyplot as plt"
   ]
  },
  {
   "cell_type": "code",
   "execution_count": 13,
   "metadata": {
    "collapsed": false
   },
   "outputs": [
    {
     "data": {
      "image/png": "[encoded data removed]",
      "text/plain": [
       "<matplotlib.figure.Figure at 0x7f2a67b86ed0>"
      ]
     },
     "metadata": {},
     "output_type": "display_data"
    }
   ],
   "source": [
    "plt.hist(deltal_HS, bins = np.arange(0,200,5), color = \"darkcyan\")\n",
    "plt.suptitle(\"Delta Ln(L) Values of U for half-sib designations\")\n",
    "plt.xlabel(\"Delta Ln(L)\")\n",
    "plt.ylabel(\"Number of Sample Pairs\")\n",
    "plt.show()"
   ]
  },
  {
   "cell_type": "code",
   "execution_count": 14,
   "metadata": {
    "collapsed": true
   },
   "outputs": [],
   "source": [
    "plt.close()"
   ]
  },
  {
   "cell_type": "code",
   "execution_count": 24,
   "metadata": {
    "collapsed": false
   },
   "outputs": [
    {
     "name": "stdout",
     "output_type": "stream",
     "text": [
      "[13.69, 8.91, 14.39]\n"
     ]
    }
   ],
   "source": [
    "delta_HS_lt20 = [i for i in deltal_HS if i < 20]\n",
    "print delta_HS_lt20"
   ]
  },
  {
   "cell_type": "code",
   "execution_count": 27,
   "metadata": {
    "collapsed": false
   },
   "outputs": [
    {
     "data": {
      "image/png": "[encoded data removed]",
      "text/plain": [
       "<matplotlib.figure.Figure at 0x7f2a68477fd0>"
      ]
     },
     "metadata": {},
     "output_type": "display_data"
    }
   ],
   "source": [
    "plt.hist(deltal_FS, bins = np.arange(0,2000,100), color = \"darkcyan\")\n",
    "plt.suptitle(\"Delta Ln(L) Values of U for full-sib designations\")\n",
    "plt.xlabel(\"Delta Ln(L)\")\n",
    "plt.ylabel(\"Number of Sample Pairs\")\n",
    "plt.show()"
   ]
  },
  {
   "cell_type": "code",
   "execution_count": 28,
   "metadata": {
    "collapsed": true
   },
   "outputs": [],
   "source": [
    "plt.close()"
   ]
  },
  {
   "cell_type": "markdown",
   "metadata": {},
   "source": [
    "\n",
    "\n",
    "<br>\n",
    "<br>\n",
    "\n",
    "### Looking for common half- and full- sib pairs between \"all sites one genepop\" and \"south sites one genepop\""
   ]
  },
  {
   "cell_type": "code",
   "execution_count": 45,
   "metadata": {
    "collapsed": true
   },
   "outputs": [],
   "source": [
    "southfile = open(\"MLrelate_south_list.txt\", \"r\")\n",
    "allfile = open(\"MLrelate_all_list.txt\", \"r\")\n",
    "\n",
    "south_halfsib_list = []\n",
    "all_halfsib_list = []\n",
    "\n",
    "south_fullsib_list = []\n",
    "all_fullsib_list = []\n",
    "\n",
    "for line in southfile:\n",
    "    if not line.startswith(\"#\"):\n",
    "        linelist = line.strip().split()\n",
    "        relate = linelist[2]\n",
    "        if relate == \"HS\":\n",
    "            south_halfsib_list.append(linelist[0] + \",\" + linelist[1])\n",
    "        elif relate == \"FS\":\n",
    "            south_fullsib_list.append(linelist[0] + \",\" + linelist[1])\n",
    "southfile.close()\n",
    "\n",
    "for line in allfile:\n",
    "    if not line.startswith(\"#\"):\n",
    "        linelist = line.strip().split()\n",
    "        relate = linelist[2]\n",
    "        if relate == \"HS\":\n",
    "            all_halfsib_list.append(linelist[0] + \",\" + linelist[1])\n",
    "        elif relate == \"FS\":\n",
    "            all_fullsib_list.append(linelist[0] + \",\" + linelist[1])\n",
    "allfile.close()\n",
    "\n",
    "\n",
    "## list comprehension: finding matches between the two analyses\n",
    "\n",
    "# matches between the lists\n",
    "halfsib_matches = [pair for pair in south_halfsib_list if pair in all_halfsib_list]\n",
    "fullsib_matches = [pair for pair in south_fullsib_list if pair in all_fullsib_list]\n",
    "\n",
    "#pairs only detected in the southern region genepop\n",
    "halfsib_south_only = [pair for pair in south_halfsib_list if pair not in all_halfsib_list]\n",
    "fullsib_south_only = [pair for pair in south_fullsib_list if pair not in all_fullsib_list]\n",
    "\n",
    "#pairs only detected in the all one pop genepop\n",
    "halfsib_all_only = [pair for pair in all_halfsib_list if pair not in south_halfsib_list]\n",
    "fullsib_all_only = [pair for pair in all_fullsib_list if pair not in south_fullsib_list]"
   ]
  },
  {
   "cell_type": "code",
   "execution_count": 50,
   "metadata": {
    "collapsed": false
   },
   "outputs": [
    {
     "name": "stdout",
     "output_type": "stream",
     "text": [
      "Number of half-sib pairs identified in both analyses:  10\n",
      "Number of full-sib pairs identified in both analyses:  19\n",
      "\n",
      "\n",
      "Number of sib pairs identified only in southern genepop analysis:\n",
      "Number of half-sib pairs:  2\n",
      "NA021015_13.1,NA021015_06.1\n",
      "NA021015_13.1,NA021015_10.1\n",
      "\n",
      "Number of full-sib pairs:  0\n",
      "\n",
      "\n",
      "\n",
      "Number of sib pairs identified only in all-one-pop genepop analysis:\n",
      "Number of half-sib pairs:  34\n",
      "GE011215_10.1,GE011215_08.1\n",
      "GE011215_14.1,GE011215_10.1\n",
      "GE012315_09.1,GE011215_30.1\n",
      "GE012315_09.1,GE012315_08.1\n",
      "YS_121316_05,YS_121316_03\n",
      "YS_121316_21,PO010715_26\n",
      "YS_121316_23,YS_121316_20.1\n",
      "YS121315_14.1,YS_121316_17\n",
      "YS121315_14.1,YS_121316_20.1\n",
      "YS121315_16,YS_121316_21\n",
      "JUK07_06.1,JUK07_02.1\n",
      "JUK07_29.1,JUK07_06.1\n",
      "JB121807_25,GE011215_29.1\n",
      "JB121807_32.1,JB121807_20.1\n",
      "JB121807_37,NA021015_25\n",
      "JB121807_48.1,JB121807_32.1\n",
      "JB021108_20,JB121807_05\n",
      "JB021108_20,JB121807_12.1\n",
      "JB021108_32,JB121807_12.1\n",
      "JB021108_34,JB121807_34.1\n",
      "JB021108_41.1,JB121807_21.1\n",
      "JB021108_48.1,PO010715_06.1\n",
      "BOR07_10.1,BOR07_07.1\n",
      "BOR07_11.1,BOR07_06.1\n",
      "BOR07_11.1,BOR07_10.1\n",
      "BOR07_15,BOR07_03\n",
      "GEO020414_14_300,GE011215_28\n",
      "GEO020414_16,GE011215_24.1\n",
      "GEO020414_16,NA021015_02.1\n",
      "GEO020414_16_300,GE011215_24.1\n",
      "GEO020414_16_300,NA021015_02.1\n",
      "GEO020414_24,GEO020414_23\n",
      "GEO020414_24,GEO020414_23_300\n",
      "GEO020414_9,GEO020414_11\n",
      "\n",
      "Number of full-sib pairs:  5\n",
      "YS121315_12_300,YS121315_12\n",
      "JUK07_02_rep.1,JUK07_02.1\n",
      "JUK07_09_rep.1,JUK07_09.1\n",
      "JUK07_16_rep.1,JUK07_16.1\n",
      "BOR07_13.1,BOR07_10.1\n"
     ]
    }
   ],
   "source": [
    "print \"Number of half-sib pairs identified in both analyses: \", len(halfsib_matches)\n",
    "print \"Number of full-sib pairs identified in both analyses: \", len(fullsib_matches)\n",
    "print \"\"\n",
    "print \"\"\n",
    "print \"Number of sib pairs identified only in southern genepop analysis:\"\n",
    "print \"Number of half-sib pairs: \", len(halfsib_south_only)\n",
    "print \"\\n\".join(halfsib_south_only)\n",
    "print \"\"\n",
    "print \"Number of full-sib pairs: \", len(fullsib_south_only)\n",
    "print \"\\n\".join(fullsib_south_only)\n",
    "print \"\"\n",
    "print \"\"\n",
    "print \"Number of sib pairs identified only in all-one-pop genepop analysis:\"\n",
    "print \"Number of half-sib pairs: \", len(halfsib_all_only)\n",
    "print \"\\n\".join(halfsib_all_only)\n",
    "print \"\"\n",
    "print \"Number of full-sib pairs: \", len(fullsib_all_only)\n",
    "print \"\\n\".join(fullsib_all_only)"
   ]
  },
  {
   "cell_type": "markdown",
   "metadata": {
    "collapsed": true
   },
   "source": [
    "### Looking for common sibling pairs between all-one-population and geoje analyses"
   ]
  },
  {
   "cell_type": "code",
   "execution_count": 23,
   "metadata": {
    "collapsed": false
   },
   "outputs": [
    {
     "name": "stdout",
     "output_type": "stream",
     "text": [
      "\n"
     ]
    }
   ],
   "source": [
    "gefile = open(\"MLrelate_ge_list.txt\", \"r\")\n",
    "allfile = open(\"MLrelate_all_list.txt\", \"r\")\n",
    "\n",
    "ge_halfsib_list = []\n",
    "all_halfsib_list = []\n",
    "\n",
    "ge_fullsib_list = []\n",
    "all_fullsib_list = []\n",
    "\n",
    "for line in gefile:\n",
    "    if not line.startswith(\"#\"):\n",
    "        linelist = line.strip().split()\n",
    "        relate = linelist[2]\n",
    "        if relate == \"HS\":\n",
    "            ge_halfsib_list.append(linelist[0] + \",\" + linelist[1])\n",
    "        elif relate == \"FS\":\n",
    "            ge_fullsib_list.append(linelist[0] + \",\" + linelist[1])\n",
    "gefile.close()\n",
    "\n",
    "for line in allfile:\n",
    "    if not line.startswith(\"#\"):\n",
    "        linelist = line.strip().split()\n",
    "        relate = linelist[2]\n",
    "        if relate == \"HS\":\n",
    "            all_halfsib_list.append(linelist[0] + \",\" + linelist[1])\n",
    "        elif relate == \"FS\":\n",
    "            all_fullsib_list.append(linelist[0] + \",\" + linelist[1])\n",
    "allfile.close()\n",
    "\n",
    "\n",
    "## list comprehension: finding matches between the two analyses\n",
    "\n",
    "# matches between the lists\n",
    "halfsib_matches = [pair for pair in ge_halfsib_list if pair in all_halfsib_list]\n",
    "fullsib_matches = [pair for pair in ge_fullsib_list if pair in all_fullsib_list]\n",
    "\n",
    "#pairs only detected in the southern region genepop\n",
    "halfsib_ge_only = [pair for pair in ge_halfsib_list if pair not in all_halfsib_list]\n",
    "fullsib_ge_only = [pair for pair in ge_fullsib_list if pair not in all_fullsib_list]\n",
    "\n",
    "#pairs only detected in the all one pop genepop\n",
    "halfsib_all_only = [pair for pair in all_halfsib_list if pair not in ge_halfsib_list]\n",
    "fullsib_all_only = [pair for pair in all_fullsib_list if pair not in ge_fullsib_list]"
   ]
  },
  {
   "cell_type": "code",
   "execution_count": 25,
   "metadata": {
    "collapsed": false
   },
   "outputs": [
    {
     "name": "stdout",
     "output_type": "stream",
     "text": [
      "Number of half-sib pairs identified in both analyses:  5\n",
      "Number of full-sib pairs identified in both analyses:  11\n",
      "\n",
      "\n",
      "Number of sib pairs identified only in geoje genepop analysis:\n",
      "Number of half-sib pairs:  0\n",
      "\n",
      "\n",
      "Number of full-sib pairs:  0\n",
      "\n",
      "\n",
      "\n",
      "Number of sib pairs identified only in all-one-pop genepop analysis:\n",
      "Number of half-sib pairs:  39\n",
      "GE011215_10.1,GE011215_08.1\n",
      "GE011215_14.1,GE011215_10.1\n",
      "GE012315_09.1,GE011215_30.1\n",
      "GE012315_09.1,GE012315_08.1\n",
      "NA021015_09.1,NA021015_06.1\n",
      "NA021015_10.1,NA021015_06.1\n",
      "NA021015_10.1,NA021015_09.1\n",
      "YS_121316_05,YS_121316_03\n",
      "YS_121316_21,PO010715_26\n",
      "YS_121316_23,YS_121316_20.1\n",
      "YS121315_14.1,YS_121316_17\n",
      "YS121315_14.1,YS_121316_20.1\n",
      "YS121315_16,YS_121316_21\n",
      "JUK07_06.1,JUK07_02.1\n",
      "JUK07_29.1,JUK07_06.1\n",
      "JB121807_25,GE011215_29.1\n",
      "JB121807_32.1,JB121807_20.1\n",
      "JB121807_37,NA021015_25\n",
      "JB121807_48.1,JB121807_20.1\n",
      "JB121807_48.1,JB121807_32.1\n",
      "JB021108_20,JB121807_05\n",
      "JB021108_20,JB121807_12.1\n",
      "JB021108_32,JB121807_12.1\n",
      "JB021108_32,JB021108_20\n",
      "JB021108_34,JB121807_34.1\n",
      "JB021108_41.1,JB121807_21.1\n",
      "JB021108_48.1,PO010715_06.1\n",
      "BOR07_10.1,BOR07_07.1\n",
      "BOR07_11.1,BOR07_06.1\n",
      "BOR07_11.1,BOR07_10.1\n",
      "BOR07_15,BOR07_03\n",
      "GEO020414_14_300,GE011215_28\n",
      "GEO020414_16,GE011215_24.1\n",
      "GEO020414_16,NA021015_02.1\n",
      "GEO020414_16_300,GE011215_24.1\n",
      "GEO020414_16_300,NA021015_02.1\n",
      "GEO020414_24,GEO020414_23\n",
      "GEO020414_24,GEO020414_23_300\n",
      "GEO020414_9,GEO020414_11\n",
      "\n",
      "Number of full-sib pairs:  13\n",
      "PO010715_02_rep,PO010715_02\n",
      "YS121315_12_300,YS121315_12\n",
      "JUK07_02_rep.1,JUK07_02.1\n",
      "JUK07_09_rep.1,JUK07_09.1\n",
      "JUK07_16_rep.1,JUK07_16.1\n",
      "JB121807_08_rep,JB121807_08\n",
      "JB121807_46,JB121807_44\n",
      "JB021108_05_rep,JB021108_05\n",
      "JB021108_35_rep,JB021108_35\n",
      "JB021108_36_rep.1,JB021108_36.1\n",
      "JB021108_37_rep.1,JB021108_37.1\n",
      "JB021108_46_rep.1,JB021108_46.1\n",
      "BOR07_13.1,BOR07_10.1\n"
     ]
    }
   ],
   "source": [
    "print \"Number of half-sib pairs identified in both analyses: \", len(halfsib_matches)\n",
    "print \"Number of full-sib pairs identified in both analyses: \", len(fullsib_matches)\n",
    "print \"\"\n",
    "print \"\"\n",
    "print \"Number of sib pairs identified only in geoje genepop analysis:\"\n",
    "print \"Number of half-sib pairs: \", len(halfsib_ge_only)\n",
    "print \"\\n\".join(halfsib_ge_only)\n",
    "print \"\"\n",
    "print \"Number of full-sib pairs: \", len(fullsib_ge_only)\n",
    "print \"\\n\".join(fullsib_ge_only)\n",
    "print \"\"\n",
    "print \"\"\n",
    "print \"Number of sib pairs identified only in all-one-pop genepop analysis:\"\n",
    "print \"Number of half-sib pairs: \", len(halfsib_all_only)\n",
    "print \"\\n\".join(halfsib_all_only)\n",
    "print \"\"\n",
    "print \"Number of full-sib pairs: \", len(fullsib_all_only)\n",
    "print \"\\n\".join(fullsib_all_only)"
   ]
  },
  {
   "cell_type": "markdown",
   "metadata": {},
   "source": [
    "### Comparing sibling pairs in southern-sites-all-one-pop and geoje-all-one-pop analyses"
   ]
  },
  {
   "cell_type": "code",
   "execution_count": 26,
   "metadata": {
    "collapsed": true
   },
   "outputs": [],
   "source": [
    "gefile = open(\"MLrelate_ge_list.txt\", \"r\")\n",
    "southfile = open(\"MLrelate_south_list.txt\", \"r\")\n",
    "\n",
    "ge_halfsib_list = []\n",
    "south_halfsib_list = []\n",
    "\n",
    "ge_fullsib_list = []\n",
    "south_fullsib_list = []\n",
    "\n",
    "for line in gefile:\n",
    "    if not line.startswith(\"#\"):\n",
    "        linelist = line.strip().split()\n",
    "        relate = linelist[2]\n",
    "        if relate == \"HS\":\n",
    "            ge_halfsib_list.append(linelist[0] + \",\" + linelist[1])\n",
    "        elif relate == \"FS\":\n",
    "            ge_fullsib_list.append(linelist[0] + \",\" + linelist[1])\n",
    "gefile.close()\n",
    "\n",
    "for line in southfile:\n",
    "    if not line.startswith(\"#\"):\n",
    "        linelist = line.strip().split()\n",
    "        relate = linelist[2]\n",
    "        if relate == \"HS\":\n",
    "            south_halfsib_list.append(linelist[0] + \",\" + linelist[1])\n",
    "        elif relate == \"FS\":\n",
    "            south_fullsib_list.append(linelist[0] + \",\" + linelist[1])\n",
    "southfile.close()\n",
    "\n",
    "\n",
    "## list comprehension: finding matches between the two analyses\n",
    "\n",
    "# matches between the lists\n",
    "halfsib_matches = [pair for pair in ge_halfsib_list if pair in south_halfsib_list]\n",
    "fullsib_matches = [pair for pair in ge_fullsib_list if pair in south_fullsib_list]\n",
    "\n",
    "#pairs only detected in the southern region genepop\n",
    "halfsib_ge_only = [pair for pair in ge_halfsib_list if pair not in south_halfsib_list]\n",
    "fullsib_ge_only = [pair for pair in ge_fullsib_list if pair not in south_fullsib_list]\n",
    "\n",
    "#pairs only detected in the all one pop genepop\n",
    "halfsib_south_only = [pair for pair in south_halfsib_list if pair not in ge_halfsib_list]\n",
    "fullsib_south_only = [pair for pair in south_fullsib_list if pair not in ge_fullsib_list]"
   ]
  },
  {
   "cell_type": "code",
   "execution_count": 27,
   "metadata": {
    "collapsed": false
   },
   "outputs": [
    {
     "name": "stdout",
     "output_type": "stream",
     "text": [
      "Number of half-sib pairs identified in both analyses:  5\n",
      "Number of full-sib pairs identified in both analyses:  11\n",
      "\n",
      "\n",
      "Number of sib pairs identified only in geoje genepop analysis:\n",
      "Number of half-sib pairs:  0\n",
      "\n",
      "\n",
      "Number of full-sib pairs:  0\n",
      "\n",
      "\n",
      "\n",
      "Number of sib pairs identified only in south-one-pop genepop analysis:\n",
      "Number of half-sib pairs:  7\n",
      "NA021015_09.1,NA021015_06.1\n",
      "NA021015_10.1,NA021015_06.1\n",
      "NA021015_10.1,NA021015_09.1\n",
      "NA021015_13.1,NA021015_06.1\n",
      "NA021015_13.1,NA021015_10.1\n",
      "JB121807_48.1,JB121807_20.1\n",
      "JB021108_32,JB021108_20\n",
      "\n",
      "Number of full-sib pairs:  8\n",
      "PO010715_02_rep,PO010715_02\n",
      "JB121807_08_rep,JB121807_08\n",
      "JB121807_46,JB121807_44\n",
      "JB021108_05_rep,JB021108_05\n",
      "JB021108_35_rep,JB021108_35\n",
      "JB021108_36_rep.1,JB021108_36.1\n",
      "JB021108_37_rep.1,JB021108_37.1\n",
      "JB021108_46_rep.1,JB021108_46.1\n"
     ]
    }
   ],
   "source": [
    "print \"Number of half-sib pairs identified in both analyses: \", len(halfsib_matches)\n",
    "print \"Number of full-sib pairs identified in both analyses: \", len(fullsib_matches)\n",
    "print \"\"\n",
    "print \"\"\n",
    "print \"Number of sib pairs identified only in geoje genepop analysis:\"\n",
    "print \"Number of half-sib pairs: \", len(halfsib_ge_only)\n",
    "print \"\\n\".join(halfsib_ge_only)\n",
    "print \"\"\n",
    "print \"Number of full-sib pairs: \", len(fullsib_ge_only)\n",
    "print \"\\n\".join(fullsib_ge_only)\n",
    "print \"\"\n",
    "print \"\"\n",
    "print \"Number of sib pairs identified only in south-one-pop genepop analysis:\"\n",
    "print \"Number of half-sib pairs: \", len(halfsib_south_only)\n",
    "print \"\\n\".join(halfsib_south_only)\n",
    "print \"\"\n",
    "print \"Number of full-sib pairs: \", len(fullsib_south_only)\n",
    "print \"\\n\".join(fullsib_south_only)"
   ]
  },
  {
   "cell_type": "code",
   "execution_count": null,
   "metadata": {
    "collapsed": true
   },
   "outputs": [],
   "source": []
  }
 ],
 "metadata": {
  "anaconda-cloud": {},
  "kernelspec": {
   "display_name": "Python [default]",
   "language": "python",
   "name": "python2"
  },
  "language_info": {
   "codemirror_mode": {
    "name": "ipython",
    "version": 2
   },
   "file_extension": ".py",
   "mimetype": "text/x-python",
   "name": "python",
   "nbconvert_exporter": "python",
   "pygments_lexer": "ipython2",
   "version": "2.7.12"
  }
 },
 "nbformat": 4,
 "nbformat_minor": 1
}
