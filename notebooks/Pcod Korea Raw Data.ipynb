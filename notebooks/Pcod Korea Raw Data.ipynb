{
 "cells": [
  {
   "cell_type": "markdown",
   "metadata": {},
   "source": [
    "## Pacific cod (Korean populations) Raw Data\n",
    "\n",
    "\n",
    "<br>\n",
    "This notebook documents where the Korean P.cod raw data is stored and uses FastQC to take a look at the raw Illumina files. \n",
    "\n",
    "<br>\n",
    "\n",
    "### Lane 4\n",
    "\n",
    "4/1/2017"
   ]
  },
  {
   "cell_type": "code",
   "execution_count": 1,
   "metadata": {
    "collapsed": false
   },
   "outputs": [
    {
     "data": {
      "text/plain": [
       "u'/mnt/hgfs/Pacific cod/DataAnalysis/PCod-Korea-repo/notebooks'"
      ]
     },
     "execution_count": 1,
     "metadata": {},
     "output_type": "execute_result"
    }
   ],
   "source": [
    "pwd"
   ]
  },
  {
   "cell_type": "code",
   "execution_count": 2,
   "metadata": {
    "collapsed": false
   },
   "outputs": [
    {
     "name": "stdout",
     "output_type": "stream",
     "text": [
      "/media\n"
     ]
    }
   ],
   "source": [
    "cd /media"
   ]
  },
  {
   "cell_type": "code",
   "execution_count": 4,
   "metadata": {
    "collapsed": false
   },
   "outputs": [
    {
     "name": "stdout",
     "output_type": "stream",
     "text": [
      "/media/mfisher5/New Volume\n"
     ]
    }
   ],
   "source": [
    "cd mfisher5/New\\ Volume"
   ]
  },
  {
   "cell_type": "code",
   "execution_count": 5,
   "metadata": {
    "collapsed": false
   },
   "outputs": [
    {
     "name": "stdout",
     "output_type": "stream",
     "text": [
      "/media/mfisher5/New Volume/Mary\n"
     ]
    }
   ],
   "source": [
    "cd Mary/"
   ]
  },
  {
   "cell_type": "code",
   "execution_count": 7,
   "metadata": {
    "collapsed": false
   },
   "outputs": [
    {
     "name": "stdout",
     "output_type": "stream",
     "text": [
      "/media/mfisher5/New Volume/Mary/Raw Data\n"
     ]
    }
   ],
   "source": [
    "cd Raw\\ Data"
   ]
  },
  {
   "cell_type": "code",
   "execution_count": null,
   "metadata": {
    "collapsed": true
   },
   "outputs": [],
   "source": [
    "# in terminal\n",
    "wget -r --no-parent --reject \"index.html*\" \\\n",
    "http://gc3fstorage.uoregon.edu/HF7YYBBXX/1041"
   ]
  },
  {
   "cell_type": "markdown",
   "metadata": {},
   "source": [
    "`--2017-03-31 18:03:06--  http://gc3fstorage.uoregon.edu/HJ7YYBBXX/1041/\n",
    "Resolving gc3fstorage.uoregon.edu (gc3fstorage.uoregon.edu)... 184.171.98.136\n",
    "Connecting to gc3fstorage.uoregon.edu (gc3fstorage.uoregon.edu)|184.171.98.136|:80... connected.\n",
    "HTTP request sent, awaiting response... 200 OK\n",
    "Length: unspecified [text/html]\n",
    "Saving to: ‘gc3fstorage.uoregon.edu/HJ7YYBBXX/1041/index.html’`\n",
    "\n",
    "`gc3fstorage.uoregon     [ <=>                ]   2.47K  --.-KB/s    in 0.003s`  \n",
    "\n",
    "`2017-03-31 18:03:07 (715 KB/s) - ‘gc3fstorage.uoregon.edu/HJ7YYBBXX/1041/index.html’` saved [2531]\n",
    "\n",
    "Loading robots.txt; please ignore errors.\n",
    "--2017-03-31 18:03:07--  http://gc3fstorage.uoregon.edu/robots.txt\n",
    "Reusing existing connection to gc3fstorage.uoregon.edu:80.\n",
    "HTTP request sent, awaiting response... 404 Not Found\n",
    "2017-03-31 18:03:07 ERROR 404: Not Found.\n",
    "\n",
    "Removing gc3fstorage.uoregon.edu/HJ7YYBBXX/1041/index.html since it should be rejected.\n",
    "\n",
    "`--2017-03-31 18:03:07--  http://gc3fstorage.uoregon.edu/HJ7YYBBXX/1041/?C=N;O=D\n",
    "Reusing existing connection to gc3fstorage.uoregon.edu:80.\n",
    "HTTP request sent, awaiting response... 200 OK\n",
    "Length: unspecified [text/html]\n",
    "Saving to: ‘gc3fstorage.uoregon.edu/HJ7YYBBXX/1041/index.html?C=N;O=D’`\n",
    "\n",
    "gc3fstorage.uoregon     [ <=>                ]   2.47K  --.-KB/s    in 0.003s  `\n",
    "\n",
    "`2017-03-31 18:03:07 (889 KB/s) - ‘gc3fstorage.uoregon.edu/HJ7YYBBXX/1041/index.html?C=N;O=D’ saved [2531]\n",
    "\n",
    "Removing gc3fstorage.uoregon.edu/HJ7YYBBXX/1041/index.html?C=N;O=D since it should be rejected.\n",
    "\n",
    "--2017-03-31 18:03:07--  http://gc3fstorage.uoregon.edu/HJ7YYBBXX/1041/?C=M;O=A\n",
    "Reusing existing connection to gc3fstorage.uoregon.edu:80.\n",
    "HTTP request sent, awaiting response... 200 OK\n",
    "Length: unspecified [text/html]\n",
    "Saving to: ‘gc3fstorage.uoregon.edu/HJ7YYBBXX/1041/index.html?C=M;O=A’\n",
    "\n",
    "gc3fstorage.uoregon     [ <=>                ]   2.47K  --.-KB/s    in 0.001s  \n",
    "\n",
    "2017-03-31 18:03:07 (2.42 MB/s) - ‘gc3fstorage.uoregon.edu/HJ7YYBBXX/1041/index.html?C=M;O=A’ saved [2531]\n",
    "\n",
    "Removing gc3fstorage.uoregon.edu/HJ7YYBBXX/1041/index.html?C=M;O=A since it should be rejected.\n",
    "\n",
    "--2017-03-31 18:03:07--  http://gc3fstorage.uoregon.edu/HJ7YYBBXX/1041/?C=S;O=A\n",
    "Reusing existing connection to gc3fstorage.uoregon.edu:80.\n",
    "HTTP request sent, awaiting response... 200 OK\n",
    "Length: unspecified [text/html]\n",
    "Saving to: ‘gc3fstorage.uoregon.edu/HJ7YYBBXX/1041/index.html?C=S;O=A’\n",
    "\n",
    "gc3fstorage.uoregon     [ <=>                ]   2.47K  --.-KB/s    in 0.001s  \n",
    "\n",
    "2017-03-31 18:03:07 (4.31 MB/s) - ‘gc3fstorage.uoregon.edu/HJ7YYBBXX/1041/index.html?C=S;O=A’ saved [2531]\n",
    "\n",
    "Removing gc3fstorage.uoregon.edu/HJ7YYBBXX/1041/index.html?C=S;O=A since it should be rejected.\n",
    "\n",
    "--2017-03-31 18:03:07--  http://gc3fstorage.uoregon.edu/HJ7YYBBXX/1041/Undetermined_S0_L006_R1_001.fastq.gz\n",
    "Reusing existing connection to gc3fstorage.uoregon.edu:80.\n",
    "HTTP request sent, awaiting response... 200 OK\n",
    "Length: 34434851867 (32G) [application/x-gzip]\n",
    "Saving to: ‘gc3fstorage.uoregon.edu/HJ7YYBBXX/1041/Undetermined_S0_L006_R1_001.fastq.gz’\n",
    "\n",
    "gc3fstorage.uoregon 100%[===================>]  32.07G  4.82MB/s    in 2h 18m  \n",
    "\n",
    "2017-03-31 20:21:28 (3.96 MB/s) - ‘gc3fstorage.uoregon.edu/HJ7YYBBXX/1041/Undetermined_S0_L006_R1_001.fastq.gz’ saved [34434851867/34434851867]\n",
    "\n",
    "--2017-03-31 20:21:28--  http://gc3fstorage.uoregon.edu/HJ7YYBBXX/1041/Undetermined_S0_L006_R2_001.fastq.gz\n",
    "Reusing existing connection to gc3fstorage.uoregon.edu:80.\n",
    "HTTP request sent, awaiting response... 200 OK\n",
    "Length: 37319050961 (35G) [application/x-gzip]\n",
    "Saving to: ‘gc3fstorage.uoregon.edu/HJ7YYBBXX/1041/Undetermined_S0_L006_R2_001.fastq.gz’\n",
    "\n",
    "gc3fstorage.uoregon 100%[===================>]  34.76G  7.23MB/s    in 1h 44m  \n",
    "\n",
    "2017-03-31 22:06:00 (5.67 MB/s) - ‘gc3fstorage.uoregon.edu/HJ7YYBBXX/1041/Undetermined_S0_L006_R2_001.fastq.gz’ saved [37319050961/37319050961]\n",
    "\n",
    "--2017-03-31 22:06:00--  http://gc3fstorage.uoregon.edu/HJ7YYBBXX/1041/?C=N;O=A\n",
    "Reusing existing connection to gc3fstorage.uoregon.edu:80.\n",
    "HTTP request sent, awaiting response... 200 OK\n",
    "Length: unspecified [text/html]\n",
    "Saving to: ‘gc3fstorage.uoregon.edu/HJ7YYBBXX/1041/index.html?C=N;O=A’\n",
    "\n",
    "gc3fstorage.uoregon     [  <=>               ]   2.47K  3.04KB/s    in 0.8s    \n",
    "\n",
    "2017-03-31 22:06:01 (3.04 KB/s) - ‘gc3fstorage.uoregon.edu/HJ7YYBBXX/1041/index.html?C=N;O=A’ saved [2531]\n",
    "\n",
    "Removing gc3fstorage.uoregon.edu/HJ7YYBBXX/1041/index.html?C=N;O=A since it should be rejected.\n",
    "\n",
    "--2017-03-31 22:06:01--  http://gc3fstorage.uoregon.edu/HJ7YYBBXX/1041/?C=M;O=D\n",
    "Reusing existing connection to gc3fstorage.uoregon.edu:80.\n",
    "HTTP request sent, awaiting response... 200 OK\n",
    "Length: unspecified [text/html]\n",
    "Saving to: ‘gc3fstorage.uoregon.edu/HJ7YYBBXX/1041/index.html?C=M;O=D’\n",
    "\n",
    "gc3fstorage.uoregon     [ <=>                ]   2.47K  --.-KB/s    in 0.001s  \n",
    "\n",
    "2017-03-31 22:06:01 (3.83 MB/s) - ‘gc3fstorage.uoregon.edu/HJ7YYBBXX/1041/index.html?C=M;O=D’ saved [2531]\n",
    "\n",
    "Removing gc3fstorage.uoregon.edu/HJ7YYBBXX/1041/index.html?C=M;O=D since it should be rejected.\n",
    "\n",
    "--2017-03-31 22:06:01--  http://gc3fstorage.uoregon.edu/HJ7YYBBXX/1041/?C=S;O=D\n",
    "Reusing existing connection to gc3fstorage.uoregon.edu:80.\n",
    "HTTP request sent, awaiting response... 200 OK\n",
    "Length: unspecified [text/html]\n",
    "Saving to: ‘gc3fstorage.uoregon.edu/HJ7YYBBXX/1041/index.html?C=S;O=D’\n",
    "\n",
    "gc3fstorage.uoregon     [ <=>                ]   2.47K  --.-KB/s    in 0.001s  \n",
    "\n",
    "2017-03-31 22:06:01 (4.16 MB/s) - ‘gc3fstorage.uoregon.edu/HJ7YYBBXX/1041/index.html?C=S;O=D’ saved [2531]\n",
    "\n",
    "Removing gc3fstorage.uoregon.edu/HJ7YYBBXX/1041/index.html?C=S;O=D since it should be rejected.\n",
    "\n",
    "FINISHED --2017-03-31 22:06:01--\n",
    "Total wall clock time: 4h 2m 55s\n",
    "Downloaded: 9 files, 67G in 4h 2m 53s (4.70 MB/s)"
   ]
  },
  {
   "cell_type": "markdown",
   "metadata": {},
   "source": [
    "\n",
    "<br>\n",
    "** TROUBLESHOOTING: ** \n",
    "\n",
    "When FastQC tries to open some files, it says that the file was truncated. Does this mean that I am missing data? \n",
    "\n",
    "<br>\n",
    "(1) Checksums for the `wget` download v. normal download"
   ]
  },
  {
   "cell_type": "code",
   "execution_count": 4,
   "metadata": {
    "collapsed": false
   },
   "outputs": [
    {
     "name": "stdout",
     "output_type": "stream",
     "text": [
      "/media/mfisher5/New Volume/Mary/Raw Data\n"
     ]
    }
   ],
   "source": [
    "cd /media/mfisher5/New\\ Volume/Mary/Raw\\ Data"
   ]
  },
  {
   "cell_type": "code",
   "execution_count": 7,
   "metadata": {
    "collapsed": false
   },
   "outputs": [
    {
     "name": "stdout",
     "output_type": "stream",
     "text": [
      "b15ba1cf91213e8a15fcc4f7f7e1a653  Lane4/Undetermined_S0_L006_R1_001.fastq.gz\r\n"
     ]
    }
   ],
   "source": [
    "!md5sum Lane4/Undetermined_S0_L006_R1_001.fastq.gz"
   ]
  },
  {
   "cell_type": "code",
   "execution_count": 8,
   "metadata": {
    "collapsed": false
   },
   "outputs": [
    {
     "name": "stdout",
     "output_type": "stream",
     "text": [
      "/mnt/hgfs/Pacific cod/DataAnalysis/raw_data\n"
     ]
    }
   ],
   "source": [
    "cd /mnt/hgfs/Pacific\\ cod/DataAnalysis/raw_data"
   ]
  },
  {
   "cell_type": "code",
   "execution_count": 9,
   "metadata": {
    "collapsed": false
   },
   "outputs": [
    {
     "name": "stdout",
     "output_type": "stream",
     "text": [
      "b15ba1cf91213e8a15fcc4f7f7e1a653  Undetermined_S0_L006_R1_001.fastq.gz\r\n"
     ]
    }
   ],
   "source": [
    "!md5sum Undetermined_S0_L006_R1_001.fastq.gz"
   ]
  },
  {
   "cell_type": "code",
   "execution_count": 11,
   "metadata": {
    "collapsed": false,
    "scrolled": true
   },
   "outputs": [
    {
     "name": "stdout",
     "output_type": "stream",
     "text": [
      "/media/mfisher5/New Volume/Mary/Raw Data/Lane4\n"
     ]
    }
   ],
   "source": [
    "cd /media/mfisher5/New\\ Volume/Mary/Raw\\ Data/Lane4"
   ]
  },
  {
   "cell_type": "markdown",
   "metadata": {},
   "source": [
    "\n",
    "<br>\n",
    "(2) Unzip and try to understand what is happening. \n",
    "\n",
    "Gzip returns a message that says there is \"trailing garbage\" in some of the individual FastQC files. Since this is not present in the original raw data file, it appears that this is some weird function of `gzip` which may pad a file with zeros to get it up to a certain size (see [help page](http://www.gzip.org/#faq8)). When I unzip the file, `gzip -d` removes this \"trailing garbage\" and the file appears normal. Since the `stacks` pipeline first unzips the files, then runs the program, then rezips the files, it should not have an effect on the output of `stacks`. I'll just choose different files to look at the FastQC.\n",
    "\n"
   ]
  },
  {
   "cell_type": "markdown",
   "metadata": {
    "collapsed": true
   },
   "source": [
    "\n",
    "<br>\n",
    "** FLOWCELL AND LANE SUMMARIES**\n",
    "\n",
    "\n",
    "The flowcell summary from Oregon is below; my sample `1041` was in **lane 6**\n",
    "\n",
    "<br>\n",
    "\n",
    "![flowcell lane4](https://github.com/mfisher5/PCod-Korea-repo/blob/master/nb_pictures/flowcell_summary_L6.png?raw=true)"
   ]
  },
  {
   "cell_type": "markdown",
   "metadata": {
    "collapsed": true
   },
   "source": [
    "\n",
    "<br>\n",
    "### Lane 3 (single read)"
   ]
  },
  {
   "cell_type": "code",
   "execution_count": 2,
   "metadata": {
    "collapsed": false
   },
   "outputs": [
    {
     "data": {
      "text/plain": [
       "u'/mnt/hgfs/Pacific cod/DataAnalysis/PCod-Korea-repo/notebooks'"
      ]
     },
     "execution_count": 2,
     "metadata": {},
     "output_type": "execute_result"
    }
   ],
   "source": [
    "pwd"
   ]
  },
  {
   "cell_type": "code",
   "execution_count": 3,
   "metadata": {
    "collapsed": false
   },
   "outputs": [
    {
     "name": "stdout",
     "output_type": "stream",
     "text": [
      "/media/mfisher5/New Volume\n"
     ]
    }
   ],
   "source": [
    "cd /media/mfisher5/New\\ Volume"
   ]
  },
  {
   "cell_type": "code",
   "execution_count": 4,
   "metadata": {
    "collapsed": false
   },
   "outputs": [
    {
     "name": "stdout",
     "output_type": "stream",
     "text": [
      "\u001b[0m\u001b[34;42mKristen\u001b[0m/  \u001b[34;42mMary\u001b[0m/  \u001b[34;42m$RECYCLE.BIN\u001b[0m/  \u001b[34;42mSystem Volume Information\u001b[0m/\r\n"
     ]
    }
   ],
   "source": [
    "ls"
   ]
  },
  {
   "cell_type": "code",
   "execution_count": 5,
   "metadata": {
    "collapsed": false
   },
   "outputs": [
    {
     "name": "stdout",
     "output_type": "stream",
     "text": [
      "/media/mfisher5/New Volume/Mary/Raw Data\n"
     ]
    }
   ],
   "source": [
    "cd Mary/Raw\\ Data"
   ]
  },
  {
   "cell_type": "code",
   "execution_count": null,
   "metadata": {
    "collapsed": true
   },
   "outputs": [],
   "source": [
    "# ran rest in terminal window\n",
    "!wget -r --no-parent --reject \"index.html*\" http://gc3fstorage.uoregon.edu/HJTLYBBXX/994/"
   ]
  },
  {
   "cell_type": "markdown",
   "metadata": {
    "collapsed": true
   },
   "source": [
    "--2017-04-04 16:06:27--  http://gc3fstorage.uoregon.edu/HJTLYBBXX/994/\n",
    "Resolving gc3fstorage.uoregon.edu (gc3fstorage.uoregon.edu)... 184.171.98.136\n",
    "Connecting to gc3fstorage.uoregon.edu (gc3fstorage.uoregon.edu)|184.171.98.136|:80... connected.\n",
    "HTTP request sent, awaiting response... 200 OK\n",
    "Length: unspecified [text/html]\n",
    "Saving to: ‘gc3fstorage.uoregon.edu/HJTLYBBXX/994/index.html’\n",
    "\n",
    "gc3fstorage.uoregon     [ <=>                ]   2.10K  --.-KB/s    in 0.002s  \n",
    "\n",
    "2017-04-04 16:06:27 (1.22 MB/s) - ‘gc3fstorage.uoregon.edu/HJTLYBBXX/994/index.html’ saved [2148]\n",
    "\n",
    "Loading robots.txt; please ignore errors.\n",
    "--2017-04-04 16:06:27--  http://gc3fstorage.uoregon.edu/robots.txt\n",
    "Reusing existing connection to gc3fstorage.uoregon.edu:80.\n",
    "HTTP request sent, awaiting response... 404 Not Found\n",
    "2017-04-04 16:06:27 ERROR 404: Not Found.\n",
    "\n",
    "Removing gc3fstorage.uoregon.edu/HJTLYBBXX/994/index.html since it should be rejected.\n",
    "\n",
    "--2017-04-04 16:06:27--  http://gc3fstorage.uoregon.edu/HJTLYBBXX/994/?C=N;O=D\n",
    "Reusing existing connection to gc3fstorage.uoregon.edu:80.\n",
    "HTTP request sent, awaiting response... 200 OK\n",
    "Length: unspecified [text/html]\n",
    "Saving to: ‘gc3fstorage.uoregon.edu/HJTLYBBXX/994/index.html?C=N;O=D’\n",
    "\n",
    "gc3fstorage.uoregon     [ <=>                ]   2.10K  --.-KB/s    in 0.001s  \n",
    "\n",
    "2017-04-04 16:06:28 (3.86 MB/s) - ‘gc3fstorage.uoregon.edu/HJTLYBBXX/994/index.html?C=N;O=D’ saved [2148]\n",
    "\n",
    "Removing gc3fstorage.uoregon.edu/HJTLYBBXX/994/index.html?C=N;O=D since it should be rejected.\n",
    "\n",
    "--2017-04-04 16:06:28--  http://gc3fstorage.uoregon.edu/HJTLYBBXX/994/?C=M;O=A\n",
    "Reusing existing connection to gc3fstorage.uoregon.edu:80.\n",
    "HTTP request sent, awaiting response... 200 OK\n",
    "Length: unspecified [text/html]\n",
    "Saving to: ‘gc3fstorage.uoregon.edu/HJTLYBBXX/994/index.html?C=M;O=A’\n",
    "\n",
    "gc3fstorage.uoregon     [ <=>                ]   2.10K  --.-KB/s    in 0s      \n",
    "\n",
    "2017-04-04 16:06:28 (25.5 MB/s) - ‘gc3fstorage.uoregon.edu/HJTLYBBXX/994/index.html?C=M;O=A’ saved [2148]\n",
    "\n",
    "Removing gc3fstorage.uoregon.edu/HJTLYBBXX/994/index.html?C=M;O=A since it should be rejected.\n",
    "\n",
    "--2017-04-04 16:06:28--  http://gc3fstorage.uoregon.edu/HJTLYBBXX/994/?C=S;O=A\n",
    "Reusing existing connection to gc3fstorage.uoregon.edu:80.\n",
    "HTTP request sent, awaiting response... 200 OK\n",
    "Length: unspecified [text/html]\n",
    "Saving to: ‘gc3fstorage.uoregon.edu/HJTLYBBXX/994/index.html?C=S;O=A’\n",
    "\n",
    "gc3fstorage.uoregon     [ <=>                ]   2.10K  --.-KB/s    in 0.001s  \n",
    "\n",
    "2017-04-04 16:06:28 (3.89 MB/s) - ‘gc3fstorage.uoregon.edu/HJTLYBBXX/994/index.html?C=S;O=A’ saved [2148]\n",
    "\n",
    "Removing gc3fstorage.uoregon.edu/HJTLYBBXX/994/index.html?C=S;O=A since it should be rejected.\n",
    "\n",
    "--2017-04-04 16:06:28--  http://gc3fstorage.uoregon.edu/HJTLYBBXX/994/994_S1_L001_R1_001.fastq.gz\n",
    "Reusing existing connection to gc3fstorage.uoregon.edu:80.\n",
    "HTTP request sent, awaiting response... 200 OK\n",
    "Length: 31279383749 (29G) [application/x-gzip]\n",
    "Saving to: ‘gc3fstorage.uoregon.edu/HJTLYBBXX/994/994_S1_L001_R1_001.fastq.gz’\n",
    "\n",
    "gc3fstorage.uoregon.edu/HJTLYBBXX/994/994_S1_L001_ 100%[================================================================================================================>]  29.13G  3.31MB/s    in 4h 44m  \n",
    "\n",
    "2017-04-04 20:51:01 (1.75 MB/s) - ‘gc3fstorage.uoregon.edu/HJTLYBBXX/994/994_S1_L001_R1_001.fastq.gz’ saved [31279383749/31279383749]\n",
    "\n",
    "--2017-04-04 20:51:01--  http://gc3fstorage.uoregon.edu/HJTLYBBXX/994/?C=N;O=A\n",
    "Reusing existing connection to gc3fstorage.uoregon.edu:80.\n",
    "HTTP request sent, awaiting response... 200 OK\n",
    "Length: unspecified [text/html]\n",
    "Saving to: ‘gc3fstorage.uoregon.edu/HJTLYBBXX/994/index.html?C=N;O=A’\n",
    "\n",
    "gc3fstorage.uoregon.edu/HJTLYBBXX/994/index.html?C     [ <=>                                                                                                             ]   2.10K  --.-KB/s    in 0.06s   \n",
    "\n",
    "2017-04-04 20:51:01 (36.7 KB/s) - ‘gc3fstorage.uoregon.edu/HJTLYBBXX/994/index.html?C=N;O=A’ saved [2148]\n",
    "\n",
    "Removing gc3fstorage.uoregon.edu/HJTLYBBXX/994/index.html?C=N;O=A since it should be rejected.\n",
    "\n",
    "--2017-04-04 20:51:01--  http://gc3fstorage.uoregon.edu/HJTLYBBXX/994/?C=M;O=D\n",
    "Reusing existing connection to gc3fstorage.uoregon.edu:80.\n",
    "HTTP request sent, awaiting response... 200 OK\n",
    "Length: unspecified [text/html]\n",
    "Saving to: ‘gc3fstorage.uoregon.edu/HJTLYBBXX/994/index.html?C=M;O=D’\n",
    "\n",
    "gc3fstorage.uoregon.edu/HJTLYBBXX/994/index.html?C     [ <=>                                                                                                             ]   2.10K  --.-KB/s    in 0.001s  \n",
    "\n",
    "2017-04-04 20:51:01 (3.46 MB/s) - ‘gc3fstorage.uoregon.edu/HJTLYBBXX/994/index.html?C=M;O=D’ saved [2148]\n",
    "\n",
    "Removing gc3fstorage.uoregon.edu/HJTLYBBXX/994/index.html?C=M;O=D since it should be rejected.\n",
    "\n",
    "--2017-04-04 20:51:01--  http://gc3fstorage.uoregon.edu/HJTLYBBXX/994/?C=S;O=D\n",
    "Reusing existing connection to gc3fstorage.uoregon.edu:80.\n",
    "HTTP request sent, awaiting response... 200 OK\n",
    "Length: unspecified [text/html]\n",
    "Saving to: ‘gc3fstorage.uoregon.edu/HJTLYBBXX/994/index.html?C=S;O=D’\n",
    "\n",
    "gc3fstorage.uoregon.edu/HJTLYBBXX/994/index.html?C     [ <=>                                                                                                             ]   2.10K  --.-KB/s    in 0s      \n",
    "\n",
    "2017-04-04 20:51:02 (5.33 MB/s) - ‘gc3fstorage.uoregon.edu/HJTLYBBXX/994/index.html?C=S;O=D’ saved [2148]\n",
    "\n",
    "Removing gc3fstorage.uoregon.edu/HJTLYBBXX/994/index.html?C=S;O=D since it should be rejected.\n",
    "\n",
    "FINISHED --2017-04-04 20:51:02--\n",
    "Total wall clock time: 4h 44m 35s\n",
    "Downloaded: 8 files, 29G in 4h 44m 33s (1.75 MB/s)\n"
   ]
  },
  {
   "cell_type": "markdown",
   "metadata": {
    "collapsed": true
   },
   "source": [
    "\n",
    "So my Lane 4 process_radtags files were corrupted, and I want to know if the `wget` function on Oregon's webpage is working correctly. \n",
    "\n",
    "<br>\n",
    "\n",
    "**CHECKSUMS for `wget` download**:"
   ]
  },
  {
   "cell_type": "code",
   "execution_count": 2,
   "metadata": {
    "collapsed": false
   },
   "outputs": [
    {
     "name": "stdout",
     "output_type": "stream",
     "text": [
      "/media/mfisher5/New Volume\n"
     ]
    }
   ],
   "source": [
    "cd /media/mfisher5/New\\ Volume"
   ]
  },
  {
   "cell_type": "code",
   "execution_count": 3,
   "metadata": {
    "collapsed": false
   },
   "outputs": [
    {
     "name": "stdout",
     "output_type": "stream",
     "text": [
      "/media/mfisher5/New Volume/Mary/Raw Data\n"
     ]
    }
   ],
   "source": [
    "cd Mary/Raw\\ Data"
   ]
  },
  {
   "cell_type": "code",
   "execution_count": 4,
   "metadata": {
    "collapsed": false
   },
   "outputs": [
    {
     "name": "stdout",
     "output_type": "stream",
     "text": [
      "\u001b[0m\u001b[01;32m643_S1_L001_R1_001.fastq.gz\u001b[0m*       \u001b[01;32m994_S1_L001_R1_001.fastq.gz\u001b[0m*  \u001b[34;42mLane4\u001b[0m/\r\n",
      "\u001b[01;32m768_768_S99_L002_R1_001.fastq.gz\u001b[0m*  \u001b[34;42mgc3fstorage.uoregon.edu\u001b[0m/\r\n"
     ]
    }
   ],
   "source": [
    "ls"
   ]
  },
  {
   "cell_type": "code",
   "execution_count": 5,
   "metadata": {
    "collapsed": false,
    "scrolled": true
   },
   "outputs": [
    {
     "name": "stdout",
     "output_type": "stream",
     "text": [
      "^C\r\n"
     ]
    }
   ],
   "source": [
    "!md5sum 994_S1_L001_R1_001.fastq.gz"
   ]
  },
  {
   "cell_type": "markdown",
   "metadata": {},
   "source": [
    "`c4fc0d8ec92c595c4434728f25fa586c`"
   ]
  },
  {
   "cell_type": "code",
   "execution_count": 6,
   "metadata": {
    "collapsed": false
   },
   "outputs": [
    {
     "name": "stdout",
     "output_type": "stream",
     "text": [
      "/mnt/hgfs/Pacific cod/DataAnalysis\n"
     ]
    }
   ],
   "source": [
    "cd /mnt/hgfs/Pacific\\ cod/DataAnalysis"
   ]
  },
  {
   "cell_type": "code",
   "execution_count": 7,
   "metadata": {
    "collapsed": false
   },
   "outputs": [
    {
     "name": "stdout",
     "output_type": "stream",
     "text": [
      "/mnt/hgfs/Pacific cod/DataAnalysis/raw_data\n"
     ]
    }
   ],
   "source": [
    "cd raw_data"
   ]
  },
  {
   "cell_type": "code",
   "execution_count": null,
   "metadata": {
    "collapsed": true
   },
   "outputs": [],
   "source": [
    "!md5sum 994_S1_L001_R1_001.fastq.gz"
   ]
  },
  {
   "cell_type": "markdown",
   "metadata": {},
   "source": [
    "`c4fc0d8ec92c595c4434728f25fa586c`"
   ]
  },
  {
   "cell_type": "markdown",
   "metadata": {},
   "source": [
    "\n",
    "<br>\n",
    "**FLOWCELL AND LANE SUMMARY**\n",
    "<br>\n",
    "In the Flowcell Summary, my sample was in **Lane 1**\n",
    "\n",
    "<br>\n",
    "![flowcell lib 3](https://github.com/mfisher5/PCod-Korea-repo/blob/master/nb_pictures/flowcell_summary_Lib3.png?raw=true)"
   ]
  }
 ],
 "metadata": {
  "anaconda-cloud": {},
  "kernelspec": {
   "display_name": "Python [default]",
   "language": "python",
   "name": "python2"
  },
  "language_info": {
   "codemirror_mode": {
    "name": "ipython",
    "version": 2
   },
   "file_extension": ".py",
   "mimetype": "text/x-python",
   "name": "python",
   "nbconvert_exporter": "python",
   "pygments_lexer": "ipython2",
   "version": "2.7.12"
  }
 },
 "nbformat": 4,
 "nbformat_minor": 1
}
