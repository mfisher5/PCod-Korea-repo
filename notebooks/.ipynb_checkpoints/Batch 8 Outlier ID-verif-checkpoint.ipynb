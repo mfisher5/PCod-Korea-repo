{
 "cells": [
  {
   "cell_type": "markdown",
   "metadata": {},
   "source": [
    "## Identifying Outlier Loci\n",
    "\n",
    "### stacks batch 8\n",
    "<br>\n",
    "This notebook contains the follow outlier identifications:\n",
    "\n",
    "1. all samples\n",
    "2. southern samples\n",
    "3. east v. west samples\n",
    "4. south v. west samples \n",
    "\n",
    "Using the programs `OutFLANK` and `Bayescan`.\n",
    "<br>\n",
    "#### 10/5/2017\n",
    "\n",
    "### OutFLANK\n",
    "\n",
    "[Github](https://github.com/whitlock/OutFLANK/blob/master/R/OutFLANK.R) \n",
    "\n",
    "[PDF Manual](https://github.com/whitlock/OutFLANK/blob/master/OutFLANK%20readme.pdf)\n",
    "\n",
    "**OutFLANK output saved in an excel file in the `Results` folder.**\n",
    "\n",
    "**(1) Convert Genepop file to OutFLANK file format.** Luckily, OutFLANK has a nice R function for this. However, you still need to manipulate your Genepop file to a certain file format to put it into that R function. the following python script will take a genepop file and a population map, and output three of the inputs for the OutFLANK function `MakeDiploidFSTMat()`. This is: \n",
    "1. a file containing a matrix of individuals (rows) x loci (columns) without headings. Alleles are coded in a `0`,`1`, `2`, `9` format. \n",
    "2. a file where each locus name is on a new line, as a string. This can be read directly into R as a list\n",
    "3. a file where each sample's population name is on a new line (same order as matrix rows). This can also be read directly into R as a list. "
   ]
  },
  {
   "cell_type": "code",
   "execution_count": 1,
   "metadata": {},
   "outputs": [
    {
     "data": {
      "text/plain": [
       "u'/mnt/hgfs/PCod-Korea-repo/notebooks'"
      ]
     },
     "execution_count": 1,
     "metadata": {},
     "output_type": "execute_result"
    }
   ],
   "source": [
    "pwd"
   ]
  },
  {
   "cell_type": "code",
   "execution_count": 2,
   "metadata": {},
   "outputs": [
    {
     "name": "stdout",
     "output_type": "stream",
     "text": [
      "/mnt/hgfs/PCod-Korea-repo/analyses\n"
     ]
    }
   ],
   "source": [
    "cd ../analyses/"
   ]
  },
  {
   "cell_type": "code",
   "execution_count": 3,
   "metadata": {},
   "outputs": [
    {
     "name": "stdout",
     "output_type": "stream",
     "text": [
      "/mnt/hgfs/PCod-Korea-repo/analyses/Outliers\n"
     ]
    }
   ],
   "source": [
    "cd Outliers/"
   ]
  },
  {
   "cell_type": "code",
   "execution_count": 4,
   "metadata": {
    "scrolled": true
   },
   "outputs": [
    {
     "name": "stdout",
     "output_type": "stream",
     "text": [
      "usage: convert_genepop_to_SNPmat.py [-h] [-i INPUT] [-p POPMAP] [-o OUTPUT]\r\n",
      "                                    [-ol OUTLOCUSNAMES] [-op OUTPOPNAMES]\r\n",
      "\r\n",
      "produce SNPmat file, and files containing loci / population lists for OutFLANK\r\n",
      "outlier analysis.\r\n",
      "\r\n",
      "optional arguments:\r\n",
      "  -h, --help            show this help message and exit\r\n",
      "  -i INPUT, --input INPUT\r\n",
      "                        genepop file that you want to run through OutFLANK\r\n",
      "  -p POPMAP, --popmap POPMAP\r\n",
      "                        population map from stacks (each line has sample - tab\r\n",
      "                        - population\r\n",
      "  -o OUTPUT, --output OUTPUT\r\n",
      "                        bash shell script file name. must have file extension\r\n",
      "                        .sh\r\n",
      "  -ol OUTLOCUSNAMES, --outLocusNames OUTLOCUSNAMES\r\n",
      "                        text file with the name of each locus on each line, to\r\n",
      "                        be read into R\r\n",
      "  -op OUTPOPNAMES, --outPopNames OUTPOPNAMES\r\n",
      "                        text file with the name of each sample's population on\r\n",
      "                        each line, to be read into R\r\n"
     ]
    }
   ],
   "source": [
    "!python convert_genepop_to_SNPmat.py -h"
   ]
  },
  {
   "cell_type": "code",
   "execution_count": 5,
   "metadata": {
    "collapsed": true
   },
   "outputs": [],
   "source": [
    "!mkdir batch8_verif"
   ]
  },
  {
   "cell_type": "code",
   "execution_count": 7,
   "metadata": {},
   "outputs": [
    {
     "name": "stdout",
     "output_type": "stream",
     "text": [
      "Korean Pacific cod filtered final genepop, stacks batch 8 MF 3/8/2018\n",
      "\n",
      "Done creating SNPmat file.\n"
     ]
    }
   ],
   "source": [
    "!python convert_genepop_to_SNPmat.py \\\n",
    "-i ../../stacks_b8_verif/batch_8_filteredMAF_filteredIndivids30_filteredLoci_filteredHWE_filteredCR_genepop.txt \\\n",
    "-p ../../scripts/PopMap_Final.txt \\\n",
    "-o batch8_verif/batch_8_verif_final_filtered_SNPmat.txt \\\n",
    "-ol batch8_verif/batch_8_verif_SNPmat_locusnames.txt \\\n",
    "-op batch8_verif/batch_8_verif_SNPmat_popnames.txt"
   ]
  },
  {
   "cell_type": "markdown",
   "metadata": {},
   "source": [
    "<br>\n",
    "**(2) Run OutFLANK and produce summary file containing outliers.** I used [this R script](https://github.com/mfisher5/PCod-Korea-repo/blob/master/analyses/R/OutFLANK_KorPCod_MF.R), which is well annotated. \n",
    "<br>"
   ]
  },
  {
   "cell_type": "code",
   "execution_count": 9,
   "metadata": {},
   "outputs": [
    {
     "name": "stdout",
     "output_type": "stream",
     "text": [
      "locus,he,fst,meanAlleleFreq,qvals,pv,outlier\r",
      "\r\n",
      "10203,0.485766058697014,0.196194621361391,0.415637860082305,0.0340042113406486,0.000148058975358412,1\r",
      "\r\n",
      "14546,0.322962912369374,0.255211285854974,0.202479338842975,0.00571792115238723,4.97932175824722e-06,1\r",
      "\r\n",
      "17767,0.151628987091046,0.244765201265605,0.0826446280991736,0.0073129286312226,9.55244668809918e-06,1\r",
      "\r\n",
      "18723,0.214082029915989,0.226528580463956,0.121900826446281,0.0122998210403379,2.67775494346978e-05,1\r",
      "\r\n",
      "1904,0.410707095464015,0.201381191671333,0.711297071129707,0.0319372424078581,0.000111247288503424,1\r",
      "\r\n",
      "19221,0.448101398785035,0.303346827157339,0.661087866108787,0.000762883692098093,3.32169967531826e-07,1\r",
      "\r\n",
      "2606,0.13062632333857,0.194841378644889,0.929752066115702,0.0340042113406486,0.000145082686416886,1\r",
      "\r\n",
      "2694,0.366455405691688,0.227479983525084,0.241596638655462,0.0122998210403379,2.50665753045443e-05,1\r",
      "\r\n",
      "3405,0.10140306122449,0.219157320390556,0.946428571428571,0.0143502744216365,3.74898315804728e-05,1\r",
      "\r\n"
     ]
    }
   ],
   "source": [
    "!head batch8_verif/allKOR_b8_verif_outflank_outliers.csv"
   ]
  },
  {
   "cell_type": "markdown",
   "metadata": {},
   "source": [
    "\n",
    "I only have **10 outlier loci**.\n"
   ]
  },
  {
   "cell_type": "markdown",
   "metadata": {},
   "source": [
    "#### \"Pop\" headers by region"
   ]
  },
  {
   "cell_type": "code",
   "execution_count": 8,
   "metadata": {},
   "outputs": [
    {
     "name": "stdout",
     "output_type": "stream",
     "text": [
      "Korean Pacific cod filtered final genepop, by region, stacks batch 8 verif MF 3/8/2018\n",
      "\n",
      "Done creating SNPmat file.\n"
     ]
    }
   ],
   "source": [
    "!python convert_genepop_to_SNPmat.py \\\n",
    "-i ../../stacks_b8_verif/batch_8_filteredMAF_filteredIndivids30_filteredLoci_filteredHWE_filteredCR_byregion.txt \\\n",
    "-p ../../scripts/PopMap_Final.txt \\\n",
    "-o batch8_verif/batch_8_verif_final_filtered_byreg_SNPmat.txt \\\n",
    "-ol batch8_verif/batch_8_verif_SNPmat_byreg_locusnames.txt \\\n",
    "-op batch8_verif/batch_8_verif_SNPmat_byreg_popnames.txt"
   ]
  },
  {
   "cell_type": "code",
   "execution_count": 10,
   "metadata": {},
   "outputs": [
    {
     "name": "stdout",
     "output_type": "stream",
     "text": [
      "locus,he,fst,meanAlleleFreq,qvals,pv,outlier\r",
      "\r\n",
      "10203,0.485766058697014,0.196194621361391,0.415637860082305,0.0340042113406486,0.000148058975358412,1\r",
      "\r\n",
      "14546,0.322962912369374,0.255211285854974,0.202479338842975,0.00571792115238723,4.97932175824722e-06,1\r",
      "\r\n",
      "17767,0.151628987091046,0.244765201265605,0.0826446280991736,0.0073129286312226,9.55244668809918e-06,1\r",
      "\r\n",
      "18723,0.214082029915989,0.226528580463956,0.121900826446281,0.0122998210403379,2.67775494346978e-05,1\r",
      "\r\n",
      "1904,0.410707095464015,0.201381191671333,0.711297071129707,0.0319372424078581,0.000111247288503424,1\r",
      "\r\n",
      "19221,0.448101398785035,0.303346827157339,0.661087866108787,0.000762883692098093,3.32169967531826e-07,1\r",
      "\r\n",
      "2606,0.13062632333857,0.194841378644889,0.929752066115702,0.0340042113406486,0.000145082686416886,1\r",
      "\r\n",
      "2694,0.366455405691688,0.227479983525084,0.241596638655462,0.0122998210403379,2.50665753045443e-05,1\r",
      "\r\n",
      "3405,0.10140306122449,0.219157320390556,0.946428571428571,0.0143502744216365,3.74898315804728e-05,1\r",
      "\r\n"
     ]
    }
   ],
   "source": [
    "!head batch8_verif/allKOR_b8_verif_outflank_outliers_byregion.csv"
   ]
  },
  {
   "cell_type": "markdown",
   "metadata": {},
   "source": [
    "I have the same **10 outliers**.\n",
    "<br>"
   ]
  },
  {
   "cell_type": "markdown",
   "metadata": {},
   "source": [
    "** Southern Populations Only**"
   ]
  },
  {
   "cell_type": "code",
   "execution_count": 1,
   "metadata": {},
   "outputs": [
    {
     "data": {
      "text/plain": [
       "u'/mnt/hgfs/Pacific cod/DataAnalysis/PCod-Korea-repo/notebooks'"
      ]
     },
     "execution_count": 1,
     "metadata": {},
     "output_type": "execute_result"
    }
   ],
   "source": [
    "pwd"
   ]
  },
  {
   "cell_type": "code",
   "execution_count": 2,
   "metadata": {},
   "outputs": [
    {
     "name": "stdout",
     "output_type": "stream",
     "text": [
      "/mnt/hgfs/Pacific cod/DataAnalysis/PCod-Korea-repo/analyses/Outliers\n"
     ]
    }
   ],
   "source": [
    "cd ../analyses/Outliers/"
   ]
  },
  {
   "cell_type": "code",
   "execution_count": 6,
   "metadata": {},
   "outputs": [
    {
     "name": "stdout",
     "output_type": "stream",
     "text": [
      "##Korean Pacific cod filtered final genepop, stacks batch 8 MF 9/29/2017\n",
      "\n",
      "Done creating SNPmat file.\n"
     ]
    }
   ],
   "source": [
    "!python convert_genepop_to_SNPmat.py \\\n",
    "-i ../batch_8_filteredMAF_filteredIndivids30_filteredLoci_filteredHWE_filteredRepsC_south.gen \\\n",
    "-p ../../scripts/PopMap_L1-5_mdFilter_b8.txt \\\n",
    "-o batch_8_final_filtered_south_SNPmat.txt \\\n",
    "-ol batch_8_SNPmat_south_locusnames.txt \\\n",
    "-op batch_8_SNPmat_south_popnames.txt"
   ]
  },
  {
   "cell_type": "markdown",
   "metadata": {},
   "source": [
    "I got **50 outlier loci**\n",
    "\n",
    "<br>\n"
   ]
  },
  {
   "cell_type": "markdown",
   "metadata": {},
   "source": [
    "** East v. West **"
   ]
  },
  {
   "cell_type": "code",
   "execution_count": 27,
   "metadata": {},
   "outputs": [
    {
     "name": "stdout",
     "output_type": "stream",
     "text": [
      "##Korean Pacific cod filtered final genepop, stacks batch 8 MF 9/29/2017\n",
      "\n",
      "Done creating SNPmat file.\n"
     ]
    }
   ],
   "source": [
    "!python convert_genepop_to_SNPmat.py \\\n",
    "-i ../batch_8_filteredMAF_filteredIndivids30_filteredLoci_filteredHWE_filteredRepsC_eastwest.txt \\\n",
    "-p ../../scripts/PopMap_L1-5_mdFilter_b8.txt \\\n",
    "-o batch_8_final_filtered_EW_SNPmat.txt \\\n",
    "-ol batch_8_SNPmat_EW_locusnames.txt \\\n",
    "-op batch_8_SNPmat_EW_popnames.txt"
   ]
  },
  {
   "cell_type": "markdown",
   "metadata": {},
   "source": [
    "There are **no outliers??** between eastern and western populations. \n",
    "\n",
    "This is likely because the neutral FST is so large between the two; OutFLANK only uses FST to detect outliers, so it's much harder to find outliers if FST is elevated (theoretically)\n",
    "<br>\n",
    "<br>\n"
   ]
  },
  {
   "cell_type": "markdown",
   "metadata": {},
   "source": [
    "** South v. West **"
   ]
  },
  {
   "cell_type": "code",
   "execution_count": 28,
   "metadata": {},
   "outputs": [
    {
     "name": "stdout",
     "output_type": "stream",
     "text": [
      "##Korean Pacific cod filtered final genepop, stacks batch 8 MF 9/29/2017\n",
      "\n",
      "Done creating SNPmat file.\n"
     ]
    }
   ],
   "source": [
    "!python convert_genepop_to_SNPmat.py \\\n",
    "-i ../batch_8_filteredMAF_filteredIndivids30_filteredLoci_filteredHWE_filteredRepsC_southwest.txt \\\n",
    "-p ../../scripts/PopMap_L1-5_mdFilter_b8.txt \\\n",
    "-o batch_8_final_filtered_SW_SNPmat.txt \\\n",
    "-ol batch_8_SNPmat_SW_locusnames.txt \\\n",
    "-op batch_8_SNPmat_SW_popnames.txt"
   ]
  },
  {
   "cell_type": "markdown",
   "metadata": {},
   "source": [
    "Also **no outliers.** Looks like I may not use this program for my data. "
   ]
  },
  {
   "cell_type": "markdown",
   "metadata": {},
   "source": [
    "\n",
    "<br>\n",
    "\n",
    "<br>\n",
    "<br>\n",
    "#### 3/8/2018\n",
    "<br>\n",
    "### Bayescan\n",
    "<br>\n",
    "\n",
    "[Download](http://cmpg.unibe.ch/software/BayeScan/download.html) includes executable scripts and PDF manual. \n",
    "\n",
    "\n",
    "**(1) [Download](http://www.cmpg.unibe.ch/software/PGDSpider/) PGDSpider.** Bayescan uses its own type of input file. They suggest using PGD spider to convert genepop files into this file format\n",
    "\n",
    "**(2) Convert genepop to Bayescan format.** In For SNP data, this can either be a \"codominant\" file format or a \"SNP genotype matrix\" (per Bayescan's user manual). They suggest that if you are not directly interested in Fis, you use SNPs as regular codominant data. In PGDspider, this is just a matter of choosing the file format and file names for the input and ouput files, and then selecting \"SNP\" in two short questions for the SPID file. *Note that using an old SPID file here caused an error; I had to create a new one*\n",
    "\n",
    "**(3) Run Bayescan using the Windows GUI.** looks like this:\n",
    " ![img-bayescan](https://github.com/mfisher5/PCod-Korea-repo/blob/master/nb_pictures/bayescan_gui_verif.png?raw=true)\n",
    " \n",
    "I used the following parameters:\n",
    " ![img-bayescan-options](https://github.com/mfisher5/PCod-Korea-repo/blob/master/nb_pictures/bayescan_gui_verif_params_p10.png?raw=true)\n",
    " \n",
    " \n",
    " Note that I have changed the default \"sample size\" to 20K. This is because in the PCod paper Gruenthal et al. (in review), they reported using 20,000 iterations. according to the Bayescan manual, the \"Number of outputted iterations, default 5000\" appears to be \"sample size\" in the gui and \"-n\" on the command line. \n",
    " <br>\n",
    " **RUN 1:** prior odds of 10\n",
    " <br>\n",
    " **RUN 2:** prior odds of 100 (Eleni's computer)\n",
    " <br>\n",
    " **RUN 3:** prior odds of 1,000\n",
    " <br>\n",
    " **RUN 4**: prior odds of 10,000\n",
    " \n",
    " <br>\n",
    " \n",
    " ___________________________________\n",
    " #### 10/6/2017\n",
    " \n",
    " So it took about 16 hrs: \n",
    " ![img-bayescan-done]()\n",
    " \n",
    "<br>\n",
    "\n",
    "**(4) Interpreting Bayescan Output.** This can be done in R. It requires sourcing a [Bayescan R script](https://github.com/mfisher5/PCod-Korea-repo/blob/master/analyses/R/BAYESCAN_plot_R.r). I also wrote an [R script](https://github.com/mfisher5/PCod-Korea-repo/blob/master/analyses/R/Bayescan_KorPCod_MF.R) that can be run to (a) write out outlier loci, (b) call the bayescan plot function and (c) produce plots of the posterior distribution for a variety of parameters. I just copied and pasted the results from (a) into a text file.\n",
    "\n",
    "Since PGDspider renamed all of my loci, I also need to take the output from Bayescan and correlate it to my stacks locus IDs. I have 5,804 loci, and PGDspyder number the loci from 1 through 5,804. So I'm assuming that this was done in the order that my loci were listed in the genepop file. The code below will do that for the following text file format:"
   ]
  },
  {
   "cell_type": "code",
   "execution_count": 9,
   "metadata": {},
   "outputs": [
    {
     "data": {
      "text/plain": [
       "u'/mnt/hgfs/Pacific cod/DataAnalysis/PCod-Korea-repo/analyses/Outliers'"
      ]
     },
     "execution_count": 9,
     "metadata": {},
     "output_type": "execute_result"
    }
   ],
   "source": [
    "pwd"
   ]
  },
  {
   "cell_type": "code",
   "execution_count": 10,
   "metadata": {
    "scrolled": true
   },
   "outputs": [
    {
     "name": "stdout",
     "output_type": "stream",
     "text": [
      "### BAYESCAN outliers -- note that locus IDs were assigned by PGD spyder, and don't correspond to actual Locus IDS in genepop file ###\r",
      "\r\n",
      "$outliers\r",
      "\r\n",
      " [1]   31   55   88  193  336  350  393  406  469  550  620  673  697 1007 1044 1061\r",
      "\r\n",
      "[17] 1120 1142 1296 1305 1343 1356 1382 1437 1452 1572 1582 1682 1799 1840 1855 2005\r",
      "\r\n",
      "[33] 2079 2113 2147 2188 2195 2251 2282 2340 2375 2498 2509 2516 2536 2607 2610 2757\r",
      "\r\n",
      "[49] 2817 2823 3004 3073 3084 3114 3235 3251 3309 3387 3478 3496 3502 3509 3516 3542\r",
      "\r\n",
      "[65] 3610 3614 3618 3653 3712 3743 3886 3969 4196 4306 4324 4326 4662 4668 4709 4734\r",
      "\r\n",
      "[81] 4974 5093 5110 5141 5165 5203 5240 5258 5268 5328 5343 5382\r",
      "\r\n",
      "\r",
      "\r\n",
      "$nb_outliers\r",
      "\r\n"
     ]
    }
   ],
   "source": [
    "!head batch_8_BAYESCAN_outliers.txt"
   ]
  },
  {
   "cell_type": "markdown",
   "metadata": {},
   "source": [
    "Python code available [here](https://github.com/mfisher5/PCod-Korea-repo/blob/master/analyses/Outliers/bayescan_to_stacks_locus_IDs.py)"
   ]
  },
  {
   "cell_type": "code",
   "execution_count": 2,
   "metadata": {},
   "outputs": [
    {
     "name": "stdout",
     "output_type": "stream",
     "text": [
      "usage: bayescan_to_stacks_locus_IDs.py [-h] [-i INPUT] [-gen GENEPOP]\r\n",
      "                                       [-sep SEPARATOR] [-o OUTPUT]\r\n",
      "                                       [-head HEADER]\r\n",
      "\r\n",
      "Match bayescan outlier loci IDs to the actual stacks IDs (if PGD spider was\r\n",
      "used for file conversion).\r\n",
      "\r\n",
      "optional arguments:\r\n",
      "  -h, --help            show this help message and exit\r\n",
      "  -i INPUT, --input INPUT\r\n",
      "                        text file containing plot_bayescan() R consol output\r\n",
      "  -gen GENEPOP, --genepop GENEPOP\r\n",
      "                        the genepop file used in PGD spyder to create BAYESCAN\r\n",
      "                        input file\r\n",
      "  -sep SEPARATOR, --separator SEPARATOR\r\n",
      "                        are the loci in your genepop file separated by a\r\n",
      "                        'comma' or a 'newline'?\r\n",
      "  -o OUTPUT, --output OUTPUT\r\n",
      "                        output text file\r\n",
      "  -head HEADER, --header HEADER\r\n",
      "                        header for output text file. should start with #\r\n"
     ]
    }
   ],
   "source": [
    "!python bayescan_to_stacks_locus_IDs.py -h"
   ]
  },
  {
   "cell_type": "code",
   "execution_count": 23,
   "metadata": {},
   "outputs": [
    {
     "name": "stdout",
     "output_type": "stream",
     "text": [
      "reading BAYESCAN outliers..\r\n",
      "['31', '55', '88', '193', '336', '350', '393', '406', '469', '550', '620', '673', '697', '1007', '1044', '1061', '1120', '1142', '1296', '1305', '1343', '1356', '1382', '1437', '1452', '1572', '1582', '1682', '1799', '1840', '1855', '2005', '2079', '2113', '2147', '2188', '2195', '2251', '2282', '2340', '2375', '2498', '2509', '2516', '2536', '2607', '2610', '2757', '2817', '2823', '3004', '3073', '3084', '3114', '3235', '3251', '3309', '3387', '3478', '3496', '3502', '3509', '3516', '3542', '3610', '3614', '3618', '3653', '3712', '3743', '3886', '3969', '4196', '4306', '4324', '4326', '4662', '4668', '4709', '4734', '4974', '5093', '5110', '5141', '5165', '5203', '5240', '5258', '5268', '5328', '5343', '5382', '92']\r\n",
      "indexing stacks loci...\r\n",
      "writing to output...\r\n",
      "Done.\r\n"
     ]
    }
   ],
   "source": [
    "!python bayescan_to_stacks_locus_IDs.py \\\n",
    "-i batch_8_BAYESCAN_outliers.txt \\\n",
    "-gen ../../stacks_b8_wgenome/batch_8_filteredMAF_filteredIndivids30_filteredLoci_filteredHWE_filteredRepsC.txt \\\n",
    "-sep \"newline\" \\\n",
    "-o batch_8_BAYESCAN_outliers_stacksIDs.txt \\\n",
    "-head \"Batch 8 BAYESCAN outliers; all samples\""
   ]
  },
  {
   "cell_type": "markdown",
   "metadata": {},
   "source": [
    "<br>\n",
    "<br>\n",
    "** SOUTHERN POPULATIONS ONLY**\n",
    "\n",
    "Started running on 10/6/2017; estimated run time 6 hours. \n",
    "\n",
    "<br>\n",
    "<br>\n",
    "** SOUTHERN & EASTERN POPULATIONS ** -  11/1/2017\n",
    "\n",
    "GENEPOP file with only southern and eastern sampling sites (each sampling site its own population)"
   ]
  },
  {
   "cell_type": "code",
   "execution_count": 1,
   "metadata": {
    "scrolled": true
   },
   "outputs": [
    {
     "name": "stdout",
     "output_type": "stream",
     "text": [
      "/mnt/hgfs/PCod-Korea-repo/analyses/Outliers\n"
     ]
    }
   ],
   "source": [
    "cd ../analyses/Outliers/"
   ]
  },
  {
   "cell_type": "code",
   "execution_count": 3,
   "metadata": {},
   "outputs": [
    {
     "name": "stdout",
     "output_type": "stream",
     "text": [
      "reading BAYESCAN outliers..\r\n",
      "You have  15  outlier loci.\r\n",
      "indexing stacks loci...\r\n",
      "writing to output...\r\n",
      "Done.\r\n"
     ]
    }
   ],
   "source": [
    "!python bayescan_to_stacks_locus_IDs.py \\\n",
    "-i batch_8_southeast_BAYESCAN_outliers.txt \\\n",
    "-gen ../../stacks_b8_wgenome/batch_8_filteredMAF_filteredIndivids30_filteredLoci_filteredHWE_filteredRepsC.txt \\\n",
    "-sep \"newline\" \\\n",
    "-o batch_8_southeast_BAYESCAN_outliers_stacksIDs.txt \\\n",
    "-head \"Batch 8 BAYESCAN outliers; southern and eastern site samples\""
   ]
  },
  {
   "cell_type": "markdown",
   "metadata": {},
   "source": [
    "*Were all of these outliers found using all samples?*"
   ]
  },
  {
   "cell_type": "code",
   "execution_count": 9,
   "metadata": {},
   "outputs": [
    {
     "name": "stdout",
     "output_type": "stream",
     "text": [
      "Num. Outlier Loci using all samples:  93\n",
      "Num. Outlier Loci using southern & eastern samples:  15\n",
      "12  outlier loci identified between southern & eastern sites also showed up in analysis using all samples.\n",
      "Novel outlier loci in southern / eastern analysis: \n",
      "[['4202'], ['4359'], ['7277']]\n"
     ]
    }
   ],
   "source": [
    "infile = open(\"batch_8_southeast_BAYESCAN_outliers_stacksIDs.txt\", \"r\")\n",
    "southeast = []\n",
    "for line in infile:\n",
    "    if \"Batch\" not in line:\n",
    "        southeast.append(line.strip().split())\n",
    "infile.close()\n",
    "\n",
    "infile2 = open(\"batch_8_BAYESCAN_outliers_stacksIDs.txt\", \"r\")\n",
    "all_pops = []\n",
    "for line in infile2:\n",
    "    if \"Batch\" not in line:\n",
    "        all_pops.append(line.strip().split())\n",
    "infile2.close()\n",
    "\n",
    "print \"Num. Outlier Loci using all samples: \", len(all_pops)\n",
    "print \"Num. Outlier Loci using southern & eastern samples: \", len(southeast)\n",
    "print len([i for i in southeast if i in all_pops]), \" outlier loci identified between southern & eastern sites also showed up in analysis using all samples.\"\n",
    "print \"Novel outlier loci in southern / eastern analysis: \"\n",
    "print [i for i in southeast if i not in all_pops]"
   ]
  },
  {
   "cell_type": "code",
   "execution_count": null,
   "metadata": {
    "collapsed": true
   },
   "outputs": [],
   "source": []
  },
  {
   "cell_type": "markdown",
   "metadata": {},
   "source": [
    "<br>\n",
    "<br>\n",
    "<br>\n",
    "\n",
    "### OutFLANK v. Bayescan\n",
    "\n",
    "** ALL POPULATIONS**"
   ]
  },
  {
   "cell_type": "code",
   "execution_count": 30,
   "metadata": {},
   "outputs": [
    {
     "name": "stdout",
     "output_type": "stream",
     "text": [
      "['10203', '14316', '14546', '17767', '18723', '1904', '19221', '2606', '2694', '2705', '3699']\n"
     ]
    }
   ],
   "source": [
    "## parse out outflank outlier locus IDs\n",
    "outflank = open(\"allKOR_b8_outflank_outliers.txt\", \"r\")\n",
    "outflank.readline()\n",
    "\n",
    "outflank_loci = []\n",
    "\n",
    "for line in outflank:\n",
    "    outflank_loci.append(line.strip().split(\",\")[1])\n",
    "outflank.close()\n",
    "\n",
    "## parse out bayescan outlier locus IDs\n",
    "bay = open(\"batch_8_BAYESCAN_outliers_stacksIDs.txt\", \"r\")\n",
    "bay.readline()\n",
    "\n",
    "bayescan_loci = []\n",
    "for line in bay:\n",
    "    bayescan_loci.append(line.strip())\n",
    "bay.close()\n",
    "\n",
    "## Identify matching loci\n",
    "print [i for i in outflank_loci if i in bayescan_loci]"
   ]
  },
  {
   "cell_type": "markdown",
   "metadata": {},
   "source": [
    "*note that all outlier loci identified in outflank were found in Bayescan.*"
   ]
  },
  {
   "cell_type": "code",
   "execution_count": null,
   "metadata": {
    "collapsed": true
   },
   "outputs": [],
   "source": []
  }
 ],
 "metadata": {
  "anaconda-cloud": {},
  "kernelspec": {
   "display_name": "Python 2",
   "language": "python",
   "name": "python2"
  },
  "language_info": {
   "codemirror_mode": {
    "name": "ipython",
    "version": 2
   },
   "file_extension": ".py",
   "mimetype": "text/x-python",
   "name": "python",
   "nbconvert_exporter": "python",
   "pygments_lexer": "ipython2",
   "version": "2.7.13"
  }
 },
 "nbformat": 4,
 "nbformat_minor": 1
}
