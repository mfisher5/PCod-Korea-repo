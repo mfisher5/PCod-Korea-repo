{
 "cells": [
  {
   "cell_type": "markdown",
   "metadata": {},
   "source": [
    "## Exploring Outlier Locus 2492\n",
    "\n",
    "\n",
    "This locus shows up as an outlier in the southern populations. Prior analyses include: OutFLANK (all south), OutFLANK (Geoje 2014 v. 2015), Bayescan prior 100 (all south), Bayescan prior 1000 (all south). \n",
    "\n",
    "The outlier aligns to a gene in the Atlantic cod genome, which is marked as similar to PRKAB1. This is a protein coding gene for an energy-sensing enzyme that is activated by cellular metabolic stress (according to GeneCards). \n",
    "\n",
    "<br>\n",
    "I want to run further analyses to see if this locus is significantly differentiated from the other southern populations in Geoje 2015 or Geoje 2014. \n",
    "\n",
    "1. Bayescan p100 (all south EXCEPT Geoje 2014)\n",
    "2. Bayescan p100 (all south EXCEPT Geoje 2015)\n",
    "3. OutFLANK (all south EXCEPT Geoje 2014)\n",
    "4. OutFLANK (all south EXCEPT Geoje 2015)\n",
    "\n",
    "\n",
    "\n",
    "<br>\n",
    "<br>\n",
    "\n",
    "### OutFLANK: all south except Geoje 2014; Geoje 2015\n",
    "\n",
    "\n",
    "\n",
    "\n",
    "**(1) Convert Genepop file to OutFLANK file format.** "
   ]
  },
  {
   "cell_type": "code",
   "execution_count": 1,
   "metadata": {},
   "outputs": [
    {
     "data": {
      "text/plain": [
       "u'/mnt/hgfs/PCod-Korea-repo/notebooks'"
      ]
     },
     "execution_count": 1,
     "metadata": {},
     "output_type": "execute_result"
    }
   ],
   "source": [
    "pwd"
   ]
  },
  {
   "cell_type": "code",
   "execution_count": 4,
   "metadata": {},
   "outputs": [
    {
     "name": "stdout",
     "output_type": "stream",
     "text": [
      "/mnt/hgfs/PCod-Korea-repo/analyses/Outliers\n"
     ]
    }
   ],
   "source": [
    "cd ../analyses/Outliers"
   ]
  },
  {
   "cell_type": "code",
   "execution_count": 5,
   "metadata": {},
   "outputs": [
    {
     "name": "stdout",
     "output_type": "stream",
     "text": [
      "usage: convert_genepop_to_SNPmat.py [-h] [-i INPUT] [-p POPMAP] [-o OUTPUT]\r\n",
      "                                    [-ol OUTLOCUSNAMES] [-op OUTPOPNAMES]\r\n",
      "\r\n",
      "produce SNPmat file, and files containing loci / population lists for OutFLANK\r\n",
      "outlier analysis.\r\n",
      "\r\n",
      "optional arguments:\r\n",
      "  -h, --help            show this help message and exit\r\n",
      "  -i INPUT, --input INPUT\r\n",
      "                        genepop file that you want to run through OutFLANK\r\n",
      "  -p POPMAP, --popmap POPMAP\r\n",
      "                        population map from stacks (each line has sample - tab\r\n",
      "                        - population\r\n",
      "  -o OUTPUT, --output OUTPUT\r\n",
      "                        bash shell script file name. must have file extension\r\n",
      "                        .sh\r\n",
      "  -ol OUTLOCUSNAMES, --outLocusNames OUTLOCUSNAMES\r\n",
      "                        text file with the name of each locus on each line, to\r\n",
      "                        be read into R\r\n",
      "  -op OUTPOPNAMES, --outPopNames OUTPOPNAMES\r\n",
      "                        text file with the name of each sample's population on\r\n",
      "                        each line, to be read into R\r\n"
     ]
    }
   ],
   "source": [
    "!python convert_genepop_to_SNPmat.py -h"
   ]
  },
  {
   "cell_type": "code",
   "execution_count": 6,
   "metadata": {},
   "outputs": [
    {
     "name": "stdout",
     "output_type": "stream",
     "text": [
      "Korean Pacific cod filtered final genepop, stacks batch 8 MF 3/8/2018\n",
      "\n",
      "Done creating SNPmat file.\n"
     ]
    }
   ],
   "source": [
    "!python convert_genepop_to_SNPmat.py \\\n",
    "-i batch8_verif/batch_8_filteredMAF_filteredIndivids30_filteredLoci_filteredHWE_filteredCR_south_no2014.txt \\\n",
    "-p ../../scripts/PopMap_Final.txt \\\n",
    "-o batch8_verif/batch_8_verif_south_no2014_SNPmat.txt \\\n",
    "-ol batch8_verif/batch_8_verif_south_no2014_SNPmat_locusnames.txt \\\n",
    "-op batch8_verif/batch_8_verif_south_no2014_SNPmat_popnames.txt"
   ]
  },
  {
   "cell_type": "code",
   "execution_count": 7,
   "metadata": {},
   "outputs": [
    {
     "name": "stdout",
     "output_type": "stream",
     "text": [
      "Korean Pacific cod filtered final genepop, all southern sites except GE2015, stacks batch 8 MF 3/8/2018\n",
      "\n",
      "Done creating SNPmat file.\n"
     ]
    }
   ],
   "source": [
    "!python convert_genepop_to_SNPmat.py \\\n",
    "-i batch8_verif/batch_8_filteredMAF_filteredIndivids30_filteredLoci_filteredHWE_filteredCR_south_noGE15.txt \\\n",
    "-p ../../scripts/PopMap_Final.txt \\\n",
    "-o batch8_verif/batch_8_verif_south_noGE15_SNPmat.txt \\\n",
    "-ol batch8_verif/batch_8_verif_south_noGE15_SNPmat_locusnames.txt \\\n",
    "-op batch8_verif/batch_8_verif_south_noGE15_SNPmat_popnames.txt"
   ]
  },
  {
   "cell_type": "markdown",
   "metadata": {},
   "source": [
    "<br>\n",
    "**(2) Run OutFLANK and produce summary file containing outliers.** I used [this R script](https://github.com/mfisher5/PCod-Korea-repo/blob/master/analyses/R/OutFLANK_KorPCod_MF.R), which is well annotated. \n",
    "<br>\n",
    "\n",
    "\n",
    "Without **Geoje 2014**, there were 27 outliers, **including 24927**. \n",
    "<br>\n",
    "Without **Geoje 2015**, there were 37 outliers, **not including 24927**."
   ]
  },
  {
   "cell_type": "markdown",
   "metadata": {},
   "source": [
    "\n",
    "<br>\n",
    "<br>\n",
    "<br>\n",
    "### Bayescan\n",
    "\n",
    "#### 3/8/2018\n",
    "<br>\n",
    "### Bayescan\n",
    "<br>\n",
    "\n",
    "**(1) Convert genepop to Bayescan format with [PGDspider](http://www.cmpg.unibe.ch/software/PGDSpider/).** In For SNP data, this can either be a \"codominant\" file format or a \"SNP genotype matrix\" (per Bayescan's user manual). They suggest that if you are not directly interested in Fis, you use SNPs as regular codominant data. In PGDspider, this is just a matter of choosing the file format and file names for the input and ouput files, and then selecting \"SNP\" in two short questions for the SPID file.\n",
    "\n",
    "**(3) Run Bayescan using the Windows GUI.** \n",
    " \n",
    "I used the following parameters  ** except with a prior of 100 **:\n",
    " ![img-bayescan-options](https://github.com/mfisher5/PCod-Korea-repo/blob/master/nb_pictures/bayescan_gui_verif_params_p10.png?raw=true)\n",
    " "
   ]
  },
  {
   "cell_type": "code",
   "execution_count": null,
   "metadata": {
    "collapsed": true
   },
   "outputs": [],
   "source": []
  }
 ],
 "metadata": {
  "kernelspec": {
   "display_name": "Python 2",
   "language": "python",
   "name": "python2"
  },
  "language_info": {
   "codemirror_mode": {
    "name": "ipython",
    "version": 2
   },
   "file_extension": ".py",
   "mimetype": "text/x-python",
   "name": "python",
   "nbconvert_exporter": "python",
   "pygments_lexer": "ipython2",
   "version": "2.7.13"
  }
 },
 "nbformat": 4,
 "nbformat_minor": 2
}
