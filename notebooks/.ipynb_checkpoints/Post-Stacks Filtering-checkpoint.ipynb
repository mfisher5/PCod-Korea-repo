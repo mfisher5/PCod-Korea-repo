{
 "cells": [
  {
   "cell_type": "markdown",
   "metadata": {},
   "source": [
    "## Filtering Steps After Completing the `stacks` pipeline\n",
    "\n",
    "\n",
    "Our lab uses a combination of scripts created by Marine Brieuc, Dan Drinan, Charlie Waters and Eleni Petrou to conduct additional filtering on the `stacks` output files from `populations`. \n",
    "\n",
    "\n",
    "I created a shell script that will run through all of these filtering steps automatically. The scripts needed to do this are all in the folder [PostStacksFiltering](https://github.com/mfisher5/PCod-Korea-repo/tree/master/scripts/PostStacksFiltering) in my [Pcod-Korea-repo](https://github.com/mfisher5/PCod-Korea-repo). \n",
    "\n",
    "\n",
    "<br>\n",
    "**Running the bash shell script**\n",
    "\n",
    "(1) Start with filling in the [inputs file](https://github.com/mfisher5/PCod-Korea-repo/blob/master/scripts/PostStacksFiltering/Input_extraFilters.txt) for your data. this mostly involves writing down absolute or local path names. Be sure to maintain a tab (\"\\t\") between the end of your entry and the \"#\". \n",
    "\n",
    "\n",
    "(2) Then generate your shell script from the bash terminal: \n",
    "`python genBASH_finalfilters.py Input_extraFilters.txt`\n",
    "\n",
    "\n",
    "(3) Finally, run the shell from the terminal: \n",
    "`./BASH_finalfilters.sh`\n",
    "\n",
    "\n",
    "\n",
    "<br>\n",
    "<br>\n",
    "** What is happening when you run the script? **\n",
    "\n",
    "This flowchart describes what the shell script does, including a description of the additional scripts required for each step: \n",
    "\n",
    "\n",
    "<br>\n",
    "![flowchart part1](https://github.com/mfisher5/PCod-Korea-repo/blob/master/nb_pictures/flowchart_1.png?raw=true)\n",
    "\n",
    "![flowchart part2](https://github.com/mfisher5/PCod-Korea-repo/blob/master/nb_pictures/flowchart_2.png?raw=true)"
   ]
  },
  {
   "cell_type": "markdown",
   "metadata": {},
   "source": []
  },
  {
   "cell_type": "code",
   "execution_count": null,
   "metadata": {
    "collapsed": true
   },
   "outputs": [],
   "source": []
  }
 ],
 "metadata": {
  "anaconda-cloud": {},
  "kernelspec": {
   "display_name": "Python [default]",
   "language": "python",
   "name": "python2"
  },
  "language_info": {
   "codemirror_mode": {
    "name": "ipython",
    "version": 2
   },
   "file_extension": ".py",
   "mimetype": "text/x-python",
   "name": "python",
   "nbconvert_exporter": "python",
   "pygments_lexer": "ipython2",
   "version": "2.7.12"
  }
 },
 "nbformat": 4,
 "nbformat_minor": 1
}
