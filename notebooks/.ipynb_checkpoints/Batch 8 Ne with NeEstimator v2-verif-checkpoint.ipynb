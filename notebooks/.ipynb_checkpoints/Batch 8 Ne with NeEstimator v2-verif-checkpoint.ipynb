{
 "cells": [
  {
   "cell_type": "markdown",
   "metadata": {},
   "source": [
    "## Effective population size and migration\n",
    "\n",
    "Batch 8 verif\n",
    "\n",
    "<br>\n",
    "<br>\n",
    "This notebook calculates effective population size. \n",
    "\n",
    "This notebook also scales up observed migration from the samples to census population size based on biomass data. (To be acquired)\n",
    "\n",
    "<br>\n",
    "This includes:\n",
    "\n",
    "1. Use of Ne Estimator v2.01 to calculate effective population size for each sampling site\n",
    "2. \n",
    "\n",
    "\n",
    "<br>\n",
    "<br>\n",
    "### About Ne Estimator\n",
    "\n",
    "I downloaded the [Ne estimator v2](http://onlinelibrary.wiley.com/doi/10.1111/1755-0998.12157/pdf) program from [here](http://www.molecularfisherieslaboratory.com.au/download-software/). Version 2 of the program can handle over 10,000 genetic markers, so is more suited to SNP data than v1.\n",
    "\n",
    "A bit about Ne Estimator, from the paper linked above: \n",
    "\n",
    "*[Ne Estimator v2] produces estimates of contemporary effective population size, using several different methods and a single input file...includes three single-sample estimators (updated versions of the linkage disequilibrium and heterozygote-excess methods, and a new method based on molecular coancestry), as well as the two-sample (moment-based temporal) method. New features include the following: (i) an improved method for accounting for missing data; (ii) options for screening out rare alleles; (iii) confidence intervals for all methods; (iv) the ability to analyse data sets with large numbers of genetic markers (10 000 or more); (v) options for batch processing large numbers of different data sets, which will facilitate cross-method comparisons using simulated data; and (vi) correction for temporal estimates when individuals sampled are not removed from the population (Plan I sampling). *\n",
    "<br>\n",
    "<br>\n",
    "** NOTE: I tried running the Java GUI, but it kept giving me an error about my input file** (even though when I used the \"INFO\" button the program appropriately determined # of loci, # of populations). I made sure that my input file matched their example input. So instead of using the GUI, I just used the command line executable (below).\n",
    "\n",
    "<br>\n",
    "<br>\n",
    "### Input Files: \n",
    "Ne Estimator takes Genepop files as input. It automatically detects the file format. I used the following genepop files:\n",
    "\n",
    "1. `batch_8_filteredMAF_filteredLoci_filteredIndivids_filteredHWE_filteredCR_genepop.txt` for individual sample sites (LD)\n",
    "\n",
    "2. `batch_8_filteredMAF_filteredLoci_filteredIndivids_filteredHWE_filteredCR_byregion.txt` for regions (didn't use these results; inappropriate to pool across years)\n",
    "\n",
    "3. `batch_8_filteredMAF_filteredLoci_filteredIndivids_filteredHWE_filteredCR_south_byyear_genepop.txt` for estimates across time in southern population, sites pooled by year (LD and temporal method)\n",
    "\n",
    "4. `batch_8_filteredMAF_filteredLoci_filteredIndivids_filteredHWE_filteredCR_west_genepop.txt` for estimates across time in western population (temporal method)\n",
    "\n",
    "\n",
    "<br>\n",
    "### Running Program:\n",
    "The program then asks: \n",
    "\n",
    "`Which method(s) to run?`\n",
    "<br>\n",
    "  `1 = Linkage Disequlibrium`\n",
    "  <br>\n",
    "  `2 = Heterozygote Excess`\n",
    "  <br>\n",
    " ` 4 = Molecular Coancestry`\n",
    " <br>\n",
    "  `8 = Temporal`\n",
    "  \n",
    "  --\n",
    " \n",
    "I chose `1 = Linkage Disequilibrium`, which runs using a random mating model, for individual sample sites. \n",
    "\n",
    "I chose `8 = Temporal` for pooled southern samples / western samples over time. See calculation of generation times below.\n",
    "\n",
    "--\n"
   ]
  },
  {
   "cell_type": "markdown",
   "metadata": {},
   "source": [
    "### Results: \n",
    "\n",
    "The results were output in a text file in the same folder as the executable, entitled:\n",
    "\n",
    "1. `batch_8_verif_bypop_Ne_LD.txt`\n",
    "2. `batch_8_verif_byreg_Ne_LD.txt`"
   ]
  },
  {
   "cell_type": "code",
   "execution_count": null,
   "metadata": {
    "collapsed": true
   },
   "outputs": [],
   "source": []
  }
 ],
 "metadata": {
  "kernelspec": {
   "display_name": "Python 2",
   "language": "python",
   "name": "python2"
  },
  "language_info": {
   "codemirror_mode": {
    "name": "ipython",
    "version": 2
   },
   "file_extension": ".py",
   "mimetype": "text/x-python",
   "name": "python",
   "nbconvert_exporter": "python",
   "pygments_lexer": "ipython2",
   "version": "2.7.13"
  }
 },
 "nbformat": 4,
 "nbformat_minor": 2
}
