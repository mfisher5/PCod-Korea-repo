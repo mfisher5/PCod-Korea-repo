{
 "cells": [
  {
   "cell_type": "markdown",
   "metadata": {},
   "source": [
    "## Stacks batch 7 - nb 1\n",
    "\n",
    "<br>\n",
    "\n",
    "**Batch 7** contains *all sequenced samples*, meaning samples from all lanes 1 through 5. This will be the first batch that includes samples from Lane 5. Lane 5 includes (1) 11 remaining samples unsequenced, (2) samples with slightly degraded DNA, and (3) reruns of samples that were possible contaminated during the library prep process. Samples that fit under the (2)nd definition have the name of that sample followed by `_c` to show that this is a sample created by combining two separate DNA extractions.  Samples that fit under the (3)rd definition have the name of that sample followed by `_2` to show that this is the second time the sample is being sequenced, but should be treated as a replacement for the first attempt, rather than a replicate. \n",
    "\n",
    "\n",
    "<br>\n",
    "\n",
    "This notebook includes: \n",
    "1. `process_radtags` for Lane 5\n",
    "2. `ustacks` for Lane 5\n",
    "3. `cstacks - populations` for Lanes 1 through 5\n",
    "\n",
    "\n",
    "<br>\n",
    "<br>\n",
    "\n",
    "#### 8/14/2017\n",
    "\n",
    "### process_radtags, Lane 5\n",
    "\n",
    "\n",
    "The barcode file for the lane took a while to put together, since some of these samples are potential replacements for other samples. In order to avoid writing over existing files, I named the replacements with an additional \"`_2`\". Since I am a little worried about the samples that I prepared by combining two different extractions, I marked these with a \"`_c`\".\n",
    "\n",
    "The process_radtags code used here is the same that was used on Lanes 2 and 3 (other single read lanes) in [this notebook](https://github.com/mfisher5/PCod-Korea-repo/blob/master/notebooks/batch_4/Stacks%20batch%204%20-%201.ipynb). "
   ]
  },
  {
   "cell_type": "code",
   "execution_count": null,
   "metadata": {
    "collapsed": true
   },
   "outputs": [],
   "source": [
    "#ran in terminal\n",
    "process_radtags -f /media/mfisher5/New\\ Volume/Mary/Raw\\ Data/1275_S13_L008_R1_001.fastq.gz \\\n",
    "-i gzfastq \\\n",
    "-y gzfastq \\\n",
    "-o samplesT142 \\\n",
    "-b scripts/barcodes_L5.txt \\\n",
    "-e sbfI \\\n",
    "-E phred33 \\\n",
    "-r -c -q -t 142 2>> samplesT142/process_radtags_outputL5.txt"
   ]
  },
  {
   "cell_type": "code",
   "execution_count": null,
   "metadata": {
    "collapsed": true
   },
   "outputs": [],
   "source": [
    "<br>\n",
    "<br>"
   ]
  }
 ],
 "metadata": {
  "anaconda-cloud": {},
  "kernelspec": {
   "display_name": "Python [default]",
   "language": "python",
   "name": "python2"
  },
  "language_info": {
   "codemirror_mode": {
    "name": "ipython",
    "version": 2
   },
   "file_extension": ".py",
   "mimetype": "text/x-python",
   "name": "python",
   "nbconvert_exporter": "python",
   "pygments_lexer": "ipython2",
   "version": "2.7.12"
  }
 },
 "nbformat": 4,
 "nbformat_minor": 1
}
