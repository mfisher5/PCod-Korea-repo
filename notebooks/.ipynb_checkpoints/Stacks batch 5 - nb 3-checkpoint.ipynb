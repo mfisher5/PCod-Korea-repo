{
 "cells": [
  {
   "cell_type": "markdown",
   "metadata": {},
   "source": [
    "## Stacks pipeline batch 5 - notebook 3\n",
    "\n",
    "This notebook contains post-stacks filtering steps"
   ]
  },
  {
   "cell_type": "code",
   "execution_count": 1,
   "metadata": {
    "collapsed": false
   },
   "outputs": [
    {
     "name": "stdout",
     "output_type": "stream",
     "text": [
      "/mnt/hgfs/Pacific cod/DataAnalysis/PCod-Korea-repo/scripts/PostStacksFiltering\n"
     ]
    }
   ],
   "source": [
    "cd ../scripts/PostStacksFiltering/"
   ]
  },
  {
   "cell_type": "markdown",
   "metadata": {},
   "source": [
    "\n",
    "<br>\n",
    "I modified my original bash shell script so that i can filter out individuals with too much missing data BEFORE the minor allele frequency filtering and the loci missing data filtering. This should help retain more loci. The modifications include: \n",
    "\n",
    "1. A stop point before MAF filtering that allows you to pause the script and generate a new .genepop file without the missing individuals. You then type in the name of the new filtered file. \n",
    "\n",
    "2. Edits to the add_sample_to_genepop.py script to take the filtered file name. \n",
    "\n",
    "3. Edits to the INPUT FILE and to the remaining scripts to work off of a new population map that includes only retained individuals. "
   ]
  },
  {
   "cell_type": "code",
   "execution_count": 2,
   "metadata": {
    "collapsed": false,
    "scrolled": true
   },
   "outputs": [
    {
     "name": "stdout",
     "output_type": "stream",
     "text": [
      "### THIS SCRIPT GENERATES THE BASH SHELL THAT WILL RUN ALL OF THE EXTRA FILTERING STEPS AFTER POPULATIONS ###\r\n",
      "\r\n",
      "## arguments: input file, pre-formatted\r\n",
      "##MF 2/12/2017\r\n",
      "\r\n",
      "## This was edited to allow you to filter individuals before you get to MAF and loci missing data filtering. \r\n",
      "## MF 6/26/2017\r\n",
      "\r\n",
      "###################################################################################################\r\n",
      "\r\n"
     ]
    }
   ],
   "source": [
    "!head genBASH_finalfilters_filterIndivids.py"
   ]
  },
  {
   "cell_type": "code",
   "execution_count": 21,
   "metadata": {
    "collapsed": false
   },
   "outputs": [],
   "source": [
    "!python genBASH_finalfilters_filterIndivids.py Input_extrafilters_b5_6-26.txt"
   ]
  },
  {
   "cell_type": "code",
   "execution_count": 22,
   "metadata": {
    "collapsed": false,
    "scrolled": false
   },
   "outputs": [
    {
     "name": "stdout",
     "output_type": "stream",
     "text": [
      "#!/bin/bash\r\n",
      "### This shell script will run all of the lab's extra filtering scripts after populations ###\r\n",
      "## M.Fisher 2/12/2017\r\n",
      "\r\n",
      "\r\n",
      "echo 'Before running running this script, please be sure that you have the following:'\r\n",
      "echo ''\r\n",
      "echo '1. A single folder containing (1) stacks populations output, and (2) batch catalog files'\r\n",
      "echo ''\r\n",
      "echo '2. All additional python scripts listed in the input text file.'\r\n",
      "echo ''\r\n",
      "echo '3. The INPUT text file, UPDATED FOR YOUR DATA'\r\n",
      "echo ''\r\n",
      "echo 'Are you ready for the script to run? (yes/no)'\r\n",
      "read ANSWER\r\n",
      "if [ $ANSWER == 'no' ]; then\r\n",
      "\texit 1\r\n",
      "fi\r\n",
      "\r\n",
      "\r\n"
     ]
    }
   ],
   "source": [
    "!head -n 20 PostStacksFiltering_b5_wgenome.sh"
   ]
  },
  {
   "cell_type": "code",
   "execution_count": 23,
   "metadata": {
    "collapsed": true
   },
   "outputs": [],
   "source": [
    "!chmod +x PostStacksFiltering_b5_wgenome.sh"
   ]
  },
  {
   "cell_type": "markdown",
   "metadata": {},
   "source": [
    "*This is an interactive script, so I ran it in the terminal...*"
   ]
  },
  {
   "cell_type": "markdown",
   "metadata": {},
   "source": [
    "*I filtered out individuals with > 0.40 missing data before moving on to MAF filtering. *\n",
    "\n",
    "<br>\n",
    "*Troubleshooting: had to run a \"pii\" script to troubleshoot the add_sample_to_genepop.py script because I wrote the stacksDIRECT into the argument and had it written in the script (wrote directory twice when trying to run). Should be fixed now. *\n",
    "\n",
    "<br>\n",
    "\n",
    "**Filtered genepop output: `batch_5.filteredMAF_filteredLoci`**\n",
    "\n",
    "<br>\n",
    "\n",
    "I then filtered out individuals that have > 0.20 missing data. \n",
    "\n",
    "<br>\n",
    "<br>\n",
    "\n",
    "**FINAL FILTERED GENEPOP: `batch_5.filteredMAF_filteredLoci_filteredIndivids.txt`**\n",
    "\n",
    "<br>\n",
    "<br>\n"
   ]
  },
  {
   "cell_type": "markdown",
   "metadata": {},
   "source": [
    "I am just now realizing that I made a catalog for this batch without checking to see if those catalog individuals could be contaminated. While I avoided individuals with abnormally high tag counts, I didn't cross-reference these with individuals that may have higher heterozygosity than normal... or those that the program ML relate identified as half / full sibs...\n",
    "\n",
    "<br>\n",
    "The individuals that were put in the cstacks catalog that are likely contaminated (based on batch 4):\n",
    "\n",
    "`GE012315_11.1`\n",
    "\n",
    "`GE011215_30.1`\n",
    "\n",
    "`NA021015_09.1`\n",
    "\n",
    "`NA021015_10.1`\n",
    "\n",
    "`NA021015_06.1`\n",
    "\n",
    "`PO010715_26`\n",
    "\n",
    "`JUK07_06.1`\n",
    "\n",
    "`BOR07_10.1`\n",
    "\n",
    "<br>\n",
    "\n",
    "**QUESTION:** Did these individuals have an unusual number of reads or tags, compared to the other individuals? They weren't in the group with a weirdly high number of tags, because I didn't include those on purpose... The contaminated individuals (those with high heterozygosity that showed up as half or full sibs) are in *population 11* below. \n",
    "\n",
    "![img](https://github.com/mfisher5/PCod-Korea-repo/blob/master/pipeline_analyses/nreads_b5_contaminated.png?raw=true)\n",
    "\n",
    "![img](https://github.com/mfisher5/PCod-Korea-repo/blob/master/pipeline_analyses/ntags_b5_contaminated.png?raw=true)\n",
    "\n",
    "<br>\n",
    "\n",
    "It doesn't appear so... looks like I'll have to re-start the batch from the beginning. But first I want to double check to make sure that these individuals are the only ones with high heterozygosities. \n",
    "\n",
    "<br>\n",
    "\n",
    "### Filter for HWE\n",
    "\n",
    "#### 6/26/2017"
   ]
  },
  {
   "cell_type": "code",
   "execution_count": 1,
   "metadata": {
    "collapsed": false
   },
   "outputs": [
    {
     "data": {
      "text/plain": [
       "u'/mnt/hgfs/Pacific cod/DataAnalysis/PCod-Korea-repo/notebooks'"
      ]
     },
     "execution_count": 1,
     "metadata": {},
     "output_type": "execute_result"
    }
   ],
   "source": [
    "pwd"
   ]
  },
  {
   "cell_type": "code",
   "execution_count": 2,
   "metadata": {
    "collapsed": false
   },
   "outputs": [
    {
     "name": "stdout",
     "output_type": "stream",
     "text": [
      "/mnt/hgfs/Pacific cod/DataAnalysis/PCod-Korea-repo/scripts\n"
     ]
    }
   ],
   "source": [
    "cd ../scripts"
   ]
  },
  {
   "cell_type": "code",
   "execution_count": 3,
   "metadata": {
    "collapsed": false,
    "scrolled": true
   },
   "outputs": [
    {
     "name": "stdout",
     "output_type": "stream",
     "text": [
      "/mnt/hgfs/Pacific cod/DataAnalysis/PCod-Korea-repo/scripts/PostStacksFiltering\n"
     ]
    }
   ],
   "source": [
    "cd PostStacksFiltering/"
   ]
  },
  {
   "cell_type": "code",
   "execution_count": 4,
   "metadata": {
    "collapsed": false
   },
   "outputs": [
    {
     "name": "stdout",
     "output_type": "stream",
     "text": [
      "/mnt/hgfs/Pacific cod/DataAnalysis/PCod-Korea-repo/scripts\n"
     ]
    }
   ],
   "source": [
    "cd ../"
   ]
  },
  {
   "cell_type": "markdown",
   "metadata": {},
   "source": [
    "#### Run genepop"
   ]
  },
  {
   "cell_type": "code",
   "execution_count": 5,
   "metadata": {
    "collapsed": true
   },
   "outputs": [],
   "source": [
    "!python genepop_conversion_forR_b4.py \\\n",
    "../stacks_b5_wgenome/batch_5.filteredMAF_filteredLoci_filteredIndivids.csv \\\n",
    "../stacks_b5_wgenome/batch_5.filteredMAF_filteredLoci_filteredIndivids.gen"
   ]
  },
  {
   "cell_type": "markdown",
   "metadata": {},
   "source": [
    "On the genepop file `batch_4_wgenome/batch_4.filteredMAF_filteredLoci_filteredIndivids.txt`\n",
    "\n",
    "\n",
    "Use the options: 1... Hardy-Weinberg exact tests >> 3...test for each locus in each population, Probability test\n"
   ]
  },
  {
   "cell_type": "code",
   "execution_count": 6,
   "metadata": {
    "collapsed": false,
    "scrolled": true
   },
   "outputs": [
    {
     "name": "stdout",
     "output_type": "stream",
     "text": [
      "/mnt/hgfs/Pacific cod/DataAnalysis/PCod-Korea-repo/analyses\n"
     ]
    }
   ],
   "source": [
    "cd ../analyses"
   ]
  },
  {
   "cell_type": "markdown",
   "metadata": {},
   "source": [
    "#### Parse genepop output"
   ]
  },
  {
   "cell_type": "code",
   "execution_count": 8,
   "metadata": {
    "collapsed": false
   },
   "outputs": [
    {
     "name": "stdout",
     "output_type": "stream",
     "text": [
      "generating dictionaries of pvalues and fis values...\n",
      "writing output to files...\n",
      "done.\n"
     ]
    }
   ],
   "source": [
    "!python parse_genepop_HWEbylocus.py \\\n",
    "-p ../stacks_b5_wgenome/batch_5_filteredMAF_filteredLoci_filteredIndivids.txt.P \\\n",
    "-op batch_5_HWEpvals.txt \\\n",
    "-of batch_5_Fis.txt"
   ]
  },
  {
   "cell_type": "code",
   "execution_count": 9,
   "metadata": {
    "collapsed": true
   },
   "outputs": [],
   "source": [
    "from scipy.stats import chisqprob"
   ]
  },
  {
   "cell_type": "code",
   "execution_count": 10,
   "metadata": {
    "collapsed": true
   },
   "outputs": [],
   "source": [
    "import numpy as np"
   ]
  },
  {
   "cell_type": "markdown",
   "metadata": {},
   "source": [
    "#### Filter loci out of HWE"
   ]
  },
  {
   "cell_type": "code",
   "execution_count": 26,
   "metadata": {
    "collapsed": false
   },
   "outputs": [
    {
     "name": "stdout",
     "output_type": "stream",
     "text": [
      "/mnt/hgfs/Pacific cod/DataAnalysis/PCod-Korea-repo/analyses\n"
     ]
    }
   ],
   "source": [
    "cd ../analyses"
   ]
  },
  {
   "cell_type": "code",
   "execution_count": 27,
   "metadata": {
    "collapsed": false
   },
   "outputs": [
    {
     "name": "stdout",
     "output_type": "stream",
     "text": [
      "You have  669  loci out of HWE\n"
     ]
    }
   ],
   "source": [
    "## STEP ONE: conduct chisquare and determine loci out of HWE. \n",
    "## write results to a file and save a list of the loci out of HWE. \n",
    "\n",
    "infile = open(\"batch_5_HWEpvals.txt\", \"r\")\n",
    "outfile = open(\"batch_5_HWEchisquare.txt\", \"w\")\n",
    "\n",
    "outfile.write(\"locus\\tChiSquare\\tdf\\tpvalue\\n\")\n",
    "\n",
    "sig_count = 0\n",
    "loci_to_discard = []\n",
    "\n",
    "for line in infile:\n",
    "    if \"locus\" not in line:\n",
    "        linelist= line.strip().split()\n",
    "        outfile.write(linelist[0]) #write locus name to outfile\n",
    "        sum = 0 #sum of ln(pvals)\n",
    "        n_pops = 0 # number of pops with pvals (some will have NAs)\n",
    "        for i in range(1,8):\n",
    "            if linelist[i] != \"NA\" and float(linelist[i]) == 0.0:\n",
    "                newval = np.log(float(0.00000000001))\n",
    "                sum += newval\n",
    "                n_pops += 1\n",
    "            elif linelist[i] != \"NA\" and float(linelist[i]) != 0.0:\n",
    "                newval = np.log(float(linelist[i]))\n",
    "                sum += newval\n",
    "                n_pops += 1\n",
    "        chisquare = float(-2) * float(sum)\n",
    "        df = n_pops * 2\n",
    "        outfile.write(\"\\t\" + str(chisquare) + \"\\t\" + str(df))\n",
    "        pvalue = chisqprob(chisquare,df)\n",
    "        if pvalue < 0.05:\n",
    "            sig_count += 1\n",
    "            loci_to_discard.append(linelist[0])\n",
    "        outfile.write(\"\\t\" + str(pvalue) + \"\\n\")\n",
    "infile.close()\n",
    "outfile.close()\n",
    "\n",
    "print \"You have \", sig_count, \" loci out of HWE\""
   ]
  },
  {
   "cell_type": "code",
   "execution_count": 28,
   "metadata": {
    "collapsed": false
   },
   "outputs": [
    {
     "name": "stdout",
     "output_type": "stream",
     "text": [
      "6569  loci written to output file.\n"
     ]
    }
   ],
   "source": [
    "## STEP TWO: rewrite the file of HWEpvals by locus by population, \n",
    "## excluding those loci out of HWE. \n",
    "\n",
    "infile = open(\"batch_5_HWEpvals.txt\", \"r\")\n",
    "outfile = open(\"batch_5_HWEpvals_filtered.txt\", \"w\")\n",
    "\n",
    "locus_count = 0\n",
    "\n",
    "for line in infile:\n",
    "    if line.startswith(\"#\"):\n",
    "        outfile.write(\"parsed GENEPOP output, HWE p-values by locus by population FILTERED #\\n\")\n",
    "    elif line.startswith(\"locus\"):\n",
    "        outfile.write(line)\n",
    "    else:\n",
    "        locus = line.strip().split()[0]\n",
    "        if locus not in loci_to_discard:\n",
    "            outfile.write(line)\n",
    "            locus_count += 1\n",
    "infile.close()\n",
    "outfile.close()\n",
    "print locus_count, \" loci written to output file.\""
   ]
  },
  {
   "cell_type": "markdown",
   "metadata": {},
   "source": [
    "#### Create new genepop with filtered loci"
   ]
  },
  {
   "cell_type": "code",
   "execution_count": 32,
   "metadata": {
    "collapsed": false
   },
   "outputs": [],
   "source": [
    "## STEP ONE: create a list of the loci to keep \n",
    "infile = open(\"batch_5_HWEpvals_filtered.txt\", \"r\")\n",
    "\n",
    "filtered_loci = []\n",
    "\n",
    "for line in infile:\n",
    "    if \"locus\" not in line:\n",
    "        filtered_loci.append(line.strip().split()[0])\n",
    "\n",
    "infile.close()\n",
    "\n",
    "## STEP TWO: write out the genotypes for the loci to keep to a new genepop\n",
    "## STEP THREE: write out the genotypes for loci out of HWE to different file\n",
    "old_genepop = open(\"../stacks_b5_wgenome/batch_5.filteredMAF_filteredLoci_filteredIndivids.csv\", \"r\")\n",
    "new_genepop = open(\"../stacks_b5_wgenome/batch_5.filteredMAF_filteredLoci_filteredIndivids_filteredHWE.txt\", \"w\")\n",
    "bad_genepop = open(\"../stacks_b5_wgenome/batch_5.filteredMAF_filteredLoci_filteredIndivids_BADhwe.txt\", \"w\")\n",
    "\n",
    "for line in old_genepop:\n",
    "    if line.startswith(\"sample\"):\n",
    "        new_genepop.write(line)\n",
    "        bad_genepop.write(line)\n",
    "    else: \n",
    "        locus_id = line.strip().split(\",\")[0]\n",
    "        if locus_id in filtered_loci:\n",
    "            new_genepop.write(line)\n",
    "        else:\n",
    "            bad_genepop.write(line)\n",
    "old_genepop.close()\n",
    "new_genepop.close()\n",
    "bad_genepop.close()"
   ]
  },
  {
   "cell_type": "code",
   "execution_count": 33,
   "metadata": {
    "collapsed": false
   },
   "outputs": [
    {
     "name": "stdout",
     "output_type": "stream",
     "text": [
      "There are  6569  loci in filtered list\n",
      "There are  6569  loci in your filtered genepop file\n",
      "6569  loci have not been filtered appropriately\n"
     ]
    }
   ],
   "source": [
    "## STEP FOUR: check to make sure only loci in HWE are now in genepop\n",
    "\n",
    "print \"There are \", len(filtered_loci), \" loci in filtered list\"\n",
    "\n",
    "count = 0\n",
    "good_filter = []\n",
    "bad_filter = []\n",
    "genepop = open(\"../stacks_b5_wgenome/batch_5.filteredMAF_filteredLoci_filteredIndivids_filteredHWE.txt\", \"r\")\n",
    "for line in genepop:\n",
    "    if \"sample\" not in line:\n",
    "        locus_id = line.strip().split()[0]\n",
    "        count += 1\n",
    "        if locus_id in filtered_loci:\n",
    "            good_filter.append(locus_id)\n",
    "        elif locus_id not in filtered_loci:\n",
    "            bad_filter.append(locus_id)\n",
    "genepop.close()\n",
    "\n",
    "print \"There are \", count, \" loci in your filtered genepop file\"\n",
    "print len(bad_filter), \" loci have not been filtered appropriately\"\n",
    "            "
   ]
  },
  {
   "cell_type": "markdown",
   "metadata": {},
   "source": [
    "#### Create Final Genepop File"
   ]
  },
  {
   "cell_type": "code",
   "execution_count": 34,
   "metadata": {
    "collapsed": false
   },
   "outputs": [
    {
     "name": "stdout",
     "output_type": "stream",
     "text": [
      "/mnt/hgfs/Pacific cod/DataAnalysis/PCod-Korea-repo/scripts\n"
     ]
    }
   ],
   "source": [
    "cd ../scripts"
   ]
  },
  {
   "cell_type": "code",
   "execution_count": 37,
   "metadata": {
    "collapsed": false
   },
   "outputs": [],
   "source": [
    "!python genepop_conversion_forR_fromTAB_b4.py \\\n",
    "../stacks_b5_wgenome/batch_5.filteredMAF_filteredLoci_filteredIndivids_filteredHWE.txt \\\n",
    "../stacks_b5_wgenome/batch_5.filteredMAF_filteredLoci_filteredIndivids_filteredHWE.gen"
   ]
  },
  {
   "cell_type": "markdown",
   "metadata": {},
   "source": [
    "\n",
    "\n",
    "<br>\n",
    "### Checking heterozygosities"
   ]
  },
  {
   "cell_type": "code",
   "execution_count": 38,
   "metadata": {
    "collapsed": false
   },
   "outputs": [
    {
     "name": "stdout",
     "output_type": "stream",
     "text": [
      "/mnt/hgfs/Pacific cod/DataAnalysis/PCod-Korea-repo/analyses\n"
     ]
    }
   ],
   "source": [
    "cd ../analyses"
   ]
  },
  {
   "cell_type": "code",
   "execution_count": 39,
   "metadata": {
    "collapsed": true
   },
   "outputs": [],
   "source": [
    "!python calc_het.py \\\n",
    "-l final_individuals.txt \\\n",
    "-f ../stacks_b5_wgenome/batch_5.filteredMAF_filteredLoci_filteredIndivids_filteredHWE.gen \\\n",
    "-o batch5_HetvReadDepth_filtered \\\n",
    "-d 4"
   ]
  },
  {
   "cell_type": "markdown",
   "metadata": {},
   "source": [
    "Since it takes a long time to count the FASTQ read depth, I copied over read depth counts from a previous script."
   ]
  },
  {
   "cell_type": "code",
   "execution_count": 40,
   "metadata": {
    "collapsed": false
   },
   "outputs": [
    {
     "name": "stdout",
     "output_type": "stream",
     "text": [
      "sample\tnum_reads\tprop_het\r\n",
      "PO010715_02\t6817653\t0.231429009\r\n",
      "PO010715_02_rep\t7823165\t0.243794055\r\n",
      "PO010715_04\t3432097\t0.15740172\r\n",
      "PO010715_06.1\t2473192\t0.185231736\r\n",
      "PO010715_08.1\t3106846\t0.175844516\r\n",
      "PO010715_10.1\t3309272\t0.168024596\r\n",
      "PO010715_11.1\t3495400\t0.18263288\r\n",
      "PO010715_12\t3295834\t0.167666513\r\n",
      "PO010715_17.1\t4332781\t0.187023495\r\n"
     ]
    }
   ],
   "source": [
    "!head batch5_HetvReadDepth_filtered"
   ]
  },
  {
   "cell_type": "code",
   "execution_count": 41,
   "metadata": {
    "collapsed": false
   },
   "outputs": [
    {
     "name": "stdout",
     "output_type": "stream",
     "text": [
      "Processed  235  samples.\n"
     ]
    }
   ],
   "source": [
    "myfile = open(\"batch5_HetvReadDepth_filtered\", \"r\")\n",
    "\n",
    "count = 0\n",
    "read_depth = []\n",
    "prop_het = []\n",
    "samples = []\n",
    "\n",
    "for line in myfile: \n",
    "    if count > 1: \n",
    "        sample = line.strip().split()[0]\n",
    "        new_depth = line.strip().split()[1]\n",
    "        new_het = line.strip().split()[2]\n",
    "        read_depth.append(new_depth)\n",
    "        prop_het.append(new_het)\n",
    "        samples.append(sample)\n",
    "        count += 1\n",
    "    else: \n",
    "        count += 1\n",
    "\n",
    "myfile.close()\n",
    "\n",
    "print \"Processed \", count, \" samples.\""
   ]
  },
  {
   "cell_type": "code",
   "execution_count": 42,
   "metadata": {
    "collapsed": true
   },
   "outputs": [],
   "source": [
    "length = len(read_depth)\n",
    "for i in range(0,length):\n",
    "    read_depth[i] = float(read_depth[i])\n",
    "\n",
    "length = len(prop_het)\n",
    "for i in range(0,length):\n",
    "    prop_het[i] = float(prop_het[i])"
   ]
  },
  {
   "cell_type": "code",
   "execution_count": 43,
   "metadata": {
    "collapsed": true
   },
   "outputs": [],
   "source": [
    "import numpy as np\n",
    "import matplotlib.pyplot as plt"
   ]
  },
  {
   "cell_type": "code",
   "execution_count": 44,
   "metadata": {
    "collapsed": false
   },
   "outputs": [
    {
     "data": {
      "image/png": "[encoded data removed]",
      "text/plain": [
       "<matplotlib.figure.Figure at 0x7fe132114190>"
      ]
     },
     "metadata": {},
     "output_type": "display_data"
    }
   ],
   "source": [
    "plt.scatter(read_depth, prop_het)\n",
    "plt.suptitle(\"Heterozygosity by Read Depth\")\n",
    "plt.xlabel(\"Read depth\")\n",
    "plt.ylabel(\"Heterozygosity\")\n",
    "plt.show()"
   ]
  },
  {
   "cell_type": "code",
   "execution_count": 45,
   "metadata": {
    "collapsed": true
   },
   "outputs": [],
   "source": [
    "plt.close()"
   ]
  },
  {
   "cell_type": "code",
   "execution_count": 46,
   "metadata": {
    "collapsed": false
   },
   "outputs": [
    {
     "name": "stdout",
     "output_type": "stream",
     "text": [
      "PO010715_26\n",
      "PO031715_13.1\n",
      "GE011215_30.1\n",
      "GE012315_04.1\n",
      "GE012315_09.1\n",
      "GE012315_10.1\n",
      "GE012315_11.1\n",
      "NA021015_03.1\n",
      "NA021015_06.1\n",
      "NA021015_09.1\n",
      "NA021015_10.1\n",
      "NA021015_13.1\n",
      "YS_121316_20.1\n",
      "YS121315_14.1\n",
      "BOR07_10.1\n"
     ]
    }
   ],
   "source": [
    "for i in range(0, len(prop_het)):\n",
    "    if float(prop_het[i])>0.25:\n",
    "        print samples[i]"
   ]
  },
  {
   "cell_type": "markdown",
   "metadata": {},
   "source": [
    "*Compared to batch 4...*\n",
    "\n",
    "PO010715_26\n",
    "\n",
    "PO020515_17.1 (new)\n",
    "\n",
    "GE011215_30.1\n",
    "\n",
    "GE012315_09.1\n",
    "\n",
    "GE012315_10.1\n",
    "\n",
    "GE012315_11.1\n",
    "\n",
    "NA021015_03.1\n",
    "\n",
    "NA021015_06.1\n",
    "\n",
    "NA021015_09.1\n",
    "\n",
    "NA021015_13.1\n",
    "\n",
    "YS_121316_20.1\n",
    "\n",
    "YS121315_14.1\n",
    "\n",
    "BOR07_10.1"
   ]
  },
  {
   "cell_type": "code",
   "execution_count": null,
   "metadata": {
    "collapsed": true
   },
   "outputs": [],
   "source": []
  }
 ],
 "metadata": {
  "anaconda-cloud": {},
  "kernelspec": {
   "display_name": "Python [default]",
   "language": "python",
   "name": "python2"
  },
  "language_info": {
   "codemirror_mode": {
    "name": "ipython",
    "version": 2
   },
   "file_extension": ".py",
   "mimetype": "text/x-python",
   "name": "python",
   "nbconvert_exporter": "python",
   "pygments_lexer": "ipython2",
   "version": "2.7.12"
  }
 },
 "nbformat": 4,
 "nbformat_minor": 1
}
