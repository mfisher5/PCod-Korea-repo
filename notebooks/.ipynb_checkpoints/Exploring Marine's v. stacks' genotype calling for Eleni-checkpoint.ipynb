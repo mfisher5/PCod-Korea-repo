{
 "cells": [
  {
   "cell_type": "code",
   "execution_count": 1,
   "metadata": {},
   "outputs": [
    {
     "data": {
      "text/plain": [
       "u'/mnt/hgfs/PCod-Korea-repo/notebooks'"
      ]
     },
     "execution_count": 1,
     "metadata": {},
     "output_type": "execute_result"
    }
   ],
   "source": [
    "pwd"
   ]
  },
  {
   "cell_type": "code",
   "execution_count": 2,
   "metadata": {},
   "outputs": [
    {
     "name": "stdout",
     "output_type": "stream",
     "text": [
      "/mnt/hgfs/PCod-Korea-repo/stacks_b8_wgenome\n"
     ]
    }
   ],
   "source": [
    "cd ../stacks_b8_wgenome/"
   ]
  },
  {
   "cell_type": "code",
   "execution_count": 4,
   "metadata": {},
   "outputs": [
    {
     "data": {
      "text/plain": [
       "21126"
      ]
     },
     "execution_count": 4,
     "metadata": {},
     "output_type": "execute_result"
    }
   ],
   "source": [
    "infile = open(\"batch_7.genepop\", \"r\")\n",
    "infile.readline()\n",
    "loci_list = infile.readline().strip().split(\",\")\n",
    "infile.close()\n",
    "len(loci_list)"
   ]
  },
  {
   "cell_type": "code",
   "execution_count": 12,
   "metadata": {
    "collapsed": true
   },
   "outputs": [],
   "source": [
    "infile = open(\"batch_7.haplotypes2.tsv\", \"r\")\n",
    "infile.readline()\n",
    "n_alleles_list = []\n",
    "for line in infile:\n",
    "    allele_list = []\n",
    "    haplotypes = line.strip().split()[2:]\n",
    "    for hap in haplotypes:\n",
    "        n_alleles_hap = hap.count(\"/\") + 1\n",
    "        if n_alleles_hap == 1:\n",
    "            allele = hap\n",
    "            if allele not in allele_list:\n",
    "                allele_list.append(allele)\n",
    "        elif n_alleles_hap > 1:\n",
    "            alleles = hap.split(\"/\")\n",
    "            for i in alleles:\n",
    "                if i not in allele_list:\n",
    "                    allele_list.append(i)\n",
    "    n_alleles_list.append(len(allele_list))\n",
    "infile.close()"
   ]
  },
  {
   "cell_type": "code",
   "execution_count": 13,
   "metadata": {},
   "outputs": [
    {
     "data": {
      "image/png": "[encoded data removed]",
      "text/plain": [
       "<matplotlib.figure.Figure at 0x7f5e0c8ee350>"
      ]
     },
     "metadata": {},
     "output_type": "display_data"
    }
   ],
   "source": [
    "import numpy as np\n",
    "import matplotlib.pyplot as plt\n",
    "plt.hist(n_alleles)\n",
    "plt.suptitle(\"Number of alleles per locus\\nunfiltered data from stacks genepop\")\n",
    "plt.xlabel(\"# alleles at locus\")\n",
    "plt.ylabel(\"proportion of loci\")\n",
    "plt.show()"
   ]
  },
  {
   "cell_type": "code",
   "execution_count": 14,
   "metadata": {
    "collapsed": true
   },
   "outputs": [],
   "source": [
    "plt.close()"
   ]
  },
  {
   "cell_type": "markdown",
   "metadata": {
    "collapsed": true
   },
   "source": [
    "### Re-running Marine's filtering script with low missing data parameter"
   ]
  },
  {
   "cell_type": "code",
   "execution_count": 15,
   "metadata": {},
   "outputs": [
    {
     "data": {
      "text/plain": [
       "u'/mnt/hgfs/PCod-Korea-repo/stacks_b8_wgenome'"
      ]
     },
     "execution_count": 15,
     "metadata": {},
     "output_type": "execute_result"
    }
   ],
   "source": [
    "pwd"
   ]
  },
  {
   "cell_type": "code",
   "execution_count": 16,
   "metadata": {},
   "outputs": [
    {
     "name": "stdout",
     "output_type": "stream",
     "text": [
      "/mnt/hgfs/PCod-Korea-repo/scripts/PostStacksFiltering\n"
     ]
    }
   ],
   "source": [
    "cd ../scripts/PostStacksFiltering/"
   ]
  },
  {
   "cell_type": "code",
   "execution_count": null,
   "metadata": {
    "collapsed": true
   },
   "outputs": [],
   "source": [
    "!python genotypes_verif_v2_no_ref_takeARGS.py \\\n",
    "../../stacks_b7_wgenome \\\n",
    "../PopMap_L1-5.txt \\\n",
    "7 \\\n",
    "10"
   ]
  }
 ],
 "metadata": {
  "kernelspec": {
   "display_name": "Python 2",
   "language": "python",
   "name": "python2"
  },
  "language_info": {
   "codemirror_mode": {
    "name": "ipython",
    "version": 2
   },
   "file_extension": ".py",
   "mimetype": "text/x-python",
   "name": "python",
   "nbconvert_exporter": "python",
   "pygments_lexer": "ipython2",
   "version": "2.7.13"
  }
 },
 "nbformat": 4,
 "nbformat_minor": 2
}
