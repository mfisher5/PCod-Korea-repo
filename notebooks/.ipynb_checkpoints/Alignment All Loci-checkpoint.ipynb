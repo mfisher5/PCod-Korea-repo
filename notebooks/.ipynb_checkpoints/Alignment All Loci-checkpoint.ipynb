{
 "cells": [
  {
   "cell_type": "markdown",
   "metadata": {},
   "source": [
    "## Alignment of all final loci to ACod genome\n",
    "\n",
    "\n",
    "#### batch 8 verif\n",
    "\n",
    "\n",
    "<br>\n",
    "\n",
    "In this notebook, I align all final loci to the Atlantic cod genome. \n",
    "<br>\n",
    "\n",
    "This includes the following steps:\n",
    "1. Create bowtie reference database of gadMor2\n",
    "2. Create fasta file of loci (using final genepop + consensus sequences from stacks)\n",
    "3. Align fasta to the genome with bowtie2\n",
    "4. Filter alignment by mapping quality (cutoff MQ > 10)\n",
    "\n",
    "\n",
    "\n",
    "\n",
    "\n",
    "<br>\n",
    "\n",
    "Programs used: `bowtie2`, `samtools`, `bedtools`\n",
    "<br>\n",
    "(see notes on installation of each of these programs [here](https://github.com/mfisher5/PCod-Korea-repo/blob/master/notebooks/Batch%208%20-%20Outlier%20Alignment.ipynb))\n",
    "\n",
    "\n",
    "<br>\n",
    "** I started with 5804 loci. 4319 of these aligned uniquely with a mapping quality > 10.**\n",
    "\n",
    "\n",
    "<br>\n",
    "<br>\n",
    "#### 8/20/2018"
   ]
  },
  {
   "cell_type": "markdown",
   "metadata": {},
   "source": [
    "<br>\n",
    "### 1. Create reference database of (new) Atlantic cod genome\n",
    "\n",
    "Completed previously.See notebook [Alignment of batch 8 outliers to ACod, eastern PCod](https://github.com/mfisher5/PCod-Korea-repo/blob/master/notebooks/Batch%208%20-%20Outlier%20Alignment.ipynb)\n",
    "<br>\n",
    "The [gadMor2](https://osf.io/4qsdw/) was published by [Torresen et al. 2017 in BMC Genomics](https://bmcgenomics.biomedcentral.com/articles/10.1186/s12864-016-3448-x) (open access)."
   ]
  },
  {
   "cell_type": "markdown",
   "metadata": {},
   "source": [
    "<br>\n",
    "\n",
    "### 2. Create fasta file of outlier loci consensus sequences\n",
    "\n",
    "I can do this by going into the `batch_8.catalog.tags.tsv` file and extracting the consensus sequence associated with each outlier locus ID. "
   ]
  },
  {
   "cell_type": "code",
   "execution_count": 1,
   "metadata": {},
   "outputs": [
    {
     "name": "stdout",
     "output_type": "stream",
     "text": [
      "/mnt/hgfs/PCod-Korea-repo\n"
     ]
    }
   ],
   "source": [
    "cd ../"
   ]
  },
  {
   "cell_type": "markdown",
   "metadata": {},
   "source": [
    "First, read in a list of outlier loci (one locus per line, text file)."
   ]
  },
  {
   "cell_type": "code",
   "execution_count": 2,
   "metadata": {
    "collapsed": true
   },
   "outputs": [],
   "source": [
    "###################### objects ###############################\n",
    "myfile = \"stacks_b8_verif/batch_8_filteredMAF_filteredIndivids30_filteredLoci_filteredHWE_filteredCR.gen\" # list of outlier loci\n",
    "###############################################################\n",
    "\n",
    "\n",
    "# read in outlier loci IDs\n",
    "infile = open(myfile, \"r\")\n",
    "\n",
    "loci_list = []\n",
    "line = infile.readline()\n",
    "while \"Pop\" not in line:\n",
    "    loci_list.append(line.strip())\n",
    "    line = infile.readline()\n",
    "infile.close()"
   ]
  },
  {
   "cell_type": "markdown",
   "metadata": {},
   "source": [
    "Then match those loci to sequences in the stacks catalog.tags.tsv file"
   ]
  },
  {
   "cell_type": "code",
   "execution_count": 4,
   "metadata": {},
   "outputs": [
    {
     "name": "stdout",
     "output_type": "stream",
     "text": [
      "Succesfully added sequences for  5804  loci.\n"
     ]
    }
   ],
   "source": [
    "###################### objects ###############################\n",
    "catalog = \"stacks_b8_verif/batch_7.catalog.tags.tsv\"\n",
    "newfile = \"analyses/LD/batch_8_verif_loci.fa\" # parsed output from this script\n",
    "###############################################################\n",
    "\n",
    "\n",
    "# write out the locus IDs and the consensus sequences to a new fasta file\n",
    "seqfile = open(catalog, \"r\")\n",
    "outfile = open(newfile, \"w\")\n",
    "seqs_added = 0\n",
    "seqfile.readline()\n",
    "for line in seqfile:\n",
    "    linelist = line.strip().split(\"\\t\")\n",
    "    if linelist[2] in loci_list:\n",
    "        outfile.write(\">\" + linelist[2] + \"\\n\" + linelist[9] + \"\\n\")\n",
    "        seqs_added += 1\n",
    "seqfile.close()\n",
    "outfile.close()\n",
    "print \"Succesfully added sequences for \", seqs_added, \" loci.\""
   ]
  },
  {
   "cell_type": "code",
   "execution_count": 5,
   "metadata": {},
   "outputs": [
    {
     "name": "stdout",
     "output_type": "stream",
     "text": [
      ">3\r\n",
      "TGCAGGACCCCCAGACATCCAGTGTTGTACTGGAGTATTTCAGGAGATCAGATGCTCGCACTCTAAGCCAACTAATGTCGACCCCTATGGCCACATAGTCACCCATGCTGTTATTTTTTTCATTTGTCCAGCGGCATTATGT\r\n",
      ">6\r\n",
      "TGCAGGACTAAAAATCCACCAGGCCTGTGGAGTTCAGACGATAGAAAAAGACTTTCCACTGTGGCCACCGTCCTGCTTCACTGTTGGCTTGGGCCCGGAATAAAGTCCAGTTAGTAACCACATGAACCACAGCTAAGTAGCA\r\n",
      ">11\r\n",
      "TGCAGGAGGGAGGGTCTGTGCACACGTGGGGAAACATGTGACGCGTGTTTATGAGCATGCAGAGCTGATGGATGGATGGATCTGGGCTCAGCGGCGCTGCCTATGTCGGCGGTGGCTGACTCTGCGACATCTGGGATTGTTT\r\n",
      ">13\r\n",
      "TGCAGGCCTCGGCCAATCAAGAGGAAGCGGAGCCGGACGAACCAGGAAGTAACAACCTTAAACCAACCAACGGGCTGCTGCCGCACTACGTTGTGGAAGAGGAGGAGTCCTTTTTGAGCGTCAAACCTTTGACGCCGGCCAG\r\n",
      ">16\r\n",
      "TGCAGGACAGAGCCCCATCTAAGCATATTCCTCGTTTTAAATAGTCTCCTCACCCTGTCATGCACTCCCCCCTTTGCTCTCAGGGGATTATTCAATGTAAAACCTGACTGTTTAACAAGCATTGGGAACATTTCATCAGCCG\r\n"
     ]
    }
   ],
   "source": [
    "!head analyses/LD/batch_8_verif_loci.fa"
   ]
  },
  {
   "cell_type": "markdown",
   "metadata": {},
   "source": [
    "<br>\n",
    "<br>\n",
    "### 3. Align fasta to Atlantic cod genome reference"
   ]
  },
  {
   "cell_type": "code",
   "execution_count": 6,
   "metadata": {},
   "outputs": [
    {
     "name": "stdout",
     "output_type": "stream",
     "text": [
      "5804 reads; of these:\r\n",
      "  5804 (100.00%) were unpaired; of these:\r\n",
      "    500 (8.61%) aligned 0 times\r\n",
      "    4830 (83.22%) aligned exactly 1 time\r\n",
      "    474 (8.17%) aligned >1 times\r\n",
      "91.39% overall alignment rate\r\n"
     ]
    }
   ],
   "source": [
    "!bowtie2 -f \\\n",
    "-x ../PCod-Compare-repo/ACod_reference/Gadus_morhua2 \\\n",
    "-U analyses/LD/batch_8_verif_loci.fa \\\n",
    "-S analyses/LD/batch_8_verif_loci_bowtie2_ACod.sam"
   ]
  },
  {
   "cell_type": "markdown",
   "metadata": {},
   "source": [
    "<br>\n",
    "### 4. Filter bowtie2 matches by mapping quality\n",
    "\n",
    "I use a mapping quality cutoff of 10.\n"
   ]
  },
  {
   "cell_type": "code",
   "execution_count": 7,
   "metadata": {},
   "outputs": [
    {
     "name": "stdout",
     "output_type": "stream",
     "text": [
      "/mnt/hgfs/PCod-Korea-repo/analyses/LD\n"
     ]
    }
   ],
   "source": [
    "cd analyses/LD"
   ]
  },
  {
   "cell_type": "markdown",
   "metadata": {},
   "source": [
    "Save filtered output as a `.sam`"
   ]
  },
  {
   "cell_type": "code",
   "execution_count": 8,
   "metadata": {
    "collapsed": true
   },
   "outputs": [],
   "source": [
    "!samtools view -Sq 10 batch_8_verif_loci_bowtie2_ACod.sam > batch_8_verif_loci_bowtie2_ACod_filteredMQ.sam"
   ]
  },
  {
   "cell_type": "markdown",
   "metadata": {},
   "source": [
    "** how many loci per linkage group?**"
   ]
  },
  {
   "cell_type": "code",
   "execution_count": 9,
   "metadata": {
    "collapsed": true
   },
   "outputs": [],
   "source": [
    "###################### objects ###############################\n",
    "myfile = \"batch_8_verif_loci_bowtie2_ACod_filteredMQ.sam\"\n",
    "###############################################################\n",
    "\n",
    "samfile = open(myfile, \"r\")\n",
    "lg_dict = {}\n",
    "for line in samfile:\n",
    "    lg = line.strip().split()[2]\n",
    "    locus = line.strip().split()[0]\n",
    "    if lg not in lg_dict.keys():\n",
    "        lg_dict[lg] = 1\n",
    "    else:\n",
    "        count = lg_dict[lg]\n",
    "        count += 1\n",
    "        lg_dict[lg] = count\n",
    "samfile.close()"
   ]
  },
  {
   "cell_type": "code",
   "execution_count": 10,
   "metadata": {
    "scrolled": true
   },
   "outputs": [
    {
     "data": {
      "image/png": "[encoded data removed]",
      "text/plain": [
       "<matplotlib.figure.Figure at 0x7fcb406f6b90>"
      ]
     },
     "metadata": {},
     "output_type": "display_data"
    }
   ],
   "source": [
    "countlist = []\n",
    "for lg in lg_dict.keys():\n",
    "    countlist.append(int(lg_dict[lg]))\n",
    "import matplotlib.pyplot as plt\n",
    "import numpy as np\n",
    "plt.hist(countlist)\n",
    "plt.suptitle(\"Number of Loci Aligned per Linkage Group\")\n",
    "plt.xlabel(\"# Loci Aligned\")\n",
    "plt.ylabel(\"# Linkage Groups\")\n",
    "plt.show()"
   ]
  },
  {
   "cell_type": "code",
   "execution_count": 11,
   "metadata": {
    "collapsed": true
   },
   "outputs": [],
   "source": [
    "plt.close()"
   ]
  },
  {
   "cell_type": "markdown",
   "metadata": {
    "collapsed": true
   },
   "source": [
    "**check to make sure only one alignment per locus was retained**"
   ]
  },
  {
   "cell_type": "code",
   "execution_count": 18,
   "metadata": {},
   "outputs": [
    {
     "data": {
      "text/plain": [
       "4319"
      ]
     },
     "execution_count": 18,
     "metadata": {},
     "output_type": "execute_result"
    }
   ],
   "source": [
    "###################### objects ###############################\n",
    "myfile = \"batch_8_verif_loci_bowtie2_ACod_filteredMQ.sam\"\n",
    "###############################################################\n",
    "\n",
    "samfile = open(myfile, \"r\")\n",
    "loci_list = []\n",
    "n_loci = 0\n",
    "for line in samfile:\n",
    "    locus = line.strip().split()[0]\n",
    "    if locus not in loci_list:\n",
    "        loci_list.append(locus)\n",
    "        n_loci += 1\n",
    "    else:\n",
    "        print \"oh no! locus \" + locus + \"aligned twice!\"\n",
    "        n_loci += 1\n",
    "samfile.close()\n",
    "\n",
    "len(loci_list)"
   ]
  },
  {
   "cell_type": "code",
   "execution_count": 19,
   "metadata": {},
   "outputs": [
    {
     "data": {
      "text/plain": [
       "4319"
      ]
     },
     "execution_count": 19,
     "metadata": {},
     "output_type": "execute_result"
    }
   ],
   "source": [
    "n_loci"
   ]
  },
  {
   "cell_type": "markdown",
   "metadata": {},
   "source": [
    "\n",
    "\n",
    "\n",
    "\n",
    "\n",
    "### 5. Calculate pairwise distances between alignments"
   ]
  },
  {
   "cell_type": "code",
   "execution_count": null,
   "metadata": {
    "collapsed": true
   },
   "outputs": [],
   "source": []
  }
 ],
 "metadata": {
  "kernelspec": {
   "display_name": "Python 2",
   "language": "python",
   "name": "python2"
  },
  "language_info": {
   "codemirror_mode": {
    "name": "ipython",
    "version": 2
   },
   "file_extension": ".py",
   "mimetype": "text/x-python",
   "name": "python",
   "nbconvert_exporter": "python",
   "pygments_lexer": "ipython2",
   "version": "2.7.13"
  }
 },
 "nbformat": 4,
 "nbformat_minor": 2
}
