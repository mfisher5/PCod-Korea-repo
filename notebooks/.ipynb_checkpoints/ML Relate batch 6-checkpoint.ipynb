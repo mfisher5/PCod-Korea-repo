{
 "cells": [
  {
   "cell_type": "markdown",
   "metadata": {},
   "source": [
    "## ML Relate for batch 6\n",
    "\n",
    "I'm going to run ML Relate on the data from batch 6, and play around with it a little to see if I can get a better idea of relatedness than last time. \n",
    "\n",
    "\n",
    "<br>\n",
    "<br>\n",
    "### I ran ML relate on: \n",
    "\n",
    "1. A genepop file where I put all individuals in the same population. \n",
    "2. Genepop files for each region. \n",
    "3. Genepop files for each sampling site.\n",
    "\n",
    "<br>\n",
    "<br>\n",
    "#### 7/31/2017 \n",
    "\n",
    "<br>\n",
    "### All individuals in the same population\n",
    "\n",
    "first, I need to create a genepop file where all individuals are listed under the same pop.\n"
   ]
  },
  {
   "cell_type": "code",
   "execution_count": 1,
   "metadata": {
    "collapsed": false
   },
   "outputs": [
    {
     "data": {
      "text/plain": [
       "u'/mnt/hgfs/Pacific cod/DataAnalysis/PCod-Korea-repo/notebooks'"
      ]
     },
     "execution_count": 1,
     "metadata": {},
     "output_type": "execute_result"
    }
   ],
   "source": [
    "pwd"
   ]
  },
  {
   "cell_type": "code",
   "execution_count": 2,
   "metadata": {
    "collapsed": false
   },
   "outputs": [
    {
     "name": "stdout",
     "output_type": "stream",
     "text": [
      "/mnt/hgfs/Pacific cod/DataAnalysis/PCod-Korea-repo/analyses\n"
     ]
    }
   ],
   "source": [
    "cd ../analyses"
   ]
  },
  {
   "cell_type": "code",
   "execution_count": 3,
   "metadata": {
    "collapsed": true
   },
   "outputs": [],
   "source": [
    "!mkdir ml_relate_batch6"
   ]
  },
  {
   "cell_type": "code",
   "execution_count": 5,
   "metadata": {
    "collapsed": true
   },
   "outputs": [],
   "source": [
    "myfile = open(\"../stacks_b6_wgenome/batch_6.filteredMAF_filteredLoci_30filteredIndivids_filteredHWE.gen\", \"r\")\n",
    "newfile = open(\"ml_relate_batch6/batch_6.filteredMAF_filteredLoci_30filteredIndivids_filteredHWE_onepop.gen\", \"w\")\n",
    "\n",
    "pop_count = 0\n",
    "\n",
    "for line in myfile:\n",
    "    if not line.startswith(\"Pop\"):\n",
    "        newfile.write(line)\n",
    "    elif line.startswith(\"Pop\"):\n",
    "        if pop_count == 0: \n",
    "            newfile.write(line)\n",
    "            pop_count += 1\n",
    "        elif pop_count != 0:\n",
    "            pop_count += 1\n",
    "myfile.close()\n",
    "newfile.close()\n",
    "\n"
   ]
  },
  {
   "cell_type": "markdown",
   "metadata": {},
   "source": [
    "I then loaded the data into ML Relate. I'm going to try out the Confidence Intervals, so I used the option: \n",
    "\n",
    "`Relationship >> Confidence Sets`\n",
    "\n",
    "And then put in: `0.95` for 95% confidence interval, and `1000` iterations. The program froze... so I started with the regional genepops and used only `100` iterations. "
   ]
  },
  {
   "cell_type": "markdown",
   "metadata": {},
   "source": [
    "<br>\n",
    "<br>\n",
    "<br>\n",
    "\n",
    "\n",
    "\n",
    "### Separate Genepops for each Region\n",
    "\n",
    "\n",
    "<br>\n",
    "**Generate new genepop files**"
   ]
  },
  {
   "cell_type": "code",
   "execution_count": 6,
   "metadata": {
    "collapsed": true
   },
   "outputs": [],
   "source": [
    "# open original genepop, create new genepops\n",
    "infile = open(\"../stacks_b6_wgenome/batch_6.filteredMAF_filteredLoci_30filteredIndivids_filteredHWE.gen\", \"r\")\n",
    "southfile = open(\"ml_relate_batch6/batch_6.filteredMAF_filteredLoci_30filteredIndivids_filteredHWE_south.gen\", \"w\")\n",
    "eastfile = open(\"ml_relate_batch6/batch_6.filteredMAF_filteredLoci_30filteredIndivids_filteredHWE_east.gen\", \"w\")\n",
    "westfile = open(\"ml_relate_batch6/batch_6.filteredMAF_filteredLoci_30filteredIndivids_filteredHWE_west.gen\", \"w\")\n",
    "\n",
    "\n",
    "pop_count = 0\n",
    "\n",
    "heading = \"#\"\n",
    "\n",
    "#save the title line of the genepop, all of the loci, and the first incidence of \"Pop\" to an object.\n",
    "#then write that as the heading for all new genepop files.\n",
    "for line in infile:\n",
    "    if not line.startswith(\"Pop\"):\n",
    "        heading += line\n",
    "    else:\n",
    "        heading += line\n",
    "        break\n",
    "\n",
    "southfile.write(heading)\n",
    "eastfile.write(heading)\n",
    "westfile.write(heading)\n",
    "        \n",
    "#separate individuals into the appropriate genepop file using the sample site abbrevs. in sample name\n",
    "for line in infile:\n",
    "    if line.startswith(\"PO\") or line.startswith(\"JB\") or line.startswith(\"NA\") or line.startswith(\"GE\"):\n",
    "        southfile.write(line)\n",
    "    elif line.startswith(\"YS\") or line.startswith(\"BOR\"):\n",
    "        westfile.write(line)\n",
    "    elif line.startswith(\"JUK\"):\n",
    "        eastfile.write(line)\n",
    "        \n",
    "        \n",
    "infile.close()\n",
    "southfile.close()\n",
    "westfile.close()\n",
    "eastfile.close()"
   ]
  },
  {
   "cell_type": "markdown",
   "metadata": {},
   "source": [
    "*I then removed the extra \"Pop\" lines from each genepop file*\n",
    "\n",
    "<br>\n",
    "** Run ML Relate**\n",
    "\n",
    "Parameters for ML Relate on each genepop: \n",
    "\n",
    "`0.95` confidence interval\n",
    "\n",
    "`100` iterations per test\n",
    "\n",
    "\n",
    "Weird things that happened: When I ran the western samples as two populations (Yellow Sea Block and Boryeong), nearly all of the individual comparisons had a blank in the relationship column.... I tried running it again using a 0.90 confidence interval, with the same result! But ML Relate should be able to handle up to two populations\n",
    "\n",
    "<br>\n",
    "**Parse output**"
   ]
  },
  {
   "cell_type": "code",
   "execution_count": 8,
   "metadata": {
    "collapsed": false
   },
   "outputs": [
    {
     "name": "stdout",
     "output_type": "stream",
     "text": [
      "/mnt/hgfs/Pacific cod/DataAnalysis/PCod-Korea-repo/analyses/ml_relate_batch6\n"
     ]
    }
   ],
   "source": [
    "cd ml_relate_batch6/"
   ]
  },
  {
   "cell_type": "code",
   "execution_count": 10,
   "metadata": {
    "collapsed": false,
    "scrolled": true
   },
   "outputs": [
    {
     "name": "stdout",
     "output_type": "stream",
     "text": [
      "####   this script will parse the output from an ML Relate Confidence Sets run ####\r",
      "\r\n",
      "\r",
      "\r\n",
      "##MF 7/31/2017\r",
      "\r\n",
      "##Written for Pacific cod, Korean data\r",
      "\r\n",
      "\r",
      "\r\n",
      "##ARGUMENTS: arg1 = ml relate output file name, arg2 = parsed output file name\r",
      "\r\n",
      "\r",
      "\r\n",
      "## IMPORTANT: MAKE SURE THAT YOU HASH OUT ALL LINES THAT DO NOT CONTAIN DATA ONLY (START LINE WITH #)\r",
      "\r\n",
      "###############################################################################################################\r",
      "\r\n",
      "\r",
      "\r\n"
     ]
    }
   ],
   "source": [
    "!head parse_MLrelate_ConfidenceSets.py"
   ]
  },
  {
   "cell_type": "code",
   "execution_count": 38,
   "metadata": {
    "collapsed": false,
    "scrolled": true
   },
   "outputs": [
    {
     "name": "stdout",
     "output_type": "stream",
     "text": [
      "Lines written out indicate errors in script where data was not written to parsed output file.\r\n",
      "Parsing file...\r\n",
      "error: no relationship calculated for line: \r\n",
      "\r",
      "\r\n",
      "\r\n",
      "error: no relationship calculated for line: \r\n",
      "\r",
      "\r\n",
      "\r\n",
      "Encountered  2  lines where relationships could not be parsed.\r\n",
      "Writing output to file...\r\n",
      "Done.\r\n",
      "\r\n",
      "\r\n",
      "Definite half-sibs found:  0\r\n",
      "Definite full-sibs found:  0\r\n",
      "Possible half-sibs found:  0\r\n",
      "Possible full-sibs found:  0\r\n",
      "*Note that if a confidence interval spans both HS and FS, that individual is listed in both categories above.\r\n"
     ]
    }
   ],
   "source": [
    "!python parse_MLrelate_ConfidenceSets.py MLrelated_east_CI.txt MLrelated_east_CI_parsed.txt"
   ]
  },
  {
   "cell_type": "code",
   "execution_count": 39,
   "metadata": {
    "collapsed": false
   },
   "outputs": [
    {
     "name": "stdout",
     "output_type": "stream",
     "text": [
      "Lines written out indicate errors in script where data was not written to parsed output file.\r\n",
      "Parsing file...\r\n",
      "error: no relationship calculated for line: \r\n",
      "\r",
      "\r\n",
      "\r\n",
      "error: no relationship calculated for line: \r\n",
      "\r",
      "\r\n",
      "\r\n",
      "Encountered  2  lines where relationships could not be parsed.\r\n",
      "Writing output to file...\r\n",
      "Done.\r\n",
      "\r\n",
      "\r\n",
      "Definite half-sibs found:  0\r\n",
      "Definite full-sibs found:  0\r\n",
      "Possible half-sibs found:  0\r\n",
      "Possible full-sibs found:  0\r\n",
      "*Note that if a confidence interval spans both HS and FS, that individual is listed in both categories above.\r\n"
     ]
    }
   ],
   "source": [
    "!python parse_MLrelate_ConfidenceSets.py MLrelated_west_CI.txt MLrelated_west_CI_parsed.txt"
   ]
  },
  {
   "cell_type": "code",
   "execution_count": null,
   "metadata": {
    "collapsed": true
   },
   "outputs": [],
   "source": [
    "!python parse_MLrelate_ConfidenceSets.py MLrelated_south_CI.txt MLrelated_south_CI_parsed.txt"
   ]
  },
  {
   "cell_type": "markdown",
   "metadata": {},
   "source": [
    "#### COMPARING AGAINST THE RELATEDNESS DESIGNATION GIVEN IN DEFAULT OUTPUT MATRIX\n",
    "\n",
    "West Coast Sampling Sites as One population"
   ]
  },
  {
   "cell_type": "code",
   "execution_count": 29,
   "metadata": {
    "collapsed": false
   },
   "outputs": [
    {
     "name": "stdout",
     "output_type": "stream",
     "text": [
      "0  detected half-sib individuals\n",
      "0  detected full-sib individuals\n"
     ]
    }
   ],
   "source": [
    "infile = open(\"MLrelated_west_list.txt\", \"r\")\n",
    "for line in infile:\n",
    "    if line.startswith(\"Ind1\"):\n",
    "        break\n",
    "\n",
    "h_count = 0\n",
    "f_count = 0\n",
    "\n",
    "\n",
    "for line in infile:\n",
    "    if not line.startswith(\"#\"):\n",
    "        linelist = line.strip().split()\n",
    "        if len(linelist) > 2:\n",
    "            relate = linelist[2]\n",
    "            if relate == \"HS\":\n",
    "                h_count += 1\n",
    "            elif relate == \"FS\":\n",
    "                f_count += 1\n",
    "                print line\n",
    "infile.close()\n",
    "\n",
    "print h_count, \" detected half-sib individuals\"\n",
    "print f_count, \" detected full-sib individuals\""
   ]
  },
  {
   "cell_type": "markdown",
   "metadata": {},
   "source": [
    "<br>\n",
    "\n",
    "East Coast Sampling Sites as One population"
   ]
  },
  {
   "cell_type": "code",
   "execution_count": 37,
   "metadata": {
    "collapsed": false
   },
   "outputs": [
    {
     "name": "stdout",
     "output_type": "stream",
     "text": [
      "JUK07_02_rep.1\tJUK07_02.1\tFS\t-4726.70\t\t1396.47\t685.40\t-\t219.58\r\n",
      "\n",
      "JUK07_09_rep.1\tJUK07_09.1\tFS\t-4981.16\t\t1415.38\t691.87\t-\t233.41\r\n",
      "\n",
      "JUK07_16_rep.1\tJUK07_16.1\tFS\t-4664.63\t\t1359.74\t676.56\t-\t231.03\r\n",
      "\n",
      "0  detected half-sib individuals\n",
      "3  detected full-sib individuals\n"
     ]
    }
   ],
   "source": [
    "infile = open(\"MLrelate_east_list.txt\", \"r\")\n",
    "\n",
    "h_count = 0\n",
    "f_count = 0\n",
    "\n",
    "\n",
    "for line in infile:\n",
    "    if not line.startswith(\"#\"):\n",
    "        linelist = line.strip().split()\n",
    "        relate = linelist[2]\n",
    "        if relate == \"HS\":\n",
    "            h_count += 1\n",
    "        elif relate == \"FS\":\n",
    "            f_count += 1\n",
    "            print line\n",
    "infile.close()\n",
    "\n",
    "print h_count, \" detected half-sib individuals\"\n",
    "print f_count, \" detected full-sib individuals\"\n",
    "infile.close()"
   ]
  },
  {
   "cell_type": "markdown",
   "metadata": {},
   "source": [
    "<br>\n",
    "\n",
    "Southern Coast Sampling Sites as One population"
   ]
  },
  {
   "cell_type": "code",
   "execution_count": 45,
   "metadata": {
    "collapsed": false
   },
   "outputs": [
    {
     "name": "stdout",
     "output_type": "stream",
     "text": [
      "12  detected half-sib individuals\n",
      "GE012315_11.1\tGE012315_09.1\tHS\t-7117.97\t\t35.95\t-\t110.21\t9999\r\n",
      "NA021015_09.1\tNA021015_06.1\tHS\t-7207.62\t\t103.50\t-\t202.80\t9999\r\n",
      "NA021015_10.1\tNA021015_06.1\tHS\t-7371.13\t\t158.67\t-\t185.12\t9999\r\n",
      "NA021015_10.1\tNA021015_09.1\tHS\t-7198.87\t\t89.86\t-\t201.63\t9999\r\n",
      "NA021015_13.1\tNA021015_06.1\tHS\t-7407.15\t\t13.69\t-\t298.05\t9999\r\n",
      "NA021015_13.1\tNA021015_10.1\tHS\t-7387.40\t\t8.91\t-\t298.49\t9999\r\n",
      "JB121807_48.1\tJB121807_20.1\tHS\t-4200.76\t\t14.39\t-\t163.27\t9999\r\n",
      "JB021108_32\tJB021108_20\tHS\t-5005.14\t\t28.27\t-\t184.82\t9999\r\n",
      "GEO020414_17\tGEO020414_15\tHS\t-5362.83\t\t71.25\t-\t143.67\t9999\r\n",
      "GEO020414_17\tGEO020414_15_300\tHS\t-5148.35\t\t39.41\t-\t171.00\t9999\r\n",
      "GEO020414_17_300\tGEO020414_15\tHS\t-5156.67\t\t55.11\t-\t146.13\t9999\r\n",
      "GEO020414_17_300\tGEO020414_15_300\tHS\t-4913.34\t\t46.58\t-\t162.78\t9999\r\n",
      "\n",
      "\n",
      "\n",
      "19  detected full-sib individuals\n",
      "PO010715_02_rep\tPO010715_02\tFS\t-5276.09\t\t999.56\t450.36\t-\t147.51\r\n",
      "GE012315_06.1\tGE012315_05.1\tFS\t-5151.73\t\t1673.47\t723.04\t-\t207.67\r\n",
      "JB121807_08_rep\tJB121807_08\tFS\t-4152.34\t\t1503.20\t760.18\t-\t254.93\r\n",
      "JB121807_46\tJB121807_44\tFS\t-4321.43\t\t1221.64\t576.72\t-\t9999\r\n",
      "JB021108_05_rep\tJB021108_05\tFS\t-4840.92\t\t1387.04\t682.27\t-\t244.85\r\n",
      "JB021108_35_rep\tJB021108_35\tFS\t-3331.67\t\t1209.94\t594.14\t-\t184.87\r\n",
      "JB021108_36_rep.1\tJB021108_36.1\tFS\t-4394.22\t\t1457.83\t726.51\t-\t246.52\r\n",
      "JB021108_37_rep.1\tJB021108_37.1\tFS\t-4510.94\t\t1507.40\t740.72\t-\t246.70\r\n",
      "JB021108_46_rep.1\tJB021108_46.1\tFS\t-4409.36\t\t1432.12\t727.77\t-\t257.99\r\n",
      "GEO020414_11_300\tGEO020414_11\tFS\t-4812.69\t\t1266.20\t605.17\t-\t9999\r\n",
      "GEO020414_14_300\tGEO020414_14\tFS\t-4213.99\t\t1285.45\t635.04\t-\t203.94\r\n",
      "GEO020414_15_300\tGEO020414_15\tFS\t-3990.78\t\t836.20\t359.75\t-\t9999\r\n",
      "GEO020414_16_300\tGEO020414_16\tFS\t-4318.45\t\t1391.26\t688.94\t-\t9999\r\n",
      "GEO020414_17_300\tGEO020414_17\tFS\t-4653.52\t\t1011.64\t453.15\t-\t9999\r\n",
      "GEO020414_23_300\tGEO020414_23\tFS\t-4945.65\t\t1087.46\t499.91\t-\t148.96\r\n",
      "GEO020414_24_300\tGEO020414_24\tFS\t-4894.44\t\t1047.78\t470.34\t-\t9999\r\n",
      "GEO020414_25_300\tGEO020414_25\tFS\t-3909.34\t\t1266.28\t616.14\t-\t9999\r\n",
      "GEO020414_8_300\tGEO020414_8\tFS\t-4376.12\t\t1538.29\t766.21\t-\t263.87\r\n",
      "GEO020414_9_300\tGEO020414_9\tFS\t-4211.46\t\t1362.96\t673.44\t-\t215.33\r\n",
      "\n"
     ]
    }
   ],
   "source": [
    "infile = open(\"MLrelate_south_list.txt\", \"r\")\n",
    "\n",
    "h_count = 0\n",
    "f_count = 0\n",
    "h_lines = \"\"\n",
    "f_lines = \"\"\n",
    "\n",
    "for line in infile:\n",
    "    if not line.startswith(\"#\"):\n",
    "        linelist = line.strip().split()\n",
    "        relate = linelist[2]\n",
    "        if relate == \"HS\":\n",
    "            h_count += 1\n",
    "            h_lines += line\n",
    "        elif relate == \"FS\":\n",
    "            f_count += 1\n",
    "            f_lines += line\n",
    "infile.close()\n",
    "\n",
    "print h_count, \" detected half-sib individuals\"\n",
    "print h_lines\n",
    "print \"\"\n",
    "print \"\"\n",
    "print f_count, \" detected full-sib individuals\"\n",
    "print f_lines\n",
    "infile.close()"
   ]
  },
  {
   "cell_type": "code",
   "execution_count": null,
   "metadata": {
    "collapsed": true
   },
   "outputs": [],
   "source": []
  }
 ],
 "metadata": {
  "kernelspec": {
   "display_name": "Python [default]",
   "language": "python",
   "name": "python2"
  },
  "language_info": {
   "codemirror_mode": {
    "name": "ipython",
    "version": 2
   },
   "file_extension": ".py",
   "mimetype": "text/x-python",
   "name": "python",
   "nbconvert_exporter": "python",
   "pygments_lexer": "ipython2",
   "version": "2.7.12"
  }
 },
 "nbformat": 4,
 "nbformat_minor": 1
}
