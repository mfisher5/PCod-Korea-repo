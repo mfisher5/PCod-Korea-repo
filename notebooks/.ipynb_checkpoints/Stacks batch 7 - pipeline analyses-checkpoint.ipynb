{
 "cells": [
  {
   "cell_type": "markdown",
   "metadata": {},
   "source": [
    "## stacks batch 7 - pipeline meristics\n",
    "\n",
    "This notebook contains counts and measurements at various steps along the stacks pipeline. This includes: \n",
    "\n",
    "1. Number of raw reads per sample, lane 5 samples only\n",
    "2. Number of raw reads per sample, all lanes by population\n",
    "3. Number of stacks / loci per sample (ustacks), lane 5 samples only\n",
    "4. Number of stacks / loci per sample (ustacks), all lanes by population\n",
    "\n",
    "\n",
    "\n",
    "Note that batch 7 is the first stacks pipeline run to include lane 5 samples. These samples were often looked at separately in the pipeline meristics because the lane contained size major groupings of samples (*not* by population):\n",
    "1. partially degraded samples\n",
    "2. low quantity DNA samples that were combined across two different extractions\n",
    "3. Alaska sample reruns\n",
    "4. reruns of potentially contaminated samples\n",
    "5. new, regular samples\n",
    "6. replicates\n",
    "\n",
    "<br>\n",
    "<br>\n",
    "<br>\n",
    "<br>\n",
    "\n",
    "#### 8/16/2017\n",
    "\n",
    "### Read and stack counts, lane 5 samples\n",
    "\n",
    "<br>\n",
    "The following graphs were made in R: script [here](https://github.com/mfisher5/PCod-Korea-repo/blob/master/pipeline_analyses/readsVtags_all_graphing.R).\n",
    "<br>\n",
    "\n",
    "**Read counts, for lane 5 samples in comparison to other samples**\n",
    "![reads_l5](https://github.com/mfisher5/PCod-Korea-repo/blob/master/pipeline_analyses/nreads_lane5.png?raw=true)\n",
    "![reads_batch6](https://github.com/mfisher5/PCod-Korea-repo/blob/master/pipeline_analyses/nreads_b5_contaminated.png?raw=true)\n",
    "<br>\n",
    "**Tag counts, for lane 5 samples in comparison to other samples**\n",
    "![tags_l5](https://github.com/mfisher5/PCod-Korea-repo/blob/master/pipeline_analyses/ntags_lane5.png?raw=true)\n",
    "![tags_batch6](https://github.com/mfisher5/PCod-Korea-repo/blob/master/pipeline_analyses/ntags_b5_contaminated.png?raw=true)\n",
    "\n",
    "<br>\n",
    "<br>\n",
    "<br>\n",
    "### Read and stack counts, comparing degraded / combination / potentially contaminated samples to regular samples\n",
    "<br>\n",
    "The following graphs were made in R: script [here](https://github.com/mfisher5/PCod-Korea-repo/blob/master/pipeline_analyses/readsVtags_all_graphing.R).\n",
    "<br>\n",
    "\n",
    "\n",
    "Note that the \"regular\" samples are blue circles without fill. \n",
    "\n",
    "The difference between \"contam\" and \"pcontam\": \"contam\" samples were identified by ML relate and were nearby to each other on the extraction or RAD plate; they also had higher heterozygosities. These samples were re-run in Lane 5. \"pcontam\" samples were identified by ML relate but were not nearby to each other on the extraction or RAD plates, and had relatively average heterozygosities. These samples were not re-run, but I want to keep an eye on them. \n",
    "\n",
    "<br>\n",
    "**Read counts by population, with the type of sample color coded.**\n",
    "![reads_by_pop_meta_plot](https://github.com/mfisher5/PCod-Korea-repo/blob/master/pipeline_analyses/reads_by_pop_meta_plot.png?raw=true)\n",
    "\n",
    "<br>\n",
    "**Tag counts by population, with the type of sample color coded.**\n",
    "![tags_by_pop_meta_plot](https://github.com/mfisher5/PCod-Korea-repo/blob/master/pipeline_analyses/tags_by_pop_meta_graph.png?raw=true)\n",
    "\n",
    "<br>\n",
    "**Read v. Tag counts, with the type of sample color coded.**\n",
    "![reads_v_tags_meta](https://github.com/mfisher5/PCod-Korea-repo/blob/master/pipeline_analyses/reads_v_tags_meta_graph.png?raw=true)\n",
    "\n",
    "**Read v. Tag counts, with only lane 5 samples highlighted.**\n",
    "![reads_v_tags_lane5_highlight](https://github.com/mfisher5/PCod-Korea-repo/blob/master/pipeline_analyses/readsVtags_lane5vExisting.png?raw=true)"
   ]
  },
  {
   "cell_type": "code",
   "execution_count": null,
   "metadata": {
    "collapsed": true
   },
   "outputs": [],
   "source": []
  }
 ],
 "metadata": {
  "kernelspec": {
   "display_name": "Python [default]",
   "language": "python",
   "name": "python2"
  },
  "language_info": {
   "codemirror_mode": {
    "name": "ipython",
    "version": 2
   },
   "file_extension": ".py",
   "mimetype": "text/x-python",
   "name": "python",
   "nbconvert_exporter": "python",
   "pygments_lexer": "ipython2",
   "version": "2.7.12"
  }
 },
 "nbformat": 4,
 "nbformat_minor": 1
}
