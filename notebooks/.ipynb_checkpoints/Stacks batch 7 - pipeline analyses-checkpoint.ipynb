{
 "cells": [
  {
   "cell_type": "markdown",
   "metadata": {},
   "source": [
    "## stacks batch 7 - pipeline meristics\n",
    "\n",
    "This notebook contains counts and measurements at various steps along the stacks pipeline. This includes: \n",
    "\n",
    "1. Number of raw reads per sample, lane 5 samples only\n",
    "2. Number of raw reads per sample, all lanes by population\n",
    "3. Number of stacks / loci per sample (ustacks), lane 5 samples only\n",
    "4. Number of stacks / loci per sample (ustacks), all lanes by population\n",
    "\n",
    "\n",
    "\n",
    "Note that batch 7 is the first stacks pipeline run to include lane 5 samples. These samples were often looked at separately in the pipeline meristics because the lane contained size major groupings of samples (*not* by population):\n",
    "1. partially degraded samples\n",
    "2. low quantity DNA samples that were combined across two different extractions\n",
    "3. Alaska sample reruns\n",
    "4. reruns of potentially contaminated samples\n",
    "5. new, regular samples\n",
    "6. replicates\n",
    "\n",
    "<br>\n",
    "<br>\n",
    "<br>\n",
    "<br>\n",
    "\n",
    "#### 8/16/2017\n",
    "\n",
    "### Read and stack counts, lane 5 samples\n",
    "\n",
    "\n"
   ]
  },
  {
   "cell_type": "code",
   "execution_count": null,
   "metadata": {
    "collapsed": true
   },
   "outputs": [],
   "source": []
  }
 ],
 "metadata": {
  "kernelspec": {
   "display_name": "Python [default]",
   "language": "python",
   "name": "python2"
  },
  "language_info": {
   "codemirror_mode": {
    "name": "ipython",
    "version": 2
   },
   "file_extension": ".py",
   "mimetype": "text/x-python",
   "name": "python",
   "nbconvert_exporter": "python",
   "pygments_lexer": "ipython2",
   "version": "2.7.12"
  }
 },
 "nbformat": 4,
 "nbformat_minor": 1
}
