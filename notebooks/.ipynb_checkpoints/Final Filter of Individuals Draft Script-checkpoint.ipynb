{
 "cells": [
  {
   "cell_type": "code",
   "execution_count": 1,
   "metadata": {
    "collapsed": false
   },
   "outputs": [
    {
     "name": "stdout",
     "output_type": "stream",
     "text": [
      "/mnt/hgfs/Pacific cod/DataAnalysis/PCod-Korea-repo/stacks_b6_wgenome\n"
     ]
    }
   ],
   "source": [
    "cd ../stacks_b6_wgenome"
   ]
  },
  {
   "cell_type": "code",
   "execution_count": 15,
   "metadata": {
    "collapsed": false
   },
   "outputs": [],
   "source": [
    "infile = open(\"batch_6.filteredMAF_filteredLoci\", \"r\")\n",
    "percent = float(0.20)\n",
    "\n",
    "first_line_list = infile.readline().strip().split(\",\")\n",
    "\n",
    "\n",
    "per_row = []\n",
    "for line in infile: \n",
    "    per_row.append(line.split(\",\"))\n",
    "infile.close()\n",
    " \n",
    "per_column = zip(*per_row)\n",
    "\n",
    "\n",
    "samples_to_keep = []\n",
    "genos_to_keep = []\n",
    "\n",
    "bad_samples = []\n",
    "bad_genos = []\n",
    "\n",
    "loci_list = []\n",
    "for locus in per_column[0]:\n",
    "    if \"sample\" not in locus:\n",
    "        loci_list.append(locus)\n",
    "\n",
    "for i in range(1, len(per_column)):\n",
    "    total_loci = 0\n",
    "    missing_geno = 0\n",
    "    for item in per_column[i]:\n",
    "        total_loci += 1\n",
    "        if item == \"0000\":\n",
    "            missing_geno += 1\n",
    "    p_missing = float(missing_geno)/float(total_loci)\n",
    "    if p_missing > percent: \n",
    "        bad_samples.append(first_line_list[i])\n",
    "        bad_genos.append(per_column[i])\n",
    "    elif p_missing <= percent:\n",
    "        samples_to_keep.append(first_line_list[i])\n",
    "        genos_to_keep.append(per_column[i])"
   ]
  },
  {
   "cell_type": "code",
   "execution_count": null,
   "metadata": {
    "collapsed": true
   },
   "outputs": [],
   "source": [
    "outfile = open(\"batch_6.filteredMAF_filteredLoci_filteredIndivids\", \"w\")\n",
    "BADoutfile = open(\"batch_6.filteredMAF_filteredLoci_filteredIndividsBAD\", \"w\")\n",
    "\n",
    "outfile.write(\"sample,\" + \",\".join(samples_to_keep))\n",
    "BADoutfile.write(\"sample,\" + \",\".join(bad_samples))\n",
    "\n",
    "n_loci = len(loci_list)\n",
    "\n",
    "for i in range(0,n_loci):\n",
    "    newline = loci_list[i] + \",\"\n",
    "    "
   ]
  }
 ],
 "metadata": {
  "kernelspec": {
   "display_name": "Python [default]",
   "language": "python",
   "name": "python2"
  },
  "language_info": {
   "codemirror_mode": {
    "name": "ipython",
    "version": 2
   },
   "file_extension": ".py",
   "mimetype": "text/x-python",
   "name": "python",
   "nbconvert_exporter": "python",
   "pygments_lexer": "ipython2",
   "version": "2.7.12"
  }
 },
 "nbformat": 4,
 "nbformat_minor": 1
}
