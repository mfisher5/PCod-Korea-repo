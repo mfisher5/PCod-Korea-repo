{
 "cells": [
  {
   "cell_type": "markdown",
   "metadata": {},
   "source": [
    "# Intro to Github\n",
    "\n",
    "FISH 510\n",
    "\n",
    "Week 8 Class\n",
    "\n",
    "<br>\n",
    "**References**: \"Bioinformatics Data Skills, Chapter 5: Git for Scientists\". \n",
    "\n",
    "<br>\n",
    "**Topics Covered**:\n",
    "\n",
    "1. Creating a Github account online\n",
    "2. Installing Github on the desktop and the Git GUI\n",
    "3. Creating repositories\n",
    "4. README and .gitignore files\n",
    "5. Working with files in the repository\n",
    "6. Commit history: why is it useful? \n",
    "7. Troubleshooting: merge conflicts \n",
    "8. Interacting with other Git users\n",
    "9. Branching\n",
    "10. Publishing"
   ]
  },
  {
   "cell_type": "markdown",
   "metadata": {},
   "source": [
    "### Getting Setup: Create an Account, Install Git\n",
    "\n",
    "Sign up for github [here](https://github.com/join?source=header-home). \n",
    "\n",
    "Then, [download the desktop version](https://desktop.github.com/). \n",
    "\n",
    "If you are working on WINDOWS, then you'll also want to [install Git Bash](https://git-scm.com/download/win). \n",
    "\n",
    "\n",
    "<br>\n",
    "<br>\n",
    "### Creating repositories\n",
    "\n",
    "A repository is like a root directory or a filing cabinet. It will contain all of the files \n",
    "Repositories can be created either on your desktop or online. We'll go through both ways here, by making two practice repositories. You can delete them later. \n",
    "<br>\n",
    "\n",
    "** Creating an online repository **\n",
    "\n",
    "When working with bioinformatics data: You'll want to initialize the repository with a README file AND with a .gitignore file. In the online repository this can be done by simply checking a button. In the desktop version, you'll have to create it yourself. \n",
    "\n",
    "*option 1*\n",
    "- navigate to your profile\n",
    "- go to the tab 'repositories'\n",
    "- select the green \"NEW\" button\n",
    "\n",
    "\n",
    "*option 2* \n",
    "- in the upper right corner of the screen, there is a `+` button\n",
    "- on the dropdown menu, select \"New Repository\"\n",
    "\n",
    "\n",
    "<br>\n",
    "** Creating a repository on the desktop **\n",
    "\n",
    "*option 1*\n",
    "- in the Github GUI, select the `+` in the upper left corner\n",
    "\n",
    "*option 2*\n",
    "- in your file directory, create a new folder and assign it the repository name. \n",
    "- open your terminal or git bash window and navigate to that directory\n",
    "- from within that folder, use the following code to initiate the repository: \n",
    "`git init .`\n"
   ]
  },
  {
   "cell_type": "code",
   "execution_count": 1,
   "metadata": {
    "collapsed": false,
    "scrolled": true
   },
   "outputs": [
    {
     "data": {
      "text/plain": [
       "u'/mnt/hgfs/Pacific cod/DataAnalysis/PCod-Korea-repo/notebooks'"
      ]
     },
     "execution_count": 1,
     "metadata": {},
     "output_type": "execute_result"
    }
   ],
   "source": [
    "pwd"
   ]
  },
  {
   "cell_type": "code",
   "execution_count": 2,
   "metadata": {
    "collapsed": false
   },
   "outputs": [
    {
     "name": "stdout",
     "output_type": "stream",
     "text": [
      "/mnt/hgfs/Pacific cod\n"
     ]
    }
   ],
   "source": [
    "cd ../../../"
   ]
  },
  {
   "cell_type": "code",
   "execution_count": 3,
   "metadata": {
    "collapsed": true
   },
   "outputs": [],
   "source": [
    "!mkdir practice_repo"
   ]
  },
  {
   "cell_type": "code",
   "execution_count": 4,
   "metadata": {
    "collapsed": false,
    "scrolled": false
   },
   "outputs": [
    {
     "name": "stdout",
     "output_type": "stream",
     "text": [
      "/mnt/hgfs/Pacific cod/practice_repo\n"
     ]
    }
   ],
   "source": [
    "cd practice_repo"
   ]
  },
  {
   "cell_type": "code",
   "execution_count": null,
   "metadata": {
    "collapsed": true
   },
   "outputs": [],
   "source": [
    "!git init ."
   ]
  },
  {
   "cell_type": "markdown",
   "metadata": {},
   "source": [
    "<img src = \"initialize_git.png\">"
   ]
  },
  {
   "cell_type": "markdown",
   "metadata": {},
   "source": [
    "\n",
    "<br>\n",
    "** Including a README **\n",
    "- create a text file called: README.md in the root folder of your repository\n",
    "- Best Practices - what to include: overall description of the project, all programs and the version of those programs that you'll be using, an outline of the folders in the repo and what they contain. Here is [an example](https://github.com/mfisher5/mf-fish546-PCod/blob/master/README.md)\n",
    "\n",
    "*Discussion: what makes a good README? what do collaborators find most helpful? *\n",
    "<br>\n",
    "\n",
    "** Including a .gitignore**\n",
    "- open an empty text file in your repository >> save as >> file name: .gitignore >> file type: \"all types\"\n",
    "- if your computer won't let you save as anything other than a text file, then you can save it with the extension of a text file and then manually remove the extension by renaming it in your folder browser. \n",
    "- the .gitignore file will show up as an unnamed file in your repository, with a text file icon. \n",
    "\n",
    "\n",
    "<br>\n",
    "<br>\n",
    "### Communicating between the desktop and online: cloning, committing, etc. \n",
    "\n",
    "We now have two repositories, one on the desktop and one online. Let's start by getting both repositories online, and both repositories on the desktop. We'll work mostly from the command line here, but you can also do this through the github GUI. \n",
    "\n",
    "<br>\n",
    "** Cloning from online to the desktop **\n",
    "- in your browser, navigate to the main page of the repository\n",
    "- select \"clone or download\", and then copy the URL\n",
    "- in the command line, navigate to the directory where you want to add your repository and use the following code: \n",
    "\n",
    "`git clone $COPIED LINK`\n",
    "\n",
    "\n",
    "\n",
    "<img src = \"clone_git.png\">\n"
   ]
  },
  {
   "cell_type": "code",
   "execution_count": 6,
   "metadata": {
    "collapsed": false
   },
   "outputs": [
    {
     "name": "stdout",
     "output_type": "stream",
     "text": [
      "/mnt/hgfs/Pacific cod\n"
     ]
    }
   ],
   "source": [
    "cd ../"
   ]
  },
  {
   "cell_type": "code",
   "execution_count": 7,
   "metadata": {
    "collapsed": false
   },
   "outputs": [
    {
     "name": "stdout",
     "output_type": "stream",
     "text": [
      "/mnt/hgfs/Pacific cod/FISH_510\n"
     ]
    }
   ],
   "source": [
    "cd FISH_510"
   ]
  },
  {
   "cell_type": "code",
   "execution_count": 8,
   "metadata": {
    "collapsed": false
   },
   "outputs": [
    {
     "name": "stdout",
     "output_type": "stream",
     "text": [
      "\u001b[0m\u001b[01;32mREADME.md\u001b[0m*\r\n"
     ]
    }
   ],
   "source": [
    "ls"
   ]
  },
  {
   "cell_type": "markdown",
   "metadata": {},
   "source": [
    "** Cloning from the desktop to online **\n",
    "\n",
    "My practice repository on the desktop has a `README.md` and a `.gitignore` file. Note that the `.gitignore` file doesn't show up when you list the files on the command line, but it is still there"
   ]
  },
  {
   "cell_type": "code",
   "execution_count": 9,
   "metadata": {
    "collapsed": false
   },
   "outputs": [
    {
     "name": "stdout",
     "output_type": "stream",
     "text": [
      "/mnt/hgfs/Pacific cod/practice_repo\n"
     ]
    }
   ],
   "source": [
    "cd ../practice_repo/"
   ]
  },
  {
   "cell_type": "code",
   "execution_count": 10,
   "metadata": {
    "collapsed": false
   },
   "outputs": [
    {
     "name": "stdout",
     "output_type": "stream",
     "text": [
      "\u001b[0m\u001b[01;32mREADME.md\u001b[0m*\r\n"
     ]
    }
   ],
   "source": [
    "ls"
   ]
  },
  {
   "cell_type": "markdown",
   "metadata": {},
   "source": [
    "- create a new repository online with the same name, but without the README or .gitignore files\n",
    "- when the \"quick setup\" page pops up, copy the remote repository HTTPS URL\n",
    "- switch back to the command line on your desktop\n",
    "\n",
    "<br>\n",
    "*Checking your repository status*\n",
    "- at the command line, navigate to your repository folder. Enter \n",
    "\n",
    "        `git status` \n",
    "- This will give you basic information about your repository, including the paths to files that have changed since your last commit, paths that are being tracked by Git, and paths that are not being tracked by Git. \n",
    "\n",
    "<br>\n",
    "*Tracking files*\n",
    "- in order to move files between your desktop and online, the files must be \"tracked.\" Once a file is \"tracked\" it will automatically be committed at the next step. To make Git track all of your files, use the command \n",
    "\n",
    "        `git add .` \n",
    "- if you only want to track certain files, you can instead use the command \n",
    "\n",
    "        `git add README.md`\n",
    "- if you added a file that you do not want Git to track, use the command \n",
    "\n",
    "        `git rm README.md`\n",
    "\n",
    "<br>\n",
    "*Committing files* \n",
    "- now that you've started tracking your files, you can upload them to the remote repository using the command \n",
    "\n",
    "        `git commit -m \"First Commit\" `\n",
    "- the text \"First Commit\" is a message (indicated by `-m`) that helps you track what was included in that commit (we'll get to this in the commit history section). You can personalize this message each time you commit. \n",
    "- what if you commit changes you don't want? use the command \n",
    "\n",
    "        `git reset`. \n",
    "\n",
    "<br>\n",
    "*Setting up the remote repository*\n",
    "- before you can push these changes to your remote repository, you have to tell Git where that repository exists. You can do that with the command \n",
    "\n",
    "        `git remote add origin $ONLINE_REMOTE_URL `, where the URL is the one you copied above. \n",
    "- verify that the remote exists using `git remote -v`\n",
    "\n",
    "<br>\n",
    "*Pushing to the remote*\n",
    "- once you have committed the changes, you can \"push\" these changes to your new remote repository with the command \n",
    "\n",
    "        `git push origin master` \n",
    "        \n",
    "\n",
    "<br>\n",
    "In the git bash terminal, this process looks like: \n",
    "![img]()"
   ]
  },
  {
   "cell_type": "code",
   "execution_count": null,
   "metadata": {
    "collapsed": true
   },
   "outputs": [],
   "source": []
  }
 ],
 "metadata": {
  "anaconda-cloud": {},
  "kernelspec": {
   "display_name": "Python [default]",
   "language": "python",
   "name": "python2"
  },
  "language_info": {
   "codemirror_mode": {
    "name": "ipython",
    "version": 2
   },
   "file_extension": ".py",
   "mimetype": "text/x-python",
   "name": "python",
   "nbconvert_exporter": "python",
   "pygments_lexer": "ipython2",
   "version": "2.7.12"
  }
 },
 "nbformat": 4,
 "nbformat_minor": 1
}
