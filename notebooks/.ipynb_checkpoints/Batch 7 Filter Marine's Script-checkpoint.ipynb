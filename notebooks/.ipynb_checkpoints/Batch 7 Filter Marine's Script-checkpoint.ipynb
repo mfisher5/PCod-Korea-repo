{
 "cells": [
  {
   "cell_type": "markdown",
   "metadata": {},
   "source": [
    "## Batch 7: Marine's filtering script\n",
    "\n",
    "\n",
    "My original filtering process for batch 7 (the first to use the `write_random_snp` model) did not use Marine's script. Since stacks undercalls heterozygotes using its own maximum likelihood method, it is possible that this is where the discrepancy between the contaminated individuals in batches 6 and 7 comes from. I'm going to redo my filtering steps, starting with Marine's script, and then compare observed heterozygosity for each individual between this output, previous output from batch 7, and output from batch 6. \n",
    "\n",
    "Normally, i do this using a batch script that automatically runs all of the steps. However, since I'm not sure how this will go with the write_random_snp model, I'll be doing this filtering step-by-step.\n",
    "\n",
    "\n",
    "#### 9/21/2017\n"
   ]
  },
  {
   "cell_type": "code",
   "execution_count": 1,
   "metadata": {},
   "outputs": [
    {
     "data": {
      "text/plain": [
       "u'/mnt/hgfs/Pacific cod/DataAnalysis/PCod-Korea-repo/notebooks'"
      ]
     },
     "execution_count": 1,
     "metadata": {},
     "output_type": "execute_result"
    }
   ],
   "source": [
    "pwd"
   ]
  },
  {
   "cell_type": "code",
   "execution_count": 2,
   "metadata": {},
   "outputs": [
    {
     "name": "stdout",
     "output_type": "stream",
     "text": [
      "/mnt/hgfs/Pacific cod/DataAnalysis/PCod-Korea-repo/scripts/PostStacksFiltering\n"
     ]
    }
   ],
   "source": [
    "cd ../scripts/PostStacksFiltering/"
   ]
  },
  {
   "cell_type": "code",
   "execution_count": 3,
   "metadata": {},
   "outputs": [
    {
     "name": "stdout",
     "output_type": "stream",
     "text": [
      "### PREPARE for ADDITIONAL FILTERING SCRIPTS: Remove the heading from the catalog.snps.tsv file, and add a \"_\" between Cat and ID in the batch.haplotypes.tsv file ###\r\n",
      "\r\n",
      "## Arguments: (1) catalog.snps file (absolute path preferred), (2) name for new catalog.snps file (absolute path preferred), (3) haplotypes.tsv file (absolute path preferred), (4) name for new haplotypes.tsv file (absolute path preferred). Be sure to UNZIP the appropriate files first. \r\n",
      "\r\n",
      "import sys\r\n",
      "snps = open(sys.argv[1], \"r\")\r\n",
      "new_snps = open(sys.argv[2], \"w\")\r\n",
      "haps = open(sys.argv[3], \"r\")\r\n",
      "new_haps = open(sys.argv[4], \"w\")\r\n",
      "\r\n"
     ]
    }
   ],
   "source": [
    "!head prep_for_extraFilters.py"
   ]
  },
  {
   "cell_type": "code",
   "execution_count": 5,
   "metadata": {},
   "outputs": [],
   "source": [
    "!python prep_for_extraFilters.py \\\n",
    "../../stacks_b7_wgenome/batch_7.catalog.snps.tsv \\\n",
    "../../stacks_b7_wgenome/batch_7.catalog.snps2.tsv \\\n",
    "../../stacks_b7_wgenome/batch_7.haplotypes.tsv \\\n",
    "../../stacks_b7_wgenome/batch_7.haplotypes2.tsv"
   ]
  },
  {
   "cell_type": "code",
   "execution_count": 6,
   "metadata": {},
   "outputs": [
    {
     "name": "stdout",
     "output_type": "stream",
     "text": [
      "### Argument 1 : haplotype_file\r\n",
      "### Argument 2 : output_file\r\n",
      "### Argument 3 : catalog.snp.tsv file\r\n",
      "### Argument 4 : minimum coverage required\r\n",
      "\r\n",
      "\r\n",
      "import commands\r\n",
      "import sys\r\n",
      "import glob\r\n",
      "import os\r\n"
     ]
    }
   ],
   "source": [
    "!head preparing_file_for_correcting_genotypes.py"
   ]
  },
  {
   "cell_type": "code",
   "execution_count": 7,
   "metadata": {},
   "outputs": [
    {
     "name": "stdout",
     "output_type": "stream",
     "text": [
      "2 214 G G A G G G G A G G G A G G A G G G A G G G A G A G A G A G A G A G G G G G G G G G G A G A G A G G A G G G G G G G G G G A G A G A G A G G A G A A G G A G A G A G A G A G G G G G G A G G A G G G A G A G G G G G G G G G G A G A G G G A G G A G A G A G G G G A G A G G A G G A G G G G A G G G G G G G G G A G A G G G A G G G G G A G A G A G A G G G A G A G A G G A G A G A A G A G G G G G G G G G A G G A G A G A G G G G G A G G G G G G G A G A A G G G G G G A G G A G G A A G G G A G G G A G A G G G A G A G A A G G G A G A G G G G G A G A G G G G G G G A G G G G G G A G A G\r\n",
      "3 315 T T T T T T C T T T T T T T T T T T C T T T T T T T T T T T C T T T T C T T T T T T T T T T T T T T T T C T T T T T T T T T T T T T T T T T T T T T T T T T T T T T T T T T T T T T T T T T T T T T T T T T T T T T T T T T T T T T T T T T T T T T T T T T T T T T T T T T T T T T T T T T T T C T T T T T T T T T T T T T T T T T T T T T T T T T T T T T T T T T T T T T T T T T T T T T T T T T T T T T T T T T T T T T T T T T T T T T T T T T T T T T C T C T T T T T T T T T T T T T T T T C T T T T T T T T T T T T T T T T T T T T T T T T T T T T T T T T T T T T T T T T T T T T T T T T T T T T T T T T T T T T T T T T T T T T T T T T T T T T T T T T T T\r\n",
      "5 210 T T T T C T C T C T C T C T C T C T T C T C T T C T C T C T T T C C T C T C T C T T C T T T C T T T T C T T T T T T T T T C T T T C T T T C T T C T T T C C C T C T C T T T C T C T C T T C T C T C T C T C C T C T C T T T C T C T T C T T T C T C T T C T C T C T C T C T T T T T C T C T C T C C T T C T C T T C C T C T T C C C T C C T C T C T C C T C C C C C C C C C C C T C T C C T C T C T C T C T C T C C C C C C T C T C T C T C T C T C C T C T C C T C T C T C T T C T C T C T C C T T T C T C T C T C T C T T C T T T T T T T T T C T C T T T T T T C T C T C T T C T C T T C T C T C T C T T C T C T T T T C T C T\r\n",
      "6 316 G G G G G G G G G G G G G G G G G G G G G G G G G G G G G G G G G G G G G G G G G A G G G G G A G G G G G G G G G G G G G G G G G G G G G G G G G G G G G G G G G G G G G G G G G G G G G G G G G G G G G G G G G G G G G G G G G G G G G G G G G G G G G G A G G G G G G G A G A G G G G G G G G G G G G G A G G G G G G A G G G G G G G G G G G G G G G G G G G G G G G G G G G G G G G G G G G G G G G G G G G A G G G G G G G G G G G G G A G G G G G G G G G G G G G G G G A G G A G A G G G G G G G G G G G G A G G G G G G G G G G G G G G G G A G G G A G G G G G G G G G G G G G G G G G G G G G G G G G G G G G G G G G G G G G G G G G G G G G G G G A G A G A G G A G G G G G G\r\n",
      "7 207 C C C C C C C C C C C C C C C C C C C C C C C C C C C C C C C C C C C C C C C C C C C C C C C C C C C C C C C C C C C C C C C C C C C C C C C C C C C C C C C C C C C C C C C C C C C C C C C C C C C C C C C C C C C C C C C C C C C C C C C C C C C C C C C C C C C C C C C C C C C C C C C C C C C C C C C C C C C C C C C C C C C C C C C C C C C C C C C C C C C C C C C C C C C C C C C C A C C C C C C C C C C C C C C C\r\n",
      "8 210 C C C C C C C C C C C C C C C C C C C C C C C C C C C C C C C C C C C C C C C C C C C C C C C C C C C C C C C C C C C C C C C C C C C C C C C C C C C C C C C C C C C C C C C C C C C C C C C C C C C C C C C C C C C C C C C C C C C C C C C C C C C C C C C C C C C C C C C C C C C C C C C C C C C C C C C C C C C C C C C C C C C C C C C C C C C C C C C C C C C C C C C C C C C C C C C C C C C C C C C C C C C C C C C C C A C\r\n",
      "9 313 C C C C C C C C C C C C C C C C C C C C C C C C C C C C C C C C C C C C C C C C C C C C C C C C C C C C C C C C C C C C C C C C C C C C C C C C C C C C C C C C C C C C C C C C C C C C C C C C C C C C C C C C C C C C C C C C C C C C C C C C C C C C C C C C C C C C C C C C C C C C C C C C C C C C C C C C C C C C C C C C C C C C C C C C C C C C C C C C C C C C C C C C C C C C C C C C C C C C C C C C C C C C C C C C C C C C C C C C C C C C C C C C C C C C C C C C C C C C C C C C C C C C C C C C C C C C C C C C C C C C C C C C C C C C C C C C C C C C C C C C C C C C C C C C C C C C C C C C C C C C C C C C C C C C C C C C A C\r\n",
      "10 315 C C C C C C C C C C C C C C C C C C C C C C C C C C C C C C C C C C C C C C C C C C C C C C C C C C C C C C C C C C C C C C C C C C C C C C C C C C C C C C C C C C C C C C C C C C C C C C C C C C C C C C C C C C C C C C C C C C C C C T C C C C T C C C C C C C C C T C C C C C C C T C C C C C C C T C C C C C T C C C C C C C C C C C C C C C C C C C C C C C C C C C C C C C C C C C C T C C C C C C C C C C C C C C C C C C C C C C C C C C C C C C C C C C C C C C C C C C C C C C C C C C C C C C C C C C C C C C C C C C C C C C C C C T C C C C C C C C C C C C C C C C T C T C C C C C C C C C C C C C C C C C C C C C C C C C T C C C C C C C C C C C\r\n",
      "11 312 C C C C C T C T C C C C C C C C C C C C C C C C C C C C C C C C C C C C C C C C C C C C C C T C C C C C C C C C C C C C C C C C C C C C C C C C C C C C C C C C C C C C C C C T C C C C C C C C C C C C C C C C C C C C C C C C C C C C C C T C C C C T C C C T C T C C C C C C C T C C C C C C C C C C C C C T C C C C C T C C C C C C C C C C C C C C C T C T C C C C C T C T C C C T C C T C C C T C C C C C C C C C C C C C C C C C C C C C C C C C C C C C C C T C C C C C C C C C C C C C C C C C C C C C C C C C C C C C C C C C C C C C C C C C C C C T C C C C C C C C C C C C C C C C C C C C C C C C C C C C C C C C C C C C C C C C C C C C C C C C C C C C C C C C T C T C C\r\n",
      "12 309 T T T T T T T T T T T T T T T T T T T T T T T T T T T T T T T T T T T T T T T T T T T T T T T T T T T T T T T T T T T T T T T T T T T T T T T T T T T T T T T T T T T T T T T T T T T T T T T T T T T T T T T T T T T T T T T T T T T T T T T T T T T T T T T T T T T T T T T T T T T T T T C T T T T T T T T T T T T T T T T T T T T T T T T T T T T T T T T T T T T T T T T T T T T T T T T T T T T T T T T T T T T T T T T T T T T T T T T T T T T T T T T T T T T T T T T T T T T T T T T T T T T T T T T T T T T T T T T T T T T T T T T T T T T T T T T T T T T T T T T T T T T T T T T T T T T T T T T T T T T T T T T T T T T T T T\r\n",
      "13 299 A A A T A A T A T A A A T A T A A T A T A A A A A A T A A T A A A T A A T A T A A A A A A T A A A T A T A A A A T A A A A A A A A T A A A A A A A A A T A A A T A A A T A T A A A A T A A A A A A A A A T A A A A A A A A A A A A A A A A T A A A A T A A A A T A A A A A A A A A A A A A A A A A A A A A T A T A T A A A A A A A A A A A T A A A A A A A A A A A A A A A A T A A A A A A A A A A A A A T A A T A T A A A T A A A A A T A A A A A A A A T A A T A A A A A A T A A A A A A A A A A A A A A A A A A A T A A A T A T A A A A A A A A A A A A A A A A A A A T A A T A T A A A A A A A A A A A A A A A A A T A A A A A A A A A A T A T A T A A A A A A A T A A T A A A A A A A A A A A A A A A A A T A\r\n",
      "16 317 A A A A A A A G A A A A A A A A G A A A G A A A A A A A A A A A A A A A A A A A A A A A A A A A A A A A A A A A A A A A A A A A A A A A A G A A A A A A A A A A A A A A A A G A A A A A A A A A A A A A A A A A A A A A A A A A A A A A A A A A A A A A A A A A A A A A A A A A A A A A A A A A A A A A A A A A A A A A A A A A A A A A A A A A G A A A A A A A A A A A A A A A A A A A A A A A A A A A A A A A A A A A A A A A A A A A A A A A A A A A A A A A A A G A G A A A A A A A A A A A A A A A A A A A A A A A A A A A A A A A A A A A A A A A A A A A A A G A A A G A A A A A A A A A G A A A G A G A A A A A A A A A A A A A A A A A A A A A A A A A A A A A A A A A A A\r\n",
      "17 305 T T T T T T T T T T T T C T C T T T T T T T T T T T T T T T T T T T T T T T T T T T T T T T T T T T T T T T C T T T T T T T T T T T T T T C T T T T C T T T T T T T T T T T T T T C T T T T T T T T T T T T T T T T T T T T T T T T T T T T T T T T T T T T T T T T T T T T T T T T T T T T T T C T T T T T T T T T T T T T T T T T T T T T T T C T T T C T T T T T T T T T T T T T T T T T T T T T T T T T T T T T T T T T T T T T T T T T T T T T T T T T T T T T T T T T T T T T T T T T T T T T T T T T T T T T T T T T T T T T T T T T T T T T T T T C T T T T C T T T C T T T T T T T T T T T T T C T C T T T T T T T T T T T T T T T T T T T T T T T\r\n",
      "18 306 C C C C C C C C C C C C C C C C C C C C C C C C C C C C C C C C C C C C C C C C C C C C C C C C C C C C C C C C C C C C C C C C C C C C C C C C C C C C C C C C C C C C C C C C C C C C C C C C A C C C C C C C C C C C C C C C C C C C C C C C C C C C C C C C C C C C C C C C C C C C C C C C C C C C C C C C C C C C C C C C C C C C C C C C C C C C C C C C C C C C C C C C C C C C C C C C C C C C C C C C C C C C C C C C C C C C C C C C C C C C C C C C C C C C C C C C C C C C C C C C C C C C C C C C C C C C C C C C C C C C C C C C C C C C C C C C C C C C C C C C C C C C C C C C C C C C C C C C C C C C C C C C C C C\r\n",
      "19 249 T T G T T T T T T T T G T T T T T T G T T T G T T T T T T T T T T T T G T T T G T T T T T T T T G T T T T G G T T T T T T T T T T G T T T T T T T G T T T T T T T T T T T T T T G T T T T T T T T T T T T T T T T T T T T T T T T T T T T T T T T T T G T T T T T T T T T T T T T T T T G T T T T T T T T T T T T T T T T T T T T T G T T G T G T T T T G T G T G T T T T T T T T T T T T T T T G T T T T T G T T G G T G T G T T T T T T T T T T T T T T G T T T T T T T T T T T T T T T T T T T G T G T T G T T T T T T T T G T T T T T T G T T T T T T G T G T\r\n",
      "21 206 C C C C C C C C C C C C C C C C C C C C C C C C C C C C C C C C C C C C C C C C C C C C C C C C C C C C C C C C C C C C C C C C C C C C C C C C C C C C C C C C C C C C C C C C C C C C C C C C C C C C C C C C C C C C C C C C C C C C C C C C C C C C C C C C C C C C C C C C C C C C C C C C C C C C C C C C C C C C C C C C C C C C C C C C C C C C C C C C C C C C C C C C C C C C C A C C C C C C C C C C C C C C C C C\r\n",
      "22 307 C C C C C C C C C C C C C C C C C C C C C C C C C C C C C C C C C C C C C C C C C C C C C C C C C C C C C C C C C C C C C C C C C C C C C C C C C C C C C C C C C C C C C C C C C C C C C C C C C C C C C C C C C C C C C C C C C C C C C C C C C C C C C C C C C C C C C C C C C C C C C C C C C C C C C C C C C C C C C C C C C C C C C C C C C C C C C C C C C C C C C C C C C C C C C C C C C C C C C C C C C C C C C C C C C C C C C C C C C C C C C C C C C C C C C C C C C C C C C C C C C C C C C C C C C C C C C C C C C C C C C C C C C C C C C C C C C C C C C C C C C C C C C C C A C C C C C C C C C C C C C C C C C C C C\r\n",
      "23 308 C C C C C C C C C C C C C C C C C C C C C C C C C C C C C C C C C C C C C C C C C C C C C C C C C C C C C C C C C C C C C C C C C C C C C C A C C C C C C C C C C C C C C C C C C C C C C C C C C C C C C C C C C C C C C C C C C C C C C C C C C C C C C C C C C C C C C C C C C C C C C C C C C C C C C C C C C C C C C C C C C C C C C C C C C C C C C C C C C C C C C C C C C C C C C C C C C C C C C C C C C C C C C C C C C C C C C C C C C C C C C C C C C C C C C C C C C C C C C C C C C C C C C C C C C C C C C C C C C C C C C C C C C C C C C C C C C C C C C C C C C C C C C C C C C C C C C C C C C C C C C C C C C C C C C\r\n",
      "24 315 T T T T T T T T T T T T T T T T T T T T T T T T T T T T T T T T T T T T T T T T T T T T T T T T T T T T T T T T T T T T T T T T T T T T T T T T T T T T T T T T T T T T T T T T T T T T T T T T T T T T T T T T T T T T T T T T T T T T T T T T T T T T T T T T T T T T T T T T T T T T A T T T T T T T A T T T T T T T T T T T T T T T T T T T T T T T T T T T T T T T T T T T T T T T T T T T T T T T T T T T T T T T T T T T T T T T T T T T T T T T T T T T T T T T T T T T T T T T T T T T T T T T T T T T T T T T T T T T T T T T T T T T T T T T T T T T T T T T T T T T T T T T T T T T T T T T T T T T T T T T T T T T T T T T T T T T T T T T T\r\n"
     ]
    }
   ],
   "source": [
    "!python preparing_file_for_correcting_genotypes.py \\\n",
    "../../stacks_b7_wgenome/batch_7.haplotypes2.tsv \\\n",
    "../../stacks_b7_wgenome/batch_7.biallelic_catalog.tsv \\\n",
    "../../stacks_b7_wgenome/batch_7.catalog.snps2.tsv \\\n",
    "1"
   ]
  },
  {
   "cell_type": "code",
   "execution_count": 10,
   "metadata": {
    "scrolled": true
   },
   "outputs": [
    {
     "name": "stdout",
     "output_type": "stream",
     "text": [
      "############## EDITED FROM Marine Brieuc   mbrieuc <a> uw.edu -- TO TAKE COMMAND LINE ARGUMENTS\r\n",
      "\r\n",
      "#MF 2/13/2017\r\n",
      "\r\n",
      "# argument 1- absolute path to folder containing stacks files (DON'T INCLUDE FINAL \"/\")\r\n",
      "# argument 2- population map file, used in stacks' populations\r\n",
      "# argument 3- batch #\r\n",
      "# argument 4- minimum stack depth\r\n",
      "##########################################################################################\r\n",
      "#python genotypes_verif_v2_no_ref.py\r\n"
     ]
    }
   ],
   "source": [
    "!head genotypes_verif_v2_no_ref_takeARGS.py"
   ]
  },
  {
   "cell_type": "code",
   "execution_count": null,
   "metadata": {
    "collapsed": true
   },
   "outputs": [],
   "source": [
    "!python genotypes_verif_v2_no_ref_takeARGS.py \\\n",
    "../../stacks_b7_wgenome \\\n",
    "../PopMap_L1-5.txt \\\n",
    "7 \\\n",
    "10"
   ]
  },
  {
   "cell_type": "code",
   "execution_count": 12,
   "metadata": {},
   "outputs": [
    {
     "name": "stdout",
     "output_type": "stream",
     "text": [
      "## Charles D. Waters <cwaters8@uw.edu>\r\n",
      "## 11/01/2013\r\n",
      "## This script takes the haplotype file that was output from Marine's Corrected Genotypes script (\"genotypes_verif_v2.py\") and then converts the genotypes from a,b,ab,and - to \"0101\",\"0202\",\"0102\", and \"0000\"\r\n",
      "\r\n",
      "## Argument 1: Input haplotype file of corrected genotypes, which was generated by Marine's genotypes_verif_v2.py script\r\n",
      "## Argument 2: Output file in the genepop format\r\n",
      "#python Genepop_conversion_corrected.py batch_2_corrected_genotypes_2_alleles.txt batch_2_corrected_genotypes_2_alleles_genepop.txt\r\n",
      "import sys\r\n",
      "\r\n",
      "\r\n"
     ]
    }
   ],
   "source": [
    "!head genepop_conversion_corrected.py"
   ]
  },
  {
   "cell_type": "code",
   "execution_count": 16,
   "metadata": {},
   "outputs": [],
   "source": [
    "!python genepop_conversion_corrected.py \\\n",
    "../../stacks_b7_wgenome/batch_7.CorrectedGenotypes_biallelic.txt \\\n",
    "../../stacks_b7_wgenome/batch_7.MBCorrectedGenotypes_biallelic_gen"
   ]
  },
  {
   "cell_type": "code",
   "execution_count": 17,
   "metadata": {},
   "outputs": [
    {
     "name": "stdout",
     "output_type": "stream",
     "text": [
      "#### This script adds in the word \"sample\" to your column headers for the genepop file, filtered by Marine's scripts###\r\n",
      "\r\n",
      "### Mostly for use with BASH_finalfilters. ASSUMES THIS FILE NAMING SCHEME ###\r\n",
      "\r\n",
      "## argument 1 - Absolute path to stacks files (or wherever the filtered genepop file is), without final \"/\"\r\n",
      "## argument 2 - batch #\r\n",
      "\r\n",
      "##########################################################################\r\n",
      "\r\n",
      "import sys\r\n"
     ]
    }
   ],
   "source": [
    "## THIS script would normally be next, but I'm just going to add manually ##\n",
    "!head add_sample_to_genepop.py"
   ]
  },
  {
   "cell_type": "code",
   "execution_count": 18,
   "metadata": {},
   "outputs": [
    {
     "name": "stdout",
     "output_type": "stream",
     "text": [
      "## This script was written by Dan Drinan and transposes the rows and columns of a haplotype file\r\n",
      "#python transpose.py batch_2_corrected_genotypes_2_alleles_genepop.txt batch_2_corrected_genotypes_2_alleles_genepop_transposed.txt\r\n",
      "\r\n",
      "import sys\r\n",
      "\r\n",
      "input_file = open(sys.argv[1], 'r')\r\n",
      "\r\n",
      "header = True\r\n",
      "matrix_of_data = []\r\n",
      "\r\n"
     ]
    }
   ],
   "source": [
    "!head transpose.py"
   ]
  },
  {
   "cell_type": "code",
   "execution_count": 19,
   "metadata": {
    "collapsed": true
   },
   "outputs": [],
   "source": [
    "!python transpose.py \\\n",
    "../../stacks_b7_wgenome/batch_7.MBCorrectedGenotypes_biallelic_gen \\\n",
    "../../stacks_b7_wgenome/batch_7.MBCorrectedGenotypes_biallelic_gen_transposed"
   ]
  },
  {
   "cell_type": "code",
   "execution_count": 20,
   "metadata": {},
   "outputs": [
    {
     "name": "stdout",
     "output_type": "stream",
     "text": [
      "### CONVERT filtered and transposed GENEPOP TO CSV FILE FOR MAF FILTERING: replace all tabs with commas ###\r\n",
      "## MOSTLY For use with BASH_finalfilters.py ##\r\n",
      "\r\n",
      "## argument 1 - absolute path to stacks files\r\n",
      "## argument 2 - batch #\r\n",
      "\r\n",
      "#MF 2/13/2017\r\n",
      "\r\n",
      "###########################################\r\n",
      "\r\n"
     ]
    }
   ],
   "source": [
    "## Would normally use this script, but I'm just going to do this manually in notepad ##\n",
    "!head convert_genepop_to_csv.py"
   ]
  },
  {
   "cell_type": "code",
   "execution_count": 21,
   "metadata": {},
   "outputs": [
    {
     "name": "stdout",
     "output_type": "stream",
     "text": [
      "### This file generates Eleni's MAF filtering file ###\r\n",
      "\r\n",
      "## MF 2/24/2017\r\n",
      "\r\n",
      "## Arguments: \r\n",
      "##-- population map\r\n",
      "\r\n",
      "\r\n",
      "\r\n",
      "#########################\r\n"
     ]
    }
   ],
   "source": [
    "!head genMAFfiltering.py"
   ]
  },
  {
   "cell_type": "code",
   "execution_count": 22,
   "metadata": {},
   "outputs": [
    {
     "name": "stdout",
     "output_type": "stream",
     "text": [
      "You have 9 populations.\r\n",
      "These are your populations, with the number of samples in each:\r\n",
      "OrderedDict([('Pohang15', 34), ('Geoje15', 37), ('Namhae15', 19), ('YellowSea16', 30), ('Jukbyeon07', 37), ('JinhaeBay07', 53), ('JinhaeBay08', 56), ('Boryeong07', 24), ('Geoje14', 36)])\r\n"
     ]
    }
   ],
   "source": [
    "!python genMAFfiltering.py ../PopMap_L1-5.txt"
   ]
  },
  {
   "cell_type": "code",
   "execution_count": 26,
   "metadata": {
    "scrolled": true
   },
   "outputs": [
    {
     "name": "stdout",
     "output_type": "stream",
     "text": [
      "### This scripts corrects for minor allele frequency\r\n",
      "#Adjusted from Eleni's script (June 15,2015) to take arguments\r\n",
      "#MF 2/24/2017\r\n",
      "\r\n",
      "#################\r\n",
      "\r\n",
      "\r\n",
      "import sys\r\n",
      "\r\n",
      "# Open your files for reading and writing\r\n",
      "genotypes_file = open(sys.argv[1],'r')\r\n",
      "output_freqs = open(sys.argv[2],'w')\r\n",
      "filtered_genotypes = open(sys.argv[3],'w')\r\n",
      "blacklisted_genotypes = open(sys.argv[4],'w')\r\n",
      "blacklisted_MAF = open(sys.argv[5],'w')\r\n",
      "\r\n",
      "# Tell the computer that your files have headers\r\n",
      "header = True\r\n",
      "\r\n",
      "# This code creates a list of each allele for each population. This will be the headers for the file that outputs the allele frequencies. Modify as needed.\r\n"
     ]
    }
   ],
   "source": [
    "!head -n 20 Eleni_filter_by_MinorAlleleFrequency_takeARGS_b7.py"
   ]
  },
  {
   "cell_type": "code",
   "execution_count": null,
   "metadata": {
    "collapsed": true
   },
   "outputs": [],
   "source": [
    "!python Eleni_filter_by_MinorAlleleFrequency_takeARGS_b7.py \\\n",
    "../../stacks_b7_wgenome/batch_7.MBCorrectedGenotypes_biallelic_gen_transposed.csv \\\n",
    "../../stacks_b7_wgenome/batch_7.MBCorrectedGenotypes_MAFfreqs \\\n",
    "../../stacks_b7_wgenome/batch_7.MBCorrectedGenotypes_filteredMAF \\\n",
    "../../stacks_b7_wgenome/batch_7.MBCorrectedGenotypes_MAFbad \\\n",
    "../../stacks_b7_wgenome/batch_7.MBCorrectedGenotypes_MAFfreqs_bad"
   ]
  },
  {
   "cell_type": "code",
   "execution_count": 29,
   "metadata": {},
   "outputs": [
    {
     "name": "stdout",
     "output_type": "stream",
     "text": [
      "### This file generates Eleni's Missing Loci filtering file ###\r\n",
      "\r\n",
      "## MF 2/24/2017\r\n",
      "\r\n",
      "## Arguments: \r\n",
      "##-- population map\r\n",
      "\r\n",
      "\r\n",
      "\r\n",
      "#########################\r\n"
     ]
    }
   ],
   "source": [
    "!head genMissingLoci.py"
   ]
  },
  {
   "cell_type": "code",
   "execution_count": 30,
   "metadata": {},
   "outputs": [
    {
     "name": "stdout",
     "output_type": "stream",
     "text": [
      "You have 9 populations.\r\n",
      "These are your populations, with the number of samples in each:\r\n",
      "OrderedDict([('Pohang15', 34), ('Geoje15', 37), ('Namhae15', 19), ('YellowSea16', 30), ('Jukbyeon07', 37), ('JinhaeBay07', 53), ('JinhaeBay08', 56), ('Boryeong07', 24), ('Geoje14', 36)])\r\n"
     ]
    }
   ],
   "source": [
    "!python genMissingLoci.py ../PopMap_L1-5.txt"
   ]
  },
  {
   "cell_type": "markdown",
   "metadata": {},
   "source": [
    "*checked column indices in script and changed cutoff from 0.50 to 0.20*"
   ]
  },
  {
   "cell_type": "code",
   "execution_count": 32,
   "metadata": {},
   "outputs": [
    {
     "name": "stdout",
     "output_type": "stream",
     "text": [
      "### This scripts removes loci with too much missing data (you set the threshold)\r\n",
      "#Adjusted from Eleni's script (June 15,2015) to take arguments\r\n",
      "#MF 2/28/2017\r\n",
      "\r\n",
      "#################\r\n",
      "\r\n",
      "\r\n",
      "import sys\r\n",
      "\r\n",
      "# Open your files for reading and writing\r\n",
      "genotypes_file = open(sys.argv[1],'r')\r\n",
      "clean_output_file = open(sys.argv[2],'w')\r\n",
      "blacklisted_output_file = open(sys.argv[3], 'w')\r\n",
      "\r\n",
      "\r\n",
      "#run for loop to counting missing genotypes by locus for each population\r\n",
      "\r\n",
      "count = 0\r\n",
      "bad_count = 0\r\n",
      "\r\n"
     ]
    }
   ],
   "source": [
    "!head -n 20 FilterLoci_by_MissingValues_b7.py"
   ]
  },
  {
   "cell_type": "code",
   "execution_count": 34,
   "metadata": {},
   "outputs": [
    {
     "name": "stdout",
     "output_type": "stream",
     "text": [
      "processed 7485 loci\r\n",
      "Number of loci removed: 3497\r\n"
     ]
    }
   ],
   "source": [
    "!python FilterLoci_by_MissingValues_b7.py \\\n",
    "../../stacks_b7_wgenome/batch_7.MBCorrectedGenotypes_filteredMAF \\\n",
    "../../stacks_b7_wgenome/batch_7.MBCorrectedGenotypes_filteredMAF_filteredLoci \\\n",
    "../../stacks_b7_wgenome/batch_7.MBCorrectedGenotypes_filteredMAF_filteredLoci_BAD"
   ]
  },
  {
   "cell_type": "code",
   "execution_count": 35,
   "metadata": {},
   "outputs": [
    {
     "data": {
      "text/plain": [
       "3988"
      ]
     },
     "execution_count": 35,
     "metadata": {},
     "output_type": "execute_result"
    }
   ],
   "source": [
    "7485-3497"
   ]
  },
  {
   "cell_type": "markdown",
   "metadata": {},
   "source": [
    "** I need to filter individuals for missing data before filtering loci for missing data. **"
   ]
  },
  {
   "cell_type": "code",
   "execution_count": 36,
   "metadata": {},
   "outputs": [
    {
     "name": "stdout",
     "output_type": "stream",
     "text": [
      "usage: filter_individs_missing_data.py [-h] [-f INPUT] [-og OUTPUT_GOOD]\r\n",
      "                                       [-ob OUTPUT_BAD]\r\n",
      "                                       [-op OUTPUT_PROPORTIONS]\r\n",
      "                                       [-s STACKS_PATH] [-p PERCENT]\r\n",
      "\r\n",
      "filter individuals for missing data. assumes input file has individuals as\r\n",
      "column headers\r\n",
      "\r\n",
      "optional arguments:\r\n",
      "  -h, --help            show this help message and exit\r\n",
      "  -f INPUT, --input INPUT\r\n",
      "                        genotype file in 2 x 2 matrix\r\n",
      "  -og OUTPUT_GOOD, --output_good OUTPUT_GOOD\r\n",
      "                        output file containing 'good' loci\r\n",
      "  -ob OUTPUT_BAD, --output_bad OUTPUT_BAD\r\n",
      "                        output file containing 'bad' loci\r\n",
      "  -op OUTPUT_PROPORTIONS, --output_proportions OUTPUT_PROPORTIONS\r\n",
      "                        output file containing the missing data per individual\r\n",
      "  -s STACKS_PATH, --stacks_path STACKS_PATH\r\n",
      "                        path to the directory containing your stacks files\r\n",
      "  -p PERCENT, --percent PERCENT\r\n",
      "                        threshold to remove missing data: ___ percent or more\r\n",
      "                        loci missing genotypes\r\n"
     ]
    }
   ],
   "source": [
    "!python filter_individs_missing_data.py -h"
   ]
  },
  {
   "cell_type": "code",
   "execution_count": 37,
   "metadata": {},
   "outputs": [
    {
     "name": "stdout",
     "output_type": "stream",
     "text": [
      "Transposing matrix...\n",
      "calculating which individuals are missing too much data...\n",
      "Deleting temporary file...\n",
      "writing individuals to files...\n",
      "done.\n",
      "Total individuals processed:  0\n",
      "Individuals retained:  0\n",
      "Individuals removed:  0\n",
      "Missing data info per individual can be found in the 'proportions' output file.\n"
     ]
    }
   ],
   "source": [
    "!python filter_individs_missing_data.py \\\n",
    "-f batch_7.MBCorrectedGenotypes_filteredMAF \\\n",
    "-og batch_7.MBCorrectedGenotypes_filteredMAF_filteredIndivids30 \\\n",
    "-ob batch_7.MBCorrectedGenotypes_filteredMAF_filteredIndivids30_BAD \\\n",
    "-op batch_7.MBCorrectedGenotypes_filteredMAF_filteredIndivids30_props \\\n",
    "-s ../../stacks_b7_wgenome \\\n",
    "-p 0.30"
   ]
  },
  {
   "cell_type": "markdown",
   "metadata": {},
   "source": [
    "*Did filtering manually instead*"
   ]
  },
  {
   "cell_type": "code",
   "execution_count": 40,
   "metadata": {},
   "outputs": [
    {
     "name": "stdout",
     "output_type": "stream",
     "text": [
      "### This scripts removes loci with too much missing data (you set the threshold)\r\n",
      "#Adjusted from Eleni's script (June 15,2015) to take arguments\r\n",
      "#MF 2/28/2017\r\n",
      "\r\n",
      "#################\r\n",
      "\r\n",
      "\r\n",
      "import sys\r\n",
      "\r\n",
      "# Open your files for reading and writing\r\n",
      "genotypes_file = open(sys.argv[1],'r')\r\n",
      "clean_output_file = open(sys.argv[2],'w')\r\n",
      "blacklisted_output_file = open(sys.argv[3], 'w')\r\n",
      "\r\n",
      "\r\n",
      "#run for loop to counting missing genotypes by locus for each population\r\n",
      "\r\n",
      "count = 0\r\n",
      "bad_count = 0\r\n",
      "\r\n"
     ]
    }
   ],
   "source": [
    "!head -n 20 FilterLoci_by_MissingValues_b7.py"
   ]
  },
  {
   "cell_type": "code",
   "execution_count": 42,
   "metadata": {},
   "outputs": [
    {
     "name": "stdout",
     "output_type": "stream",
     "text": [
      "processed 7487 loci\r\n",
      "Number of loci removed: 1771\r\n"
     ]
    }
   ],
   "source": [
    "!python FilterLoci_by_MissingValues_b7.py \\\n",
    "../../stacks_b7_wgenome/batch_7.MBCorrectedGenotypes_filteredMAF_filteredIndivids30.csv \\\n",
    "../../stacks_b7_wgenome/batch_7.MBCorrectedGenotypes_filteredMAF_filteredIndivids30_filteredLoci \\\n",
    "../../stacks_b7_wgenome/batch_7.MBCorrectedGenotypes_filteredMAF_filteredIndivids30_filteredLoci_BAD \\"
   ]
  },
  {
   "cell_type": "code",
   "execution_count": 43,
   "metadata": {},
   "outputs": [
    {
     "data": {
      "text/plain": [
       "5716"
      ]
     },
     "execution_count": 43,
     "metadata": {},
     "output_type": "execute_result"
    }
   ],
   "source": [
    "7487 - 1771"
   ]
  },
  {
   "cell_type": "markdown",
   "metadata": {},
   "source": [
    "### HARDY-WEINBERG FILTER\n"
   ]
  },
  {
   "cell_type": "code",
   "execution_count": 44,
   "metadata": {},
   "outputs": [
    {
     "name": "stdout",
     "output_type": "stream",
     "text": [
      "usage: csv_conversion_forGENEPOP.py [-h] [-f INPUT] [-o OUTPUT] [-m POPMAP]\r\n",
      "                                    [-pm PATH_POPMAP] [-ps PATH_STACKS]\r\n",
      "                                    [-t TITLE] [-split SPLIT_BY]\r\n",
      "\r\n",
      "convert matrix file (samples as column headers) to a genepop file.\r\n",
      "\r\n",
      "optional arguments:\r\n",
      "  -h, --help            show this help message and exit\r\n",
      "  -f INPUT, --input INPUT\r\n",
      "                        2 x 2 matrix file with samples as column headers, one\r\n",
      "                        row per locus.\r\n",
      "  -o OUTPUT, --output OUTPUT\r\n",
      "                        output file in genepop format\r\n",
      "  -m POPMAP, --popmap POPMAP\r\n",
      "                        population map file\r\n",
      "  -pm PATH_POPMAP, --path_popmap PATH_POPMAP\r\n",
      "                        path to population map file\r\n",
      "  -ps PATH_STACKS, --path_stacks PATH_STACKS\r\n",
      "                        path to stacks files, including input file\r\n",
      "  -t TITLE, --title TITLE\r\n",
      "                        title for your genepop file\r\n",
      "  -split SPLIT_BY, --split_by SPLIT_BY\r\n",
      "                        split contents of each line by... ['tab' / 'space']\r\n"
     ]
    }
   ],
   "source": [
    "!python csv_conversion_forGENEPOP.py -h"
   ]
  },
  {
   "cell_type": "code",
   "execution_count": 47,
   "metadata": {},
   "outputs": [
    {
     "name": "stdout",
     "output_type": "stream",
     "text": [
      "You have 9 populations.\n",
      "These are your populations, with the number of samples in each:\n",
      "OrderedDict([('Pohang15', 34), ('Geoje15', 37), ('Namhae15', 19), ('YellowSea16', 30), ('Jukbyeon07', 36), ('JinhaeBay07', 39), ('JinhaeBay08', 44), ('Boryeong07', 24), ('Geoje14', 35)])\n",
      "creating script for part 2...\n",
      "calling script for part 2...\n",
      "transposing genotypes matrix...\n",
      "writing loci into genepop file...\n",
      "writing genotypes into genepop file by population...\n",
      "done.\n"
     ]
    }
   ],
   "source": [
    "!python csv_conversion_forGENEPOP.py \\\n",
    "-f batch_7.MBCorrectedGenotypes_filteredMAF_filteredIndivids30_filteredLoci \\\n",
    "-o batch_7_MBCorrectedGenotypes_filteredMAF_filteredIndivids30_filteredLoci_gen.txt \\\n",
    "-m PopMap_L1-5_MBmdFilter_b7.txt \\\n",
    "-pm ../ \\\n",
    "-ps ../../stacks_b7_wgenome \\\n",
    "-t \"# Batch 7 Korea Pacific cod - with MB Correcting Genotypes Script\" \\\n",
    "-split \"comma\""
   ]
  },
  {
   "cell_type": "code",
   "execution_count": 48,
   "metadata": {},
   "outputs": [
    {
     "data": {
      "text/plain": [
       "u'/mnt/hgfs/Pacific cod/DataAnalysis/PCod-Korea-repo/scripts/PostStacksFiltering'"
      ]
     },
     "execution_count": 48,
     "metadata": {},
     "output_type": "execute_result"
    }
   ],
   "source": [
    "pwd"
   ]
  },
  {
   "cell_type": "markdown",
   "metadata": {},
   "source": [
    "<br>\n",
    "<br>\n",
    "**PARSE GENEPOP**"
   ]
  },
  {
   "cell_type": "code",
   "execution_count": 49,
   "metadata": {},
   "outputs": [
    {
     "name": "stdout",
     "output_type": "stream",
     "text": [
      "/mnt/hgfs/Pacific cod/DataAnalysis/PCod-Korea-repo/analyses/genepop\n"
     ]
    }
   ],
   "source": [
    "cd ../../analyses/genepop"
   ]
  },
  {
   "cell_type": "code",
   "execution_count": 50,
   "metadata": {
    "collapsed": true
   },
   "outputs": [],
   "source": [
    "!mkdir batch_7_MB"
   ]
  },
  {
   "cell_type": "code",
   "execution_count": 51,
   "metadata": {},
   "outputs": [
    {
     "name": "stdout",
     "output_type": "stream",
     "text": [
      "/mnt/hgfs/Pacific cod/DataAnalysis/PCod-Korea-repo/analyses/genepop/batch_7_MB\n"
     ]
    }
   ],
   "source": [
    "cd batch_7_MB"
   ]
  },
  {
   "cell_type": "code",
   "execution_count": 52,
   "metadata": {},
   "outputs": [
    {
     "name": "stdout",
     "output_type": "stream",
     "text": [
      "/mnt/hgfs/Pacific cod/DataAnalysis/PCod-Korea-repo/analyses\n"
     ]
    }
   ],
   "source": [
    "cd ../../"
   ]
  },
  {
   "cell_type": "code",
   "execution_count": 53,
   "metadata": {
    "scrolled": true
   },
   "outputs": [
    {
     "name": "stdout",
     "output_type": "stream",
     "text": [
      "usage: parse_genepop_HWEbylocus.py [-h] [-p P] [-op OUTPUTPVAL]\r\n",
      "                                   [-of OUTPUTFIS]\r\n",
      "\r\n",
      "optional arguments:\r\n",
      "  -h, --help            show this help message and exit\r\n",
      "  -p P, --P P           path & name of .P file output from genepop\r\n",
      "  -op OUTPUTPVAL, --OUTPUTpval OUTPUTPVAL\r\n",
      "                        path & name of the output file for the parsed HWE\r\n",
      "                        pvalues\r\n",
      "  -of OUTPUTFIS, --OUTPUTfis OUTPUTFIS\r\n",
      "                        path & name of the output file for the parsed Fis\r\n",
      "                        values\r\n"
     ]
    }
   ],
   "source": [
    "!python parse_genepop_HWEbylocus.py -h"
   ]
  },
  {
   "cell_type": "code",
   "execution_count": 64,
   "metadata": {},
   "outputs": [
    {
     "name": "stdout",
     "output_type": "stream",
     "text": [
      "generating dictionaries of pvalues and fis values...\n",
      "writing output to files...\n",
      "done.\n"
     ]
    }
   ],
   "source": [
    "!python parse_genepop_HWEbylocus.py \\\n",
    "-p ../stacks_b7_wgenome/batch_7_MBCorrectedGenotypes_filteredMAF_filteredIndivids30_filteredLoci_gen.txt.P \\\n",
    "-op genepop/batch_7_MB/batch_7_MB_HWEpvals_parsed.txt \\\n",
    "-of genepop/batch_7_MB/batch_7_MB_HWEfis_parsed.txt"
   ]
  },
  {
   "cell_type": "code",
   "execution_count": 65,
   "metadata": {},
   "outputs": [
    {
     "name": "stdout",
     "output_type": "stream",
     "text": [
      "/mnt/hgfs/Pacific cod/DataAnalysis/PCod-Korea-repo/analyses/genepop/batch_7_MB\n"
     ]
    }
   ],
   "source": [
    "cd genepop/batch_7_MB/"
   ]
  },
  {
   "cell_type": "code",
   "execution_count": 66,
   "metadata": {
    "collapsed": true
   },
   "outputs": [],
   "source": [
    "infile = open(\"batch_7_MB_HWEpvals_parsed.txt\", \"r\")\n",
    "\n",
    "percents = []\n",
    "loci_list = []\n",
    "na_count = 0\n",
    "\n",
    "for line in infile:\n",
    "    if \"locus\" not in line:\n",
    "        if line.strip().split()[10]:\n",
    "            new_percent = float(line.strip().split()[10])\n",
    "            percents.append(new_percent)\n",
    "            loci_list.append(line.strip().split()[0])\n",
    "\n",
    "infile.close()"
   ]
  },
  {
   "cell_type": "code",
   "execution_count": 67,
   "metadata": {
    "collapsed": true
   },
   "outputs": [],
   "source": [
    "import numpy as np\n",
    "import matplotlib.pyplot as plt"
   ]
  },
  {
   "cell_type": "code",
   "execution_count": 68,
   "metadata": {},
   "outputs": [
    {
     "data": {
      "image/png": "[encoded data removed]",
      "text/plain": [
       "<matplotlib.figure.Figure at 0x7f19066cbd50>"
      ]
     },
     "metadata": {},
     "output_type": "display_data"
    }
   ],
   "source": [
    "plt.hist(percents, bins = np.arange(-0.1, 1, .0625)+0.05, color = \"darkcyan\")\n",
    "plt.suptitle(\"Distribution of % of populations out of HWE\")\n",
    "plt.xlabel(\"% of populations out of HWE (by locus)\")\n",
    "plt.ylabel(\"# Loci\")\n",
    "plt.show()"
   ]
  },
  {
   "cell_type": "code",
   "execution_count": 69,
   "metadata": {
    "collapsed": true
   },
   "outputs": [],
   "source": [
    "plt.close()"
   ]
  },
  {
   "cell_type": "code",
   "execution_count": 70,
   "metadata": {
    "collapsed": true
   },
   "outputs": [],
   "source": [
    "from scipy.stats import chisqprob\n",
    "import numpy as np"
   ]
  },
  {
   "cell_type": "markdown",
   "metadata": {},
   "source": [
    "** CHI SQUARE TEST: ID LOCI OUT OF HWE**"
   ]
  },
  {
   "cell_type": "code",
   "execution_count": 72,
   "metadata": {},
   "outputs": [
    {
     "name": "stdout",
     "output_type": "stream",
     "text": [
      "You have  505  loci out of HWE.\n"
     ]
    }
   ],
   "source": [
    "## STEP ONE: conduct chisquare and determine loci out of HWE. \n",
    "## write results to a file and save a list of the loci out of HWE. \n",
    "\n",
    "infile = open(\"batch_7_MB_HWEpvals_parsed.txt\", \"r\")\n",
    "outfile = open(\"batch_7_MB_HWEchisquare.txt\", \"w\")\n",
    "\n",
    "outfile.write(\"locus\\tChiSquare\\tdf\\tpvalue\\n\")\n",
    "\n",
    "sig_count = 0\n",
    "loci_to_discard = []\n",
    "\n",
    "for line in infile:\n",
    "    if \"locus\" not in line:\n",
    "        linelist= line.strip().split()\n",
    "        outfile.write(linelist[0]) #write locus name to outfile\n",
    "        sum = 0 #sum of ln(pvals)\n",
    "        n_pops = 0 # number of pops with pvals (some will have NAs)\n",
    "        for i in range(1,8):\n",
    "            if linelist[i] != \"NA\" and float(linelist[i]) == 0.0:\n",
    "                newval = np.log(float(0.00000000001))\n",
    "                sum += newval\n",
    "                n_pops += 1\n",
    "            elif linelist[i] != \"NA\" and float(linelist[i]) != 0.0:\n",
    "                newval = np.log(float(linelist[i]))\n",
    "                sum += newval\n",
    "                n_pops += 1\n",
    "        chisquare = float(-2) * float(sum)\n",
    "        df = n_pops * 2\n",
    "        outfile.write(\"\\t\" + str(chisquare) + \"\\t\" + str(df))\n",
    "        pvalue = chisqprob(chisquare,df)\n",
    "        if pvalue < 0.05:\n",
    "            sig_count += 1\n",
    "            loci_to_discard.append(linelist[0])\n",
    "        outfile.write(\"\\t\" + str(pvalue) + \"\\n\")\n",
    "infile.close()\n",
    "outfile.close()\n",
    "\n",
    "print \"You have \", sig_count, \" loci out of HWE.\""
   ]
  },
  {
   "cell_type": "code",
   "execution_count": 73,
   "metadata": {},
   "outputs": [
    {
     "name": "stdout",
     "output_type": "stream",
     "text": [
      "5209  loci written to output file.\n"
     ]
    }
   ],
   "source": [
    "## STEP TWO: rewrite the file of HWEpvals by locus by population, \n",
    "## excluding those loci out of HWE. \n",
    "\n",
    "infile = open(\"batch_7_MB_HWEpvals_parsed.txt\", \"r\")\n",
    "outfile = open(\"batch_7_MB_HWEpvals_filtered.txt\", \"w\")\n",
    "\n",
    "locus_count = 0\n",
    "\n",
    "for line in infile:\n",
    "    if line.startswith(\"#\"):\n",
    "        outfile.write(\"# parsed GENEPOP output, HWE p-values by locus by population FILTERED #\\n\")\n",
    "    elif line.startswith(\"locus\"):\n",
    "        outfile.write(line)\n",
    "    else:\n",
    "        locus = line.strip().split()[0]\n",
    "        if locus not in loci_to_discard:\n",
    "            outfile.write(line)\n",
    "            locus_count += 1\n",
    "infile.close()\n",
    "outfile.close()\n",
    "print locus_count, \" loci written to output file.\""
   ]
  },
  {
   "cell_type": "code",
   "execution_count": 74,
   "metadata": {
    "collapsed": true
   },
   "outputs": [],
   "source": [
    "\n",
    "infile = open(\"batch_7_MB_HWEpvals_filtered.txt\", \"r\")\n",
    "\n",
    "percents = []\n",
    "loci_list = []\n",
    "\n",
    "for line in infile:\n",
    "    if \"locus\" not in line and \"#\" not in line:\n",
    "        new_percent = float(line.strip().split()[10])\n",
    "        percents.append(new_percent)\n",
    "        loci_list.append(line.strip().split()[0])\n",
    "\n",
    "infile.close()"
   ]
  },
  {
   "cell_type": "code",
   "execution_count": 75,
   "metadata": {},
   "outputs": [
    {
     "data": {
      "image/png": "[encoded data removed]",
      "text/plain": [
       "<matplotlib.figure.Figure at 0x7f18ff821e50>"
      ]
     },
     "metadata": {},
     "output_type": "display_data"
    }
   ],
   "source": [
    "plt.hist(percents, bins = np.arange(-0.1, 1.1, .05)+0.05, color = \"darkcyan\")\n",
    "plt.suptitle(\"POST HWE FILTER: Distribution of % of populations out of HWE\")\n",
    "plt.xlabel(\"% of populations out of HWE (by locus)\")\n",
    "plt.ylabel(\"# Loci\")\n",
    "plt.show()"
   ]
  },
  {
   "cell_type": "code",
   "execution_count": 76,
   "metadata": {
    "collapsed": true
   },
   "outputs": [],
   "source": [
    "plt.close()"
   ]
  },
  {
   "cell_type": "markdown",
   "metadata": {},
   "source": [
    "**REMOVE LOCI OUT OF HWE FROM GENEPOP FILE**"
   ]
  },
  {
   "cell_type": "code",
   "execution_count": 77,
   "metadata": {},
   "outputs": [
    {
     "data": {
      "text/plain": [
       "u'/mnt/hgfs/Pacific cod/DataAnalysis/PCod-Korea-repo/analyses/genepop/batch_7_MB'"
      ]
     },
     "execution_count": 77,
     "metadata": {},
     "output_type": "execute_result"
    }
   ],
   "source": [
    "pwd"
   ]
  },
  {
   "cell_type": "code",
   "execution_count": 78,
   "metadata": {},
   "outputs": [
    {
     "name": "stdout",
     "output_type": "stream",
     "text": [
      "/mnt/hgfs/Pacific cod/DataAnalysis/PCod-Korea-repo/analyses\n"
     ]
    }
   ],
   "source": [
    "cd ../../"
   ]
  },
  {
   "cell_type": "code",
   "execution_count": 82,
   "metadata": {},
   "outputs": [
    {
     "name": "stdout",
     "output_type": "stream",
     "text": [
      "Preparing to copy  5209  loci from old file\n",
      "\n",
      "Wrote  5209  loci to new matrix file.\n",
      "Removed  507  loci.\n",
      "All loci to keep were copied.\n"
     ]
    }
   ],
   "source": [
    "old = open(\"../stacks_b7_wgenome/batch_7.MBCorrectedGenotypes_filteredMAF_filteredIndivids30_filteredLoci\", \"r\")\n",
    "locifile = open(\"genepop/batch_7_MB/batch_7_MB_HWEpvals_filtered.txt\", \"r\")\n",
    "new = open(\"../stacks_b7_wgenome/batch_7.MBCorrectedGenotypes_filteredMAF_filteredIndivids30_filteredLoci_filteredHWE.txt\", \"w\")\n",
    "blacklisted = open(\"../stacks_b7_wgenome/batch_7.MBCorrectedGenotypes_filteredMAF_filteredIndivids_filteredLoci_filteredHWE_BAD.txt\", \"w\")\n",
    "\n",
    "## Note that my matrix file here has loci as column header, so I need to transpose it!\n",
    "data_matrix = []\n",
    "for line in old:\n",
    "\ttmp_line = ''\n",
    "\ttmp_line += line.strip()\n",
    "\tdata_matrix.append(tmp_line.split(','))\n",
    "old.close()\n",
    "\n",
    "#write sample names to new file\n",
    "new.write(\"\\t\".join(data_matrix[0]) + \"\\n\")\n",
    "blacklisted.write(\"\\t\".join(data_matrix[0]) + \"\\n\")\n",
    "\n",
    "#get list of loci that should be retained\n",
    "loci_to_keep = []\n",
    "\n",
    "for line in locifile: \n",
    "    if \"locus\" not in line:\n",
    "        loci_to_keep.append(line.strip().split()[0]) \n",
    "locifile.close()\n",
    "\n",
    "print \"Preparing to copy \", len(loci_to_keep), \" loci from old file\"\n",
    "print \"\"\n",
    "\n",
    "\n",
    "cp_count = 0\n",
    "rm_count = 0\n",
    "loci_kept = []\n",
    "\n",
    "for line in data_matrix[1:]: \n",
    "    locusID = line[0]\n",
    "    if locusID in loci_to_keep:\n",
    "        new.write(\"\\t\".join(line) + \"\\n\")\n",
    "        cp_count += 1\n",
    "        loci_kept.append(locusID)\n",
    "    else:\n",
    "        blacklisted.write(\"\\t\".join(line) + \"\\n\")\n",
    "        rm_count += 1\n",
    "new.close()\n",
    "blacklisted.close()\n",
    "\n",
    "print \"Wrote \", cp_count, \" loci to new matrix file.\"\n",
    "print \"Removed \", rm_count, \" loci.\"\n",
    "\n",
    "if len([i for i in loci_to_keep if i in loci_kept]) == len(loci_to_keep):\n",
    "    print \"All loci to keep were copied.\"\n",
    "else:\n",
    "    print \"uhoh! not all loci to keep were copied.\"\n",
    "    print \"the following loci were not copied over:\"\n",
    "    print [i for i in loci_to_keep if i not in loci_kept]"
   ]
  },
  {
   "cell_type": "markdown",
   "metadata": {},
   "source": [
    "\n",
    "\n",
    "<br>\n",
    "\n",
    "### Heterozygosity and Read Depth"
   ]
  },
  {
   "cell_type": "code",
   "execution_count": 83,
   "metadata": {},
   "outputs": [
    {
     "data": {
      "text/plain": [
       "u'/mnt/hgfs/Pacific cod/DataAnalysis/PCod-Korea-repo/analyses'"
      ]
     },
     "execution_count": 83,
     "metadata": {},
     "output_type": "execute_result"
    }
   ],
   "source": [
    "pwd"
   ]
  },
  {
   "cell_type": "markdown",
   "metadata": {},
   "source": [
    "** CONVERT END FILTERED FILE TO GENEPOP FORMAT**"
   ]
  },
  {
   "cell_type": "code",
   "execution_count": 85,
   "metadata": {},
   "outputs": [
    {
     "name": "stdout",
     "output_type": "stream",
     "text": [
      "/mnt/hgfs/Pacific cod/DataAnalysis/PCod-Korea-repo/scripts/PostStacksFiltering\n"
     ]
    }
   ],
   "source": [
    "cd ../scripts/PostStacksFiltering/"
   ]
  },
  {
   "cell_type": "code",
   "execution_count": 91,
   "metadata": {
    "scrolled": false
   },
   "outputs": [
    {
     "name": "stdout",
     "output_type": "stream",
     "text": [
      "You have 9 populations.\n",
      "These are your populations, with the number of samples in each:\n",
      "OrderedDict([('Pohang15', 34), ('Geoje15', 37), ('Namhae15', 19), ('YellowSea16', 30), ('Jukbyeon07', 36), ('JinhaeBay07', 39), ('JinhaeBay08', 44), ('Boryeong07', 24), ('Geoje14', 35)])\n",
      "creating script for part 2...\n",
      "calling script for part 2...\n",
      "transposing genotypes matrix...\n",
      "writing loci into genepop file...\n",
      "writing genotypes into genepop file by population...\n",
      "done.\n"
     ]
    }
   ],
   "source": [
    "!python csv_conversion_forGENEPOP.py \\\n",
    "-f batch_7.MBCorrectedGenotypes_filteredMAF_filteredIndivids30_filteredLoci_filteredHWE.txt \\\n",
    "-o batch_7_MBCorrectedGenotypes_filteredMAF_filteredIndivids30_filteredLoci_filteredHWE.gen \\\n",
    "-m PopMap_L1-5_MBmdFilter_b7.txt \\\n",
    "-pm ../ \\\n",
    "-ps ../../stacks_b7_wgenome \\\n",
    "-t \"# Batch 7 Korea Pacific Cod Fully Filtered Genepop - MB Corrected Genotypes\" \\\n",
    "-split \"tab\""
   ]
  },
  {
   "cell_type": "markdown",
   "metadata": {},
   "source": [
    "**CALCULATE HETEROZYGOSITY**"
   ]
  },
  {
   "cell_type": "code",
   "execution_count": 93,
   "metadata": {},
   "outputs": [
    {
     "name": "stdout",
     "output_type": "stream",
     "text": [
      "/mnt/hgfs/Pacific cod/DataAnalysis/PCod-Korea-repo/analyses\n"
     ]
    }
   ],
   "source": [
    "cd ../../analyses"
   ]
  },
  {
   "cell_type": "code",
   "execution_count": 94,
   "metadata": {},
   "outputs": [
    {
     "name": "stdout",
     "output_type": "stream",
     "text": [
      "usage: calc_het.py [-h] [-l LIST] [-i IND] [-f FILE] [-o OUTPUT]\r\n",
      "                   [-d DENOMINATOR]\r\n",
      "\r\n",
      "optional arguments:\r\n",
      "  -h, --help            show this help message and exit\r\n",
      "  -l LIST, --list LIST  white space delimited list of individuals (column1)\r\n",
      "                        and corresponding sequence file (column2; FASTA or\r\n",
      "                        FASTQ) to investigate\r\n",
      "  -i IND, --ind IND     name of individual to investigate (mutually exclusive\r\n",
      "                        to '-l' and requires '-f') - UNTESTED\r\n",
      "  -f FILE, --file FILE  location of file with genotypes (assumes genepop\r\n",
      "                        format)\r\n",
      "  -o OUTPUT, --output OUTPUT\r\n",
      "                        name of output file\r\n",
      "  -d DENOMINATOR, --denominator DENOMINATOR\r\n",
      "                        use 2 if counting a FASTA file or 4 if counting a\r\n",
      "                        FASTQ file\r\n"
     ]
    }
   ],
   "source": [
    "!python calc_het.py -h"
   ]
  },
  {
   "cell_type": "code",
   "execution_count": 99,
   "metadata": {},
   "outputs": [],
   "source": [
    "!python calc_het.py \\\n",
    "-l ../scripts/PopMap_L1-5_MBmdFilter_b7.txt \\\n",
    "-f ../stacks_b7_wgenome/batch_7_MBCorrectedGenotypes_filteredMAF_filteredIndivids30_filteredLoci_filteredHWE.gen \\\n",
    "-o batch_7_MB_HetvReadDepth_filtered \\\n",
    "-d 4"
   ]
  },
  {
   "cell_type": "markdown",
   "metadata": {},
   "source": [
    "*I was able to use old fastq read depths from original batch 7 analysis and manually  add them into the file above.*"
   ]
  },
  {
   "cell_type": "markdown",
   "metadata": {},
   "source": [
    "**GRAPH**"
   ]
  },
  {
   "cell_type": "code",
   "execution_count": 102,
   "metadata": {},
   "outputs": [],
   "source": [
    "infile = open(\"batch_7_MB_HetvReadDepth_filtered\", \"r\")\n",
    "infile.readline()\n",
    "\n",
    "reads = []\n",
    "het = []\n",
    "for line in infile:\n",
    "    reads.append(float(line.strip().split()[1]))\n",
    "    het.append(float(line.strip().split()[2]))\n",
    "infile.close()"
   ]
  },
  {
   "cell_type": "code",
   "execution_count": 103,
   "metadata": {},
   "outputs": [
    {
     "data": {
      "image/png": "[encoded data removed]",
      "text/plain": [
       "<matplotlib.figure.Figure at 0x7f18ff821d50>"
      ]
     },
     "metadata": {},
     "output_type": "display_data"
    }
   ],
   "source": [
    "\n",
    "plt.scatter(reads, het, color=\"darkcyan\")\n",
    "plt.suptitle(\"Read Depth v. Heterozygosity\")\n",
    "plt.xlabel(\"# Reads in Fastq\")\n",
    "plt.ylabel(\"Obs. Het. in final genepop\")\n",
    "plt.show()"
   ]
  },
  {
   "cell_type": "code",
   "execution_count": 104,
   "metadata": {
    "collapsed": true
   },
   "outputs": [],
   "source": [
    "plt.close()"
   ]
  },
  {
   "cell_type": "markdown",
   "metadata": {},
   "source": [
    "### Heterozygosity of individuals: with and without MB Corrected Genotypes"
   ]
  },
  {
   "cell_type": "code",
   "execution_count": 105,
   "metadata": {},
   "outputs": [
    {
     "data": {
      "text/plain": [
       "u'/mnt/hgfs/Pacific cod/DataAnalysis/PCod-Korea-repo/analyses'"
      ]
     },
     "execution_count": 105,
     "metadata": {},
     "output_type": "execute_result"
    }
   ],
   "source": [
    "pwd"
   ]
  },
  {
   "cell_type": "code",
   "execution_count": 107,
   "metadata": {},
   "outputs": [],
   "source": [
    "infile = open(\"batch7_HetvReadDepth_filtered\", \"r\")\n",
    "infile.readline()\n",
    "\n",
    "het2 = []\n",
    "for line in infile:\n",
    "    het2.append(float(line.strip().split()[2]))\n",
    "infile.close()"
   ]
  },
  {
   "cell_type": "code",
   "execution_count": 124,
   "metadata": {},
   "outputs": [
    {
     "data": {
      "image/png": "[encoded data removed]",
      "text/plain": [
       "<matplotlib.figure.Figure at 0x7f18f55d61d0>"
      ]
     },
     "metadata": {},
     "output_type": "display_data"
    }
   ],
   "source": [
    "plt.hist(het, color=\"darkcyan\", bins=np.arange(-0.05, 0.45, 0.01)+0.05, alpha = 0.5, label = \"w/ MB Correction\")\n",
    "plt.hist(het2, color = \"darkviolet\", bins=np.arange(-0.05, 0.45, 0.01)+0.05, alpha = 0.5, label = \"w/o MB Correction\")\n",
    "plt.suptitle(\"Observed Heterozygosity\\nWith and Without MB Genotype Correction script\")\n",
    "plt.xlabel(\"Obs. Het. in final genepop\")\n",
    "plt.ylabel(\"Frequency\")\n",
    "plt.legend()\n",
    "plt.show()"
   ]
  },
  {
   "cell_type": "code",
   "execution_count": 125,
   "metadata": {
    "collapsed": true
   },
   "outputs": [],
   "source": [
    "plt.close()"
   ]
  },
  {
   "cell_type": "code",
   "execution_count": null,
   "metadata": {
    "collapsed": true
   },
   "outputs": [],
   "source": []
  }
 ],
 "metadata": {
  "anaconda-cloud": {},
  "kernelspec": {
   "display_name": "Python 2",
   "language": "python",
   "name": "python2"
  },
  "language_info": {
   "codemirror_mode": {
    "name": "ipython",
    "version": 2
   },
   "file_extension": ".py",
   "mimetype": "text/x-python",
   "name": "python",
   "nbconvert_exporter": "python",
   "pygments_lexer": "ipython2",
   "version": "2.7.13"
  }
 },
 "nbformat": 4,
 "nbformat_minor": 1
}
