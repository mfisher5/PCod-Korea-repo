{
 "cells": [
  {
   "cell_type": "markdown",
   "metadata": {},
   "source": [
    "## Genotyping Error\n",
    "\n",
    "#### 4/11/2018\n",
    "\n",
    "\n",
    "I want to know the genotyping error between my replicates, as well as the genotyping error between the samples that I ran with both 300ng and 500ng protocols. By comparing the two, I can see what proportion of the 300ng v. 500ng error rate is probably due to the difference in protocols, rather than human / sequencing error. \n",
    "\n",
    "<br>\n",
    "\n",
    "<br>\n",
    "I attempted to write a python script for this, but it didn't work. Instead, I made an excel spreadsheet template that calculates the following when I copy in the genotypes for the original / replicates samples right next to each other:\n",
    "\n",
    "1. Number of loci genotyped in both samples\n",
    "2. Number of loci missing genotypes per sample\n",
    "3. Number of loci genotyped that matched between samples\n",
    "\n",
    "[Excel template]()\n",
    "\n",
    "<br>\n",
    "\n",
    "\n",
    "<br>\n",
    "Then, I read the data frame into R and use the following script to make plots:\n",
    "\n",
    "[Genotyping_Error_MF.R](https://github.com/mfisher5/PCod-Korea-repo/blob/master/analyses/R/Genotyping_Error_MF.R)"
   ]
  },
  {
   "cell_type": "code",
   "execution_count": null,
   "metadata": {
    "collapsed": true
   },
   "outputs": [],
   "source": []
  }
 ],
 "metadata": {
  "kernelspec": {
   "display_name": "Python 2",
   "language": "python",
   "name": "python2"
  },
  "language_info": {
   "codemirror_mode": {
    "name": "ipython",
    "version": 2
   },
   "file_extension": ".py",
   "mimetype": "text/x-python",
   "name": "python",
   "nbconvert_exporter": "python",
   "pygments_lexer": "ipython2",
   "version": "2.7.13"
  }
 },
 "nbformat": 4,
 "nbformat_minor": 2
}
