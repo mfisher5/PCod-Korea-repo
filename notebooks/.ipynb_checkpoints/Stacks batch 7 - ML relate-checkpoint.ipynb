{
 "cells": [
  {
   "cell_type": "markdown",
   "metadata": {},
   "source": [
    "## ML Relate, batch 7\n",
    "<br>\n",
    "\n",
    "I want to check to see if there are any potentially contaminated samples across all lanes of sequencing. In the interest of retaining as many samples as possible to keep high sample sizes, I reran some of the samples identified as contaminated during batch 6 (only first four lanes of data).\n",
    "\n",
    "To do this, I will first find sibling relationships in ML relate, then look at plate location and heterozygosity of those samples.\n",
    "\n",
    "<br>\n",
    "#### 9/5/2017\n",
    "<br>\n",
    "### One pop, all samples for ML Relate\n",
    "\n",
    "ML Relate does this really interesting thing where it only allows you to include 1-2 populations in your genepop file. I found some helpful documentation on that: \"Input files can have either one or two POP's (to use the GENEPOP term) in them. If the file has one POP, ML-Relate will estimate allele frequencies in the population from the individuals whose relatedness is being estimated. If the file has two POP's the first POP will be used to estimate allele frequencies and the second POP should contain the individuals to analzye. See the user's manual for more details. \"\n",
    "\n",
    "So I will include all of my samples in one population. \n",
    "\n",
    "**FILE:** `batch_7_filteredLoci20_filteredMAF_filteredIndivids_filteredHWE_genepop_onepop.txt`\n",
    "\n",
    "Calculate relatedness using `Relationship` >> `Relatedness` >> `List Output`\n",
    "\n",
    "\n",
    "\n",
    "**Read through ML Relate output for siblings**"
   ]
  },
  {
   "cell_type": "code",
   "execution_count": 2,
   "metadata": {
    "collapsed": false
   },
   "outputs": [
    {
     "name": "stdout",
     "output_type": "stream",
     "text": [
      "/mnt/hgfs/Pacific cod/DataAnalysis/PCod-Korea-repo/analyses/ml_relate/batch_7\n"
     ]
    }
   ],
   "source": [
    "cd ../analyses/ml_relate/batch_7"
   ]
  },
  {
   "cell_type": "code",
   "execution_count": 4,
   "metadata": {
    "collapsed": false
   },
   "outputs": [
    {
     "name": "stdout",
     "output_type": "stream",
     "text": [
      "85  detected related pairs:  40  half sib pairs &  45  full sib pairs.\n",
      "44466  unrelated pairs\n"
     ]
    }
   ],
   "source": [
    "infile = open(\"batch_7_MLrelate_all_list.txt\", \"r\")\n",
    "outfile = open(\"batch_7_MLrelate_all_relatedIndivids.txt\", \"w\")\n",
    "\n",
    "outfile.write(\"relatedness\\tsample1\\tsample2\\n\")\n",
    "\n",
    "for line in infile:\n",
    "    if line.startswith(\"Ind1\"):\n",
    "        break\n",
    "\n",
    "r_count = 0\n",
    "u_count = 0\n",
    "\n",
    "halfsibs = \"\"\n",
    "hs_count = 0\n",
    "fullsibs = \"\"\n",
    "fs_count = 0\n",
    "for line in infile:\n",
    "    linelist = line.strip().split()\n",
    "    if len(linelist) > 2:\n",
    "        relate = linelist[2]\n",
    "        if relate == \"HS\":\n",
    "            halfsibs += relate + \"\\t\" + linelist[0] + \"\\t\" + linelist[1] + \"\\n\"\n",
    "            r_count += 1\n",
    "            hs_count += 1\n",
    "        elif relate == \"FS\":\n",
    "            fullsibs += relate + \"\\t\" + linelist[0] + \"\\t\" + linelist[1] + \"\\n\"\n",
    "            r_count += 1\n",
    "            fs_count += 1\n",
    "        else:\n",
    "            u_count += 1\n",
    "infile.close()\n",
    "\n",
    "outfile.write(fullsibs)\n",
    "outfile.write(halfsibs)\n",
    "outfile.close()\n",
    "\n",
    "print r_count, \" detected related pairs: \", hs_count, \" half sib pairs & \", fs_count, \" full sib pairs.\"\n",
    "print u_count, \" unrelated pairs\""
   ]
  },
  {
   "cell_type": "markdown",
   "metadata": {},
   "source": [
    "By looking at the pairs in excel, I found that: \n",
    "\n",
    "42 of 45 full sib pairs were replicates.\n",
    "\n",
    "0 of 40 half sib pairs were replicates."
   ]
  },
  {
   "cell_type": "markdown",
   "metadata": {},
   "source": [
    "** Look for high heterozygosities **\n",
    "\n",
    "<br>\n",
    "<br>"
   ]
  },
  {
   "cell_type": "markdown",
   "metadata": {},
   "source": [
    "### ML Relate on Each Pop Separately"
   ]
  },
  {
   "cell_type": "markdown",
   "metadata": {},
   "source": [
    "### Heterozygosity & Read Depth\n",
    "\n",
    "I'm wary of the ML Relate output. I'd like to cross check with heterozygosities for each individual. My usual plot for this is heterozygosity v. read depth. "
   ]
  },
  {
   "cell_type": "code",
   "execution_count": 5,
   "metadata": {
    "collapsed": false
   },
   "outputs": [
    {
     "data": {
      "text/plain": [
       "u'/mnt/hgfs/Pacific cod/DataAnalysis/PCod-Korea-repo/analyses/ml_relate/batch_7'"
      ]
     },
     "execution_count": 5,
     "metadata": {},
     "output_type": "execute_result"
    }
   ],
   "source": [
    "pwd"
   ]
  },
  {
   "cell_type": "code",
   "execution_count": 8,
   "metadata": {
    "collapsed": false
   },
   "outputs": [
    {
     "name": "stdout",
     "output_type": "stream",
     "text": [
      "/mnt/hgfs/Pacific cod/DataAnalysis/PCod-Korea-repo/analyses\n"
     ]
    }
   ],
   "source": [
    "cd ../../"
   ]
  },
  {
   "cell_type": "code",
   "execution_count": 9,
   "metadata": {
    "collapsed": false
   },
   "outputs": [
    {
     "name": "stdout",
     "output_type": "stream",
     "text": [
      "usage: calc_het.py [-h] [-l LIST] [-i IND] [-f FILE] [-o OUTPUT]\r\n",
      "                   [-d DENOMINATOR]\r\n",
      "\r\n",
      "optional arguments:\r\n",
      "  -h, --help            show this help message and exit\r\n",
      "  -l LIST, --list LIST  white space delimited list of individuals (column1)\r\n",
      "                        and corresponding sequence file (column2; FASTA or\r\n",
      "                        FASTQ) to investigate\r\n",
      "  -i IND, --ind IND     name of individual to investigate (mutually exclusive\r\n",
      "                        to '-l' and requires '-f') - UNTESTED\r\n",
      "  -f FILE, --file FILE  location of file with genotypes (assumes genepop\r\n",
      "                        format)\r\n",
      "  -o OUTPUT, --output OUTPUT\r\n",
      "                        name of output file\r\n",
      "  -d DENOMINATOR, --denominator DENOMINATOR\r\n",
      "                        use 2 if counting a FASTA file or 4 if counting a\r\n",
      "                        FASTQ file\r\n"
     ]
    }
   ],
   "source": [
    "!python calc_het.py -h"
   ]
  },
  {
   "cell_type": "code",
   "execution_count": 11,
   "metadata": {
    "collapsed": false
   },
   "outputs": [],
   "source": [
    "!python calc_het.py \\\n",
    "-l batch_7_final_individs.txt \\\n",
    "-f ../stacks_b7_wgenome/batch_7_filteredLoci20_filteredMAF_filteredIndivids_filteredHWE_genepop.txt \\\n",
    "-o batch7_HetvReadDepth_filtered \\\n",
    "-d 4"
   ]
  },
  {
   "cell_type": "code",
   "execution_count": 12,
   "metadata": {
    "collapsed": false
   },
   "outputs": [
    {
     "name": "stdout",
     "output_type": "stream",
     "text": [
      "usage: countreads_fastq.py [-h] [-s SAMPLES] [-d DIRECTORY] [-os OUTPUTSHELL]\r\n",
      "                           [-of OUTPUT]\r\n",
      "\r\n",
      "count number of consensus seqs in .tags files\r\n",
      "\r\n",
      "optional arguments:\r\n",
      "  -h, --help            show this help message and exit\r\n",
      "  -s SAMPLES, --samples SAMPLES\r\n",
      "                        file with list of samples (if paired end, should\r\n",
      "                        include .1 at end)\r\n",
      "  -d DIRECTORY, --directory DIRECTORY\r\n",
      "                        local path with directory with fastq files\r\n",
      "  -os OUTPUTSHELL, --outputshell OUTPUTSHELL\r\n",
      "                        bash shell script file name. must have file extension\r\n",
      "                        .sh\r\n",
      "  -of OUTPUT, --output OUTPUT\r\n",
      "                        text file name to store read depths, with local path.\r\n",
      "                        Do not include file extension\r\n"
     ]
    }
   ],
   "source": [
    "!python ../scripts/countreads_fastq.py -h "
   ]
  },
  {
   "cell_type": "code",
   "execution_count": null,
   "metadata": {
    "collapsed": true
   },
   "outputs": [],
   "source": [
    "!python ../scripts/countreads_fastq.py -s batch_7_final_individs.txt \\\n",
    "-d ../samplesT142 \\\n",
    "-os count_reads_fastq_b7.sh \\\n",
    "-of fastq_readcounts_b7.txt"
   ]
  }
 ],
 "metadata": {
  "kernelspec": {
   "display_name": "Python [default]",
   "language": "python",
   "name": "python2"
  },
  "language_info": {
   "codemirror_mode": {
    "name": "ipython",
    "version": 2
   },
   "file_extension": ".py",
   "mimetype": "text/x-python",
   "name": "python",
   "nbconvert_exporter": "python",
   "pygments_lexer": "ipython2",
   "version": "2.7.12"
  }
 },
 "nbformat": 4,
 "nbformat_minor": 1
}
