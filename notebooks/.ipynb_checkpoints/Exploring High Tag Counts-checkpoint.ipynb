{
 "cells": [
  {
   "cell_type": "markdown",
   "metadata": {},
   "source": [
    "## Exploring samples with high tag counts\n",
    "\n",
    "\n",
    "In `ustacks`, there were some samples with very high tag counts. I'm trying a few different things to see if I can find out why. \n",
    "\n",
    "\n",
    "\n",
    "<br>\n",
    "\n",
    "### Hypothesis 1: parasite or virus\n",
    "The samples have been contaminated with some other organism that was on the cod, such as a parasite or virus. I'm going to take one sample and create a partial fasta file with 100 sequences, then blast that fasta file on NCBI's database. "
   ]
  },
  {
   "cell_type": "code",
   "execution_count": 1,
   "metadata": {
    "collapsed": false
   },
   "outputs": [
    {
     "name": "stdout",
     "output_type": "stream",
     "text": [
      "/mnt/hgfs/Pacific cod/DataAnalysis\n"
     ]
    }
   ],
   "source": [
    "cd /mnt/hgfs/Pacific\\ cod/DataAnalysis"
   ]
  },
  {
   "cell_type": "code",
   "execution_count": 2,
   "metadata": {
    "collapsed": false
   },
   "outputs": [
    {
     "name": "stdout",
     "output_type": "stream",
     "text": [
      "/mnt/hgfs/Pacific cod/DataAnalysis/PCod-Korea-repo/samplesT142\n"
     ]
    }
   ],
   "source": [
    "cd PCod-Korea-repo/samplesT142"
   ]
  },
  {
   "cell_type": "code",
   "execution_count": 4,
   "metadata": {
    "collapsed": false,
    "scrolled": true
   },
   "outputs": [
    {
     "name": "stdout",
     "output_type": "stream",
     "text": [
      "@1_1101_5974_1156/1\r\n",
      "TGCAGGAAACCTGGTAAAAAAATGAAATCTTTATAGGGCAAATATTTGTGTAAAACATGGATGCTATTCTCAGAATTGTCAACGTTAAGAAGTTGCAGAGGAAAGGACACCACTATTACCAATATTACCAATGCCACTATCC\r\n",
      "+\r\n",
      "JJJJJJJJJJJJJJJJJJJJJJJJJJJJJJJJJJJJJJJJJJJJJJJJJJJJJJJJJJJJJFJJJJJJJJJJJJJJJFJJJJJJJJJJJJJJJJJJJFJAAFJJFJFJJJJJJJJAJJJJJJJJJJJJJJJJJJJJJJJJJJ\r\n",
      "@1_1101_2209_1173/1\r\n",
      "TGCAGGGGATATCTTCTGTTTTGGTTGAAATGTGTAAATCATGTGTATATGAACCGCTGTAAGTCGCTTTGGATAAAAGCGTCTGCTAAAGGCCATAGGCCTACATTTAAATCGAAAAAGAACATCAGCACGAAACTGGTCA\r\n",
      "+\r\n",
      "JJJJJJJFFJJ--AAF7<-<-FFFJ7<FAA<JFFAFJJ-A<A7--<<-F<-7A<AJF-AFAJJFA-AJ7-7--FJ<7--J--<7--7-7A----7FF--777FF-<-FFAF<-F<A7-77AA-<-7----AFJAAJF7-7)A\r\n",
      "@1_1101_4624_1173/1\r\n",
      "TGCAGGTTTTTGTGTGTGGGTGTGTGTGAATGTGTGTGTGTGTGTGTGTGTGTGTGTGTGTGTGTGTGCAGGTTGATGTTTGTGTGCGTGTGTAGGTTTTTTTGTGTGTGTGTGTGTCATTCAGAGGCTATAGTGCCCGAAG\r\n"
     ]
    }
   ],
   "source": [
    "!head YS_121316_05.fq"
   ]
  },
  {
   "cell_type": "code",
   "execution_count": 20,
   "metadata": {
    "collapsed": false
   },
   "outputs": [
    {
     "name": "stdout",
     "output_type": "stream",
     "text": [
      "^C\r\n"
     ]
    }
   ],
   "source": [
    "!cat YS_121316_05.fq | paste - - - - | awk '{print \">\"$1\"\\n\"$2}' > YS_121316_05.fa"
   ]
  },
  {
   "cell_type": "markdown",
   "metadata": {},
   "source": [
    "*This was taking too long so I quite. See below that there are plenty of lines to write out to a partial fasta to use in BLAST.*"
   ]
  },
  {
   "cell_type": "code",
   "execution_count": 21,
   "metadata": {
    "collapsed": false
   },
   "outputs": [
    {
     "name": "stdout",
     "output_type": "stream",
     "text": [
      "12672054 YS_121316_05.fa\r\n"
     ]
    }
   ],
   "source": [
    "!wc -l YS_121316_05.fa"
   ]
  },
  {
   "cell_type": "code",
   "execution_count": 32,
   "metadata": {
    "collapsed": false,
    "scrolled": true
   },
   "outputs": [],
   "source": [
    "infile = open(\"YS_121316_05.fa\", \"r\")\n",
    "outfile = open(\"YS_121316_05_partial.fa\", \"w\")\n",
    "\n",
    "count = 0\n",
    "for line in infile:\n",
    "    if count < 200:\n",
    "        outfile.write(line)\n",
    "        count += 1\n",
    "    else: \n",
    "        break\n",
    "infile.close()\n",
    "outfile.close()"
   ]
  },
  {
   "cell_type": "code",
   "execution_count": 33,
   "metadata": {
    "collapsed": false
   },
   "outputs": [
    {
     "name": "stdout",
     "output_type": "stream",
     "text": [
      "200 YS_121316_05_partial.fa\r\n"
     ]
    }
   ],
   "source": [
    "!wc -l YS_121316_05_partial.fa"
   ]
  },
  {
   "cell_type": "code",
   "execution_count": 34,
   "metadata": {
    "collapsed": false,
    "scrolled": true
   },
   "outputs": [
    {
     "name": "stdout",
     "output_type": "stream",
     "text": [
      ">@1_1101_5974_1156/1\r\n",
      "TGCAGGAAACCTGGTAAAAAAATGAAATCTTTATAGGGCAAATATTTGTGTAAAACATGGATGCTATTCTCAGAATTGTCAACGTTAAGAAGTTGCAGAGGAAAGGACACCACTATTACCAATATTACCAATGCCACTATCC\r\n",
      ">@1_1101_2209_1173/1\r\n",
      "TGCAGGGGATATCTTCTGTTTTGGTTGAAATGTGTAAATCATGTGTATATGAACCGCTGTAAGTCGCTTTGGATAAAAGCGTCTGCTAAAGGCCATAGGCCTACATTTAAATCGAAAAAGAACATCAGCACGAAACTGGTCA\r\n",
      ">@1_1101_4624_1173/1\r\n",
      "TGCAGGTTTTTGTGTGTGGGTGTGTGTGAATGTGTGTGTGTGTGTGTGTGTGTGTGTGTGTGTGTGTGCAGGTTGATGTTTGTGTGCGTGTGTAGGTTTTTTTGTGTGTGTGTGTGTCATTCAGAGGCTATAGTGCCCGAAG\r\n",
      ">@1_1101_5051_1173/1\r\n",
      "TGCAGGTTAAACGCTTATTGCAGTCGCGGCTCATGTGCCCTGCACATAAACAGCCGAAGCAAAGCCCTTTCTCCTTTCCACATGTTTAACTTGTCTGCGATGCTGTCCAGAAAACTACAAATTGGAAGTAAGAAAGTTCTCT\r\n",
      ">@1_1101_6918_1173/1\r\n",
      "TGCAGGGATGACATTTGGTTTGTTAGGTTGAGCGTTTGAAAGACTTACACTGTGACACGTTACCAGTGTTTGGATAAAAAAACATGTTGGTCACCATGGGGGTTTTGTCTGTCTATATGCTACTCCACACAAGAAAAATAAT\r\n"
     ]
    }
   ],
   "source": [
    "!head YS_121316_05_partial.fa"
   ]
  },
  {
   "cell_type": "code",
   "execution_count": 35,
   "metadata": {
    "collapsed": false
   },
   "outputs": [
    {
     "name": "stdout",
     "output_type": "stream",
     "text": [
      ">@1_1101_23622_1244/1\r\n",
      "TGCAGGAAAAGTTGTATATTAGCTAAAGTGAACCGAAACAAACTTGCTAGGGTTTCGATTTAGCTCAGCGAGTATGACACACCTTGAAAGCTGCCTGCATGTGCCCAGAATATTATATTCATTATAATATAATCACAATCTC\r\n",
      ">@1_1101_25246_1244/1\r\n",
      "TGCAGGCATAAAAACAAGAAACGTTGATATCTCTGTCAATTTCAATGCAAACGTGTTACTAAGCTCAGCAATGGATTATAGGGCCATACTCCACCATTTGGAAGTAGTTTTGAGTAAAATCAACCATGTAAAGTCAAAAACA\r\n",
      ">@1_1101_26362_1244/1\r\n",
      "TGCAGGTTAAACGGTCGTGTGATCACCCACAAGGTAAATAACTGTGATAACATAACATGCAAAGTGTGGTTTATCGGTTTACAATTCTGTATCTATTGACTTGGTTTATGCCTGGTTGTCATGGTGTTGAATTACGTTTAAT\r\n",
      ">@1_1101_26565_1244/1\r\n",
      "TGCAGGTTGTGGGCCAGCACACTGTCCTCCCGCACCGCAAAACTCTGGCGCACTACGGACGGAAACAGAAGGTTTATCATGAGCAGGCATCAACACCCCGCCAAGGAGGACCTTAATGCACACACAGCCGCTGCACCTGGCT\r\n",
      ">@1_1101_28250_1244/1\r\n",
      "TGCAGGTGGTCGGGATCTTTGCGGGGTTCGGCCTGCTCCTGCTGGTCGCCTCCCCCTTCCTGCTCCTGGCCACGCCCATCATCCTCTGCTGCAAGTGCAAGTGCAGCAAAGGTGACGACGACCCCCTCCCCACCTAGGGAAC\r\n"
     ]
    }
   ],
   "source": [
    "!tail YS_121316_05_partial.fa"
   ]
  },
  {
   "cell_type": "markdown",
   "metadata": {},
   "source": [
    "\n",
    "<br>\n",
    "I uploaded this fasta file into NCBI's blastn database. \n",
    "\n",
    "\n",
    "<br>\n",
    "**RESULTS:**\n",
    "\n",
    "Didn't have a high match to anything interesting (even cod????). \n",
    "\n",
    "I also tried the Ensembl database, but their server experienced some kind of internal error several times. "
   ]
  },
  {
   "cell_type": "markdown",
   "metadata": {},
   "source": [
    "\n",
    "<br>\n",
    "\n",
    "\n",
    "### Hypothesis Two: contamination\n",
    "\n",
    "Is it possible that the east and west samples are so different from each other that contamination of the west coast cod by east coast samples would result in really high tag numbers?\n",
    "\n",
    "I created a combined fasta file using both a west coast and east coast sample, then sent them through `ustacks`. "
   ]
  },
  {
   "cell_type": "code",
   "execution_count": 36,
   "metadata": {
    "collapsed": false
   },
   "outputs": [
    {
     "name": "stdout",
     "output_type": "stream",
     "text": [
      "26866628 YS121315_16.fq\r\n"
     ]
    }
   ],
   "source": [
    "!wc -l YS121315_16.fq"
   ]
  },
  {
   "cell_type": "code",
   "execution_count": null,
   "metadata": {
    "collapsed": true
   },
   "outputs": [],
   "source": [
    "!wc -l JUK07"
   ]
  },
  {
   "cell_type": "code",
   "execution_count": null,
   "metadata": {
    "collapsed": true
   },
   "outputs": [],
   "source": []
  }
 ],
 "metadata": {
  "kernelspec": {
   "display_name": "Python [default]",
   "language": "python",
   "name": "python2"
  },
  "language_info": {
   "codemirror_mode": {
    "name": "ipython",
    "version": 2
   },
   "file_extension": ".py",
   "mimetype": "text/x-python",
   "name": "python",
   "nbconvert_exporter": "python",
   "pygments_lexer": "ipython2",
   "version": "2.7.12"
  }
 },
 "nbformat": 4,
 "nbformat_minor": 1
}
