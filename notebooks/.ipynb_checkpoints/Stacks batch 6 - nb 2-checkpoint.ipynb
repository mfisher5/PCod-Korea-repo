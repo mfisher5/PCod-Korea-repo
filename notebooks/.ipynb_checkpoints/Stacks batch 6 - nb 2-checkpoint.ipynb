{
 "cells": [
  {
   "cell_type": "markdown",
   "metadata": {},
   "source": [
    "## Stacks batch 6 - notebook 2 (pstacks --> populations)\n",
    "\n",
    "\n",
    "This notebook contains batch 6 stacks pipeline round 2, from pstacks (aligning .sam files) to populations. "
   ]
  },
  {
   "cell_type": "code",
   "execution_count": 1,
   "metadata": {
    "collapsed": false
   },
   "outputs": [
    {
     "data": {
      "text/plain": [
       "u'/mnt/hgfs/Pacific cod/DataAnalysis/PCod-Korea-repo/notebooks'"
      ]
     },
     "execution_count": 1,
     "metadata": {},
     "output_type": "execute_result"
    }
   ],
   "source": [
    "pwd"
   ]
  },
  {
   "cell_type": "code",
   "execution_count": 2,
   "metadata": {
    "collapsed": false
   },
   "outputs": [
    {
     "name": "stdout",
     "output_type": "stream",
     "text": [
      "/mnt/hgfs/Pacific cod/DataAnalysis/PCod-Korea-repo/scripts\n"
     ]
    }
   ],
   "source": [
    "cd ../scripts"
   ]
  },
  {
   "cell_type": "code",
   "execution_count": 3,
   "metadata": {
    "collapsed": false
   },
   "outputs": [
    {
     "name": "stdout",
     "output_type": "stream",
     "text": [
      "###### Generate Shell Script to Run pstacks --> populations ######\r\n",
      "\r\n",
      "## MF 3/10/2017\r\n",
      "## For US Cod Data\r\n",
      "\r\n",
      "## Edited by MF 5/3/2017 for Korea PCod Data\r\n",
      "## Edited 6/25/2017 for Korea PCod Data\r\n",
      "## Edited 7/5/2017\r\n",
      "\r\n",
      "\r\n",
      "\r\n",
      "## At Command Line: python cstacks_populations_genShell_7-6 ARG1 ARG2\r\n",
      "##---- ARG1 = complete sample list file\r\n",
      "##---- ARG2 = sample list for building cstacks catalog\r\n",
      "\r\n",
      "\r\n",
      "#############################################################################\r\n",
      "\r\n",
      "\r\n",
      "import sys\r\n",
      "\r\n",
      "sampfilename = sys.argv[1]\r\n",
      "catfilename = sys.argv[2]\r\n",
      "\r\n",
      "newfile = open(\"pstacks_populations_7-6.sh\", \"w\")\r\n"
     ]
    }
   ],
   "source": [
    "!head -n 25 pstacks_populations_genShell_7-6.py"
   ]
  },
  {
   "cell_type": "code",
   "execution_count": 4,
   "metadata": {
    "collapsed": true
   },
   "outputs": [],
   "source": [
    "!python pstacks_populations_genShell_7-6.py PopMap_L1-4.txt samples_for_cstacks_b6.txt"
   ]
  },
  {
   "cell_type": "code",
   "execution_count": 5,
   "metadata": {
    "collapsed": false
   },
   "outputs": [
    {
     "name": "stdout",
     "output_type": "stream",
     "text": [
      "\r\n",
      "#pstacks\r\n",
      "pstacks -t sam -f ../stacks_b6_wgenome/PO010715_02.sam -o ../stacks_b6_wgenome -i 001 -m 10 -p 6 --model_type bounded 2>> ../stacks_b6_wgenome/pstacks_out_b6_wgenome\r\n",
      "pstacks -t sam -f ../stacks_b6_wgenome/PO010715_02_rep.sam -o ../stacks_b6_wgenome -i 002 -m 10 -p 6 --model_type bounded 2>> ../stacks_b6_wgenome/pstacks_out_b6_wgenome\r\n",
      "pstacks -t sam -f ../stacks_b6_wgenome/PO010715_04.sam -o ../stacks_b6_wgenome -i 003 -m 10 -p 6 --model_type bounded 2>> ../stacks_b6_wgenome/pstacks_out_b6_wgenome\r\n",
      "pstacks -t sam -f ../stacks_b6_wgenome/PO010715_06.1.sam -o ../stacks_b6_wgenome -i 004 -m 10 -p 6 --model_type bounded 2>> ../stacks_b6_wgenome/pstacks_out_b6_wgenome\r\n",
      "pstacks -t sam -f ../stacks_b6_wgenome/PO010715_08.1.sam -o ../stacks_b6_wgenome -i 005 -m 10 -p 6 --model_type bounded 2>> ../stacks_b6_wgenome/pstacks_out_b6_wgenome\r\n",
      "pstacks -t sam -f ../stacks_b6_wgenome/PO010715_10.1.sam -o ../stacks_b6_wgenome -i 006 -m 10 -p 6 --model_type bounded 2>> ../stacks_b6_wgenome/pstacks_out_b6_wgenome\r\n",
      "pstacks -t sam -f ../stacks_b6_wgenome/PO010715_11.1.sam -o ../stacks_b6_wgenome -i 007 -m 10 -p 6 --model_type bounded 2>> ../stacks_b6_wgenome/pstacks_out_b6_wgenome\r\n",
      "pstacks -t sam -f ../stacks_b6_wgenome/PO010715_12.sam -o ../stacks_b6_wgenome -i 008 -m 10 -p 6 --model_type bounded 2>> ../stacks_b6_wgenome/pstacks_out_b6_wgenome\r\n"
     ]
    }
   ],
   "source": [
    "!head pstacks_populations_7-6.sh"
   ]
  },
  {
   "cell_type": "code",
   "execution_count": 6,
   "metadata": {
    "collapsed": true
   },
   "outputs": [],
   "source": [
    "!chmod +x pstacks_populations_7-6.sh"
   ]
  },
  {
   "cell_type": "markdown",
   "metadata": {
    "collapsed": true
   },
   "source": [
    "*ran in termal*\n",
    "\n",
    "<br>\n",
    "#### 7/11/2017\n",
    "\n",
    "On checking the pstacks, sstacks, populations output files, I found that I had to \n",
    "\n",
    "1. *Rerun pstacks, sstacks for sample `JB021108_01.1`. This sample was excluded from `populations` analysis because it's matches file was absent*\n",
    "2. *Rerun pstacks, sstacks for sample `JB121807_07.1`. This sample was excluded from `populations` analysis because it's matches file was \"malformed\". Looking further into the files, I found that all files produced were empty, after the .sam file*\n",
    "\n",
    "<br>\n",
    "*JB08_01*"
   ]
  },
  {
   "cell_type": "code",
   "execution_count": 7,
   "metadata": {
    "collapsed": false
   },
   "outputs": [
    {
     "name": "stdout",
     "output_type": "stream",
     "text": [
      "/mnt/hgfs/Pacific cod/DataAnalysis/PCod-Korea-repo/scripts\n"
     ]
    }
   ],
   "source": [
    "cd ../scripts"
   ]
  },
  {
   "cell_type": "code",
   "execution_count": 8,
   "metadata": {
    "collapsed": true
   },
   "outputs": [],
   "source": [
    "!pstacks -t sam -f ../stacks_b6_wgenome/JB021108_01.1.sam -o ../stacks_b6_wgenome -i 166 -m 10 -p 6 --model_type bounded 2>> ../stacks_b6_wgenome/pstacks_out_b6_wgenome"
   ]
  },
  {
   "cell_type": "code",
   "execution_count": 9,
   "metadata": {
    "collapsed": true
   },
   "outputs": [],
   "source": [
    "!sstacks -b 6 -c ../stacks_b6_wgenome/batch_6 -s ../stacks_b6_wgenome/JB021108_01.1 -o ../stacks_b6_wgenome -p 6 2>> sstacks_out_b6_wgenome"
   ]
  },
  {
   "cell_type": "markdown",
   "metadata": {},
   "source": [
    "*JB07_07*"
   ]
  },
  {
   "cell_type": "code",
   "execution_count": 10,
   "metadata": {
    "collapsed": true
   },
   "outputs": [],
   "source": [
    "!pstacks -t sam -f ../stacks_b6_wgenome/JB121807_07.1.sam -o ../stacks_b6_wgenome -i 166 -m 10 -p 6 --model_type bounded 2>> ../stacks_b6_wgenome/pstacks_out_b6_wgenome"
   ]
  },
  {
   "cell_type": "markdown",
   "metadata": {},
   "source": [
    "Still produced nothing. I also noticed that the `.sam` file is markedly smaller than the others - 6K kb instead of 1M - 100K kb. "
   ]
  },
  {
   "cell_type": "code",
   "execution_count": 11,
   "metadata": {
    "collapsed": false
   },
   "outputs": [
    {
     "name": "stdout",
     "output_type": "stream",
     "text": [
      "# reads processed: 19953\r\n",
      "# reads with at least one reported alignment: 932 (4.67%)\r\n",
      "# reads that failed to align: 19021 (95.33%)\r\n",
      "Reported 932 alignments to 1 output stream(s)\r\n"
     ]
    }
   ],
   "source": [
    "!bowtie -q -v 3 -norc --sam ../stacks_b6/refgenome/batch_6_ref_genome ../samplesT142/JB121807_07.1.fq ../stacks_b6_wgenome/JB121807_07.1.sam"
   ]
  },
  {
   "cell_type": "markdown",
   "metadata": {},
   "source": [
    "Ok, that's a super small amount of reads aligning. I'll have to just leave that sample out of population analysis. \n",
    "\n",
    "<br>\n",
    "\n",
    "*And then re-ran `populations`*"
   ]
  },
  {
   "cell_type": "code",
   "execution_count": 12,
   "metadata": {
    "collapsed": true
   },
   "outputs": [],
   "source": [
    "!populations -b 6 -P ../stacks_b6_wgenome -M PopMap_L1-4.txt -t 36 -r 0.75 -p 4 -m 10 --genepop --fasta 2>> populations_out_b6_wgenome"
   ]
  },
  {
   "cell_type": "code",
   "execution_count": null,
   "metadata": {
    "collapsed": true
   },
   "outputs": [],
   "source": []
  }
 ],
 "metadata": {
  "anaconda-cloud": {},
  "kernelspec": {
   "display_name": "Python [default]",
   "language": "python",
   "name": "python2"
  },
  "language_info": {
   "codemirror_mode": {
    "name": "ipython",
    "version": 2
   },
   "file_extension": ".py",
   "mimetype": "text/x-python",
   "name": "python",
   "nbconvert_exporter": "python",
   "pygments_lexer": "ipython2",
   "version": "2.7.12"
  }
 },
 "nbformat": 4,
 "nbformat_minor": 1
}
