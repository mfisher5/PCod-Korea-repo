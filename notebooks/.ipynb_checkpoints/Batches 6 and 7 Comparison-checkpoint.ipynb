{
 "cells": [
  {
   "cell_type": "markdown",
   "metadata": {},
   "source": [
    "## Comparison of batches 6 & 7: exploring heterozygosity\n",
    "\n",
    "<br>\n",
    "In batch 6 (haplotypes), I plotted heteryzogosity against read depth and ended up with several individuals with extremely high heterozygosity. \n",
    "\n",
    "For the same plot in batch 7 (random snps), I do not have any individuals with observed heterozygosities above 0.20. \n",
    "\n",
    "I think that this has something to do with using the haplotypes v. random snps method after `populations`, so I am going to... \n",
    "1. BLAST the batches 6 and 7 catalogs against each other to correlate loci names\n",
    "2. Create a dictionary with batch 7 loci names as the key, and batch 6 loci names as the value. \n",
    "3. Choose a subset of individuals\n",
    "4. Create a  list of loci that are missing genotypes in each individual\n",
    "5. Find those loci in the batch 6 and see if they are also missing, called as heterozygotes, or called as homozygotes. \n",
    "\n",
    "#### 9/18/2017\n",
    "\n",
    "### BLAST catalogs from batch 6 and batch 7\n",
    "\n",
    "<br>\n",
    "#### Create FASTA files from each catalog"
   ]
  },
  {
   "cell_type": "code",
   "execution_count": 1,
   "metadata": {
    "collapsed": false
   },
   "outputs": [
    {
     "name": "stdout",
     "output_type": "stream",
     "text": [
      "/mnt/hgfs/Pacific cod/DataAnalysis/PCod-Korea-repo/analyses\n"
     ]
    }
   ],
   "source": [
    "cd ../analyses"
   ]
  },
  {
   "cell_type": "code",
   "execution_count": 2,
   "metadata": {
    "collapsed": false
   },
   "outputs": [
    {
     "name": "stdout",
     "output_type": "stream",
     "text": [
      "/mnt/hgfs/Pacific cod/DataAnalysis/PCod-Korea-repo/analyses/batch6_v_batch7\n"
     ]
    }
   ],
   "source": [
    "cd batch6_v_batch7/"
   ]
  },
  {
   "cell_type": "code",
   "execution_count": 4,
   "metadata": {
    "collapsed": false
   },
   "outputs": [],
   "source": [
    "## Create FASTA from catalog.tags.tsv file: ##\n",
    "\n",
    "infile = open(\"batch_6.catalog.tags.tsv\", \"r\")\n",
    "outfile = open(\"batch_6_catalog.fa\", \"w\")\n",
    "\n",
    "for line in infile:\n",
    "    if not line.startswith(\"#\"):\n",
    "        linelist = line.strip().split()\n",
    "        locus = linelist[3]\n",
    "        seq = linelist[9]\n",
    "        outfile.write(\">\" + locus + \"\\n\" + seq + \"\\n\")\n",
    "infile.close()\n",
    "outfile.close()"
   ]
  },
  {
   "cell_type": "code",
   "execution_count": 5,
   "metadata": {
    "collapsed": true
   },
   "outputs": [],
   "source": [
    "## Create FASTA from catalog.tags.tsv file: ##\n",
    "\n",
    "infile = open(\"batch_7.catalog.tags.tsv\", \"r\")\n",
    "outfile = open(\"batch_7_catalog.fa\", \"w\")\n",
    "\n",
    "for line in infile:\n",
    "    if not line.startswith(\"#\"):\n",
    "        linelist = line.strip().split()\n",
    "        locus = linelist[3]\n",
    "        seq = linelist[9]\n",
    "        outfile.write(\">\" + locus + \"\\n\" + seq + \"\\n\")\n",
    "infile.close()\n",
    "outfile.close()"
   ]
  },
  {
   "cell_type": "markdown",
   "metadata": {},
   "source": [
    "#### Create BLAST database out of batch 7 catalog fasta file"
   ]
  },
  {
   "cell_type": "code",
   "execution_count": 6,
   "metadata": {
    "collapsed": false
   },
   "outputs": [
    {
     "name": "stdout",
     "output_type": "stream",
     "text": [
      "\n",
      "\n",
      "Building a new DB, current time: 09/18/2017 18:51:39\n",
      "New DB name:   /mnt/hgfs/Pacific cod/DataAnalysis/PCod-Korea-repo/analyses/batch6_v_batch7/batch_7_catalogDB\n",
      "New DB title:  batch_7_catalog.fa\n",
      "Sequence type: Nucleotide\n",
      "Keep Linkouts: T\n",
      "Keep MBits: T\n",
      "Maximum file size: 1000000000B\n",
      "Adding sequences from FASTA; added 25224 sequences in 1.20668 seconds.\n"
     ]
    }
   ],
   "source": [
    "!makeblastdb -in batch_7_catalog.fa \\\n",
    "-parse_seqids \\\n",
    "-dbtype nucl \\\n",
    "-out batch_7_catalogDB"
   ]
  },
  {
   "cell_type": "code",
   "execution_count": 9,
   "metadata": {
    "collapsed": true
   },
   "outputs": [],
   "source": [
    "!blastn -query batch_6_catalog.fa \\\n",
    "-db batch_7_catalogDB \\\n",
    "-out batch_6_BLASTto_batch_7_cat \\\n",
    "-outfmt 6"
   ]
  },
  {
   "cell_type": "markdown",
   "metadata": {},
   "source": [
    "### Create dictionary for loci that match between batches 6 & 7"
   ]
  },
  {
   "cell_type": "code",
   "execution_count": 10,
   "metadata": {
    "collapsed": false
   },
   "outputs": [
    {
     "name": "stdout",
     "output_type": "stream",
     "text": [
      "24912  reference loci aligned to only one batch 6 locus\n",
      "there were  28014  duplicates\n"
     ]
    }
   ],
   "source": [
    "## create a list of reference loci that have only one alignment in batch 6 data ##\n",
    "infile = open(\"batch_6_BLASTto_batch_7_cat\", \"r\")\n",
    "unique_loci = []\n",
    "duplicates = 0\n",
    "batch7to6_dict = {}\n",
    "\n",
    "for line in infile:\n",
    "    ref_locus = line.strip().split()[1]\n",
    "    if ref_locus not in unique_loci:\n",
    "        unique_loci.append(ref_locus)\n",
    "        batch7to6_dict[ref_locus] = line.strip().split()[0]\n",
    "    elif ref_locus in unique_loci:\n",
    "        duplicates += 1\n",
    "infile.close()\n",
    "print len(unique_loci), \" reference loci aligned to only one batch 6 locus\"\n",
    "print \"there were \", duplicates, \" duplicates\""
   ]
  },
  {
   "cell_type": "code",
   "execution_count": 12,
   "metadata": {
    "collapsed": true
   },
   "outputs": [],
   "source": [
    "outfile = open(\"batch7_unique_refloci.txt\", \"w\")\n",
    "for locus in batch7to6_dict.keys():\n",
    "    outfile.write(locus + \"\\t\" + batch7to6_dict[locus] + \"\\n\")\n",
    "outfile.close()"
   ]
  },
  {
   "cell_type": "markdown",
   "metadata": {},
   "source": [
    "#### 9/19/2017"
   ]
  },
  {
   "cell_type": "code",
   "execution_count": null,
   "metadata": {
    "collapsed": true
   },
   "outputs": [],
   "source": [
    "# read back in loci for dictionary #\n",
    "infile = open(\"batch7_unique_refloci.txt\", \"r\")\n",
    "batch7to6_dict = []\n",
    "for line in infile:\n",
    "    batch7to6_dict[line.strip().split()[0]] = line.strip().split()[1]\n",
    "infile.close()"
   ]
  },
  {
   "cell_type": "markdown",
   "metadata": {},
   "source": [
    "### Select a subset of individuals"
   ]
  },
  {
   "cell_type": "code",
   "execution_count": null,
   "metadata": {
    "collapsed": true
   },
   "outputs": [],
   "source": []
  }
 ],
 "metadata": {
  "kernelspec": {
   "display_name": "Python [default]",
   "language": "python",
   "name": "python2"
  },
  "language_info": {
   "codemirror_mode": {
    "name": "ipython",
    "version": 2
   },
   "file_extension": ".py",
   "mimetype": "text/x-python",
   "name": "python",
   "nbconvert_exporter": "python",
   "pygments_lexer": "ipython2",
   "version": "2.7.12"
  }
 },
 "nbformat": 4,
 "nbformat_minor": 1
}
