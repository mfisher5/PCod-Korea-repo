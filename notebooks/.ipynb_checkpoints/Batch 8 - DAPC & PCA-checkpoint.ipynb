{
 "cells": [
  {
   "cell_type": "markdown",
   "metadata": {},
   "source": [
    "## DAPC & PCA analyses on stacks batch 8 genepop\n",
    "\n",
    "<br>\n",
    "Analyses run on final filtered genepop, replicates and potentially contaminated samples removed. \n",
    "<br>\n",
    "\n",
    "This notebook contains:\n",
    "\n",
    "<br>\n",
    "<br>\n",
    "<br>\n",
    "\n",
    "#### 10/2/2017\n",
    "\n",
    "### Create final filtered genepop\n",
    "I have a sample list with replicates and potentially contaminated samples removed. I'll use this to create a final genepop file. \n"
   ]
  },
  {
   "cell_type": "code",
   "execution_count": 1,
   "metadata": {
    "collapsed": false
   },
   "outputs": [
    {
     "name": "stdout",
     "output_type": "stream",
     "text": [
      "/mnt/hgfs/Pacific cod/DataAnalysis/PCod-Korea-repo\n"
     ]
    }
   ],
   "source": [
    "cd ../"
   ]
  },
  {
   "cell_type": "code",
   "execution_count": 6,
   "metadata": {
    "collapsed": false
   },
   "outputs": [
    {
     "name": "stdout",
     "output_type": "stream",
     "text": [
      "samples not copied over:  0\n"
     ]
    }
   ],
   "source": [
    "infile = open(\"stacks_b8_wgenome/batch_8_filteredMAF_filteredIndivids30_filteredLoci_filteredHWE.gen\", \"r\")\n",
    "outfile = open(\"stacks_b8_wgenome/batch_8_filteredMAF_filteredIndivids30_filteredLoci_filteredHWE_filteredRepsC.gen\", \"w\")\n",
    "\n",
    "# write in header and loci\n",
    "header = infile.readline()\n",
    "outfile.write(\"#\" + header)\n",
    "\n",
    "line = infile.readline()\n",
    "while not line.startswith(\"Pop\"):\n",
    "    outfile.write(line)\n",
    "    line = infile.readline()\n",
    "\n",
    "# write first \"pop\"\n",
    "outfile.write(line)\n",
    "\n",
    "# get list of samples to keep\n",
    "samplefile = open(\"scripts/PopMap_mdFilter_noreps_noc_b8.txt\", \"r\")\n",
    "sampleList = []\n",
    "for line in samplefile:\n",
    "    sampleList.append(line.strip().split()[0])\n",
    "samplefile.close()\n",
    "\n",
    "# run through all lines in genepop, only write over samples in the sample list\n",
    "samples_kept = []\n",
    "samples_removed = []\n",
    "for line in infile:\n",
    "    if line.startswith(\"Pop\"): \n",
    "        outfile.write(line)\n",
    "    else:\n",
    "        sample = line.strip().split()[0].strip(\",\")\n",
    "        if sample in sampleList:\n",
    "            outfile.write(line)\n",
    "            samples_kept.append(sample)\n",
    "        else:\n",
    "            samples_removed.append(sample)\n",
    "infile.close()\n",
    "outfile.close()\n",
    "\n",
    "# write out removed samples to a file\n",
    "removedfile = open(\"scripts/Batch_8_Samples_Reps_Contam_removed.txt\", \"w\")\n",
    "for i in samples_removed:\n",
    "    removedfile.write(i + \"\\n\")\n",
    "removedfile.close()\n",
    "\n",
    "# make sure that all samples were written into new genepop file\n",
    "print \"samples not copied over: \", len([i for i in sampleList if i not in samples_kept])"
   ]
  },
  {
   "cell_type": "markdown",
   "metadata": {},
   "source": [
    "\n",
    "<br>\n",
    "### Create Genepops for each Region\n",
    "\n",
    "Code borrowed from notebook: [ML Relate batch 6](https://github.com/mfisher5/PCod-Korea-repo/blob/master/notebooks/batch_6/ML%20Relate%20batch%206.ipynb)\n"
   ]
  },
  {
   "cell_type": "code",
   "execution_count": 7,
   "metadata": {
    "collapsed": true
   },
   "outputs": [],
   "source": [
    "# open original genepop, create new genepops\n",
    "infile = open(\"stacks_b8_wgenome/batch_8_filteredMAF_filteredIndivids30_filteredLoci_filteredHWE_filteredRepsC.gen\", \"r\")\n",
    "southfile = open(\"analyses/batch_8_filteredMAF_filteredIndivids30_filteredLoci_filteredHWE_filteredRepsC_south.gen\", \"w\")\n",
    "eastfile = open(\"analyses/batch_8_filteredMAF_filteredIndivids30_filteredLoci_filteredHWE_filteredRepsC_east.gen\", \"w\")\n",
    "westfile = open(\"analyses/batch_8_filteredMAF_filteredIndivids30_filteredLoci_filteredHWE_filteredRepsC_west.gen\", \"w\")\n",
    "\n",
    "\n",
    "pop_count = 0\n",
    "\n",
    "heading = \"#\"\n",
    "\n",
    "#save the title line of the genepop, all of the loci, and the first incidence of \"Pop\" to an object.\n",
    "#then write that as the heading for all new genepop files.\n",
    "for line in infile:\n",
    "    if not line.startswith(\"Pop\"):\n",
    "        heading += line\n",
    "    else:\n",
    "        heading += line\n",
    "        break\n",
    "\n",
    "southfile.write(heading)\n",
    "eastfile.write(heading)\n",
    "westfile.write(heading)\n",
    "        \n",
    "#separate individuals into the appropriate genepop file using the sample site abbrevs. in sample name\n",
    "for line in infile:\n",
    "    if line.startswith(\"PO\") or line.startswith(\"JB\") or line.startswith(\"NA\") or line.startswith(\"GE\"):\n",
    "        southfile.write(line)\n",
    "    elif line.startswith(\"YS\") or line.startswith(\"BOR\"):\n",
    "        westfile.write(line)\n",
    "    elif line.startswith(\"JUK\"):\n",
    "        eastfile.write(line)\n",
    "        \n",
    "        \n",
    "infile.close()\n",
    "southfile.close()\n",
    "westfile.close()\n",
    "eastfile.close()"
   ]
  },
  {
   "cell_type": "markdown",
   "metadata": {},
   "source": [
    "<br>\n",
    "### redo!!\n",
    "\n",
    "\n",
    "### DAPC Plots\n",
    "\n",
    "#### All Samples\n",
    "\n",
    "Number principal components: 23\n",
    "\n",
    "Proportion of variance conserved by the principal components: 0.1958453\n",
    "\n",
    "Variance explained by first discriminant function: 0.6158387\n",
    "\n",
    "Variance explained by second discriminant function: 0.2755002\n",
    "\n",
    "assign.prop: 0.6100386\n",
    "\n",
    "\n",
    "assign.per.pop: \n",
    "* PO010715_07_rep     : 0.3870968 \n",
    "* GE011215_11  :  0.7500000\n",
    "* NA021015_10_2    : 0.3125000 \n",
    "* YS_121316_07 : 0.9200000\n",
    "* JUK07_33 : 0.8787879 \n",
    "* JB121807_29 : 0.5750000\n",
    "* JB021108_11_rep    : 0.5277778  \n",
    "* BOR07_21_2  : 0.6363636 \n",
    "* GEO020414_30_2 :  0.3750000\n",
    "\n",
    "\n",
    "![img-dapc-all]()\n",
    "\n",
    "\n",
    "<br>\n",
    "<br>\n",
    "#### Southern Samples\n",
    "\n",
    "Number principal components: 26\n",
    "\n",
    "Proportion of variance conserved by the principal components: 0.2597868\n",
    "\n",
    "Variance explained by first discriminant function: 0.3618931\n",
    "\n",
    "Variance explained by second discriminant function: 0.2903816\n",
    "\n",
    "assign.prop: 0.5977654\n",
    "\n",
    "![img-dapc-south]()\n",
    "\n",
    "<br>\n",
    "<br>\n",
    "#### Western Samples\n",
    "\n",
    "Number principal components: 10\n",
    "\n",
    "Proportion of variance conserved by the principal components: 0.2699075\n",
    "\n",
    "Variance explained by first discriminant function: 1\n",
    "\n",
    "Variance explained by second discriminant function: NA\n",
    "\n",
    "assign.prop: 0.9148936\n",
    "\n",
    "![img-dapc-west]()"
   ]
  },
  {
   "cell_type": "code",
   "execution_count": null,
   "metadata": {
    "collapsed": true
   },
   "outputs": [],
   "source": []
  }
 ],
 "metadata": {
  "kernelspec": {
   "display_name": "Python [default]",
   "language": "python",
   "name": "python2"
  },
  "language_info": {
   "codemirror_mode": {
    "name": "ipython",
    "version": 2
   },
   "file_extension": ".py",
   "mimetype": "text/x-python",
   "name": "python",
   "nbconvert_exporter": "python",
   "pygments_lexer": "ipython2",
   "version": "2.7.12"
  }
 },
 "nbformat": 4,
 "nbformat_minor": 1
}
