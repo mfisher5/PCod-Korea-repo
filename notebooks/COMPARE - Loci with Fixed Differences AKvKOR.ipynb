{
 "cells": [
  {
   "cell_type": "markdown",
   "metadata": {},
   "source": [
    "## Batch 4 - loci with fixed differences between eastern and western Pacific cod\n",
    "\n",
    "<br>\n",
    "In this notebook, I will identify loci from batch 4 of the stacks pipeline that have fixed differences in allele frequencies between eastern and western Pacific cod populations. \n",
    "\n",
    "Specifically, the notebook contains:\n",
    "1. running the batch 4 unfiltered genepop file through Genepop program for (a) allele frequencies, and (b) FST\n",
    "2. ranking of loci based on FST value to identify potentially informative loci\n",
    "3. checking allele frequencies of top ranked loci from (2)\n",
    "\n",
    "There are also helpful graphs along the way\n",
    "\n",
    "<br>\n",
    "<br>\n",
    "\n",
    "Programs used: \n",
    "1. Stacks v1.44 (windows)\n",
    "2. Genepop v4.2 (windows)\n",
    "3. Python 2.7 (linux)\n",
    "\n",
    "<br>\n",
    "#### Date: 11/3/2017\n",
    "\n",
    "<br>\n",
    "\n",
    "\n",
    "### Genepop: FST and Allele Frequencies\n",
    "\n",
    "GENEPOP FILE: batch_4_EastWest_genepop.txt\n",
    "\n",
    "In Genepop: `Option 5 >> Suboption 1: Allele and genotype frequencies per locus and per sample` returns a `.INF` file.\n",
    "\n",
    "In Genepop: `Option 6 >> Suboption 1: Allele identity (F-statistics) For all populations` returns a `.FST` file.\n",
    "\n",
    "<br>\n",
    "### Parsing Genepop Output: Rank Loci by FST"
   ]
  },
  {
   "cell_type": "code",
   "execution_count": 1,
   "metadata": {},
   "outputs": [
    {
     "data": {
      "text/plain": [
       "u'/mnt/hgfs/PCod-Korea-repo/notebooks'"
      ]
     },
     "execution_count": 1,
     "metadata": {},
     "output_type": "execute_result"
    }
   ],
   "source": [
    "pwd"
   ]
  },
  {
   "cell_type": "code",
   "execution_count": 2,
   "metadata": {},
   "outputs": [
    {
     "name": "stdout",
     "output_type": "stream",
     "text": [
      "/mnt/hgfs/PCod-Korea-repo\n"
     ]
    }
   ],
   "source": [
    "cd ../"
   ]
  },
  {
   "cell_type": "code",
   "execution_count": 4,
   "metadata": {},
   "outputs": [
    {
     "name": "stdout",
     "output_type": "stream",
     "text": [
      "/mnt/hgfs/PCod-Compare-repo\n"
     ]
    }
   ],
   "source": [
    "cd ../PCod-Compare-repo/"
   ]
  },
  {
   "cell_type": "code",
   "execution_count": 26,
   "metadata": {},
   "outputs": [],
   "source": [
    "# open genepop output file, new text file to write to\n",
    "infile = open(\"stacks_b4_wgenome/batch_4_EastWest_genepop.txt.FST\", \"r\")\n",
    "outfile = open(\"analyses/batch_4_EastWest_FSTrankedLoci.txt\", \"w\")\n",
    "outfile_nofst = open(\"analyses/batch_4_EastWest_Loci_noFST.txt\", \"w\")\n",
    "\n",
    "# skip through the input file until the summary table at the end\n",
    "line = infile.readline()\n",
    "while not line.startswith(\"Multilocus estimates for diploid data\"):\n",
    "    line = infile.readline()\n",
    "\n",
    "# copy over heading of the summary table\n",
    "heading = infile.readline()\n",
    "heading_list = heading.strip().split()\n",
    "outfile.write(\"\\t\".join(heading_list) + \"\\n\")\n",
    "outfile_nofst.write(\"\\t\".join(heading_list) + \"\\n\")\n",
    "infile.readline()\n",
    "\n",
    "# initiate dictionary: key = FST, value = list of loci with that FST\n",
    "fst_dict = {}\n",
    "\n",
    "for line in infile:\n",
    "    # extract locus name and fst value from line\n",
    "    linelist = line.strip().split()\n",
    "    if \"All\" in line:\n",
    "        break\n",
    "    locus = linelist[0]\n",
    "    # if the locus has an FST value (it is present in both groups)\n",
    "    if linelist[2] != \"-\":\n",
    "        fst = float(linelist[2])\n",
    "        # if the fst already exists in dictionary, add locus to value list. otherwise, initiate a new entry\n",
    "        if fst in fst_dict.keys():\n",
    "            loci = fst_dict[fst]\n",
    "            loci.append(locus)\n",
    "            fst_dict[fst] = loci\n",
    "        elif fst not in fst_dict.keys():\n",
    "            fst_dict[fst] = [locus]\n",
    "    elif linelist[2] == \"-\":\n",
    "        outfile_nofst.write(line)\n",
    "infile.close()"
   ]
  },
  {
   "cell_type": "code",
   "execution_count": 27,
   "metadata": {
    "collapsed": true
   },
   "outputs": [],
   "source": [
    "outfile_nofst.close()"
   ]
  },
  {
   "cell_type": "code",
   "execution_count": 28,
   "metadata": {},
   "outputs": [
    {
     "data": {
      "image/png": "[encoded data removed]",
      "text/plain": [
       "<matplotlib.figure.Figure at 0x7f39e7841f50>"
      ]
     },
     "metadata": {},
     "output_type": "display_data"
    }
   ],
   "source": [
    "import numpy as np\n",
    "import matplotlib.pyplot as plt\n",
    "plt.hist(fst_dict.keys())\n",
    "plt.title(\"By Locus FST Distribution\")\n",
    "plt.xlabel(\"FST\")\n",
    "plt.ylabel(\"# Loci\")\n",
    "plt.show()"
   ]
  },
  {
   "cell_type": "code",
   "execution_count": 29,
   "metadata": {
    "collapsed": true
   },
   "outputs": [],
   "source": [
    "plt.close()"
   ]
  },
  {
   "cell_type": "code",
   "execution_count": 30,
   "metadata": {},
   "outputs": [],
   "source": [
    "# sort the FST values, and write to output file in order. each locus gets its own line, even with = FST.\n",
    "fst_list = fst_dict.keys()\n",
    "fst_list.sort()\n",
    "\n",
    "for fst in fst_list:\n",
    "    # if only one locus has that fst value\n",
    "    if len(fst_dict[fst]) == 1:\n",
    "        locus = str(fst_dict[fst]).replace(\"'\",'').replace(\"]\",'').replace(\"[\",'') \n",
    "        outfile.write(locus + \"\\t\" + str(fst) + \"\\n\")\n",
    "    # or if several loci have that fst value\n",
    "    else: \n",
    "        loci = fst_dict[fst]\n",
    "        for i in loci:\n",
    "            outfile.write(i + \"\\t\" + str(fst) + \"\\n\")\n",
    "outfile.close()"
   ]
  },
  {
   "cell_type": "code",
   "execution_count": 32,
   "metadata": {},
   "outputs": [
    {
     "name": "stdout",
     "output_type": "stream",
     "text": [
      "/mnt/hgfs/PCod-Compare-repo/analyses\n"
     ]
    }
   ],
   "source": [
    "cd analyses"
   ]
  },
  {
   "cell_type": "markdown",
   "metadata": {},
   "source": [
    "<br>\n",
    "<br>\n",
    "\n",
    "### Investigate allele frequencies of the top 20 loci with highest FST values\n",
    "\n",
    "I copied over (manually) allele frequency tables from the genepop `.INF` file for the following loci:"
   ]
  },
  {
   "cell_type": "code",
   "execution_count": 39,
   "metadata": {},
   "outputs": [
    {
     "name": "stdout",
     "output_type": "stream",
     "text": [
      "1459_47\t0.995\r\n",
      "24773_38\t0.995\r\n",
      "15292_68\t0.9953\r\n",
      "25325_80\t0.9965\r\n",
      "7855_73\t0.9984\r\n",
      "24890_81\t0.9984\r\n",
      "7965_28\t1.0\r\n",
      "8300_38\t1.0\r\n",
      "9026_39\t1.0\r\n",
      "9465_77\t1.0\r\n",
      "18109_59\t1.0\r\n",
      "18875_90\t1.0\r\n",
      "19949_41\t1.0\r\n",
      "21250_76\t1.0\r\n",
      "21790_38\t1.0\r\n"
     ]
    }
   ],
   "source": [
    "!tail -n 15 batch_4_EAstWest_FSTrankedLoci.txt"
   ]
  },
  {
   "cell_type": "markdown",
   "metadata": {},
   "source": [
    "<br>\n",
    "<br>\n",
    "### Make fasta file with sequences for loci"
   ]
  },
  {
   "cell_type": "code",
   "execution_count": 40,
   "metadata": {
    "collapsed": true
   },
   "outputs": [],
   "source": [
    "loci_of_interest = [\"1459_47\",\n",
    "\"24773_38\",\n",
    "\"15292_68\",\n",
    "\"25325_80\",\n",
    "\"7855_73\",    \n",
    "\"24890_81\",\n",
    "\"7965_28\",\n",
    "\"8300_38\",\n",
    "\"9026_39\",\n",
    "\"9465_77\",\n",
    "\"18109_59\",\n",
    "\"18875_90\",\n",
    "\"19949_41\",\n",
    "\"21250_76\",\n",
    "\"21790_38\"]"
   ]
  },
  {
   "cell_type": "code",
   "execution_count": 41,
   "metadata": {},
   "outputs": [
    {
     "name": "stdout",
     "output_type": "stream",
     "text": [
      "/mnt/hgfs/PCod-Compare-repo\n"
     ]
    }
   ],
   "source": [
    "cd ../"
   ]
  },
  {
   "cell_type": "code",
   "execution_count": 44,
   "metadata": {},
   "outputs": [
    {
     "name": "stdout",
     "output_type": "stream",
     "text": [
      "Needed to copy:  15  loci.\n",
      "Actually copied:  15  loci.\n"
     ]
    }
   ],
   "source": [
    "fasta = open(\"results/PCod_batch_4_AKvKOR_fixedloci_sequences.fasta\", \"w\")\n",
    "catfile = open(\"stacks_b4_wgenome/batch_4.catalog.tags.tsv\", \"r\")\n",
    "catfile.readline() # if there is a header\n",
    "\n",
    "# the loci of interest list has both the locus ID and the SNP position. This code splits them into separate lists\n",
    "loci_list = []\n",
    "pos_list = []\n",
    "for locus in loci_of_interest:\n",
    "    ref = locus.split(\"_\")[0]\n",
    "    pos = locus.split(\"_\")[1]\n",
    "    loci_list.append(ref)\n",
    "    pos_list.append(pos)\n",
    "\n",
    "# now I can run through the catalog file and extract consensus seqences\n",
    "loci_written = 0\n",
    "for line in catfile:\n",
    "    locus = line.strip().split()[2]\n",
    "    if locus in loci_list:\n",
    "        seq = line.strip().split()[9]\n",
    "        i = loci_list.index(locus)\n",
    "        fasta.write(\">\" + loci_list[i] + \"_\" + pos_list[i] + \"\\n\")\n",
    "        fasta.write(seq + \"\\n\")\n",
    "        loci_written += 1\n",
    "catfile.close()\n",
    "\n",
    "print \"Needed to copy: \", len(loci_of_interest), \" loci.\"\n",
    "print \"Actually copied: \", str(loci_written), \" loci.\""
   ]
  },
  {
   "cell_type": "markdown",
   "metadata": {},
   "source": [
    "<br>\n",
    "<br>\n",
    "### File with allele frequencies: \n",
    "PCod_batch_4_AKvKOR_fixedloci_AlleleFrequencies.txt\n"
   ]
  },
  {
   "cell_type": "code",
   "execution_count": 46,
   "metadata": {},
   "outputs": [
    {
     "name": "stdout",
     "output_type": "stream",
     "text": [
      "## GENEPOP allele frequency output for 15 loci with highest FST values ##\r",
      "\r\n",
      "#\r",
      "\r\n",
      "# GEO020414_ == western (Korea)\r",
      "\r\n",
      "# UP03_048 == eastern (Alaska)\r",
      "\r\n",
      "# 15 loci total, 0.995 =< FST =< 1.0\r",
      "\r\n",
      "#\r",
      "\r\n",
      "# MF 11/3/2017\r",
      "\r\n",
      "#\r",
      "\r\n",
      "##############################################################################\r",
      "\r\n",
      "\r",
      "\r\n"
     ]
    }
   ],
   "source": [
    "!head results/PCod_batch_4_AKvKOR_fixedloci_AlleleFrequencies.txt"
   ]
  },
  {
   "cell_type": "markdown",
   "metadata": {},
   "source": [
    "### Fasta file with sequences:\n",
    "PCod_batch_4_AKvKOR_fixedloci_sequences.fasta\n"
   ]
  },
  {
   "cell_type": "code",
   "execution_count": 48,
   "metadata": {
    "scrolled": true
   },
   "outputs": [
    {
     "name": "stdout",
     "output_type": "stream",
     "text": [
      ">1459_47\r\n",
      "TGCAGGGGTGTTCTCGCCATGAGAACTTTAAATTCTCATGGCGAAATTGATTCCAATGAGACCGTTTTCCGGTCATTTTCTTTTTGCCCGGC\r\n"
     ]
    }
   ],
   "source": [
    "!head -n 2 results/PCod_batch_4_AKvKOR_fixedloci_sequences.fasta"
   ]
  },
  {
   "cell_type": "code",
   "execution_count": null,
   "metadata": {
    "collapsed": true
   },
   "outputs": [],
   "source": []
  }
 ],
 "metadata": {
  "kernelspec": {
   "display_name": "Python 2",
   "language": "python",
   "name": "python2"
  },
  "language_info": {
   "codemirror_mode": {
    "name": "ipython",
    "version": 2
   },
   "file_extension": ".py",
   "mimetype": "text/x-python",
   "name": "python",
   "nbconvert_exporter": "python",
   "pygments_lexer": "ipython2",
   "version": "2.7.13"
  }
 },
 "nbformat": 4,
 "nbformat_minor": 2
}
