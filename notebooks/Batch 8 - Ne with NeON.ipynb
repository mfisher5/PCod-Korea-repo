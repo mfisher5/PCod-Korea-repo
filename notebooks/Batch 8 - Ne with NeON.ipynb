{
 "cells": [
  {
   "cell_type": "markdown",
   "metadata": {
    "collapsed": true
   },
   "source": [
    "## NeON - long term estimates of Ne\n",
    "<br>\n",
    "<br>\n",
    "Run in linux (Ubuntu VM). NeON is an R package. For instructions on running in R, refer to [this R script]()\n",
    "<br>\n",
    "\n",
    "\n",
    "<br>\n",
    "\n",
    "\n",
    "<br>\n",
    "#### 12/6/2017\n",
    "### Installing NeON\n",
    "\n",
    "According to the NeON Tutorial, in order to run NeON you will need to: \n",
    "\n",
    "1. download PLINK v1.07 from [this site](http://zzz.bwh.harvard.edu/plink/download.shtml), unzip it, and put the binary files into the working folder. If you are working on an ubuntu VM, use `Linux (x86_64)`  \n",
    "2. download the NeON package with tutorial from [this site](http://www.unife.it/dipartimento/biologia-evoluzione/ricerca/evoluzione-e-genetica/software). unzip it and put the files / directories into the working folder.\n",
    "3. in the terminal, navigate to the working directory\n",
    "4. install the add-on R package with `R CMD INSTALL NeON_1.0.tar.gz`\n",
    "\n",
    "You can now open NeON in R. \n",
    "\n",
    "My working directory file structure: "
   ]
  },
  {
   "cell_type": "code",
   "execution_count": 1,
   "metadata": {},
   "outputs": [
    {
     "data": {
      "text/plain": [
       "u'/mnt/hgfs/PCod-Korea-repo/notebooks'"
      ]
     },
     "execution_count": 1,
     "metadata": {},
     "output_type": "execute_result"
    }
   ],
   "source": [
    "pwd"
   ]
  },
  {
   "cell_type": "code",
   "execution_count": 2,
   "metadata": {},
   "outputs": [
    {
     "name": "stdout",
     "output_type": "stream",
     "text": [
      "/mnt/hgfs/PCod-Korea-repo/analyses/Ne/NeON\n"
     ]
    }
   ],
   "source": [
    "cd ../analyses/Ne/NeON/"
   ]
  },
  {
   "cell_type": "code",
   "execution_count": 3,
   "metadata": {},
   "outputs": [
    {
     "name": "stdout",
     "output_type": "stream",
     "text": [
      "\u001b[0m\u001b[01;32mbatch_8_filtered_Admixture_input_ATalleles.ped\u001b[0m*     \u001b[01;32mNeON_1.0.tar.gz\u001b[0m*\r\n",
      "\u001b[01;32mbatch_8_filtered_Admixture_input_ATallelesSNeP.ld\u001b[0m*  \u001b[01;32mNeON-manual.pdf\u001b[0m*\r\n",
      "\u001b[01;32mbatch_8_filtered_Admixture_input_nofam.ped\u001b[0m*         \u001b[34;42mNeON_TUTORIAL_INSTALL\u001b[0m/\r\n",
      "\u001b[01;32mbatch_8_filtered_Admixture_input.ped\u001b[0m*               \u001b[01;32mNeON Tutorial.pdf\u001b[0m*\r\n",
      "\u001b[01;32mbatch_8_filtered_bowtieACod_filteredMQ10_dist.map\u001b[0m*  \u001b[01;32mNeON_tutorial.R\u001b[0m*\r\n",
      "\u001b[01;32mbatch_8_filtered_bowtieACod_filteredMQ10.map\u001b[0m*       \u001b[34;42mpcod-data\u001b[0m/\r\n",
      "\u001b[01;32mCOPYING.txt\u001b[0m*                                        \u001b[01;32mplink\u001b[0m*\r\n",
      "\u001b[34;42mdata\u001b[0m/                                               \u001b[01;32mREADME.txt\u001b[0m*\r\n",
      "\u001b[34;42mgenetic_map\u001b[0m/                                        \u001b[01;32mtest.map\u001b[0m*\r\n",
      "\u001b[01;32mgPLINK.jar\u001b[0m*                                         \u001b[01;32mtest.ped\u001b[0m*\r\n"
     ]
    }
   ],
   "source": [
    "ls"
   ]
  },
  {
   "cell_type": "markdown",
   "metadata": {},
   "source": [
    "Note how plink and neon executables are in the working directory; data and genetic maps are in their own folder. "
   ]
  },
  {
   "cell_type": "markdown",
   "metadata": {},
   "source": [
    "<br>\n",
    "<br>\n",
    "\n",
    "### Make PLINK files: .bed, .fam, .bim, .ld\n",
    "\n",
    "#### STEP ONE: alignment and genepop filtering\n",
    "\n",
    "**(A)** Align your final, filtered loci to a genome, and then filter by mapping quality for only unique alignments.\n",
    "\n",
    "See [this notebook](https://github.com/mfisher5/PCod-Korea-repo/blob/master/notebooks/Batch%208%20-%20Alignment%20to%20Atlantic%20cod%20Genome.ipynb) for alignment instructions. \n",
    "\n",
    "\n",
    "<br>\n",
    "\n",
    "**(B)** Filter your genepop file so that it only includes those loci. \n",
    "\n"
   ]
  },
  {
   "cell_type": "code",
   "execution_count": 4,
   "metadata": {},
   "outputs": [
    {
     "data": {
      "text/plain": [
       "u'/mnt/hgfs/PCod-Korea-repo/analyses/Ne/NeON'"
      ]
     },
     "execution_count": 4,
     "metadata": {},
     "output_type": "execute_result"
    }
   ],
   "source": [
    "pwd"
   ]
  },
  {
   "cell_type": "code",
   "execution_count": 5,
   "metadata": {},
   "outputs": [
    {
     "name": "stdout",
     "output_type": "stream",
     "text": [
      "/mnt/hgfs/PCod-Korea-repo\n"
     ]
    }
   ],
   "source": [
    "cd ../../../"
   ]
  },
  {
   "cell_type": "code",
   "execution_count": 11,
   "metadata": {},
   "outputs": [
    {
     "name": "stdout",
     "output_type": "stream",
     "text": [
      "You have  4031  loci\n",
      "Loci retained in individual:  4031\n",
      "Loci retained in individual:  4031\n",
      "Loci retained in individual:  4031\n",
      "Loci retained in individual:  4031\n",
      "Loci retained in individual:  4031\n",
      "Loci retained in individual:  4031\n",
      "Loci retained in individual:  4031\n",
      "Loci retained in individual:  4031\n",
      "Loci retained in individual:  4031\n",
      "Loci retained in individual:  4031\n",
      "Loci retained in individual:  4031\n",
      "Loci retained in individual:  4031\n",
      "Loci retained in individual:  4031\n",
      "Loci retained in individual:  4031\n",
      "Loci retained in individual:  4031\n",
      "Loci retained in individual:  4031\n",
      "Loci retained in individual:  4031\n",
      "Loci retained in individual:  4031\n",
      "Loci retained in individual:  4031\n",
      "Loci retained in individual:  4031\n",
      "Loci retained in individual:  4031\n",
      "Loci retained in individual:  4031\n",
      "Loci retained in individual:  4031\n",
      "Loci retained in individual:  4031\n",
      "Loci retained in individual:  4031\n",
      "Loci retained in individual:  4031\n",
      "Loci retained in individual:  4031\n",
      "Loci retained in individual:  4031\n",
      "Loci retained in individual:  4031\n",
      "Loci retained in individual:  4031\n",
      "Loci retained in individual:  4031\n",
      "Loci retained in individual:  4031\n",
      "Loci retained in individual:  4031\n",
      "Loci retained in individual:  4031\n",
      "Loci retained in individual:  4031\n",
      "Loci retained in individual:  4031\n",
      "Loci retained in individual:  4031\n",
      "Loci retained in individual:  4031\n",
      "Loci retained in individual:  4031\n",
      "Loci retained in individual:  4031\n",
      "Loci retained in individual:  4031\n",
      "Loci retained in individual:  4031\n",
      "Loci retained in individual:  4031\n",
      "Loci retained in individual:  4031\n",
      "Loci retained in individual:  4031\n",
      "Loci retained in individual:  4031\n",
      "Loci retained in individual:  4031\n",
      "Loci retained in individual:  4031\n",
      "Loci retained in individual:  4031\n",
      "Loci retained in individual:  4031\n",
      "Loci retained in individual:  4031\n",
      "Loci retained in individual:  4031\n",
      "Loci retained in individual:  4031\n",
      "Loci retained in individual:  4031\n",
      "Loci retained in individual:  4031\n",
      "Loci retained in individual:  4031\n",
      "Loci retained in individual:  4031\n",
      "Loci retained in individual:  4031\n",
      "Loci retained in individual:  4031\n",
      "Loci retained in individual:  4031\n",
      "Loci retained in individual:  4031\n",
      "Loci retained in individual:  4031\n",
      "Loci retained in individual:  4031\n",
      "Loci retained in individual:  4031\n",
      "Loci retained in individual:  4031\n",
      "Loci retained in individual:  4031\n",
      "Loci retained in individual:  4031\n",
      "Loci retained in individual:  4031\n",
      "Loci retained in individual:  4031\n",
      "Loci retained in individual:  4031\n",
      "Loci retained in individual:  4031\n",
      "Loci retained in individual:  4031\n",
      "Loci retained in individual:  4031\n",
      "Loci retained in individual:  4031\n",
      "Loci retained in individual:  4031\n",
      "Loci retained in individual:  4031\n",
      "Loci retained in individual:  4031\n",
      "Loci retained in individual:  4031\n",
      "Loci retained in individual:  4031\n",
      "Loci retained in individual:  4031\n",
      "Loci retained in individual:  4031\n",
      "Loci retained in individual:  4031\n",
      "Loci retained in individual:  4031\n",
      "Loci retained in individual:  4031\n",
      "Loci retained in individual:  4031\n",
      "Loci retained in individual:  4031\n",
      "Loci retained in individual:  4031\n",
      "Loci retained in individual:  4031\n",
      "Loci retained in individual:  4031\n",
      "Loci retained in individual:  4031\n",
      "Loci retained in individual:  4031\n",
      "Loci retained in individual:  4031\n",
      "Loci retained in individual:  4031\n",
      "Loci retained in individual:  4031\n",
      "Loci retained in individual:  4031\n",
      "Loci retained in individual:  4031\n",
      "Loci retained in individual:  4031\n",
      "Loci retained in individual:  4031\n",
      "Loci retained in individual:  4031\n",
      "Loci retained in individual:  4031\n",
      "Loci retained in individual:  4031\n",
      "Loci retained in individual:  4031\n",
      "Loci retained in individual:  4031\n",
      "Loci retained in individual:  4031\n",
      "Loci retained in individual:  4031\n",
      "Loci retained in individual:  4031\n",
      "Loci retained in individual:  4031\n",
      "Loci retained in individual:  4031\n",
      "Loci retained in individual:  4031\n",
      "Loci retained in individual:  4031\n",
      "Loci retained in individual:  4031\n",
      "Loci retained in individual:  4031\n",
      "Loci retained in individual:  4031\n",
      "Loci retained in individual:  4031\n",
      "Loci retained in individual:  4031\n",
      "Loci retained in individual:  4031\n",
      "Loci retained in individual:  4031\n",
      "Loci retained in individual:  4031\n",
      "Loci retained in individual:  4031\n",
      "Loci retained in individual:  4031\n",
      "Loci retained in individual:  4031\n",
      "Loci retained in individual:  4031\n",
      "Loci retained in individual:  4031\n",
      "Loci retained in individual:  4031\n",
      "Loci retained in individual:  4031\n",
      "Loci retained in individual:  4031\n",
      "Loci retained in individual:  4031\n",
      "Loci retained in individual:  4031\n",
      "Loci retained in individual:  4031\n",
      "Loci retained in individual:  4031\n",
      "Loci retained in individual:  4031\n",
      "Loci retained in individual:  4031\n",
      "Loci retained in individual:  4031\n",
      "Loci retained in individual:  4031\n",
      "Loci retained in individual:  4031\n",
      "Loci retained in individual:  4031\n",
      "Loci retained in individual:  4031\n",
      "Loci retained in individual:  4031\n",
      "Loci retained in individual:  4031\n",
      "Loci retained in individual:  4031\n",
      "Loci retained in individual:  4031\n",
      "Loci retained in individual:  4031\n",
      "Loci retained in individual:  4031\n",
      "Loci retained in individual:  4031\n",
      "Loci retained in individual:  4031\n",
      "Loci retained in individual:  4031\n",
      "Loci retained in individual:  4031\n",
      "Loci retained in individual:  4031\n",
      "Loci retained in individual:  4031\n",
      "Loci retained in individual:  4031\n",
      "Loci retained in individual:  4031\n",
      "Loci retained in individual:  4031\n",
      "Loci retained in individual:  4031\n",
      "Loci retained in individual:  4031\n",
      "Loci retained in individual:  4031\n",
      "Loci retained in individual:  4031\n",
      "Loci retained in individual:  4031\n",
      "Loci retained in individual:  4031\n",
      "Loci retained in individual:  4031\n",
      "Loci retained in individual:  4031\n",
      "Loci retained in individual:  4031\n",
      "Loci retained in individual:  4031\n",
      "Loci retained in individual:  4031\n",
      "Loci retained in individual:  4031\n",
      "Loci retained in individual:  4031\n",
      "Loci retained in individual:  4031\n",
      "Loci retained in individual:  4031\n",
      "Loci retained in individual:  4031\n",
      "Loci retained in individual:  4031\n",
      "Loci retained in individual:  4031\n",
      "Loci retained in individual:  4031\n",
      "Loci retained in individual:  4031\n",
      "Loci retained in individual:  4031\n",
      "Loci retained in individual:  4031\n",
      "Loci retained in individual:  4031\n",
      "Loci retained in individual:  4031\n",
      "Loci retained in individual:  4031\n",
      "Loci retained in individual:  4031\n",
      "Loci retained in individual:  4031\n",
      "Loci retained in individual:  4031\n",
      "Loci retained in individual:  4031\n",
      "Loci retained in individual:  4031\n",
      "Loci retained in individual:  4031\n",
      "Loci retained in individual:  4031\n",
      "Loci retained in individual:  4031\n",
      "Loci retained in individual:  4031\n",
      "Loci retained in individual:  4031\n",
      "Loci retained in individual:  4031\n",
      "Loci retained in individual:  4031\n",
      "Loci retained in individual:  4031\n",
      "Loci retained in individual:  4031\n",
      "Loci retained in individual:  4031\n",
      "Loci retained in individual:  4031\n",
      "Loci retained in individual:  4031\n",
      "Loci retained in individual:  4031\n",
      "Loci retained in individual:  4031\n",
      "Loci retained in individual:  4031\n",
      "Loci retained in individual:  4031\n",
      "Loci retained in individual:  4031\n",
      "Loci retained in individual:  4031\n",
      "Loci retained in individual:  4031\n",
      "Loci retained in individual:  4031\n",
      "Loci retained in individual:  4031\n",
      "Loci retained in individual:  4031\n",
      "Loci retained in individual:  4031\n",
      "Loci retained in individual:  4031\n",
      "Loci retained in individual:  4031\n",
      "Loci retained in individual:  4031\n",
      "Loci retained in individual:  4031\n",
      "Loci retained in individual:  4031\n",
      "Loci retained in individual:  4031\n",
      "Loci retained in individual:  4031\n",
      "Loci retained in individual:  4031\n",
      "Loci retained in individual:  4031\n",
      "Loci retained in individual:  4031\n",
      "Loci retained in individual:  4031\n",
      "Loci retained in individual:  4031\n",
      "Loci retained in individual:  4031\n",
      "Loci retained in individual:  4031\n",
      "Loci retained in individual:  4031\n",
      "Loci retained in individual:  4031\n",
      "Loci retained in individual:  4031\n",
      "Loci retained in individual:  4031\n",
      "Loci retained in individual:  4031\n",
      "Loci retained in individual:  4031\n",
      "Loci retained in individual:  4031\n",
      "Loci retained in individual:  4031\n",
      "Loci retained in individual:  4031\n",
      "Loci retained in individual:  4031\n",
      "Loci retained in individual:  4031\n",
      "Loci retained in individual:  4031\n",
      "Loci retained in individual:  4031\n",
      "Loci retained in individual:  4031\n",
      "Loci retained in individual:  4031\n",
      "Loci retained in individual:  4031\n",
      "Loci retained in individual:  4031\n",
      "Loci retained in individual:  4031\n",
      "Loci retained in individual:  4031\n",
      "Loci retained in individual:  4031\n",
      "Loci retained in individual:  4031\n",
      "Loci retained in individual:  4031\n",
      "Loci retained in individual:  4031\n",
      "Loci retained in individual:  4031\n",
      "Loci retained in individual:  4031\n",
      "Loci retained in individual:  4031\n",
      "Loci retained in individual:  4031\n",
      "Loci retained in individual:  4031\n",
      "Loci retained in individual:  4031\n",
      "Loci retained in individual:  4031\n",
      "Loci retained in individual:  4031\n",
      "Loci retained in individual:  4031\n",
      "Loci retained in individual:  4031\n",
      "Loci retained in individual:  4031\n"
     ]
    }
   ],
   "source": [
    "infile = open(\"analyses/Ne/NeON/batch_8_filtered_bowtieACod_filteredMQ10.map\", \"r\")\n",
    "\n",
    "loci_to_keep = []\n",
    "for line in infile:\n",
    "    loci_to_keep.append(line.strip().split()[1])\n",
    "infile.close()\n",
    "print \"You have \", len(loci_to_keep), \" loci\"\n",
    "\n",
    "genfile = open(\"stacks_b8_wgenome/batch_8_filteredMAF_filteredIndivids30_filteredLoci_filteredHWE_filteredRepsC.txt\", \"r\")\n",
    "outfile = open(\"analyses/Ne/NeON/batch_8_filtered_bowtieACod_filteredMQ10_genepop.gen\", \"w\")\n",
    "\n",
    "# write over header\n",
    "header = genfile.readline()\n",
    "outfile.write(header)\n",
    "\n",
    "# write over loci to keep\n",
    "loci_ordered = [] # get a list of the loci to keep as they are ordered in the genepop file\n",
    "keep_genos = [] # binary: keep or skip over the locus in an individual\n",
    "for line in genfile:\n",
    "    if \"pop\" not in line and \"Pop\" not in line: \n",
    "        locus = line.strip()\n",
    "        if locus in loci_to_keep: \n",
    "            loci_ordered.append(locus)\n",
    "            outfile.write(line)\n",
    "            keep_genos.append(1)\n",
    "        else:\n",
    "            keep_genos.append(0)\n",
    "    else:\n",
    "        outfile.write(line) #write in first \"pop\"\n",
    "        break\n",
    "\n",
    "# write over genotypes\n",
    "for line in genfile:\n",
    "    linelist = line.strip().split()\n",
    "    if len(linelist) < 2:\n",
    "        outfile.write(line)\n",
    "    else:\n",
    "        sampleID = linelist[0]\n",
    "        genotypes = linelist[1:]\n",
    "        genotypes_keep = []\n",
    "        for i in range(0, len(genotypes)):\n",
    "            if keep_genos[i] == 1:\n",
    "                genotypes_keep.append(genotypes[i])\n",
    "        outfile.write(sampleID + \"\\t\" + \"\\t\".join(genotypes_keep) + \"\\n\")\n",
    "        print \"Loci retained in individual: \", len(genotypes_keep)\n",
    "genfile.close()\n",
    "outfile.close()\n"
   ]
  },
  {
   "cell_type": "code",
   "execution_count": null,
   "metadata": {
    "collapsed": true
   },
   "outputs": [],
   "source": []
  },
  {
   "cell_type": "markdown",
   "metadata": {},
   "source": [
    "#### STEP TWO: create .ped and .map files\n",
    "\n",
    "For full set of directions, see the notebook [batch 8 - PLINK files]().\n",
    "\n",
    "I made a `.ped` file with my new, filtered genepop file. *Note that you must replace numerical alleles with base pairs. I randomly chose to use \"A\" for \"01\" and \"T\" for \"02\"*\n",
    "\n",
    "I do need to redo my `.map` file, so that the order of my loci matches the order of the loci in the .ped file (the .ped file does not have loci headers, so PLINK cannot correctly name loci without the order specified in the .map file). I can do this using the list object `loci_ordered` from above."
   ]
  },
  {
   "cell_type": "code",
   "execution_count": 12,
   "metadata": {},
   "outputs": [
    {
     "name": "stdout",
     "output_type": "stream",
     "text": [
      "copied over  4031  lines\n"
     ]
    }
   ],
   "source": [
    "outmap = open(\"analyses/Ne/NeON/batch_8_filtered_bowtieACod_filteredMQ10_ordered.map\", \"w\")\n",
    "lines_copied = 0\n",
    "for locus in loci_ordered:\n",
    "    inmap = open(\"analyses/Ne/NeON/batch_8_filtered_bowtieACod_filteredMQ10.map\", \"r\")\n",
    "    for line in inmap:\n",
    "        if line.strip().split()[1] == locus:\n",
    "            outmap.write(line)\n",
    "            lines_copied += 1\n",
    "    inmap.close()\n",
    "outmap.close()\n",
    "print \"copied over \", lines_copied, \" lines\""
   ]
  },
  {
   "cell_type": "markdown",
   "metadata": {},
   "source": [
    "<br>\n",
    "<br>\n",
    "\n",
    "#### STEP THREE: Make .bed / .bim / .fam file using `plink`, and the .ped and .map files\n",
    "\n",
    "More on PLINK binary files [here](www.gwaspi.org/?page_id=671)\n",
    "\n",
    "<br>\n",
    "Note that this is NOT the same `.bed` file as used for `bedtools`."
   ]
  },
  {
   "cell_type": "code",
   "execution_count": 13,
   "metadata": {},
   "outputs": [
    {
     "name": "stdout",
     "output_type": "stream",
     "text": [
      "/mnt/hgfs/PCod-Korea-repo/analyses/Ne/NeON\n"
     ]
    }
   ],
   "source": [
    "cd analyses/Ne/NeON"
   ]
  },
  {
   "cell_type": "code",
   "execution_count": 14,
   "metadata": {
    "collapsed": true
   },
   "outputs": [],
   "source": [
    "!mv batch_8_filtered_bowtieACod_filteredMQ10_ne_input_AT.ped pcod-data/batch_8_filtered_bowtieACod_filteredMQ10_ne_input_AT.ped"
   ]
  },
  {
   "cell_type": "code",
   "execution_count": 15,
   "metadata": {
    "collapsed": true
   },
   "outputs": [],
   "source": [
    "!mv batch_8_filtered_bowtieACod_filteredMQ10_ordered.map pcod-data/batch_8_filtered_bowtieACod_filteredMQ10_ne_input_AT.map"
   ]
  },
  {
   "cell_type": "code",
   "execution_count": 19,
   "metadata": {},
   "outputs": [
    {
     "name": "stdout",
     "output_type": "stream",
     "text": [
      "\n",
      "@----------------------------------------------------------@\n",
      "|        PLINK!       |     v1.07      |   10/Aug/2009     |\n",
      "|----------------------------------------------------------|\n",
      "|  (C) 2009 Shaun Purcell, GNU General Public License, v2  |\n",
      "|----------------------------------------------------------|\n",
      "|  For documentation, citation & bug-report instructions:  |\n",
      "|        http://pngu.mgh.harvard.edu/purcell/plink/        |\n",
      "@----------------------------------------------------------@\n",
      "\n",
      "Web-based version check ( --noweb to skip )\n",
      "Recent cached web-check found...Problem connecting to web\n",
      "\n",
      "Writing this text to log file [ pcod-data/batch_8_filtered_bowtieACod_filteredMQ10.log ]\n",
      "Analysis started: Wed Dec  6 11:38:07 2017\n",
      "\n",
      "Options in effect:\n",
      "\t--file pcod-data/batch_8_filtered_bowtieACod_filteredMQ10_ne_input_AT\n",
      "\t--make-bed\n",
      "\t--out pcod-data/batch_8_filtered_bowtieACod_filteredMQ10\n",
      "\n",
      "4031 (of 4031) markers to be included from [ pcod-data/batch_8_filtered_bowtieACod_filteredMQ10_ne_input_AT.map ]\n",
      "Warning, found 253 individuals with ambiguous sex codes\n",
      "Writing list of these individuals to [ pcod-data/batch_8_filtered_bowtieACod_filteredMQ10.nosex ]\n",
      "253 individuals read from [ pcod-data/batch_8_filtered_bowtieACod_filteredMQ10_ne_input_AT.ped ] \n",
      "0 individuals with nonmissing phenotypes\n",
      "Assuming a disease phenotype (1=unaff, 2=aff, 0=miss)\n",
      "Missing phenotype value is also -9\n",
      "0 cases, 0 controls and 253 missing\n",
      "0 males, 0 females, and 253 of unspecified sex\n",
      "Before frequency and genotyping pruning, there are 4031 SNPs\n",
      "253 founders and 0 non-founders found\n",
      "Total genotyping rate in remaining individuals is 0.982294\n",
      "0 SNPs failed missingness test ( GENO > 1 )\n",
      "0 SNPs failed frequency test ( MAF < 0 )\n",
      "After frequency and genotyping pruning, there are 4031 SNPs\n",
      "After filtering, 0 cases, 0 controls and 253 missing\n",
      "After filtering, 0 males, 0 females, and 253 of unspecified sex\n",
      "Writing pedigree information to [ pcod-data/batch_8_filtered_bowtieACod_filteredMQ10.fam ] \n",
      "Writing map (extended format) information to [ pcod-data/batch_8_filtered_bowtieACod_filteredMQ10.bim ] \n",
      "Writing genotype bitfile to [ pcod-data/batch_8_filtered_bowtieACod_filteredMQ10.bed ] \n",
      "Using (default) SNP-major mode\n",
      "\n",
      "Analysis finished: Wed Dec  6 11:38:08 2017\n",
      "\n"
     ]
    }
   ],
   "source": [
    "!./plink --file pcod-data/batch_8_filtered_bowtieACod_filteredMQ10_ne_input_AT --make-bed --out pcod-data/batch_8_filtered_bowtieACod_filteredMQ10"
   ]
  },
  {
   "cell_type": "markdown",
   "metadata": {},
   "source": [
    "#### STEP FOUR: Create .ld file using `plink`\n",
    "\n",
    "more on ld files [here](zzz.bwh.harvard.edu/ls.shtml)\n",
    "\n",
    "Be sure to calculate `r2` and not `r`"
   ]
  },
  {
   "cell_type": "code",
   "execution_count": 38,
   "metadata": {
    "scrolled": true
   },
   "outputs": [
    {
     "name": "stdout",
     "output_type": "stream",
     "text": [
      "\n",
      "@----------------------------------------------------------@\n",
      "|        PLINK!       |     v1.07      |   10/Aug/2009     |\n",
      "|----------------------------------------------------------|\n",
      "|  (C) 2009 Shaun Purcell, GNU General Public License, v2  |\n",
      "|----------------------------------------------------------|\n",
      "|  For documentation, citation & bug-report instructions:  |\n",
      "|        http://pngu.mgh.harvard.edu/purcell/plink/        |\n",
      "@----------------------------------------------------------@\n",
      "\n",
      "Web-based version check ( --noweb to skip )\n",
      "Recent cached web-check found...Problem connecting to web\n",
      "\n",
      "Writing this text to log file [ plink.log ]\n",
      "Analysis started: Wed Dec  6 12:11:08 2017\n",
      "\n",
      "Options in effect:\n",
      "\t--file pcod-data/batch_8_filtered_bowtieACod_filteredMQ10_ne_input_AT\n",
      "\t--r2\n",
      "\t--allow-no-sex\n",
      "\n",
      "4031 (of 4031) markers to be included from [ pcod-data/batch_8_filtered_bowtieACod_filteredMQ10_ne_input_AT.map ]\n",
      "Warning, found 253 individuals with ambiguous sex codes\n",
      "Writing list of these individuals to [ plink.nosex ]\n",
      "253 individuals read from [ pcod-data/batch_8_filtered_bowtieACod_filteredMQ10_ne_input_AT.ped ] \n",
      "0 individuals with nonmissing phenotypes\n",
      "Assuming a disease phenotype (1=unaff, 2=aff, 0=miss)\n",
      "Missing phenotype value is also -9\n",
      "0 cases, 0 controls and 253 missing\n",
      "0 males, 0 females, and 253 of unspecified sex\n",
      "Before frequency and genotyping pruning, there are 4031 SNPs\n",
      "253 founders and 0 non-founders found\n",
      "Total genotyping rate in remaining individuals is 0.982294\n",
      "0 SNPs failed missingness test ( GENO > 1 )\n",
      "0 SNPs failed frequency test ( MAF < 0 )\n",
      "After frequency and genotyping pruning, there are 4031 SNPs\n",
      "After filtering, 0 cases, 0 controls and 253 missing\n",
      "After filtering, 0 males, 0 females, and 253 of unspecified sex\n",
      "Writing LD statistics to [ plink.ld ] \n",
      "\n",
      "Analysis finished: Wed Dec  6 12:11:09 2017\n",
      "\n"
     ]
    }
   ],
   "source": [
    "!./plink --file pcod-data/batch_8_filtered_bowtieACod_filteredMQ10_ne_input_AT --r2 --allow-no-sex"
   ]
  },
  {
   "cell_type": "code",
   "execution_count": 39,
   "metadata": {},
   "outputs": [
    {
     "name": "stdout",
     "output_type": "stream",
     "text": [
      " CHR_A         BP_A   SNP_A  CHR_B         BP_B   SNP_B           R2 \r\n",
      "     0       129609    4135      0       142208   21046     0.219354 \r\n",
      "     0       996100    6562      0       996231   17935     0.850749 \r\n",
      "     0      1317465    6903      0      1317603   10478     0.249635 \r\n",
      "     0      1323218   12353      0      1333072    6576     0.824104 \r\n",
      "     0      1535383    3518      0      1535521    3602     0.655982 \r\n",
      "     0      1535383    3518      0      1540993   23912     0.529246 \r\n",
      "     0      1535521    3602      0      1540993   23912     0.467432 \r\n",
      "     0      1610166   16064      0      1610306    9250     0.524646 \r\n",
      "     0      1866533   16398      0      1896621   15111     0.557202 \r\n"
     ]
    }
   ],
   "source": [
    "!head plink.ld"
   ]
  },
  {
   "cell_type": "code",
   "execution_count": 40,
   "metadata": {},
   "outputs": [
    {
     "name": "stdout",
     "output_type": "stream",
     "text": [
      " CHR_A         BP_A         SNP_A  CHR_B         BP_B         SNP_B           R2 \r\n",
      "     1       993492      0.494952      1      1087198      0.640116    0.0103293 \r\n",
      "     1       993492      0.494952      1      1120590      0.811253  0.000470105 \r\n",
      "     1       993492      0.494952      1      1145994      0.831152    0.0414282 \r\n",
      "     1       993492      0.494952      1      1148494      0.833377   0.00544144 \r\n",
      "     1       993492      0.494952      1      1201155      0.875979     0.055172 \r\n",
      "     1       993492      0.494952      1      1468016        1.0544  0.000109858 \r\n",
      "     1       993492      0.494952      1      1490804       1.05928   0.00202653 \r\n",
      "     1      1087198      0.640116      1      1120590      0.811253    0.0249491 \r\n",
      "     1      1087198      0.640116      1      1145994      0.831152    0.0577768 \r\n"
     ]
    }
   ],
   "source": [
    "!head data/CEU_gen.ld"
   ]
  },
  {
   "cell_type": "markdown",
   "metadata": {},
   "source": [
    "<br>\n",
    "** why are there no chromosome codes?** According to [this website](), only versions PLINK 1.9 and later permit contig names instead of human chromosome names. BUT I can probably add these in manually. "
   ]
  },
  {
   "cell_type": "code",
   "execution_count": 41,
   "metadata": {
    "collapsed": true
   },
   "outputs": [],
   "source": [
    "# Create a dictionary of locus name : contig name\n",
    "mapfile = open(\"pcod-data/batch_8_filtered_bowtieACod_filteredMQ10_ne_input_AT.map\", \"r\")\n",
    "locus_contig_dict = {}\n",
    "for line in mapfile:\n",
    "    linelist = line.strip().split()\n",
    "    locus_contig_dict[linelist[1]] = linelist[0]\n",
    "mapfile.close()"
   ]
  },
  {
   "cell_type": "code",
   "execution_count": 65,
   "metadata": {},
   "outputs": [],
   "source": [
    "# use the dictionary to add in appropriate contig names for new `.ld` file\n",
    "infile = open(\"plink.ld\", \"r\")\n",
    "outfile = open(\"pcod-data/batch_8_filtered_bowtieACod_filteredMQ10.ld\", \"w\")\n",
    "\n",
    "header = infile.readline()\n",
    "outfile.write(header)\n",
    "\n",
    "for line in infile:\n",
    "    linelist = line.strip().split()\n",
    "    locusA = linelist[2]\n",
    "    locusB = linelist[5]\n",
    "    chromA = locus_contig_dict[locusA]\n",
    "    chromB = locus_contig_dict[locusB]\n",
    "    linelist[0] = chromA\n",
    "    linelist[3] = chromB\n",
    "    outfile.write(\"     \" + linelist[0] + \"       \" + linelist[1] + \"    \" + linelist[2] + \"      \" + linelist[3] \n",
    "                  + \"       \" + linelist[4] + \"   \" + linelist[5] + \"     \" + linelist[6] + \" \\n\")\n",
    "infile.close()\n",
    "outfile.close()"
   ]
  },
  {
   "cell_type": "code",
   "execution_count": 66,
   "metadata": {
    "scrolled": true
   },
   "outputs": [
    {
     "name": "stdout",
     "output_type": "stream",
     "text": [
      " CHR_A         BP_A   SNP_A  CHR_B         BP_B   SNP_B           R2 \r\n",
      "     GmG20150304_scaffold_7973       129609    4135      GmG20150304_scaffold_7973       142208   21046     0.219354 \r\n",
      "     LG16       996100    6562      LG16       996231   17935     0.850749 \r\n",
      "     LG21       1317465    6903      LG21       1317603   10478     0.249635 \r\n",
      "     LG11       1323218    12353      LG11       1333072   6576     0.824104 \r\n",
      "     LG13       1535383    3518      LG13       1535521   3602     0.655982 \r\n",
      "     LG13       1535383    3518      LG13       1540993   23912     0.529246 \r\n",
      "     LG13       1535521    3602      LG13       1540993   23912     0.467432 \r\n",
      "     LG20       1610166    16064      LG20       1610306   9250     0.524646 \r\n",
      "     LG18       1866533    16398      LG18       1896621   15111     0.557202 \r\n"
     ]
    }
   ],
   "source": [
    "!head pcod-data/batch_8_filtered_bowtieACod_filteredMQ10.ld"
   ]
  },
  {
   "cell_type": "code",
   "execution_count": 67,
   "metadata": {},
   "outputs": [
    {
     "name": "stdout",
     "output_type": "stream",
     "text": [
      "GmG20150304_scaffold_7973\n"
     ]
    }
   ],
   "source": [
    "print locus_contig_dict['4135']"
   ]
  },
  {
   "cell_type": "markdown",
   "metadata": {},
   "source": [
    "<br>\n",
    "<br>\n",
    "\n",
    "### troubleshooting"
   ]
  },
  {
   "cell_type": "code",
   "execution_count": 68,
   "metadata": {},
   "outputs": [
    {
     "name": "stdout",
     "output_type": "stream",
     "text": [
      "pop_1 PO010715_02 0 0 0 -9\r\n",
      "pop_1 PO010715_04 0 0 0 -9\r\n",
      "pop_1 PO010715_06.1 0 0 0 -9\r\n",
      "pop_1 PO010715_08.1 0 0 0 -9\r\n",
      "pop_1 PO010715_10.1 0 0 0 -9\r\n",
      "pop_1 PO010715_11.1 0 0 0 -9\r\n",
      "pop_1 PO010715_12 0 0 0 -9\r\n",
      "pop_1 PO010715_17.1 0 0 0 -9\r\n",
      "pop_1 PO010715_19.1 0 0 0 -9\r\n",
      "pop_1 PO010715_27.1 0 0 0 -9\r\n"
     ]
    }
   ],
   "source": [
    "!head pcod-data/batch_8_filtered_bowtieACod_filteredMQ10.fam"
   ]
  },
  {
   "cell_type": "code",
   "execution_count": 69,
   "metadata": {},
   "outputs": [
    {
     "name": "stdout",
     "output_type": "stream",
     "text": [
      "1334 NA12144 0 0 1 -9\r\n",
      "1334 NA12145 0 0 2 -9\r\n",
      "1334 NA12146 0 0 1 -9\r\n",
      "1334 NA12239 0 0 2 -9\r\n",
      "1340 NA06994 0 0 1 -9\r\n",
      "1340 NA07000 0 0 2 -9\r\n",
      "1340 NA07022 0 0 1 -9\r\n",
      "1340 NA07056 0 0 2 -9\r\n",
      "1341 NA07034 0 0 1 -9\r\n",
      "1341 NA07055 0 0 2 -9\r\n"
     ]
    }
   ],
   "source": [
    "!head data/CEU_gen.fam"
   ]
  },
  {
   "cell_type": "code",
   "execution_count": 70,
   "metadata": {},
   "outputs": [
    {
     "name": "stdout",
     "output_type": "stream",
     "text": [
      "1454 NA12812 0 0 1 -9\r\n",
      "1454 NA12813 0 0 2 -9\r\n",
      "1454 NA12814 0 0 1 -9\r\n",
      "1454 NA12815 0 0 2 -9\r\n",
      "1459 NA12872 0 0 1 -9\r\n",
      "1459 NA12873 0 0 2 -9\r\n",
      "1459 NA12874 0 0 1 -9\r\n",
      "1459 NA12875 0 0 2 -9\r\n",
      "1463 NA12891 0 0 1 -9\r\n",
      "1463 NA12892 0 0 2 -9\r\n"
     ]
    }
   ],
   "source": [
    "!tail data/CEU_gen.fam"
   ]
  },
  {
   "cell_type": "code",
   "execution_count": 71,
   "metadata": {},
   "outputs": [
    {
     "name": "stdout",
     "output_type": "stream",
     "text": [
      "pop_9 GEO020414_29 0 0 0 -9\r\n",
      "pop_9 GEO020414_3 0 0 0 -9\r\n",
      "pop_9 GEO020414_4 0 0 0 -9\r\n",
      "pop_9 GEO020414_5 0 0 0 -9\r\n",
      "pop_9 GEO020414_6 0 0 0 -9\r\n",
      "pop_9 GEO020414_7 0 0 0 -9\r\n",
      "pop_9 GEO020414_8_300 0 0 0 -9\r\n",
      "pop_9 GEO020414_9_300 0 0 0 -9\r\n",
      "pop_9 GEO020414_10_2 0 0 0 -9\r\n",
      "pop_9 GEO020414_30_2 0 0 0 -9\r\n"
     ]
    }
   ],
   "source": [
    "!tail pcod-data/batch_8_filtered_bowtieACod_filteredMQ10.fam"
   ]
  },
  {
   "cell_type": "code",
   "execution_count": 72,
   "metadata": {},
   "outputs": [
    {
     "name": "stdout",
     "output_type": "stream",
     "text": [
      "     LG14       25158945    13038      LG14       25213698   4621     0.279681 \r\n",
      "     LG12       25184524    20174      LG12       25185115   15320     0.204061 \r\n",
      "     LG01       26278787    2605      LG01       26278925   9711     0.23956 \r\n",
      "     LG14       27100815    8639      LG14       27100953   19422     0.833626 \r\n",
      "     LG16       27127755    19437      LG16       27148342   5025     0.380364 \r\n",
      "     LG11       27820982    7051      LG11       27865746   17576     0.587917 \r\n",
      "     LG16       30500179    18479      LG16       30608740   17384     0.562002 \r\n",
      "     LG16       30901231    13014      LG16       30927774   18833     0.302697 \r\n",
      "     LG04       33598813    4090      LG04       33904405   24018     0.357029 \r\n",
      "     LG04       33904543    8889      LG04       33941419   23250     0.534267 \r\n"
     ]
    }
   ],
   "source": [
    "!tail pcod-data/batch_8_filtered_bowtieACod_filteredMQ10.ld"
   ]
  },
  {
   "cell_type": "code",
   "execution_count": 73,
   "metadata": {},
   "outputs": [
    {
     "name": "stdout",
     "output_type": "stream",
     "text": [
      "    22     49436079       75.1956     22     49450558       75.2077     0.164617 \r\n",
      "    22     49436079       75.1956     22     49487182       75.2272   0.00178042 \r\n",
      "    22     49436079       75.1956     22     49503799       75.2924    0.0139598 \r\n",
      "    22     49436079       75.1956     22     49522492        75.338     0.016777 \r\n",
      "    22     49450558       75.2077     22     49487182       75.2272     0.452347 \r\n",
      "    22     49450558       75.2077     22     49503799       75.2924    0.0114409 \r\n",
      "    22     49450558       75.2077     22     49522492        75.338   0.00543686 \r\n",
      "    22     49487182       75.2272     22     49503799       75.2924     0.132833 \r\n",
      "    22     49487182       75.2272     22     49522492        75.338    0.0307692 \r\n",
      "    22     49503799       75.2924     22     49522492        75.338    0.0294198 \r\n"
     ]
    }
   ],
   "source": [
    "!tail data/CEU_gen.ld"
   ]
  },
  {
   "cell_type": "markdown",
   "metadata": {},
   "source": [
    "<br>\n",
    "<br>\n",
    "### Replacing linkage groups with chromosomes\n",
    "\n",
    "It's possible that `Nestimate` won't work with the linkage groups in PCod, and needs a human chromosome number to run. \n",
    "\n",
    "I'm going to create a new `ld` file that renames the PCod linkage groups, along with a `.txt` file that correlates the two. \n"
   ]
  },
  {
   "cell_type": "code",
   "execution_count": 74,
   "metadata": {},
   "outputs": [],
   "source": [
    "# get a list of all scaffold / lg names\n",
    "infile = open(\"pcod-data/batch_8_filtered_bowtieACod_filteredMQ10_ne_input_AT.map\", \"r\")\n",
    "lg_scaffolds = []\n",
    "for line in infile:\n",
    "    lg = line.strip().split()[0]\n",
    "    if lg not in lg_scaffolds:\n",
    "        lg_scaffolds.append(lg)\n",
    "infile.close()"
   ]
  },
  {
   "cell_type": "code",
   "execution_count": 75,
   "metadata": {},
   "outputs": [
    {
     "name": "stdout",
     "output_type": "stream",
     "text": [
      "51\n"
     ]
    }
   ],
   "source": [
    "print len(lg_scaffolds)"
   ]
  },
  {
   "cell_type": "code",
   "execution_count": 76,
   "metadata": {
    "collapsed": true
   },
   "outputs": [],
   "source": [
    "# create dictionary and file that lists lg/ scaffold and corresponding chromosome #\n",
    "outfile = open(\"PCod_lg_scaffold_dictionary.txt\", \"w\")\n",
    "outfile.write(\"PCod_lg_scaffold\\tChr_assigned\\n\")\n",
    "lg_scaffolds_dict = {}\n",
    "for i in range(0, len(lg_scaffolds)):\n",
    "    outfile.write(lg_scaffolds[i] + \"\\t\" + str(i + 1) + \"\\n\")\n",
    "    lg_scaffolds_dict[lg_scaffolds[i]] = i + 1\n",
    "outfile.close()\n",
    "    "
   ]
  },
  {
   "cell_type": "code",
   "execution_count": 77,
   "metadata": {},
   "outputs": [],
   "source": [
    "# replace lg / scaffold with corresponding chromosome number in `.ld` file\n",
    "infile = open(\"pcod-data/batch_8_filtered_bowtieACod_filteredMQ10.ld\", \"r\")\n",
    "outfile = open(\"pcod-data/batch_8_filtered_bowtieACod_filteredMQ10_chr.ld\", \"w\")\n",
    "\n",
    "header = infile.readline()\n",
    "outfile.write(header)\n",
    "for line in infile:\n",
    "    linelist = line.strip().split()\n",
    "    chromA = lg_scaffolds_dict[linelist[0]]\n",
    "    chromB = lg_scaffolds_dict[linelist[3]]\n",
    "    linelist[0] = str(chromA)\n",
    "    linelist[3] = str(chromB)\n",
    "    outfile.write(\"\\t\".join(linelist) + \"\\n\")\n",
    "infile.close()\n",
    "outfile.close()"
   ]
  },
  {
   "cell_type": "code",
   "execution_count": 78,
   "metadata": {},
   "outputs": [
    {
     "name": "stdout",
     "output_type": "stream",
     "text": [
      " CHR_A         BP_A   SNP_A  CHR_B         BP_B   SNP_B           R2 \r\n",
      "28\t129609\t4135\t28\t142208\t21046\t0.219354\r\n",
      "12\t996100\t6562\t12\t996231\t17935\t0.850749\r\n",
      "20\t1317465\t6903\t20\t1317603\t10478\t0.249635\r\n",
      "25\t1323218\t12353\t25\t1333072\t6576\t0.824104\r\n",
      "7\t1535383\t3518\t7\t1535521\t3602\t0.655982\r\n",
      "7\t1535383\t3518\t7\t1540993\t23912\t0.529246\r\n",
      "7\t1535521\t3602\t7\t1540993\t23912\t0.467432\r\n",
      "18\t1610166\t16064\t18\t1610306\t9250\t0.524646\r\n",
      "9\t1866533\t16398\t9\t1896621\t15111\t0.557202\r\n"
     ]
    }
   ],
   "source": [
    "!head pcod-data/batch_8_filtered_bowtieACod_filteredMQ10_chr.ld"
   ]
  },
  {
   "cell_type": "code",
   "execution_count": 79,
   "metadata": {},
   "outputs": [
    {
     "name": "stdout",
     "output_type": "stream",
     "text": [
      " CHR_A         BP_A         SNP_A  CHR_B         BP_B         SNP_B           R2 \r\n",
      "     1       993492      0.494952      1      1087198      0.640116    0.0103293 \r\n",
      "     1       993492      0.494952      1      1120590      0.811253  0.000470105 \r\n",
      "     1       993492      0.494952      1      1145994      0.831152    0.0414282 \r\n",
      "     1       993492      0.494952      1      1148494      0.833377   0.00544144 \r\n",
      "     1       993492      0.494952      1      1201155      0.875979     0.055172 \r\n",
      "     1       993492      0.494952      1      1468016        1.0544  0.000109858 \r\n",
      "     1       993492      0.494952      1      1490804       1.05928   0.00202653 \r\n",
      "     1      1087198      0.640116      1      1120590      0.811253    0.0249491 \r\n",
      "     1      1087198      0.640116      1      1145994      0.831152    0.0577768 \r\n"
     ]
    }
   ],
   "source": [
    "!head data/CEU_gen.ld"
   ]
  },
  {
   "cell_type": "code",
   "execution_count": 80,
   "metadata": {
    "collapsed": true
   },
   "outputs": [],
   "source": [
    "infile = open(\"data/CEU_gen.ld\", \"r\")\n",
    "outfile = open(\"data/CEU_gen_subset.ld\", \"w\")\n",
    "i = 1000\n",
    "while i < 1000:\n",
    "    outfile.write(infile.readline())\n",
    "    i += 1\n",
    "infile.close()\n",
    "outfile.close()"
   ]
  },
  {
   "cell_type": "code",
   "execution_count": 81,
   "metadata": {
    "collapsed": true
   },
   "outputs": [],
   "source": [
    "!head -n 1000 data/CEU_gen.ld >> data/CEU_gen_subset.ld"
   ]
  },
  {
   "cell_type": "markdown",
   "metadata": {},
   "source": [
    "#### add only one space between entries on line"
   ]
  },
  {
   "cell_type": "code",
   "execution_count": 82,
   "metadata": {
    "collapsed": true
   },
   "outputs": [],
   "source": [
    "# use the dictionary to add in appropriate contig names for new `.ld` file\n",
    "infile = open(\"plink.ld\", \"r\")\n",
    "outfile = open(\"pcod-data/batch_8_filtered_bowtieACod_filteredMQ10_spaces.ld\", \"w\")\n",
    "\n",
    "header = infile.readline()\n",
    "outfile.write(header)\n",
    "\n",
    "for line in infile:\n",
    "    linelist = line.strip().split()\n",
    "    locusA = linelist[2]\n",
    "    locusB = linelist[5]\n",
    "    chromA = locus_contig_dict[locusA]\n",
    "    chromB = locus_contig_dict[locusB]\n",
    "    linelist[0] = chromA\n",
    "    linelist[3] = chromB\n",
    "    outfile.write(\" \".join(linelist) + \" \\n\")\n",
    "infile.close()\n",
    "outfile.close()"
   ]
  },
  {
   "cell_type": "markdown",
   "metadata": {},
   "source": [
    "#### change tutorial file to tabs and rerun tutorial"
   ]
  },
  {
   "cell_type": "code",
   "execution_count": 100,
   "metadata": {},
   "outputs": [],
   "source": [
    "infile = open(\"data/CEU_gen.ld\", \"r\")\n",
    "outfile = open(\"data/CEU_gen_tabs.ld\", \"w\")\n",
    "\n",
    "for line in infile:\n",
    "    linelist = line.strip().split()\n",
    "    outfile.write(\"\\t\".join(linelist))\n",
    "infile.close()\n",
    "outfile.close()"
   ]
  },
  {
   "cell_type": "code",
   "execution_count": null,
   "metadata": {
    "collapsed": true
   },
   "outputs": [],
   "source": []
  }
 ],
 "metadata": {
  "kernelspec": {
   "display_name": "Python 2",
   "language": "python",
   "name": "python2"
  },
  "language_info": {
   "codemirror_mode": {
    "name": "ipython",
    "version": 2
   },
   "file_extension": ".py",
   "mimetype": "text/x-python",
   "name": "python",
   "nbconvert_exporter": "python",
   "pygments_lexer": "ipython2",
   "version": "2.7.13"
  }
 },
 "nbformat": 4,
 "nbformat_minor": 2
}
