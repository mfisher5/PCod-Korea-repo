{
 "cells": [
  {
   "cell_type": "markdown",
   "metadata": {},
   "source": [
    "## Exploring potential migrants\n",
    "\n",
    "This notebook takes a closer look at the individuals that clustered with different populations than those at their sampling sites, specifically looking into the single individual from Jukbyeon that clusters with both East and West, as well as the individuals from the southern sampling sites that cluster with the west. \n",
    "\n",
    "\n",
    "<br>\n",
    "\n",
    "The DAPC: \n",
    "![img](https://github.com/mfisher5/PCod-Korea-repo/blob/master/analyses/dapc_noreps.png?raw=true)\n",
    "\n",
    "\n",
    "\n",
    "\n",
    "<br>\n",
    "<br>\n",
    "\n",
    "### Identifying individuals in question: \n",
    "\n",
    "\n",
    "I used the LD coordinates to determine which individuals were not clustering with their expected population. \n",
    "\n",
    "[In R](https://github.com/mfisher5/PCod-Korea-repo/blob/master/analyses/DAPC_script_Pcod_4-5.R), I used the code\n",
    "\n",
    "`dapc_noreps$in.coord` \n",
    "\n",
    "to produce LD coordinates for every individual. I then copied this into excel, and used conditional formatting within sampling sites to identify outliers: \n",
    "\n",
    "![img_excel_screenshot]()\n",
    "\n",
    "The following individuals appear to be outliers: \n",
    "\n",
    "\n",
    "|Extract Plate | Extract Well | RAD sublibrary | RAD well | RAD lane |  Dried? |\n",
    "--------------|:-------------:|:------------:|:--------------:|:--------:|:--------:|\n",
    "PO010715_10.1 |       1       |       E12    |      4         |          |     1    |No       \n",
    "PO020515_06   |       1       |       B5     |     11         |          |     2    |Yes       \n",
    "PO020515_14   |       1       |       A7     |      5         |          |     1    |Yes       \n",
    "PO020515_17   |      1        |        E6    |       4        |          |      1   |Yes     \n",
    "GE012315_04.1 |       2       |        A7    |          3     |          |    1     |No    \n",
    "GEO020414_6   |        2      |      B12     |      9         |          |    2     |No         \n",
    "NA021015_06.1 |     1         |        E3    |        4       |          |     1    |Yes        \n",
    "NA021015_13.1* |     1         |       E7     |         2      |       B3 |   1      |No         \n",
    "NA021015_30   |        1      |       F4     |         12     |          |     2    |Yes\n",
    "\n",
    "\n",
    "<br>\n",
    "*I made a note in my notebook here that there appeared to be eggs on the tissue"
   ]
  },
  {
   "cell_type": "code",
   "execution_count": 1,
   "metadata": {
    "collapsed": false
   },
   "outputs": [
    {
     "data": {
      "text/plain": [
       "u'/mnt/hgfs/Pacific cod/DataAnalysis/PCod-Korea-repo/notebooks'"
      ]
     },
     "execution_count": 1,
     "metadata": {},
     "output_type": "execute_result"
    }
   ],
   "source": [
    "pwd"
   ]
  },
  {
   "cell_type": "code",
   "execution_count": 2,
   "metadata": {
    "collapsed": false
   },
   "outputs": [
    {
     "name": "stdout",
     "output_type": "stream",
     "text": [
      "/mnt/hgfs/Pacific cod/DataAnalysis/PCod-Korea-repo/scripts\n"
     ]
    }
   ],
   "source": [
    "cd ../scripts"
   ]
  },
  {
   "cell_type": "code",
   "execution_count": null,
   "metadata": {
    "collapsed": true
   },
   "outputs": [],
   "source": []
  }
 ],
 "metadata": {
  "anaconda-cloud": {},
  "kernelspec": {
   "display_name": "Python [default]",
   "language": "python",
   "name": "python2"
  },
  "language_info": {
   "codemirror_mode": {
    "name": "ipython",
    "version": 2
   },
   "file_extension": ".py",
   "mimetype": "text/x-python",
   "name": "python",
   "nbconvert_exporter": "python",
   "pygments_lexer": "ipython2",
   "version": "2.7.12"
  }
 },
 "nbformat": 4,
 "nbformat_minor": 1
}
