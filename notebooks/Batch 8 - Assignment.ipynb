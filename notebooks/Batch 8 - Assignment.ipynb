{
 "cells": [
  {
   "cell_type": "markdown",
   "metadata": {},
   "source": [
    "## Assignment\n",
    "\n",
    "<br>\n",
    "\n",
    "### Programs\n",
    "I use GSIsim with Assigner (in R, Ubuntu VM). Installation instructions can be found...\n",
    "\n",
    "1. [RStudio (Ubuntu)](https://www.r-bloggers.com/how-to-install-r-on-linux-ubuntu-16-04-xenial-xerus/) \n",
    "2. [GSIsim]()https://github.com/eriqande/gsi_sim/blob/master/README.md (Downloaded on Windows in shared Ubuntu folder so that I could use function `git`, then compiled on Linux)\n",
    "3. Assigner (R) -- see [this R script]()"
   ]
  },
  {
   "cell_type": "code",
   "execution_count": null,
   "metadata": {
    "collapsed": true
   },
   "outputs": [],
   "source": []
  }
 ],
 "metadata": {
  "kernelspec": {
   "display_name": "Python 2",
   "language": "python",
   "name": "python2"
  },
  "language_info": {
   "codemirror_mode": {
    "name": "ipython",
    "version": 2
   },
   "file_extension": ".py",
   "mimetype": "text/x-python",
   "name": "python",
   "nbconvert_exporter": "python",
   "pygments_lexer": "ipython2",
   "version": "2.7.13"
  }
 },
 "nbformat": 4,
 "nbformat_minor": 2
}
